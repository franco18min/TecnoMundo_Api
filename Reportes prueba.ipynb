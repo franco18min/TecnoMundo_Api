{
 "cells": [
  {
   "metadata": {
    "ExecuteTime": {
     "end_time": "2025-04-17T14:03:47.969448Z",
     "start_time": "2025-04-17T14:03:47.964479Z"
    }
   },
   "cell_type": "code",
   "source": "import pandas as pd",
   "id": "d393aeb8df57584d",
   "outputs": [],
   "execution_count": 3
  },
  {
   "metadata": {
    "ExecuteTime": {
     "end_time": "2025-04-17T14:03:48.483051Z",
     "start_time": "2025-04-17T14:03:47.994924Z"
    }
   },
   "cell_type": "code",
   "source": [
    "#leer el archivo archive/FEB-10MZO.xlsx\n",
    "df = pd.read_csv(\"FEB-10MZO FINAL.csv\")"
   ],
   "id": "6cdce59b38de28d2",
   "outputs": [],
   "execution_count": 4
  },
  {
   "metadata": {
    "ExecuteTime": {
     "end_time": "2025-04-17T14:07:44.085123Z",
     "start_time": "2025-04-17T14:07:44.070010Z"
    }
   },
   "cell_type": "code",
   "source": "df.head()",
   "id": "9359480e295e52a5",
   "outputs": [
    {
     "data": {
      "text/plain": [
       "     Código                                Nombre del Producto  Cantidad  \\\n",
       "0  AD706303         ADAPTADOR - DISPLAY PORT DP A VGA SM-C7822         1   \n",
       "1  AD706303         ADAPTADOR - DISPLAY PORT DP A VGA SM-C7822         1   \n",
       "2    AD7084  ADAPTADOR ALARGUE HDMI HEMBRA A HDMI HEMBRA CB...         1   \n",
       "3   DI11611  ADAPTADOR CARRY CASE PARA DISCO SSD M.2 NVME -...         1   \n",
       "4    AD7083  ADAPTADOR CONVERTIDOR LAN USB A RJ45 TP-LINK T...         1   \n",
       "\n",
       "   Categoria  \n",
       "0  Adaptador  \n",
       "1  Adaptador  \n",
       "2  Adaptador  \n",
       "3  Adaptador  \n",
       "4  Adaptador  "
      ],
      "text/html": [
       "<div>\n",
       "<style scoped>\n",
       "    .dataframe tbody tr th:only-of-type {\n",
       "        vertical-align: middle;\n",
       "    }\n",
       "\n",
       "    .dataframe tbody tr th {\n",
       "        vertical-align: top;\n",
       "    }\n",
       "\n",
       "    .dataframe thead th {\n",
       "        text-align: right;\n",
       "    }\n",
       "</style>\n",
       "<table border=\"1\" class=\"dataframe\">\n",
       "  <thead>\n",
       "    <tr style=\"text-align: right;\">\n",
       "      <th></th>\n",
       "      <th>Código</th>\n",
       "      <th>Nombre del Producto</th>\n",
       "      <th>Cantidad</th>\n",
       "      <th>Categoria</th>\n",
       "    </tr>\n",
       "  </thead>\n",
       "  <tbody>\n",
       "    <tr>\n",
       "      <th>0</th>\n",
       "      <td>AD706303</td>\n",
       "      <td>ADAPTADOR - DISPLAY PORT DP A VGA SM-C7822</td>\n",
       "      <td>1</td>\n",
       "      <td>Adaptador</td>\n",
       "    </tr>\n",
       "    <tr>\n",
       "      <th>1</th>\n",
       "      <td>AD706303</td>\n",
       "      <td>ADAPTADOR - DISPLAY PORT DP A VGA SM-C7822</td>\n",
       "      <td>1</td>\n",
       "      <td>Adaptador</td>\n",
       "    </tr>\n",
       "    <tr>\n",
       "      <th>2</th>\n",
       "      <td>AD7084</td>\n",
       "      <td>ADAPTADOR ALARGUE HDMI HEMBRA A HDMI HEMBRA CB...</td>\n",
       "      <td>1</td>\n",
       "      <td>Adaptador</td>\n",
       "    </tr>\n",
       "    <tr>\n",
       "      <th>3</th>\n",
       "      <td>DI11611</td>\n",
       "      <td>ADAPTADOR CARRY CASE PARA DISCO SSD M.2 NVME -...</td>\n",
       "      <td>1</td>\n",
       "      <td>Adaptador</td>\n",
       "    </tr>\n",
       "    <tr>\n",
       "      <th>4</th>\n",
       "      <td>AD7083</td>\n",
       "      <td>ADAPTADOR CONVERTIDOR LAN USB A RJ45 TP-LINK T...</td>\n",
       "      <td>1</td>\n",
       "      <td>Adaptador</td>\n",
       "    </tr>\n",
       "  </tbody>\n",
       "</table>\n",
       "</div>"
      ]
     },
     "execution_count": 10,
     "metadata": {},
     "output_type": "execute_result"
    }
   ],
   "execution_count": 10
  },
  {
   "metadata": {
    "ExecuteTime": {
     "end_time": "2025-04-17T14:03:49.280492Z",
     "start_time": "2025-04-17T14:03:49.256323Z"
    }
   },
   "cell_type": "code",
   "source": [
    "# Drop the specified columns\n",
    "df = df.drop(columns=[\"Comprobante Nº\", 'Precio Un.', 'Ganancia', 'Subtotal', \"Fecha\"])"
   ],
   "id": "551cafbedbbbe7c6",
   "outputs": [],
   "execution_count": 6
  },
  {
   "metadata": {
    "ExecuteTime": {
     "end_time": "2025-04-17T14:03:50.293984Z",
     "start_time": "2025-04-17T14:03:49.561252Z"
    }
   },
   "cell_type": "code",
   "source": [
    "\n",
    "# Group by 'Codigo' and sum the values in 'cantidad'\n",
    "df_unified = df.groupby(\"Código\", as_index=False).agg({\n",
    "    \"Cantidad\": \"sum\",\n",
    "    \"Nombre del Producto\": \"first\",\n",
    "    \"Categoria\": \"first\"\n",
    "})"
   ],
   "id": "eb46d170b2002a3e",
   "outputs": [],
   "execution_count": 7
  },
  {
   "metadata": {
    "ExecuteTime": {
     "end_time": "2025-04-17T14:03:50.581586Z",
     "start_time": "2025-04-17T14:03:50.542695Z"
    }
   },
   "cell_type": "code",
   "source": "df_unified",
   "id": "3d72b4fb0efd17a",
   "outputs": [
    {
     "data": {
      "text/plain": [
       "      Código  Cantidad                                Nombre del Producto  \\\n",
       "0     09-053         1  ADAPTADOR TIPO C A TIPO C Y AUDIO 3,5MM HEMBRA...   \n",
       "1     09-057         1  CONECTOR USB TIPO C MACHO A AUDIO 3.5 HEMBRA /...   \n",
       "2     1TJ09A         1  IMPRESORA A COLOR MULTIFUNCION HP SMART TANK 5...   \n",
       "3          2         1                                CABLE PLUG 3.5 3MTS   \n",
       "4       4800         1  LAMPARA PROYECTOR SUNSET C/REMOTO USB 16 COLOR...   \n",
       "..       ...       ...                                                ...   \n",
       "659     VR02         1  LENTES DE REALIDAD VIRTUAL 3D VR BOX 2.0 IMAN ...   \n",
       "660    VT104         2           FILM GLASS 9D SAM A20 / A30 / A30S / A32   \n",
       "661    VT118         1  FILM GLASS 9D  / E7 PLUS / A22 5G / A02S / ONE...   \n",
       "662  adan005         2  ADAPTADOR HEADPHONE JACK IPHONE 7 LIGHTNING A ...   \n",
       "663   rl728a         2                KIT 5 DESTORNILLADORES CELUS RL728A   \n",
       "\n",
       "           Categoria  \n",
       "0          Adaptador  \n",
       "1              Malla  \n",
       "2       Conectividad  \n",
       "3              Cable  \n",
       "4              Luces  \n",
       "..               ...  \n",
       "659        Accesorio  \n",
       "660  Vidrio Templado  \n",
       "661  Vidrio Templado  \n",
       "662        Adaptador  \n",
       "663      Herramienta  \n",
       "\n",
       "[664 rows x 4 columns]"
      ],
      "text/html": [
       "<div>\n",
       "<style scoped>\n",
       "    .dataframe tbody tr th:only-of-type {\n",
       "        vertical-align: middle;\n",
       "    }\n",
       "\n",
       "    .dataframe tbody tr th {\n",
       "        vertical-align: top;\n",
       "    }\n",
       "\n",
       "    .dataframe thead th {\n",
       "        text-align: right;\n",
       "    }\n",
       "</style>\n",
       "<table border=\"1\" class=\"dataframe\">\n",
       "  <thead>\n",
       "    <tr style=\"text-align: right;\">\n",
       "      <th></th>\n",
       "      <th>Código</th>\n",
       "      <th>Cantidad</th>\n",
       "      <th>Nombre del Producto</th>\n",
       "      <th>Categoria</th>\n",
       "    </tr>\n",
       "  </thead>\n",
       "  <tbody>\n",
       "    <tr>\n",
       "      <th>0</th>\n",
       "      <td>09-053</td>\n",
       "      <td>1</td>\n",
       "      <td>ADAPTADOR TIPO C A TIPO C Y AUDIO 3,5MM HEMBRA...</td>\n",
       "      <td>Adaptador</td>\n",
       "    </tr>\n",
       "    <tr>\n",
       "      <th>1</th>\n",
       "      <td>09-057</td>\n",
       "      <td>1</td>\n",
       "      <td>CONECTOR USB TIPO C MACHO A AUDIO 3.5 HEMBRA /...</td>\n",
       "      <td>Malla</td>\n",
       "    </tr>\n",
       "    <tr>\n",
       "      <th>2</th>\n",
       "      <td>1TJ09A</td>\n",
       "      <td>1</td>\n",
       "      <td>IMPRESORA A COLOR MULTIFUNCION HP SMART TANK 5...</td>\n",
       "      <td>Conectividad</td>\n",
       "    </tr>\n",
       "    <tr>\n",
       "      <th>3</th>\n",
       "      <td>2</td>\n",
       "      <td>1</td>\n",
       "      <td>CABLE PLUG 3.5 3MTS</td>\n",
       "      <td>Cable</td>\n",
       "    </tr>\n",
       "    <tr>\n",
       "      <th>4</th>\n",
       "      <td>4800</td>\n",
       "      <td>1</td>\n",
       "      <td>LAMPARA PROYECTOR SUNSET C/REMOTO USB 16 COLOR...</td>\n",
       "      <td>Luces</td>\n",
       "    </tr>\n",
       "    <tr>\n",
       "      <th>...</th>\n",
       "      <td>...</td>\n",
       "      <td>...</td>\n",
       "      <td>...</td>\n",
       "      <td>...</td>\n",
       "    </tr>\n",
       "    <tr>\n",
       "      <th>659</th>\n",
       "      <td>VR02</td>\n",
       "      <td>1</td>\n",
       "      <td>LENTES DE REALIDAD VIRTUAL 3D VR BOX 2.0 IMAN ...</td>\n",
       "      <td>Accesorio</td>\n",
       "    </tr>\n",
       "    <tr>\n",
       "      <th>660</th>\n",
       "      <td>VT104</td>\n",
       "      <td>2</td>\n",
       "      <td>FILM GLASS 9D SAM A20 / A30 / A30S / A32</td>\n",
       "      <td>Vidrio Templado</td>\n",
       "    </tr>\n",
       "    <tr>\n",
       "      <th>661</th>\n",
       "      <td>VT118</td>\n",
       "      <td>1</td>\n",
       "      <td>FILM GLASS 9D  / E7 PLUS / A22 5G / A02S / ONE...</td>\n",
       "      <td>Vidrio Templado</td>\n",
       "    </tr>\n",
       "    <tr>\n",
       "      <th>662</th>\n",
       "      <td>adan005</td>\n",
       "      <td>2</td>\n",
       "      <td>ADAPTADOR HEADPHONE JACK IPHONE 7 LIGHTNING A ...</td>\n",
       "      <td>Adaptador</td>\n",
       "    </tr>\n",
       "    <tr>\n",
       "      <th>663</th>\n",
       "      <td>rl728a</td>\n",
       "      <td>2</td>\n",
       "      <td>KIT 5 DESTORNILLADORES CELUS RL728A</td>\n",
       "      <td>Herramienta</td>\n",
       "    </tr>\n",
       "  </tbody>\n",
       "</table>\n",
       "<p>664 rows × 4 columns</p>\n",
       "</div>"
      ]
     },
     "execution_count": 8,
     "metadata": {},
     "output_type": "execute_result"
    }
   ],
   "execution_count": 8
  },
  {
   "metadata": {
    "ExecuteTime": {
     "end_time": "2025-04-17T14:03:51.245017Z",
     "start_time": "2025-04-17T14:03:51.232738Z"
    }
   },
   "cell_type": "code",
   "source": [
    "# Guardar el DataFrame modificado como CSV\n",
    "df_unified.to_csv(\"FEB-10MZO VENTAS.csv\", index=False)"
   ],
   "id": "1c6de3376020aa24",
   "outputs": [],
   "execution_count": 9
  },
  {
   "metadata": {
    "ExecuteTime": {
     "end_time": "2025-04-17T14:03:52.218110Z",
     "start_time": "2025-04-17T14:03:52.213631Z"
    }
   },
   "cell_type": "code",
   "source": "",
   "id": "f79f0deed8f7f849",
   "outputs": [],
   "execution_count": null
  }
 ],
 "metadata": {
  "kernelspec": {
   "display_name": "Python 3",
   "language": "python",
   "name": "python3"
  },
  "language_info": {
   "codemirror_mode": {
    "name": "ipython",
    "version": 2
   },
   "file_extension": ".py",
   "mimetype": "text/x-python",
   "name": "python",
   "nbconvert_exporter": "python",
   "pygments_lexer": "ipython2",
   "version": "2.7.6"
  }
 },
 "nbformat": 4,
 "nbformat_minor": 5
}
