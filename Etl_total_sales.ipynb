{
 "cells": [
  {
   "metadata": {
    "ExecuteTime": {
     "end_time": "2025-06-27T13:28:56.846945Z",
     "start_time": "2025-06-27T13:28:56.379521Z"
    }
   },
   "cell_type": "code",
   "source": [
    "import pandas as pd\n",
    "import os"
   ],
   "id": "d393aeb8df57584d",
   "outputs": [],
   "execution_count": 2
  },
  {
   "metadata": {
    "ExecuteTime": {
     "end_time": "2025-06-27T13:28:58.262304Z",
     "start_time": "2025-06-27T13:28:57.459558Z"
    }
   },
   "cell_type": "code",
   "source": [
    "#leer archivo excel como df en la carpeta archive_processed\n",
    "df = pd.read_excel(os.path.join('archive_processed', 'Reporte de ventas por articulos-2_processed.xlsx'))"
   ],
   "id": "44e197c2954c4c1c",
   "outputs": [],
   "execution_count": 3
  }
 ],
 "metadata": {
  "kernelspec": {
   "display_name": "Python 3",
   "language": "python",
   "name": "python3"
  },
  "language_info": {
   "codemirror_mode": {
    "name": "ipython",
    "version": 2
   },
   "file_extension": ".py",
   "mimetype": "text/x-python",
   "name": "python",
   "nbconvert_exporter": "python",
   "pygments_lexer": "ipython2",
   "version": "2.7.6"
  }
 },
 "nbformat": 4,
 "nbformat_minor": 5
}
