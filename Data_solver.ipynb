{
 "cells": [
  {
   "metadata": {
    "ExecuteTime": {
     "end_time": "2025-06-30T14:45:08.701191Z",
     "start_time": "2025-06-30T14:45:08.658305Z"
    }
   },
   "cell_type": "code",
   "source": [
    "#librerias para pandas\n",
    "import pandas as pd"
   ],
   "id": "3b90e9c66f83772d",
   "outputs": [],
   "execution_count": 9
  },
  {
   "cell_type": "code",
   "id": "initial_id",
   "metadata": {
    "collapsed": true,
    "ExecuteTime": {
     "end_time": "2025-06-30T14:45:09.812225Z",
     "start_time": "2025-06-30T14:45:08.792759Z"
    }
   },
   "source": [
    "# leer archivo archive_processed/Reporte de ventas por articulos-2_processed.xlsx como df\n",
    "df = pd.read_excel('archive_processed/Reporte de ventas por articulos-2_processed.xlsx')"
   ],
   "outputs": [],
   "execution_count": 10
  },
  {
   "metadata": {
    "ExecuteTime": {
     "end_time": "2025-06-30T14:45:09.871669Z",
     "start_time": "2025-06-30T14:45:09.851757Z"
    }
   },
   "cell_type": "code",
   "source": "df.head()",
   "id": "fe72b3354e3a777e",
   "outputs": [
    {
     "data": {
      "text/plain": [
       "        Fecha       Comprobante Nº    Código  \\\n",
       "0  06-06-2025    FB 00010 00003252  CA743130   \n",
       "1  07-05-2025  RM X 00010 00000208    SO5579   \n",
       "2  16-04-2025  RM X 00012 00004749    SO5579   \n",
       "3  23-05-2025    FB 00010 00003109    SO5579   \n",
       "4  13-05-2025  RM X 00010 00000235    SO5579   \n",
       "\n",
       "                             Nombre del Producto  Cantidad  Precio Un.  \\\n",
       "0        CABLE MALLA TIPO C DATOS 3.1A/CAB-41012         1        5000   \n",
       "1   SOPORTE CELULAR DE METAL 360 GRADOS/HD-71069         1        5000   \n",
       "2   SOPORTE CELULAR DE METAL 360 GRADOS/HD-71069         1        6000   \n",
       "3   SOPORTE CELULAR DE METAL 360 GRADOS/HD-71069         1        5000   \n",
       "4   SOPORTE CELULAR DE METAL 360 GRADOS/HD-71069         1        5000   \n",
       "\n",
       "   Ganancia  Subtotal  \n",
       "0      4999      5000  \n",
       "1      4999      5000  \n",
       "2      5999      6000  \n",
       "3      4999      5000  \n",
       "4      4999      5000  "
      ],
      "text/html": [
       "<div>\n",
       "<style scoped>\n",
       "    .dataframe tbody tr th:only-of-type {\n",
       "        vertical-align: middle;\n",
       "    }\n",
       "\n",
       "    .dataframe tbody tr th {\n",
       "        vertical-align: top;\n",
       "    }\n",
       "\n",
       "    .dataframe thead th {\n",
       "        text-align: right;\n",
       "    }\n",
       "</style>\n",
       "<table border=\"1\" class=\"dataframe\">\n",
       "  <thead>\n",
       "    <tr style=\"text-align: right;\">\n",
       "      <th></th>\n",
       "      <th>Fecha</th>\n",
       "      <th>Comprobante Nº</th>\n",
       "      <th>Código</th>\n",
       "      <th>Nombre del Producto</th>\n",
       "      <th>Cantidad</th>\n",
       "      <th>Precio Un.</th>\n",
       "      <th>Ganancia</th>\n",
       "      <th>Subtotal</th>\n",
       "    </tr>\n",
       "  </thead>\n",
       "  <tbody>\n",
       "    <tr>\n",
       "      <th>0</th>\n",
       "      <td>06-06-2025</td>\n",
       "      <td>FB 00010 00003252</td>\n",
       "      <td>CA743130</td>\n",
       "      <td>CABLE MALLA TIPO C DATOS 3.1A/CAB-41012</td>\n",
       "      <td>1</td>\n",
       "      <td>5000</td>\n",
       "      <td>4999</td>\n",
       "      <td>5000</td>\n",
       "    </tr>\n",
       "    <tr>\n",
       "      <th>1</th>\n",
       "      <td>07-05-2025</td>\n",
       "      <td>RM X 00010 00000208</td>\n",
       "      <td>SO5579</td>\n",
       "      <td>SOPORTE CELULAR DE METAL 360 GRADOS/HD-71069</td>\n",
       "      <td>1</td>\n",
       "      <td>5000</td>\n",
       "      <td>4999</td>\n",
       "      <td>5000</td>\n",
       "    </tr>\n",
       "    <tr>\n",
       "      <th>2</th>\n",
       "      <td>16-04-2025</td>\n",
       "      <td>RM X 00012 00004749</td>\n",
       "      <td>SO5579</td>\n",
       "      <td>SOPORTE CELULAR DE METAL 360 GRADOS/HD-71069</td>\n",
       "      <td>1</td>\n",
       "      <td>6000</td>\n",
       "      <td>5999</td>\n",
       "      <td>6000</td>\n",
       "    </tr>\n",
       "    <tr>\n",
       "      <th>3</th>\n",
       "      <td>23-05-2025</td>\n",
       "      <td>FB 00010 00003109</td>\n",
       "      <td>SO5579</td>\n",
       "      <td>SOPORTE CELULAR DE METAL 360 GRADOS/HD-71069</td>\n",
       "      <td>1</td>\n",
       "      <td>5000</td>\n",
       "      <td>4999</td>\n",
       "      <td>5000</td>\n",
       "    </tr>\n",
       "    <tr>\n",
       "      <th>4</th>\n",
       "      <td>13-05-2025</td>\n",
       "      <td>RM X 00010 00000235</td>\n",
       "      <td>SO5579</td>\n",
       "      <td>SOPORTE CELULAR DE METAL 360 GRADOS/HD-71069</td>\n",
       "      <td>1</td>\n",
       "      <td>5000</td>\n",
       "      <td>4999</td>\n",
       "      <td>5000</td>\n",
       "    </tr>\n",
       "  </tbody>\n",
       "</table>\n",
       "</div>"
      ]
     },
     "execution_count": 11,
     "metadata": {},
     "output_type": "execute_result"
    }
   ],
   "execution_count": 11
  },
  {
   "metadata": {
    "ExecuteTime": {
     "end_time": "2025-06-30T14:45:10.223432Z",
     "start_time": "2025-06-30T14:45:10.205095Z"
    }
   },
   "cell_type": "code",
   "source": [
    "#ver fila numero 5763 hasta la ultima fila\n",
    "df.iloc[5763:]"
   ],
   "id": "143d9adb635f3755",
   "outputs": [
    {
     "data": {
      "text/plain": [
       "           Fecha Comprobante Nº        Código Nombre del Producto  Cantidad  \\\n",
       "5763  01-01-1900   Sin registro  Sin registro        Sin registro         0   \n",
       "5764  01-01-1900   Sin registro  Sin registro        Sin registro         0   \n",
       "5765  01-01-1900       Totales:  Sin registro                6216         0   \n",
       "\n",
       "      Precio Un.   Ganancia   Subtotal  \n",
       "5763           0          0          0  \n",
       "5764           0          0          0  \n",
       "5765   139539491  140817483  133676742  "
      ],
      "text/html": [
       "<div>\n",
       "<style scoped>\n",
       "    .dataframe tbody tr th:only-of-type {\n",
       "        vertical-align: middle;\n",
       "    }\n",
       "\n",
       "    .dataframe tbody tr th {\n",
       "        vertical-align: top;\n",
       "    }\n",
       "\n",
       "    .dataframe thead th {\n",
       "        text-align: right;\n",
       "    }\n",
       "</style>\n",
       "<table border=\"1\" class=\"dataframe\">\n",
       "  <thead>\n",
       "    <tr style=\"text-align: right;\">\n",
       "      <th></th>\n",
       "      <th>Fecha</th>\n",
       "      <th>Comprobante Nº</th>\n",
       "      <th>Código</th>\n",
       "      <th>Nombre del Producto</th>\n",
       "      <th>Cantidad</th>\n",
       "      <th>Precio Un.</th>\n",
       "      <th>Ganancia</th>\n",
       "      <th>Subtotal</th>\n",
       "    </tr>\n",
       "  </thead>\n",
       "  <tbody>\n",
       "    <tr>\n",
       "      <th>5763</th>\n",
       "      <td>01-01-1900</td>\n",
       "      <td>Sin registro</td>\n",
       "      <td>Sin registro</td>\n",
       "      <td>Sin registro</td>\n",
       "      <td>0</td>\n",
       "      <td>0</td>\n",
       "      <td>0</td>\n",
       "      <td>0</td>\n",
       "    </tr>\n",
       "    <tr>\n",
       "      <th>5764</th>\n",
       "      <td>01-01-1900</td>\n",
       "      <td>Sin registro</td>\n",
       "      <td>Sin registro</td>\n",
       "      <td>Sin registro</td>\n",
       "      <td>0</td>\n",
       "      <td>0</td>\n",
       "      <td>0</td>\n",
       "      <td>0</td>\n",
       "    </tr>\n",
       "    <tr>\n",
       "      <th>5765</th>\n",
       "      <td>01-01-1900</td>\n",
       "      <td>Totales:</td>\n",
       "      <td>Sin registro</td>\n",
       "      <td>6216</td>\n",
       "      <td>0</td>\n",
       "      <td>139539491</td>\n",
       "      <td>140817483</td>\n",
       "      <td>133676742</td>\n",
       "    </tr>\n",
       "  </tbody>\n",
       "</table>\n",
       "</div>"
      ]
     },
     "execution_count": 12,
     "metadata": {},
     "output_type": "execute_result"
    }
   ],
   "execution_count": 12
  },
  {
   "metadata": {
    "ExecuteTime": {
     "end_time": "2025-06-30T14:46:10.595952Z",
     "start_time": "2025-06-30T14:46:10.589183Z"
    }
   },
   "cell_type": "code",
   "source": [
    "#eliminar estas filas\n",
    "df = df.drop(df.index[5763:])"
   ],
   "id": "46593a36ab101ca8",
   "outputs": [],
   "execution_count": 13
  },
  {
   "metadata": {
    "ExecuteTime": {
     "end_time": "2025-06-30T14:46:12.598516Z",
     "start_time": "2025-06-30T14:46:10.960859Z"
    }
   },
   "cell_type": "code",
   "source": [
    "#sobrescribir archivo archive_processed/Reporte de ventas por articulos-2_processed.xlsx\n",
    "df.to_excel('archive_processed/Reporte de ventas por articulos-2_processed.xlsx', index=False)"
   ],
   "id": "412bc9edbf9a7855",
   "outputs": [],
   "execution_count": 14
  },
  {
   "metadata": {
    "ExecuteTime": {
     "end_time": "2025-06-30T14:46:12.631379Z",
     "start_time": "2025-06-30T14:46:12.628256Z"
    }
   },
   "cell_type": "code",
   "source": "",
   "id": "6bfe35753ce9c952",
   "outputs": [],
   "execution_count": null
  }
 ],
 "metadata": {
  "kernelspec": {
   "display_name": "Python 3",
   "language": "python",
   "name": "python3"
  },
  "language_info": {
   "codemirror_mode": {
    "name": "ipython",
    "version": 2
   },
   "file_extension": ".py",
   "mimetype": "text/x-python",
   "name": "python",
   "nbconvert_exporter": "python",
   "pygments_lexer": "ipython2",
   "version": "2.7.6"
  }
 },
 "nbformat": 4,
 "nbformat_minor": 5
}
