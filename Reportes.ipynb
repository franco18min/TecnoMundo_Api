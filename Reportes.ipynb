{
 "cells": [
  {
   "metadata": {
    "ExecuteTime": {
     "end_time": "2024-12-27T16:04:36.181670Z",
     "start_time": "2024-12-27T16:04:36.177162Z"
    }
   },
   "cell_type": "code",
   "source": [
    "import pandas as pd\n",
    "import numpy as np\n",
    "import matplotlib.pyplot as plt\n",
    "from pytz.tzinfo import memorized_datetime\n",
    "from send2trash.win.legacy import convert_sh_file_opt_result"
   ],
   "id": "b6962d3910a18d80",
   "outputs": [],
   "execution_count": 267
  },
  {
   "cell_type": "code",
   "id": "initial_id",
   "metadata": {
    "collapsed": true,
    "ExecuteTime": {
     "end_time": "2024-12-27T16:04:36.775696Z",
     "start_time": "2024-12-27T16:04:36.272484Z"
    }
   },
   "source": [
    "#leer excel como dataframe\n",
    "df = pd.read_excel('Reporte de ventas por articulos.xlsx')"
   ],
   "outputs": [],
   "execution_count": 268
  },
  {
   "metadata": {
    "ExecuteTime": {
     "end_time": "2024-12-27T16:04:36.813833Z",
     "start_time": "2024-12-27T16:04:36.799013Z"
    }
   },
   "cell_type": "code",
   "source": "df.head()",
   "id": "144071355d37ff0c",
   "outputs": [
    {
     "data": {
      "text/plain": [
       "    Código                                Nombre del Producto  Cantidad  \\\n",
       "0  R124132  VIDRIO GLASS SAMSUNG  A02S / A03 / A03 CORE / ...      90.0   \n",
       "1   PI3017                       Pilas Boton 3 V Philco 2032       70.0   \n",
       "2    D1014  CABLE USB ONLY MOD48 / V8 / 3,1A BLANCO Y NEGR...      55.0   \n",
       "3       C6  Pin Carga Sam J7 pro / J7 prime / J5 prime / J...      54.0   \n",
       "4    SE966            SERVICIO TECNICO REVISION Y PRESUPUESTO      54.0   \n",
       "\n",
       "   Costo total       Ganancia  Ganancia prom. %  Venta total  \n",
       "0       120.80  356953.821171      2.955130e+05  357100.0000  \n",
       "1        32.20   73911.053000      2.295580e+05   73950.0150  \n",
       "2        35.29  155157.309500      4.396850e+05  155200.0104  \n",
       "3         1.17  138298.528473      1.214090e+12  142049.9997  \n",
       "4        12.42  653685.010642      5.263190e+11  653700.0000  "
      ],
      "text/html": [
       "<div>\n",
       "<style scoped>\n",
       "    .dataframe tbody tr th:only-of-type {\n",
       "        vertical-align: middle;\n",
       "    }\n",
       "\n",
       "    .dataframe tbody tr th {\n",
       "        vertical-align: top;\n",
       "    }\n",
       "\n",
       "    .dataframe thead th {\n",
       "        text-align: right;\n",
       "    }\n",
       "</style>\n",
       "<table border=\"1\" class=\"dataframe\">\n",
       "  <thead>\n",
       "    <tr style=\"text-align: right;\">\n",
       "      <th></th>\n",
       "      <th>Código</th>\n",
       "      <th>Nombre del Producto</th>\n",
       "      <th>Cantidad</th>\n",
       "      <th>Costo total</th>\n",
       "      <th>Ganancia</th>\n",
       "      <th>Ganancia prom. %</th>\n",
       "      <th>Venta total</th>\n",
       "    </tr>\n",
       "  </thead>\n",
       "  <tbody>\n",
       "    <tr>\n",
       "      <th>0</th>\n",
       "      <td>R124132</td>\n",
       "      <td>VIDRIO GLASS SAMSUNG  A02S / A03 / A03 CORE / ...</td>\n",
       "      <td>90.0</td>\n",
       "      <td>120.80</td>\n",
       "      <td>356953.821171</td>\n",
       "      <td>2.955130e+05</td>\n",
       "      <td>357100.0000</td>\n",
       "    </tr>\n",
       "    <tr>\n",
       "      <th>1</th>\n",
       "      <td>PI3017</td>\n",
       "      <td>Pilas Boton 3 V Philco 2032</td>\n",
       "      <td>70.0</td>\n",
       "      <td>32.20</td>\n",
       "      <td>73911.053000</td>\n",
       "      <td>2.295580e+05</td>\n",
       "      <td>73950.0150</td>\n",
       "    </tr>\n",
       "    <tr>\n",
       "      <th>2</th>\n",
       "      <td>D1014</td>\n",
       "      <td>CABLE USB ONLY MOD48 / V8 / 3,1A BLANCO Y NEGR...</td>\n",
       "      <td>55.0</td>\n",
       "      <td>35.29</td>\n",
       "      <td>155157.309500</td>\n",
       "      <td>4.396850e+05</td>\n",
       "      <td>155200.0104</td>\n",
       "    </tr>\n",
       "    <tr>\n",
       "      <th>3</th>\n",
       "      <td>C6</td>\n",
       "      <td>Pin Carga Sam J7 pro / J7 prime / J5 prime / J...</td>\n",
       "      <td>54.0</td>\n",
       "      <td>1.17</td>\n",
       "      <td>138298.528473</td>\n",
       "      <td>1.214090e+12</td>\n",
       "      <td>142049.9997</td>\n",
       "    </tr>\n",
       "    <tr>\n",
       "      <th>4</th>\n",
       "      <td>SE966</td>\n",
       "      <td>SERVICIO TECNICO REVISION Y PRESUPUESTO</td>\n",
       "      <td>54.0</td>\n",
       "      <td>12.42</td>\n",
       "      <td>653685.010642</td>\n",
       "      <td>5.263190e+11</td>\n",
       "      <td>653700.0000</td>\n",
       "    </tr>\n",
       "  </tbody>\n",
       "</table>\n",
       "</div>"
      ]
     },
     "execution_count": 269,
     "metadata": {},
     "output_type": "execute_result"
    }
   ],
   "execution_count": 269
  },
  {
   "metadata": {
    "ExecuteTime": {
     "end_time": "2024-12-27T16:04:36.998680Z",
     "start_time": "2024-12-27T16:04:36.992166Z"
    }
   },
   "cell_type": "code",
   "source": [
    "#agrega la columna 'Categoria' y que tenga los mismo valores de la columna 'Nombre del Producto'\n",
    "df['Categoria'] = df['Nombre del Producto']"
   ],
   "id": "f4c697a9ca62e73e",
   "outputs": [],
   "execution_count": 270
  },
  {
   "metadata": {
    "ExecuteTime": {
     "end_time": "2024-12-27T16:04:37.193430Z",
     "start_time": "2024-12-27T16:04:37.134654Z"
    }
   },
   "cell_type": "code",
   "source": [
    "#str columna 'Categoria' y 'Nombre del Producto'\n",
    "df['Categoria'] = df['Categoria'].astype(str)\n",
    "df['Nombre del Producto'] = df['Nombre del Producto'].astype(str)"
   ],
   "id": "1adf12cc70754644",
   "outputs": [],
   "execution_count": 271
  },
  {
   "metadata": {
    "ExecuteTime": {
     "end_time": "2024-12-27T16:04:37.625922Z",
     "start_time": "2024-12-27T16:04:37.606501Z"
    }
   },
   "cell_type": "code",
   "source": [
    "#agregar la columna 'Categoria' y agregar la cadena 'Modulo' en cada fila si los valores  de la columna 'Nombre de Producto' tienen la cadena 'modulo' en su nombre y que no tengan la palabra 'servicio',si no cumple esta condicion se deja el valor original\n",
    "df['Categoria'] = np.where(df['Nombre del Producto'].str.contains('modulo', case=False) & ~df['Nombre del Producto'].str.contains('servicio', case=False), 'Modulo', df['Nombre del Producto'])"
   ],
   "id": "f862d972cc8497d7",
   "outputs": [],
   "execution_count": 272
  },
  {
   "metadata": {
    "ExecuteTime": {
     "end_time": "2024-12-27T16:04:37.955436Z",
     "start_time": "2024-12-27T16:04:37.742590Z"
    }
   },
   "cell_type": "code",
   "source": "df",
   "id": "6fefa31e2b0cea71",
   "outputs": [
    {
     "data": {
      "text/plain": [
       "       Código                                Nombre del Producto  Cantidad  \\\n",
       "0     R124132  VIDRIO GLASS SAMSUNG  A02S / A03 / A03 CORE / ...      90.0   \n",
       "1      PI3017                       Pilas Boton 3 V Philco 2032       70.0   \n",
       "2       D1014  CABLE USB ONLY MOD48 / V8 / 3,1A BLANCO Y NEGR...      55.0   \n",
       "3          C6  Pin Carga Sam J7 pro / J7 prime / J5 prime / J...      54.0   \n",
       "4       SE966            SERVICIO TECNICO REVISION Y PRESUPUESTO      54.0   \n",
       "...       ...                                                ...       ...   \n",
       "1550  RC76393  BATERIA SAM A14 / A52 / S20 FE / A52S 100% Ori...      -1.0   \n",
       "1551   PE8818  Pendrive Kingston DataTraveler SE9 DTSE9H 32GB...      -2.0   \n",
       "1552      NaN                                                nan       NaN   \n",
       "1553      NaN                                                nan       NaN   \n",
       "1554      NaN                                                nan    6294.0   \n",
       "\n",
       "      Costo total      Ganancia  Ganancia prom. %   Venta total  \\\n",
       "0          120.80  3.569538e+05      2.955130e+05  3.571000e+05   \n",
       "1           32.20  7.391105e+04      2.295580e+05  7.395001e+04   \n",
       "2           35.29  1.551573e+05      4.396850e+05  1.552000e+05   \n",
       "3            1.17  1.382985e+05      1.214090e+12  1.420500e+05   \n",
       "4           12.42  6.536850e+05      5.263190e+11  6.537000e+05   \n",
       "...           ...           ...               ...           ...   \n",
       "1550        -8.16 -2.699012e+04               NaN -2.700000e+04   \n",
       "1551       -10.05 -1.598784e+04               NaN -1.600000e+04   \n",
       "1552          NaN           NaN               NaN           NaN   \n",
       "1553          NaN           NaN               NaN           NaN   \n",
       "1554    166296.86  1.294925e+08               NaN  1.308388e+08   \n",
       "\n",
       "                                              Categoria  \n",
       "0     VIDRIO GLASS SAMSUNG  A02S / A03 / A03 CORE / ...  \n",
       "1                          Pilas Boton 3 V Philco 2032   \n",
       "2     CABLE USB ONLY MOD48 / V8 / 3,1A BLANCO Y NEGR...  \n",
       "3     Pin Carga Sam J7 pro / J7 prime / J5 prime / J...  \n",
       "4               SERVICIO TECNICO REVISION Y PRESUPUESTO  \n",
       "...                                                 ...  \n",
       "1550  BATERIA SAM A14 / A52 / S20 FE / A52S 100% Ori...  \n",
       "1551  Pendrive Kingston DataTraveler SE9 DTSE9H 32GB...  \n",
       "1552                                                nan  \n",
       "1553                                                nan  \n",
       "1554                                                nan  \n",
       "\n",
       "[1555 rows x 8 columns]"
      ],
      "text/html": [
       "<div>\n",
       "<style scoped>\n",
       "    .dataframe tbody tr th:only-of-type {\n",
       "        vertical-align: middle;\n",
       "    }\n",
       "\n",
       "    .dataframe tbody tr th {\n",
       "        vertical-align: top;\n",
       "    }\n",
       "\n",
       "    .dataframe thead th {\n",
       "        text-align: right;\n",
       "    }\n",
       "</style>\n",
       "<table border=\"1\" class=\"dataframe\">\n",
       "  <thead>\n",
       "    <tr style=\"text-align: right;\">\n",
       "      <th></th>\n",
       "      <th>Código</th>\n",
       "      <th>Nombre del Producto</th>\n",
       "      <th>Cantidad</th>\n",
       "      <th>Costo total</th>\n",
       "      <th>Ganancia</th>\n",
       "      <th>Ganancia prom. %</th>\n",
       "      <th>Venta total</th>\n",
       "      <th>Categoria</th>\n",
       "    </tr>\n",
       "  </thead>\n",
       "  <tbody>\n",
       "    <tr>\n",
       "      <th>0</th>\n",
       "      <td>R124132</td>\n",
       "      <td>VIDRIO GLASS SAMSUNG  A02S / A03 / A03 CORE / ...</td>\n",
       "      <td>90.0</td>\n",
       "      <td>120.80</td>\n",
       "      <td>3.569538e+05</td>\n",
       "      <td>2.955130e+05</td>\n",
       "      <td>3.571000e+05</td>\n",
       "      <td>VIDRIO GLASS SAMSUNG  A02S / A03 / A03 CORE / ...</td>\n",
       "    </tr>\n",
       "    <tr>\n",
       "      <th>1</th>\n",
       "      <td>PI3017</td>\n",
       "      <td>Pilas Boton 3 V Philco 2032</td>\n",
       "      <td>70.0</td>\n",
       "      <td>32.20</td>\n",
       "      <td>7.391105e+04</td>\n",
       "      <td>2.295580e+05</td>\n",
       "      <td>7.395001e+04</td>\n",
       "      <td>Pilas Boton 3 V Philco 2032</td>\n",
       "    </tr>\n",
       "    <tr>\n",
       "      <th>2</th>\n",
       "      <td>D1014</td>\n",
       "      <td>CABLE USB ONLY MOD48 / V8 / 3,1A BLANCO Y NEGR...</td>\n",
       "      <td>55.0</td>\n",
       "      <td>35.29</td>\n",
       "      <td>1.551573e+05</td>\n",
       "      <td>4.396850e+05</td>\n",
       "      <td>1.552000e+05</td>\n",
       "      <td>CABLE USB ONLY MOD48 / V8 / 3,1A BLANCO Y NEGR...</td>\n",
       "    </tr>\n",
       "    <tr>\n",
       "      <th>3</th>\n",
       "      <td>C6</td>\n",
       "      <td>Pin Carga Sam J7 pro / J7 prime / J5 prime / J...</td>\n",
       "      <td>54.0</td>\n",
       "      <td>1.17</td>\n",
       "      <td>1.382985e+05</td>\n",
       "      <td>1.214090e+12</td>\n",
       "      <td>1.420500e+05</td>\n",
       "      <td>Pin Carga Sam J7 pro / J7 prime / J5 prime / J...</td>\n",
       "    </tr>\n",
       "    <tr>\n",
       "      <th>4</th>\n",
       "      <td>SE966</td>\n",
       "      <td>SERVICIO TECNICO REVISION Y PRESUPUESTO</td>\n",
       "      <td>54.0</td>\n",
       "      <td>12.42</td>\n",
       "      <td>6.536850e+05</td>\n",
       "      <td>5.263190e+11</td>\n",
       "      <td>6.537000e+05</td>\n",
       "      <td>SERVICIO TECNICO REVISION Y PRESUPUESTO</td>\n",
       "    </tr>\n",
       "    <tr>\n",
       "      <th>...</th>\n",
       "      <td>...</td>\n",
       "      <td>...</td>\n",
       "      <td>...</td>\n",
       "      <td>...</td>\n",
       "      <td>...</td>\n",
       "      <td>...</td>\n",
       "      <td>...</td>\n",
       "      <td>...</td>\n",
       "    </tr>\n",
       "    <tr>\n",
       "      <th>1550</th>\n",
       "      <td>RC76393</td>\n",
       "      <td>BATERIA SAM A14 / A52 / S20 FE / A52S 100% Ori...</td>\n",
       "      <td>-1.0</td>\n",
       "      <td>-8.16</td>\n",
       "      <td>-2.699012e+04</td>\n",
       "      <td>NaN</td>\n",
       "      <td>-2.700000e+04</td>\n",
       "      <td>BATERIA SAM A14 / A52 / S20 FE / A52S 100% Ori...</td>\n",
       "    </tr>\n",
       "    <tr>\n",
       "      <th>1551</th>\n",
       "      <td>PE8818</td>\n",
       "      <td>Pendrive Kingston DataTraveler SE9 DTSE9H 32GB...</td>\n",
       "      <td>-2.0</td>\n",
       "      <td>-10.05</td>\n",
       "      <td>-1.598784e+04</td>\n",
       "      <td>NaN</td>\n",
       "      <td>-1.600000e+04</td>\n",
       "      <td>Pendrive Kingston DataTraveler SE9 DTSE9H 32GB...</td>\n",
       "    </tr>\n",
       "    <tr>\n",
       "      <th>1552</th>\n",
       "      <td>NaN</td>\n",
       "      <td>nan</td>\n",
       "      <td>NaN</td>\n",
       "      <td>NaN</td>\n",
       "      <td>NaN</td>\n",
       "      <td>NaN</td>\n",
       "      <td>NaN</td>\n",
       "      <td>nan</td>\n",
       "    </tr>\n",
       "    <tr>\n",
       "      <th>1553</th>\n",
       "      <td>NaN</td>\n",
       "      <td>nan</td>\n",
       "      <td>NaN</td>\n",
       "      <td>NaN</td>\n",
       "      <td>NaN</td>\n",
       "      <td>NaN</td>\n",
       "      <td>NaN</td>\n",
       "      <td>nan</td>\n",
       "    </tr>\n",
       "    <tr>\n",
       "      <th>1554</th>\n",
       "      <td>NaN</td>\n",
       "      <td>nan</td>\n",
       "      <td>6294.0</td>\n",
       "      <td>166296.86</td>\n",
       "      <td>1.294925e+08</td>\n",
       "      <td>NaN</td>\n",
       "      <td>1.308388e+08</td>\n",
       "      <td>nan</td>\n",
       "    </tr>\n",
       "  </tbody>\n",
       "</table>\n",
       "<p>1555 rows × 8 columns</p>\n",
       "</div>"
      ]
     },
     "execution_count": 273,
     "metadata": {},
     "output_type": "execute_result"
    }
   ],
   "execution_count": 273
  },
  {
   "metadata": {
    "ExecuteTime": {
     "end_time": "2024-12-27T16:04:38.265136Z",
     "start_time": "2024-12-27T16:04:38.231745Z"
    }
   },
   "cell_type": "code",
   "source": [
    "#mostrar en una lista los valores unicos de la columna 'nombre del producto' que tengan la cadena 'mod' en su nombre y que no tengan la palabra 'servicio'\n",
    "df[df['Nombre del Producto'].str.contains('modulo', case=False) & ~df['Nombre del Producto'].str.contains('servicio', case=False)]['Nombre del Producto'].unique()"
   ],
   "id": "f86d4fadc734503",
   "outputs": [
    {
     "data": {
      "text/plain": [
       "array(['Modulo Pantalla Samsung A04 Sin Marco',\n",
       "       'Modulo Pantalla Moto G31 / Moto G41 / Moto G71 Original Sin Marco',\n",
       "       'Modulo Pantalla Samsung A21S A217',\n",
       "       'Modulo Pantalla Moto E7 / E7 Power / E7i / E7i Power',\n",
       "       'Modulo Pantalla Samsung A13 A135 / M13 Original*',\n",
       "       'Modulo Pantalla Samsung A03 /A03S /A02S /M02S*',\n",
       "       'Modulo Pantalla Samsung J4 Plus J4 Core J6 Plus J6Core',\n",
       "       'Modulo Pantalla Moto G13 / G23 Sin Marco*',\n",
       "       'Modulo Pantalla Samsung A12 A125F Original Multiversion*',\n",
       "       'Modulo Pantalla Moto G72 - G52 5G - G82 5G - Edge 30 - Edge 2022 Oled',\n",
       "       'Modulo Pantalla Samsung A04E A042 Sin Marco',\n",
       "       'Modulo Pantalla Samsung A12 A127F',\n",
       "       'Modulo Pantalla Moto Edge 30 Original Con Marco*',\n",
       "       'Modulo Pantalla Samsung A02 A022F / M12 Original Sin Marco*',\n",
       "       'Modulo Pantalla Samsung J7 Prime G610 Negro',\n",
       "       'Modulo Pantalla Tcl 30E / Tcl 30Se / Alcatel 3H Plus / Alcatel 5H Plus',\n",
       "       'Modulo Pantalla Moto E20 Original Sin Marco*',\n",
       "       'Modulo Pantalla Moto G20 Sin Marco Original*',\n",
       "       'Modulo Pantalla Moto G60S / G51 5G Original Sin Marco*',\n",
       "       'Modulo Pantalla Samsung A10 A105 Original',\n",
       "       'Modulo Pantalla Tcl 10Se / Alcatel 3X 2019 5048A / 3X 2020 / 5X 5061U',\n",
       "       'Modulo Pantalla Xiaomi Note 10 Pro / Note 11 Pro /10 Plus Oled',\n",
       "       'Modulo Pantalla Moto E13 Original Sin Marco*',\n",
       "       'Modulo Pantalla Samsung A52 / A52S 5G Oled Con Marco',\n",
       "       'Modulo Pantalla Samsung J7 Pro J730 Oled Negro',\n",
       "       'Modulo Pantalla Moto E6 Plus*',\n",
       "       'Modulo Pantalla Samsung J4 J400 Oled Gold',\n",
       "       'Modulo Pantalla Samsung J7 Pro J730 Oled Celeste',\n",
       "       'Modulo Pantalla Samsung A03 Core A032F Original Sin Marco',\n",
       "       'Modulo Pantalla Samsung A04S Sin Marco',\n",
       "       'Modulo Pantalla Samsung A20S Original Sin Marco',\n",
       "       'Modulo Pantalla Moto E7 Power / E7I Power Original Con Marco',\n",
       "       'Modulo Pantalla Moto Edge 30 Neo Original Con Marco',\n",
       "       'Modulo Pantalla Moto G32 Original Sin Marco',\n",
       "       'Modulo Pantalla Moto G42 Original de Equipo Con Marco*',\n",
       "       'Modulo Pantalla Moto G9 Plus Original*',\n",
       "       'Modulo Pantalla Samsung A11 A115', 'Modulo Pantalla Tcl 20E',\n",
       "       'Modulo Pantalla Xiaomi Redmi 13C*',\n",
       "       'Modulo Pantalla Samsung A23 4G A235 Original*',\n",
       "       'Modulo Pantalla Samsung A30 Original Sin Marco',\n",
       "       'Modulo Pantalla Samsung A31 Oled Con Marco*',\n",
       "       'Modulo Pantalla Samsung A50 / A30 Oled Sin Marco',\n",
       "       'Modulo Pantalla Samsung A70 Oled Con Marco',\n",
       "       'Modulo Pantalla Samsung J4 J400 Oled Black',\n",
       "       'Modulo Pantalla Xiaomi Redmi 10 / 10 prime ',\n",
       "       'Modulo Pantalla Moto E6S / E6I Original',\n",
       "       'Modulo Pantalla Moto G100  Original Sin Marco',\n",
       "       'Modulo Pantalla Samsung A01 Core',\n",
       "       'Modulo Pantalla Samsung A22 5G Oled Sin Marco',\n",
       "       'Modulo Pantalla Samsung A51 A515 Oled Sin Marco*',\n",
       "       'Modulo Pantalla Samsung J5 Prime G570 White S/L',\n",
       "       'Modulo Pantalla Samsung S20 Fe Oled Con Marco*',\n",
       "       'Modulo Pantalla Xiaomi Mi Note 11 4G / 11S 4G Oled*',\n",
       "       'Modulo Pantalla Moto G200 Original Con Marco*',\n",
       "       'Modulo Pantalla Samsung A10S A107',\n",
       "       'Modulo Pantalla Samsung A33 5G Oled Con Marco*',\n",
       "       'Modulo Pantalla Samsung A33 5G Original Con Marco',\n",
       "       'Modulo Pantalla Samsung A51 A515 Oled Con Marco',\n",
       "       'Modulo Pantalla Samsung J7 2016 J710 Oled Blanco',\n",
       "       'Modulo Pantalla Tcl 20Se',\n",
       "       'Modulo Pantalla Xiaomi Note 10 / Note 10S Incell*',\n",
       "       'Modulo Pantalla Xiaomi Note 10 4G / Note 10S Oled*',\n",
       "       'Modulo Pantalla Moto Edge 20 Lite Oled Sin Marco*',\n",
       "       'Modulo Pantalla Moto Edge 30 Fusion Original Con Marco Service Pack',\n",
       "       'Modulo Pantalla Moto Edge 40 Original Con Marco Service Pack',\n",
       "       'Modulo Pantalla Moto G30 Xt2129 / G10',\n",
       "       'Modulo Pantalla Moto G9 Play / E7 Plus Original Sin Marco*',\n",
       "       'Modulo Pantalla Samsung A30 Oled Sin Marco',\n",
       "       'Modulo Pantalla Samsung A30S Oled Con Marco',\n",
       "       'Modulo Pantalla Samsung A51 A515 Incell',\n",
       "       'Modulo Pantalla Samsung J5 2015 J500 Incell Oled 2',\n",
       "       'Modulo Pantalla Xiaomi Redmi 12C',\n",
       "       'KIT PINZAS PARA PEGAR MODULO TG-4000 ',\n",
       "       'Modulo Pantalla Moto Edge 30 Pro Original Sin Marco*',\n",
       "       'Modulo Pantalla Moto Edge 40 Pro Original Con Marco Service Pack',\n",
       "       'Modulo Pantalla Moto G22 / E32 Sin Marco*',\n",
       "       'Modulo Pantalla Moto G22 Original Con Marco',\n",
       "       'Modulo Pantalla Moto G9 Power Sin Marco',\n",
       "       'Modulo Pantalla Nokia 7,1',\n",
       "       'Modulo Pantalla Samsung A20 Incell Sin Marco',\n",
       "       'Modulo Pantalla Samsung A20 Oled Sin Marco*',\n",
       "       'Modulo Pantalla Samsung A22 4G Oled Con Marco*',\n",
       "       'Modulo Pantalla Samsung A23 5G Original*',\n",
       "       'Modulo Pantalla Samsung A33 5G Incell',\n",
       "       'Modulo Pantalla Samsung A34 5G A346 Original',\n",
       "       'Modulo Pantalla Samsung A50 Original Sin Marco',\n",
       "       'Modulo Pantalla Samsung A52 4G / A52S 5G Incell Con Marco',\n",
       "       'Modulo Pantalla Samsung A70 Original Con Marco',\n",
       "       'Modulo Pantalla Samsung A72 Oled Con Marco*',\n",
       "       'Modulo Pantalla Samsung S10 Plus Original Con Marco',\n",
       "       'Modulo Pantalla Samsung S20 Fe Original Con Marco*',\n",
       "       'Modulo Pantalla Samsung S20 Plus Original Con Marco',\n",
       "       'Modulo Pantalla Samsung S22 Ultra Original Con Marco',\n",
       "       'Modulo Pantalla Tcl  403 / 431A', 'Modulo Pantalla Tcl 20B 6159',\n",
       "       'Modulo Pantalla Tcl L10 Plus / L10 Lite / 3x Plus / T Pro / Alcatel 1se 2020',\n",
       "       'Modulo Pantalla Xiaomi Note 8', 'Modulo Pantalla Xiaomi Redmi 9',\n",
       "       'Modulo Pantalla Xiaomi Redmi Note 9',\n",
       "       'Modulo Pantalla Iphone 6S Blanco Calidad A+*',\n",
       "       'Modulo Pantalla Iphone 8 / Iphone Se 2020 Negro Calidad A+',\n",
       "       'Modulo Pantalla Iphone X Oled Gx',\n",
       "       'Modulo Pantalla Moto E20 Original Con Marco',\n",
       "       'Modulo Pantalla Moto E22 / E22I / E22S Sin Marco*',\n",
       "       'Modulo Pantalla Moto E32 Original Con Marco',\n",
       "       'Modulo Pantalla Moto E40',\n",
       "       'Modulo Pantalla Moto Edge 30 Ultra Original Con Marco',\n",
       "       'Modulo Pantalla Moto G13 Original Con Marco',\n",
       "       'Modulo Pantalla Moto G32 Original Con Marco',\n",
       "       'Modulo Pantalla Moto G54 Original Con Marco',\n",
       "       'Modulo Pantalla Moto G7 / G7 Plus*',\n",
       "       'Modulo Pantalla Moto G72 Original Sin Marco*',\n",
       "       'Modulo Pantalla Moto G72 Original de Equipo Con Marco',\n",
       "       'Modulo Pantalla Moto G8 Plus', 'Modulo Pantalla Moto One Fusion',\n",
       "       'Modulo Pantalla Nokia 3,1 Plus',\n",
       "       'Modulo Pantalla Samsung A14 5G A146 Sin Marco',\n",
       "       'Modulo Pantalla Samsung A22 5G Oled Con Marco',\n",
       "       'Modulo Pantalla Samsung A24 A245 Original Con Marco*',\n",
       "       'Modulo Pantalla Samsung A52 4G / A52S 5G Original Con Marco',\n",
       "       'Modulo Pantalla Samsung A70 Incell',\n",
       "       'Modulo Pantalla Samsung A71 Oled Sin Marco*',\n",
       "       'Modulo Pantalla Samsung J2 Core J260',\n",
       "       'Modulo Pantalla Samsung J5 Prime G570 Black S/L',\n",
       "       'Modulo Pantalla Samsung J5 Prime G570 Black* C/L',\n",
       "       'Modulo Pantalla Samsung S20 Fe Incell con Marco',\n",
       "       'Modulo Pantalla Samsung S21 Ultra Original Con Marco',\n",
       "       'Modulo Pantalla Tcl 40se', 'Modulo Pantalla Xiaomi Note 8 Pro',\n",
       "       'Modulo Pantalla Xiaomi Redmi 10C',\n",
       "       'Modulo Pantalla Xiaomi Redmi 7A',\n",
       "       'Espatulas Para Remover Modulos WL-8B',\n",
       "       'MODULO PANTALLA IPHONE 11 INCELL HD+',\n",
       "       'MODULO PANTALLA IPHONE 11 INCELL HIGH GAMUT',\n",
       "       'MODULO PANTALLA IPHONE 12 PRO INCELL HD+',\n",
       "       'MODULO PANTALLA IPHONE XR INCELL HIGH GAMUT',\n",
       "       'Modulo Pantalla Alcatel 1 One Uno 5033A Ot5033A',\n",
       "       'Modulo Pantalla Iphone 12 / 12 Pro Ampsentrix Oled',\n",
       "       'Modulo Pantalla Iphone 7 Blanco Calidad A+*',\n",
       "       'Modulo Pantalla Iphone X Ampsentrix',\n",
       "       'Modulo Pantalla Iphone Xr Gx Oled Gosst',\n",
       "       'Modulo Pantalla Iphone Xs Max Ampsentrix',\n",
       "       'Modulo Pantalla Lg K41S*',\n",
       "       'Modulo Pantalla Lg K50 / Lg Q60 / K12 Prime',\n",
       "       'Modulo Pantalla Lg K50S',\n",
       "       'Modulo Pantalla Lg K52 / Lg K62 / Lg K42',\n",
       "       'Modulo Pantalla Moto E5 / Moto G6 Play Negro',\n",
       "       'Modulo Pantalla Moto Edge 20 Pro',\n",
       "       'Modulo Pantalla Moto Edge Oled Sin Marco',\n",
       "       'Modulo Pantalla Moto G04 Original Con Marco',\n",
       "       'Modulo Pantalla Moto G100 Original De Equipo',\n",
       "       'Modulo Pantalla Moto G14 Original Con Marco',\n",
       "       'Modulo Pantalla Moto G23 Original Con Marco',\n",
       "       'Modulo Pantalla Moto G31 Original Con Marco',\n",
       "       'Modulo Pantalla Moto G4 Plus Black Sin Marco',\n",
       "       'Modulo Pantalla Moto G42 Original Servis Pack*',\n",
       "       'Modulo Pantalla Moto G7 Power',\n",
       "       'Modulo Pantalla Moto G8 Play Xt2015 / One Macro Sin Marco',\n",
       "       'Modulo Pantalla Moto G8 Power',\n",
       "       'Modulo Pantalla Moto G82 Original Con Marco',\n",
       "       'Modulo Pantalla Samsung A02 / M12 Con Marco',\n",
       "       'Modulo Pantalla Samsung A03 Core A032F Con Marco',\n",
       "       'Modulo Pantalla Samsung A12 A125F Con Marco',\n",
       "       'Modulo Pantalla Samsung A14 4G A145 Sin Marco',\n",
       "       'Modulo Pantalla Samsung A2 Core  Oled',\n",
       "       'Modulo Pantalla Samsung A23 5G A236 Sin Marco*',\n",
       "       'Modulo Pantalla Samsung A30S Incell',\n",
       "       'Modulo Pantalla Samsung A32 4G Oled Con Marco*',\n",
       "       'Modulo Pantalla Samsung A32 4G Original Con Marco',\n",
       "       'Modulo Pantalla Samsung A32 5G Sin Marco',\n",
       "       'Modulo Pantalla Samsung A510 A5 2016 Oled Black',\n",
       "       'Modulo Pantalla Samsung A53  A635 / A536 Oled Small Con Marco',\n",
       "       'Modulo Pantalla Samsung A54 Original Con Marco*',\n",
       "       'Modulo Pantalla Samsung J3 2016 Tft',\n",
       "       'Modulo Pantalla Samsung J7 2016 J710 Oled Negro',\n",
       "       'Modulo Pantalla Samsung S10 Original Con Marco',\n",
       "       'Modulo Pantalla Samsung S21 Fe Original Con Marco',\n",
       "       'Modulo Pantalla Samsung S23 Ultra Oled Con Marco',\n",
       "       'Modulo Pantalla Xiaomi Mi A1 / 5X',\n",
       "       'Modulo Pantalla Xiaomi Mi Note 10 / Mi Note 10 Pro',\n",
       "       'Modulo Pantalla Xiaomi Note 10 Pro / Note 11 Pro Oled',\n",
       "       'Modulo Pantalla Xiaomi Poco X3 / X3 Pro / Mi 10T lite 5G / Note9 pro 5G*',\n",
       "       'Modulo Pantalla Xiaomi Redmi 7',\n",
       "       'Modulo Pantalla Iphone 8 Plus White Ampsentrix',\n",
       "       'Modulo Pantalla Moto E6 Play'], dtype=object)"
      ]
     },
     "execution_count": 274,
     "metadata": {},
     "output_type": "execute_result"
    }
   ],
   "execution_count": 274
  },
  {
   "metadata": {
    "ExecuteTime": {
     "end_time": "2024-12-27T16:04:38.576838Z",
     "start_time": "2024-12-27T16:04:38.561664Z"
    }
   },
   "cell_type": "code",
   "source": [
    "#agregar en la columna 'Categoria'  la cadena 'Modulo Original' en cada fila si los valores  de la columna 'Nombre de Producto' tienen la cadena 'modulo' y la cadena 'original' en su nombre y que no tengan la palabra 'servicio',si no cumple esta condicion se deja el valor original\n",
    "df['Categoria'] = np.where(df['Nombre del Producto'].str.contains('modulo', case=False) & df['Nombre del Producto'].str.contains('original', case=False) & ~df['Nombre del Producto'].str.contains('servicio', case=False), 'Modulo Original', df['Categoria'])"
   ],
   "id": "784db47c49ec6abf",
   "outputs": [],
   "execution_count": 275
  },
  {
   "metadata": {
    "ExecuteTime": {
     "end_time": "2024-12-27T16:04:38.938485Z",
     "start_time": "2024-12-27T16:04:38.918871Z"
    }
   },
   "cell_type": "code",
   "source": "df",
   "id": "d4f2e11476fa94da",
   "outputs": [
    {
     "data": {
      "text/plain": [
       "       Código                                Nombre del Producto  Cantidad  \\\n",
       "0     R124132  VIDRIO GLASS SAMSUNG  A02S / A03 / A03 CORE / ...      90.0   \n",
       "1      PI3017                       Pilas Boton 3 V Philco 2032       70.0   \n",
       "2       D1014  CABLE USB ONLY MOD48 / V8 / 3,1A BLANCO Y NEGR...      55.0   \n",
       "3          C6  Pin Carga Sam J7 pro / J7 prime / J5 prime / J...      54.0   \n",
       "4       SE966            SERVICIO TECNICO REVISION Y PRESUPUESTO      54.0   \n",
       "...       ...                                                ...       ...   \n",
       "1550  RC76393  BATERIA SAM A14 / A52 / S20 FE / A52S 100% Ori...      -1.0   \n",
       "1551   PE8818  Pendrive Kingston DataTraveler SE9 DTSE9H 32GB...      -2.0   \n",
       "1552      NaN                                                nan       NaN   \n",
       "1553      NaN                                                nan       NaN   \n",
       "1554      NaN                                                nan    6294.0   \n",
       "\n",
       "      Costo total      Ganancia  Ganancia prom. %   Venta total  \\\n",
       "0          120.80  3.569538e+05      2.955130e+05  3.571000e+05   \n",
       "1           32.20  7.391105e+04      2.295580e+05  7.395001e+04   \n",
       "2           35.29  1.551573e+05      4.396850e+05  1.552000e+05   \n",
       "3            1.17  1.382985e+05      1.214090e+12  1.420500e+05   \n",
       "4           12.42  6.536850e+05      5.263190e+11  6.537000e+05   \n",
       "...           ...           ...               ...           ...   \n",
       "1550        -8.16 -2.699012e+04               NaN -2.700000e+04   \n",
       "1551       -10.05 -1.598784e+04               NaN -1.600000e+04   \n",
       "1552          NaN           NaN               NaN           NaN   \n",
       "1553          NaN           NaN               NaN           NaN   \n",
       "1554    166296.86  1.294925e+08               NaN  1.308388e+08   \n",
       "\n",
       "                                              Categoria  \n",
       "0     VIDRIO GLASS SAMSUNG  A02S / A03 / A03 CORE / ...  \n",
       "1                          Pilas Boton 3 V Philco 2032   \n",
       "2     CABLE USB ONLY MOD48 / V8 / 3,1A BLANCO Y NEGR...  \n",
       "3     Pin Carga Sam J7 pro / J7 prime / J5 prime / J...  \n",
       "4               SERVICIO TECNICO REVISION Y PRESUPUESTO  \n",
       "...                                                 ...  \n",
       "1550  BATERIA SAM A14 / A52 / S20 FE / A52S 100% Ori...  \n",
       "1551  Pendrive Kingston DataTraveler SE9 DTSE9H 32GB...  \n",
       "1552                                                nan  \n",
       "1553                                                nan  \n",
       "1554                                                nan  \n",
       "\n",
       "[1555 rows x 8 columns]"
      ],
      "text/html": [
       "<div>\n",
       "<style scoped>\n",
       "    .dataframe tbody tr th:only-of-type {\n",
       "        vertical-align: middle;\n",
       "    }\n",
       "\n",
       "    .dataframe tbody tr th {\n",
       "        vertical-align: top;\n",
       "    }\n",
       "\n",
       "    .dataframe thead th {\n",
       "        text-align: right;\n",
       "    }\n",
       "</style>\n",
       "<table border=\"1\" class=\"dataframe\">\n",
       "  <thead>\n",
       "    <tr style=\"text-align: right;\">\n",
       "      <th></th>\n",
       "      <th>Código</th>\n",
       "      <th>Nombre del Producto</th>\n",
       "      <th>Cantidad</th>\n",
       "      <th>Costo total</th>\n",
       "      <th>Ganancia</th>\n",
       "      <th>Ganancia prom. %</th>\n",
       "      <th>Venta total</th>\n",
       "      <th>Categoria</th>\n",
       "    </tr>\n",
       "  </thead>\n",
       "  <tbody>\n",
       "    <tr>\n",
       "      <th>0</th>\n",
       "      <td>R124132</td>\n",
       "      <td>VIDRIO GLASS SAMSUNG  A02S / A03 / A03 CORE / ...</td>\n",
       "      <td>90.0</td>\n",
       "      <td>120.80</td>\n",
       "      <td>3.569538e+05</td>\n",
       "      <td>2.955130e+05</td>\n",
       "      <td>3.571000e+05</td>\n",
       "      <td>VIDRIO GLASS SAMSUNG  A02S / A03 / A03 CORE / ...</td>\n",
       "    </tr>\n",
       "    <tr>\n",
       "      <th>1</th>\n",
       "      <td>PI3017</td>\n",
       "      <td>Pilas Boton 3 V Philco 2032</td>\n",
       "      <td>70.0</td>\n",
       "      <td>32.20</td>\n",
       "      <td>7.391105e+04</td>\n",
       "      <td>2.295580e+05</td>\n",
       "      <td>7.395001e+04</td>\n",
       "      <td>Pilas Boton 3 V Philco 2032</td>\n",
       "    </tr>\n",
       "    <tr>\n",
       "      <th>2</th>\n",
       "      <td>D1014</td>\n",
       "      <td>CABLE USB ONLY MOD48 / V8 / 3,1A BLANCO Y NEGR...</td>\n",
       "      <td>55.0</td>\n",
       "      <td>35.29</td>\n",
       "      <td>1.551573e+05</td>\n",
       "      <td>4.396850e+05</td>\n",
       "      <td>1.552000e+05</td>\n",
       "      <td>CABLE USB ONLY MOD48 / V8 / 3,1A BLANCO Y NEGR...</td>\n",
       "    </tr>\n",
       "    <tr>\n",
       "      <th>3</th>\n",
       "      <td>C6</td>\n",
       "      <td>Pin Carga Sam J7 pro / J7 prime / J5 prime / J...</td>\n",
       "      <td>54.0</td>\n",
       "      <td>1.17</td>\n",
       "      <td>1.382985e+05</td>\n",
       "      <td>1.214090e+12</td>\n",
       "      <td>1.420500e+05</td>\n",
       "      <td>Pin Carga Sam J7 pro / J7 prime / J5 prime / J...</td>\n",
       "    </tr>\n",
       "    <tr>\n",
       "      <th>4</th>\n",
       "      <td>SE966</td>\n",
       "      <td>SERVICIO TECNICO REVISION Y PRESUPUESTO</td>\n",
       "      <td>54.0</td>\n",
       "      <td>12.42</td>\n",
       "      <td>6.536850e+05</td>\n",
       "      <td>5.263190e+11</td>\n",
       "      <td>6.537000e+05</td>\n",
       "      <td>SERVICIO TECNICO REVISION Y PRESUPUESTO</td>\n",
       "    </tr>\n",
       "    <tr>\n",
       "      <th>...</th>\n",
       "      <td>...</td>\n",
       "      <td>...</td>\n",
       "      <td>...</td>\n",
       "      <td>...</td>\n",
       "      <td>...</td>\n",
       "      <td>...</td>\n",
       "      <td>...</td>\n",
       "      <td>...</td>\n",
       "    </tr>\n",
       "    <tr>\n",
       "      <th>1550</th>\n",
       "      <td>RC76393</td>\n",
       "      <td>BATERIA SAM A14 / A52 / S20 FE / A52S 100% Ori...</td>\n",
       "      <td>-1.0</td>\n",
       "      <td>-8.16</td>\n",
       "      <td>-2.699012e+04</td>\n",
       "      <td>NaN</td>\n",
       "      <td>-2.700000e+04</td>\n",
       "      <td>BATERIA SAM A14 / A52 / S20 FE / A52S 100% Ori...</td>\n",
       "    </tr>\n",
       "    <tr>\n",
       "      <th>1551</th>\n",
       "      <td>PE8818</td>\n",
       "      <td>Pendrive Kingston DataTraveler SE9 DTSE9H 32GB...</td>\n",
       "      <td>-2.0</td>\n",
       "      <td>-10.05</td>\n",
       "      <td>-1.598784e+04</td>\n",
       "      <td>NaN</td>\n",
       "      <td>-1.600000e+04</td>\n",
       "      <td>Pendrive Kingston DataTraveler SE9 DTSE9H 32GB...</td>\n",
       "    </tr>\n",
       "    <tr>\n",
       "      <th>1552</th>\n",
       "      <td>NaN</td>\n",
       "      <td>nan</td>\n",
       "      <td>NaN</td>\n",
       "      <td>NaN</td>\n",
       "      <td>NaN</td>\n",
       "      <td>NaN</td>\n",
       "      <td>NaN</td>\n",
       "      <td>nan</td>\n",
       "    </tr>\n",
       "    <tr>\n",
       "      <th>1553</th>\n",
       "      <td>NaN</td>\n",
       "      <td>nan</td>\n",
       "      <td>NaN</td>\n",
       "      <td>NaN</td>\n",
       "      <td>NaN</td>\n",
       "      <td>NaN</td>\n",
       "      <td>NaN</td>\n",
       "      <td>nan</td>\n",
       "    </tr>\n",
       "    <tr>\n",
       "      <th>1554</th>\n",
       "      <td>NaN</td>\n",
       "      <td>nan</td>\n",
       "      <td>6294.0</td>\n",
       "      <td>166296.86</td>\n",
       "      <td>1.294925e+08</td>\n",
       "      <td>NaN</td>\n",
       "      <td>1.308388e+08</td>\n",
       "      <td>nan</td>\n",
       "    </tr>\n",
       "  </tbody>\n",
       "</table>\n",
       "<p>1555 rows × 8 columns</p>\n",
       "</div>"
      ]
     },
     "execution_count": 276,
     "metadata": {},
     "output_type": "execute_result"
    }
   ],
   "execution_count": 276
  },
  {
   "metadata": {
    "ExecuteTime": {
     "end_time": "2024-12-27T16:04:39.272817Z",
     "start_time": "2024-12-27T16:04:39.250207Z"
    }
   },
   "cell_type": "code",
   "source": [
    "#mostrar fila donde la nombre de producto sea igual a 'SERVICIO TECNICO INSTALACION DE MODULO'\n",
    "df[df['Nombre del Producto'] == 'SERVICIO TECNICO INSTALACION DE MODULO']"
   ],
   "id": "abd50d11d3e22d41",
   "outputs": [
    {
     "data": {
      "text/plain": [
       "    Código                     Nombre del Producto  Cantidad  Costo total  \\\n",
       "14  SE5320  SERVICIO TECNICO INSTALACION DE MODULO      37.0        42.18   \n",
       "\n",
       "        Ganancia  Ganancia prom. %  Venta total  \\\n",
       "14  1.219049e+06      3.041270e+11    1282850.0   \n",
       "\n",
       "                                 Categoria  \n",
       "14  SERVICIO TECNICO INSTALACION DE MODULO  "
      ],
      "text/html": [
       "<div>\n",
       "<style scoped>\n",
       "    .dataframe tbody tr th:only-of-type {\n",
       "        vertical-align: middle;\n",
       "    }\n",
       "\n",
       "    .dataframe tbody tr th {\n",
       "        vertical-align: top;\n",
       "    }\n",
       "\n",
       "    .dataframe thead th {\n",
       "        text-align: right;\n",
       "    }\n",
       "</style>\n",
       "<table border=\"1\" class=\"dataframe\">\n",
       "  <thead>\n",
       "    <tr style=\"text-align: right;\">\n",
       "      <th></th>\n",
       "      <th>Código</th>\n",
       "      <th>Nombre del Producto</th>\n",
       "      <th>Cantidad</th>\n",
       "      <th>Costo total</th>\n",
       "      <th>Ganancia</th>\n",
       "      <th>Ganancia prom. %</th>\n",
       "      <th>Venta total</th>\n",
       "      <th>Categoria</th>\n",
       "    </tr>\n",
       "  </thead>\n",
       "  <tbody>\n",
       "    <tr>\n",
       "      <th>14</th>\n",
       "      <td>SE5320</td>\n",
       "      <td>SERVICIO TECNICO INSTALACION DE MODULO</td>\n",
       "      <td>37.0</td>\n",
       "      <td>42.18</td>\n",
       "      <td>1.219049e+06</td>\n",
       "      <td>3.041270e+11</td>\n",
       "      <td>1282850.0</td>\n",
       "      <td>SERVICIO TECNICO INSTALACION DE MODULO</td>\n",
       "    </tr>\n",
       "  </tbody>\n",
       "</table>\n",
       "</div>"
      ]
     },
     "execution_count": 277,
     "metadata": {},
     "output_type": "execute_result"
    }
   ],
   "execution_count": 277
  },
  {
   "metadata": {
    "ExecuteTime": {
     "end_time": "2024-12-27T16:04:39.510248Z",
     "start_time": "2024-12-27T16:04:39.498855Z"
    }
   },
   "cell_type": "code",
   "source": [
    "#agregar en la columna 'Categoria'  la cadena 'Vidrio Glass' en cada fila si los valores  de la columna 'Nombre de Producto' tienen la cadena 'Vidrio Glass' en su nombre y que no tengan la palabra 'servicio',si no cumple esta condicion se deja el valor original\n",
    "df['Categoria'] = np.where(df['Nombre del Producto'].str.contains('Vidrio Glass', case=False) & ~df['Nombre del Producto'].str.contains('servicio', case=False), 'Vidrio Glass', df['Categoria'])"
   ],
   "id": "2e5ef0a18b6f5530",
   "outputs": [],
   "execution_count": 278
  },
  {
   "metadata": {
    "ExecuteTime": {
     "end_time": "2024-12-27T16:04:40.016665Z",
     "start_time": "2024-12-27T16:04:39.999345Z"
    }
   },
   "cell_type": "code",
   "source": "df",
   "id": "ae947d82128c9033",
   "outputs": [
    {
     "data": {
      "text/plain": [
       "       Código                                Nombre del Producto  Cantidad  \\\n",
       "0     R124132  VIDRIO GLASS SAMSUNG  A02S / A03 / A03 CORE / ...      90.0   \n",
       "1      PI3017                       Pilas Boton 3 V Philco 2032       70.0   \n",
       "2       D1014  CABLE USB ONLY MOD48 / V8 / 3,1A BLANCO Y NEGR...      55.0   \n",
       "3          C6  Pin Carga Sam J7 pro / J7 prime / J5 prime / J...      54.0   \n",
       "4       SE966            SERVICIO TECNICO REVISION Y PRESUPUESTO      54.0   \n",
       "...       ...                                                ...       ...   \n",
       "1550  RC76393  BATERIA SAM A14 / A52 / S20 FE / A52S 100% Ori...      -1.0   \n",
       "1551   PE8818  Pendrive Kingston DataTraveler SE9 DTSE9H 32GB...      -2.0   \n",
       "1552      NaN                                                nan       NaN   \n",
       "1553      NaN                                                nan       NaN   \n",
       "1554      NaN                                                nan    6294.0   \n",
       "\n",
       "      Costo total      Ganancia  Ganancia prom. %   Venta total  \\\n",
       "0          120.80  3.569538e+05      2.955130e+05  3.571000e+05   \n",
       "1           32.20  7.391105e+04      2.295580e+05  7.395001e+04   \n",
       "2           35.29  1.551573e+05      4.396850e+05  1.552000e+05   \n",
       "3            1.17  1.382985e+05      1.214090e+12  1.420500e+05   \n",
       "4           12.42  6.536850e+05      5.263190e+11  6.537000e+05   \n",
       "...           ...           ...               ...           ...   \n",
       "1550        -8.16 -2.699012e+04               NaN -2.700000e+04   \n",
       "1551       -10.05 -1.598784e+04               NaN -1.600000e+04   \n",
       "1552          NaN           NaN               NaN           NaN   \n",
       "1553          NaN           NaN               NaN           NaN   \n",
       "1554    166296.86  1.294925e+08               NaN  1.308388e+08   \n",
       "\n",
       "                                              Categoria  \n",
       "0                                          Vidrio Glass  \n",
       "1                          Pilas Boton 3 V Philco 2032   \n",
       "2     CABLE USB ONLY MOD48 / V8 / 3,1A BLANCO Y NEGR...  \n",
       "3     Pin Carga Sam J7 pro / J7 prime / J5 prime / J...  \n",
       "4               SERVICIO TECNICO REVISION Y PRESUPUESTO  \n",
       "...                                                 ...  \n",
       "1550  BATERIA SAM A14 / A52 / S20 FE / A52S 100% Ori...  \n",
       "1551  Pendrive Kingston DataTraveler SE9 DTSE9H 32GB...  \n",
       "1552                                                nan  \n",
       "1553                                                nan  \n",
       "1554                                                nan  \n",
       "\n",
       "[1555 rows x 8 columns]"
      ],
      "text/html": [
       "<div>\n",
       "<style scoped>\n",
       "    .dataframe tbody tr th:only-of-type {\n",
       "        vertical-align: middle;\n",
       "    }\n",
       "\n",
       "    .dataframe tbody tr th {\n",
       "        vertical-align: top;\n",
       "    }\n",
       "\n",
       "    .dataframe thead th {\n",
       "        text-align: right;\n",
       "    }\n",
       "</style>\n",
       "<table border=\"1\" class=\"dataframe\">\n",
       "  <thead>\n",
       "    <tr style=\"text-align: right;\">\n",
       "      <th></th>\n",
       "      <th>Código</th>\n",
       "      <th>Nombre del Producto</th>\n",
       "      <th>Cantidad</th>\n",
       "      <th>Costo total</th>\n",
       "      <th>Ganancia</th>\n",
       "      <th>Ganancia prom. %</th>\n",
       "      <th>Venta total</th>\n",
       "      <th>Categoria</th>\n",
       "    </tr>\n",
       "  </thead>\n",
       "  <tbody>\n",
       "    <tr>\n",
       "      <th>0</th>\n",
       "      <td>R124132</td>\n",
       "      <td>VIDRIO GLASS SAMSUNG  A02S / A03 / A03 CORE / ...</td>\n",
       "      <td>90.0</td>\n",
       "      <td>120.80</td>\n",
       "      <td>3.569538e+05</td>\n",
       "      <td>2.955130e+05</td>\n",
       "      <td>3.571000e+05</td>\n",
       "      <td>Vidrio Glass</td>\n",
       "    </tr>\n",
       "    <tr>\n",
       "      <th>1</th>\n",
       "      <td>PI3017</td>\n",
       "      <td>Pilas Boton 3 V Philco 2032</td>\n",
       "      <td>70.0</td>\n",
       "      <td>32.20</td>\n",
       "      <td>7.391105e+04</td>\n",
       "      <td>2.295580e+05</td>\n",
       "      <td>7.395001e+04</td>\n",
       "      <td>Pilas Boton 3 V Philco 2032</td>\n",
       "    </tr>\n",
       "    <tr>\n",
       "      <th>2</th>\n",
       "      <td>D1014</td>\n",
       "      <td>CABLE USB ONLY MOD48 / V8 / 3,1A BLANCO Y NEGR...</td>\n",
       "      <td>55.0</td>\n",
       "      <td>35.29</td>\n",
       "      <td>1.551573e+05</td>\n",
       "      <td>4.396850e+05</td>\n",
       "      <td>1.552000e+05</td>\n",
       "      <td>CABLE USB ONLY MOD48 / V8 / 3,1A BLANCO Y NEGR...</td>\n",
       "    </tr>\n",
       "    <tr>\n",
       "      <th>3</th>\n",
       "      <td>C6</td>\n",
       "      <td>Pin Carga Sam J7 pro / J7 prime / J5 prime / J...</td>\n",
       "      <td>54.0</td>\n",
       "      <td>1.17</td>\n",
       "      <td>1.382985e+05</td>\n",
       "      <td>1.214090e+12</td>\n",
       "      <td>1.420500e+05</td>\n",
       "      <td>Pin Carga Sam J7 pro / J7 prime / J5 prime / J...</td>\n",
       "    </tr>\n",
       "    <tr>\n",
       "      <th>4</th>\n",
       "      <td>SE966</td>\n",
       "      <td>SERVICIO TECNICO REVISION Y PRESUPUESTO</td>\n",
       "      <td>54.0</td>\n",
       "      <td>12.42</td>\n",
       "      <td>6.536850e+05</td>\n",
       "      <td>5.263190e+11</td>\n",
       "      <td>6.537000e+05</td>\n",
       "      <td>SERVICIO TECNICO REVISION Y PRESUPUESTO</td>\n",
       "    </tr>\n",
       "    <tr>\n",
       "      <th>...</th>\n",
       "      <td>...</td>\n",
       "      <td>...</td>\n",
       "      <td>...</td>\n",
       "      <td>...</td>\n",
       "      <td>...</td>\n",
       "      <td>...</td>\n",
       "      <td>...</td>\n",
       "      <td>...</td>\n",
       "    </tr>\n",
       "    <tr>\n",
       "      <th>1550</th>\n",
       "      <td>RC76393</td>\n",
       "      <td>BATERIA SAM A14 / A52 / S20 FE / A52S 100% Ori...</td>\n",
       "      <td>-1.0</td>\n",
       "      <td>-8.16</td>\n",
       "      <td>-2.699012e+04</td>\n",
       "      <td>NaN</td>\n",
       "      <td>-2.700000e+04</td>\n",
       "      <td>BATERIA SAM A14 / A52 / S20 FE / A52S 100% Ori...</td>\n",
       "    </tr>\n",
       "    <tr>\n",
       "      <th>1551</th>\n",
       "      <td>PE8818</td>\n",
       "      <td>Pendrive Kingston DataTraveler SE9 DTSE9H 32GB...</td>\n",
       "      <td>-2.0</td>\n",
       "      <td>-10.05</td>\n",
       "      <td>-1.598784e+04</td>\n",
       "      <td>NaN</td>\n",
       "      <td>-1.600000e+04</td>\n",
       "      <td>Pendrive Kingston DataTraveler SE9 DTSE9H 32GB...</td>\n",
       "    </tr>\n",
       "    <tr>\n",
       "      <th>1552</th>\n",
       "      <td>NaN</td>\n",
       "      <td>nan</td>\n",
       "      <td>NaN</td>\n",
       "      <td>NaN</td>\n",
       "      <td>NaN</td>\n",
       "      <td>NaN</td>\n",
       "      <td>NaN</td>\n",
       "      <td>nan</td>\n",
       "    </tr>\n",
       "    <tr>\n",
       "      <th>1553</th>\n",
       "      <td>NaN</td>\n",
       "      <td>nan</td>\n",
       "      <td>NaN</td>\n",
       "      <td>NaN</td>\n",
       "      <td>NaN</td>\n",
       "      <td>NaN</td>\n",
       "      <td>NaN</td>\n",
       "      <td>nan</td>\n",
       "    </tr>\n",
       "    <tr>\n",
       "      <th>1554</th>\n",
       "      <td>NaN</td>\n",
       "      <td>nan</td>\n",
       "      <td>6294.0</td>\n",
       "      <td>166296.86</td>\n",
       "      <td>1.294925e+08</td>\n",
       "      <td>NaN</td>\n",
       "      <td>1.308388e+08</td>\n",
       "      <td>nan</td>\n",
       "    </tr>\n",
       "  </tbody>\n",
       "</table>\n",
       "<p>1555 rows × 8 columns</p>\n",
       "</div>"
      ]
     },
     "execution_count": 279,
     "metadata": {},
     "output_type": "execute_result"
    }
   ],
   "execution_count": 279
  },
  {
   "metadata": {
    "ExecuteTime": {
     "end_time": "2024-12-27T16:04:40.411720Z",
     "start_time": "2024-12-27T16:04:40.401073Z"
    }
   },
   "cell_type": "code",
   "source": [
    "#ver valores unicos en una lista con la cadena  ´placa carga´ de la columna 'Nombre del Producto'\n",
    "df[df['Nombre del Producto'].str.contains('placa de carga', case=False)]['Nombre del Producto'].unique()"
   ],
   "id": "bddc7b2f92aa6c86",
   "outputs": [
    {
     "data": {
      "text/plain": [
       "array(['PLACA DE CARGA SAM A13 A135', 'PLACA DE CARGA SAM A04',\n",
       "       'PLACA DE CARGA SAM A12 A125 TIPO C',\n",
       "       'PLACA DE CARGA MOTO E6 PLUS',\n",
       "       'PLACA DE CARGA MOTO EDGE 30 ORIGINAL', 'PLACA DE CARGA SAM A03',\n",
       "       'PLACA DE CARGA SAM A10S A107 M16', 'PLACA DE CARGA SAM A52 a525',\n",
       "       'PLACA DE CARGA SAM A01 ORIGINAL', 'PLACA DE CARGA SAM A30S',\n",
       "       'PLACA DE CARGA MOTO E5 / G6 PLAY XT1922',\n",
       "       'PLACA DE CARGA MOTO E5 PLAY GO XT1920', 'PLACA DE CARGA MOTO E6i',\n",
       "       'PLACA DE CARGA MOTO E7 PLUS XT2081 100%',\n",
       "       'PLACA DE CARGA MOTO G9 POWER', 'PLACA DE CARGA SAM A20 A205G',\n",
       "       'PLACA DE CARGA SAM A32 4G A325 ',\n",
       "       'PLACA DE CARGA SAM A33 5G A336 ORIGINAL*',\n",
       "       'PLACA DE CARGA SAM A50 A505G ', 'PLACA DE CARGA SAM A51 A515',\n",
       "       'PLACA DE CARGA SAM A70 A705MN', 'PLACA DE CARGA CARGA MOTO G3',\n",
       "       'PLACA DE CARGA MOTO E32 ORIGINAL',\n",
       "       'PLACA DE CARGA MOTO E4 PLUS XT1772', 'PLACA DE CARGA MOTO E7',\n",
       "       'PLACA DE CARGA MOTO E7i POWER', 'PLACA DE CARGA MOTO G200 ',\n",
       "       'PLACA DE CARGA MOTO G22 100%',\n",
       "       'PLACA DE CARGA MOTO G30 XT2129 100%',\n",
       "       'PLACA DE CARGA MOTO G32 ORIGINAL',\n",
       "       'PLACA DE CARGA MOTO G4 PLAY XT1601',\n",
       "       'PLACA DE CARGA MOTO G60S XT2133 ORIGINAL',\n",
       "       'PLACA DE CARGA MOTO G7 PLAY XT 1952-2',\n",
       "       'PLACA DE CARGA MOTO G71 ORIG', 'PLACA DE CARGA MOTO G8',\n",
       "       'PLACA DE CARGA MOTO G8 PLUS', 'PLACA DE CARGA MOTO G8 POWER',\n",
       "       'PLACA DE CARGA MOTO G8 POWER LITE',\n",
       "       'PLACA DE CARGA MOTO G82 ORIGINAL', 'PLACA DE CARGA MOTO G9 PLUS',\n",
       "       'PLACA DE CARGA SAM A02', 'PLACA DE CARGA SAM A04E',\n",
       "       'PLACA DE CARGA SAM A10', 'PLACA DE CARGA SAM A20S A207 VER M14',\n",
       "       'PLACA DE CARGA SAM A21S', 'PLACA DE CARGA SAM A23',\n",
       "       'PLACA DE CARGA SAM A24', 'PLACA DE CARGA SAM A31 A315 ORIGINAL',\n",
       "       'PLACA DE CARGA SAM A7 2018', 'PLACA DE CARGA SAM A72 ORIGINAL',\n",
       "       'PLACA DE CARGA SONY XA1 G3123', 'PLACA DE CARGA XIAOMI NOTE 9',\n",
       "       'PLACA DE CARGA MOTO G7 POWER XT1955'], dtype=object)"
      ]
     },
     "execution_count": 280,
     "metadata": {},
     "output_type": "execute_result"
    }
   ],
   "execution_count": 280
  },
  {
   "metadata": {
    "ExecuteTime": {
     "end_time": "2024-12-27T16:04:40.701233Z",
     "start_time": "2024-12-27T16:04:40.688054Z"
    }
   },
   "cell_type": "code",
   "source": [
    "#agregar en la columna 'Categoria'  la cadena 'Pin Carga' en cada fila si los valores  de la columna 'Nombre de Producto' tienen la cadena 'pin carga' en su nombre y que no tengan la palabra 'servicio',si no cumple esta condicion se deja el valor original\n",
    "df['Categoria'] = np.where(df['Nombre del Producto'].str.contains('pin carga', case=False) & ~df['Nombre del Producto'].str.contains('servicio', case=False), 'Pin Carga', df['Categoria'])"
   ],
   "id": "98b1071acde8ec11",
   "outputs": [],
   "execution_count": 281
  },
  {
   "metadata": {
    "ExecuteTime": {
     "end_time": "2024-12-27T16:04:40.995452Z",
     "start_time": "2024-12-27T16:04:40.977876Z"
    }
   },
   "cell_type": "code",
   "source": "df",
   "id": "2a57182fedc98758",
   "outputs": [
    {
     "data": {
      "text/plain": [
       "       Código                                Nombre del Producto  Cantidad  \\\n",
       "0     R124132  VIDRIO GLASS SAMSUNG  A02S / A03 / A03 CORE / ...      90.0   \n",
       "1      PI3017                       Pilas Boton 3 V Philco 2032       70.0   \n",
       "2       D1014  CABLE USB ONLY MOD48 / V8 / 3,1A BLANCO Y NEGR...      55.0   \n",
       "3          C6  Pin Carga Sam J7 pro / J7 prime / J5 prime / J...      54.0   \n",
       "4       SE966            SERVICIO TECNICO REVISION Y PRESUPUESTO      54.0   \n",
       "...       ...                                                ...       ...   \n",
       "1550  RC76393  BATERIA SAM A14 / A52 / S20 FE / A52S 100% Ori...      -1.0   \n",
       "1551   PE8818  Pendrive Kingston DataTraveler SE9 DTSE9H 32GB...      -2.0   \n",
       "1552      NaN                                                nan       NaN   \n",
       "1553      NaN                                                nan       NaN   \n",
       "1554      NaN                                                nan    6294.0   \n",
       "\n",
       "      Costo total      Ganancia  Ganancia prom. %   Venta total  \\\n",
       "0          120.80  3.569538e+05      2.955130e+05  3.571000e+05   \n",
       "1           32.20  7.391105e+04      2.295580e+05  7.395001e+04   \n",
       "2           35.29  1.551573e+05      4.396850e+05  1.552000e+05   \n",
       "3            1.17  1.382985e+05      1.214090e+12  1.420500e+05   \n",
       "4           12.42  6.536850e+05      5.263190e+11  6.537000e+05   \n",
       "...           ...           ...               ...           ...   \n",
       "1550        -8.16 -2.699012e+04               NaN -2.700000e+04   \n",
       "1551       -10.05 -1.598784e+04               NaN -1.600000e+04   \n",
       "1552          NaN           NaN               NaN           NaN   \n",
       "1553          NaN           NaN               NaN           NaN   \n",
       "1554    166296.86  1.294925e+08               NaN  1.308388e+08   \n",
       "\n",
       "                                              Categoria  \n",
       "0                                          Vidrio Glass  \n",
       "1                          Pilas Boton 3 V Philco 2032   \n",
       "2     CABLE USB ONLY MOD48 / V8 / 3,1A BLANCO Y NEGR...  \n",
       "3                                             Pin Carga  \n",
       "4               SERVICIO TECNICO REVISION Y PRESUPUESTO  \n",
       "...                                                 ...  \n",
       "1550  BATERIA SAM A14 / A52 / S20 FE / A52S 100% Ori...  \n",
       "1551  Pendrive Kingston DataTraveler SE9 DTSE9H 32GB...  \n",
       "1552                                                nan  \n",
       "1553                                                nan  \n",
       "1554                                                nan  \n",
       "\n",
       "[1555 rows x 8 columns]"
      ],
      "text/html": [
       "<div>\n",
       "<style scoped>\n",
       "    .dataframe tbody tr th:only-of-type {\n",
       "        vertical-align: middle;\n",
       "    }\n",
       "\n",
       "    .dataframe tbody tr th {\n",
       "        vertical-align: top;\n",
       "    }\n",
       "\n",
       "    .dataframe thead th {\n",
       "        text-align: right;\n",
       "    }\n",
       "</style>\n",
       "<table border=\"1\" class=\"dataframe\">\n",
       "  <thead>\n",
       "    <tr style=\"text-align: right;\">\n",
       "      <th></th>\n",
       "      <th>Código</th>\n",
       "      <th>Nombre del Producto</th>\n",
       "      <th>Cantidad</th>\n",
       "      <th>Costo total</th>\n",
       "      <th>Ganancia</th>\n",
       "      <th>Ganancia prom. %</th>\n",
       "      <th>Venta total</th>\n",
       "      <th>Categoria</th>\n",
       "    </tr>\n",
       "  </thead>\n",
       "  <tbody>\n",
       "    <tr>\n",
       "      <th>0</th>\n",
       "      <td>R124132</td>\n",
       "      <td>VIDRIO GLASS SAMSUNG  A02S / A03 / A03 CORE / ...</td>\n",
       "      <td>90.0</td>\n",
       "      <td>120.80</td>\n",
       "      <td>3.569538e+05</td>\n",
       "      <td>2.955130e+05</td>\n",
       "      <td>3.571000e+05</td>\n",
       "      <td>Vidrio Glass</td>\n",
       "    </tr>\n",
       "    <tr>\n",
       "      <th>1</th>\n",
       "      <td>PI3017</td>\n",
       "      <td>Pilas Boton 3 V Philco 2032</td>\n",
       "      <td>70.0</td>\n",
       "      <td>32.20</td>\n",
       "      <td>7.391105e+04</td>\n",
       "      <td>2.295580e+05</td>\n",
       "      <td>7.395001e+04</td>\n",
       "      <td>Pilas Boton 3 V Philco 2032</td>\n",
       "    </tr>\n",
       "    <tr>\n",
       "      <th>2</th>\n",
       "      <td>D1014</td>\n",
       "      <td>CABLE USB ONLY MOD48 / V8 / 3,1A BLANCO Y NEGR...</td>\n",
       "      <td>55.0</td>\n",
       "      <td>35.29</td>\n",
       "      <td>1.551573e+05</td>\n",
       "      <td>4.396850e+05</td>\n",
       "      <td>1.552000e+05</td>\n",
       "      <td>CABLE USB ONLY MOD48 / V8 / 3,1A BLANCO Y NEGR...</td>\n",
       "    </tr>\n",
       "    <tr>\n",
       "      <th>3</th>\n",
       "      <td>C6</td>\n",
       "      <td>Pin Carga Sam J7 pro / J7 prime / J5 prime / J...</td>\n",
       "      <td>54.0</td>\n",
       "      <td>1.17</td>\n",
       "      <td>1.382985e+05</td>\n",
       "      <td>1.214090e+12</td>\n",
       "      <td>1.420500e+05</td>\n",
       "      <td>Pin Carga</td>\n",
       "    </tr>\n",
       "    <tr>\n",
       "      <th>4</th>\n",
       "      <td>SE966</td>\n",
       "      <td>SERVICIO TECNICO REVISION Y PRESUPUESTO</td>\n",
       "      <td>54.0</td>\n",
       "      <td>12.42</td>\n",
       "      <td>6.536850e+05</td>\n",
       "      <td>5.263190e+11</td>\n",
       "      <td>6.537000e+05</td>\n",
       "      <td>SERVICIO TECNICO REVISION Y PRESUPUESTO</td>\n",
       "    </tr>\n",
       "    <tr>\n",
       "      <th>...</th>\n",
       "      <td>...</td>\n",
       "      <td>...</td>\n",
       "      <td>...</td>\n",
       "      <td>...</td>\n",
       "      <td>...</td>\n",
       "      <td>...</td>\n",
       "      <td>...</td>\n",
       "      <td>...</td>\n",
       "    </tr>\n",
       "    <tr>\n",
       "      <th>1550</th>\n",
       "      <td>RC76393</td>\n",
       "      <td>BATERIA SAM A14 / A52 / S20 FE / A52S 100% Ori...</td>\n",
       "      <td>-1.0</td>\n",
       "      <td>-8.16</td>\n",
       "      <td>-2.699012e+04</td>\n",
       "      <td>NaN</td>\n",
       "      <td>-2.700000e+04</td>\n",
       "      <td>BATERIA SAM A14 / A52 / S20 FE / A52S 100% Ori...</td>\n",
       "    </tr>\n",
       "    <tr>\n",
       "      <th>1551</th>\n",
       "      <td>PE8818</td>\n",
       "      <td>Pendrive Kingston DataTraveler SE9 DTSE9H 32GB...</td>\n",
       "      <td>-2.0</td>\n",
       "      <td>-10.05</td>\n",
       "      <td>-1.598784e+04</td>\n",
       "      <td>NaN</td>\n",
       "      <td>-1.600000e+04</td>\n",
       "      <td>Pendrive Kingston DataTraveler SE9 DTSE9H 32GB...</td>\n",
       "    </tr>\n",
       "    <tr>\n",
       "      <th>1552</th>\n",
       "      <td>NaN</td>\n",
       "      <td>nan</td>\n",
       "      <td>NaN</td>\n",
       "      <td>NaN</td>\n",
       "      <td>NaN</td>\n",
       "      <td>NaN</td>\n",
       "      <td>NaN</td>\n",
       "      <td>nan</td>\n",
       "    </tr>\n",
       "    <tr>\n",
       "      <th>1553</th>\n",
       "      <td>NaN</td>\n",
       "      <td>nan</td>\n",
       "      <td>NaN</td>\n",
       "      <td>NaN</td>\n",
       "      <td>NaN</td>\n",
       "      <td>NaN</td>\n",
       "      <td>NaN</td>\n",
       "      <td>nan</td>\n",
       "    </tr>\n",
       "    <tr>\n",
       "      <th>1554</th>\n",
       "      <td>NaN</td>\n",
       "      <td>nan</td>\n",
       "      <td>6294.0</td>\n",
       "      <td>166296.86</td>\n",
       "      <td>1.294925e+08</td>\n",
       "      <td>NaN</td>\n",
       "      <td>1.308388e+08</td>\n",
       "      <td>nan</td>\n",
       "    </tr>\n",
       "  </tbody>\n",
       "</table>\n",
       "<p>1555 rows × 8 columns</p>\n",
       "</div>"
      ]
     },
     "execution_count": 282,
     "metadata": {},
     "output_type": "execute_result"
    }
   ],
   "execution_count": 282
  },
  {
   "metadata": {
    "ExecuteTime": {
     "end_time": "2024-12-27T16:04:41.197022Z",
     "start_time": "2024-12-27T16:04:41.183096Z"
    }
   },
   "cell_type": "code",
   "source": [
    "#agregar en la columna 'Categoria'  la cadena 'Placa de Carga' en cada fila si los valores  de la columna 'Nombre de Producto' tienen la cadena 'placa de carga' en su nombre y que no tengan la palabra 'servicio',si no cumple esta condicion se deja el valor original\n",
    "df['Categoria'] = np.where(df['Nombre del Producto'].str.contains('placa de carga', case=False) & ~df['Nombre del Producto'].str.contains('servicio', case=False), 'Placa de Carga', df['Categoria'])"
   ],
   "id": "b266625f23f083d9",
   "outputs": [],
   "execution_count": 283
  },
  {
   "metadata": {
    "ExecuteTime": {
     "end_time": "2024-12-27T16:04:41.383915Z",
     "start_time": "2024-12-27T16:04:41.361694Z"
    }
   },
   "cell_type": "code",
   "source": "df",
   "id": "f16ae70a63a2b1e4",
   "outputs": [
    {
     "data": {
      "text/plain": [
       "       Código                                Nombre del Producto  Cantidad  \\\n",
       "0     R124132  VIDRIO GLASS SAMSUNG  A02S / A03 / A03 CORE / ...      90.0   \n",
       "1      PI3017                       Pilas Boton 3 V Philco 2032       70.0   \n",
       "2       D1014  CABLE USB ONLY MOD48 / V8 / 3,1A BLANCO Y NEGR...      55.0   \n",
       "3          C6  Pin Carga Sam J7 pro / J7 prime / J5 prime / J...      54.0   \n",
       "4       SE966            SERVICIO TECNICO REVISION Y PRESUPUESTO      54.0   \n",
       "...       ...                                                ...       ...   \n",
       "1550  RC76393  BATERIA SAM A14 / A52 / S20 FE / A52S 100% Ori...      -1.0   \n",
       "1551   PE8818  Pendrive Kingston DataTraveler SE9 DTSE9H 32GB...      -2.0   \n",
       "1552      NaN                                                nan       NaN   \n",
       "1553      NaN                                                nan       NaN   \n",
       "1554      NaN                                                nan    6294.0   \n",
       "\n",
       "      Costo total      Ganancia  Ganancia prom. %   Venta total  \\\n",
       "0          120.80  3.569538e+05      2.955130e+05  3.571000e+05   \n",
       "1           32.20  7.391105e+04      2.295580e+05  7.395001e+04   \n",
       "2           35.29  1.551573e+05      4.396850e+05  1.552000e+05   \n",
       "3            1.17  1.382985e+05      1.214090e+12  1.420500e+05   \n",
       "4           12.42  6.536850e+05      5.263190e+11  6.537000e+05   \n",
       "...           ...           ...               ...           ...   \n",
       "1550        -8.16 -2.699012e+04               NaN -2.700000e+04   \n",
       "1551       -10.05 -1.598784e+04               NaN -1.600000e+04   \n",
       "1552          NaN           NaN               NaN           NaN   \n",
       "1553          NaN           NaN               NaN           NaN   \n",
       "1554    166296.86  1.294925e+08               NaN  1.308388e+08   \n",
       "\n",
       "                                              Categoria  \n",
       "0                                          Vidrio Glass  \n",
       "1                          Pilas Boton 3 V Philco 2032   \n",
       "2     CABLE USB ONLY MOD48 / V8 / 3,1A BLANCO Y NEGR...  \n",
       "3                                             Pin Carga  \n",
       "4               SERVICIO TECNICO REVISION Y PRESUPUESTO  \n",
       "...                                                 ...  \n",
       "1550  BATERIA SAM A14 / A52 / S20 FE / A52S 100% Ori...  \n",
       "1551  Pendrive Kingston DataTraveler SE9 DTSE9H 32GB...  \n",
       "1552                                                nan  \n",
       "1553                                                nan  \n",
       "1554                                                nan  \n",
       "\n",
       "[1555 rows x 8 columns]"
      ],
      "text/html": [
       "<div>\n",
       "<style scoped>\n",
       "    .dataframe tbody tr th:only-of-type {\n",
       "        vertical-align: middle;\n",
       "    }\n",
       "\n",
       "    .dataframe tbody tr th {\n",
       "        vertical-align: top;\n",
       "    }\n",
       "\n",
       "    .dataframe thead th {\n",
       "        text-align: right;\n",
       "    }\n",
       "</style>\n",
       "<table border=\"1\" class=\"dataframe\">\n",
       "  <thead>\n",
       "    <tr style=\"text-align: right;\">\n",
       "      <th></th>\n",
       "      <th>Código</th>\n",
       "      <th>Nombre del Producto</th>\n",
       "      <th>Cantidad</th>\n",
       "      <th>Costo total</th>\n",
       "      <th>Ganancia</th>\n",
       "      <th>Ganancia prom. %</th>\n",
       "      <th>Venta total</th>\n",
       "      <th>Categoria</th>\n",
       "    </tr>\n",
       "  </thead>\n",
       "  <tbody>\n",
       "    <tr>\n",
       "      <th>0</th>\n",
       "      <td>R124132</td>\n",
       "      <td>VIDRIO GLASS SAMSUNG  A02S / A03 / A03 CORE / ...</td>\n",
       "      <td>90.0</td>\n",
       "      <td>120.80</td>\n",
       "      <td>3.569538e+05</td>\n",
       "      <td>2.955130e+05</td>\n",
       "      <td>3.571000e+05</td>\n",
       "      <td>Vidrio Glass</td>\n",
       "    </tr>\n",
       "    <tr>\n",
       "      <th>1</th>\n",
       "      <td>PI3017</td>\n",
       "      <td>Pilas Boton 3 V Philco 2032</td>\n",
       "      <td>70.0</td>\n",
       "      <td>32.20</td>\n",
       "      <td>7.391105e+04</td>\n",
       "      <td>2.295580e+05</td>\n",
       "      <td>7.395001e+04</td>\n",
       "      <td>Pilas Boton 3 V Philco 2032</td>\n",
       "    </tr>\n",
       "    <tr>\n",
       "      <th>2</th>\n",
       "      <td>D1014</td>\n",
       "      <td>CABLE USB ONLY MOD48 / V8 / 3,1A BLANCO Y NEGR...</td>\n",
       "      <td>55.0</td>\n",
       "      <td>35.29</td>\n",
       "      <td>1.551573e+05</td>\n",
       "      <td>4.396850e+05</td>\n",
       "      <td>1.552000e+05</td>\n",
       "      <td>CABLE USB ONLY MOD48 / V8 / 3,1A BLANCO Y NEGR...</td>\n",
       "    </tr>\n",
       "    <tr>\n",
       "      <th>3</th>\n",
       "      <td>C6</td>\n",
       "      <td>Pin Carga Sam J7 pro / J7 prime / J5 prime / J...</td>\n",
       "      <td>54.0</td>\n",
       "      <td>1.17</td>\n",
       "      <td>1.382985e+05</td>\n",
       "      <td>1.214090e+12</td>\n",
       "      <td>1.420500e+05</td>\n",
       "      <td>Pin Carga</td>\n",
       "    </tr>\n",
       "    <tr>\n",
       "      <th>4</th>\n",
       "      <td>SE966</td>\n",
       "      <td>SERVICIO TECNICO REVISION Y PRESUPUESTO</td>\n",
       "      <td>54.0</td>\n",
       "      <td>12.42</td>\n",
       "      <td>6.536850e+05</td>\n",
       "      <td>5.263190e+11</td>\n",
       "      <td>6.537000e+05</td>\n",
       "      <td>SERVICIO TECNICO REVISION Y PRESUPUESTO</td>\n",
       "    </tr>\n",
       "    <tr>\n",
       "      <th>...</th>\n",
       "      <td>...</td>\n",
       "      <td>...</td>\n",
       "      <td>...</td>\n",
       "      <td>...</td>\n",
       "      <td>...</td>\n",
       "      <td>...</td>\n",
       "      <td>...</td>\n",
       "      <td>...</td>\n",
       "    </tr>\n",
       "    <tr>\n",
       "      <th>1550</th>\n",
       "      <td>RC76393</td>\n",
       "      <td>BATERIA SAM A14 / A52 / S20 FE / A52S 100% Ori...</td>\n",
       "      <td>-1.0</td>\n",
       "      <td>-8.16</td>\n",
       "      <td>-2.699012e+04</td>\n",
       "      <td>NaN</td>\n",
       "      <td>-2.700000e+04</td>\n",
       "      <td>BATERIA SAM A14 / A52 / S20 FE / A52S 100% Ori...</td>\n",
       "    </tr>\n",
       "    <tr>\n",
       "      <th>1551</th>\n",
       "      <td>PE8818</td>\n",
       "      <td>Pendrive Kingston DataTraveler SE9 DTSE9H 32GB...</td>\n",
       "      <td>-2.0</td>\n",
       "      <td>-10.05</td>\n",
       "      <td>-1.598784e+04</td>\n",
       "      <td>NaN</td>\n",
       "      <td>-1.600000e+04</td>\n",
       "      <td>Pendrive Kingston DataTraveler SE9 DTSE9H 32GB...</td>\n",
       "    </tr>\n",
       "    <tr>\n",
       "      <th>1552</th>\n",
       "      <td>NaN</td>\n",
       "      <td>nan</td>\n",
       "      <td>NaN</td>\n",
       "      <td>NaN</td>\n",
       "      <td>NaN</td>\n",
       "      <td>NaN</td>\n",
       "      <td>NaN</td>\n",
       "      <td>nan</td>\n",
       "    </tr>\n",
       "    <tr>\n",
       "      <th>1553</th>\n",
       "      <td>NaN</td>\n",
       "      <td>nan</td>\n",
       "      <td>NaN</td>\n",
       "      <td>NaN</td>\n",
       "      <td>NaN</td>\n",
       "      <td>NaN</td>\n",
       "      <td>NaN</td>\n",
       "      <td>nan</td>\n",
       "    </tr>\n",
       "    <tr>\n",
       "      <th>1554</th>\n",
       "      <td>NaN</td>\n",
       "      <td>nan</td>\n",
       "      <td>6294.0</td>\n",
       "      <td>166296.86</td>\n",
       "      <td>1.294925e+08</td>\n",
       "      <td>NaN</td>\n",
       "      <td>1.308388e+08</td>\n",
       "      <td>nan</td>\n",
       "    </tr>\n",
       "  </tbody>\n",
       "</table>\n",
       "<p>1555 rows × 8 columns</p>\n",
       "</div>"
      ]
     },
     "execution_count": 284,
     "metadata": {},
     "output_type": "execute_result"
    }
   ],
   "execution_count": 284
  },
  {
   "metadata": {
    "ExecuteTime": {
     "end_time": "2024-12-27T16:04:41.952217Z",
     "start_time": "2024-12-27T16:04:41.899938Z"
    }
   },
   "cell_type": "code",
   "source": [
    "#ver columna categoria con la cadena \"Placa de Carga\" y la columna nombre del producto\n",
    "df[df['Categoria'] == 'Placa de Carga'][['Categoria', 'Nombre del Producto']]"
   ],
   "id": "84bda8cebb2cd96a",
   "outputs": [
    {
     "data": {
      "text/plain": [
       "           Categoria                       Nombre del Producto\n",
       "223   Placa de Carga               PLACA DE CARGA SAM A13 A135\n",
       "269   Placa de Carga                    PLACA DE CARGA SAM A04\n",
       "332   Placa de Carga        PLACA DE CARGA SAM A12 A125 TIPO C\n",
       "417   Placa de Carga               PLACA DE CARGA MOTO E6 PLUS\n",
       "418   Placa de Carga      PLACA DE CARGA MOTO EDGE 30 ORIGINAL\n",
       "419   Placa de Carga                    PLACA DE CARGA SAM A03\n",
       "420   Placa de Carga          PLACA DE CARGA SAM A10S A107 M16\n",
       "421   Placa de Carga               PLACA DE CARGA SAM A52 a525\n",
       "566   Placa de Carga           PLACA DE CARGA SAM A01 ORIGINAL\n",
       "567   Placa de Carga                   PLACA DE CARGA SAM A30S\n",
       "821   Placa de Carga   PLACA DE CARGA MOTO E5 / G6 PLAY XT1922\n",
       "822   Placa de Carga     PLACA DE CARGA MOTO E5 PLAY GO XT1920\n",
       "823   Placa de Carga                   PLACA DE CARGA MOTO E6i\n",
       "824   Placa de Carga   PLACA DE CARGA MOTO E7 PLUS XT2081 100%\n",
       "825   Placa de Carga              PLACA DE CARGA MOTO G9 POWER\n",
       "826   Placa de Carga              PLACA DE CARGA SAM A20 A205G\n",
       "827   Placa de Carga           PLACA DE CARGA SAM A32 4G A325 \n",
       "828   Placa de Carga  PLACA DE CARGA SAM A33 5G A336 ORIGINAL*\n",
       "829   Placa de Carga             PLACA DE CARGA SAM A50 A505G \n",
       "830   Placa de Carga               PLACA DE CARGA SAM A51 A515\n",
       "831   Placa de Carga             PLACA DE CARGA SAM A70 A705MN\n",
       "1342  Placa de Carga              PLACA DE CARGA CARGA MOTO G3\n",
       "1343  Placa de Carga          PLACA DE CARGA MOTO E32 ORIGINAL\n",
       "1344  Placa de Carga        PLACA DE CARGA MOTO E4 PLUS XT1772\n",
       "1345  Placa de Carga                    PLACA DE CARGA MOTO E7\n",
       "1346  Placa de Carga             PLACA DE CARGA MOTO E7i POWER\n",
       "1347  Placa de Carga                 PLACA DE CARGA MOTO G200 \n",
       "1348  Placa de Carga              PLACA DE CARGA MOTO G22 100%\n",
       "1349  Placa de Carga       PLACA DE CARGA MOTO G30 XT2129 100%\n",
       "1350  Placa de Carga          PLACA DE CARGA MOTO G32 ORIGINAL\n",
       "1351  Placa de Carga        PLACA DE CARGA MOTO G4 PLAY XT1601\n",
       "1352  Placa de Carga  PLACA DE CARGA MOTO G60S XT2133 ORIGINAL\n",
       "1353  Placa de Carga     PLACA DE CARGA MOTO G7 PLAY XT 1952-2\n",
       "1354  Placa de Carga              PLACA DE CARGA MOTO G71 ORIG\n",
       "1355  Placa de Carga                    PLACA DE CARGA MOTO G8\n",
       "1356  Placa de Carga               PLACA DE CARGA MOTO G8 PLUS\n",
       "1357  Placa de Carga              PLACA DE CARGA MOTO G8 POWER\n",
       "1358  Placa de Carga         PLACA DE CARGA MOTO G8 POWER LITE\n",
       "1359  Placa de Carga          PLACA DE CARGA MOTO G82 ORIGINAL\n",
       "1360  Placa de Carga               PLACA DE CARGA MOTO G9 PLUS\n",
       "1361  Placa de Carga                    PLACA DE CARGA SAM A02\n",
       "1362  Placa de Carga                   PLACA DE CARGA SAM A04E\n",
       "1363  Placa de Carga                    PLACA DE CARGA SAM A10\n",
       "1364  Placa de Carga      PLACA DE CARGA SAM A20S A207 VER M14\n",
       "1365  Placa de Carga                   PLACA DE CARGA SAM A21S\n",
       "1366  Placa de Carga                    PLACA DE CARGA SAM A23\n",
       "1367  Placa de Carga                    PLACA DE CARGA SAM A24\n",
       "1368  Placa de Carga      PLACA DE CARGA SAM A31 A315 ORIGINAL\n",
       "1369  Placa de Carga                PLACA DE CARGA SAM A7 2018\n",
       "1370  Placa de Carga           PLACA DE CARGA SAM A72 ORIGINAL\n",
       "1371  Placa de Carga             PLACA DE CARGA SONY XA1 G3123\n",
       "1372  Placa de Carga              PLACA DE CARGA XIAOMI NOTE 9\n",
       "1547  Placa de Carga       PLACA DE CARGA MOTO G7 POWER XT1955"
      ],
      "text/html": [
       "<div>\n",
       "<style scoped>\n",
       "    .dataframe tbody tr th:only-of-type {\n",
       "        vertical-align: middle;\n",
       "    }\n",
       "\n",
       "    .dataframe tbody tr th {\n",
       "        vertical-align: top;\n",
       "    }\n",
       "\n",
       "    .dataframe thead th {\n",
       "        text-align: right;\n",
       "    }\n",
       "</style>\n",
       "<table border=\"1\" class=\"dataframe\">\n",
       "  <thead>\n",
       "    <tr style=\"text-align: right;\">\n",
       "      <th></th>\n",
       "      <th>Categoria</th>\n",
       "      <th>Nombre del Producto</th>\n",
       "    </tr>\n",
       "  </thead>\n",
       "  <tbody>\n",
       "    <tr>\n",
       "      <th>223</th>\n",
       "      <td>Placa de Carga</td>\n",
       "      <td>PLACA DE CARGA SAM A13 A135</td>\n",
       "    </tr>\n",
       "    <tr>\n",
       "      <th>269</th>\n",
       "      <td>Placa de Carga</td>\n",
       "      <td>PLACA DE CARGA SAM A04</td>\n",
       "    </tr>\n",
       "    <tr>\n",
       "      <th>332</th>\n",
       "      <td>Placa de Carga</td>\n",
       "      <td>PLACA DE CARGA SAM A12 A125 TIPO C</td>\n",
       "    </tr>\n",
       "    <tr>\n",
       "      <th>417</th>\n",
       "      <td>Placa de Carga</td>\n",
       "      <td>PLACA DE CARGA MOTO E6 PLUS</td>\n",
       "    </tr>\n",
       "    <tr>\n",
       "      <th>418</th>\n",
       "      <td>Placa de Carga</td>\n",
       "      <td>PLACA DE CARGA MOTO EDGE 30 ORIGINAL</td>\n",
       "    </tr>\n",
       "    <tr>\n",
       "      <th>419</th>\n",
       "      <td>Placa de Carga</td>\n",
       "      <td>PLACA DE CARGA SAM A03</td>\n",
       "    </tr>\n",
       "    <tr>\n",
       "      <th>420</th>\n",
       "      <td>Placa de Carga</td>\n",
       "      <td>PLACA DE CARGA SAM A10S A107 M16</td>\n",
       "    </tr>\n",
       "    <tr>\n",
       "      <th>421</th>\n",
       "      <td>Placa de Carga</td>\n",
       "      <td>PLACA DE CARGA SAM A52 a525</td>\n",
       "    </tr>\n",
       "    <tr>\n",
       "      <th>566</th>\n",
       "      <td>Placa de Carga</td>\n",
       "      <td>PLACA DE CARGA SAM A01 ORIGINAL</td>\n",
       "    </tr>\n",
       "    <tr>\n",
       "      <th>567</th>\n",
       "      <td>Placa de Carga</td>\n",
       "      <td>PLACA DE CARGA SAM A30S</td>\n",
       "    </tr>\n",
       "    <tr>\n",
       "      <th>821</th>\n",
       "      <td>Placa de Carga</td>\n",
       "      <td>PLACA DE CARGA MOTO E5 / G6 PLAY XT1922</td>\n",
       "    </tr>\n",
       "    <tr>\n",
       "      <th>822</th>\n",
       "      <td>Placa de Carga</td>\n",
       "      <td>PLACA DE CARGA MOTO E5 PLAY GO XT1920</td>\n",
       "    </tr>\n",
       "    <tr>\n",
       "      <th>823</th>\n",
       "      <td>Placa de Carga</td>\n",
       "      <td>PLACA DE CARGA MOTO E6i</td>\n",
       "    </tr>\n",
       "    <tr>\n",
       "      <th>824</th>\n",
       "      <td>Placa de Carga</td>\n",
       "      <td>PLACA DE CARGA MOTO E7 PLUS XT2081 100%</td>\n",
       "    </tr>\n",
       "    <tr>\n",
       "      <th>825</th>\n",
       "      <td>Placa de Carga</td>\n",
       "      <td>PLACA DE CARGA MOTO G9 POWER</td>\n",
       "    </tr>\n",
       "    <tr>\n",
       "      <th>826</th>\n",
       "      <td>Placa de Carga</td>\n",
       "      <td>PLACA DE CARGA SAM A20 A205G</td>\n",
       "    </tr>\n",
       "    <tr>\n",
       "      <th>827</th>\n",
       "      <td>Placa de Carga</td>\n",
       "      <td>PLACA DE CARGA SAM A32 4G A325</td>\n",
       "    </tr>\n",
       "    <tr>\n",
       "      <th>828</th>\n",
       "      <td>Placa de Carga</td>\n",
       "      <td>PLACA DE CARGA SAM A33 5G A336 ORIGINAL*</td>\n",
       "    </tr>\n",
       "    <tr>\n",
       "      <th>829</th>\n",
       "      <td>Placa de Carga</td>\n",
       "      <td>PLACA DE CARGA SAM A50 A505G</td>\n",
       "    </tr>\n",
       "    <tr>\n",
       "      <th>830</th>\n",
       "      <td>Placa de Carga</td>\n",
       "      <td>PLACA DE CARGA SAM A51 A515</td>\n",
       "    </tr>\n",
       "    <tr>\n",
       "      <th>831</th>\n",
       "      <td>Placa de Carga</td>\n",
       "      <td>PLACA DE CARGA SAM A70 A705MN</td>\n",
       "    </tr>\n",
       "    <tr>\n",
       "      <th>1342</th>\n",
       "      <td>Placa de Carga</td>\n",
       "      <td>PLACA DE CARGA CARGA MOTO G3</td>\n",
       "    </tr>\n",
       "    <tr>\n",
       "      <th>1343</th>\n",
       "      <td>Placa de Carga</td>\n",
       "      <td>PLACA DE CARGA MOTO E32 ORIGINAL</td>\n",
       "    </tr>\n",
       "    <tr>\n",
       "      <th>1344</th>\n",
       "      <td>Placa de Carga</td>\n",
       "      <td>PLACA DE CARGA MOTO E4 PLUS XT1772</td>\n",
       "    </tr>\n",
       "    <tr>\n",
       "      <th>1345</th>\n",
       "      <td>Placa de Carga</td>\n",
       "      <td>PLACA DE CARGA MOTO E7</td>\n",
       "    </tr>\n",
       "    <tr>\n",
       "      <th>1346</th>\n",
       "      <td>Placa de Carga</td>\n",
       "      <td>PLACA DE CARGA MOTO E7i POWER</td>\n",
       "    </tr>\n",
       "    <tr>\n",
       "      <th>1347</th>\n",
       "      <td>Placa de Carga</td>\n",
       "      <td>PLACA DE CARGA MOTO G200</td>\n",
       "    </tr>\n",
       "    <tr>\n",
       "      <th>1348</th>\n",
       "      <td>Placa de Carga</td>\n",
       "      <td>PLACA DE CARGA MOTO G22 100%</td>\n",
       "    </tr>\n",
       "    <tr>\n",
       "      <th>1349</th>\n",
       "      <td>Placa de Carga</td>\n",
       "      <td>PLACA DE CARGA MOTO G30 XT2129 100%</td>\n",
       "    </tr>\n",
       "    <tr>\n",
       "      <th>1350</th>\n",
       "      <td>Placa de Carga</td>\n",
       "      <td>PLACA DE CARGA MOTO G32 ORIGINAL</td>\n",
       "    </tr>\n",
       "    <tr>\n",
       "      <th>1351</th>\n",
       "      <td>Placa de Carga</td>\n",
       "      <td>PLACA DE CARGA MOTO G4 PLAY XT1601</td>\n",
       "    </tr>\n",
       "    <tr>\n",
       "      <th>1352</th>\n",
       "      <td>Placa de Carga</td>\n",
       "      <td>PLACA DE CARGA MOTO G60S XT2133 ORIGINAL</td>\n",
       "    </tr>\n",
       "    <tr>\n",
       "      <th>1353</th>\n",
       "      <td>Placa de Carga</td>\n",
       "      <td>PLACA DE CARGA MOTO G7 PLAY XT 1952-2</td>\n",
       "    </tr>\n",
       "    <tr>\n",
       "      <th>1354</th>\n",
       "      <td>Placa de Carga</td>\n",
       "      <td>PLACA DE CARGA MOTO G71 ORIG</td>\n",
       "    </tr>\n",
       "    <tr>\n",
       "      <th>1355</th>\n",
       "      <td>Placa de Carga</td>\n",
       "      <td>PLACA DE CARGA MOTO G8</td>\n",
       "    </tr>\n",
       "    <tr>\n",
       "      <th>1356</th>\n",
       "      <td>Placa de Carga</td>\n",
       "      <td>PLACA DE CARGA MOTO G8 PLUS</td>\n",
       "    </tr>\n",
       "    <tr>\n",
       "      <th>1357</th>\n",
       "      <td>Placa de Carga</td>\n",
       "      <td>PLACA DE CARGA MOTO G8 POWER</td>\n",
       "    </tr>\n",
       "    <tr>\n",
       "      <th>1358</th>\n",
       "      <td>Placa de Carga</td>\n",
       "      <td>PLACA DE CARGA MOTO G8 POWER LITE</td>\n",
       "    </tr>\n",
       "    <tr>\n",
       "      <th>1359</th>\n",
       "      <td>Placa de Carga</td>\n",
       "      <td>PLACA DE CARGA MOTO G82 ORIGINAL</td>\n",
       "    </tr>\n",
       "    <tr>\n",
       "      <th>1360</th>\n",
       "      <td>Placa de Carga</td>\n",
       "      <td>PLACA DE CARGA MOTO G9 PLUS</td>\n",
       "    </tr>\n",
       "    <tr>\n",
       "      <th>1361</th>\n",
       "      <td>Placa de Carga</td>\n",
       "      <td>PLACA DE CARGA SAM A02</td>\n",
       "    </tr>\n",
       "    <tr>\n",
       "      <th>1362</th>\n",
       "      <td>Placa de Carga</td>\n",
       "      <td>PLACA DE CARGA SAM A04E</td>\n",
       "    </tr>\n",
       "    <tr>\n",
       "      <th>1363</th>\n",
       "      <td>Placa de Carga</td>\n",
       "      <td>PLACA DE CARGA SAM A10</td>\n",
       "    </tr>\n",
       "    <tr>\n",
       "      <th>1364</th>\n",
       "      <td>Placa de Carga</td>\n",
       "      <td>PLACA DE CARGA SAM A20S A207 VER M14</td>\n",
       "    </tr>\n",
       "    <tr>\n",
       "      <th>1365</th>\n",
       "      <td>Placa de Carga</td>\n",
       "      <td>PLACA DE CARGA SAM A21S</td>\n",
       "    </tr>\n",
       "    <tr>\n",
       "      <th>1366</th>\n",
       "      <td>Placa de Carga</td>\n",
       "      <td>PLACA DE CARGA SAM A23</td>\n",
       "    </tr>\n",
       "    <tr>\n",
       "      <th>1367</th>\n",
       "      <td>Placa de Carga</td>\n",
       "      <td>PLACA DE CARGA SAM A24</td>\n",
       "    </tr>\n",
       "    <tr>\n",
       "      <th>1368</th>\n",
       "      <td>Placa de Carga</td>\n",
       "      <td>PLACA DE CARGA SAM A31 A315 ORIGINAL</td>\n",
       "    </tr>\n",
       "    <tr>\n",
       "      <th>1369</th>\n",
       "      <td>Placa de Carga</td>\n",
       "      <td>PLACA DE CARGA SAM A7 2018</td>\n",
       "    </tr>\n",
       "    <tr>\n",
       "      <th>1370</th>\n",
       "      <td>Placa de Carga</td>\n",
       "      <td>PLACA DE CARGA SAM A72 ORIGINAL</td>\n",
       "    </tr>\n",
       "    <tr>\n",
       "      <th>1371</th>\n",
       "      <td>Placa de Carga</td>\n",
       "      <td>PLACA DE CARGA SONY XA1 G3123</td>\n",
       "    </tr>\n",
       "    <tr>\n",
       "      <th>1372</th>\n",
       "      <td>Placa de Carga</td>\n",
       "      <td>PLACA DE CARGA XIAOMI NOTE 9</td>\n",
       "    </tr>\n",
       "    <tr>\n",
       "      <th>1547</th>\n",
       "      <td>Placa de Carga</td>\n",
       "      <td>PLACA DE CARGA MOTO G7 POWER XT1955</td>\n",
       "    </tr>\n",
       "  </tbody>\n",
       "</table>\n",
       "</div>"
      ]
     },
     "execution_count": 285,
     "metadata": {},
     "output_type": "execute_result"
    }
   ],
   "execution_count": 285
  },
  {
   "metadata": {
    "ExecuteTime": {
     "end_time": "2024-12-27T16:04:42.231805Z",
     "start_time": "2024-12-27T16:04:42.222125Z"
    }
   },
   "cell_type": "code",
   "source": [
    "# ver valores en una lista con la cadena 'tapa' en su nombre\n",
    "df[df['Nombre del Producto'].str.contains('tapa', case=False)]['Nombre del Producto'].unique()"
   ],
   "id": "1314d2f28739d78",
   "outputs": [
    {
     "data": {
      "text/plain": [
       "array(['Tapa trasera iPhone X / Big Hole / Negro',\n",
       "       'Tapa trasera iPhone 11 / Blanco / Big Hole',\n",
       "       'Tapa trasera iPhone 11 / Negro / Big Hole',\n",
       "       'Tapa trasera iPhone 13 PRO MAX / Big Hole / Blanco',\n",
       "       'Tapa trasera iPhone X / Big Hole / Blanco',\n",
       "       'Camara Web Naxido 1080p W9n Full Hd 30fps Con Tapa y Microfono',\n",
       "       'Tapa trasera iPhone 8 PLUS / Big Hole / Blanco ',\n",
       "       'Tapa trasera iPhone 8 PLUS / Big Hole / Negro',\n",
       "       'Tapa trasera iPhone 13 PRO MAX / Big Hole / Space Gray',\n",
       "       'Tapa trasera iPhone XS MAX / Blanco / Big Hole',\n",
       "       'PEN PARA QUITAR TAPAS IPHONE - RL066',\n",
       "       'Tapa trasera iPhone 11 /  Rojo / Big Hole',\n",
       "       'Tapa trasera iPhone 11 PRO MAX / Big Hole / Space Gray',\n",
       "       'Tapa trasera iPhone 12 PRO MAX / Big Hole / Azul',\n",
       "       'Tapa trasera iPhone 13 PRO / Big Hole / Blanco',\n",
       "       'Tapa trasera iPhone 13 PRO / Big Hole / Space Gray',\n",
       "       'Tapa trasera iPhone 13 PRO MAX / Big Hole / Verde',\n",
       "       'Tapa trasera iPhone 8 / Blanco / Big Hole',\n",
       "       'Tapa trasera iPhone 8 / Negro / Big Hole',\n",
       "       'Tapa trasera iPhone XR / Big Hole / Blanco',\n",
       "       'Tapa trasera iPhone XR / Big Hole / Negro',\n",
       "       'Tapa trasera iPhone XS MAX / Negro / Big Hole',\n",
       "       'TAPA SAMSUNG J2 PRIME GOLD', 'TAPA SAMSUNG J7 PRIME BLUE',\n",
       "       'TAPA SAMSUNG S8 BLACK',\n",
       "       'Tapa trasera iPhone 11 /  Purpura / Big Hole',\n",
       "       'Tapa trasera iPhone 11 PRO / Big Hole / Space Gray',\n",
       "       'Tapa trasera iPhone 11 PRO MAX / Big Hole / Verde',\n",
       "       'Tapa trasera iPhone 12 PRO MAX / Big Hole / Blanco',\n",
       "       'Tapa trasera iPhone 12 PRO MAX / Big Hole / Space Gray',\n",
       "       'Tapa trasera iPhone 13 PRO MAX / Big Hole / Azul'], dtype=object)"
      ]
     },
     "execution_count": 286,
     "metadata": {},
     "output_type": "execute_result"
    }
   ],
   "execution_count": 286
  },
  {
   "metadata": {
    "ExecuteTime": {
     "end_time": "2024-12-27T16:04:42.657625Z",
     "start_time": "2024-12-27T16:04:42.646266Z"
    }
   },
   "cell_type": "code",
   "source": [
    "#agregar en la columna 'Categoria'  la cadena 'Tapa' en cada fila si los valores  de la columna 'Nombre de Producto' tienen la cadena 'tapa' en su nombre y que no tengan la palabra 'tapas',si no cumple esta condicion se deja el valor original\n",
    "df['Categoria'] = np.where(df['Nombre del Producto'].str.contains('tapa', case=False) & ~df['Nombre del Producto'].str.contains('tapas', case=False), 'Tapa', df['Categoria'])\n"
   ],
   "id": "885df7da09ed9787",
   "outputs": [],
   "execution_count": 287
  },
  {
   "metadata": {
    "ExecuteTime": {
     "end_time": "2024-12-27T16:04:42.996204Z",
     "start_time": "2024-12-27T16:04:42.978005Z"
    }
   },
   "cell_type": "code",
   "source": "df",
   "id": "d38517fc758f82b3",
   "outputs": [
    {
     "data": {
      "text/plain": [
       "       Código                                Nombre del Producto  Cantidad  \\\n",
       "0     R124132  VIDRIO GLASS SAMSUNG  A02S / A03 / A03 CORE / ...      90.0   \n",
       "1      PI3017                       Pilas Boton 3 V Philco 2032       70.0   \n",
       "2       D1014  CABLE USB ONLY MOD48 / V8 / 3,1A BLANCO Y NEGR...      55.0   \n",
       "3          C6  Pin Carga Sam J7 pro / J7 prime / J5 prime / J...      54.0   \n",
       "4       SE966            SERVICIO TECNICO REVISION Y PRESUPUESTO      54.0   \n",
       "...       ...                                                ...       ...   \n",
       "1550  RC76393  BATERIA SAM A14 / A52 / S20 FE / A52S 100% Ori...      -1.0   \n",
       "1551   PE8818  Pendrive Kingston DataTraveler SE9 DTSE9H 32GB...      -2.0   \n",
       "1552      NaN                                                nan       NaN   \n",
       "1553      NaN                                                nan       NaN   \n",
       "1554      NaN                                                nan    6294.0   \n",
       "\n",
       "      Costo total      Ganancia  Ganancia prom. %   Venta total  \\\n",
       "0          120.80  3.569538e+05      2.955130e+05  3.571000e+05   \n",
       "1           32.20  7.391105e+04      2.295580e+05  7.395001e+04   \n",
       "2           35.29  1.551573e+05      4.396850e+05  1.552000e+05   \n",
       "3            1.17  1.382985e+05      1.214090e+12  1.420500e+05   \n",
       "4           12.42  6.536850e+05      5.263190e+11  6.537000e+05   \n",
       "...           ...           ...               ...           ...   \n",
       "1550        -8.16 -2.699012e+04               NaN -2.700000e+04   \n",
       "1551       -10.05 -1.598784e+04               NaN -1.600000e+04   \n",
       "1552          NaN           NaN               NaN           NaN   \n",
       "1553          NaN           NaN               NaN           NaN   \n",
       "1554    166296.86  1.294925e+08               NaN  1.308388e+08   \n",
       "\n",
       "                                              Categoria  \n",
       "0                                          Vidrio Glass  \n",
       "1                          Pilas Boton 3 V Philco 2032   \n",
       "2     CABLE USB ONLY MOD48 / V8 / 3,1A BLANCO Y NEGR...  \n",
       "3                                             Pin Carga  \n",
       "4               SERVICIO TECNICO REVISION Y PRESUPUESTO  \n",
       "...                                                 ...  \n",
       "1550  BATERIA SAM A14 / A52 / S20 FE / A52S 100% Ori...  \n",
       "1551  Pendrive Kingston DataTraveler SE9 DTSE9H 32GB...  \n",
       "1552                                                nan  \n",
       "1553                                                nan  \n",
       "1554                                                nan  \n",
       "\n",
       "[1555 rows x 8 columns]"
      ],
      "text/html": [
       "<div>\n",
       "<style scoped>\n",
       "    .dataframe tbody tr th:only-of-type {\n",
       "        vertical-align: middle;\n",
       "    }\n",
       "\n",
       "    .dataframe tbody tr th {\n",
       "        vertical-align: top;\n",
       "    }\n",
       "\n",
       "    .dataframe thead th {\n",
       "        text-align: right;\n",
       "    }\n",
       "</style>\n",
       "<table border=\"1\" class=\"dataframe\">\n",
       "  <thead>\n",
       "    <tr style=\"text-align: right;\">\n",
       "      <th></th>\n",
       "      <th>Código</th>\n",
       "      <th>Nombre del Producto</th>\n",
       "      <th>Cantidad</th>\n",
       "      <th>Costo total</th>\n",
       "      <th>Ganancia</th>\n",
       "      <th>Ganancia prom. %</th>\n",
       "      <th>Venta total</th>\n",
       "      <th>Categoria</th>\n",
       "    </tr>\n",
       "  </thead>\n",
       "  <tbody>\n",
       "    <tr>\n",
       "      <th>0</th>\n",
       "      <td>R124132</td>\n",
       "      <td>VIDRIO GLASS SAMSUNG  A02S / A03 / A03 CORE / ...</td>\n",
       "      <td>90.0</td>\n",
       "      <td>120.80</td>\n",
       "      <td>3.569538e+05</td>\n",
       "      <td>2.955130e+05</td>\n",
       "      <td>3.571000e+05</td>\n",
       "      <td>Vidrio Glass</td>\n",
       "    </tr>\n",
       "    <tr>\n",
       "      <th>1</th>\n",
       "      <td>PI3017</td>\n",
       "      <td>Pilas Boton 3 V Philco 2032</td>\n",
       "      <td>70.0</td>\n",
       "      <td>32.20</td>\n",
       "      <td>7.391105e+04</td>\n",
       "      <td>2.295580e+05</td>\n",
       "      <td>7.395001e+04</td>\n",
       "      <td>Pilas Boton 3 V Philco 2032</td>\n",
       "    </tr>\n",
       "    <tr>\n",
       "      <th>2</th>\n",
       "      <td>D1014</td>\n",
       "      <td>CABLE USB ONLY MOD48 / V8 / 3,1A BLANCO Y NEGR...</td>\n",
       "      <td>55.0</td>\n",
       "      <td>35.29</td>\n",
       "      <td>1.551573e+05</td>\n",
       "      <td>4.396850e+05</td>\n",
       "      <td>1.552000e+05</td>\n",
       "      <td>CABLE USB ONLY MOD48 / V8 / 3,1A BLANCO Y NEGR...</td>\n",
       "    </tr>\n",
       "    <tr>\n",
       "      <th>3</th>\n",
       "      <td>C6</td>\n",
       "      <td>Pin Carga Sam J7 pro / J7 prime / J5 prime / J...</td>\n",
       "      <td>54.0</td>\n",
       "      <td>1.17</td>\n",
       "      <td>1.382985e+05</td>\n",
       "      <td>1.214090e+12</td>\n",
       "      <td>1.420500e+05</td>\n",
       "      <td>Pin Carga</td>\n",
       "    </tr>\n",
       "    <tr>\n",
       "      <th>4</th>\n",
       "      <td>SE966</td>\n",
       "      <td>SERVICIO TECNICO REVISION Y PRESUPUESTO</td>\n",
       "      <td>54.0</td>\n",
       "      <td>12.42</td>\n",
       "      <td>6.536850e+05</td>\n",
       "      <td>5.263190e+11</td>\n",
       "      <td>6.537000e+05</td>\n",
       "      <td>SERVICIO TECNICO REVISION Y PRESUPUESTO</td>\n",
       "    </tr>\n",
       "    <tr>\n",
       "      <th>...</th>\n",
       "      <td>...</td>\n",
       "      <td>...</td>\n",
       "      <td>...</td>\n",
       "      <td>...</td>\n",
       "      <td>...</td>\n",
       "      <td>...</td>\n",
       "      <td>...</td>\n",
       "      <td>...</td>\n",
       "    </tr>\n",
       "    <tr>\n",
       "      <th>1550</th>\n",
       "      <td>RC76393</td>\n",
       "      <td>BATERIA SAM A14 / A52 / S20 FE / A52S 100% Ori...</td>\n",
       "      <td>-1.0</td>\n",
       "      <td>-8.16</td>\n",
       "      <td>-2.699012e+04</td>\n",
       "      <td>NaN</td>\n",
       "      <td>-2.700000e+04</td>\n",
       "      <td>BATERIA SAM A14 / A52 / S20 FE / A52S 100% Ori...</td>\n",
       "    </tr>\n",
       "    <tr>\n",
       "      <th>1551</th>\n",
       "      <td>PE8818</td>\n",
       "      <td>Pendrive Kingston DataTraveler SE9 DTSE9H 32GB...</td>\n",
       "      <td>-2.0</td>\n",
       "      <td>-10.05</td>\n",
       "      <td>-1.598784e+04</td>\n",
       "      <td>NaN</td>\n",
       "      <td>-1.600000e+04</td>\n",
       "      <td>Pendrive Kingston DataTraveler SE9 DTSE9H 32GB...</td>\n",
       "    </tr>\n",
       "    <tr>\n",
       "      <th>1552</th>\n",
       "      <td>NaN</td>\n",
       "      <td>nan</td>\n",
       "      <td>NaN</td>\n",
       "      <td>NaN</td>\n",
       "      <td>NaN</td>\n",
       "      <td>NaN</td>\n",
       "      <td>NaN</td>\n",
       "      <td>nan</td>\n",
       "    </tr>\n",
       "    <tr>\n",
       "      <th>1553</th>\n",
       "      <td>NaN</td>\n",
       "      <td>nan</td>\n",
       "      <td>NaN</td>\n",
       "      <td>NaN</td>\n",
       "      <td>NaN</td>\n",
       "      <td>NaN</td>\n",
       "      <td>NaN</td>\n",
       "      <td>nan</td>\n",
       "    </tr>\n",
       "    <tr>\n",
       "      <th>1554</th>\n",
       "      <td>NaN</td>\n",
       "      <td>nan</td>\n",
       "      <td>6294.0</td>\n",
       "      <td>166296.86</td>\n",
       "      <td>1.294925e+08</td>\n",
       "      <td>NaN</td>\n",
       "      <td>1.308388e+08</td>\n",
       "      <td>nan</td>\n",
       "    </tr>\n",
       "  </tbody>\n",
       "</table>\n",
       "<p>1555 rows × 8 columns</p>\n",
       "</div>"
      ]
     },
     "execution_count": 288,
     "metadata": {},
     "output_type": "execute_result"
    }
   ],
   "execution_count": 288
  },
  {
   "metadata": {
    "ExecuteTime": {
     "end_time": "2024-12-27T16:04:43.481683Z",
     "start_time": "2024-12-27T16:04:43.466462Z"
    }
   },
   "cell_type": "code",
   "source": [
    "#ver valores en una lista con la cadena 'servicio' en su nombre\n",
    "df[df['Nombre del Producto'].str.contains('servicio', case=False)]['Nombre del Producto'].unique()"
   ],
   "id": "a0ec0ad495e1e760",
   "outputs": [
    {
     "data": {
      "text/plain": [
       "array(['SERVICIO TECNICO REVISION Y PRESUPUESTO',\n",
       "       'SERVICIO TECNICO INSTALACION DE MODULO',\n",
       "       'SERVICIO TECNICO REPARACION FPC',\n",
       "       'SERVICIO TECNICO SECADO Y RESOLDADO',\n",
       "       'SERVICIO TECNICO NOTE INSTALACION SOFTWARE',\n",
       "       'SERVICIO TECNICO SOFTWARE C/G CELULAR',\n",
       "       'SERVICIO TECNICO NOTE MANTENIMIENTO',\n",
       "       'SERVICIO TECNICO SOFTWARE ACTUALIZACION CELULAR',\n",
       "       'SERVICIO TECNICO SOFTWARE RE/GB',\n",
       "       'SERVICIO TECNICO MANTENIMIENTO PS4',\n",
       "       'SERVICIO TECNICO REPARACION FLEX', 'SERVICIO TECNICO CAMBIO FPC',\n",
       "       'SERVICIO TECNICO MANTENIMIENTO PS3',\n",
       "       'SERVICIO TECNICO SOFTWARE RE/GM',\n",
       "       'SERVICIO TECNICO MANTENIMIENTO PS2',\n",
       "       'SERVICIO TECNICO NOTE INSTALACION DISCO',\n",
       "       'MOTIVO CUAL SE LLEVO A CABO EL SERVICIO TECNICO CAMBIO DEL MISMO'],\n",
       "      dtype=object)"
      ]
     },
     "execution_count": 289,
     "metadata": {},
     "output_type": "execute_result"
    }
   ],
   "execution_count": 289
  },
  {
   "metadata": {
    "ExecuteTime": {
     "end_time": "2024-12-27T16:04:43.669794Z",
     "start_time": "2024-12-27T16:04:43.660466Z"
    }
   },
   "cell_type": "code",
   "source": [
    "#agregar en la columna 'Categoria'  la cadena 'Servicio' en cada fila si los valores  de la columna 'Nombre de Producto' tienen la cadena 'servicio' en su nombre,si no cumple esta condicion se deja el valor original\n",
    "df['Categoria'] = np.where(df['Nombre del Producto'].str.contains('servicio', case=False), 'Servicio Tecnico', df['Categoria'])"
   ],
   "id": "ce3f5ff18edb8cc5",
   "outputs": [],
   "execution_count": 290
  },
  {
   "metadata": {
    "ExecuteTime": {
     "end_time": "2024-12-27T16:04:43.956607Z",
     "start_time": "2024-12-27T16:04:43.934334Z"
    }
   },
   "cell_type": "code",
   "source": "df",
   "id": "32c5e21c89aa3dc0",
   "outputs": [
    {
     "data": {
      "text/plain": [
       "       Código                                Nombre del Producto  Cantidad  \\\n",
       "0     R124132  VIDRIO GLASS SAMSUNG  A02S / A03 / A03 CORE / ...      90.0   \n",
       "1      PI3017                       Pilas Boton 3 V Philco 2032       70.0   \n",
       "2       D1014  CABLE USB ONLY MOD48 / V8 / 3,1A BLANCO Y NEGR...      55.0   \n",
       "3          C6  Pin Carga Sam J7 pro / J7 prime / J5 prime / J...      54.0   \n",
       "4       SE966            SERVICIO TECNICO REVISION Y PRESUPUESTO      54.0   \n",
       "...       ...                                                ...       ...   \n",
       "1550  RC76393  BATERIA SAM A14 / A52 / S20 FE / A52S 100% Ori...      -1.0   \n",
       "1551   PE8818  Pendrive Kingston DataTraveler SE9 DTSE9H 32GB...      -2.0   \n",
       "1552      NaN                                                nan       NaN   \n",
       "1553      NaN                                                nan       NaN   \n",
       "1554      NaN                                                nan    6294.0   \n",
       "\n",
       "      Costo total      Ganancia  Ganancia prom. %   Venta total  \\\n",
       "0          120.80  3.569538e+05      2.955130e+05  3.571000e+05   \n",
       "1           32.20  7.391105e+04      2.295580e+05  7.395001e+04   \n",
       "2           35.29  1.551573e+05      4.396850e+05  1.552000e+05   \n",
       "3            1.17  1.382985e+05      1.214090e+12  1.420500e+05   \n",
       "4           12.42  6.536850e+05      5.263190e+11  6.537000e+05   \n",
       "...           ...           ...               ...           ...   \n",
       "1550        -8.16 -2.699012e+04               NaN -2.700000e+04   \n",
       "1551       -10.05 -1.598784e+04               NaN -1.600000e+04   \n",
       "1552          NaN           NaN               NaN           NaN   \n",
       "1553          NaN           NaN               NaN           NaN   \n",
       "1554    166296.86  1.294925e+08               NaN  1.308388e+08   \n",
       "\n",
       "                                              Categoria  \n",
       "0                                          Vidrio Glass  \n",
       "1                          Pilas Boton 3 V Philco 2032   \n",
       "2     CABLE USB ONLY MOD48 / V8 / 3,1A BLANCO Y NEGR...  \n",
       "3                                             Pin Carga  \n",
       "4                                      Servicio Tecnico  \n",
       "...                                                 ...  \n",
       "1550  BATERIA SAM A14 / A52 / S20 FE / A52S 100% Ori...  \n",
       "1551  Pendrive Kingston DataTraveler SE9 DTSE9H 32GB...  \n",
       "1552                                                nan  \n",
       "1553                                                nan  \n",
       "1554                                                nan  \n",
       "\n",
       "[1555 rows x 8 columns]"
      ],
      "text/html": [
       "<div>\n",
       "<style scoped>\n",
       "    .dataframe tbody tr th:only-of-type {\n",
       "        vertical-align: middle;\n",
       "    }\n",
       "\n",
       "    .dataframe tbody tr th {\n",
       "        vertical-align: top;\n",
       "    }\n",
       "\n",
       "    .dataframe thead th {\n",
       "        text-align: right;\n",
       "    }\n",
       "</style>\n",
       "<table border=\"1\" class=\"dataframe\">\n",
       "  <thead>\n",
       "    <tr style=\"text-align: right;\">\n",
       "      <th></th>\n",
       "      <th>Código</th>\n",
       "      <th>Nombre del Producto</th>\n",
       "      <th>Cantidad</th>\n",
       "      <th>Costo total</th>\n",
       "      <th>Ganancia</th>\n",
       "      <th>Ganancia prom. %</th>\n",
       "      <th>Venta total</th>\n",
       "      <th>Categoria</th>\n",
       "    </tr>\n",
       "  </thead>\n",
       "  <tbody>\n",
       "    <tr>\n",
       "      <th>0</th>\n",
       "      <td>R124132</td>\n",
       "      <td>VIDRIO GLASS SAMSUNG  A02S / A03 / A03 CORE / ...</td>\n",
       "      <td>90.0</td>\n",
       "      <td>120.80</td>\n",
       "      <td>3.569538e+05</td>\n",
       "      <td>2.955130e+05</td>\n",
       "      <td>3.571000e+05</td>\n",
       "      <td>Vidrio Glass</td>\n",
       "    </tr>\n",
       "    <tr>\n",
       "      <th>1</th>\n",
       "      <td>PI3017</td>\n",
       "      <td>Pilas Boton 3 V Philco 2032</td>\n",
       "      <td>70.0</td>\n",
       "      <td>32.20</td>\n",
       "      <td>7.391105e+04</td>\n",
       "      <td>2.295580e+05</td>\n",
       "      <td>7.395001e+04</td>\n",
       "      <td>Pilas Boton 3 V Philco 2032</td>\n",
       "    </tr>\n",
       "    <tr>\n",
       "      <th>2</th>\n",
       "      <td>D1014</td>\n",
       "      <td>CABLE USB ONLY MOD48 / V8 / 3,1A BLANCO Y NEGR...</td>\n",
       "      <td>55.0</td>\n",
       "      <td>35.29</td>\n",
       "      <td>1.551573e+05</td>\n",
       "      <td>4.396850e+05</td>\n",
       "      <td>1.552000e+05</td>\n",
       "      <td>CABLE USB ONLY MOD48 / V8 / 3,1A BLANCO Y NEGR...</td>\n",
       "    </tr>\n",
       "    <tr>\n",
       "      <th>3</th>\n",
       "      <td>C6</td>\n",
       "      <td>Pin Carga Sam J7 pro / J7 prime / J5 prime / J...</td>\n",
       "      <td>54.0</td>\n",
       "      <td>1.17</td>\n",
       "      <td>1.382985e+05</td>\n",
       "      <td>1.214090e+12</td>\n",
       "      <td>1.420500e+05</td>\n",
       "      <td>Pin Carga</td>\n",
       "    </tr>\n",
       "    <tr>\n",
       "      <th>4</th>\n",
       "      <td>SE966</td>\n",
       "      <td>SERVICIO TECNICO REVISION Y PRESUPUESTO</td>\n",
       "      <td>54.0</td>\n",
       "      <td>12.42</td>\n",
       "      <td>6.536850e+05</td>\n",
       "      <td>5.263190e+11</td>\n",
       "      <td>6.537000e+05</td>\n",
       "      <td>Servicio Tecnico</td>\n",
       "    </tr>\n",
       "    <tr>\n",
       "      <th>...</th>\n",
       "      <td>...</td>\n",
       "      <td>...</td>\n",
       "      <td>...</td>\n",
       "      <td>...</td>\n",
       "      <td>...</td>\n",
       "      <td>...</td>\n",
       "      <td>...</td>\n",
       "      <td>...</td>\n",
       "    </tr>\n",
       "    <tr>\n",
       "      <th>1550</th>\n",
       "      <td>RC76393</td>\n",
       "      <td>BATERIA SAM A14 / A52 / S20 FE / A52S 100% Ori...</td>\n",
       "      <td>-1.0</td>\n",
       "      <td>-8.16</td>\n",
       "      <td>-2.699012e+04</td>\n",
       "      <td>NaN</td>\n",
       "      <td>-2.700000e+04</td>\n",
       "      <td>BATERIA SAM A14 / A52 / S20 FE / A52S 100% Ori...</td>\n",
       "    </tr>\n",
       "    <tr>\n",
       "      <th>1551</th>\n",
       "      <td>PE8818</td>\n",
       "      <td>Pendrive Kingston DataTraveler SE9 DTSE9H 32GB...</td>\n",
       "      <td>-2.0</td>\n",
       "      <td>-10.05</td>\n",
       "      <td>-1.598784e+04</td>\n",
       "      <td>NaN</td>\n",
       "      <td>-1.600000e+04</td>\n",
       "      <td>Pendrive Kingston DataTraveler SE9 DTSE9H 32GB...</td>\n",
       "    </tr>\n",
       "    <tr>\n",
       "      <th>1552</th>\n",
       "      <td>NaN</td>\n",
       "      <td>nan</td>\n",
       "      <td>NaN</td>\n",
       "      <td>NaN</td>\n",
       "      <td>NaN</td>\n",
       "      <td>NaN</td>\n",
       "      <td>NaN</td>\n",
       "      <td>nan</td>\n",
       "    </tr>\n",
       "    <tr>\n",
       "      <th>1553</th>\n",
       "      <td>NaN</td>\n",
       "      <td>nan</td>\n",
       "      <td>NaN</td>\n",
       "      <td>NaN</td>\n",
       "      <td>NaN</td>\n",
       "      <td>NaN</td>\n",
       "      <td>NaN</td>\n",
       "      <td>nan</td>\n",
       "    </tr>\n",
       "    <tr>\n",
       "      <th>1554</th>\n",
       "      <td>NaN</td>\n",
       "      <td>nan</td>\n",
       "      <td>6294.0</td>\n",
       "      <td>166296.86</td>\n",
       "      <td>1.294925e+08</td>\n",
       "      <td>NaN</td>\n",
       "      <td>1.308388e+08</td>\n",
       "      <td>nan</td>\n",
       "    </tr>\n",
       "  </tbody>\n",
       "</table>\n",
       "<p>1555 rows × 8 columns</p>\n",
       "</div>"
      ]
     },
     "execution_count": 291,
     "metadata": {},
     "output_type": "execute_result"
    }
   ],
   "execution_count": 291
  },
  {
   "metadata": {
    "ExecuteTime": {
     "end_time": "2024-12-27T16:04:44.177095Z",
     "start_time": "2024-12-27T16:04:44.169342Z"
    }
   },
   "cell_type": "code",
   "source": [
    "#ver\n",
    "df['Categoria'].unique()"
   ],
   "id": "1e7e3ba15bd965ed",
   "outputs": [
    {
     "data": {
      "text/plain": [
       "array(['Vidrio Glass', 'Pilas Boton 3 V Philco 2032 ',\n",
       "       'CABLE USB ONLY MOD48 / V8 / 3,1A BLANCO Y NEGRO 110716401', ...,\n",
       "       'BATERIA SAM A14 / A52 / S20 FE / A52S 100% Original',\n",
       "       'Pendrive Kingston DataTraveler SE9 DTSE9H 32GB 2.0 plateado',\n",
       "       'nan'], dtype=object)"
      ]
     },
     "execution_count": 292,
     "metadata": {},
     "output_type": "execute_result"
    }
   ],
   "execution_count": 292
  },
  {
   "metadata": {
    "ExecuteTime": {
     "end_time": "2024-12-27T16:04:44.386997Z",
     "start_time": "2024-12-27T16:04:44.376599Z"
    }
   },
   "cell_type": "code",
   "source": [
    "#ver valores que no sean repetidos en la columna 'Categoria'\n",
    "df['Categoria'].value_counts()"
   ],
   "id": "33fa912ef0c897ad",
   "outputs": [
    {
     "data": {
      "text/plain": [
       "Categoria\n",
       "Modulo                                                        127\n",
       "Vidrio Glass                                                   96\n",
       "Modulo Original                                                59\n",
       "Placa de Carga                                                 53\n",
       "Pin Carga                                                      37\n",
       "                                                             ... \n",
       "RADIO RETRO AM FM CON LINTERNA / BLUETOOTH SEISA YX-119UBT      1\n",
       "REMOVEDOR DE GOMA Q5000 100MM                                   1\n",
       "ROUTER TP-LINK TL-WR850N WISP 2 ANTENAS 2.5DBI 300MBPS          1\n",
       "Radio Retro Am Fm Con Linterna Y Bluetooth Seisa YX-123UBT      1\n",
       "Mouse Bluetooth Recargable Trust Puck Negro                     1\n",
       "Name: count, Length: 1141, dtype: int64"
      ]
     },
     "execution_count": 293,
     "metadata": {},
     "output_type": "execute_result"
    }
   ],
   "execution_count": 293
  },
  {
   "metadata": {
    "ExecuteTime": {
     "end_time": "2024-12-27T16:04:44.967050Z",
     "start_time": "2024-12-27T16:04:44.845719Z"
    }
   },
   "cell_type": "code",
   "source": [
    "#ver filas  en 'categoria' con una cantidad de valores de 3\n",
    "df[df['Categoria'].str.len() == 3]"
   ],
   "id": "91bd8fde446b401c",
   "outputs": [
    {
     "data": {
      "text/plain": [
       "     Código Nombre del Producto  Cantidad  Costo total      Ganancia  \\\n",
       "1552    NaN                 nan       NaN          NaN           NaN   \n",
       "1553    NaN                 nan       NaN          NaN           NaN   \n",
       "1554    NaN                 nan    6294.0    166296.86  1.294925e+08   \n",
       "\n",
       "      Ganancia prom. %   Venta total Categoria  \n",
       "1552               NaN           NaN       nan  \n",
       "1553               NaN           NaN       nan  \n",
       "1554               NaN  1.308388e+08       nan  "
      ],
      "text/html": [
       "<div>\n",
       "<style scoped>\n",
       "    .dataframe tbody tr th:only-of-type {\n",
       "        vertical-align: middle;\n",
       "    }\n",
       "\n",
       "    .dataframe tbody tr th {\n",
       "        vertical-align: top;\n",
       "    }\n",
       "\n",
       "    .dataframe thead th {\n",
       "        text-align: right;\n",
       "    }\n",
       "</style>\n",
       "<table border=\"1\" class=\"dataframe\">\n",
       "  <thead>\n",
       "    <tr style=\"text-align: right;\">\n",
       "      <th></th>\n",
       "      <th>Código</th>\n",
       "      <th>Nombre del Producto</th>\n",
       "      <th>Cantidad</th>\n",
       "      <th>Costo total</th>\n",
       "      <th>Ganancia</th>\n",
       "      <th>Ganancia prom. %</th>\n",
       "      <th>Venta total</th>\n",
       "      <th>Categoria</th>\n",
       "    </tr>\n",
       "  </thead>\n",
       "  <tbody>\n",
       "    <tr>\n",
       "      <th>1552</th>\n",
       "      <td>NaN</td>\n",
       "      <td>nan</td>\n",
       "      <td>NaN</td>\n",
       "      <td>NaN</td>\n",
       "      <td>NaN</td>\n",
       "      <td>NaN</td>\n",
       "      <td>NaN</td>\n",
       "      <td>nan</td>\n",
       "    </tr>\n",
       "    <tr>\n",
       "      <th>1553</th>\n",
       "      <td>NaN</td>\n",
       "      <td>nan</td>\n",
       "      <td>NaN</td>\n",
       "      <td>NaN</td>\n",
       "      <td>NaN</td>\n",
       "      <td>NaN</td>\n",
       "      <td>NaN</td>\n",
       "      <td>nan</td>\n",
       "    </tr>\n",
       "    <tr>\n",
       "      <th>1554</th>\n",
       "      <td>NaN</td>\n",
       "      <td>nan</td>\n",
       "      <td>6294.0</td>\n",
       "      <td>166296.86</td>\n",
       "      <td>1.294925e+08</td>\n",
       "      <td>NaN</td>\n",
       "      <td>1.308388e+08</td>\n",
       "      <td>nan</td>\n",
       "    </tr>\n",
       "  </tbody>\n",
       "</table>\n",
       "</div>"
      ]
     },
     "execution_count": 294,
     "metadata": {},
     "output_type": "execute_result"
    }
   ],
   "execution_count": 294
  },
  {
   "metadata": {
    "ExecuteTime": {
     "end_time": "2024-12-27T16:04:45.188631Z",
     "start_time": "2024-12-27T16:04:45.177525Z"
    }
   },
   "cell_type": "code",
   "source": [
    "# ver valores en la columna categoria con la palabra 'cable'\n",
    "df[df['Categoria'].str.contains('cable', case=False)]['Categoria'].unique()"
   ],
   "id": "4a9c486b72416f6e",
   "outputs": [
    {
     "data": {
      "text/plain": [
       "array(['CABLE USB ONLY MOD48 / V8 / 3,1A BLANCO Y NEGRO 110716401',\n",
       "       'CABLE USB MOD 50 - TIPO C - 3,1A  BLANCO/NEGRO',\n",
       "       'CABLE USB ORIGINAL MOTOROLA NEGRO USB A TIPO C',\n",
       "       'CARGADOR 220V ONLY 05031A / 1 USB / CABLE V8 / 4,4A',\n",
       "       'CABLE USB ONLY MOD90 / Iphone / 4A HULK',\n",
       "       'CONVERSOR HDMI A VGA CON CABLE AUDIO SM-C7819',\n",
       "       'CABLE USB G POWER 5A TIPO C 1M',\n",
       "       'CABLE POWER ALIMENTACION PC / MONITOR 220V XC-P1801',\n",
       "       'Cable Hdmi 2.0 Ultra Hd 4K X 1,5M Shdmi2.0-1.5M',\n",
       "       'CARGADOR 220V XAEA 27W/ 1 USB / CABLE / NEGRO QC 3,0',\n",
       "       'CABLE USB ONLY MOD39 / V8 / 4,2A COLORES ',\n",
       "       'CABLE USB SAMSUNG TIPO C A C (3A)',\n",
       "       'CABLE USB TIPO C A LIGHTNING / IPHONE / CABN045',\n",
       "       'CABLE THOR USB MOD25 / V8 / ROJO Y NEGRO ONLY 4,4A 1M',\n",
       "       'Cable De Red Utp 20 Metros Rj45 Cat 5E Utp-20M',\n",
       "       'JOYSTICK XBOX 360 / PC CON CABLE 52A NJX301',\n",
       "       'AURICULAR CABLE SAMSUNG ORIGINAL RFTFB',\n",
       "       'CARCASA EXTERNA PARA DISCO RIGIDO 2.5 CON CABLE 3,0 / DX-1CAREXT2',\n",
       "       'Cable Adaptador De Audio Tipo Usb C A Plug Samsung JACK ADAPTER',\n",
       "       'Cable De Red Utp 2 Metros Rj45 Cat 5E Utp-2M',\n",
       "       'Pulsera Antiestatica Con Cable',\n",
       "       'CABLE AUXILIAR 2M DINAX DX-CABSPE2',\n",
       "       'CARGADOR 220V ONLY MOD06 / 1 USB / CABLE TIPO C 4,4A',\n",
       "       'CABLE DE RED 10M CB10M LXF6888 VSIN-10 CAT5E',\n",
       "       'CABLE HDMI 3 EN 1 CON ADAPTADORES CAB-6568 / TMCB 6556',\n",
       "       'Cable Extensor Usb 2.0 Macho A Macho Con Filtro 3mts LCS-30S Seisa',\n",
       "       'Cable Sata Datos Originales (OEM) SATA-DATOS',\n",
       "       'Cable USB 2.0 a Mini USB / V3 / PS3 / 1.5Mts Netmak NM-C20 ',\n",
       "       'Adaptador Ficha Union Empalme Rj45 Adaptador Hembra A Hembra Utp Cable De Red xibm69718',\n",
       "       'CABLE AUXILIAR 3.5MM A 3.5MM MALLADO IBEK AU-35 IBEK',\n",
       "       'CABLE AUXILIAR 4 CONTACTOS 3.5MM A 3.5MM  IBEK AU-90 IBEK',\n",
       "       'CABLE DE AUDIO 1.8 METROS DINAX DX-PLURCA18',\n",
       "       'CABLE POWER ALIMENTACION 8 OCHO PS4 PS3',\n",
       "       'CABLE USB G POWER 5A IPHONE 1M',\n",
       "       'Cable HDMI V1.4 (3Mtrs) soporta 3D Bolsa Netmak NM-C47 3 OEM',\n",
       "       'Cable Hdmi 2.0 Ultra Hd 4K X 3M Shdmi2.0-3M',\n",
       "       'BASTON SELFI STICK 3 GEN. QUALITY BLUETOOH 78 CM CON CABLE',\n",
       "       'CABLE DISPLAYPORT 2.0 4k 3m 06-006-3M',\n",
       "       'CARGADOR 220V ONLY 05031A / 2 USB / 1 CABLE V8 4,4A Negro ',\n",
       "       'CARGADOR 220V ONLY MOD02 2 USB + CABLE TIPO C BLANCO 05031J',\n",
       "       'Cable ADAPTADOR 3.5MM MACHO A 2 HEMBRAS',\n",
       "       'Cable HDMI-HDMI 1.5mtrs (V1.4) 3D Bolsa Netmak NM-C47-OEM',\n",
       "       'Cable Impresora USB A/B 2Mts NOGA SM-1039',\n",
       "       'Cable Impresora USB A/B 3Mts NOGA TR-1005',\n",
       "       'CABLE DE RED DINAX PATCH CORD 3MTS DX-CABRED3',\n",
       "       'CABLE DE RED DINAX PATCH CORD 5MTS DX-CABRED5',\n",
       "       'CABLE DISPLAYPORT 2.0 4k 1,8m 06-006-1,80M',\n",
       "       'CABLE USB 2.4 MOD44  TIPO C  COLORES ONLY',\n",
       "       'CABLE USB SEND TIPO C A C TURBO 3,1 SB01 BLANCO',\n",
       "       'Cable Hdmi 2.0 Ultra Hd 4K X 5M Shdmi2.0-5M',\n",
       "       'TECLADO CABLE NOGA NKB-78011',\n",
       "       'TECLADO MULTIMEDIA CABLE NOGA NKB-410',\n",
       "       'Auriculares Cable in-ear JBL C50HI Blanco',\n",
       "       'CABLE AUDIO VIDEO 3 RCA X 3 RCA 1,8 Mts',\n",
       "       'CABLE MACHO A HEMBRA USB 5M ALARGUE',\n",
       "       'Cable Hdmi 2.0 Ultra Hd 4K X 10M Shdmi2.0-10M',\n",
       "       'Cable Hdmi A Hdmi 1.5M Color Negro',\n",
       "       'Cargador Motorola 50W doble puerto con cable C a C EN CAJA ',\n",
       "       'AURICULAR CABLE MAXXA A17+ COLORES',\n",
       "       'CABLE ADAPTADOR DISCO SATA EXTERNO A USB 3,0 / DXADAPDDUSB',\n",
       "       'CABLE AUXILIAR 1M WUW R116', 'CABLE AUXILIAR 3.5MM A 3.5MM T-E2',\n",
       "       'CABLE CARGA Y JUEGA JOYSTICK XBOX 360',\n",
       "       'CABLE DE AUDIO TIPO C A 3,5MM / MACHO A MACHO / STEREO - 1M GM6079',\n",
       "       'CABLE HDMI A VGA 1.5M MALLADO HDTV TO VGA',\n",
       "       'CABLE MACHO A HEMBRA USB 3M ALARGUE',\n",
       "       'CABLE MINI USB (PS3) MINIUSB01 GM-3401',\n",
       "       'CABLE PULPO PARA FUENTE 741049192867',\n",
       "       'CABLE USB ORIGINAL MOTOROLA NEGRO TIPO C A C',\n",
       "       'CABLE USB PRO21 TIPO C BLANCO APTO 2A',\n",
       "       'CARGADOR MOTO CON CABLE TIPO C A TIPO C 30W TURBO ca612',\n",
       "       'Cable De Red Utp 10 Metros Rj45 Cat 5E Utp-10M',\n",
       "       'Cable HDMI V1.4 (15 Mtrs.) soporta 3D Bolsa Netmak NM-C47 15',\n",
       "       'Cable HDMI V1.4 (20 Mtrs.) soporta 3D Bolsa Netmak NM-C47 20',\n",
       "       'Cable Miniusb 1,5M M-MINI5P',\n",
       "       'Cable Power Trebol 220V 1.5Mtrs (notebook) Netmak NM-C46',\n",
       "       'Cable Pulpo Fpc Para iPhone Y Andriod S24 Max Mechanic',\n",
       "       'Cable USB a USB 3.0 Disco Externo Cable 1 Metro 09-038',\n",
       "       'Cable Usb Tipo C a Lightning Cargador Apple iPhone Ipad 1M MQGJ2ZM/A',\n",
       "       'Cable Vga Con Filtro 1,50 Mts. 4150611',\n",
       "       'Cable Vga M/M 1.5M Netmak NM-C18',\n",
       "       'Mouse Cable Xtrike Me Gamer Gm-510 4800dpi',\n",
       "       'Pinza Crimpeadora Para Cables RJ45 con Pelacables WJ-315',\n",
       "       'TECLADO CABLE USB DINAX DXTECH643',\n",
       "       'AURICULAR CABLE LG KM900E NEGRO',\n",
       "       'AURICULAR CABLE WUW R121 BLANCO',\n",
       "       'AURICULAR CON CABLE DINAX DX-AUPAS01',\n",
       "       'AURICULAR GAMER Only GM-889MV Micrófono Cable Altavoz ROJO',\n",
       "       'AURICULAR VINCHA CABLE MAXXA V45 COLORES',\n",
       "       'Adaptador De Usb A Sata/ide Con Fuente Y Cables Universal Noga HE2020',\n",
       "       'Auricular CON Vincha en metal y simil cuero 2000X Cable desmontable y microfono VIR-1222',\n",
       "       'Auricular Vincha BT Haylou S35 Anc  / Gamer Diadema Con Cable / Cancelación De Ruido / Llamadas De Voz Hd / Control Tacti/ Bluetooth 5,2  Azul Oscuro',\n",
       "       'Bateria Pila Recargable 18650 2600 Mah 3.7v Con Cable',\n",
       "       'CABLE ADAPTADOR USB 3.0 A SATA USB3 A SATA',\n",
       "       'CABLE AUDIO VIDEO PARA PS2  SJ-9952K SEISA',\n",
       "       'CABLE DE RED ITLY PATCH CORD 20MTS CAT5E',\n",
       "       'CABLE DE RED NOGA PATCH CORD 10MTS',\n",
       "       'CABLE HDMI A HDMI 8K ULTRA HD 4320P 1.5M PREMIUM',\n",
       "       'CABLE HDMI PLANO 1,5M ASTROTECH HDMI A HDMI FLAT',\n",
       "       'CABLE MHL TIPO C A HDMI 4K HC-01',\n",
       "       'CABLE OTG A USB MICRO V8 S-K07',\n",
       "       'CABLE USB MICRO TELA 1.5Mts  CA-003 COLORES',\n",
       "       'CABLE USB MOD47  TIPO C - COLORES  2.4 A 1M  TRENZADO',\n",
       "       'CABLE USB SAMSUNG TIPO C A TIPO C',\n",
       "       'CABLE VGA 1.5M DINAX DX-2VGA15M',\n",
       "       'CARGADOR MOTOROLA ORIGINAL 68W CON CABLE C A C CAJA',\n",
       "       'CONVERSOR VGA A HDMI CON AUDIO Y USB (CABLE) 1244',\n",
       "       'Cable Adaptador De Dvi-D (24+1) A Vga / Con Audio 09-020',\n",
       "       'Cable Alargue Mini Plug Macho Hembra 3.5Mm 1,5M P1036',\n",
       "       'Cable De Red Utp 5 Metros Rj45 Cat 5E Utp-5M',\n",
       "       'Cable HDMI V1.4 (5Mtrs) soporta 3D Bolsa Netmak NM-C47 5 OEM',\n",
       "       'Cable HDMI a Mini-HDMI 1.8 Mtrs Noganet HDMI A MINI',\n",
       "       'Cable Hdmi 2.1 Ultra Label 8K-48Gbps Mallado X 2 Metros Lhdmi-2.1-2M',\n",
       "       'Cable Impresora USB 2.0 A macho B macho 1.8Mtrs Netmak NM-C03 1.8',\n",
       "       'Cable Sata Power Molex Discos Rigidos 4 Pin Noga TR-1005',\n",
       "       'Cable Usb Macho A Macho 1,5Mts Alta Velocidad CB090 / 3125',\n",
       "       'Cable Usb Type C 5A Turbo Ibek Cb-53',\n",
       "       'Cable miniplug 3.5mm macho a miniplug 3.5mm Hembra (prolongador) 1.8m Noganet AC-56',\n",
       "       'Cables Cocodrilo Fuente W12 CABMEC003',\n",
       "       'Cargador Samsung Ultra Rapido Original 25W Cable Tipo C A C PD ADAPTER',\n",
       "       'Joystick T-Dagger Aries PC T-TGP500 Con Cable Usb / Pc / Ps3',\n",
       "       'MOUSE CABLE HAVIT GAMER MS1022 3200dpi',\n",
       "       'Mouse Cable Xtrike Me Gamer Gm-216 3600dpi',\n",
       "       'Teclado Seisa Con Mouse Usb DN-D5200 Con Cable',\n",
       "       'Tester De Cable Utp Rj45 Rj11 Telefono Internet Red JS-468',\n",
       "       'Zapatilla Binorma 5 Bocas cable 1.5 Mtrs c/llave  Sybyd  301/7 - 302/7',\n",
       "       'Antena Tda 4k 5.0 Dbi Con Cable De 5 Mts Interior Y Exterior SG-3003',\n",
       "       'Cable Hdmi 2.1 Ultra Label 8K-48Gbps Mallado X 1M Lhdmi-2.1-1M'],\n",
       "      dtype=object)"
      ]
     },
     "execution_count": 295,
     "metadata": {},
     "output_type": "execute_result"
    }
   ],
   "execution_count": 295
  },
  {
   "metadata": {
    "ExecuteTime": {
     "end_time": "2024-12-27T16:04:45.690126Z",
     "start_time": "2024-12-27T16:04:45.669071Z"
    }
   },
   "cell_type": "code",
   "source": [
    "#agregar en la columna 'Categoria'  la cadena 'Cable' en cada fila si los valores  de la columna 'Nombre de Producto' tienen la cadena 'cable' en su nombre y si no tienen las siguientes cadenas : Cargador, Conversor, JOYSTICK, AURICULAR, CARCASA, Pulsera, Adaptador, BASTON, TECLADO, Auriculares, Mouse, Pinza, Tester ,Zapatilla y Antena. si no cumple esta condicion se deja el valor original\n",
    "df['Categoria'] = np.where(df['Nombre del Producto'].str.contains('cable', case=False) & ~df['Nombre del Producto'].str.contains('Cargador|Conversor|JOYSTICK|AURICULAR|CARCASA|Pulsera|Adaptador|BASTON|TECLADO|Auriculares|Mouse|Pinza|Tester|Zapatilla|Antena', case=False), 'Cable', df['Categoria'])"
   ],
   "id": "c8c9da12576390d",
   "outputs": [],
   "execution_count": 296
  },
  {
   "metadata": {
    "ExecuteTime": {
     "end_time": "2024-12-27T16:04:46.059953Z",
     "start_time": "2024-12-27T16:04:46.039633Z"
    }
   },
   "cell_type": "code",
   "source": "df",
   "id": "5ba74d98020140cf",
   "outputs": [
    {
     "data": {
      "text/plain": [
       "       Código                                Nombre del Producto  Cantidad  \\\n",
       "0     R124132  VIDRIO GLASS SAMSUNG  A02S / A03 / A03 CORE / ...      90.0   \n",
       "1      PI3017                       Pilas Boton 3 V Philco 2032       70.0   \n",
       "2       D1014  CABLE USB ONLY MOD48 / V8 / 3,1A BLANCO Y NEGR...      55.0   \n",
       "3          C6  Pin Carga Sam J7 pro / J7 prime / J5 prime / J...      54.0   \n",
       "4       SE966            SERVICIO TECNICO REVISION Y PRESUPUESTO      54.0   \n",
       "...       ...                                                ...       ...   \n",
       "1550  RC76393  BATERIA SAM A14 / A52 / S20 FE / A52S 100% Ori...      -1.0   \n",
       "1551   PE8818  Pendrive Kingston DataTraveler SE9 DTSE9H 32GB...      -2.0   \n",
       "1552      NaN                                                nan       NaN   \n",
       "1553      NaN                                                nan       NaN   \n",
       "1554      NaN                                                nan    6294.0   \n",
       "\n",
       "      Costo total      Ganancia  Ganancia prom. %   Venta total  \\\n",
       "0          120.80  3.569538e+05      2.955130e+05  3.571000e+05   \n",
       "1           32.20  7.391105e+04      2.295580e+05  7.395001e+04   \n",
       "2           35.29  1.551573e+05      4.396850e+05  1.552000e+05   \n",
       "3            1.17  1.382985e+05      1.214090e+12  1.420500e+05   \n",
       "4           12.42  6.536850e+05      5.263190e+11  6.537000e+05   \n",
       "...           ...           ...               ...           ...   \n",
       "1550        -8.16 -2.699012e+04               NaN -2.700000e+04   \n",
       "1551       -10.05 -1.598784e+04               NaN -1.600000e+04   \n",
       "1552          NaN           NaN               NaN           NaN   \n",
       "1553          NaN           NaN               NaN           NaN   \n",
       "1554    166296.86  1.294925e+08               NaN  1.308388e+08   \n",
       "\n",
       "                                              Categoria  \n",
       "0                                          Vidrio Glass  \n",
       "1                          Pilas Boton 3 V Philco 2032   \n",
       "2                                                 Cable  \n",
       "3                                             Pin Carga  \n",
       "4                                      Servicio Tecnico  \n",
       "...                                                 ...  \n",
       "1550  BATERIA SAM A14 / A52 / S20 FE / A52S 100% Ori...  \n",
       "1551  Pendrive Kingston DataTraveler SE9 DTSE9H 32GB...  \n",
       "1552                                                nan  \n",
       "1553                                                nan  \n",
       "1554                                                nan  \n",
       "\n",
       "[1555 rows x 8 columns]"
      ],
      "text/html": [
       "<div>\n",
       "<style scoped>\n",
       "    .dataframe tbody tr th:only-of-type {\n",
       "        vertical-align: middle;\n",
       "    }\n",
       "\n",
       "    .dataframe tbody tr th {\n",
       "        vertical-align: top;\n",
       "    }\n",
       "\n",
       "    .dataframe thead th {\n",
       "        text-align: right;\n",
       "    }\n",
       "</style>\n",
       "<table border=\"1\" class=\"dataframe\">\n",
       "  <thead>\n",
       "    <tr style=\"text-align: right;\">\n",
       "      <th></th>\n",
       "      <th>Código</th>\n",
       "      <th>Nombre del Producto</th>\n",
       "      <th>Cantidad</th>\n",
       "      <th>Costo total</th>\n",
       "      <th>Ganancia</th>\n",
       "      <th>Ganancia prom. %</th>\n",
       "      <th>Venta total</th>\n",
       "      <th>Categoria</th>\n",
       "    </tr>\n",
       "  </thead>\n",
       "  <tbody>\n",
       "    <tr>\n",
       "      <th>0</th>\n",
       "      <td>R124132</td>\n",
       "      <td>VIDRIO GLASS SAMSUNG  A02S / A03 / A03 CORE / ...</td>\n",
       "      <td>90.0</td>\n",
       "      <td>120.80</td>\n",
       "      <td>3.569538e+05</td>\n",
       "      <td>2.955130e+05</td>\n",
       "      <td>3.571000e+05</td>\n",
       "      <td>Vidrio Glass</td>\n",
       "    </tr>\n",
       "    <tr>\n",
       "      <th>1</th>\n",
       "      <td>PI3017</td>\n",
       "      <td>Pilas Boton 3 V Philco 2032</td>\n",
       "      <td>70.0</td>\n",
       "      <td>32.20</td>\n",
       "      <td>7.391105e+04</td>\n",
       "      <td>2.295580e+05</td>\n",
       "      <td>7.395001e+04</td>\n",
       "      <td>Pilas Boton 3 V Philco 2032</td>\n",
       "    </tr>\n",
       "    <tr>\n",
       "      <th>2</th>\n",
       "      <td>D1014</td>\n",
       "      <td>CABLE USB ONLY MOD48 / V8 / 3,1A BLANCO Y NEGR...</td>\n",
       "      <td>55.0</td>\n",
       "      <td>35.29</td>\n",
       "      <td>1.551573e+05</td>\n",
       "      <td>4.396850e+05</td>\n",
       "      <td>1.552000e+05</td>\n",
       "      <td>Cable</td>\n",
       "    </tr>\n",
       "    <tr>\n",
       "      <th>3</th>\n",
       "      <td>C6</td>\n",
       "      <td>Pin Carga Sam J7 pro / J7 prime / J5 prime / J...</td>\n",
       "      <td>54.0</td>\n",
       "      <td>1.17</td>\n",
       "      <td>1.382985e+05</td>\n",
       "      <td>1.214090e+12</td>\n",
       "      <td>1.420500e+05</td>\n",
       "      <td>Pin Carga</td>\n",
       "    </tr>\n",
       "    <tr>\n",
       "      <th>4</th>\n",
       "      <td>SE966</td>\n",
       "      <td>SERVICIO TECNICO REVISION Y PRESUPUESTO</td>\n",
       "      <td>54.0</td>\n",
       "      <td>12.42</td>\n",
       "      <td>6.536850e+05</td>\n",
       "      <td>5.263190e+11</td>\n",
       "      <td>6.537000e+05</td>\n",
       "      <td>Servicio Tecnico</td>\n",
       "    </tr>\n",
       "    <tr>\n",
       "      <th>...</th>\n",
       "      <td>...</td>\n",
       "      <td>...</td>\n",
       "      <td>...</td>\n",
       "      <td>...</td>\n",
       "      <td>...</td>\n",
       "      <td>...</td>\n",
       "      <td>...</td>\n",
       "      <td>...</td>\n",
       "    </tr>\n",
       "    <tr>\n",
       "      <th>1550</th>\n",
       "      <td>RC76393</td>\n",
       "      <td>BATERIA SAM A14 / A52 / S20 FE / A52S 100% Ori...</td>\n",
       "      <td>-1.0</td>\n",
       "      <td>-8.16</td>\n",
       "      <td>-2.699012e+04</td>\n",
       "      <td>NaN</td>\n",
       "      <td>-2.700000e+04</td>\n",
       "      <td>BATERIA SAM A14 / A52 / S20 FE / A52S 100% Ori...</td>\n",
       "    </tr>\n",
       "    <tr>\n",
       "      <th>1551</th>\n",
       "      <td>PE8818</td>\n",
       "      <td>Pendrive Kingston DataTraveler SE9 DTSE9H 32GB...</td>\n",
       "      <td>-2.0</td>\n",
       "      <td>-10.05</td>\n",
       "      <td>-1.598784e+04</td>\n",
       "      <td>NaN</td>\n",
       "      <td>-1.600000e+04</td>\n",
       "      <td>Pendrive Kingston DataTraveler SE9 DTSE9H 32GB...</td>\n",
       "    </tr>\n",
       "    <tr>\n",
       "      <th>1552</th>\n",
       "      <td>NaN</td>\n",
       "      <td>nan</td>\n",
       "      <td>NaN</td>\n",
       "      <td>NaN</td>\n",
       "      <td>NaN</td>\n",
       "      <td>NaN</td>\n",
       "      <td>NaN</td>\n",
       "      <td>nan</td>\n",
       "    </tr>\n",
       "    <tr>\n",
       "      <th>1553</th>\n",
       "      <td>NaN</td>\n",
       "      <td>nan</td>\n",
       "      <td>NaN</td>\n",
       "      <td>NaN</td>\n",
       "      <td>NaN</td>\n",
       "      <td>NaN</td>\n",
       "      <td>NaN</td>\n",
       "      <td>nan</td>\n",
       "    </tr>\n",
       "    <tr>\n",
       "      <th>1554</th>\n",
       "      <td>NaN</td>\n",
       "      <td>nan</td>\n",
       "      <td>6294.0</td>\n",
       "      <td>166296.86</td>\n",
       "      <td>1.294925e+08</td>\n",
       "      <td>NaN</td>\n",
       "      <td>1.308388e+08</td>\n",
       "      <td>nan</td>\n",
       "    </tr>\n",
       "  </tbody>\n",
       "</table>\n",
       "<p>1555 rows × 8 columns</p>\n",
       "</div>"
      ]
     },
     "execution_count": 297,
     "metadata": {},
     "output_type": "execute_result"
    }
   ],
   "execution_count": 297
  },
  {
   "metadata": {
    "ExecuteTime": {
     "end_time": "2024-12-27T16:04:46.301621Z",
     "start_time": "2024-12-27T16:04:46.284878Z"
    }
   },
   "cell_type": "code",
   "source": [
    "#agregar en la columna 'Categoria'  la cadena 'Camara de Seguridad' en cada fila si los valores  de la columna 'Nombre de Producto' tienen la cadena 'Camara de Seguridad' en su nombre y si no tienen la siguiente cadena 'fuente'\n",
    "df['Categoria'] = np.where(df['Nombre del Producto'].str.contains('Camara de Seguridad', case=False) & ~df['Nombre del Producto'].str.contains('fuente', case=False), 'Camara de Seguridad', df['Categoria'])"
   ],
   "id": "fc7b4e68b7d9eb50",
   "outputs": [],
   "execution_count": 298
  },
  {
   "metadata": {
    "ExecuteTime": {
     "end_time": "2024-12-27T16:04:46.474976Z",
     "start_time": "2024-12-27T16:04:46.455020Z"
    }
   },
   "cell_type": "code",
   "source": "df",
   "id": "b656385850cffe0b",
   "outputs": [
    {
     "data": {
      "text/plain": [
       "       Código                                Nombre del Producto  Cantidad  \\\n",
       "0     R124132  VIDRIO GLASS SAMSUNG  A02S / A03 / A03 CORE / ...      90.0   \n",
       "1      PI3017                       Pilas Boton 3 V Philco 2032       70.0   \n",
       "2       D1014  CABLE USB ONLY MOD48 / V8 / 3,1A BLANCO Y NEGR...      55.0   \n",
       "3          C6  Pin Carga Sam J7 pro / J7 prime / J5 prime / J...      54.0   \n",
       "4       SE966            SERVICIO TECNICO REVISION Y PRESUPUESTO      54.0   \n",
       "...       ...                                                ...       ...   \n",
       "1550  RC76393  BATERIA SAM A14 / A52 / S20 FE / A52S 100% Ori...      -1.0   \n",
       "1551   PE8818  Pendrive Kingston DataTraveler SE9 DTSE9H 32GB...      -2.0   \n",
       "1552      NaN                                                nan       NaN   \n",
       "1553      NaN                                                nan       NaN   \n",
       "1554      NaN                                                nan    6294.0   \n",
       "\n",
       "      Costo total      Ganancia  Ganancia prom. %   Venta total  \\\n",
       "0          120.80  3.569538e+05      2.955130e+05  3.571000e+05   \n",
       "1           32.20  7.391105e+04      2.295580e+05  7.395001e+04   \n",
       "2           35.29  1.551573e+05      4.396850e+05  1.552000e+05   \n",
       "3            1.17  1.382985e+05      1.214090e+12  1.420500e+05   \n",
       "4           12.42  6.536850e+05      5.263190e+11  6.537000e+05   \n",
       "...           ...           ...               ...           ...   \n",
       "1550        -8.16 -2.699012e+04               NaN -2.700000e+04   \n",
       "1551       -10.05 -1.598784e+04               NaN -1.600000e+04   \n",
       "1552          NaN           NaN               NaN           NaN   \n",
       "1553          NaN           NaN               NaN           NaN   \n",
       "1554    166296.86  1.294925e+08               NaN  1.308388e+08   \n",
       "\n",
       "                                              Categoria  \n",
       "0                                          Vidrio Glass  \n",
       "1                          Pilas Boton 3 V Philco 2032   \n",
       "2                                                 Cable  \n",
       "3                                             Pin Carga  \n",
       "4                                      Servicio Tecnico  \n",
       "...                                                 ...  \n",
       "1550  BATERIA SAM A14 / A52 / S20 FE / A52S 100% Ori...  \n",
       "1551  Pendrive Kingston DataTraveler SE9 DTSE9H 32GB...  \n",
       "1552                                                nan  \n",
       "1553                                                nan  \n",
       "1554                                                nan  \n",
       "\n",
       "[1555 rows x 8 columns]"
      ],
      "text/html": [
       "<div>\n",
       "<style scoped>\n",
       "    .dataframe tbody tr th:only-of-type {\n",
       "        vertical-align: middle;\n",
       "    }\n",
       "\n",
       "    .dataframe tbody tr th {\n",
       "        vertical-align: top;\n",
       "    }\n",
       "\n",
       "    .dataframe thead th {\n",
       "        text-align: right;\n",
       "    }\n",
       "</style>\n",
       "<table border=\"1\" class=\"dataframe\">\n",
       "  <thead>\n",
       "    <tr style=\"text-align: right;\">\n",
       "      <th></th>\n",
       "      <th>Código</th>\n",
       "      <th>Nombre del Producto</th>\n",
       "      <th>Cantidad</th>\n",
       "      <th>Costo total</th>\n",
       "      <th>Ganancia</th>\n",
       "      <th>Ganancia prom. %</th>\n",
       "      <th>Venta total</th>\n",
       "      <th>Categoria</th>\n",
       "    </tr>\n",
       "  </thead>\n",
       "  <tbody>\n",
       "    <tr>\n",
       "      <th>0</th>\n",
       "      <td>R124132</td>\n",
       "      <td>VIDRIO GLASS SAMSUNG  A02S / A03 / A03 CORE / ...</td>\n",
       "      <td>90.0</td>\n",
       "      <td>120.80</td>\n",
       "      <td>3.569538e+05</td>\n",
       "      <td>2.955130e+05</td>\n",
       "      <td>3.571000e+05</td>\n",
       "      <td>Vidrio Glass</td>\n",
       "    </tr>\n",
       "    <tr>\n",
       "      <th>1</th>\n",
       "      <td>PI3017</td>\n",
       "      <td>Pilas Boton 3 V Philco 2032</td>\n",
       "      <td>70.0</td>\n",
       "      <td>32.20</td>\n",
       "      <td>7.391105e+04</td>\n",
       "      <td>2.295580e+05</td>\n",
       "      <td>7.395001e+04</td>\n",
       "      <td>Pilas Boton 3 V Philco 2032</td>\n",
       "    </tr>\n",
       "    <tr>\n",
       "      <th>2</th>\n",
       "      <td>D1014</td>\n",
       "      <td>CABLE USB ONLY MOD48 / V8 / 3,1A BLANCO Y NEGR...</td>\n",
       "      <td>55.0</td>\n",
       "      <td>35.29</td>\n",
       "      <td>1.551573e+05</td>\n",
       "      <td>4.396850e+05</td>\n",
       "      <td>1.552000e+05</td>\n",
       "      <td>Cable</td>\n",
       "    </tr>\n",
       "    <tr>\n",
       "      <th>3</th>\n",
       "      <td>C6</td>\n",
       "      <td>Pin Carga Sam J7 pro / J7 prime / J5 prime / J...</td>\n",
       "      <td>54.0</td>\n",
       "      <td>1.17</td>\n",
       "      <td>1.382985e+05</td>\n",
       "      <td>1.214090e+12</td>\n",
       "      <td>1.420500e+05</td>\n",
       "      <td>Pin Carga</td>\n",
       "    </tr>\n",
       "    <tr>\n",
       "      <th>4</th>\n",
       "      <td>SE966</td>\n",
       "      <td>SERVICIO TECNICO REVISION Y PRESUPUESTO</td>\n",
       "      <td>54.0</td>\n",
       "      <td>12.42</td>\n",
       "      <td>6.536850e+05</td>\n",
       "      <td>5.263190e+11</td>\n",
       "      <td>6.537000e+05</td>\n",
       "      <td>Servicio Tecnico</td>\n",
       "    </tr>\n",
       "    <tr>\n",
       "      <th>...</th>\n",
       "      <td>...</td>\n",
       "      <td>...</td>\n",
       "      <td>...</td>\n",
       "      <td>...</td>\n",
       "      <td>...</td>\n",
       "      <td>...</td>\n",
       "      <td>...</td>\n",
       "      <td>...</td>\n",
       "    </tr>\n",
       "    <tr>\n",
       "      <th>1550</th>\n",
       "      <td>RC76393</td>\n",
       "      <td>BATERIA SAM A14 / A52 / S20 FE / A52S 100% Ori...</td>\n",
       "      <td>-1.0</td>\n",
       "      <td>-8.16</td>\n",
       "      <td>-2.699012e+04</td>\n",
       "      <td>NaN</td>\n",
       "      <td>-2.700000e+04</td>\n",
       "      <td>BATERIA SAM A14 / A52 / S20 FE / A52S 100% Ori...</td>\n",
       "    </tr>\n",
       "    <tr>\n",
       "      <th>1551</th>\n",
       "      <td>PE8818</td>\n",
       "      <td>Pendrive Kingston DataTraveler SE9 DTSE9H 32GB...</td>\n",
       "      <td>-2.0</td>\n",
       "      <td>-10.05</td>\n",
       "      <td>-1.598784e+04</td>\n",
       "      <td>NaN</td>\n",
       "      <td>-1.600000e+04</td>\n",
       "      <td>Pendrive Kingston DataTraveler SE9 DTSE9H 32GB...</td>\n",
       "    </tr>\n",
       "    <tr>\n",
       "      <th>1552</th>\n",
       "      <td>NaN</td>\n",
       "      <td>nan</td>\n",
       "      <td>NaN</td>\n",
       "      <td>NaN</td>\n",
       "      <td>NaN</td>\n",
       "      <td>NaN</td>\n",
       "      <td>NaN</td>\n",
       "      <td>nan</td>\n",
       "    </tr>\n",
       "    <tr>\n",
       "      <th>1553</th>\n",
       "      <td>NaN</td>\n",
       "      <td>nan</td>\n",
       "      <td>NaN</td>\n",
       "      <td>NaN</td>\n",
       "      <td>NaN</td>\n",
       "      <td>NaN</td>\n",
       "      <td>NaN</td>\n",
       "      <td>nan</td>\n",
       "    </tr>\n",
       "    <tr>\n",
       "      <th>1554</th>\n",
       "      <td>NaN</td>\n",
       "      <td>nan</td>\n",
       "      <td>6294.0</td>\n",
       "      <td>166296.86</td>\n",
       "      <td>1.294925e+08</td>\n",
       "      <td>NaN</td>\n",
       "      <td>1.308388e+08</td>\n",
       "      <td>nan</td>\n",
       "    </tr>\n",
       "  </tbody>\n",
       "</table>\n",
       "<p>1555 rows × 8 columns</p>\n",
       "</div>"
      ]
     },
     "execution_count": 299,
     "metadata": {},
     "output_type": "execute_result"
    }
   ],
   "execution_count": 299
  },
  {
   "metadata": {
    "ExecuteTime": {
     "end_time": "2024-12-27T16:04:46.982473Z",
     "start_time": "2024-12-27T16:04:46.972189Z"
    }
   },
   "cell_type": "code",
   "source": [
    "#ver valores con la cadena 'bateria' en su nombre\n",
    "df[df['Nombre del Producto'].str.contains('bateria', case=False)]['Nombre del Producto'].unique()"
   ],
   "id": "b9c5976bb9c02c50",
   "outputs": [
    {
     "data": {
      "text/plain": [
       "array(['BATERIA MOTO G52 / G82 / G72 NE50 100% Original',\n",
       "       'BATERIA SAM J2 PRIME / GRAND PRIME / J2 CORE ONLY',\n",
       "       'BATERIA MOTO Edge 30 Nd40 ( Nc50 Compatible) 100% Original',\n",
       "       'BATERIA SAM J700 / J7 NEO / J400 To',\n",
       "       'BATERIA MOTO E6 Play E6s E6i Ks40 100% Original',\n",
       "       'BATERIA SAM A11 A10s A107 A20s A207 4000mah 100% Original',\n",
       "       'BATERIA XIAOMI NOTE 8 / NOTE 8T / REDMI 7 BN46 WEST',\n",
       "       'BATERIA MOTO G200 Mb50 Original',\n",
       "       'BATERIA MOTO G8 / G8 Play / E7 / One Macro Kg40 WEST',\n",
       "       'Bateria Litio LC18650 Recargable Unrivaled / Ultrafire  4000mAH 3.7V',\n",
       "       'BATERIA IPHONE 11 FOXCONN',\n",
       "       'BATERIA MOTO G42 / G62 / G31 ND50 100% Original Desarme',\n",
       "       'BATERIA MOTO G7 Power / One Fusion / G8 power lite / G9 play / E7 plus / G20 / G30 JK50 WEST',\n",
       "       'BATERIA SAM A20 / A30 / A30S / A50 WEST',\n",
       "       'ACTIVADOR Y CARGADOR DE BATERIA ER-BA19',\n",
       "       'BATERIA IPHONE 8 PLUS FOXCONN', 'BATERIA IPHONE X / XS FOXCONN*',\n",
       "       'BATERIA MOTO E22 E22i Nh40 100% Original',\n",
       "       'BATERIA MOTO E32 / G22 / E13 Nh50 100% Original',\n",
       "       'BATERIA SAM A52 / S20 FE / A52S TO',\n",
       "       'BATERIA MOTO E22 / E22i Nh40 100% Original Desarme',\n",
       "       'BATERIA MOTO G42 / G62 / G31- ND50 100% Original',\n",
       "       'BATERIA MOTO G7 Power / One Fusion / G8 power lite / G9 play / E7 plus / G20 / G30 JK50 100% Original',\n",
       "       'BATERIA MOTO G7 Power / One Fusion / G8 power lite / G9 play / E7 plus / G20 / G30 JK50 100% Original Desarme',\n",
       "       'BATERIA NOKIA 1100 ONLY',\n",
       "       'BATERIA XIAOMI XIAOMI NOTE 9 - REDMI 9 Bn54 WEST',\n",
       "       'BATERIA IPHONE 7 AmpSentrix', 'BATERIA IPHONE 7 PLUS FOXCONN',\n",
       "       'BATERIA SAM A51 WEST', 'BATERIA SAM J2 PRIME TO BOLSA GRIS',\n",
       "       'BATERIA SAM J2 PRIME TO*',\n",
       "       'BATERIA SAM J710 J7 2016 PRO 21/ ONLY',\n",
       "       'BATERIA XIAOMI Note 7 Pro - Note 7 Bn4a 4000mah WEST',\n",
       "       'BATERIA XIAOMI REDMI 6X / MI A2 BN36 WEST',\n",
       "       'BATERIA IPHONE 6G FOXCONN', 'BATERIA IPHONE XS / IPHONE X WEST',\n",
       "       'BATERIA MOTO Edge 20 Lite Xt2139 Nt50 100% Original',\n",
       "       'BATERIA MOTO G7 PLUS JG40 TO',\n",
       "       'BATERIA SAM A10 / M10 / A7 2018 A750 / Eb-ba750abun WEST',\n",
       "       'BATERIA SAM A32 A325 / A31 A315 / A42 / A22 4g / A72 100% Original',\n",
       "       'BATERIA SAM J7 PRIME / J4 CORE TO',\n",
       "       'BATERIA SAM J7 Prime / J4 Plus / J4 Core / J6 Plus WEST',\n",
       "       'BATERIA SAM J700 / J7 NEO / J400 ONLY',\n",
       "       'BATERIA SAM J710 J7 2016 TO', 'BATERIA SAM S9 PLUS WEST',\n",
       "       'Bateria Motorola Mb50 Moto G200 XT2175 Desarme – Original',\n",
       "       'Espatula Profesional De Desmontaje De Baterias X12 Mechanic',\n",
       "       'ACTIVADOR DE BATERIAS SUNSHINE SS915 v9',\n",
       "       'BATERIA IPHONE 11 PRO MAX TO', 'BATERIA IPHONE 6S AMPSENTRIX',\n",
       "       'BATERIA IPHONE 7 PLUS AmpSentrix', 'BATERIA LG G5 TO',\n",
       "       'BATERIA LG K10 2017 ONLY',\n",
       "       'BATERIA MOTO  E32 / G22 / E13 Nh50 ONLY',\n",
       "       'BATERIA MOTO C / G5 / G4 PLAY HC40 100% Original',\n",
       "       'BATERIA MOTO E5 / G6 PLAY BL270 WEST',\n",
       "       'BATERIA MOTO E6 Plus Kc40 WEST',\n",
       "       'BATERIA MOTO E6 Plus Xt2025 Kc40 ONLY',\n",
       "       'BATERIA MOTO G52 / G82 / G72 NE50 100% Original Desarme',\n",
       "       'BATERIA MOTO G5S PLUS / MOTO G6 HG30 WEST',\n",
       "       'BATERIA MOTO G60S LK50 100% Original*',\n",
       "       'BATERIA MOTO G7 PLAY / ONE TO',\n",
       "       'BATERIA MOTO G8 Power Kz50 Xt2041 100% Original',\n",
       "       'BATERIA SAM A70 TO', 'BATERIA SAM J5 PRIME TO',\n",
       "       'BATERIA SAM J7 PRO / A720 A7 2017 TO',\n",
       "       'BATERIA SAM J8 / A6 PLUS ONLY', 'BATERIA SAM S8 PLUS O',\n",
       "       'BATERIA SAM S9 WEST',\n",
       "       'BATERIA SAMSUNG A02S / A03 / A03S / A04 / A03 CORE / A032 / A22 5G - HQ 50S / SLC 50 100% Original',\n",
       "       'BATERIA SAMSUNG A33 5G / A53 / A23 / EB-BA336ABY 100% Original',\n",
       "       'BATERIA XIAOMI NOTE 8 / NOTE 8T / REDMI 7 / NOTE 6 / BN46 ONLY',\n",
       "       'BATERIA XIAOMI REDMI 5 PLUS BN44',\n",
       "       'BATERIA XIAOMI Redmi S2 / Mi A1 / 5x / BN31 WEST',\n",
       "       'Bateria Iphone 6 Plus / 6S PLUS OnePlus',\n",
       "       'Joystick PS4 Bluetooth bateria recargable ROJO NM-P401-R',\n",
       "       'BATERIA IPHONE 11 PRO AMPSENTRIX',\n",
       "       'BATERIA IPHONE 11 PRO MAX FOXCONN', 'BATERIA IPHONE 11 TO',\n",
       "       'BATERIA IPHONE 6 PLUS / 6S PLUS TO', 'BATERIA IPHONE 6G TO',\n",
       "       'BATERIA IPHONE 7G MECHANIC', 'BATERIA IPHONE 8 PLUS WEST',\n",
       "       'BATERIA IPHONE 8 WEST', 'BATERIA IPHONE XR FOXCONN',\n",
       "       'BATERIA IPHONE XS MAX WEST', 'BATERIA LG K4 K120 TO',\n",
       "       'BATERIA LG K8 2017 / K4 2017 ONLY',\n",
       "       'BATERIA MOTO E20 Xt2155 Nt40 4000 Mah 100% Original',\n",
       "       'BATERIA MOTO E4 Plus / E5 Plus He50 WEST', 'BATERIA MOTO G G2 TO',\n",
       "       'BATERIA MOTO G23 Ph50 Original',\n",
       "       'BATERIA MOTO G23 Ph50 Original Desarme',\n",
       "       'BATERIA MOTO G32 / MOTO G41 NC50 TO',\n",
       "       'BATERIA MOTO G4 / G4 PLUS ONLY', 'BATERIA MOTO G4 / G4 PLUS WEST',\n",
       "       'BATERIA MOTO G8 PLUS KD40 WEST',\n",
       "       'BATERIA MOTO G9 POWER MC50 100% Original',\n",
       "       'BATERIA SAM A24 EB-BA245ABY Desarme',\n",
       "       'BATERIA SAM A32 A325 / A31 A315 / A42 / A22 4g / A72 /  WEST',\n",
       "       'BATERIA SAM A71 A715 A81 100% Original',\n",
       "       'BATERIA SAM FAME / POCKET TO',\n",
       "       'BATERIA SAM J1 ACE / S4 MINI ONLY', 'BATERIA SAM J510 2016 TO',\n",
       "       'BATERIA SAM J6 TO', 'BATERIA SAM NOTE 5 ONLY',\n",
       "       'BATERIA SAM S10 ONLY', 'BATERIA SAM S8 TO',\n",
       "       'BATERIA SONY XA ULTRA ONLY',\n",
       "       'BATERIA XIAOMI NOTE 6 PRO BN48 ONLY',\n",
       "       'BATERIA XIAOMI NOTE 8 PRO BM4J WEST',\n",
       "       'BATERIA XIAOMI REDMI 9 LITE / MI A3 BM4F TO',\n",
       "       'BATERIA XIAOMI REDMI Redmi 9t Poco M3 Bn62 WEST',\n",
       "       'BATERIA XIAOMI Redmi Mi 8 Lite BM3J',\n",
       "       'Bateria Pila Recargable 18650 2600 Mah 3.7v Con Cable',\n",
       "       'CARGADOR DE BATERIAS Sunshine ss909 v6.0',\n",
       "       'BATERIA HUAWEI  MATE 10 LITE / P20 ONLY',\n",
       "       'BATERIA MOTO EDGE 30 FUSION NP44 ORIGINAL',\n",
       "       'BATERIA MOTO G7 100% Original', 'BATERIA MOTO G9 PLUS MG50 TO',\n",
       "       'BATERIA SAM A14 / A52 / S20 FE / A52S 100% Original'],\n",
       "      dtype=object)"
      ]
     },
     "execution_count": 300,
     "metadata": {},
     "output_type": "execute_result"
    }
   ],
   "execution_count": 300
  },
  {
   "metadata": {
    "ExecuteTime": {
     "end_time": "2024-12-27T16:04:47.319270Z",
     "start_time": "2024-12-27T16:04:47.302905Z"
    }
   },
   "cell_type": "code",
   "source": [
    "#agregar en la columna 'Categoria'  la cadena 'Bateria' en cada fila si los valores  de la columna 'Nombre de Producto' tienen la cadena 'Bateria' en su nombre y si no tienen las siguientes cadenas: Activador, Espatula, CARGADOR\n",
    "df['Categoria'] = np.where(df['Nombre del Producto'].str.contains('bateria', case=False) & ~df['Nombre del Producto'].str.contains('Activador|Espatula|CARGADOR', case=False), 'Bateria', df['Categoria'])"
   ],
   "id": "25541e63133c7f82",
   "outputs": [],
   "execution_count": 301
  },
  {
   "metadata": {
    "ExecuteTime": {
     "end_time": "2024-12-27T16:04:47.629655Z",
     "start_time": "2024-12-27T16:04:47.611946Z"
    }
   },
   "cell_type": "code",
   "source": "df",
   "id": "345bfdf9033876e7",
   "outputs": [
    {
     "data": {
      "text/plain": [
       "       Código                                Nombre del Producto  Cantidad  \\\n",
       "0     R124132  VIDRIO GLASS SAMSUNG  A02S / A03 / A03 CORE / ...      90.0   \n",
       "1      PI3017                       Pilas Boton 3 V Philco 2032       70.0   \n",
       "2       D1014  CABLE USB ONLY MOD48 / V8 / 3,1A BLANCO Y NEGR...      55.0   \n",
       "3          C6  Pin Carga Sam J7 pro / J7 prime / J5 prime / J...      54.0   \n",
       "4       SE966            SERVICIO TECNICO REVISION Y PRESUPUESTO      54.0   \n",
       "...       ...                                                ...       ...   \n",
       "1550  RC76393  BATERIA SAM A14 / A52 / S20 FE / A52S 100% Ori...      -1.0   \n",
       "1551   PE8818  Pendrive Kingston DataTraveler SE9 DTSE9H 32GB...      -2.0   \n",
       "1552      NaN                                                nan       NaN   \n",
       "1553      NaN                                                nan       NaN   \n",
       "1554      NaN                                                nan    6294.0   \n",
       "\n",
       "      Costo total      Ganancia  Ganancia prom. %   Venta total  \\\n",
       "0          120.80  3.569538e+05      2.955130e+05  3.571000e+05   \n",
       "1           32.20  7.391105e+04      2.295580e+05  7.395001e+04   \n",
       "2           35.29  1.551573e+05      4.396850e+05  1.552000e+05   \n",
       "3            1.17  1.382985e+05      1.214090e+12  1.420500e+05   \n",
       "4           12.42  6.536850e+05      5.263190e+11  6.537000e+05   \n",
       "...           ...           ...               ...           ...   \n",
       "1550        -8.16 -2.699012e+04               NaN -2.700000e+04   \n",
       "1551       -10.05 -1.598784e+04               NaN -1.600000e+04   \n",
       "1552          NaN           NaN               NaN           NaN   \n",
       "1553          NaN           NaN               NaN           NaN   \n",
       "1554    166296.86  1.294925e+08               NaN  1.308388e+08   \n",
       "\n",
       "                                              Categoria  \n",
       "0                                          Vidrio Glass  \n",
       "1                          Pilas Boton 3 V Philco 2032   \n",
       "2                                                 Cable  \n",
       "3                                             Pin Carga  \n",
       "4                                      Servicio Tecnico  \n",
       "...                                                 ...  \n",
       "1550                                            Bateria  \n",
       "1551  Pendrive Kingston DataTraveler SE9 DTSE9H 32GB...  \n",
       "1552                                                nan  \n",
       "1553                                                nan  \n",
       "1554                                                nan  \n",
       "\n",
       "[1555 rows x 8 columns]"
      ],
      "text/html": [
       "<div>\n",
       "<style scoped>\n",
       "    .dataframe tbody tr th:only-of-type {\n",
       "        vertical-align: middle;\n",
       "    }\n",
       "\n",
       "    .dataframe tbody tr th {\n",
       "        vertical-align: top;\n",
       "    }\n",
       "\n",
       "    .dataframe thead th {\n",
       "        text-align: right;\n",
       "    }\n",
       "</style>\n",
       "<table border=\"1\" class=\"dataframe\">\n",
       "  <thead>\n",
       "    <tr style=\"text-align: right;\">\n",
       "      <th></th>\n",
       "      <th>Código</th>\n",
       "      <th>Nombre del Producto</th>\n",
       "      <th>Cantidad</th>\n",
       "      <th>Costo total</th>\n",
       "      <th>Ganancia</th>\n",
       "      <th>Ganancia prom. %</th>\n",
       "      <th>Venta total</th>\n",
       "      <th>Categoria</th>\n",
       "    </tr>\n",
       "  </thead>\n",
       "  <tbody>\n",
       "    <tr>\n",
       "      <th>0</th>\n",
       "      <td>R124132</td>\n",
       "      <td>VIDRIO GLASS SAMSUNG  A02S / A03 / A03 CORE / ...</td>\n",
       "      <td>90.0</td>\n",
       "      <td>120.80</td>\n",
       "      <td>3.569538e+05</td>\n",
       "      <td>2.955130e+05</td>\n",
       "      <td>3.571000e+05</td>\n",
       "      <td>Vidrio Glass</td>\n",
       "    </tr>\n",
       "    <tr>\n",
       "      <th>1</th>\n",
       "      <td>PI3017</td>\n",
       "      <td>Pilas Boton 3 V Philco 2032</td>\n",
       "      <td>70.0</td>\n",
       "      <td>32.20</td>\n",
       "      <td>7.391105e+04</td>\n",
       "      <td>2.295580e+05</td>\n",
       "      <td>7.395001e+04</td>\n",
       "      <td>Pilas Boton 3 V Philco 2032</td>\n",
       "    </tr>\n",
       "    <tr>\n",
       "      <th>2</th>\n",
       "      <td>D1014</td>\n",
       "      <td>CABLE USB ONLY MOD48 / V8 / 3,1A BLANCO Y NEGR...</td>\n",
       "      <td>55.0</td>\n",
       "      <td>35.29</td>\n",
       "      <td>1.551573e+05</td>\n",
       "      <td>4.396850e+05</td>\n",
       "      <td>1.552000e+05</td>\n",
       "      <td>Cable</td>\n",
       "    </tr>\n",
       "    <tr>\n",
       "      <th>3</th>\n",
       "      <td>C6</td>\n",
       "      <td>Pin Carga Sam J7 pro / J7 prime / J5 prime / J...</td>\n",
       "      <td>54.0</td>\n",
       "      <td>1.17</td>\n",
       "      <td>1.382985e+05</td>\n",
       "      <td>1.214090e+12</td>\n",
       "      <td>1.420500e+05</td>\n",
       "      <td>Pin Carga</td>\n",
       "    </tr>\n",
       "    <tr>\n",
       "      <th>4</th>\n",
       "      <td>SE966</td>\n",
       "      <td>SERVICIO TECNICO REVISION Y PRESUPUESTO</td>\n",
       "      <td>54.0</td>\n",
       "      <td>12.42</td>\n",
       "      <td>6.536850e+05</td>\n",
       "      <td>5.263190e+11</td>\n",
       "      <td>6.537000e+05</td>\n",
       "      <td>Servicio Tecnico</td>\n",
       "    </tr>\n",
       "    <tr>\n",
       "      <th>...</th>\n",
       "      <td>...</td>\n",
       "      <td>...</td>\n",
       "      <td>...</td>\n",
       "      <td>...</td>\n",
       "      <td>...</td>\n",
       "      <td>...</td>\n",
       "      <td>...</td>\n",
       "      <td>...</td>\n",
       "    </tr>\n",
       "    <tr>\n",
       "      <th>1550</th>\n",
       "      <td>RC76393</td>\n",
       "      <td>BATERIA SAM A14 / A52 / S20 FE / A52S 100% Ori...</td>\n",
       "      <td>-1.0</td>\n",
       "      <td>-8.16</td>\n",
       "      <td>-2.699012e+04</td>\n",
       "      <td>NaN</td>\n",
       "      <td>-2.700000e+04</td>\n",
       "      <td>Bateria</td>\n",
       "    </tr>\n",
       "    <tr>\n",
       "      <th>1551</th>\n",
       "      <td>PE8818</td>\n",
       "      <td>Pendrive Kingston DataTraveler SE9 DTSE9H 32GB...</td>\n",
       "      <td>-2.0</td>\n",
       "      <td>-10.05</td>\n",
       "      <td>-1.598784e+04</td>\n",
       "      <td>NaN</td>\n",
       "      <td>-1.600000e+04</td>\n",
       "      <td>Pendrive Kingston DataTraveler SE9 DTSE9H 32GB...</td>\n",
       "    </tr>\n",
       "    <tr>\n",
       "      <th>1552</th>\n",
       "      <td>NaN</td>\n",
       "      <td>nan</td>\n",
       "      <td>NaN</td>\n",
       "      <td>NaN</td>\n",
       "      <td>NaN</td>\n",
       "      <td>NaN</td>\n",
       "      <td>NaN</td>\n",
       "      <td>nan</td>\n",
       "    </tr>\n",
       "    <tr>\n",
       "      <th>1553</th>\n",
       "      <td>NaN</td>\n",
       "      <td>nan</td>\n",
       "      <td>NaN</td>\n",
       "      <td>NaN</td>\n",
       "      <td>NaN</td>\n",
       "      <td>NaN</td>\n",
       "      <td>NaN</td>\n",
       "      <td>nan</td>\n",
       "    </tr>\n",
       "    <tr>\n",
       "      <th>1554</th>\n",
       "      <td>NaN</td>\n",
       "      <td>nan</td>\n",
       "      <td>6294.0</td>\n",
       "      <td>166296.86</td>\n",
       "      <td>1.294925e+08</td>\n",
       "      <td>NaN</td>\n",
       "      <td>1.308388e+08</td>\n",
       "      <td>nan</td>\n",
       "    </tr>\n",
       "  </tbody>\n",
       "</table>\n",
       "<p>1555 rows × 8 columns</p>\n",
       "</div>"
      ]
     },
     "execution_count": 302,
     "metadata": {},
     "output_type": "execute_result"
    }
   ],
   "execution_count": 302
  },
  {
   "metadata": {
    "ExecuteTime": {
     "end_time": "2024-12-27T16:04:47.806527Z",
     "start_time": "2024-12-27T16:04:47.796410Z"
    }
   },
   "cell_type": "code",
   "source": [
    "#ver que nombre de producto se vendio mas veces con el nombre de la columna\n",
    "df['Nombre del Producto'].value_counts()"
   ],
   "id": "1a413a2730f294af",
   "outputs": [
    {
     "data": {
      "text/plain": [
       "Nombre del Producto\n",
       "nan                                                                                                    3\n",
       "BATERIA XIAOMI REDMI Redmi 9t Poco M3 Bn62 WEST                                                        1\n",
       "CABLE VGA 1.5M DINAX DX-2VGA15M                                                                        1\n",
       "CABLE USB SAMSUNG TIPO C A TIPO C                                                                      1\n",
       "CABLE USB MOD47  TIPO C - COLORES  2.4 A 1M  TRENZADO                                                  1\n",
       "                                                                                                      ..\n",
       "JOYSTICK XBOX 360/PC/ANDROID INALAMBRICO + DONGLE NJX312                                               1\n",
       "JOYSTICK PLAYSTATION PS4 TIME CAMUFALDOS JOY-61012                                                     1\n",
       "Film Vidrio Templado CAMARA FULL Para Iphone 13 / 13 MINI / 14 PRO / 11 / 11 Pro / 11 Pro Max 51566    1\n",
       "FUNDA PORTA NOTEBOOK PIERRE CARDIN PC-3011MED                                                          1\n",
       "Modulo Pantalla Moto E22 / E22I / E22S Sin Marco*                                                      1\n",
       "Name: count, Length: 1553, dtype: int64"
      ]
     },
     "execution_count": 303,
     "metadata": {},
     "output_type": "execute_result"
    }
   ],
   "execution_count": 303
  },
  {
   "metadata": {
    "ExecuteTime": {
     "end_time": "2024-12-27T16:04:48.033444Z",
     "start_time": "2024-12-27T16:04:48.022653Z"
    }
   },
   "cell_type": "code",
   "source": [
    "#ver valores con la cadena parlante en su nombre\n",
    "df[df['Nombre del Producto'].str.contains('parlante', case=False)]['Nombre del Producto'].unique()"
   ],
   "id": "61f9722c2b4e2ada",
   "outputs": [
    {
     "data": {
      "text/plain": [
       "array(['Parlante Buzzer Altavoz MOTO G7 POWER / G7 PLAY / G8 POWER LITE / E20 / E22 / E40 / E6I / E6S / G22',\n",
       "       'PARLANTE PORTATIL RADIO Y LECTOR TARJETA YX-078UBT',\n",
       "       'FUENTE UNIVERSAL 9V 1,5A DOBLE FICHA  ROUTER / PARLANTES EC9V15A',\n",
       "       'Parlante pc Genius Usb SP-Q180 AZUL',\n",
       "       'Parlantes Genius Sp Hf280 Usb 6w Wooden Madera',\n",
       "       'PARLANTE BLUETOOTH DINAX DE 3\" REGGAE',\n",
       "       'PARLANTE DINAX 2.0 GAMER / BARRA DX-SPLITB C/LED',\n",
       "       'PARLANTE JBL BLUETOOTH GO3 BLUE',\n",
       "       'PARLANTE VELADOR BLUETOOTH CARGADOR INALAMBRICO LUCES LED BT-3401\\xa0',\n",
       "       'Parlante JBL BLUETOOH FLIP 6 BLACK',\n",
       "       'Parlante JBL BLUETOOH FLIP 6 BLUE 2',\n",
       "       'Auriculares Y Parlantes Bluetooth 2 En 1 West Hybrid V-75',\n",
       "       'PARLANTE BLUETOOTH DINAX DE 3\" ANKARA',\n",
       "       'PARLANTE BT BLUETOOTH TG619 MP3 / BT / FM / AUX',\n",
       "       'PARLANTE BT XIAOMI Mi PORTABLE 16W NEGRO',\n",
       "       \"PARLANTE Bluetooth GTS-1346 3''\",\n",
       "       'PARLANTE JBL BLUETOOTH Clip 4 Black',\n",
       "       'PARLANTE MULTIMEDIA RADIO 6,5\" NGL-400BT TWS/USB',\n",
       "       'PARLANTE PHILCO - PARLANTE BT ROCK - SPH200R',\n",
       "       'PARLANTES PC USB PAUSB62 DINAX',\n",
       "       'Parlante Bt Radio iKaraoke box con microfono Inalambrico Recargable - KTS-1687',\n",
       "       'Parlante Buzzer Altavoz GRAND PRIME',\n",
       "       'Parlante Buzzer Altavoz MOTO G9 PLAY CAPSULA',\n",
       "       'Parlante Buzzer Altavoz SAM A10/a20/a30/a40/a50/a70 / J710 / J2 PRIME',\n",
       "       'Parlante Buzzer Altavoz Sam A10s',\n",
       "       'Parlante Genius SP-HF500A 14W WOOD Madera 220V',\n",
       "       'Parlante JBL BLUETOOH FLIP 5 CAMUFLADO',\n",
       "       'Parlante JBL BLUETOOH FLIP 6 BLUE',\n",
       "       'Parlante JBL Charge 5 Portatil Bluetooth Camuflado',\n",
       "       'Parlante JBL Charge 5 Portatil Bluetooth Red',\n",
       "       'Parlante Portatil Bluetooth Speaker Bazooka Cuero MTK FT734',\n",
       "       'Parlante pc Genius Usb SP-Q180 NARANJA',\n",
       "       'Parlante pc Genius Usb SP-Q180 ROJO',\n",
       "       'Parlantes 2.0 BT Noga AQUA 40w Pc Madera 4000PMPO'], dtype=object)"
      ]
     },
     "execution_count": 304,
     "metadata": {},
     "output_type": "execute_result"
    }
   ],
   "execution_count": 304
  },
  {
   "metadata": {
    "ExecuteTime": {
     "end_time": "2024-12-27T16:04:48.741463Z",
     "start_time": "2024-12-27T16:04:48.730033Z"
    }
   },
   "cell_type": "code",
   "source": [
    "#agregar en la columna 'Categoria'  la cadena 'Parlante' en cada fila si los valores  de la columna 'Nombre de Producto' tienen la cadena 'Parlante' en su nombre y si no tienen las siguientes cadenas: Auriculares, Fuente\n",
    "df['Categoria'] = np.where(df['Nombre del Producto'].str.contains('parlante', case=False) & ~df['Nombre del Producto'].str.contains('Auriculares|Fuente', case=False), 'Parlante', df['Categoria'])"
   ],
   "id": "6492783a921e5889",
   "outputs": [],
   "execution_count": 305
  },
  {
   "metadata": {
    "ExecuteTime": {
     "end_time": "2024-12-27T16:04:49.155840Z",
     "start_time": "2024-12-27T16:04:49.140344Z"
    }
   },
   "cell_type": "code",
   "source": [
    "#ver valores unicos en la columna categoria\n",
    "df['Categoria'].unique()"
   ],
   "id": "4d7ebf20ff474394",
   "outputs": [
    {
     "data": {
      "text/plain": [
       "array(['Vidrio Glass', 'Pilas Boton 3 V Philco 2032 ', 'Cable',\n",
       "       'Pin Carga', 'Servicio Tecnico',\n",
       "       'PASTA TERMICA GRASA SILICONADA ARCTIC MX-4 4G ALTA POTENCIA',\n",
       "       'Modulo', 'Bateria',\n",
       "       'FLUX JERINGA 100% Organico NO TOXICO 10cc - EL REPA',\n",
       "       'Modulo Original', 'CAJA PLASTICA ALMACENAMIENTO PLACA SS001A',\n",
       "       'Consola Retro Portatil Cotroller Gamepad 2.4g NIPPON / 64GB 20,000 JUEGOS NIPPON CAJA AZUL',\n",
       "       'LAMINA POLARIZADORA PARA LCD - IPS DE 12\" (90 GRADOS) GLA.05204',\n",
       "       'Adaptador Otg Usb Hembra Metalico 3.0 Usb Tipo C Macho',\n",
       "       'CARGADOR RAPIDO SEND TURBO- S01- 3.1A USB A TIPO C / 5v 3.1A / 9v 1.8A / 12v 1.5A ',\n",
       "       'Cargador De Notebook Universal Only 8 PINES 112403001',\n",
       "       'CARGADOR 220V ONLY 05031A / 1 USB / CABLE V8 / 4,4A',\n",
       "       'MOUSE INALAMBRICO DINAX COLORES SURTIDOS DX-WM691',\n",
       "       'Malla Silicona Para Xiaomi Mi Band 5/ Band 6/ Band 7 NEGRO M5/M6',\n",
       "       'PEGAMENTO PARA PANTALLA CELULAR B7000 110ML TRANSPARENTE MECHANIC',\n",
       "       'BOTELLA PLASTICA (con aguja) RL-054\\xa0',\n",
       "       'MOUSE PAD ERGONOMICO CON GEL CDTEK NEGRO',\n",
       "       'Consola Retro Portatil Cotroller Gamepad 2.4g MEMORIA 64GB RS-100',\n",
       "       'FILM GLASS COMUN SAM A02 / A04 - A04E - A04s / A12 / M12 / A22 5G / A23 / A32 5G / MOTO E13 / E7 / E7I / E7I POWER /G10 / G20 / G30 / ONE FUSION / Tcl 10se / 20XE / 30SE / MI 9A',\n",
       "       'Cargador Universal De Notebook 12 Adaptadores 12-24V Malibu MY 120W',\n",
       "       'CONVERSOR HDMI A VGA CON CABLE AUDIO SM-C7819',\n",
       "       'FILM GLASS 9D MOTO E7 PLUS / G9 PLAY',\n",
       "       'TACTIL SAM J2 PRIME SYLVER',\n",
       "       'AURICULARES BT TIME AU-1322 COLORES',\n",
       "       'CABEZAL CARGADOR 220V XAEA OPTIMUM 5A 45w (USB C+ USB A)',\n",
       "       'HILO SEPARADOR LCD de tungsteno 0,03mm - SS-051\\xa0',\n",
       "       'MOUSE DUAL INALAMBRICO Y BLUETOOTH SEISA QS-202 COLORES',\n",
       "       'AURICULARES BT HAYLOU GT1 2022 5,2 / NEGRO',\n",
       "       'Tarjeta de memoria SanDisk Ultra SD 16GB C10',\n",
       "       'Tarjeta de memoria SanDisk Ultra SD 32GB C10',\n",
       "       'AURICULAR BOLSITA TIME EXCELENTE SONIDO AU-1235',\n",
       "       'CARGADOR 220V XAEA 27W/ 1 USB / CABLE / NEGRO QC 3,0',\n",
       "       'CHIP PERSONAL',\n",
       "       'Auriculares Bluetooth Gamer Xiaomi Redmi Buds 3 Lite Negro',\n",
       "       'CARGADOR RAPIDO TURBO SEND S02- 4.8 A/ TIPO C',\n",
       "       'Consola Arcade Multijuegos Con Luces 2 Mandos +10000 JUEGOS ST',\n",
       "       'Microfono Respuesto Samsung J1 J2 J5 J7 J110 J7 Pro Prime',\n",
       "       'Chromecast Google Tv HD 8gb Blanco Con Control / Sin Fuente Ga03131',\n",
       "       'MANGO REMOVEDOR PEGAMENTO RELIFE RL101B',\n",
       "       'MOUSE GENIUS DX-120 USB BLACK 1200 DPI',\n",
       "       'AURICULARES AKG SAM S10+ EO-IG955 MG892 CAJA',\n",
       "       'AURICULARES BT F9-5',\n",
       "       'Aro Luz Led 30CM RGB + Tripode 2.1m HX-MJ30 / QX-260',\n",
       "       'KIT COMBO TECLADO Y MOUSE INALMBRICO 2.4G SLIM BLANCO DN-H263',\n",
       "       'LAMINA OCA 250UM 10\"',\n",
       "       'Malla Silicona Para Samsung Fit 2 Negro SM-R220',\n",
       "       'TRANSFORMADOR FUENTE TIRA DE LED CCTV CAMARAS 12V 2A (3157A)',\n",
       "       'Auriculares BT Xiaomi Redmi Buds Essential Negro',\n",
       "       'CONTADORA DE BILLETES GLOBAL CARGA SUPERIOR / VISOR DIGITAL Y EXTERNO / DETECCION DE BILLETES FALSOS - GLOBAL BILLCOUNTER-1',\n",
       "       'ESPATULA ULTRAFINA PARA APERTURA X20 DESARME MECHANIC',\n",
       "       'FILM GLASS COMUN SAM A11 / S20 FE / MOTO G13 / G23 / G31 /G41 / G71 / G52',\n",
       "       'JOYSTICK XBOX 360 / PC CON CABLE 52A NJX301',\n",
       "       'MICROFONO INALAMBRICO CORBATERO TIPO-C CON CAJITA J11-TC',\n",
       "       'Pendrive Patriot 64gb Supersonico Rage Lite Usb 3.2 Gen 1 Pef64grlb32',\n",
       "       'RELIFE STENCIL UNIVERSAL MULTIPROPOSITO',\n",
       "       'AURICULAR CABLE SAMSUNG ORIGINAL RFTFB',\n",
       "       'Auriculares in-ear Xiaomi Mi Headphones Basic negro ZBW4354TY 36659',\n",
       "       'CARCASA EXTERNA PARA DISCO RIGIDO 2.5 CON CABLE 3,0 / DX-1CAREXT2',\n",
       "       'CASE PARA DISCO RIGIDO 2.5 - 2.0 DN-K2502',\n",
       "       'Cable Adaptador De Audio Tipo Usb C A Plug Samsung JACK ADAPTER',\n",
       "       'Cargador Cabezal Malibu Tipo C 30w PD769 Carga Turbo',\n",
       "       'ESTAÑO EN HILO WUZIP ROLLO 80G 35/65 0.6MM',\n",
       "       'Lapiz Optico Doble Punta Para Smartphone Tablet O Celular Punta Fina Y Redonda',\n",
       "       'MALLA DESOLDANTE MECHANIC R300 / 2015',\n",
       "       'PEGAMENTO PARA PANTALLA CELULAR T7000 110ML / NEGRO MECHANIC',\n",
       "       'PILA AAA RECARGABLE NOGA 1300MaH Blister X 2 unidades NP-AAA1.3B',\n",
       "       'Parlante',\n",
       "       'Pila Noga Recargable AA 2700 mAh NP-AAM 2.7B / Pack de 2 unidades',\n",
       "       'Pulsera Antiestatica Con Cable',\n",
       "       'ADAPTADOR - DISPLAY PORT DP A VGA SM-C7822',\n",
       "       'ADAPTADOR HUB USB CON 4 PUERTOS USB SX-36\\xa0',\n",
       "       'ALCOHOL ISOPROPILICO ALTA PUREZA DELTA 1 LITRO PHXL',\n",
       "       'CABEZAL PARA IPHONE 20W TIPO C MU7U2LL/A',\n",
       "       'CARGADOR 220V ONLY MOD06 / 1 USB / CABLE TIPO C 4,4A',\n",
       "       'CARGADOR RAPIDO SEND S02 IPHONE',\n",
       "       'CEPILLO DOBLE SUNSHINE - SS022B', 'CINTA DOBLE FAZ 3mm x 55M',\n",
       "       'Disco Solido SSD 480GB KINGSTON A400 SATAIII 2.5',\n",
       "       'JOYSTICK INALAMBRICO SEISA SJ-913 COLORES PC / PS2 / PS3 / PC / X360 / ANDROID / A PILAS',\n",
       "       'Joystick Bluetooth Con Soporte para Celular Seisa SJ-A1006',\n",
       "       'KIT MOUSE Y TECLADO INALAMBRICO EZRA KB03',\n",
       "       'LAMINA OCA 250UM 15\"',\n",
       "       'Limpia Pantallas Screen Cleaner 120 cc Incluye Paños Chemitec',\n",
       "       'REMOVEDOR GEL UV Y LAMINA OCA 100CC',\n",
       "       'Receptor BT Bluetooth USB 5,0',\n",
       "       'Tarjeta De Memoria Kingston 64gb Canvas Select Con Adaptador C10',\n",
       "       'Tarjeta de memoria Sd 128gb Clase 10 Patriot V30 / 4K / 90mb/s',\n",
       "       'AURICULAR M-LIBRES TIME AU-1236 COLORES',\n",
       "       'AURICULARES BT XIAOMI REDMI BUDS 4 LITE / NEGRO',\n",
       "       'Aro Luz Led 26cm Blanco Frio Calido + Tripode 2.1m QX-260 / S26',\n",
       "       'Auriculares inalambricos Haylou T Series MoriPods Blue',\n",
       "       'CABLE HDMI 3 EN 1 CON ADAPTADORES CAB-6568 / TMCB 6556',\n",
       "       'CARGADOR RAPIDO SEND S01 3.1A MICRO USB V8 5v 3.1A / 9v 1.8A / 12v 1.5A Tecnologia Qualcomm',\n",
       "       'CHIP CLARO', 'CONVERSOR DE AUDIO OPTICO A RCA AUDIO SM-C7812',\n",
       "       'CUBRE DEDOS X2 PUBG COD MOBILE FREEFIRE ANTI-SWEAT CELULAR WN-Z12',\n",
       "       'Cargador Reloj Xiaomi Mi Band 5 / 6 / 7',\n",
       "       'FILM GLASS 9D SAM A21 / A71',\n",
       "       'Fpc Compatible Con Samsung A02 / A12 / A22 / A32 / A52 / A72 / 78 Pines ',\n",
       "       'LAMINA POLARIZADORA PARA LCD - IPS DE 10\" (180 GRADOS)',\n",
       "       'LAMPARA DE MESA CON BRAZO LARGO DE METAL ESTILO AMERICANO MT-811',\n",
       "       'Lapiz optico R06 METAL', 'MALLA DESOLDANTE RELIFE - RL2030',\n",
       "       'MALLA REPUESTO PARA RELOJ 22mm AZUL',\n",
       "       'MINI DRILL IR14 CON DISPLAY 6 EN 1 - MECHANIC',\n",
       "       'PENDRIVE KINGSTON 3.2 dtx 128Gb Exodia Negro/Amarillo',\n",
       "       'Placa de Carga', 'SOPORTE TV FIJO 26 A 55 DINAX DX-STVF2655',\n",
       "       'Soporte De Celular Para Auto Noga Rejilla NG-Hold2',\n",
       "       'ACTIVADOR Y CARGADOR DE BATERIA ER-BA19',\n",
       "       'AURICULAR BT APDS MAX NEGRO',\n",
       "       'AURICULAR MOTOROLA EARBUDS 3-S NEGRO',\n",
       "       'AURICULAR TYPE C CON MICRÓFONO Y CONTROL DE VOLUMEN IBEK ER-T27',\n",
       "       'Adaptador Ficha Union Empalme Rj45 Adaptador Hembra A Hembra Utp Cable De Red xibm69718',\n",
       "       'Adaptador Otg Usb 2.0 Macho A Tipo C Hembra 09-054',\n",
       "       'CARGADOR RAPIDO SEND TURBO - S01-  3.1A TIPO C / 5v 3.1A / 9v 1.8A / 12v 1.5A ',\n",
       "       'CELULAR NOKIA 106 Dual SIM 4 MB RAM GRIS OSCURO',\n",
       "       'Cargador De Netbook GOBIERNO 12V 2A /G7 G8 G9 Noblex Exo Bangho',\n",
       "       'Conversor Display Port A a HDMI Full HD 1080p Netmak NM-C102',\n",
       "       'FILM GLASS 9D SAM A20 / A30 / A30S / A50 / A50S',\n",
       "       'JUGO DE PITUFO 1 LITRO - REMOVEDOR DE SULFATO ',\n",
       "       'KIT TECLADO Y MOUSE 2,4G INALAMBRICO ULTRA DELGADO NEGRO K-06',\n",
       "       'LAMINA OCA 250UM 12\"',\n",
       "       'MALLA NYLON VELCRO LOOP 42/44 MM - 255 MM COLORES',\n",
       "       'Memoria DDR3 Markvision 8Gb 1600 MHz 1.35V BULK (6259)',\n",
       "       'Mouse Pad Escritorio Home Office Borde Bordado 20x24 Cm',\n",
       "       'PALITO METALICO DE APERTURA PUA RELIFE - RL050',\n",
       "       'PLACA USB/WIFI 150M CON ANTENA 5DBI DNW150U2',\n",
       "       'Pen Drive KINGSTON 32GB USB 3.2 DTXM EXODIA M NEGRO',\n",
       "       'Pen Drive Sandisk Cruzer Blade 128gb',\n",
       "       'RESINA - ROSIN para detectar cortos',\n",
       "       'SOPORTE TV MOVIL CON BRAZO 26 A 55 SEISA GJ-CP303', 'Tapa',\n",
       "       'Teclado Y Mouse Inalambrico Bluetooth - Slim - Recargable Rdkm-906 ROSA',\n",
       "       'AURICULAR BT TIME ROSA Y LILA CROMADOS JS381',\n",
       "       'AURICULAR INALAMBRICO DIGITAL TIME AU-17004',\n",
       "       'AURICULARES BLUETOOTH 5,3 IN EAR DEHUKA E7s Negro',\n",
       "       'Adaptador Enchufes Universal Viajero Reforzado G99-008A20',\n",
       "       'Adaptador Placa De Red Usb A Ethernet Rj45 Kl 001',\n",
       "       'Auriculares BT HAYLOU X1 NEO - BLACK',\n",
       "       'BASTON SELFI STICK 3 GEN. QUALITY BLUETOOH 78 CM CON CABLE',\n",
       "       'CARGADOR 220V ONLY 05031A / 2 USB / 1 CABLE V8 4,4A Negro ',\n",
       "       'CARGADOR 220V ONLY MOD02 2 USB + CABLE TIPO C BLANCO 05031J',\n",
       "       'CARGADOR CABEZAL SEND S01+ UN PUERTO USB 5v 3.1A / 9v 1.8A / 12v 1.5A Tecnologia Qualcomm',\n",
       "       'CARGADOR DE NOTEBOOK UNIVERSAL AUTOMATICO 90W ONLY 8 PINES 116300495',\n",
       "       'Cable ADAPTADOR 3.5MM MACHO A 2 HEMBRAS',\n",
       "       'DOCK FLEX TEST (TIPO C)\\xa0',\n",
       "       'ESTAÑO EN PASTA 138 - 40g - WUZIP ', 'FILM GLASS 9D MOTO G20',\n",
       "       'Fpc Compatible Con Samsung A04 / 40 Pines',\n",
       "       'Fpc Para Samsung A30s / A31 / A51 / A70 / A71 / A80 / 78 Pines  ',\n",
       "       'KIT DESTORNILLADORES PARA CELULARES YAXUN YX-6029',\n",
       "       'Kit Destornilladores Yaxun YX6028 Tablet Celular',\n",
       "       'LAMINA POLARIZADORA PARA AMOLED OLED 10\"',\n",
       "       'MALLA SILICONA DEPORTIVA 20MM NEGRO/ROJO',\n",
       "       'MOUSE INALAMBRICO 2.4G RECARGABLE Seisa DN-M610',\n",
       "       'Malla Nylon Para Xiaomi Mi Band 7 Negro',\n",
       "       'Malla Silicona Para Xiaomi Mi Band 5/ Band 6/ Band 7 AZUL M5/M6',\n",
       "       'Microfono Corbatero Inalambrico -  Ficha tipo C / K8',\n",
       "       'Mouse  Business Office Seisa DN-N602 Retractil / Notebook',\n",
       "       'PUNTA DE SOLDADOR MECHANIC BLACK 900M-T-IS 8348',\n",
       "       'Pilas Litio 3V T&E CR2025 x Unidad',\n",
       "       'Punta Para Estación Soldado T12 KU (cuchilla fina)',\n",
       "       'SOPORTE CELULAR MULTIFUNCION LG-002',\n",
       "       'SOPORTE TV FIJO 14 A 42 DELHIP DL-FJ1442',\n",
       "       'Soldador De 40w Punta De Ceramica ZD-40 Megalite',\n",
       "       'TRIPODE PARA CELULARES O CAMARAS DE HASTA 1,02 MTS SKY TR8',\n",
       "       'TRIPODE PARA CELULARES O CAMARAS DE HASTA 1,40 MTS SKY TR9',\n",
       "       'ADAPTADOR 2 Hembra a 1 Macho NOGA TR-1005',\n",
       "       'ADAPTADOR CON ROSCA UNIVERSAL TR3 GM-3498',\n",
       "       'ANALOGO JOYSTICK REPUESTO PS4 PS5 XBOX ONE',\n",
       "       'AURICULAR BT AIRPODS WUW R128 BLANCO',\n",
       "       'AURICULAR BT APDS MAX AZUL', 'AURICULAR BT APDS MAX VERDE',\n",
       "       'AURICULAR BT TIME COLORES JS18',\n",
       "       'AURICULARES BT XIAOMI REDMI BUDS 4 ACTIVE / NEGRO',\n",
       "       'CARGADOR AUTO KOSMO 2 PUERTOS USB MOD 5,5CAR',\n",
       "       'CARGADOR DE PILAS USB DINAX / DX-CARBATE',\n",
       "       'CARGADOR SAM 25W CON USB C A C CARGA SUPER RAPIDA 5A NB-0009',\n",
       "       'CASE DISCO 3.0 Seisa Tranparente Dn-k209', 'CINTA KAPTON 15mm',\n",
       "       'Cargador De Pila USB X4 Aaa Aa Dx-0604u DELEEX',\n",
       "       'Consola Arcade Multijuegos Separado X2 +10000 JUEGOS ST 3099',\n",
       "       'Destornillador Mechanic Imini S2 +1,5 05271',\n",
       "       'Disco Solido SSD 240GB KINGSTON A400 SATAIII 2.5',\n",
       "       'ESPEJO LED LUZ FRIA A PILA Y USB ESP-91013',\n",
       "       'ESTABILIZADOR KIT CON LUZ Y MICROFONO AY-49U',\n",
       "       'ESTAÑO EN PASTA 183 GRADOS GSMSOURCES',\n",
       "       'EXTENSOR / REPETIDOR KANJI KJN-RP4200B 4 ANTENAS',\n",
       "       'Espatula Profesional Ultrafina Mechanic X10',\n",
       "       'FILM GLASS 9D SAM A71', 'FLEX INTERCONEXION SAM A50 NO. 2',\n",
       "       'FUENTE UNIVERSAL 9V 1,5A DOBLE FICHA  ROUTER / PARLANTES EC9V15A',\n",
       "       'Fuente PC Noga ATX-550 24 Pines P4 550W ATX 550 P4',\n",
       "       'HILO JUMPER 0.007 Superfine Silver (NO AISLADO) - SS007E',\n",
       "       'HILO JUMPER 0.01 (AISLADO) - SS007D\\xa0',\n",
       "       'HUB 4 PUERTOS USB 1MTS DINAX DX-HUB1M',\n",
       "       'JOYSTICK PLAYSTATION PS4 DUALSHOCK COLORES WB-6',\n",
       "       'LENTE CAMARA IPHONE 11 12 12 Mini X2 U',\n",
       "       'Lapiz optico Pen Stylus JAZAK WK24 / Compatible con todo tipo de tablets Android o Ipad',\n",
       "       'Lector De Memoria Micro SD NO:2400',\n",
       "       'Malla Deportiva Silicona Para Xiaomi Mi Band 5 / 6 / 7 Negro con Rojo',\n",
       "       'Mouse  Business Office Seisa DN-N512',\n",
       "       'Mouse Logitech Inalambrico M170 Black Blister 910-004940',\n",
       "       'Mouse Logitech Inalambrico M170 Red Blister 910-004941',\n",
       "       'PAD TERMICO URANUS TP-U1 50X50X1.0MM 12W/MK ALTO RENDIMIENTO',\n",
       "       'PINZA BRUCELA SAK-11 RECTA Mechanic',\n",
       "       'PINZA BRUCELA SAK-15 CURVA Mechanic',\n",
       "       'PLANCHA SEPARADORA LCD GTOOL 988A CON SUCCION\\xa0+ PAD GOMA',\n",
       "       'PUNTAS FINAS GOLD MULTIMETRO SS024A',\n",
       "       'Pen Drive HIKSEMI 64Gb M200S Rotary USB 3.0 (6942)',\n",
       "       'Pen Drive KINGSTON 32GB USB 3.2 DTX EXODIA NEGRO',\n",
       "       'Pila Noga Recargable AA 2900mAh NP-AAM 2.9B / Pack de 2 unidades',\n",
       "       'Plancha Separadora de Glass HEADFOX MC958',\n",
       "       'RECEPTOR DE AUDIO BLUETOOTH BT350 BT-350 or 146838',\n",
       "       'Receptor USB NANO Wireless WIFI AC600 Dual band Tp-Link T2U NANO',\n",
       "       'SET X3 SPUDGER METALICOS KIT RL065', 'SOPLADOR RL043A RELIFE',\n",
       "       'SOPORTE PARA CELULAR / TABLET - SA18 NEGRO GM-4217NE',\n",
       "       'SOPORTE TV DOBLE BRAZO MOVIL GLOBAL 30 A 60 INCLINACION 5±10° HASTA 35KG KIT DE INSTALACION TVS-ARM2-30-60I',\n",
       "       'TECLADO CABLE NOGA NKB-78011',\n",
       "       'TECLADO MULTIMEDIA CABLE NOGA NKB-410',\n",
       "       'TECLADO RETROILUMINADO SLIM DN-DY02 TECLAS REDONDAS',\n",
       "       'Teclado Inalambrico Bluetooth / Slim / Recargable Rdk-902',\n",
       "       'Teclado Y Mouse Inalambrico Bluetooth - Slim / Recargable Rdkm-906 NEGRO',\n",
       "       'USB TESTER - SS302A\\xa0',\n",
       "       'ADAPTADOR DE NANO SIM A MICRO SIM 2384', 'ALICATE RELIFE RL-113',\n",
       "       'AURICULAR BT AIRPODS WUW R127 NEGRO',\n",
       "       'AURICULAR BT APDS MAX BLANCO',\n",
       "       'AURICULAR BT MANOS LIBRE MOTO BUDS 085 NEGRO',\n",
       "       'AURICULAR BT TIME ROSA Y NEGRO JS25',\n",
       "       'AURICULAR BT ULTRAPODS PRO IP4 AU-17006',\n",
       "       'AURICULAR JBL BLUETOOTH T720 NEGRO (5869)',\n",
       "       'AURICULAR M-LIBRES TIME AU-1238 COLORES',\n",
       "       'AURICULARES BT Haylou GT1 2023 / NEGRO',\n",
       "       'Adaptador Displayport Macho A Hdmi Hembra 06-009',\n",
       "       'Adaptador Ficha MiniPlug 3,5 A Plug 6,5 MONO Chico a Grande',\n",
       "       'Aguja metalica para jeringa de flux o estaño',\n",
       "       'Antena Externa Adaptador Usb Wifi Placa Red Lan 802 N Gb',\n",
       "       'Auriculares Cable in-ear JBL C50HI Blanco',\n",
       "       'CAMARA SMART IP 720P DINAX DX-CAMSMAIP',\n",
       "       'CARGADOR DE AUTO SKYWAY 2 SALIDAS / USB C PD + QC3.0 / 38W GM6071',\n",
       "       'COOLER NAXIDO RGB 12CM', 'Camara de Seguridad',\n",
       "       'Cargador Motorola 50W doble puerto con cable C a C EN CAJA ',\n",
       "       'Cargador Portable Power Bank 20000 MAH T-D05 TRANYCO',\n",
       "       'Cargador V8 Micro Malibu RT-714A Smart Fast 3.1a + Usb',\n",
       "       'Cepillo Doble Wuzip - Azul EBB-003',\n",
       "       'Desoldador A Piston Chupador De Estaño Metalico',\n",
       "       'Disco Solido SSD 128GB PATRIOT P220 2.5\" SATA',\n",
       "       'Disco Solido SSD 1TB PATRIOT P210 Sata',\n",
       "       'Disco Solido SSD 480GB  ADATA SU630 Sata',\n",
       "       'EMBOLO PARA JERINGA DE ALUMINIO P08 para jeringa de 10cc ',\n",
       "       'ESPATULA PARA REBALLING Y APERTURA - JM-Z12\\xa00',\n",
       "       'ESTABILIZADOR DE TENSION ATOMLUX R500@ 220V 6 TOMAS 500VA',\n",
       "       'ESTAÑO EN PASTA 183 - 40g - WUZIP',\n",
       "       'ESTAÑO EN PASTA SP-X SOLDER PASTE 158 GRADOS G-LON\\xa0',\n",
       "       'Espatula Profesional De Desmontaje De Baterias X12 Mechanic',\n",
       "       'Estabilizador Surelectric Future 6 Bocas 220v-1000va (0017)',\n",
       "       'Estacion De Soldado Lapiz Cautin Con Regulador 936D+ 400 Grados 60W',\n",
       "       'FILM GLASS COMUN SAM A14',\n",
       "       'FILM GLASS COMUN SAM A20 / A30 / A30S / A50 / A50S',\n",
       "       'FLEX DE CARGA IPHONE 6S WHITE',\n",
       "       'FLEX DE CARGA IPHONE 8 PLUS WHITE/BLACK',\n",
       "       'FLEX INTERCONEXION SAMSUNG A52',\n",
       "       'FUNDA PORTA NOTEBOOK 13 PULGADAS CON BOLSILLO / GRIS / DEHUKA',\n",
       "       'FUNDA PORTA NOTEBOOK 15.6 AZUL CDTEK',\n",
       "       'FUNDA PORTA NOTEBOOK PIERRE CARDIN PC-3011MED',\n",
       "       'Film Vidrio Templado CAMARA FULL Para Iphone 13 / 13 MINI / 14 PRO / 11 / 11 Pro / 11 Pro Max 51566',\n",
       "       'JOYSTICK PLAYSTATION PS4 TIME CAMUFALDOS JOY-61012',\n",
       "       'JOYSTICK XBOX 360/PC/ANDROID INALAMBRICO + DONGLE NJX312',\n",
       "       'Joystick Redragon Inalambrico Harrow PRO G808-PRO Pc - Ps3*',\n",
       "       'Joystick Redragon Saturn G807 Windows/Ps3 negro',\n",
       "       'KIT DESTORNILLADORES SS-5106 PARA iPHONE 7 (4 pcs)\\xa0',\n",
       "       'Kit Destornilladores Yaxun YX6310 Tablet Celular',\n",
       "       'Kit de Teclado y Mouse inalambrico Logitech MK220 920-004430',\n",
       "       'LAMPARA ARTICULADA DE ESCRITORIO PIXAR OR-L01 ',\n",
       "       'LAMPARA UV usb - RL-014', 'LENTE CAMARA IPHONE X',\n",
       "       'LIMPIADOR PUNTA CAUTIN - GOLD - ESPONJA METALICA ss-599b',\n",
       "       'Lapiz optico TARGUS MAGNETICO 5\" AMM168GLX',\n",
       "       'Lector De Memorias Sd Micro Sd A Usb',\n",
       "       'MALLA DESOLDANTE MECHANIC R350 / 1515',\n",
       "       'MALLA DESOLDANTE RELIFE - RL1515',\n",
       "       'MOUSE GENIUS DX-110 USB BLUE 1200 DP',\n",
       "       'MOUSE GENIUS DX-120 USB BLUE 1200 DPI',\n",
       "       'Malla Deportiva Silicona Para Xiaomi Mi Band 5 / 6 / 7 Negro con Amarillo',\n",
       "       'Mini Adaptador USB Wifi tp-link TL-WN823N 300Mbps 39mm',\n",
       "       'Mouse  Business Office Seisa DN-N601',\n",
       "       'Mouse Pad Gamer NOGA ST-G36 XL 920 x 294 MM',\n",
       "       'Mouses T-Dagger Corporal Wireless black T-TGWM100',\n",
       "       'NEON RGB KIT LED-3535NH72TZ-12V-RGB 5M',\n",
       "       'PINZA BRUCELA ESD-11 RECTA HQ Mechanic',\n",
       "       'PINZA BRUCELA ST-15 CURVA ANTIESTATICA Mechanic',\n",
       "       'PLACA DE SONIDO USB DX-PLSON71 DINAX',\n",
       "       'PLACA USB/WIFI 150M CON ANTENA DN-W150U3 or 135145',\n",
       "       'PUNTA DE SOLDADOR MECHANIC 900M-T-FS 8341',\n",
       "       'Pad Liso De Caucho Y Corcho Cmp213',\n",
       "       'Pasta Grasa Siliconada Metalica X 5 Cc. Servex 91009',\n",
       "       'Paños limpieza wipes rl-045',\n",
       "       'Punta Para Estacion Soldado T12 J02 (curva)',\n",
       "       'RADIO RETRO AM FM CON LINTERNA / BLUETOOTH SEISA YX-119UBT',\n",
       "       'REMOVEDOR DE GOMA Q5000 100MM',\n",
       "       'ROUTER TP-LINK TL-WR850N WISP 2 ANTENAS 2.5DBI 300MBPS',\n",
       "       'Radio Retro Am Fm Con Linterna Y Bluetooth Seisa YX-123UBT',\n",
       "       'SERV TEC PIN', 'SERV TEC TACTIL Y LCD', 'SEÑA POR ARREGLO',\n",
       "       'SOPORTE PARA CELULAR DE ALUMINIO MOD39',\n",
       "       'SOPORTE TV FIJO SEISA 42 A 85\" HASTA 100KG/ Con Inclinacion GJ-C65',\n",
       "       'SPLITTER HDMI 1 A 2 4K / ADP-48006',\n",
       "       'SPUDGER METALICO ESPATULA\\xa0',\n",
       "       'Soporte Notebook Hasta 17\" NM-HC75',\n",
       "       'Soporte Regulable Giratorio 360º Para Tablet Y Celulares ZX-ZJ48',\n",
       "       'TESTER MULTIMETRO DIGITAL COMPACTO UNI-T Ut33c+ Plus',\n",
       "       'Touch TPC-51055 V3.0 / FPC-TP070215(708B) / FPC-TP0702015 / FPC-TP070226 / ZJ-70065F / WJ615-V1.0',\n",
       "       'Transmisor Inalambrico Bluetooth Auto Manos Libres CarF7 TIPO C',\n",
       "       'Xiaomi Mi Band 8 Pantalla 1.62 Pulgadas Malla Negra',\n",
       "       'ARTICULO NO ENCONTRADO EN LA LISTA',\n",
       "       '011 QIANLI Cuchillas pulidas a mano',\n",
       "       'ACTIVADOR DE BATERIAS SUNSHINE SS915 v9',\n",
       "       'ADAPTADOR HUB 3 EN 1 TIPO-C A HDMI+USB3.0+PD BYL-2122',\n",
       "       'ADAPTADOR HUB 5 EN 1 TIPO-C A HDMI+USB3.0+PD+PUERTO BYL-2007',\n",
       "       'ADAPTADOR HUB 5 EN 1 TIPO-C A SD/TF+USB3.0+USB2.0X2 BYL-2103T',\n",
       "       'ADAPTADOR HUB 6 EN 1 TIPO-C A HDMI+SD/TF+USB2.0+USB3.0+PD BYL-2010',\n",
       "       'ADAPTADOR HUB IPHONE CON 3 PUERTOS USB Y 1 PUERTO DE IPHONE SX-38',\n",
       "       'ALICATE SUNSHINE SS109\\xa0',\n",
       "       'AURICULAR BT MANOS LIBRE MOTO BUDS 105',\n",
       "       'AURICULAR BT TIME NEGRO AU-17005',\n",
       "       'AURICULAR BT ULTRAPODS MAX IP4 AU-17007',\n",
       "       'AURICULAR BT VINCHA MOTOROLA  XT220 Negro',\n",
       "       'AURICULAR CABLE MAXXA A17+ COLORES',\n",
       "       'AURICULAR CON MICROFONO IBEK ER-23',\n",
       "       'AURICULAR CON MICROFONO IBEK ER-25',\n",
       "       'AURICULAR JBL WAVE FLEX TRULY WIRELESS NEGRO (3484)',\n",
       "       'AURICULAR M-LIBRES TIME AU-1237 COLORES',\n",
       "       'AURICULAR MANOS LIBRE EARBUDS 3 MOTOROLA TURQUESA',\n",
       "       'AURICULARES BT NOGA NG-BTWINS 26 TACTIL ROJO',\n",
       "       'Adaptador Alargue HDMI Hembra a HDMI Hembra CB-107',\n",
       "       'Adaptador DVI-D Macho a HDMI Hembra CB115',\n",
       "       'Adaptador DVI-D Macho a Vga Hembra CB113',\n",
       "       'Adaptador Headphone Jack iPhone 7 Lightning A 3.5mm ADAN005',\n",
       "       'Adaptador Nano USB a Wireless 150 Mbps Mercusys by Tp-Link MW150US N150 NANO',\n",
       "       'Adaptador OTG Carga Y Datos USB Macho A Tipo C Hembra 3.1',\n",
       "       'Adaptador Otg Micro Usb A Usb Hembra Tablet Celular',\n",
       "       'Adaptador Tipo C a Tipo C y Audio 3,5mm Hembra 09-053',\n",
       "       'Analogico Nintendo Switch Joy-Con Joystick Repuesto Original',\n",
       "       'Auricular Gamer Redragon Icon H530 / H520 Multiplataforma Pc Ps4',\n",
       "       'Auricular Gamer Redragon Lamia H320 Negro RGB',\n",
       "       'Auriculares Bluetooth LENOVO T50 - BLACK',\n",
       "       'Auriculares JBL Inalambricos Tune510BT Blue',\n",
       "       'BALANZA MINI DIGITAL DE PRECISION 500G / 0.1G LCD LUZ MH-500',\n",
       "       'CABLE ADAPTADOR DISCO SATA EXTERNO A USB 3,0 / DXADAPDDUSB',\n",
       "       'CABLE CARGA Y JUEGA JOYSTICK XBOX 360',\n",
       "       'CALCO SKIN CONSOLA PS4 FAT VARIOS DIBUJOS',\n",
       "       'CARGADOR MOTO CON CABLE TIPO C A TIPO C 30W TURBO ca612',\n",
       "       'CARGADOR RAPIDO SEND S01 3.1A TYPE C TO IPHONE BLANCO / 5v 3.1A / 9v 1.8A / 12v 1.5A Tecnologia Qualcomm',\n",
       "       'CINTA KAPTON 10mm (fina)',\n",
       "       'Cable Usb Tipo C a Lightning Cargador Apple iPhone Ipad 1M MQGJ2ZM/A',\n",
       "       'Camara Web 1080p USB Con Microfono C007 ',\n",
       "       'Camara wifi Ezviz interior inteligente - C6N 1080p',\n",
       "       'Cargador Portable Power Bank 10000 MAH T-D06 TRANYCO',\n",
       "       'Cargador Portable Power Bank SEND TURBO 12000mAh TMP-P12NW  + CARGA INALAMBRICA / NEGRO',\n",
       "       'Cargador USB Reloj SAM FIT 2',\n",
       "       'Consola 400 EN 1 Con JOYSTICK 400 Juegos co1084',\n",
       "       'DOCK FLEX TEST (Micro)',\n",
       "       'Disco Externo Toshiba Canvio 2tb Black Usb 3.0 Hdtb520xk3aa',\n",
       "       'Disco Solido SSD 240GB ADATA SU630 Sata',\n",
       "       'Disco Solido SSD 512GB VERBATIM SATA 3',\n",
       "       'Drill Relife Rl-068 Removedor De Oca Minitorno Dremell',\n",
       "       'EMBOLO PARA JERINGA DE ALUMINIO P09 para jeringa de 10cc',\n",
       "       'ESPATULA SET 27 REMOVEDOR DE IC - SS101A\\xa0',\n",
       "       'ESTACION DE SOLDADO CON PISTOLA DE AIRE 2 EN 1 HK-8506D Mechanic',\n",
       "       'EXTENSOR / REPETIDOR KANJI KJN-RP4200A',\n",
       "       'EXTENSOR DE RANGO Tp-Link Re200 Dual Band 2.4Ghz 5Ghz Ac750',\n",
       "       'Espatula Profesional Ultrafina Mechanic X9',\n",
       "       'FILM GLASS 9D MOTO G9 POWER',\n",
       "       'FILM GLASS COMUN SAM A10 / A10S / MOTO G7 / G7 PLUS',\n",
       "       'FILM GLASS COMUN SAM A21S', 'FILM GLASS COMUN SAM A24',\n",
       "       'FILM GLASS COMUN SAM S21 FE', 'FILM HIDROGEL MI BAND 6',\n",
       "       'FILM MEMBRANA CONDUCTOR JOYSTICK PS4 JDM-040',\n",
       "       'FLEX INTERCONEXION MOTO G9 POWER',\n",
       "       'FLEX INTERCONEXION SAM A22 4G - A225 / A32 - A325',\n",
       "       'FLEX INTERCONEXION SAM A30S',\n",
       "       'FUNDA PORTA NOTEBOOK 13 PULGADAS CON BOLSILLO / NEGRA / DEHUKA',\n",
       "       'FUNDA PORTA NOTEBOOK PIERRE CARDIN PC-3010MED',\n",
       "       'Flex Power Huella Samsung A12 ', 'Flex Power Huella Samsung A13',\n",
       "       'Flex Power y Volumen Moto G22',\n",
       "       'HD EXTERNO 1TB PORTABLE WD ELEMENTS BLACK USB 3.0 Negro',\n",
       "       'HILO glass separador 0,03mm - RL-059A (verde)',\n",
       "       'HOLDER DE AURICULARES DINAX DX-HOLAUXT',\n",
       "       'Hub Usb 3.0 De 4 Puertos Aluminio Kq009H',\n",
       "       'JOYSTICK INALAMBRICO PS5  DUAL SENSE MIDNIGHT BLACK CFI-ZCT1W',\n",
       "       'JOYSTICK PS2 DUAL SHOCK NIPPON ALTO RENDIMIENTO NG2121',\n",
       "       'JOYSTICK PS3 INALAMBRICO NIPPON',\n",
       "       'JOYSTICK PS3 SIN MARCA COLORES JS3',\n",
       "       'JOYSTICK XBOX ONE SERIE S/X / PC ELECTRIC VOLT',\n",
       "       'JOYSTICK XBOX ONE SERIE S/X / PC SHOCK BLUE QAU-00001',\n",
       "       'JUEGO DE AJEDREZ TABLERO MAGNETICO 3881A',\n",
       "       'Joystick Inalambrico Bt / Nintendo Switch / PC / PlayStation 3 / Smartphones  SW-11 Colores',\n",
       "       'Joystick PS3 Bluetooth Sony Dualshock 3 SIMIL O',\n",
       "       'Joystick Redragon Inalambrico Harrow G808 Pc - Ps3',\n",
       "       'KIT INALAMBRICO TECLADO + MOUSE S5600 CELESTE / VERDE',\n",
       "       'Kit 5 Destornilladores CELUS RL728a', 'LAMINA OCA HYBRIDA 15\"',\n",
       "       'LAMPARA CURADO UV Con Extractor Mc18 MECHANIC',\n",
       "       'LENTE CAMARA IPHONE 11 PRO',\n",
       "       'Lector De Memoria Usb A Micro Sd Compacto HT-279A',\n",
       "       'Lector de Codigo de barras Laser Inalambrico 1D Netmak NM-LC502\\xa0',\n",
       "       'MALETIN PORTA NOTEBOOK 14/15,6\" LENOVO T210 GRIS',\n",
       "       'MALLA REPUESTO PARA RELOJ 20mm COLORES',\n",
       "       'MALLA REPUESTO PARA RELOJ MI BAND 5 / BAND 6 COLORES',\n",
       "       'MASCARA UV RELIFE - Negro',\n",
       "       'MEMORIA RAM SODIMM DDR4 PNY 8GB XLR8 GAMING 3200MHZ',\n",
       "       'MICROFONO GAMER DX-MICX15', 'MICROFONO XMC-01 XTRIKE ME',\n",
       "       'MINI MOUSE RETRACTIL NGM-418',\n",
       "       'MINI VENTILADOR USB C/LUZ MINI FANS HQ66-09',\n",
       "       'MOUSE GENIUS DX-110 USB GREEN 1200 DPI',\n",
       "       'MOUSE GENIUS DX-120 USB GREEN 1200 DPI',\n",
       "       'MOUSE INALAMBRICO SEISA 2.4G RECARGABLE DIBUJOS DN-M600',\n",
       "       'MOUSE PAD ERGONOMICO CON GEL CDTEK AZUL',\n",
       "       'Malla Silicona Para Xiaomi Mi Watch 2 Lite Rojo',\n",
       "       'Memoria SODIMM DDR3 HIKSEMI 8Gb 1600 MHz Hiker (7499)',\n",
       "       'Memoria SODIMM DDR3 Markvision 8Gb 1600 MHz 1.35V BULK (6372)',\n",
       "       'Microfono Performer Dinamico Karaoke Noga Ng-mi120c',\n",
       "       'Microfono Retro Jack 3.5mm DINAX DX-MICRET25',\n",
       "       'Mouse Bluetooth Recargable Trust Puck Celeste',\n",
       "       'Mouse Bluetooth Recargable Trust Puck Negro',\n",
       "       'Mouse Cable Xtrike Me Gamer Gm-510 4800dpi',\n",
       "       'Mouse Gamer Logitech G Series Lightsync G203 Blanco',\n",
       "       'Mouse Pad Gamer GLADIUS XXL Netmak 80x30 NM-GLADIUS-2',\n",
       "       'Mouse Pad Gamer Gladius NETMAK NM-GLADIUS 30 X 25 CM',\n",
       "       'Mouse Pad Redragon P006a Kunlun L',\n",
       "       'Mousepad XTRIKE ME Gamer Luz RGB MP-602 350x250 alimentacion USB',\n",
       "       'ORGANIZADOR MULTIFUNCIONAL DE MADERA CON 24 ESPACIOS MECHANIC B24',\n",
       "       'Organizador rotativo para destornilladores RELIFE RL-078A',\n",
       "       'PAD Para plancha de calor - SS004s',\n",
       "       'PEGAMENTO T7000 - ZHANLIDA 110ml - Negro',\n",
       "       'PEN PARA QUITAR TAPAS IPHONE - RL066',\n",
       "       'Pendrive Patriot 64gb Push + Usb 3.2 ',\n",
       "       'Pinza Crimpeadora Para Cables RJ45 con Pelacables WJ-315',\n",
       "       'Placa de Red PCI-E 300N 2x 2Dbi Tp-Link TL-WN881ND',\n",
       "       'Punta Relife RL-900M - IS (curva)',\n",
       "       'Punta Relife RL-900M-I (recta)',\n",
       "       'Punta Relife RL-900M-T-K (cuchilla)',\n",
       "       'RADIO PORTATIL BLUETOOTH VINTAGE RETRO NEGRO SUONO 239608',\n",
       "       'RASPADOR REMOVEDOR DE PEGAMENTO - RL-023\\xa0',\n",
       "       'RECEPTOR BLUETOOTH DOBLE SALIDA BLS-BT02',\n",
       "       'RECEPTOR BLUETOOTH DX-REPBLUE810 DINAX',\n",
       "       'RECEPTOR WIFI DINAX DOBLE BANDA 1300MBPS / DXREPE2BAN',\n",
       "       'RELOJ INTELIGENTE IMILAB W02 1,85\" Negro',\n",
       "       'RODILLO LAMINACION 7CM SILICONA BLANCO',\n",
       "       'ROUTER DINAX WIFI 4 ANTENAS IEEE 802.11N DX-7ROU1023',\n",
       "       'Removedor Flux DELTA Limpiador Residuos Resina 180G',\n",
       "       'SET DESTORNILLADORES 34 in 1 mod SS-5119',\n",
       "       'SOPORTE BASE ALUMINIO PARA NOTEBOOK ZX-447',\n",
       "       'SOPORTE DE MESA PLEGABLE / NOTEBOOK 13 / TABLET / BLANCO - SA23 GM-5427BL',\n",
       "       'SOPORTE LCD BRAZO DOBLE 26 A 55 DINAX DX-SM2655TV',\n",
       "       'SOPORTE RELIFE RL601L mini',\n",
       "       'SOPORTE UNIVERSAL PARA CELULAR FLY 2081-D',\n",
       "       'Soporte Para Celular De Brazo FLEXIBLE Con Pinza Ajustable COLORES',\n",
       "       'TACTIL  LG K40s NEGRO +O', 'TECLADO CABLE USB DINAX DXTECH643',\n",
       "       'TECLADO Y MOUSE GAMER RETROILUMINADO STOMER NKB-570',\n",
       "       'TESTER MECHANIC T-824 Detector De Fallas Lightning Y Usb C',\n",
       "       'TRIPODE BRACKET H-08 COLORES', 'TV BOX MXQ-4K (1GB+8GB) Peiso',\n",
       "       'TWEEZER PINZA RELIFE (curva) - RT14SA',\n",
       "       'TWEEZER PINZA RELIFE (plana) - ST20',\n",
       "       'TWEEZER PINZA RELIFE (recta) - RT14A\\xa0',\n",
       "       'Tarjeta de memoria Patriot 64gb Clase10 80MB/s',\n",
       "       'Teclado Bluetooth Mini Ultra Delgado Metalico BK3001',\n",
       "       'Teclado Inalambrico Bluetooth / Slim / Recargable Rdk-904 Rdk-904 NEGRO',\n",
       "       'Touch Mas Simple 8 pulgadas / L201190610 06.3848.001 L20190618 F20190704 li20190618',\n",
       "       'Turbina Cooler Anillo 12 cm con Led Azul conexion a fuente Netmak NM-RING',\n",
       "       'VGA MACHO A HDMI HEMBRA FULL HD 1080 ADP-48007',\n",
       "       '4B1 Touch Philco TP7A1I / PB70A2229',\n",
       "       'ADAPTADOR INTERNATIONAL DIVERSOS ENCHUFES SS177 / SM-115',\n",
       "       'ADAPTADOR TIPO C (Macho) A LIGHTING (Hembra) 09-033',\n",
       "       'ALCOHOL ISOPROPILICO ALTA PUREZA DELTA 500CC PHX500',\n",
       "       'APOLLO QIANLI',\n",
       "       'ARCADE PLOTEADO Y LUCES MULTICONSOLA + 13000 JUEGOS',\n",
       "       'AURICULAR BLUETOOTH DINAX DX-AURINA10',\n",
       "       'AURICULAR BLUETOOTH PANGPAI P29',\n",
       "       'AURICULAR BLUETOOTH SOUL SL1008',\n",
       "       'AURICULAR BLUETOOTH WST604 BLUE',\n",
       "       'AURICULAR BLUETOOTH WST604 RED',\n",
       "       'AURICULAR BT DE CONDUCCION OSEA JS7',\n",
       "       'AURICULAR BT MANOS LIBRE MOTO BUDS 150 NEGRO',\n",
       "       'AURICULAR BT MANOS LIBRE MOTO BUDS 250 NEGRO',\n",
       "       'AURICULAR BT TIME B Y N JS1', 'AURICULAR CABLE LG KM900E NEGRO',\n",
       "       'AURICULAR CABLE WUW R121 BLANCO',\n",
       "       'AURICULAR CON CABLE DINAX DX-AUPAS01',\n",
       "       'AURICULAR CON MICROFONO NAXIDO OH-901 DOBLE FICHA MINI PLUG',\n",
       "       'AURICULAR GAMER G635 LIGHTSYNC',\n",
       "       'AURICULAR GAMER Headset GM-003 360º Vibration sound',\n",
       "       'AURICULAR GAMER Only GM-889MV Micrófono Cable Altavoz ROJO',\n",
       "       'AURICULAR GAMER PARA PC Y PS4 H-1 PHOINKAS',\n",
       "       'AURICULAR INALAMBRICOS POP IT SUONO AUCX-M-PK',\n",
       "       'AURICULAR JBL ENDURANCE RACE INALAMBRICO NEGRO (3336)',\n",
       "       'AURICULAR JBL TUNE BUDS TWS AZUL',\n",
       "       'AURICULAR JBL WAVE BUDS TWS NEGRO (3521)',\n",
       "       'AURICULAR MANOS LIBRE IN-EAR PACE 105 MOTOROLA AZUL',\n",
       "       'AURICULAR MANOS LIBRE Samsung AKG Ficha Tipo C',\n",
       "       'AURICULAR VINCHA BLUETOOTH PREMIUM MAXXA M33 CELESTE',\n",
       "       'AURICULAR VINCHA CABLE MAXXA V45 COLORES',\n",
       "       'AURICULAR VINCHA H151 LOGITECH',\n",
       "       'AURICULARES BLUETOOTH 5,3 IN EAR DEHUKA E7s Blanco',\n",
       "       'AURICULARES BLUETOOTH VINCHA EJ-P202', 'AURICULARES BT IBEK AIR3',\n",
       "       'AURICULARES BT IBEK AIR5', 'AURICULARES BT PUXIDA G9S',\n",
       "       'AURICULARES JBL QUANTUM200 BLACK GAMER',\n",
       "       'AURICULARES NOGA BT TWINS GAMING LOW LATENCY NGX-BTWINS 5',\n",
       "       'AURICULARES NOGA TWINS BT BLANCO NG-BTWINS 24',\n",
       "       'AURICULARES SAMSUNG J5 BLANCO',\n",
       "       'AURICULARES XIAOMI MI TRUE EARPHONES 2 BASIC',\n",
       "       'Adaptador De Usb A Sata/ide Con Fuente Y Cables Universal Noga HE2020',\n",
       "       'Adaptador Inalambrico Wifi Usb Red Noga NG-Uw06 Antena 150mbps 2,4GHZ',\n",
       "       'Adaptador Microusb Macho a tipo C Hembra 09-055',\n",
       "       'Adaptador Otg Tipo C / Usb3.0  Cp01-20-006',\n",
       "       'Adaptador Placa De Red Usb Inalambrico Tp-link Tl-wn722n USB 2.4GHZ',\n",
       "       'Adaptador Tipo C a Iphone IP04',\n",
       "       'Adaptador Tipo C macho a HDMI Hembra 09-043',\n",
       "       'Adaptador de DVI (Macho) 24+1 a VGA (Hembra) GM6306',\n",
       "       'Alcohol Isopropilico Chemitec Aerosol 440cc Pro Max',\n",
       "       'Ariculares BT Skullcandy Jib True 2 Con Microfono Gris S1JTW-P744',\n",
       "       'Auricular Bluetooth NIA Q8-851S Manos Libres Entrada auxiliar MicroSd y Radio FM VIR-1219',\n",
       "       'Auricular Bt Sport Extra Bass Seisa Ej-p7235 COLORES',\n",
       "       'Auricular CON Vincha en metal y simil cuero 2000X Cable desmontable y microfono VIR-1222',\n",
       "       'Auricular Gamer Redragon ARES H120 PC PS4 XBOX',\n",
       "       'Auricular Gamer Redragon Zeus X Usb Rgb 7.1 Luces h510',\n",
       "       'Auricular Interno Speaker Moto G5S Plus',\n",
       "       'Auricular Manos libres Time AR 1220',\n",
       "       'Auricular Vincha BT Haylou S35 Anc  / Gamer Diadema Con Cable / Cancelación De Ruido / Llamadas De Voz Hd / Control Tacti/ Bluetooth 5,2  Azul Oscuro',\n",
       "       'Auriculares BT HAYLOU GAMING G3 G003 - BLACK',\n",
       "       'Auriculares BT In-ear Xiaomi Redmi Buds 4 BLANCO',\n",
       "       'Auriculares BT JBL TUNE205BT - BLUE',\n",
       "       'Auriculares BT JBL VIBE BUDS - WHITE',\n",
       "       'Auriculares Bluetooth Qcy HT07 ARCBUDS - BLACK',\n",
       "       'Auriculares Bluetooth Qcy T13 Android Ios',\n",
       "       'Auriculares Gamer Lenovo Hu75 Con Led Multicolor RGB',\n",
       "       'Auriculares KZ-EDC Negro Con Microfono',\n",
       "       'Auriculares Logitech inalambricos G Series G435 LIGHTSPEED Blanco 981-001073',\n",
       "       'Auriculares Y Parlantes Bluetooth 2 En 1 West Hybrid V-75',\n",
       "       'Auriculares in-ear JBL Tune110 JBLT110 Banco',\n",
       "       'BANDEJA SIM S10 / S10 PLUS',\n",
       "       'BANDEJA SIM SAM A10 / A10S / A20 / A30 / A50 / A70',\n",
       "       'BANDEJA SIM SAM A31', 'BANDEJA SIM SAM S8 / S8 PLUS SYLVER',\n",
       "       'BASE SEPARADORA UNIVERSAL 360° RELIFE RL-601S*',\n",
       "       'BOTON HOME IPHONE 7',\n",
       "       'Barra Sonido Tv o Pc Bluetooth / Sd / Radio / Usb / Recargable / E-5011',\n",
       "       'Base Cooler Pad Para Notebook A9 14/15/17 Pulgadas + Usb ',\n",
       "       'Base Doble Cooler Para Notebook Luz Led + 2 USB 668',\n",
       "       'Base Doble Cooler Para Notebook Luz Led + 2 USB B-9',\n",
       "       'Base Para Monitor Gamer Eleva Soporte Celular Usb Luces Noga NG-ZA5',\n",
       "       'Batea Cubeta Ultrasonido 30W YX-3030 Yaxun',\n",
       "       'Batea Ultrasonido Yaxun Yx-3060',\n",
       "       'CABLE ADAPTADOR USB 3.0 A SATA USB3 A SATA',\n",
       "       'CAMARA EXTERIOR IP WIFI IMOU Cruiser Se+ 4mp Full Color',\n",
       "       'CAMARA IP CLOUD TP-LINK TAPO C310 3MP EXTERIOR',\n",
       "       'CAPTURADORA HDMI A USB HU-03',\n",
       "       'CARGADOR 220V TRAVEL ADAPTER Ver2 SUPER RAPIDA SAMSUNG USB C A C',\n",
       "       'CARGADOR AUTO INALAMBRICO 10W / 7,5W CON SENSOR SKY CARWIR            ',\n",
       "       'CARGADOR AUTO TURBO SEND CARGA RAPIDA  USB TIPO C SMART CHARGER',\n",
       "       'CARGADOR CABEZAL ADAPTADOR PUERTO USB + TYPE C 6.1A 5.8A IBEK IB-611PD20W QC 3.0 A+C',\n",
       "       'CARGADOR CABEZAL SAMSUNG 25W SUPER RAPIDA USB C A C',\n",
       "       'CARGADOR CABEZAL SAMSUNG 65W SUPER RAPIDA / SALIDA 1 USB / 2 TIPO C',\n",
       "       'CARGADOR CABEZAL SAMSUNG TURBO',\n",
       "       'CARGADOR DE BATERIAS Sunshine ss909 v6.0',\n",
       "       'CARGADOR DE PARED LDNIO 65W DOS SALIDAS USB A Y TIPO C / A2620C QC3 ',\n",
       "       'CARGADOR IBEK TYPE C 5.8A 1 PUERTO USB Y PUERTO TYPE C IB-5808 PD+QC3.3',\n",
       "       'CARGADOR MOTOROLA 50W PD & QC 3.0 TYPE C A TYPE C X50',\n",
       "       'CARGADOR MOTOROLA ORIGINAL 68W CON CABLE C A C CAJA',\n",
       "       'CARGADOR PORTATIL POWER BANK IBEK 10000 mAh 22.5W PD-188',\n",
       "       'CARGADOR RAPIDO SEND S01 3.1A TYPE C TO IPHONE NEGRO / 5v 3.1A / 9v 1.8A / 12v 1.5A Tecnologia Qualcomm',\n",
       "       'CARGADOR TYPE C A TYPE C IBEK PD45W 1 PUERTO TYPE C IB-620',\n",
       "       'CARGADOR UNIVERSAL SAPITO LCD CON USB KOSMO KS 016C',\n",
       "       'CARGADOR UNIVERSAL SEISA PARA NOTEBOOK AUTOMATICO 40W DN-A400',\n",
       "       'CARGADOR V8 MICRO USB IBEK 3.1A 2 PUERTO USB IB-3021',\n",
       "       'CINTA ALUMINIO 15MM / 20M',\n",
       "       'CONSOLA 8 BITS CON JOYSTICK Y 800 JUEGOS QF-G4 (g3)',\n",
       "       'CONSOLA PORTATIL POWKIDDY RGB20S / PANTALLA IPS / MEMORIA 128GB / 20000 JUEGOS',\n",
       "       'CONSOLA PVP 8BIT CRASH C/CARTUCHO LIGHT 3000 P-60',\n",
       "       'CONTADORA DE BILLETE NAXIDO H-302 LCD DISPLAY',\n",
       "       'CONVERSOR VGA A HDMI CON AUDIO Y USB (CABLE) 1244',\n",
       "       'Cable Adaptador De Dvi-D (24+1) A Vga / Con Audio 09-020',\n",
       "       'Camara Microscopio Hd Mechanic Rx-510',\n",
       "       'Camara Mini Espia De Seguridad Wifi Hd Con Microfono SEISA IPC-NB10',\n",
       "       'Camara Web Webcam Xiaomi W88 FULL HD(1080P)',\n",
       "       'Camara web GENIUS Facecam 1000x 720p hd',\n",
       "       'Cargador Inalambrico Celulares 10W Noganet NG-Q03',\n",
       "       'Cargador Lenovo Para Notebook / Laptop 20v 3.25a Pin 4.0*1.7MM',\n",
       "       'Cargador Portable Power Bank 10000 MAH TY-F16 TRANYCO',\n",
       "       'Cargador Portable Power Bank 5A 20000 MAH T-K02 TRANYCO',\n",
       "       'Cargador Samsung Ultra Rapido Original 25W Cable Tipo C A C PD ADAPTER',\n",
       "       'Celular Motorola Moto G13 64gb / 4gb RAM Gris',\n",
       "       'Celular Motorola Moto G32 128GB / 4GB Ram Plata Satinado',\n",
       "       'Celular Samsung Galaxy A04 32GB/3GB RAM VERDE',\n",
       "       'Celular Samsung Galaxy A04 64GB/4GB RAM Negro',\n",
       "       'Celular Samsung Galaxy A14 128gb/4gb Ram Negro',\n",
       "       'Conector USB tipo C Macho a Audio 3.5 Hembra / Mallado 09-057',\n",
       "       'Consola Alien 16bits HDMI. Con 2 joysticks inalambricos. Excelente calidad de imagen. Podras jugar a los juegos de 16 bits en el televisor LCD o LED . La consola tiene mas de 500 juegos clasidos',\n",
       "       'Consola Nintendo Switch Gray + Lego DC Villans 64 GB',\n",
       "       'Consola Xbox Series S 512gb Blanca Fornite Rocket League + Monedas + 1 Joystick',\n",
       "       'Conversor Gamer Para Teclado Y Mouse A Celular Bluetooth Mix Pro',\n",
       "       'Conversor Rca Audio Y Video AV A Hdmi 1080p AV2HDMI-T',\n",
       "       'Conversor de VGA + Audio a HDMI Activo VGA2HDMI',\n",
       "       'Cooler 8025 Turbina NEGRA 8 cm conector a fuente Netmak NM-8025',\n",
       "       'Cooler Turbina TRANSPARENTE Luz Azul 8cm a fuente Netmak NM-8025T',\n",
       "       'DESTORNILLADOR RELIFE - PHILLIPS 1.2/1.5+ - RL721\\xa0',\n",
       "       'DISCO SSD SOLIDO PNY 480GB 2.5\" SATA CS900',\n",
       "       'DOCK FLEX TEST (iPhone)\\xa0',\n",
       "       'Disco Rigido Notebook 1TB Toshiba L200 SATA II 3.0 Gb/s 7mm 5400 rpm HD123',\n",
       "       'Disco Solido SSD 120Gb GIGABYTE Sata',\n",
       "       'Disco Solido SSD 1TB PNY 1TB-RB SATA',\n",
       "       'Disco Solido SSD 250GB Kingston NV1 SNVS/250G',\n",
       "       'Disco Solido SSD 256GB PATRIOT P210 SATA3 2.5',\n",
       "       'Disco Solido SSD 256GB PATRIOT P220 SATA3 2.5',\n",
       "       'Disco Solido SSD 500GB M.2 NVME WESTERN DIGITAL BLUE SN570',\n",
       "       'ENCHUFE INTELIGENTE WIFI SMART PLUG SA-014 GB',\n",
       "       'ESPATULAS METALICAS KIT RELIFE RL-087',\n",
       "       'ESPEJO RECTANGULAR TOUCH CON LUZ LED DINAX / DX-3ESPLUZAA',\n",
       "       'ESTACION DE SOLDADO AIRE + CAUTIN QUICK 715',\n",
       "       'ESTACION DE SOLDADO AIRE MECHANIC 861DW PRO',\n",
       "       'ESTACION DE SOLDADO Cautin QUICKO T12-952',\n",
       "       'ESTAÑO ALAMBRE NIQUEL 0.8mm RELIFE RL444 ',\n",
       "       'ESTAÑO EN PASTA 138 GRADOS (BAJA FUSION) RELIFE POTE 40g - RL404\\xa0',\n",
       "       'EXTENSOR DE HDMI POR UTP RED ETHERNET 30M GM5719 HDEXT',\n",
       "       'EXTENSOR DE RANGO De Wifi 300mbps 2.4ghz REP-RP4200E',\n",
       "       'Espuma De Limpieza Delta Compitt Foam Seco Pc Monitor 370g',\n",
       "       'Estacion De Soldado Mechanic T210 SOL 05647',\n",
       "       'FILM GLASS 9D MOTO E20 / G10 / G20 / G30 / G50 / E7 / G9 PLAY / E7 PLUS / A22 5G / A02S / ONE FUSION / G8 POWER',\n",
       "       'FILM GLASS 9D SAM A22 4G / A31 / A32 4G',\n",
       "       'FILM GLASS COMUN IPHONE 11 / 11 PRO', 'FILM GLASS COMUN MOTO G8',\n",
       "       'FILM GLASS COMUN MOTO G8 PLUS', 'FILM GLASS COMUN SAM J7 NEO',\n",
       "       'FILM GLASS COMUN SAM J7 PRIME',\n",
       "       'FILM GLASS COMUN SAMSUNG J2 PRIME',\n",
       "       'FLEX DE CARGA IPHONE 7 PLUS WHITE',\n",
       "       'FLEX DE ENCENDIDO MOTO E6 PLUS',\n",
       "       'FLEX DE ENCENDIDO Y VOLUMEN SAM A10',\n",
       "       'FLEX INTERCONEXION SAM A31', 'FLEX INTERCONEXION SAMSUNG A33',\n",
       "       'FLEX JACK / MIC  SAMSUNG J400',\n",
       "       'FLUX 100% ORGANICO EN TARRO CHICO 30CC NO TOXICO',\n",
       "       'FLUX JERINGA MECHANIC P23 10CC', 'FLUX JERINGA MECHANIC P59 10CC',\n",
       "       'FLUX MECHANIC SD360 MAX 10CC 8546',\n",
       "       'FUENTE AUREOX PARA PC UNLIMITED SERIES 650W REALES / 80 PLUS BRONZE / COLOR NEGRA',\n",
       "       'FUNDA PORTA NOTEBOOK 15,6 PULGADAS CON BOLSILLO / NEGRA / DEHUKA',\n",
       "       'Flux jeringa 10cc - Wuzip',\n",
       "       'Fpc 50 Pines Compatible Con Moto e6i / e6s / e7i power',\n",
       "       'Fuente 800mA multiple voltaje y conectores Universal Noganet NOGA 79',\n",
       "       'Fuente Alimentacion 12v 10amp Camara De Seguridad / Iluminacion S-120-12',\n",
       "       'Fuente De Poder 3/4.5/6/7.5/9/12 Voltios 6 Puntas Cargador Multiple 30w MULTI-ROLE cm053',\n",
       "       'Fuente Gigabyte P850gm 850w 80 gold Modular',\n",
       "       'Fuente SUNSHINE 1502d - 15v - 2A', 'GAMING COMBO 4 EN 1 NKB-405',\n",
       "       'Gatillos Gamepad Joystick W11+ Para Celular Free Fire Fortnite',\n",
       "       'Gavetero Metalico Organizador Relife RL001d',\n",
       "       'Grip Para Analogico Nintendo Switch Joy Con Y Switch Lite',\n",
       "       'HDMI SPLITTER 1 x 4 DUPLICA 4KX2K 3D SM-C7830K',\n",
       "       'HOJA DE PUNTOS Y LINEAS DE SOLDADURA MECHANIC MAGIC TAG',\n",
       "       'HOLDER BASICO SUNSHINE - SS601A - SOPORTE DE PLACAS',\n",
       "       'HOLDER MK1 Mini Soporte Giratorio MECHANIC',\n",
       "       'HOLDER UNIVERSAL WL (colores varios) SOPORTE DE PLACAS\\xa0',\n",
       "       'HUB TIPO C SEISA BYL-2103T 5 IN 1',\n",
       "       'Hub Adaptador Tipo C A Hdmi / Vga / Usb 3.0 / Pd Kq-009',\n",
       "       'Hub Usb 3.0 De 4 Puertos Kq008H',\n",
       "       'Hub Usb 3.0 De 7 Puertos Kq022H',\n",
       "       'Hub Usb Tipo C A 4 Puertos Usb 2.0 Kq-005H',\n",
       "       'Hub Usb Tipo C De 4 Puertos 3.0 Kq 002H',\n",
       "       'Impresora Termica POS 80mm Ancho de Impresion - USB2.0+RJ11-203dpi - 100mm/s - Global TP-POS80-USB',\n",
       "       'JOYSTICK ARCADE PS2 PS3 PC NJP308',\n",
       "       'JOYSTICK INALAMBRICO 2.4G POR 2 UNIDADES EN 1 PARA PC A PILAS NJP502',\n",
       "       'JOYSTICK Inalambrico Recargable AITECH C6 con soporte Celular',\n",
       "       'JOYSTICK PLAYSTATION PS4 DIBUJO / PERSONAJE WB-4',\n",
       "       'JOYSTICK PLAYSTATION PS4 ORIGINAL CAMUFLADO CUH-ZCT2U',\n",
       "       'JOYSTICK PS4 (S) INTER MIAMI MESSI',\n",
       "       'JOYSTICK XBOX ONE SERIE S/X / PC GREEN',\n",
       "       'JOYSTICK XBOX ONE SERIE S/X / PC PULSE RED QAU-00011',\n",
       "       'JUEGO DE DESTORNILLADOR ITECH 48 EN 1 MECHANIC',\n",
       "       'Joystick 4 Gatillos Para Celular Con Cooler Seisa H9.0',\n",
       "       'Joystick Bluetooth Seisa PS4 SJ-4013B',\n",
       "       'Joystick Gamepad Switch/Pc/Ps3/Android Inalambrico NETMAK NM-MAGNUM',\n",
       "       'Joystick PS4 Bluetooth SEISA SJ-4011B',\n",
       "       'Joystick T-Dagger Aries PC T-TGP500 Con Cable Usb / Pc / Ps3',\n",
       "       'KIT COMBO TIRA DE LED RGB LED-Y3528RD',\n",
       "       'KIT Destornilladores 8 en 1 Reparacion SW-6308A 2088-8pc',\n",
       "       'KIT MOUSE Y TECLADO INALAMBRICO DINAX DX-2BTCOMB',\n",
       "       'Kit Destornilladores Precision 9 En 1 AMAOE',\n",
       "       'Kit Destornilladores Precisión 6 En 1 Mechanic Mortar',\n",
       "       'Kit Destornilladores SS-5120 set 128 in 1',\n",
       "       'Kit Destornilladores SS-5121 set 66 in 1',\n",
       "       'Kit de Teclado y Mouse inalambrico Logitech MK270 920-004432',\n",
       "       'Kit de Teclado y Mouse inalambrico Logitech MK345 920-007820',\n",
       "       'LAMPARA CURADO UV Q1 MECHANIC', 'LAMPARA CURADO UV Q2 MECHANIC',\n",
       "       'LAMPARA VELADOR TACTIL LUZ CALIDA / FRIA Y NATURAL LED-81010 / BL-128',\n",
       "       'LASER ESTROBOSCOPICO COLORES 9 LUCES JS-PS15W',\n",
       "       'LECTOR SIM MOTO G7 POWER', 'LENTE BARLOW M22 - 48mm - 0.7x',\n",
       "       'LENTE BARLOW RF4 0.5X', 'LENTE CAMARA IPHONE 6 6S 6S PLUS 6 PLUS',\n",
       "       'LENTE CAMARA MOTO G8 POWER', 'LENTE CAMARA SAM A10 / a20 / a30',\n",
       "       'LENTE CAMARA XIAOMI NOTE 8 PRO',\n",
       "       'LENTE PROTECTOR POLVO y HUMO M25 - 48mm',\n",
       "       'LINTERNA TACTICA MULTIFUNCION SWAT FLASHLIGHT USB BALIZA 807',\n",
       "       'LUZ LED SELFIE 8233 3 NIVELES',\n",
       "       'Lampara De Escritorio Usb Oficina Led Velador Touch Dimer VIR-4556',\n",
       "       'Lamparita Smart Nexxt RGB Wifi 220V Dicroiica x3',\n",
       "       'Lector de Codigo de barras Laser USB 1D CON SOPORTE PIE Netmak NM-LC401-S',\n",
       "       'Lubrimatic DELTA Baja Densidad Usos Generales 180CC / 130G',\n",
       "       'MALLA REPUESTO PARA RELOJ 20mm GRIS',\n",
       "       'MALLA SILICONA 22mm ROSA GM-5270',\n",
       "       'MALLA SILICONA 42/44 MM - 96+119 MM GREEN',\n",
       "       'MALLA SILICONA 42/44 MM GM-5268 AZUL',\n",
       "       'MALLA SILICONA DEPORTIVA 20MM AZUL/CELESTE',\n",
       "       'MALLA SILICONA LOOP 42/44 MM - 123 MM COLORES',\n",
       "       'MANGO DE CAUTIN HEMBRA DE 5 PINES 908A',\n",
       "       'MANGUERA LUCES NEON LED FLEXIBLE 5MTS COLORES CON TRANSFORMADOR',\n",
       "       'MANTA Para Glass Silicona Pad NARANJA 25x20cm Espesor 8mm',\n",
       "       'MANTA TAPETE TERMICO RELIFE RL160A - Gris',\n",
       "       'MANTA TERMICA (CELESTE) 35x25cm SS004A',\n",
       "       'MEGA IDEA STENCIL NOTE - 8916 MT6592 CPU',\n",
       "       'MEMORIA DDR4 MARKVISION 8GB 3000 MHZ 1.35V BULK',\n",
       "       'MEMORIA SODIMM KINGSTON FURY DDR4 8GB 3200MHZ IMPACT',\n",
       "       'MICROFONO CONDENSER/SEISA  CON TRIPODE SF-666 3.5 PLUG 50Hz',\n",
       "       'MICROFONO DE PIE SF-950  FICHA 3.5mm PC-CELULAR-TABLET',\n",
       "       'MICROFONO HYPERX SOLOCAST USB',\n",
       "       'MICROFONOS INALAMBRICO 2 CANALES VHF + DVR 12-3002',\n",
       "       'MINI DRILL DE CORTE Y PULIDO IR X6 - MECHANIC',\n",
       "       'MINI LED DE CABEZA MOVIL MULTICOLORES 7LED 10w JS-YT60W',\n",
       "       'MOCHILA PORTA NOTEBOOK PIERRE CARDIN PC-1057 GRIS',\n",
       "       'MOCHILA PORTA NOTEBOOK PIERRE CARDIN PC-1057 NEGRO',\n",
       "       'MOUSE CABLE HAVIT GAMER MS1022 3200dpi',\n",
       "       'MOUSE DESIGN COLLECTION LIMITED EDITION M317C',\n",
       "       'MOUSE GAMING INALMBRICO G305 LOGITECH LIGHTSPEED AZUL',\n",
       "       'MOUSE INALAMBRICO 2.4G DN-W174',\n",
       "       'MOUSE INALAMBRICO INOVA MOU-019',\n",
       "       'MOUSE INALAMBRICO SEISA DN-G620',\n",
       "       'MOUSE INALAMBRICO SEISA DN-W170',\n",
       "       'MULTICARGADOR ICHARGE 8 PRO 100W - MECHANIC',\n",
       "       'MULTICARGADOR ICHARGE 8S 40W 8 PUERTOS - MECHANIC',\n",
       "       'Malla Nylon Apple Watch 42 44 45 Azul Oscuro',\n",
       "       'Memoria DDR3 HIKSEMI 8Gb 1600 MHz Hiker (7512)',\n",
       "       'Memoria DDR4 Corsair 8Gb 2666 MHz Value (3036)',\n",
       "       'Microfono Condenser Profesional DX-MICROPRO DINAX',\n",
       "       'Microfono Corbatero Jack 3.5mm DINAX DX-BULLET35',\n",
       "       'Microfono Corbatero Jack 3.5mm Lavalier Para Celular GL-119',\n",
       "       'Microfono Solapa Inalambrico Para Celular Tablet Pc Lavalier Lightning Iphone K11',\n",
       "       'Mini Bola Led Rgb Led Party Light Enchufe A 220v L-12',\n",
       "       'Mini Teclado Numerico Multimedia USB Netmak NM-KB250',\n",
       "       'Mini Teclado Only Smart Tv Bluetooth Retroiluminado Pilas MOD MK01',\n",
       "       'Mini Tripode Universal Altura Regulable Netmak NM-TRIP4',\n",
       "       'Mouse Cable Xtrike Me Gamer Gm-216 3600dpi',\n",
       "       'Mouse Gamer Retroiluminado LED RGB 12000DPI ST-333',\n",
       "       'Mouse Gamer Retroiluminado LED RGB 2400DPI ST-627',\n",
       "       'Mouse Gamer Retroiluminado LED RGB 2400DPI ST-645',\n",
       "       'Mouse Gamer Retroiluminado LED RGB 3200DPI ST-682',\n",
       "       'Mouse Inalambrico Recargable Genius ECO-8100 Azul',\n",
       "       'Mouse M110 Silent Logitech Usb Negro',\n",
       "       'Mouse Pad Redragon P003 Suzaku U',\n",
       "       'Mouse Pad Redragon P031 Flick L',\n",
       "       'Mouse Pad Redragon P032 Flick XL',\n",
       "       'Multicargador 6 Puertos Usb 3.0 RELIFE rl-304p',\n",
       "       'NISUTA Conversor Adaptador De Usb A 2 Ps2 NS-COUSPSCH',\n",
       "       'Notebook Asus Intel i3 X413J 14 Pulgadas / Ram 4Gb / Disco Ssd 128S / Win 10',\n",
       "       'Notebook HP Intel i3 1005G1 / 14 Pulgadas / 8GB RAM / 240GB SSD DISCO',\n",
       "       'OPENNING METAL PUA ULTRAFINA PEANUT / SS028A',\n",
       "       'PAÑO DE MICROFIBRA RL-045C',\n",
       "       'PEGAMENTO ESTRUCTURAL transparente RL-035A PUV glue 10cc\\xa0',\n",
       "       'PEGAMENTO MECHANIC SUPER X PARA LCD NEGRO',\n",
       "       'PEGAMENTO PARA PANTALLA CELULAR T7000 NEGRO MECHANIC 50ml',\n",
       "       'PINZA ALICATE HY-501A - YX109',\n",
       "       'PINZA BRUCELA KA-11 RECTA Mechanic',\n",
       "       'PINZA BRUCELA KS-11 RECTA Mechanic',\n",
       "       'PINZA DE PUNTA MECHANIC TS-J615', 'PISTOLA MASAJEADORA AF-J01',\n",
       "       'PISTOLA MASAJEADORA AF-V2',\n",
       "       'PLANCHA SEPARADORA KailLiwei F503 GIRATORIA',\n",
       "       'PROTECTOR DE TENSION PROTECH F',\n",
       "       'PROYECTOR LASER EMS-PS01 or 160863',\n",
       "       'PUNTA C115 RELIFE - C115-IS (curva)',\n",
       "       'PUNTA C210 - RELIFE - C210-IS (curva)',\n",
       "       'PUNTA DE SOLDADOR MECHANIC GOLD 900M-T-IS 8352',\n",
       "       'PUNTA JBC C210 - C210-020 (recta)',\n",
       "       'Pad Gamer Y Oficina De Caucho Y Corcho 80X30Cm Cmp833',\n",
       "       'Pasta Termica Thermal Grizzly Kryonaut 12.5 W 1 Gr Extrema!',\n",
       "       'Power Tester FNB58 - Bts Version',\n",
       "       'Prolongador Multi-Toma Dear Power 6 tomas 220V + Prot. Termico 1,5 MTS',\n",
       "       'Proton Par 18 Led Rgb Efectos Iluminacion Videmax / P-18',\n",
       "       'Proyector mini ViewSonic M1 MINI LED 120LM Entrada Usb y Hdmi',\n",
       "       'Punta Para C210 Capuchon Sacrificio Ideal Sugon T26 Jbc',\n",
       "       'Punta Para Estacion Soldado T12 - ILS (recta larga)',\n",
       "       'Punta Relife RL-900M SK (cuchilla fina)',\n",
       "       'RADIO PORTATIL POCKET DINAX AM/FM DX-RADIOP1',\n",
       "       'RECEPTOR 2.4G WIFI+BLUETOOTH 4.2 BT-165  ',\n",
       "       'RELIFE STENCIL IPHONE 7 - 7+ (A10)\\xa0',\n",
       "       'RELOJ DESPERTADOR C/CALENDARIO/TEMPERATURA DS-6609',\n",
       "       'RELOJ DESPERTADOR CARGA INALAMBRICA AY-21',\n",
       "       'RELOJ INTELIGENTE SMARTWATCH W17 PRO - BLACK',\n",
       "       'RELOJ KIESLECT SMARTWATCH CALLING KR PRO',\n",
       "       'RELOJ KIESLECT SMARTWATCH CALLING KS (negro)',\n",
       "       'REPETIDOR WIFI 2 ANTENAS DINAX / REPRP4200C',\n",
       "       'ROUTER TP-LINK ARCHER C50 AC1200 4 ANTENAS',\n",
       "       'Radio Bluetooth Am / Fm Con Linterna Y Panel Solar Ktf-1481',\n",
       "       'Radio Retro Am Fm Y Bluetooth Seisa YX-303UBT',\n",
       "       'Radio Retro Vintage Recargable Con Bluetooth Ktf-1482',\n",
       "       'Reloj Inteligente Smartwatch XIAOMI MI KIESLECT K10 NEGRO',\n",
       "       'Reloj Smartwach BT Netmak / Pulsaciones km fit BLACK NM-GO',\n",
       "       'Reloj Smartwach BT Netmak / Pulsaciones km fit Rosa NM-GOB',\n",
       "       'SET 10 CUCHILLAS BISTURI #11',\n",
       "       'SET 5 ESPATULAS MULTIFUNCION RL049A',\n",
       "       'SILLON MASAJEADOR SUONO 174881',\n",
       "       'SMART WATCH HAYLOU LS02 PRO - SILVER',\n",
       "       'SMART WATCH HAYLOU RT2 LS10 BLACK 6971664931358',\n",
       "       'SMARTWACH AMAZFIT GTR MINI - BLACK',\n",
       "       'SMARTWATCH AMAZFIT GTS 4 MINI - BLACK Pantalla 1.65\" ',\n",
       "       'SMARTWATCH KIESLECT KR - BLACK', 'SMARTWATCH P8 GT - GOLD',\n",
       "       'SMARTWATCH QCY GTS S2 - BLACK',\n",
       "       'SMARTWATCH RELOJ INTELIGENTE ULTRA 94 NOTIFICACIONES DE REDES SOCIALES, DEPORTIVO, SALUD',\n",
       "       'SMARTWATCH W17 - BLACK', 'SMARTWATCH Z69 ULTRA - BLACK',\n",
       "       'SOPORTE AURICULARES GAMER METALICO ALUMINIO BASE STAND',\n",
       "       'SOPORTE CON LUPA Y LUZ LED TE800 EC01039',\n",
       "       'SOPORTE DE AUTO PARA CELULAR YB20-3',\n",
       "       'SOPORTE DE CARGADOR PARA PS5 JOYSTICK SND-463',\n",
       "       'SOPORTE DE EXTENSION PARA TABLET DE METAL PLEGABLE ML-E4',\n",
       "       'SOPORTE HOLDER DE AUTO BRAZO LARGO DX-HOLUNIP',\n",
       "       'SOPORTE HOLDER DE AUTO CARGA AUTOMATICA DX-HOL939',\n",
       "       'SOPORTE PARA CELU CON VENTOSA PARA AUTO 2112-F',\n",
       "       'SOPORTE PARA CELU CON VENTOSA PARA AUTO 2113-F',\n",
       "       'SOPORTE PARA CELULAR CON VENTOSA Y GANCHO PARA AUTO 2123-F',\n",
       "       'SOPORTE PARA CELULAR O GPS CON IMAN MAGNET 2305-CD',\n",
       "       'SOPORTE UNIVERSAL PARA AUTO 2112-D',\n",
       "       'Soporte Base Vertical Stand Para Playstation 4 Ps4 KHPS4-01',\n",
       "       'Soporte Celular Moto Bici Impermeable Reforzado Tactil M3 ZX-M3',\n",
       "       'Soporte Celular Universal Para Auto c/brazo Flexible Netmak NM-HC21',\n",
       "       \"Soporte Con Brazo Movil Giratorio Para Escritorio 19' 23' 30' - ST9 - SKYWAY\",\n",
       "       'Soporte de celular c/Brazo para espejo retrovisor Netmak NM-HC24',\n",
       "       'Stencil Welsolo VS01 - ANDROID BT WIFI RF UNIVERSAL',\n",
       "       'TACTIL LG K4 K120 GRANDE', 'TACTIL SAM J2 PRIME BLACK',\n",
       "       'TACTIL TITAN JZ-1003-FPCV1 / ONTOP ATC7015 FPC / FPC-TP070039-01 KDX Negro (30 PIN)',\n",
       "       'TAPETE TERMICO- extra grande 50x35 - ss004f - Gris',\n",
       "       'TECLADO GAMER MULTIMEDIA - ONE HAND F6 TACTICAL',\n",
       "       'TECLADO MECANICO SEISA DN-K104',\n",
       "       'TECLADO NOGA MECANICO GAMER RETROILUMINADO GANON 65%',\n",
       "       'TESTER MULTIMETRO DIGITAL COMPACTO UNI-T Ut33a+ Plus',\n",
       "       'TOSTADORA ELECTRICA ATMA DISNEY TOAT39DN - Mickey Mouse',\n",
       "       'TRINO MICROSCOPIO WIFIX WF-M50XT / 50X ZOOM / CON ARO LED 144 + MANTA + BARLOW 0.7 + LENTE PROTECTOR',\n",
       "       'TRINO MICROSCOPIO kailiwei 10HT-B1 NEGRO + ADAPTADOR CAMARA + ARO LED',\n",
       "       'TV BOX (2G+16G) TX100', 'TV BOX T96D (2G+16G)',\n",
       "       'TWEEZER PINZA SUNSHINE (curva) - SK15\\xa0',\n",
       "       'TWEEZER PINZA SUNSHINE (recta) - SK11\\xa0',\n",
       "       'TWEEZER PINZA TITANIO (recta) AZUL KW-11A',\n",
       "       'Tablet Alcatel Tkee Mini New (9317G-2BOFAR1) 1/32GB',\n",
       "       'Tablet Kanji Pampa 10.1\" 16GB negra con memoria RAM 1GB',\n",
       "       'Tactil Samsung Galaxy Tab 3 Lite T113NU CAMARA FRONTAL',\n",
       "       'Tarjeta De Memoria Kingston 32gb C10 Canvas Select Con Adaptador',\n",
       "       'Teclado Inalambrico Bluetooth / Slim / Recargable Rdk-904 BLANCO',\n",
       "       'Teclado Inalambrico Redragon Horus FS K618-RGB-SP / Switch Red',\n",
       "       'Teclado Inalambrico Redragon Horus TKL K621-RGB-SP (red switch)',\n",
       "       'Teclado Mecanico Redragon Inalambrico Dragonborn K630RGB NEGRO',\n",
       "       'Teclado Mecanico Redragon Yama K550WRGB-1 QWERTY ES BLANCO LUZ RGB',\n",
       "       'Teclado Redragon Membrana K509 Dyaus',\n",
       "       'Teclado Redragon Membrana Shiva Negro spanish K512RGB-SP',\n",
       "       'Teclado Seisa Con Mouse Usb DN-D5200 Con Cable',\n",
       "       'Tester De Cable Utp Rj45 Rj11 Telefono Internet Red JS-468',\n",
       "       'Tester Digital full Noganet M-890G',\n",
       "       'Touch 3G / 0101-T 2014.02, c184104a1-fpc738dr, C7000185FPVB, c700247fpva, CTD FM707101KC, CTP070083,',\n",
       "       'Touch Alcatel 8067 / TCL LT7 M / wj1901-fpc v5.0',\n",
       "       'Touch C145254K1-DRFPC391T-V2.0 / MF-817-101F-3 FPC / 1696.11(W109R)',\n",
       "       'Touch Samsung Tab 3 SM-T111 (solo BLANCO) RANURA AURICULAR',\n",
       "       'Turbina Cooler 12 cm con 15 Leds Rgb Netmak NM-12RGB SDC',\n",
       "       'VIDRIO TEMPLADO SAMSUNG  NOTE',\n",
       "       'Webcam 720P HD C/Microfono y Tripode Netmak NM-WEB02',\n",
       "       'Xiaomi Mi Tv Stick 4k Ram 2gb 8gb Android Tv',\n",
       "       'Zapatilla Binorma 5 Bocas cable 1.5 Mtrs c/llave  Sybyd  301/7 - 302/7',\n",
       "       'kit Cepillos de limpieza 9 Unidades',\n",
       "       'ADAPTADOR HDMI MACHO A HEMBRA 90 GRADOS DX-HDMITL',\n",
       "       'AURICULARES BT 5.0 SUONO ESTUCHE DE CARGA',\n",
       "       'AURICULARES NOGA TWINS BT ROJO NG-BTWINS 24',\n",
       "       'Antena Tda 4k 5.0 Dbi Con Cable De 5 Mts Interior Y Exterior SG-3003',\n",
       "       'CONSOLA G7 GAME BOX 3.5 PLG CON JOYSTICK',\n",
       "       'CONVERTIDOR TV STICK 2GB 16GB ANDROID 10 SYSTEM 4K EC100307',\n",
       "       'Conversor Hdmi A Rca Audio Y Video AV 1080p HDMI2AV',\n",
       "       'Malla Cuero Imantada Apple Watch 42 44 45 49 Negro',\n",
       "       'XMI GAME BOX EMULADOR  10MIL JUEGOS 64GB + ANDROID + TV BOX',\n",
       "       'Xiaomi Mi Band 6 Smartwatch Reloj Inteligente Versión Global',\n",
       "       'Pendrive Kingston DataTraveler SE9 DTSE9H 32GB 2.0 plateado',\n",
       "       'nan'], dtype=object)"
      ]
     },
     "execution_count": 306,
     "metadata": {},
     "output_type": "execute_result"
    }
   ],
   "execution_count": 306
  },
  {
   "metadata": {
    "ExecuteTime": {
     "end_time": "2024-12-27T16:04:49.312734Z",
     "start_time": "2024-12-27T16:04:49.269057Z"
    }
   },
   "cell_type": "code",
   "source": [
    "#ver valores con la cadena 'teclado' en su nombre\n",
    "df[df['Nombre del Producto'].str.contains('teclado', case=False)]['Nombre del Producto'].unique()"
   ],
   "id": "8fac26d1394c34a2",
   "outputs": [
    {
     "data": {
      "text/plain": [
       "array(['KIT COMBO TECLADO Y MOUSE INALMBRICO 2.4G SLIM BLANCO DN-H263',\n",
       "       'KIT MOUSE Y TECLADO INALAMBRICO EZRA KB03',\n",
       "       'KIT TECLADO Y MOUSE 2,4G INALAMBRICO ULTRA DELGADO NEGRO K-06',\n",
       "       'Teclado Y Mouse Inalambrico Bluetooth - Slim - Recargable Rdkm-906 ROSA',\n",
       "       'TECLADO CABLE NOGA NKB-78011',\n",
       "       'TECLADO MULTIMEDIA CABLE NOGA NKB-410',\n",
       "       'TECLADO RETROILUMINADO SLIM DN-DY02 TECLAS REDONDAS',\n",
       "       'Teclado Inalambrico Bluetooth / Slim / Recargable Rdk-902',\n",
       "       'Teclado Y Mouse Inalambrico Bluetooth - Slim / Recargable Rdkm-906 NEGRO',\n",
       "       'Kit de Teclado y Mouse inalambrico Logitech MK220 920-004430',\n",
       "       'KIT INALAMBRICO TECLADO + MOUSE S5600 CELESTE / VERDE',\n",
       "       'TECLADO CABLE USB DINAX DXTECH643',\n",
       "       'TECLADO Y MOUSE GAMER RETROILUMINADO STOMER NKB-570',\n",
       "       'Teclado Bluetooth Mini Ultra Delgado Metalico BK3001',\n",
       "       'Teclado Inalambrico Bluetooth / Slim / Recargable Rdk-904 Rdk-904 NEGRO',\n",
       "       'Conversor Gamer Para Teclado Y Mouse A Celular Bluetooth Mix Pro',\n",
       "       'KIT MOUSE Y TECLADO INALAMBRICO DINAX DX-2BTCOMB',\n",
       "       'Kit de Teclado y Mouse inalambrico Logitech MK270 920-004432',\n",
       "       'Kit de Teclado y Mouse inalambrico Logitech MK345 920-007820',\n",
       "       'Mini Teclado Numerico Multimedia USB Netmak NM-KB250',\n",
       "       'Mini Teclado Only Smart Tv Bluetooth Retroiluminado Pilas MOD MK01',\n",
       "       'TECLADO GAMER MULTIMEDIA - ONE HAND F6 TACTICAL',\n",
       "       'TECLADO MECANICO SEISA DN-K104',\n",
       "       'TECLADO NOGA MECANICO GAMER RETROILUMINADO GANON 65%',\n",
       "       'Teclado Inalambrico Bluetooth / Slim / Recargable Rdk-904 BLANCO',\n",
       "       'Teclado Inalambrico Redragon Horus FS K618-RGB-SP / Switch Red',\n",
       "       'Teclado Inalambrico Redragon Horus TKL K621-RGB-SP (red switch)',\n",
       "       'Teclado Mecanico Redragon Inalambrico Dragonborn K630RGB NEGRO',\n",
       "       'Teclado Mecanico Redragon Yama K550WRGB-1 QWERTY ES BLANCO LUZ RGB',\n",
       "       'Teclado Redragon Membrana K509 Dyaus',\n",
       "       'Teclado Redragon Membrana Shiva Negro spanish K512RGB-SP',\n",
       "       'Teclado Seisa Con Mouse Usb DN-D5200 Con Cable'], dtype=object)"
      ]
     },
     "execution_count": 307,
     "metadata": {},
     "output_type": "execute_result"
    }
   ],
   "execution_count": 307
  },
  {
   "metadata": {
    "ExecuteTime": {
     "end_time": "2024-12-27T16:04:49.471291Z",
     "start_time": "2024-12-27T16:04:49.458273Z"
    }
   },
   "cell_type": "code",
   "source": [
    "#agregar en la columna 'Categoria'  la cadena 'Teclado' en cada fila si los valores  de la columna 'Nombre de Producto' tienen la cadena 'Teclado' en su nombre y si no tienen las siguientes cadenas: Mouse, Kit, Conversor\n",
    "df['Categoria'] = np.where(df['Nombre del Producto'].str.contains('teclado', case=False) & ~df['Nombre del Producto'].str.contains('Mouse|Kit|Conversor', case=False), 'Teclado', df['Categoria'])"
   ],
   "id": "ef3f614e71466fa9",
   "outputs": [],
   "execution_count": 308
  },
  {
   "metadata": {
    "ExecuteTime": {
     "end_time": "2024-12-27T16:04:49.686591Z",
     "start_time": "2024-12-27T16:04:49.578467Z"
    }
   },
   "cell_type": "code",
   "source": "df",
   "id": "96a5e62c550e68ff",
   "outputs": [
    {
     "data": {
      "text/plain": [
       "       Código                                Nombre del Producto  Cantidad  \\\n",
       "0     R124132  VIDRIO GLASS SAMSUNG  A02S / A03 / A03 CORE / ...      90.0   \n",
       "1      PI3017                       Pilas Boton 3 V Philco 2032       70.0   \n",
       "2       D1014  CABLE USB ONLY MOD48 / V8 / 3,1A BLANCO Y NEGR...      55.0   \n",
       "3          C6  Pin Carga Sam J7 pro / J7 prime / J5 prime / J...      54.0   \n",
       "4       SE966            SERVICIO TECNICO REVISION Y PRESUPUESTO      54.0   \n",
       "...       ...                                                ...       ...   \n",
       "1550  RC76393  BATERIA SAM A14 / A52 / S20 FE / A52S 100% Ori...      -1.0   \n",
       "1551   PE8818  Pendrive Kingston DataTraveler SE9 DTSE9H 32GB...      -2.0   \n",
       "1552      NaN                                                nan       NaN   \n",
       "1553      NaN                                                nan       NaN   \n",
       "1554      NaN                                                nan    6294.0   \n",
       "\n",
       "      Costo total      Ganancia  Ganancia prom. %   Venta total  \\\n",
       "0          120.80  3.569538e+05      2.955130e+05  3.571000e+05   \n",
       "1           32.20  7.391105e+04      2.295580e+05  7.395001e+04   \n",
       "2           35.29  1.551573e+05      4.396850e+05  1.552000e+05   \n",
       "3            1.17  1.382985e+05      1.214090e+12  1.420500e+05   \n",
       "4           12.42  6.536850e+05      5.263190e+11  6.537000e+05   \n",
       "...           ...           ...               ...           ...   \n",
       "1550        -8.16 -2.699012e+04               NaN -2.700000e+04   \n",
       "1551       -10.05 -1.598784e+04               NaN -1.600000e+04   \n",
       "1552          NaN           NaN               NaN           NaN   \n",
       "1553          NaN           NaN               NaN           NaN   \n",
       "1554    166296.86  1.294925e+08               NaN  1.308388e+08   \n",
       "\n",
       "                                              Categoria  \n",
       "0                                          Vidrio Glass  \n",
       "1                          Pilas Boton 3 V Philco 2032   \n",
       "2                                                 Cable  \n",
       "3                                             Pin Carga  \n",
       "4                                      Servicio Tecnico  \n",
       "...                                                 ...  \n",
       "1550                                            Bateria  \n",
       "1551  Pendrive Kingston DataTraveler SE9 DTSE9H 32GB...  \n",
       "1552                                                nan  \n",
       "1553                                                nan  \n",
       "1554                                                nan  \n",
       "\n",
       "[1555 rows x 8 columns]"
      ],
      "text/html": [
       "<div>\n",
       "<style scoped>\n",
       "    .dataframe tbody tr th:only-of-type {\n",
       "        vertical-align: middle;\n",
       "    }\n",
       "\n",
       "    .dataframe tbody tr th {\n",
       "        vertical-align: top;\n",
       "    }\n",
       "\n",
       "    .dataframe thead th {\n",
       "        text-align: right;\n",
       "    }\n",
       "</style>\n",
       "<table border=\"1\" class=\"dataframe\">\n",
       "  <thead>\n",
       "    <tr style=\"text-align: right;\">\n",
       "      <th></th>\n",
       "      <th>Código</th>\n",
       "      <th>Nombre del Producto</th>\n",
       "      <th>Cantidad</th>\n",
       "      <th>Costo total</th>\n",
       "      <th>Ganancia</th>\n",
       "      <th>Ganancia prom. %</th>\n",
       "      <th>Venta total</th>\n",
       "      <th>Categoria</th>\n",
       "    </tr>\n",
       "  </thead>\n",
       "  <tbody>\n",
       "    <tr>\n",
       "      <th>0</th>\n",
       "      <td>R124132</td>\n",
       "      <td>VIDRIO GLASS SAMSUNG  A02S / A03 / A03 CORE / ...</td>\n",
       "      <td>90.0</td>\n",
       "      <td>120.80</td>\n",
       "      <td>3.569538e+05</td>\n",
       "      <td>2.955130e+05</td>\n",
       "      <td>3.571000e+05</td>\n",
       "      <td>Vidrio Glass</td>\n",
       "    </tr>\n",
       "    <tr>\n",
       "      <th>1</th>\n",
       "      <td>PI3017</td>\n",
       "      <td>Pilas Boton 3 V Philco 2032</td>\n",
       "      <td>70.0</td>\n",
       "      <td>32.20</td>\n",
       "      <td>7.391105e+04</td>\n",
       "      <td>2.295580e+05</td>\n",
       "      <td>7.395001e+04</td>\n",
       "      <td>Pilas Boton 3 V Philco 2032</td>\n",
       "    </tr>\n",
       "    <tr>\n",
       "      <th>2</th>\n",
       "      <td>D1014</td>\n",
       "      <td>CABLE USB ONLY MOD48 / V8 / 3,1A BLANCO Y NEGR...</td>\n",
       "      <td>55.0</td>\n",
       "      <td>35.29</td>\n",
       "      <td>1.551573e+05</td>\n",
       "      <td>4.396850e+05</td>\n",
       "      <td>1.552000e+05</td>\n",
       "      <td>Cable</td>\n",
       "    </tr>\n",
       "    <tr>\n",
       "      <th>3</th>\n",
       "      <td>C6</td>\n",
       "      <td>Pin Carga Sam J7 pro / J7 prime / J5 prime / J...</td>\n",
       "      <td>54.0</td>\n",
       "      <td>1.17</td>\n",
       "      <td>1.382985e+05</td>\n",
       "      <td>1.214090e+12</td>\n",
       "      <td>1.420500e+05</td>\n",
       "      <td>Pin Carga</td>\n",
       "    </tr>\n",
       "    <tr>\n",
       "      <th>4</th>\n",
       "      <td>SE966</td>\n",
       "      <td>SERVICIO TECNICO REVISION Y PRESUPUESTO</td>\n",
       "      <td>54.0</td>\n",
       "      <td>12.42</td>\n",
       "      <td>6.536850e+05</td>\n",
       "      <td>5.263190e+11</td>\n",
       "      <td>6.537000e+05</td>\n",
       "      <td>Servicio Tecnico</td>\n",
       "    </tr>\n",
       "    <tr>\n",
       "      <th>...</th>\n",
       "      <td>...</td>\n",
       "      <td>...</td>\n",
       "      <td>...</td>\n",
       "      <td>...</td>\n",
       "      <td>...</td>\n",
       "      <td>...</td>\n",
       "      <td>...</td>\n",
       "      <td>...</td>\n",
       "    </tr>\n",
       "    <tr>\n",
       "      <th>1550</th>\n",
       "      <td>RC76393</td>\n",
       "      <td>BATERIA SAM A14 / A52 / S20 FE / A52S 100% Ori...</td>\n",
       "      <td>-1.0</td>\n",
       "      <td>-8.16</td>\n",
       "      <td>-2.699012e+04</td>\n",
       "      <td>NaN</td>\n",
       "      <td>-2.700000e+04</td>\n",
       "      <td>Bateria</td>\n",
       "    </tr>\n",
       "    <tr>\n",
       "      <th>1551</th>\n",
       "      <td>PE8818</td>\n",
       "      <td>Pendrive Kingston DataTraveler SE9 DTSE9H 32GB...</td>\n",
       "      <td>-2.0</td>\n",
       "      <td>-10.05</td>\n",
       "      <td>-1.598784e+04</td>\n",
       "      <td>NaN</td>\n",
       "      <td>-1.600000e+04</td>\n",
       "      <td>Pendrive Kingston DataTraveler SE9 DTSE9H 32GB...</td>\n",
       "    </tr>\n",
       "    <tr>\n",
       "      <th>1552</th>\n",
       "      <td>NaN</td>\n",
       "      <td>nan</td>\n",
       "      <td>NaN</td>\n",
       "      <td>NaN</td>\n",
       "      <td>NaN</td>\n",
       "      <td>NaN</td>\n",
       "      <td>NaN</td>\n",
       "      <td>nan</td>\n",
       "    </tr>\n",
       "    <tr>\n",
       "      <th>1553</th>\n",
       "      <td>NaN</td>\n",
       "      <td>nan</td>\n",
       "      <td>NaN</td>\n",
       "      <td>NaN</td>\n",
       "      <td>NaN</td>\n",
       "      <td>NaN</td>\n",
       "      <td>NaN</td>\n",
       "      <td>nan</td>\n",
       "    </tr>\n",
       "    <tr>\n",
       "      <th>1554</th>\n",
       "      <td>NaN</td>\n",
       "      <td>nan</td>\n",
       "      <td>6294.0</td>\n",
       "      <td>166296.86</td>\n",
       "      <td>1.294925e+08</td>\n",
       "      <td>NaN</td>\n",
       "      <td>1.308388e+08</td>\n",
       "      <td>nan</td>\n",
       "    </tr>\n",
       "  </tbody>\n",
       "</table>\n",
       "<p>1555 rows × 8 columns</p>\n",
       "</div>"
      ]
     },
     "execution_count": 309,
     "metadata": {},
     "output_type": "execute_result"
    }
   ],
   "execution_count": 309
  },
  {
   "metadata": {
    "ExecuteTime": {
     "end_time": "2024-12-27T16:04:49.831230Z",
     "start_time": "2024-12-27T16:04:49.778817Z"
    }
   },
   "cell_type": "code",
   "source": [
    "# ver nombre de productos con la cadena cargador en su nombre\n",
    "df[df['Nombre del Producto'].str.contains('cargador', case=False)]['Nombre del Producto'].unique()"
   ],
   "id": "cbbd298640b0bd50",
   "outputs": [
    {
     "data": {
      "text/plain": [
       "array(['CARGADOR RAPIDO SEND TURBO- S01- 3.1A USB A TIPO C / 5v 3.1A / 9v 1.8A / 12v 1.5A ',\n",
       "       'Cargador De Notebook Universal Only 8 PINES 112403001',\n",
       "       'CARGADOR 220V ONLY 05031A / 1 USB / CABLE V8 / 4,4A',\n",
       "       'Cargador Universal De Notebook 12 Adaptadores 12-24V Malibu MY 120W',\n",
       "       'CABEZAL CARGADOR 220V XAEA OPTIMUM 5A 45w (USB C+ USB A)',\n",
       "       'CARGADOR 220V XAEA 27W/ 1 USB / CABLE / NEGRO QC 3,0',\n",
       "       'CARGADOR RAPIDO TURBO SEND S02- 4.8 A/ TIPO C',\n",
       "       'Cargador Cabezal Malibu Tipo C 30w PD769 Carga Turbo',\n",
       "       'CARGADOR 220V ONLY MOD06 / 1 USB / CABLE TIPO C 4,4A',\n",
       "       'CARGADOR RAPIDO SEND S02 IPHONE',\n",
       "       'CARGADOR RAPIDO SEND S01 3.1A MICRO USB V8 5v 3.1A / 9v 1.8A / 12v 1.5A Tecnologia Qualcomm',\n",
       "       'Cargador Reloj Xiaomi Mi Band 5 / 6 / 7',\n",
       "       'ACTIVADOR Y CARGADOR DE BATERIA ER-BA19',\n",
       "       'CARGADOR RAPIDO SEND TURBO - S01-  3.1A TIPO C / 5v 3.1A / 9v 1.8A / 12v 1.5A ',\n",
       "       'Cargador De Netbook GOBIERNO 12V 2A /G7 G8 G9 Noblex Exo Bangho',\n",
       "       'CARGADOR 220V ONLY 05031A / 2 USB / 1 CABLE V8 4,4A Negro ',\n",
       "       'CARGADOR 220V ONLY MOD02 2 USB + CABLE TIPO C BLANCO 05031J',\n",
       "       'CARGADOR CABEZAL SEND S01+ UN PUERTO USB 5v 3.1A / 9v 1.8A / 12v 1.5A Tecnologia Qualcomm',\n",
       "       'CARGADOR DE NOTEBOOK UNIVERSAL AUTOMATICO 90W ONLY 8 PINES 116300495',\n",
       "       'CARGADOR AUTO KOSMO 2 PUERTOS USB MOD 5,5CAR',\n",
       "       'CARGADOR DE PILAS USB DINAX / DX-CARBATE',\n",
       "       'CARGADOR SAM 25W CON USB C A C CARGA SUPER RAPIDA 5A NB-0009',\n",
       "       'Cargador De Pila USB X4 Aaa Aa Dx-0604u DELEEX',\n",
       "       'CARGADOR DE AUTO SKYWAY 2 SALIDAS / USB C PD + QC3.0 / 38W GM6071',\n",
       "       'Cargador Motorola 50W doble puerto con cable C a C EN CAJA ',\n",
       "       'Cargador Portable Power Bank 20000 MAH T-D05 TRANYCO',\n",
       "       'Cargador V8 Micro Malibu RT-714A Smart Fast 3.1a + Usb',\n",
       "       'CARGADOR MOTO CON CABLE TIPO C A TIPO C 30W TURBO ca612',\n",
       "       'CARGADOR RAPIDO SEND S01 3.1A TYPE C TO IPHONE BLANCO / 5v 3.1A / 9v 1.8A / 12v 1.5A Tecnologia Qualcomm',\n",
       "       'Cable Usb Tipo C a Lightning Cargador Apple iPhone Ipad 1M MQGJ2ZM/A',\n",
       "       'Cargador Portable Power Bank 10000 MAH T-D06 TRANYCO',\n",
       "       'Cargador Portable Power Bank SEND TURBO 12000mAh TMP-P12NW  + CARGA INALAMBRICA / NEGRO',\n",
       "       'Cargador USB Reloj SAM FIT 2',\n",
       "       'PARLANTE VELADOR BLUETOOTH CARGADOR INALAMBRICO LUCES LED BT-3401\\xa0',\n",
       "       'CARGADOR 220V TRAVEL ADAPTER Ver2 SUPER RAPIDA SAMSUNG USB C A C',\n",
       "       'CARGADOR AUTO INALAMBRICO 10W / 7,5W CON SENSOR SKY CARWIR            ',\n",
       "       'CARGADOR AUTO TURBO SEND CARGA RAPIDA  USB TIPO C SMART CHARGER',\n",
       "       'CARGADOR CABEZAL ADAPTADOR PUERTO USB + TYPE C 6.1A 5.8A IBEK IB-611PD20W QC 3.0 A+C',\n",
       "       'CARGADOR CABEZAL SAMSUNG 25W SUPER RAPIDA USB C A C',\n",
       "       'CARGADOR CABEZAL SAMSUNG 65W SUPER RAPIDA / SALIDA 1 USB / 2 TIPO C',\n",
       "       'CARGADOR CABEZAL SAMSUNG TURBO',\n",
       "       'CARGADOR DE BATERIAS Sunshine ss909 v6.0',\n",
       "       'CARGADOR DE PARED LDNIO 65W DOS SALIDAS USB A Y TIPO C / A2620C QC3 ',\n",
       "       'CARGADOR IBEK TYPE C 5.8A 1 PUERTO USB Y PUERTO TYPE C IB-5808 PD+QC3.3',\n",
       "       'CARGADOR MOTOROLA 50W PD & QC 3.0 TYPE C A TYPE C X50',\n",
       "       'CARGADOR MOTOROLA ORIGINAL 68W CON CABLE C A C CAJA',\n",
       "       'CARGADOR PORTATIL POWER BANK IBEK 10000 mAh 22.5W PD-188',\n",
       "       'CARGADOR RAPIDO SEND S01 3.1A TYPE C TO IPHONE NEGRO / 5v 3.1A / 9v 1.8A / 12v 1.5A Tecnologia Qualcomm',\n",
       "       'CARGADOR TYPE C A TYPE C IBEK PD45W 1 PUERTO TYPE C IB-620',\n",
       "       'CARGADOR UNIVERSAL SAPITO LCD CON USB KOSMO KS 016C',\n",
       "       'CARGADOR UNIVERSAL SEISA PARA NOTEBOOK AUTOMATICO 40W DN-A400',\n",
       "       'CARGADOR V8 MICRO USB IBEK 3.1A 2 PUERTO USB IB-3021',\n",
       "       'Cargador Inalambrico Celulares 10W Noganet NG-Q03',\n",
       "       'Cargador Lenovo Para Notebook / Laptop 20v 3.25a Pin 4.0*1.7MM',\n",
       "       'Cargador Portable Power Bank 10000 MAH TY-F16 TRANYCO',\n",
       "       'Cargador Portable Power Bank 5A 20000 MAH T-K02 TRANYCO',\n",
       "       'Cargador Samsung Ultra Rapido Original 25W Cable Tipo C A C PD ADAPTER',\n",
       "       'Fuente De Poder 3/4.5/6/7.5/9/12 Voltios 6 Puntas Cargador Multiple 30w MULTI-ROLE cm053',\n",
       "       'MULTICARGADOR ICHARGE 8 PRO 100W - MECHANIC',\n",
       "       'MULTICARGADOR ICHARGE 8S 40W 8 PUERTOS - MECHANIC',\n",
       "       'Multicargador 6 Puertos Usb 3.0 RELIFE rl-304p',\n",
       "       'SOPORTE DE CARGADOR PARA PS5 JOYSTICK SND-463'], dtype=object)"
      ]
     },
     "execution_count": 310,
     "metadata": {},
     "output_type": "execute_result"
    }
   ],
   "execution_count": 310
  },
  {
   "metadata": {
    "ExecuteTime": {
     "end_time": "2024-12-27T16:04:50.108533Z",
     "start_time": "2024-12-27T16:04:50.094069Z"
    }
   },
   "cell_type": "code",
   "source": [
    "#agregar en la columna 'Categoria'  la cadena 'Cargador' en cada fila si los valores  de la columna 'Nombre de Producto' tienen la cadena 'Cargador' en su nombre y si no tienen las siguientes cadenas: CABEZAL, ACTIVADOR, Cable, PARLANTE, Fuente y SOPORTE\n",
    "df['Categoria'] = np.where(df['Nombre del Producto'].str.contains('cargador', case=False) & ~df['Nombre del Producto'].str.contains('ACTIVADOR|PARLANTE|Fuente|SOPORTE', case=False), 'Cargador', df['Categoria'])"
   ],
   "id": "ceaa7123003755ff",
   "outputs": [],
   "execution_count": 311
  },
  {
   "metadata": {
    "ExecuteTime": {
     "end_time": "2024-12-27T16:04:50.352619Z",
     "start_time": "2024-12-27T16:04:50.334195Z"
    }
   },
   "cell_type": "code",
   "source": "df",
   "id": "aeafc7052a3b6019",
   "outputs": [
    {
     "data": {
      "text/plain": [
       "       Código                                Nombre del Producto  Cantidad  \\\n",
       "0     R124132  VIDRIO GLASS SAMSUNG  A02S / A03 / A03 CORE / ...      90.0   \n",
       "1      PI3017                       Pilas Boton 3 V Philco 2032       70.0   \n",
       "2       D1014  CABLE USB ONLY MOD48 / V8 / 3,1A BLANCO Y NEGR...      55.0   \n",
       "3          C6  Pin Carga Sam J7 pro / J7 prime / J5 prime / J...      54.0   \n",
       "4       SE966            SERVICIO TECNICO REVISION Y PRESUPUESTO      54.0   \n",
       "...       ...                                                ...       ...   \n",
       "1550  RC76393  BATERIA SAM A14 / A52 / S20 FE / A52S 100% Ori...      -1.0   \n",
       "1551   PE8818  Pendrive Kingston DataTraveler SE9 DTSE9H 32GB...      -2.0   \n",
       "1552      NaN                                                nan       NaN   \n",
       "1553      NaN                                                nan       NaN   \n",
       "1554      NaN                                                nan    6294.0   \n",
       "\n",
       "      Costo total      Ganancia  Ganancia prom. %   Venta total  \\\n",
       "0          120.80  3.569538e+05      2.955130e+05  3.571000e+05   \n",
       "1           32.20  7.391105e+04      2.295580e+05  7.395001e+04   \n",
       "2           35.29  1.551573e+05      4.396850e+05  1.552000e+05   \n",
       "3            1.17  1.382985e+05      1.214090e+12  1.420500e+05   \n",
       "4           12.42  6.536850e+05      5.263190e+11  6.537000e+05   \n",
       "...           ...           ...               ...           ...   \n",
       "1550        -8.16 -2.699012e+04               NaN -2.700000e+04   \n",
       "1551       -10.05 -1.598784e+04               NaN -1.600000e+04   \n",
       "1552          NaN           NaN               NaN           NaN   \n",
       "1553          NaN           NaN               NaN           NaN   \n",
       "1554    166296.86  1.294925e+08               NaN  1.308388e+08   \n",
       "\n",
       "                                              Categoria  \n",
       "0                                          Vidrio Glass  \n",
       "1                          Pilas Boton 3 V Philco 2032   \n",
       "2                                                 Cable  \n",
       "3                                             Pin Carga  \n",
       "4                                      Servicio Tecnico  \n",
       "...                                                 ...  \n",
       "1550                                            Bateria  \n",
       "1551  Pendrive Kingston DataTraveler SE9 DTSE9H 32GB...  \n",
       "1552                                                nan  \n",
       "1553                                                nan  \n",
       "1554                                                nan  \n",
       "\n",
       "[1555 rows x 8 columns]"
      ],
      "text/html": [
       "<div>\n",
       "<style scoped>\n",
       "    .dataframe tbody tr th:only-of-type {\n",
       "        vertical-align: middle;\n",
       "    }\n",
       "\n",
       "    .dataframe tbody tr th {\n",
       "        vertical-align: top;\n",
       "    }\n",
       "\n",
       "    .dataframe thead th {\n",
       "        text-align: right;\n",
       "    }\n",
       "</style>\n",
       "<table border=\"1\" class=\"dataframe\">\n",
       "  <thead>\n",
       "    <tr style=\"text-align: right;\">\n",
       "      <th></th>\n",
       "      <th>Código</th>\n",
       "      <th>Nombre del Producto</th>\n",
       "      <th>Cantidad</th>\n",
       "      <th>Costo total</th>\n",
       "      <th>Ganancia</th>\n",
       "      <th>Ganancia prom. %</th>\n",
       "      <th>Venta total</th>\n",
       "      <th>Categoria</th>\n",
       "    </tr>\n",
       "  </thead>\n",
       "  <tbody>\n",
       "    <tr>\n",
       "      <th>0</th>\n",
       "      <td>R124132</td>\n",
       "      <td>VIDRIO GLASS SAMSUNG  A02S / A03 / A03 CORE / ...</td>\n",
       "      <td>90.0</td>\n",
       "      <td>120.80</td>\n",
       "      <td>3.569538e+05</td>\n",
       "      <td>2.955130e+05</td>\n",
       "      <td>3.571000e+05</td>\n",
       "      <td>Vidrio Glass</td>\n",
       "    </tr>\n",
       "    <tr>\n",
       "      <th>1</th>\n",
       "      <td>PI3017</td>\n",
       "      <td>Pilas Boton 3 V Philco 2032</td>\n",
       "      <td>70.0</td>\n",
       "      <td>32.20</td>\n",
       "      <td>7.391105e+04</td>\n",
       "      <td>2.295580e+05</td>\n",
       "      <td>7.395001e+04</td>\n",
       "      <td>Pilas Boton 3 V Philco 2032</td>\n",
       "    </tr>\n",
       "    <tr>\n",
       "      <th>2</th>\n",
       "      <td>D1014</td>\n",
       "      <td>CABLE USB ONLY MOD48 / V8 / 3,1A BLANCO Y NEGR...</td>\n",
       "      <td>55.0</td>\n",
       "      <td>35.29</td>\n",
       "      <td>1.551573e+05</td>\n",
       "      <td>4.396850e+05</td>\n",
       "      <td>1.552000e+05</td>\n",
       "      <td>Cable</td>\n",
       "    </tr>\n",
       "    <tr>\n",
       "      <th>3</th>\n",
       "      <td>C6</td>\n",
       "      <td>Pin Carga Sam J7 pro / J7 prime / J5 prime / J...</td>\n",
       "      <td>54.0</td>\n",
       "      <td>1.17</td>\n",
       "      <td>1.382985e+05</td>\n",
       "      <td>1.214090e+12</td>\n",
       "      <td>1.420500e+05</td>\n",
       "      <td>Pin Carga</td>\n",
       "    </tr>\n",
       "    <tr>\n",
       "      <th>4</th>\n",
       "      <td>SE966</td>\n",
       "      <td>SERVICIO TECNICO REVISION Y PRESUPUESTO</td>\n",
       "      <td>54.0</td>\n",
       "      <td>12.42</td>\n",
       "      <td>6.536850e+05</td>\n",
       "      <td>5.263190e+11</td>\n",
       "      <td>6.537000e+05</td>\n",
       "      <td>Servicio Tecnico</td>\n",
       "    </tr>\n",
       "    <tr>\n",
       "      <th>...</th>\n",
       "      <td>...</td>\n",
       "      <td>...</td>\n",
       "      <td>...</td>\n",
       "      <td>...</td>\n",
       "      <td>...</td>\n",
       "      <td>...</td>\n",
       "      <td>...</td>\n",
       "      <td>...</td>\n",
       "    </tr>\n",
       "    <tr>\n",
       "      <th>1550</th>\n",
       "      <td>RC76393</td>\n",
       "      <td>BATERIA SAM A14 / A52 / S20 FE / A52S 100% Ori...</td>\n",
       "      <td>-1.0</td>\n",
       "      <td>-8.16</td>\n",
       "      <td>-2.699012e+04</td>\n",
       "      <td>NaN</td>\n",
       "      <td>-2.700000e+04</td>\n",
       "      <td>Bateria</td>\n",
       "    </tr>\n",
       "    <tr>\n",
       "      <th>1551</th>\n",
       "      <td>PE8818</td>\n",
       "      <td>Pendrive Kingston DataTraveler SE9 DTSE9H 32GB...</td>\n",
       "      <td>-2.0</td>\n",
       "      <td>-10.05</td>\n",
       "      <td>-1.598784e+04</td>\n",
       "      <td>NaN</td>\n",
       "      <td>-1.600000e+04</td>\n",
       "      <td>Pendrive Kingston DataTraveler SE9 DTSE9H 32GB...</td>\n",
       "    </tr>\n",
       "    <tr>\n",
       "      <th>1552</th>\n",
       "      <td>NaN</td>\n",
       "      <td>nan</td>\n",
       "      <td>NaN</td>\n",
       "      <td>NaN</td>\n",
       "      <td>NaN</td>\n",
       "      <td>NaN</td>\n",
       "      <td>NaN</td>\n",
       "      <td>nan</td>\n",
       "    </tr>\n",
       "    <tr>\n",
       "      <th>1553</th>\n",
       "      <td>NaN</td>\n",
       "      <td>nan</td>\n",
       "      <td>NaN</td>\n",
       "      <td>NaN</td>\n",
       "      <td>NaN</td>\n",
       "      <td>NaN</td>\n",
       "      <td>NaN</td>\n",
       "      <td>nan</td>\n",
       "    </tr>\n",
       "    <tr>\n",
       "      <th>1554</th>\n",
       "      <td>NaN</td>\n",
       "      <td>nan</td>\n",
       "      <td>6294.0</td>\n",
       "      <td>166296.86</td>\n",
       "      <td>1.294925e+08</td>\n",
       "      <td>NaN</td>\n",
       "      <td>1.308388e+08</td>\n",
       "      <td>nan</td>\n",
       "    </tr>\n",
       "  </tbody>\n",
       "</table>\n",
       "<p>1555 rows × 8 columns</p>\n",
       "</div>"
      ]
     },
     "execution_count": 312,
     "metadata": {},
     "output_type": "execute_result"
    }
   ],
   "execution_count": 312
  },
  {
   "metadata": {
    "ExecuteTime": {
     "end_time": "2024-12-27T16:04:50.557365Z",
     "start_time": "2024-12-27T16:04:50.542349Z"
    }
   },
   "cell_type": "code",
   "source": [
    "#ver valores con la cadena pila en la columna nombre del producto\n",
    "df[df['Nombre del Producto'].str.contains('pila', case=False)]['Nombre del Producto'].unique()"
   ],
   "id": "76f6132bbb487415",
   "outputs": [
    {
     "data": {
      "text/plain": [
       "array(['Pilas Boton 3 V Philco 2032 ',\n",
       "       'PILA AAA RECARGABLE NOGA 1300MaH Blister X 2 unidades NP-AAA1.3B',\n",
       "       'Pila Noga Recargable AA 2700 mAh NP-AAM 2.7B / Pack de 2 unidades',\n",
       "       'JOYSTICK INALAMBRICO SEISA SJ-913 COLORES PC / PS2 / PS3 / PC / X360 / ANDROID / A PILAS',\n",
       "       'Pilas Litio 3V T&E CR2025 x Unidad',\n",
       "       'CARGADOR DE PILAS USB DINAX / DX-CARBATE',\n",
       "       'Cargador De Pila USB X4 Aaa Aa Dx-0604u DELEEX',\n",
       "       'ESPEJO LED LUZ FRIA A PILA Y USB ESP-91013',\n",
       "       'Pila Noga Recargable AA 2900mAh NP-AAM 2.9B / Pack de 2 unidades',\n",
       "       'Bateria Pila Recargable 18650 2600 Mah 3.7v Con Cable',\n",
       "       'JOYSTICK INALAMBRICO 2.4G POR 2 UNIDADES EN 1 PARA PC A PILAS NJP502',\n",
       "       'Mini Teclado Only Smart Tv Bluetooth Retroiluminado Pilas MOD MK01'],\n",
       "      dtype=object)"
      ]
     },
     "execution_count": 313,
     "metadata": {},
     "output_type": "execute_result"
    }
   ],
   "execution_count": 313
  },
  {
   "metadata": {
    "ExecuteTime": {
     "end_time": "2024-12-27T16:04:50.793634Z",
     "start_time": "2024-12-27T16:04:50.776895Z"
    }
   },
   "cell_type": "code",
   "source": [
    "#agregar en la columna 'Categoria'  la cadena 'Pila' en cada fila si los valores  de la columna 'Nombre de Producto' tienen la cadena 'Pila' en su nombre y si no tienen las siguientes cadenas: JOYSTICK, CARGADOR, ESPEJO y Teclado\n",
    "df['Categoria'] = np.where(df['Nombre del Producto'].str.contains('pila', case=False) & ~df['Nombre del Producto'].str.contains('JOYSTICK|CARGADOR|ESPEJO|Teclado', case=False), 'Pila', df['Categoria'])"
   ],
   "id": "31a27cf2d476b8c0",
   "outputs": [],
   "execution_count": 314
  },
  {
   "metadata": {
    "ExecuteTime": {
     "end_time": "2024-12-27T16:04:51.132947Z",
     "start_time": "2024-12-27T16:04:51.111634Z"
    }
   },
   "cell_type": "code",
   "source": "df",
   "id": "ecaad86d7850c0dc",
   "outputs": [
    {
     "data": {
      "text/plain": [
       "       Código                                Nombre del Producto  Cantidad  \\\n",
       "0     R124132  VIDRIO GLASS SAMSUNG  A02S / A03 / A03 CORE / ...      90.0   \n",
       "1      PI3017                       Pilas Boton 3 V Philco 2032       70.0   \n",
       "2       D1014  CABLE USB ONLY MOD48 / V8 / 3,1A BLANCO Y NEGR...      55.0   \n",
       "3          C6  Pin Carga Sam J7 pro / J7 prime / J5 prime / J...      54.0   \n",
       "4       SE966            SERVICIO TECNICO REVISION Y PRESUPUESTO      54.0   \n",
       "...       ...                                                ...       ...   \n",
       "1550  RC76393  BATERIA SAM A14 / A52 / S20 FE / A52S 100% Ori...      -1.0   \n",
       "1551   PE8818  Pendrive Kingston DataTraveler SE9 DTSE9H 32GB...      -2.0   \n",
       "1552      NaN                                                nan       NaN   \n",
       "1553      NaN                                                nan       NaN   \n",
       "1554      NaN                                                nan    6294.0   \n",
       "\n",
       "      Costo total      Ganancia  Ganancia prom. %   Venta total  \\\n",
       "0          120.80  3.569538e+05      2.955130e+05  3.571000e+05   \n",
       "1           32.20  7.391105e+04      2.295580e+05  7.395001e+04   \n",
       "2           35.29  1.551573e+05      4.396850e+05  1.552000e+05   \n",
       "3            1.17  1.382985e+05      1.214090e+12  1.420500e+05   \n",
       "4           12.42  6.536850e+05      5.263190e+11  6.537000e+05   \n",
       "...           ...           ...               ...           ...   \n",
       "1550        -8.16 -2.699012e+04               NaN -2.700000e+04   \n",
       "1551       -10.05 -1.598784e+04               NaN -1.600000e+04   \n",
       "1552          NaN           NaN               NaN           NaN   \n",
       "1553          NaN           NaN               NaN           NaN   \n",
       "1554    166296.86  1.294925e+08               NaN  1.308388e+08   \n",
       "\n",
       "                                              Categoria  \n",
       "0                                          Vidrio Glass  \n",
       "1                                                  Pila  \n",
       "2                                                 Cable  \n",
       "3                                             Pin Carga  \n",
       "4                                      Servicio Tecnico  \n",
       "...                                                 ...  \n",
       "1550                                            Bateria  \n",
       "1551  Pendrive Kingston DataTraveler SE9 DTSE9H 32GB...  \n",
       "1552                                                nan  \n",
       "1553                                                nan  \n",
       "1554                                                nan  \n",
       "\n",
       "[1555 rows x 8 columns]"
      ],
      "text/html": [
       "<div>\n",
       "<style scoped>\n",
       "    .dataframe tbody tr th:only-of-type {\n",
       "        vertical-align: middle;\n",
       "    }\n",
       "\n",
       "    .dataframe tbody tr th {\n",
       "        vertical-align: top;\n",
       "    }\n",
       "\n",
       "    .dataframe thead th {\n",
       "        text-align: right;\n",
       "    }\n",
       "</style>\n",
       "<table border=\"1\" class=\"dataframe\">\n",
       "  <thead>\n",
       "    <tr style=\"text-align: right;\">\n",
       "      <th></th>\n",
       "      <th>Código</th>\n",
       "      <th>Nombre del Producto</th>\n",
       "      <th>Cantidad</th>\n",
       "      <th>Costo total</th>\n",
       "      <th>Ganancia</th>\n",
       "      <th>Ganancia prom. %</th>\n",
       "      <th>Venta total</th>\n",
       "      <th>Categoria</th>\n",
       "    </tr>\n",
       "  </thead>\n",
       "  <tbody>\n",
       "    <tr>\n",
       "      <th>0</th>\n",
       "      <td>R124132</td>\n",
       "      <td>VIDRIO GLASS SAMSUNG  A02S / A03 / A03 CORE / ...</td>\n",
       "      <td>90.0</td>\n",
       "      <td>120.80</td>\n",
       "      <td>3.569538e+05</td>\n",
       "      <td>2.955130e+05</td>\n",
       "      <td>3.571000e+05</td>\n",
       "      <td>Vidrio Glass</td>\n",
       "    </tr>\n",
       "    <tr>\n",
       "      <th>1</th>\n",
       "      <td>PI3017</td>\n",
       "      <td>Pilas Boton 3 V Philco 2032</td>\n",
       "      <td>70.0</td>\n",
       "      <td>32.20</td>\n",
       "      <td>7.391105e+04</td>\n",
       "      <td>2.295580e+05</td>\n",
       "      <td>7.395001e+04</td>\n",
       "      <td>Pila</td>\n",
       "    </tr>\n",
       "    <tr>\n",
       "      <th>2</th>\n",
       "      <td>D1014</td>\n",
       "      <td>CABLE USB ONLY MOD48 / V8 / 3,1A BLANCO Y NEGR...</td>\n",
       "      <td>55.0</td>\n",
       "      <td>35.29</td>\n",
       "      <td>1.551573e+05</td>\n",
       "      <td>4.396850e+05</td>\n",
       "      <td>1.552000e+05</td>\n",
       "      <td>Cable</td>\n",
       "    </tr>\n",
       "    <tr>\n",
       "      <th>3</th>\n",
       "      <td>C6</td>\n",
       "      <td>Pin Carga Sam J7 pro / J7 prime / J5 prime / J...</td>\n",
       "      <td>54.0</td>\n",
       "      <td>1.17</td>\n",
       "      <td>1.382985e+05</td>\n",
       "      <td>1.214090e+12</td>\n",
       "      <td>1.420500e+05</td>\n",
       "      <td>Pin Carga</td>\n",
       "    </tr>\n",
       "    <tr>\n",
       "      <th>4</th>\n",
       "      <td>SE966</td>\n",
       "      <td>SERVICIO TECNICO REVISION Y PRESUPUESTO</td>\n",
       "      <td>54.0</td>\n",
       "      <td>12.42</td>\n",
       "      <td>6.536850e+05</td>\n",
       "      <td>5.263190e+11</td>\n",
       "      <td>6.537000e+05</td>\n",
       "      <td>Servicio Tecnico</td>\n",
       "    </tr>\n",
       "    <tr>\n",
       "      <th>...</th>\n",
       "      <td>...</td>\n",
       "      <td>...</td>\n",
       "      <td>...</td>\n",
       "      <td>...</td>\n",
       "      <td>...</td>\n",
       "      <td>...</td>\n",
       "      <td>...</td>\n",
       "      <td>...</td>\n",
       "    </tr>\n",
       "    <tr>\n",
       "      <th>1550</th>\n",
       "      <td>RC76393</td>\n",
       "      <td>BATERIA SAM A14 / A52 / S20 FE / A52S 100% Ori...</td>\n",
       "      <td>-1.0</td>\n",
       "      <td>-8.16</td>\n",
       "      <td>-2.699012e+04</td>\n",
       "      <td>NaN</td>\n",
       "      <td>-2.700000e+04</td>\n",
       "      <td>Bateria</td>\n",
       "    </tr>\n",
       "    <tr>\n",
       "      <th>1551</th>\n",
       "      <td>PE8818</td>\n",
       "      <td>Pendrive Kingston DataTraveler SE9 DTSE9H 32GB...</td>\n",
       "      <td>-2.0</td>\n",
       "      <td>-10.05</td>\n",
       "      <td>-1.598784e+04</td>\n",
       "      <td>NaN</td>\n",
       "      <td>-1.600000e+04</td>\n",
       "      <td>Pendrive Kingston DataTraveler SE9 DTSE9H 32GB...</td>\n",
       "    </tr>\n",
       "    <tr>\n",
       "      <th>1552</th>\n",
       "      <td>NaN</td>\n",
       "      <td>nan</td>\n",
       "      <td>NaN</td>\n",
       "      <td>NaN</td>\n",
       "      <td>NaN</td>\n",
       "      <td>NaN</td>\n",
       "      <td>NaN</td>\n",
       "      <td>nan</td>\n",
       "    </tr>\n",
       "    <tr>\n",
       "      <th>1553</th>\n",
       "      <td>NaN</td>\n",
       "      <td>nan</td>\n",
       "      <td>NaN</td>\n",
       "      <td>NaN</td>\n",
       "      <td>NaN</td>\n",
       "      <td>NaN</td>\n",
       "      <td>NaN</td>\n",
       "      <td>nan</td>\n",
       "    </tr>\n",
       "    <tr>\n",
       "      <th>1554</th>\n",
       "      <td>NaN</td>\n",
       "      <td>nan</td>\n",
       "      <td>6294.0</td>\n",
       "      <td>166296.86</td>\n",
       "      <td>1.294925e+08</td>\n",
       "      <td>NaN</td>\n",
       "      <td>1.308388e+08</td>\n",
       "      <td>nan</td>\n",
       "    </tr>\n",
       "  </tbody>\n",
       "</table>\n",
       "<p>1555 rows × 8 columns</p>\n",
       "</div>"
      ]
     },
     "execution_count": 315,
     "metadata": {},
     "output_type": "execute_result"
    }
   ],
   "execution_count": 315
  },
  {
   "metadata": {
    "ExecuteTime": {
     "end_time": "2024-12-27T16:04:51.349847Z",
     "start_time": "2024-12-27T16:04:51.337382Z"
    }
   },
   "cell_type": "code",
   "source": [
    "#ver valores con la cadena consola en su nombre en la columna nombre del producto\n",
    "df[df['Nombre del Producto'].str.contains('consola', case=False)]['Nombre del Producto'].unique()"
   ],
   "id": "5f858c1be49406f9",
   "outputs": [
    {
     "data": {
      "text/plain": [
       "array(['Consola Retro Portatil Cotroller Gamepad 2.4g NIPPON / 64GB 20,000 JUEGOS NIPPON CAJA AZUL',\n",
       "       'Consola Retro Portatil Cotroller Gamepad 2.4g MEMORIA 64GB RS-100',\n",
       "       'Consola Arcade Multijuegos Con Luces 2 Mandos +10000 JUEGOS ST',\n",
       "       'Consola Arcade Multijuegos Separado X2 +10000 JUEGOS ST 3099',\n",
       "       'CALCO SKIN CONSOLA PS4 FAT VARIOS DIBUJOS',\n",
       "       'Consola 400 EN 1 Con JOYSTICK 400 Juegos co1084',\n",
       "       'ARCADE PLOTEADO Y LUCES MULTICONSOLA + 13000 JUEGOS',\n",
       "       'CONSOLA 8 BITS CON JOYSTICK Y 800 JUEGOS QF-G4 (g3)',\n",
       "       'CONSOLA PORTATIL POWKIDDY RGB20S / PANTALLA IPS / MEMORIA 128GB / 20000 JUEGOS',\n",
       "       'CONSOLA PVP 8BIT CRASH C/CARTUCHO LIGHT 3000 P-60',\n",
       "       'Consola Alien 16bits HDMI. Con 2 joysticks inalambricos. Excelente calidad de imagen. Podras jugar a los juegos de 16 bits en el televisor LCD o LED . La consola tiene mas de 500 juegos clasidos',\n",
       "       'Consola Nintendo Switch Gray + Lego DC Villans 64 GB',\n",
       "       'Consola Xbox Series S 512gb Blanca Fornite Rocket League + Monedas + 1 Joystick',\n",
       "       'CONSOLA G7 GAME BOX 3.5 PLG CON JOYSTICK'], dtype=object)"
      ]
     },
     "execution_count": 316,
     "metadata": {},
     "output_type": "execute_result"
    }
   ],
   "execution_count": 316
  },
  {
   "metadata": {
    "ExecuteTime": {
     "end_time": "2024-12-27T16:04:51.607955Z",
     "start_time": "2024-12-27T16:04:51.601997Z"
    }
   },
   "cell_type": "code",
   "source": [
    "#cambiar el valor  en columna 'categoria' y 'nombre del producto' donde sea igual a  'Consola Alien 16bits HDMI. Con 2 joysticks inalambricos. Excelente calidad de imagen. Podras jugar a los juegos de 16 bits en el televisor LCD o LED . La consola tiene mas de 500 juegos clasidos' a 'Consola Alien 16bits HDMI + 2 joysticks inalambricos.\n",
    "df['Categoria'] = np.where(df['Categoria'] == 'Consola Alien 16bits HDMI. Con 2 joysticks inalambricos. Excelente calidad de imagen. Podras jugar a los juegos de 16 bits en el televisor LCD o LED . La consola tiene mas de 500 juegos clasidos', 'Consola Alien 16bits HDMI + 2 joysticks inalambricos', df['Categoria'])\n",
    "df['Nombre del Producto'] = np.where(df['Nombre del Producto'] == 'Consola Alien 16bits HDMI. Con 2 joysticks inalambricos. Excelente calidad de imagen. Podras jugar a los juegos de 16 bits en el televisor LCD o LED . La consola tiene mas de 500 juegos clasidos', 'Consola Alien 16bits HDMI + 2 joysticks inalambricos', df['Nombre del Producto'])"
   ],
   "id": "129594a41cc9dd16",
   "outputs": [],
   "execution_count": 317
  },
  {
   "metadata": {
    "ExecuteTime": {
     "end_time": "2024-12-27T16:04:52.039049Z",
     "start_time": "2024-12-27T16:04:52.025321Z"
    }
   },
   "cell_type": "code",
   "source": [
    "#ver fila donde el valor de nombre producto sea igual a : 'Consola Alien 16bits HDMI + 2 joysticks inalambricos'\n",
    "df[df['Nombre del Producto'] == 'Consola Alien 16bits HDMI + 2 joysticks inalambricos']"
   ],
   "id": "54d62b0b1eb2e36a",
   "outputs": [
    {
     "data": {
      "text/plain": [
       "      Código                                Nombre del Producto  Cantidad  \\\n",
       "1100  CO6243  Consola Alien 16bits HDMI + 2 joysticks inalam...       1.0   \n",
       "\n",
       "      Costo total     Ganancia  Ganancia prom. %  Venta total  \\\n",
       "1100        34.53  53961.84435          156286.0      54000.0   \n",
       "\n",
       "                                              Categoria  \n",
       "1100  Consola Alien 16bits HDMI + 2 joysticks inalam...  "
      ],
      "text/html": [
       "<div>\n",
       "<style scoped>\n",
       "    .dataframe tbody tr th:only-of-type {\n",
       "        vertical-align: middle;\n",
       "    }\n",
       "\n",
       "    .dataframe tbody tr th {\n",
       "        vertical-align: top;\n",
       "    }\n",
       "\n",
       "    .dataframe thead th {\n",
       "        text-align: right;\n",
       "    }\n",
       "</style>\n",
       "<table border=\"1\" class=\"dataframe\">\n",
       "  <thead>\n",
       "    <tr style=\"text-align: right;\">\n",
       "      <th></th>\n",
       "      <th>Código</th>\n",
       "      <th>Nombre del Producto</th>\n",
       "      <th>Cantidad</th>\n",
       "      <th>Costo total</th>\n",
       "      <th>Ganancia</th>\n",
       "      <th>Ganancia prom. %</th>\n",
       "      <th>Venta total</th>\n",
       "      <th>Categoria</th>\n",
       "    </tr>\n",
       "  </thead>\n",
       "  <tbody>\n",
       "    <tr>\n",
       "      <th>1100</th>\n",
       "      <td>CO6243</td>\n",
       "      <td>Consola Alien 16bits HDMI + 2 joysticks inalam...</td>\n",
       "      <td>1.0</td>\n",
       "      <td>34.53</td>\n",
       "      <td>53961.84435</td>\n",
       "      <td>156286.0</td>\n",
       "      <td>54000.0</td>\n",
       "      <td>Consola Alien 16bits HDMI + 2 joysticks inalam...</td>\n",
       "    </tr>\n",
       "  </tbody>\n",
       "</table>\n",
       "</div>"
      ]
     },
     "execution_count": 318,
     "metadata": {},
     "output_type": "execute_result"
    }
   ],
   "execution_count": 318
  },
  {
   "metadata": {
    "ExecuteTime": {
     "end_time": "2024-12-27T16:04:52.274039Z",
     "start_time": "2024-12-27T16:04:52.260703Z"
    }
   },
   "cell_type": "code",
   "source": [
    "#agregar en la columna 'Categoria'  la cadena 'Consola' en cada fila si los valores  de la columna 'Nombre de Producto' tienen la cadena 'Consola' en su nombre\n",
    "df['Categoria'] = np.where(df['Nombre del Producto'].str.contains('consola', case=False), 'Consola', df['Categoria'])"
   ],
   "id": "60791b3cf732325e",
   "outputs": [],
   "execution_count": 319
  },
  {
   "metadata": {
    "ExecuteTime": {
     "end_time": "2024-12-27T16:04:52.646593Z",
     "start_time": "2024-12-27T16:04:52.625741Z"
    }
   },
   "cell_type": "code",
   "source": "df",
   "id": "a1bd7f8ecc71e142",
   "outputs": [
    {
     "data": {
      "text/plain": [
       "       Código                                Nombre del Producto  Cantidad  \\\n",
       "0     R124132  VIDRIO GLASS SAMSUNG  A02S / A03 / A03 CORE / ...      90.0   \n",
       "1      PI3017                       Pilas Boton 3 V Philco 2032       70.0   \n",
       "2       D1014  CABLE USB ONLY MOD48 / V8 / 3,1A BLANCO Y NEGR...      55.0   \n",
       "3          C6  Pin Carga Sam J7 pro / J7 prime / J5 prime / J...      54.0   \n",
       "4       SE966            SERVICIO TECNICO REVISION Y PRESUPUESTO      54.0   \n",
       "...       ...                                                ...       ...   \n",
       "1550  RC76393  BATERIA SAM A14 / A52 / S20 FE / A52S 100% Ori...      -1.0   \n",
       "1551   PE8818  Pendrive Kingston DataTraveler SE9 DTSE9H 32GB...      -2.0   \n",
       "1552      NaN                                                nan       NaN   \n",
       "1553      NaN                                                nan       NaN   \n",
       "1554      NaN                                                nan    6294.0   \n",
       "\n",
       "      Costo total      Ganancia  Ganancia prom. %   Venta total  \\\n",
       "0          120.80  3.569538e+05      2.955130e+05  3.571000e+05   \n",
       "1           32.20  7.391105e+04      2.295580e+05  7.395001e+04   \n",
       "2           35.29  1.551573e+05      4.396850e+05  1.552000e+05   \n",
       "3            1.17  1.382985e+05      1.214090e+12  1.420500e+05   \n",
       "4           12.42  6.536850e+05      5.263190e+11  6.537000e+05   \n",
       "...           ...           ...               ...           ...   \n",
       "1550        -8.16 -2.699012e+04               NaN -2.700000e+04   \n",
       "1551       -10.05 -1.598784e+04               NaN -1.600000e+04   \n",
       "1552          NaN           NaN               NaN           NaN   \n",
       "1553          NaN           NaN               NaN           NaN   \n",
       "1554    166296.86  1.294925e+08               NaN  1.308388e+08   \n",
       "\n",
       "                                              Categoria  \n",
       "0                                          Vidrio Glass  \n",
       "1                                                  Pila  \n",
       "2                                                 Cable  \n",
       "3                                             Pin Carga  \n",
       "4                                      Servicio Tecnico  \n",
       "...                                                 ...  \n",
       "1550                                            Bateria  \n",
       "1551  Pendrive Kingston DataTraveler SE9 DTSE9H 32GB...  \n",
       "1552                                                nan  \n",
       "1553                                                nan  \n",
       "1554                                                nan  \n",
       "\n",
       "[1555 rows x 8 columns]"
      ],
      "text/html": [
       "<div>\n",
       "<style scoped>\n",
       "    .dataframe tbody tr th:only-of-type {\n",
       "        vertical-align: middle;\n",
       "    }\n",
       "\n",
       "    .dataframe tbody tr th {\n",
       "        vertical-align: top;\n",
       "    }\n",
       "\n",
       "    .dataframe thead th {\n",
       "        text-align: right;\n",
       "    }\n",
       "</style>\n",
       "<table border=\"1\" class=\"dataframe\">\n",
       "  <thead>\n",
       "    <tr style=\"text-align: right;\">\n",
       "      <th></th>\n",
       "      <th>Código</th>\n",
       "      <th>Nombre del Producto</th>\n",
       "      <th>Cantidad</th>\n",
       "      <th>Costo total</th>\n",
       "      <th>Ganancia</th>\n",
       "      <th>Ganancia prom. %</th>\n",
       "      <th>Venta total</th>\n",
       "      <th>Categoria</th>\n",
       "    </tr>\n",
       "  </thead>\n",
       "  <tbody>\n",
       "    <tr>\n",
       "      <th>0</th>\n",
       "      <td>R124132</td>\n",
       "      <td>VIDRIO GLASS SAMSUNG  A02S / A03 / A03 CORE / ...</td>\n",
       "      <td>90.0</td>\n",
       "      <td>120.80</td>\n",
       "      <td>3.569538e+05</td>\n",
       "      <td>2.955130e+05</td>\n",
       "      <td>3.571000e+05</td>\n",
       "      <td>Vidrio Glass</td>\n",
       "    </tr>\n",
       "    <tr>\n",
       "      <th>1</th>\n",
       "      <td>PI3017</td>\n",
       "      <td>Pilas Boton 3 V Philco 2032</td>\n",
       "      <td>70.0</td>\n",
       "      <td>32.20</td>\n",
       "      <td>7.391105e+04</td>\n",
       "      <td>2.295580e+05</td>\n",
       "      <td>7.395001e+04</td>\n",
       "      <td>Pila</td>\n",
       "    </tr>\n",
       "    <tr>\n",
       "      <th>2</th>\n",
       "      <td>D1014</td>\n",
       "      <td>CABLE USB ONLY MOD48 / V8 / 3,1A BLANCO Y NEGR...</td>\n",
       "      <td>55.0</td>\n",
       "      <td>35.29</td>\n",
       "      <td>1.551573e+05</td>\n",
       "      <td>4.396850e+05</td>\n",
       "      <td>1.552000e+05</td>\n",
       "      <td>Cable</td>\n",
       "    </tr>\n",
       "    <tr>\n",
       "      <th>3</th>\n",
       "      <td>C6</td>\n",
       "      <td>Pin Carga Sam J7 pro / J7 prime / J5 prime / J...</td>\n",
       "      <td>54.0</td>\n",
       "      <td>1.17</td>\n",
       "      <td>1.382985e+05</td>\n",
       "      <td>1.214090e+12</td>\n",
       "      <td>1.420500e+05</td>\n",
       "      <td>Pin Carga</td>\n",
       "    </tr>\n",
       "    <tr>\n",
       "      <th>4</th>\n",
       "      <td>SE966</td>\n",
       "      <td>SERVICIO TECNICO REVISION Y PRESUPUESTO</td>\n",
       "      <td>54.0</td>\n",
       "      <td>12.42</td>\n",
       "      <td>6.536850e+05</td>\n",
       "      <td>5.263190e+11</td>\n",
       "      <td>6.537000e+05</td>\n",
       "      <td>Servicio Tecnico</td>\n",
       "    </tr>\n",
       "    <tr>\n",
       "      <th>...</th>\n",
       "      <td>...</td>\n",
       "      <td>...</td>\n",
       "      <td>...</td>\n",
       "      <td>...</td>\n",
       "      <td>...</td>\n",
       "      <td>...</td>\n",
       "      <td>...</td>\n",
       "      <td>...</td>\n",
       "    </tr>\n",
       "    <tr>\n",
       "      <th>1550</th>\n",
       "      <td>RC76393</td>\n",
       "      <td>BATERIA SAM A14 / A52 / S20 FE / A52S 100% Ori...</td>\n",
       "      <td>-1.0</td>\n",
       "      <td>-8.16</td>\n",
       "      <td>-2.699012e+04</td>\n",
       "      <td>NaN</td>\n",
       "      <td>-2.700000e+04</td>\n",
       "      <td>Bateria</td>\n",
       "    </tr>\n",
       "    <tr>\n",
       "      <th>1551</th>\n",
       "      <td>PE8818</td>\n",
       "      <td>Pendrive Kingston DataTraveler SE9 DTSE9H 32GB...</td>\n",
       "      <td>-2.0</td>\n",
       "      <td>-10.05</td>\n",
       "      <td>-1.598784e+04</td>\n",
       "      <td>NaN</td>\n",
       "      <td>-1.600000e+04</td>\n",
       "      <td>Pendrive Kingston DataTraveler SE9 DTSE9H 32GB...</td>\n",
       "    </tr>\n",
       "    <tr>\n",
       "      <th>1552</th>\n",
       "      <td>NaN</td>\n",
       "      <td>nan</td>\n",
       "      <td>NaN</td>\n",
       "      <td>NaN</td>\n",
       "      <td>NaN</td>\n",
       "      <td>NaN</td>\n",
       "      <td>NaN</td>\n",
       "      <td>nan</td>\n",
       "    </tr>\n",
       "    <tr>\n",
       "      <th>1553</th>\n",
       "      <td>NaN</td>\n",
       "      <td>nan</td>\n",
       "      <td>NaN</td>\n",
       "      <td>NaN</td>\n",
       "      <td>NaN</td>\n",
       "      <td>NaN</td>\n",
       "      <td>NaN</td>\n",
       "      <td>nan</td>\n",
       "    </tr>\n",
       "    <tr>\n",
       "      <th>1554</th>\n",
       "      <td>NaN</td>\n",
       "      <td>nan</td>\n",
       "      <td>6294.0</td>\n",
       "      <td>166296.86</td>\n",
       "      <td>1.294925e+08</td>\n",
       "      <td>NaN</td>\n",
       "      <td>1.308388e+08</td>\n",
       "      <td>nan</td>\n",
       "    </tr>\n",
       "  </tbody>\n",
       "</table>\n",
       "<p>1555 rows × 8 columns</p>\n",
       "</div>"
      ]
     },
     "execution_count": 320,
     "metadata": {},
     "output_type": "execute_result"
    }
   ],
   "execution_count": 320
  },
  {
   "metadata": {
    "ExecuteTime": {
     "end_time": "2024-12-27T16:04:53.129724Z",
     "start_time": "2024-12-27T16:04:53.110487Z"
    }
   },
   "cell_type": "code",
   "source": [
    "#ver filas con la cadena cargador en la columna nomre del producto si la columna categoria no tiene la palabra cargador\n",
    "df[(df['Nombre del Producto'].str.contains('cargador', case=False)) & (df['Categoria'] != 'Cargador')]"
   ],
   "id": "10bb2feb02fa5f61",
   "outputs": [
    {
     "data": {
      "text/plain": [
       "         Código                                Nombre del Producto  Cantidad  \\\n",
       "231     HE18494            ACTIVADOR Y CARGADOR DE BATERIA ER-BA19       6.0   \n",
       "818    PA131160  PARLANTE VELADOR BLUETOOTH CARGADOR INALAMBRIC...       2.0   \n",
       "1155     CA6141  Fuente De Poder 3/4.5/6/7.5/9/12 Voltios 6 Pun...       1.0   \n",
       "1441  CO1129546      SOPORTE DE CARGADOR PARA PS5 JOYSTICK SND-463       1.0   \n",
       "\n",
       "      Costo total     Ganancia  Ganancia prom. %  Venta total  \\\n",
       "231         89.40  149691.8260          167462.0    149800.00   \n",
       "818         43.32   77747.5828          179494.0     77800.00   \n",
       "1155         7.87   13690.4773          217498.0     17125.00   \n",
       "1441         9.27   16592.5333          179013.0     16603.75   \n",
       "\n",
       "                                              Categoria  \n",
       "231             ACTIVADOR Y CARGADOR DE BATERIA ER-BA19  \n",
       "818                                            Parlante  \n",
       "1155  Fuente De Poder 3/4.5/6/7.5/9/12 Voltios 6 Pun...  \n",
       "1441      SOPORTE DE CARGADOR PARA PS5 JOYSTICK SND-463  "
      ],
      "text/html": [
       "<div>\n",
       "<style scoped>\n",
       "    .dataframe tbody tr th:only-of-type {\n",
       "        vertical-align: middle;\n",
       "    }\n",
       "\n",
       "    .dataframe tbody tr th {\n",
       "        vertical-align: top;\n",
       "    }\n",
       "\n",
       "    .dataframe thead th {\n",
       "        text-align: right;\n",
       "    }\n",
       "</style>\n",
       "<table border=\"1\" class=\"dataframe\">\n",
       "  <thead>\n",
       "    <tr style=\"text-align: right;\">\n",
       "      <th></th>\n",
       "      <th>Código</th>\n",
       "      <th>Nombre del Producto</th>\n",
       "      <th>Cantidad</th>\n",
       "      <th>Costo total</th>\n",
       "      <th>Ganancia</th>\n",
       "      <th>Ganancia prom. %</th>\n",
       "      <th>Venta total</th>\n",
       "      <th>Categoria</th>\n",
       "    </tr>\n",
       "  </thead>\n",
       "  <tbody>\n",
       "    <tr>\n",
       "      <th>231</th>\n",
       "      <td>HE18494</td>\n",
       "      <td>ACTIVADOR Y CARGADOR DE BATERIA ER-BA19</td>\n",
       "      <td>6.0</td>\n",
       "      <td>89.40</td>\n",
       "      <td>149691.8260</td>\n",
       "      <td>167462.0</td>\n",
       "      <td>149800.00</td>\n",
       "      <td>ACTIVADOR Y CARGADOR DE BATERIA ER-BA19</td>\n",
       "    </tr>\n",
       "    <tr>\n",
       "      <th>818</th>\n",
       "      <td>PA131160</td>\n",
       "      <td>PARLANTE VELADOR BLUETOOTH CARGADOR INALAMBRIC...</td>\n",
       "      <td>2.0</td>\n",
       "      <td>43.32</td>\n",
       "      <td>77747.5828</td>\n",
       "      <td>179494.0</td>\n",
       "      <td>77800.00</td>\n",
       "      <td>Parlante</td>\n",
       "    </tr>\n",
       "    <tr>\n",
       "      <th>1155</th>\n",
       "      <td>CA6141</td>\n",
       "      <td>Fuente De Poder 3/4.5/6/7.5/9/12 Voltios 6 Pun...</td>\n",
       "      <td>1.0</td>\n",
       "      <td>7.87</td>\n",
       "      <td>13690.4773</td>\n",
       "      <td>217498.0</td>\n",
       "      <td>17125.00</td>\n",
       "      <td>Fuente De Poder 3/4.5/6/7.5/9/12 Voltios 6 Pun...</td>\n",
       "    </tr>\n",
       "    <tr>\n",
       "      <th>1441</th>\n",
       "      <td>CO1129546</td>\n",
       "      <td>SOPORTE DE CARGADOR PARA PS5 JOYSTICK SND-463</td>\n",
       "      <td>1.0</td>\n",
       "      <td>9.27</td>\n",
       "      <td>16592.5333</td>\n",
       "      <td>179013.0</td>\n",
       "      <td>16603.75</td>\n",
       "      <td>SOPORTE DE CARGADOR PARA PS5 JOYSTICK SND-463</td>\n",
       "    </tr>\n",
       "  </tbody>\n",
       "</table>\n",
       "</div>"
      ]
     },
     "execution_count": 321,
     "metadata": {},
     "output_type": "execute_result"
    }
   ],
   "execution_count": 321
  },
  {
   "metadata": {
    "ExecuteTime": {
     "end_time": "2024-12-27T16:04:53.433800Z",
     "start_time": "2024-12-27T16:04:53.422500Z"
    }
   },
   "cell_type": "code",
   "source": [
    "#ver valores unicos con la cadena moouse en la columna nombre del producto\n",
    "df[df['Nombre del Producto'].str.contains('mouse', case=False)]['Nombre del Producto'].unique()"
   ],
   "id": "671cf5e862720daa",
   "outputs": [
    {
     "data": {
      "text/plain": [
       "array(['MOUSE INALAMBRICO DINAX COLORES SURTIDOS DX-WM691',\n",
       "       'MOUSE PAD ERGONOMICO CON GEL CDTEK NEGRO',\n",
       "       'MOUSE DUAL INALAMBRICO Y BLUETOOTH SEISA QS-202 COLORES',\n",
       "       'MOUSE GENIUS DX-120 USB BLACK 1200 DPI',\n",
       "       'KIT COMBO TECLADO Y MOUSE INALMBRICO 2.4G SLIM BLANCO DN-H263',\n",
       "       'KIT MOUSE Y TECLADO INALAMBRICO EZRA KB03',\n",
       "       'KIT TECLADO Y MOUSE 2,4G INALAMBRICO ULTRA DELGADO NEGRO K-06',\n",
       "       'Mouse Pad Escritorio Home Office Borde Bordado 20x24 Cm',\n",
       "       'Teclado Y Mouse Inalambrico Bluetooth - Slim - Recargable Rdkm-906 ROSA',\n",
       "       'MOUSE INALAMBRICO 2.4G RECARGABLE Seisa DN-M610',\n",
       "       'Mouse  Business Office Seisa DN-N602 Retractil / Notebook',\n",
       "       'Mouse  Business Office Seisa DN-N512',\n",
       "       'Mouse Logitech Inalambrico M170 Black Blister 910-004940',\n",
       "       'Mouse Logitech Inalambrico M170 Red Blister 910-004941',\n",
       "       'Teclado Y Mouse Inalambrico Bluetooth - Slim / Recargable Rdkm-906 NEGRO',\n",
       "       'Kit de Teclado y Mouse inalambrico Logitech MK220 920-004430',\n",
       "       'MOUSE GENIUS DX-110 USB BLUE 1200 DP',\n",
       "       'MOUSE GENIUS DX-120 USB BLUE 1200 DPI',\n",
       "       'Mouse  Business Office Seisa DN-N601',\n",
       "       'Mouse Pad Gamer NOGA ST-G36 XL 920 x 294 MM',\n",
       "       'Mouses T-Dagger Corporal Wireless black T-TGWM100',\n",
       "       'KIT INALAMBRICO TECLADO + MOUSE S5600 CELESTE / VERDE',\n",
       "       'MINI MOUSE RETRACTIL NGM-418',\n",
       "       'MOUSE GENIUS DX-110 USB GREEN 1200 DPI',\n",
       "       'MOUSE GENIUS DX-120 USB GREEN 1200 DPI',\n",
       "       'MOUSE INALAMBRICO SEISA 2.4G RECARGABLE DIBUJOS DN-M600',\n",
       "       'MOUSE PAD ERGONOMICO CON GEL CDTEK AZUL',\n",
       "       'Mouse Bluetooth Recargable Trust Puck Celeste',\n",
       "       'Mouse Bluetooth Recargable Trust Puck Negro',\n",
       "       'Mouse Cable Xtrike Me Gamer Gm-510 4800dpi',\n",
       "       'Mouse Gamer Logitech G Series Lightsync G203 Blanco',\n",
       "       'Mouse Pad Gamer GLADIUS XXL Netmak 80x30 NM-GLADIUS-2',\n",
       "       'Mouse Pad Gamer Gladius NETMAK NM-GLADIUS 30 X 25 CM',\n",
       "       'Mouse Pad Redragon P006a Kunlun L',\n",
       "       'Mousepad XTRIKE ME Gamer Luz RGB MP-602 350x250 alimentacion USB',\n",
       "       'TECLADO Y MOUSE GAMER RETROILUMINADO STOMER NKB-570',\n",
       "       'Conversor Gamer Para Teclado Y Mouse A Celular Bluetooth Mix Pro',\n",
       "       'KIT MOUSE Y TECLADO INALAMBRICO DINAX DX-2BTCOMB',\n",
       "       'Kit de Teclado y Mouse inalambrico Logitech MK270 920-004432',\n",
       "       'Kit de Teclado y Mouse inalambrico Logitech MK345 920-007820',\n",
       "       'MOUSE CABLE HAVIT GAMER MS1022 3200dpi',\n",
       "       'MOUSE DESIGN COLLECTION LIMITED EDITION M317C',\n",
       "       'MOUSE GAMING INALMBRICO G305 LOGITECH LIGHTSPEED AZUL',\n",
       "       'MOUSE INALAMBRICO 2.4G DN-W174',\n",
       "       'MOUSE INALAMBRICO INOVA MOU-019',\n",
       "       'MOUSE INALAMBRICO SEISA DN-G620',\n",
       "       'MOUSE INALAMBRICO SEISA DN-W170',\n",
       "       'Mouse Cable Xtrike Me Gamer Gm-216 3600dpi',\n",
       "       'Mouse Gamer Retroiluminado LED RGB 12000DPI ST-333',\n",
       "       'Mouse Gamer Retroiluminado LED RGB 2400DPI ST-627',\n",
       "       'Mouse Gamer Retroiluminado LED RGB 2400DPI ST-645',\n",
       "       'Mouse Gamer Retroiluminado LED RGB 3200DPI ST-682',\n",
       "       'Mouse Inalambrico Recargable Genius ECO-8100 Azul',\n",
       "       'Mouse M110 Silent Logitech Usb Negro',\n",
       "       'Mouse Pad Redragon P003 Suzaku U',\n",
       "       'Mouse Pad Redragon P031 Flick L',\n",
       "       'Mouse Pad Redragon P032 Flick XL',\n",
       "       'TOSTADORA ELECTRICA ATMA DISNEY TOAT39DN - Mickey Mouse',\n",
       "       'Teclado Seisa Con Mouse Usb DN-D5200 Con Cable'], dtype=object)"
      ]
     },
     "execution_count": 322,
     "metadata": {},
     "output_type": "execute_result"
    }
   ],
   "execution_count": 322
  },
  {
   "metadata": {
    "ExecuteTime": {
     "end_time": "2024-12-27T16:04:53.858212Z",
     "start_time": "2024-12-27T16:04:53.842787Z"
    }
   },
   "cell_type": "code",
   "source": [
    "#agregar en la columna 'Categoria'  la cadena 'Mouse' en cada fila si los valores  de la columna 'Nombre de Producto' tienen la cadena 'Mouse' en su nombre y si no tienen las siguientes cadenas: KIT, Conversor, Teclado y TOSTADORA\n",
    "df['Categoria'] = np.where(df['Nombre del Producto'].str.contains('mouse', case=False) & ~df['Nombre del Producto'].str.contains('KIT|Conversor|Teclado|TOSTADORA', case=False), 'Mouse', df['Categoria'])\n"
   ],
   "id": "e9f6e34629f5a45f",
   "outputs": [],
   "execution_count": 323
  },
  {
   "metadata": {
    "ExecuteTime": {
     "end_time": "2024-12-27T16:04:54.195899Z",
     "start_time": "2024-12-27T16:04:54.174783Z"
    }
   },
   "cell_type": "code",
   "source": [
    "#ver nombre de producto con la cadena mouse y si en su valor de categoria tiene la palabra dstinta de solo mouse\n",
    "df[(df['Nombre del Producto'].str.contains('mouse', case=False)) & (df['Categoria'] != 'Mouse')]\n"
   ],
   "id": "301b689f51885e52",
   "outputs": [
    {
     "data": {
      "text/plain": [
       "           Código                                Nombre del Producto  \\\n",
       "106        TE5840  KIT COMBO TECLADO Y MOUSE INALMBRICO 2.4G SLIM...   \n",
       "167        TE5842          KIT MOUSE Y TECLADO INALAMBRICO EZRA KB03   \n",
       "255        TE5844  KIT TECLADO Y MOUSE 2,4G INALAMBRICO ULTRA DEL...   \n",
       "279   RDKM-906-PK  Teclado Y Mouse Inalambrico Bluetooth - Slim -...   \n",
       "447    RDKM-906-B  Teclado Y Mouse Inalambrico Bluetooth - Slim /...   \n",
       "521       TE11120  Kit de Teclado y Mouse inalambrico Logitech MK...   \n",
       "747       TE11112  KIT INALAMBRICO TECLADO + MOUSE S5600 CELESTE ...   \n",
       "864       TE11131  TECLADO Y MOUSE GAMER RETROILUMINADO STOMER NK...   \n",
       "1103       AD7078  Conversor Gamer Para Teclado Y Mouse A Celular...   \n",
       "1190       TE5841   KIT MOUSE Y TECLADO INALAMBRICO DINAX DX-2BTCOMB   \n",
       "1195      TE11121  Kit de Teclado y Mouse inalambrico Logitech MK...   \n",
       "1196      TE11122  Kit de Teclado y Mouse inalambrico Logitech MK...   \n",
       "1467       EL6715  TOSTADORA ELECTRICA ATMA DISNEY TOAT39DN - Mic...   \n",
       "1492       TE5849     Teclado Seisa Con Mouse Usb DN-D5200 Con Cable   \n",
       "\n",
       "      Cantidad  Costo total       Ganancia  Ganancia prom. %  Venta total  \\\n",
       "106       11.0       138.16  215447.368721          158122.0    218600.00   \n",
       "167        8.0       101.69  175387.597877          172483.0    175499.99   \n",
       "255        6.0        68.70  128424.114503          186945.0    128500.00   \n",
       "279        6.0        70.68  134421.898600          190194.0    134500.00   \n",
       "447        4.0        48.60   91446.297000          188172.0     91500.00   \n",
       "521        3.0        35.79  124960.454623          349160.0    125000.00   \n",
       "747        2.0        18.84   37479.186644          198945.0     37500.00   \n",
       "864        2.0        14.06   33984.459361          241721.0     34000.00   \n",
       "1103       1.0         6.28   28992.402968          577129.0     36250.00   \n",
       "1190       1.0        10.40   19488.504090          187400.0     19500.00   \n",
       "1195       1.0        13.12   53485.500029          407674.0     53500.00   \n",
       "1196       1.0        16.34   49981.947882          305898.0     50000.00   \n",
       "1467       1.0        27.23   45967.051700          168831.0     46000.00   \n",
       "1492       1.0         4.41    9994.663900          226657.0     10000.00   \n",
       "\n",
       "                                              Categoria  \n",
       "106   KIT COMBO TECLADO Y MOUSE INALMBRICO 2.4G SLIM...  \n",
       "167           KIT MOUSE Y TECLADO INALAMBRICO EZRA KB03  \n",
       "255   KIT TECLADO Y MOUSE 2,4G INALAMBRICO ULTRA DEL...  \n",
       "279   Teclado Y Mouse Inalambrico Bluetooth - Slim -...  \n",
       "447   Teclado Y Mouse Inalambrico Bluetooth - Slim /...  \n",
       "521   Kit de Teclado y Mouse inalambrico Logitech MK...  \n",
       "747   KIT INALAMBRICO TECLADO + MOUSE S5600 CELESTE ...  \n",
       "864   TECLADO Y MOUSE GAMER RETROILUMINADO STOMER NK...  \n",
       "1103  Conversor Gamer Para Teclado Y Mouse A Celular...  \n",
       "1190   KIT MOUSE Y TECLADO INALAMBRICO DINAX DX-2BTCOMB  \n",
       "1195  Kit de Teclado y Mouse inalambrico Logitech MK...  \n",
       "1196  Kit de Teclado y Mouse inalambrico Logitech MK...  \n",
       "1467  TOSTADORA ELECTRICA ATMA DISNEY TOAT39DN - Mic...  \n",
       "1492     Teclado Seisa Con Mouse Usb DN-D5200 Con Cable  "
      ],
      "text/html": [
       "<div>\n",
       "<style scoped>\n",
       "    .dataframe tbody tr th:only-of-type {\n",
       "        vertical-align: middle;\n",
       "    }\n",
       "\n",
       "    .dataframe tbody tr th {\n",
       "        vertical-align: top;\n",
       "    }\n",
       "\n",
       "    .dataframe thead th {\n",
       "        text-align: right;\n",
       "    }\n",
       "</style>\n",
       "<table border=\"1\" class=\"dataframe\">\n",
       "  <thead>\n",
       "    <tr style=\"text-align: right;\">\n",
       "      <th></th>\n",
       "      <th>Código</th>\n",
       "      <th>Nombre del Producto</th>\n",
       "      <th>Cantidad</th>\n",
       "      <th>Costo total</th>\n",
       "      <th>Ganancia</th>\n",
       "      <th>Ganancia prom. %</th>\n",
       "      <th>Venta total</th>\n",
       "      <th>Categoria</th>\n",
       "    </tr>\n",
       "  </thead>\n",
       "  <tbody>\n",
       "    <tr>\n",
       "      <th>106</th>\n",
       "      <td>TE5840</td>\n",
       "      <td>KIT COMBO TECLADO Y MOUSE INALMBRICO 2.4G SLIM...</td>\n",
       "      <td>11.0</td>\n",
       "      <td>138.16</td>\n",
       "      <td>215447.368721</td>\n",
       "      <td>158122.0</td>\n",
       "      <td>218600.00</td>\n",
       "      <td>KIT COMBO TECLADO Y MOUSE INALMBRICO 2.4G SLIM...</td>\n",
       "    </tr>\n",
       "    <tr>\n",
       "      <th>167</th>\n",
       "      <td>TE5842</td>\n",
       "      <td>KIT MOUSE Y TECLADO INALAMBRICO EZRA KB03</td>\n",
       "      <td>8.0</td>\n",
       "      <td>101.69</td>\n",
       "      <td>175387.597877</td>\n",
       "      <td>172483.0</td>\n",
       "      <td>175499.99</td>\n",
       "      <td>KIT MOUSE Y TECLADO INALAMBRICO EZRA KB03</td>\n",
       "    </tr>\n",
       "    <tr>\n",
       "      <th>255</th>\n",
       "      <td>TE5844</td>\n",
       "      <td>KIT TECLADO Y MOUSE 2,4G INALAMBRICO ULTRA DEL...</td>\n",
       "      <td>6.0</td>\n",
       "      <td>68.70</td>\n",
       "      <td>128424.114503</td>\n",
       "      <td>186945.0</td>\n",
       "      <td>128500.00</td>\n",
       "      <td>KIT TECLADO Y MOUSE 2,4G INALAMBRICO ULTRA DEL...</td>\n",
       "    </tr>\n",
       "    <tr>\n",
       "      <th>279</th>\n",
       "      <td>RDKM-906-PK</td>\n",
       "      <td>Teclado Y Mouse Inalambrico Bluetooth - Slim -...</td>\n",
       "      <td>6.0</td>\n",
       "      <td>70.68</td>\n",
       "      <td>134421.898600</td>\n",
       "      <td>190194.0</td>\n",
       "      <td>134500.00</td>\n",
       "      <td>Teclado Y Mouse Inalambrico Bluetooth - Slim -...</td>\n",
       "    </tr>\n",
       "    <tr>\n",
       "      <th>447</th>\n",
       "      <td>RDKM-906-B</td>\n",
       "      <td>Teclado Y Mouse Inalambrico Bluetooth - Slim /...</td>\n",
       "      <td>4.0</td>\n",
       "      <td>48.60</td>\n",
       "      <td>91446.297000</td>\n",
       "      <td>188172.0</td>\n",
       "      <td>91500.00</td>\n",
       "      <td>Teclado Y Mouse Inalambrico Bluetooth - Slim /...</td>\n",
       "    </tr>\n",
       "    <tr>\n",
       "      <th>521</th>\n",
       "      <td>TE11120</td>\n",
       "      <td>Kit de Teclado y Mouse inalambrico Logitech MK...</td>\n",
       "      <td>3.0</td>\n",
       "      <td>35.79</td>\n",
       "      <td>124960.454623</td>\n",
       "      <td>349160.0</td>\n",
       "      <td>125000.00</td>\n",
       "      <td>Kit de Teclado y Mouse inalambrico Logitech MK...</td>\n",
       "    </tr>\n",
       "    <tr>\n",
       "      <th>747</th>\n",
       "      <td>TE11112</td>\n",
       "      <td>KIT INALAMBRICO TECLADO + MOUSE S5600 CELESTE ...</td>\n",
       "      <td>2.0</td>\n",
       "      <td>18.84</td>\n",
       "      <td>37479.186644</td>\n",
       "      <td>198945.0</td>\n",
       "      <td>37500.00</td>\n",
       "      <td>KIT INALAMBRICO TECLADO + MOUSE S5600 CELESTE ...</td>\n",
       "    </tr>\n",
       "    <tr>\n",
       "      <th>864</th>\n",
       "      <td>TE11131</td>\n",
       "      <td>TECLADO Y MOUSE GAMER RETROILUMINADO STOMER NK...</td>\n",
       "      <td>2.0</td>\n",
       "      <td>14.06</td>\n",
       "      <td>33984.459361</td>\n",
       "      <td>241721.0</td>\n",
       "      <td>34000.00</td>\n",
       "      <td>TECLADO Y MOUSE GAMER RETROILUMINADO STOMER NK...</td>\n",
       "    </tr>\n",
       "    <tr>\n",
       "      <th>1103</th>\n",
       "      <td>AD7078</td>\n",
       "      <td>Conversor Gamer Para Teclado Y Mouse A Celular...</td>\n",
       "      <td>1.0</td>\n",
       "      <td>6.28</td>\n",
       "      <td>28992.402968</td>\n",
       "      <td>577129.0</td>\n",
       "      <td>36250.00</td>\n",
       "      <td>Conversor Gamer Para Teclado Y Mouse A Celular...</td>\n",
       "    </tr>\n",
       "    <tr>\n",
       "      <th>1190</th>\n",
       "      <td>TE5841</td>\n",
       "      <td>KIT MOUSE Y TECLADO INALAMBRICO DINAX DX-2BTCOMB</td>\n",
       "      <td>1.0</td>\n",
       "      <td>10.40</td>\n",
       "      <td>19488.504090</td>\n",
       "      <td>187400.0</td>\n",
       "      <td>19500.00</td>\n",
       "      <td>KIT MOUSE Y TECLADO INALAMBRICO DINAX DX-2BTCOMB</td>\n",
       "    </tr>\n",
       "    <tr>\n",
       "      <th>1195</th>\n",
       "      <td>TE11121</td>\n",
       "      <td>Kit de Teclado y Mouse inalambrico Logitech MK...</td>\n",
       "      <td>1.0</td>\n",
       "      <td>13.12</td>\n",
       "      <td>53485.500029</td>\n",
       "      <td>407674.0</td>\n",
       "      <td>53500.00</td>\n",
       "      <td>Kit de Teclado y Mouse inalambrico Logitech MK...</td>\n",
       "    </tr>\n",
       "    <tr>\n",
       "      <th>1196</th>\n",
       "      <td>TE11122</td>\n",
       "      <td>Kit de Teclado y Mouse inalambrico Logitech MK...</td>\n",
       "      <td>1.0</td>\n",
       "      <td>16.34</td>\n",
       "      <td>49981.947882</td>\n",
       "      <td>305898.0</td>\n",
       "      <td>50000.00</td>\n",
       "      <td>Kit de Teclado y Mouse inalambrico Logitech MK...</td>\n",
       "    </tr>\n",
       "    <tr>\n",
       "      <th>1467</th>\n",
       "      <td>EL6715</td>\n",
       "      <td>TOSTADORA ELECTRICA ATMA DISNEY TOAT39DN - Mic...</td>\n",
       "      <td>1.0</td>\n",
       "      <td>27.23</td>\n",
       "      <td>45967.051700</td>\n",
       "      <td>168831.0</td>\n",
       "      <td>46000.00</td>\n",
       "      <td>TOSTADORA ELECTRICA ATMA DISNEY TOAT39DN - Mic...</td>\n",
       "    </tr>\n",
       "    <tr>\n",
       "      <th>1492</th>\n",
       "      <td>TE5849</td>\n",
       "      <td>Teclado Seisa Con Mouse Usb DN-D5200 Con Cable</td>\n",
       "      <td>1.0</td>\n",
       "      <td>4.41</td>\n",
       "      <td>9994.663900</td>\n",
       "      <td>226657.0</td>\n",
       "      <td>10000.00</td>\n",
       "      <td>Teclado Seisa Con Mouse Usb DN-D5200 Con Cable</td>\n",
       "    </tr>\n",
       "  </tbody>\n",
       "</table>\n",
       "</div>"
      ]
     },
     "execution_count": 324,
     "metadata": {},
     "output_type": "execute_result"
    }
   ],
   "execution_count": 324
  },
  {
   "metadata": {
    "ExecuteTime": {
     "end_time": "2024-12-27T16:04:54.420764Z",
     "start_time": "2024-12-27T16:04:54.408138Z"
    }
   },
   "cell_type": "code",
   "source": [
    "#ver valores con la cadena auriculares\n",
    "df[df['Nombre del Producto'].str.contains('auriculares', case=False)]['Nombre del Producto'].unique()"
   ],
   "id": "8a567976f3c472",
   "outputs": [
    {
     "data": {
      "text/plain": [
       "array(['AURICULARES BT TIME AU-1322 COLORES',\n",
       "       'AURICULARES BT HAYLOU GT1 2022 5,2 / NEGRO',\n",
       "       'Auriculares Bluetooth Gamer Xiaomi Redmi Buds 3 Lite Negro',\n",
       "       'AURICULARES AKG SAM S10+ EO-IG955 MG892 CAJA',\n",
       "       'AURICULARES BT F9-5',\n",
       "       'Auriculares BT Xiaomi Redmi Buds Essential Negro',\n",
       "       'Auriculares in-ear Xiaomi Mi Headphones Basic negro ZBW4354TY 36659',\n",
       "       'AURICULARES BT XIAOMI REDMI BUDS 4 LITE / NEGRO',\n",
       "       'Auriculares inalambricos Haylou T Series MoriPods Blue',\n",
       "       'AURICULARES BLUETOOTH 5,3 IN EAR DEHUKA E7s Negro',\n",
       "       'Auriculares BT HAYLOU X1 NEO - BLACK',\n",
       "       'AURICULARES BT XIAOMI REDMI BUDS 4 ACTIVE / NEGRO',\n",
       "       'AURICULARES BT Haylou GT1 2023 / NEGRO',\n",
       "       'Auriculares Cable in-ear JBL C50HI Blanco',\n",
       "       'AURICULARES BT NOGA NG-BTWINS 26 TACTIL ROJO',\n",
       "       'Auriculares Bluetooth LENOVO T50 - BLACK',\n",
       "       'Auriculares JBL Inalambricos Tune510BT Blue',\n",
       "       'HOLDER DE AURICULARES DINAX DX-HOLAUXT',\n",
       "       'AURICULARES BLUETOOTH 5,3 IN EAR DEHUKA E7s Blanco',\n",
       "       'AURICULARES BLUETOOTH VINCHA EJ-P202', 'AURICULARES BT IBEK AIR3',\n",
       "       'AURICULARES BT IBEK AIR5', 'AURICULARES BT PUXIDA G9S',\n",
       "       'AURICULARES JBL QUANTUM200 BLACK GAMER',\n",
       "       'AURICULARES NOGA BT TWINS GAMING LOW LATENCY NGX-BTWINS 5',\n",
       "       'AURICULARES NOGA TWINS BT BLANCO NG-BTWINS 24',\n",
       "       'AURICULARES SAMSUNG J5 BLANCO',\n",
       "       'AURICULARES XIAOMI MI TRUE EARPHONES 2 BASIC',\n",
       "       'Auriculares BT HAYLOU GAMING G3 G003 - BLACK',\n",
       "       'Auriculares BT In-ear Xiaomi Redmi Buds 4 BLANCO',\n",
       "       'Auriculares BT JBL TUNE205BT - BLUE',\n",
       "       'Auriculares BT JBL VIBE BUDS - WHITE',\n",
       "       'Auriculares Bluetooth Qcy HT07 ARCBUDS - BLACK',\n",
       "       'Auriculares Bluetooth Qcy T13 Android Ios',\n",
       "       'Auriculares Gamer Lenovo Hu75 Con Led Multicolor RGB',\n",
       "       'Auriculares KZ-EDC Negro Con Microfono',\n",
       "       'Auriculares Logitech inalambricos G Series G435 LIGHTSPEED Blanco 981-001073',\n",
       "       'Auriculares Y Parlantes Bluetooth 2 En 1 West Hybrid V-75',\n",
       "       'Auriculares in-ear JBL Tune110 JBLT110 Banco',\n",
       "       'SOPORTE AURICULARES GAMER METALICO ALUMINIO BASE STAND',\n",
       "       'AURICULARES BT 5.0 SUONO ESTUCHE DE CARGA',\n",
       "       'AURICULARES NOGA TWINS BT ROJO NG-BTWINS 24'], dtype=object)"
      ]
     },
     "execution_count": 325,
     "metadata": {},
     "output_type": "execute_result"
    }
   ],
   "execution_count": 325
  },
  {
   "metadata": {
    "ExecuteTime": {
     "end_time": "2024-12-27T16:04:54.663727Z",
     "start_time": "2024-12-27T16:04:54.650280Z"
    }
   },
   "cell_type": "code",
   "source": [
    "#agregar en la columna 'Categoria'  la cadena 'Auriculares' en cada fila si los valores  de la columna 'Nombre de Producto' tienen la cadena 'Auriculares' en su nombre y si no tienen las siguientes cadenas: HOLDER Y SOPORTE\n",
    "df['Categoria'] = np.where(df['Nombre del Producto'].str.contains('auriculares', case=False) & ~df['Nombre del Producto'].str.contains('HOLDER|SOPORTE', case=False), 'Auriculares', df['Categoria'])"
   ],
   "id": "6bc5882e8b4ccfd5",
   "outputs": [],
   "execution_count": 326
  },
  {
   "metadata": {
    "ExecuteTime": {
     "end_time": "2024-12-27T16:04:54.948496Z",
     "start_time": "2024-12-27T16:04:54.930942Z"
    }
   },
   "cell_type": "code",
   "source": "df",
   "id": "4da338877255dd24",
   "outputs": [
    {
     "data": {
      "text/plain": [
       "       Código                                Nombre del Producto  Cantidad  \\\n",
       "0     R124132  VIDRIO GLASS SAMSUNG  A02S / A03 / A03 CORE / ...      90.0   \n",
       "1      PI3017                       Pilas Boton 3 V Philco 2032       70.0   \n",
       "2       D1014  CABLE USB ONLY MOD48 / V8 / 3,1A BLANCO Y NEGR...      55.0   \n",
       "3          C6  Pin Carga Sam J7 pro / J7 prime / J5 prime / J...      54.0   \n",
       "4       SE966            SERVICIO TECNICO REVISION Y PRESUPUESTO      54.0   \n",
       "...       ...                                                ...       ...   \n",
       "1550  RC76393  BATERIA SAM A14 / A52 / S20 FE / A52S 100% Ori...      -1.0   \n",
       "1551   PE8818  Pendrive Kingston DataTraveler SE9 DTSE9H 32GB...      -2.0   \n",
       "1552      NaN                                                nan       NaN   \n",
       "1553      NaN                                                nan       NaN   \n",
       "1554      NaN                                                nan    6294.0   \n",
       "\n",
       "      Costo total      Ganancia  Ganancia prom. %   Venta total  \\\n",
       "0          120.80  3.569538e+05      2.955130e+05  3.571000e+05   \n",
       "1           32.20  7.391105e+04      2.295580e+05  7.395001e+04   \n",
       "2           35.29  1.551573e+05      4.396850e+05  1.552000e+05   \n",
       "3            1.17  1.382985e+05      1.214090e+12  1.420500e+05   \n",
       "4           12.42  6.536850e+05      5.263190e+11  6.537000e+05   \n",
       "...           ...           ...               ...           ...   \n",
       "1550        -8.16 -2.699012e+04               NaN -2.700000e+04   \n",
       "1551       -10.05 -1.598784e+04               NaN -1.600000e+04   \n",
       "1552          NaN           NaN               NaN           NaN   \n",
       "1553          NaN           NaN               NaN           NaN   \n",
       "1554    166296.86  1.294925e+08               NaN  1.308388e+08   \n",
       "\n",
       "                                              Categoria  \n",
       "0                                          Vidrio Glass  \n",
       "1                                                  Pila  \n",
       "2                                                 Cable  \n",
       "3                                             Pin Carga  \n",
       "4                                      Servicio Tecnico  \n",
       "...                                                 ...  \n",
       "1550                                            Bateria  \n",
       "1551  Pendrive Kingston DataTraveler SE9 DTSE9H 32GB...  \n",
       "1552                                                nan  \n",
       "1553                                                nan  \n",
       "1554                                                nan  \n",
       "\n",
       "[1555 rows x 8 columns]"
      ],
      "text/html": [
       "<div>\n",
       "<style scoped>\n",
       "    .dataframe tbody tr th:only-of-type {\n",
       "        vertical-align: middle;\n",
       "    }\n",
       "\n",
       "    .dataframe tbody tr th {\n",
       "        vertical-align: top;\n",
       "    }\n",
       "\n",
       "    .dataframe thead th {\n",
       "        text-align: right;\n",
       "    }\n",
       "</style>\n",
       "<table border=\"1\" class=\"dataframe\">\n",
       "  <thead>\n",
       "    <tr style=\"text-align: right;\">\n",
       "      <th></th>\n",
       "      <th>Código</th>\n",
       "      <th>Nombre del Producto</th>\n",
       "      <th>Cantidad</th>\n",
       "      <th>Costo total</th>\n",
       "      <th>Ganancia</th>\n",
       "      <th>Ganancia prom. %</th>\n",
       "      <th>Venta total</th>\n",
       "      <th>Categoria</th>\n",
       "    </tr>\n",
       "  </thead>\n",
       "  <tbody>\n",
       "    <tr>\n",
       "      <th>0</th>\n",
       "      <td>R124132</td>\n",
       "      <td>VIDRIO GLASS SAMSUNG  A02S / A03 / A03 CORE / ...</td>\n",
       "      <td>90.0</td>\n",
       "      <td>120.80</td>\n",
       "      <td>3.569538e+05</td>\n",
       "      <td>2.955130e+05</td>\n",
       "      <td>3.571000e+05</td>\n",
       "      <td>Vidrio Glass</td>\n",
       "    </tr>\n",
       "    <tr>\n",
       "      <th>1</th>\n",
       "      <td>PI3017</td>\n",
       "      <td>Pilas Boton 3 V Philco 2032</td>\n",
       "      <td>70.0</td>\n",
       "      <td>32.20</td>\n",
       "      <td>7.391105e+04</td>\n",
       "      <td>2.295580e+05</td>\n",
       "      <td>7.395001e+04</td>\n",
       "      <td>Pila</td>\n",
       "    </tr>\n",
       "    <tr>\n",
       "      <th>2</th>\n",
       "      <td>D1014</td>\n",
       "      <td>CABLE USB ONLY MOD48 / V8 / 3,1A BLANCO Y NEGR...</td>\n",
       "      <td>55.0</td>\n",
       "      <td>35.29</td>\n",
       "      <td>1.551573e+05</td>\n",
       "      <td>4.396850e+05</td>\n",
       "      <td>1.552000e+05</td>\n",
       "      <td>Cable</td>\n",
       "    </tr>\n",
       "    <tr>\n",
       "      <th>3</th>\n",
       "      <td>C6</td>\n",
       "      <td>Pin Carga Sam J7 pro / J7 prime / J5 prime / J...</td>\n",
       "      <td>54.0</td>\n",
       "      <td>1.17</td>\n",
       "      <td>1.382985e+05</td>\n",
       "      <td>1.214090e+12</td>\n",
       "      <td>1.420500e+05</td>\n",
       "      <td>Pin Carga</td>\n",
       "    </tr>\n",
       "    <tr>\n",
       "      <th>4</th>\n",
       "      <td>SE966</td>\n",
       "      <td>SERVICIO TECNICO REVISION Y PRESUPUESTO</td>\n",
       "      <td>54.0</td>\n",
       "      <td>12.42</td>\n",
       "      <td>6.536850e+05</td>\n",
       "      <td>5.263190e+11</td>\n",
       "      <td>6.537000e+05</td>\n",
       "      <td>Servicio Tecnico</td>\n",
       "    </tr>\n",
       "    <tr>\n",
       "      <th>...</th>\n",
       "      <td>...</td>\n",
       "      <td>...</td>\n",
       "      <td>...</td>\n",
       "      <td>...</td>\n",
       "      <td>...</td>\n",
       "      <td>...</td>\n",
       "      <td>...</td>\n",
       "      <td>...</td>\n",
       "    </tr>\n",
       "    <tr>\n",
       "      <th>1550</th>\n",
       "      <td>RC76393</td>\n",
       "      <td>BATERIA SAM A14 / A52 / S20 FE / A52S 100% Ori...</td>\n",
       "      <td>-1.0</td>\n",
       "      <td>-8.16</td>\n",
       "      <td>-2.699012e+04</td>\n",
       "      <td>NaN</td>\n",
       "      <td>-2.700000e+04</td>\n",
       "      <td>Bateria</td>\n",
       "    </tr>\n",
       "    <tr>\n",
       "      <th>1551</th>\n",
       "      <td>PE8818</td>\n",
       "      <td>Pendrive Kingston DataTraveler SE9 DTSE9H 32GB...</td>\n",
       "      <td>-2.0</td>\n",
       "      <td>-10.05</td>\n",
       "      <td>-1.598784e+04</td>\n",
       "      <td>NaN</td>\n",
       "      <td>-1.600000e+04</td>\n",
       "      <td>Pendrive Kingston DataTraveler SE9 DTSE9H 32GB...</td>\n",
       "    </tr>\n",
       "    <tr>\n",
       "      <th>1552</th>\n",
       "      <td>NaN</td>\n",
       "      <td>nan</td>\n",
       "      <td>NaN</td>\n",
       "      <td>NaN</td>\n",
       "      <td>NaN</td>\n",
       "      <td>NaN</td>\n",
       "      <td>NaN</td>\n",
       "      <td>nan</td>\n",
       "    </tr>\n",
       "    <tr>\n",
       "      <th>1553</th>\n",
       "      <td>NaN</td>\n",
       "      <td>nan</td>\n",
       "      <td>NaN</td>\n",
       "      <td>NaN</td>\n",
       "      <td>NaN</td>\n",
       "      <td>NaN</td>\n",
       "      <td>NaN</td>\n",
       "      <td>nan</td>\n",
       "    </tr>\n",
       "    <tr>\n",
       "      <th>1554</th>\n",
       "      <td>NaN</td>\n",
       "      <td>nan</td>\n",
       "      <td>6294.0</td>\n",
       "      <td>166296.86</td>\n",
       "      <td>1.294925e+08</td>\n",
       "      <td>NaN</td>\n",
       "      <td>1.308388e+08</td>\n",
       "      <td>nan</td>\n",
       "    </tr>\n",
       "  </tbody>\n",
       "</table>\n",
       "<p>1555 rows × 8 columns</p>\n",
       "</div>"
      ]
     },
     "execution_count": 327,
     "metadata": {},
     "output_type": "execute_result"
    }
   ],
   "execution_count": 327
  },
  {
   "metadata": {
    "ExecuteTime": {
     "end_time": "2024-12-27T16:04:55.151751Z",
     "start_time": "2024-12-27T16:04:55.140827Z"
    }
   },
   "cell_type": "code",
   "source": [
    "#ver valores con la cadena 'adaptador' en la columna nombre del producto\n",
    "df[df['Nombre del Producto'].str.contains('adaptador', case=False)]['Nombre del Producto'].unique()"
   ],
   "id": "cf995726ec8d2a34",
   "outputs": [
    {
     "data": {
      "text/plain": [
       "array(['Adaptador Otg Usb Hembra Metalico 3.0 Usb Tipo C Macho',\n",
       "       'Cargador Universal De Notebook 12 Adaptadores 12-24V Malibu MY 120W',\n",
       "       'Cable Adaptador De Audio Tipo Usb C A Plug Samsung JACK ADAPTER',\n",
       "       'ADAPTADOR - DISPLAY PORT DP A VGA SM-C7822',\n",
       "       'ADAPTADOR HUB USB CON 4 PUERTOS USB SX-36\\xa0',\n",
       "       'Tarjeta De Memoria Kingston 64gb Canvas Select Con Adaptador C10',\n",
       "       'CABLE HDMI 3 EN 1 CON ADAPTADORES CAB-6568 / TMCB 6556',\n",
       "       'Adaptador Ficha Union Empalme Rj45 Adaptador Hembra A Hembra Utp Cable De Red xibm69718',\n",
       "       'Adaptador Otg Usb 2.0 Macho A Tipo C Hembra 09-054',\n",
       "       'Adaptador Enchufes Universal Viajero Reforzado G99-008A20',\n",
       "       'Adaptador Placa De Red Usb A Ethernet Rj45 Kl 001',\n",
       "       'Cable ADAPTADOR 3.5MM MACHO A 2 HEMBRAS',\n",
       "       'ADAPTADOR 2 Hembra a 1 Macho NOGA TR-1005',\n",
       "       'ADAPTADOR CON ROSCA UNIVERSAL TR3 GM-3498',\n",
       "       'ADAPTADOR DE NANO SIM A MICRO SIM 2384',\n",
       "       'Adaptador Displayport Macho A Hdmi Hembra 06-009',\n",
       "       'Adaptador Ficha MiniPlug 3,5 A Plug 6,5 MONO Chico a Grande',\n",
       "       'Antena Externa Adaptador Usb Wifi Placa Red Lan 802 N Gb',\n",
       "       'Mini Adaptador USB Wifi tp-link TL-WN823N 300Mbps 39mm',\n",
       "       'ADAPTADOR HUB 3 EN 1 TIPO-C A HDMI+USB3.0+PD BYL-2122',\n",
       "       'ADAPTADOR HUB 5 EN 1 TIPO-C A HDMI+USB3.0+PD+PUERTO BYL-2007',\n",
       "       'ADAPTADOR HUB 5 EN 1 TIPO-C A SD/TF+USB3.0+USB2.0X2 BYL-2103T',\n",
       "       'ADAPTADOR HUB 6 EN 1 TIPO-C A HDMI+SD/TF+USB2.0+USB3.0+PD BYL-2010',\n",
       "       'ADAPTADOR HUB IPHONE CON 3 PUERTOS USB Y 1 PUERTO DE IPHONE SX-38',\n",
       "       'Adaptador Alargue HDMI Hembra a HDMI Hembra CB-107',\n",
       "       'Adaptador DVI-D Macho a HDMI Hembra CB115',\n",
       "       'Adaptador DVI-D Macho a Vga Hembra CB113',\n",
       "       'Adaptador Headphone Jack iPhone 7 Lightning A 3.5mm ADAN005',\n",
       "       'Adaptador Nano USB a Wireless 150 Mbps Mercusys by Tp-Link MW150US N150 NANO',\n",
       "       'Adaptador OTG Carga Y Datos USB Macho A Tipo C Hembra 3.1',\n",
       "       'Adaptador Otg Micro Usb A Usb Hembra Tablet Celular',\n",
       "       'Adaptador Tipo C a Tipo C y Audio 3,5mm Hembra 09-053',\n",
       "       'CABLE ADAPTADOR DISCO SATA EXTERNO A USB 3,0 / DXADAPDDUSB',\n",
       "       'ADAPTADOR INTERNATIONAL DIVERSOS ENCHUFES SS177 / SM-115',\n",
       "       'ADAPTADOR TIPO C (Macho) A LIGHTING (Hembra) 09-033',\n",
       "       'Adaptador De Usb A Sata/ide Con Fuente Y Cables Universal Noga HE2020',\n",
       "       'Adaptador Inalambrico Wifi Usb Red Noga NG-Uw06 Antena 150mbps 2,4GHZ',\n",
       "       'Adaptador Microusb Macho a tipo C Hembra 09-055',\n",
       "       'Adaptador Otg Tipo C / Usb3.0  Cp01-20-006',\n",
       "       'Adaptador Placa De Red Usb Inalambrico Tp-link Tl-wn722n USB 2.4GHZ',\n",
       "       'Adaptador Tipo C a Iphone IP04',\n",
       "       'Adaptador Tipo C macho a HDMI Hembra 09-043',\n",
       "       'Adaptador de DVI (Macho) 24+1 a VGA (Hembra) GM6306',\n",
       "       'CABLE ADAPTADOR USB 3.0 A SATA USB3 A SATA',\n",
       "       'CARGADOR CABEZAL ADAPTADOR PUERTO USB + TYPE C 6.1A 5.8A IBEK IB-611PD20W QC 3.0 A+C',\n",
       "       'Cable Adaptador De Dvi-D (24+1) A Vga / Con Audio 09-020',\n",
       "       'Hub Adaptador Tipo C A Hdmi / Vga / Usb 3.0 / Pd Kq-009',\n",
       "       'NISUTA Conversor Adaptador De Usb A 2 Ps2 NS-COUSPSCH',\n",
       "       'TRINO MICROSCOPIO kailiwei 10HT-B1 NEGRO + ADAPTADOR CAMARA + ARO LED',\n",
       "       'Tarjeta De Memoria Kingston 32gb C10 Canvas Select Con Adaptador',\n",
       "       'ADAPTADOR HDMI MACHO A HEMBRA 90 GRADOS DX-HDMITL'], dtype=object)"
      ]
     },
     "execution_count": 328,
     "metadata": {},
     "output_type": "execute_result"
    }
   ],
   "execution_count": 328
  },
  {
   "metadata": {
    "ExecuteTime": {
     "end_time": "2024-12-27T16:04:55.454625Z",
     "start_time": "2024-12-27T16:04:55.439740Z"
    }
   },
   "cell_type": "code",
   "source": [
    "#agregar en la columna 'Categoria'  la cadena 'Adaptador' en cada fila si los valores  de la columna 'Nombre de Producto' tienen la cadena 'Adaptador' en su nombre y si no tienen las siguientes cadenas: Antena , CABEZAL , MICROSCOPIO y Tarjeta\n",
    "df['Categoria'] = np.where(df['Nombre del Producto'].str.contains('adaptador', case=False) & ~df['Nombre del Producto'].str.contains('Antena|CABEZAL|MICROSCOPIO|Tarjeta', case=False), 'Adaptador', df['Categoria'])\n"
   ],
   "id": "35dcb03763104be4",
   "outputs": [],
   "execution_count": 329
  },
  {
   "metadata": {
    "ExecuteTime": {
     "end_time": "2024-12-27T16:04:55.890898Z",
     "start_time": "2024-12-27T16:04:55.852142Z"
    }
   },
   "cell_type": "code",
   "source": [
    "#ver valores con la cadena adaptador en la columna nombre del producto con un valor diferente a adapatador en la columna categoria\n",
    "df[(df['Nombre del Producto'].str.contains('adaptador', case=False)) & (df['Categoria'] != 'Adaptador')]"
   ],
   "id": "dfd4bf5c7436d8a9",
   "outputs": [
    {
     "data": {
      "text/plain": [
       "       Código                                Nombre del Producto  Cantidad  \\\n",
       "183      M835  Tarjeta De Memoria Kingston 64gb Canvas Select...       8.0   \n",
       "467     C8114  Antena Externa Adaptador Usb Wifi Placa Red La...       3.0   \n",
       "951   NG-Uw06  Adaptador Inalambrico Wifi Usb Red Noga NG-Uw0...       1.0   \n",
       "1050   IB-611  CARGADOR CABEZAL ADAPTADOR PUERTO USB + TYPE C...       1.0   \n",
       "1469  HE89313  TRINO MICROSCOPIO kailiwei 10HT-B1 NEGRO + ADA...       1.0   \n",
       "1484     M834  Tarjeta De Memoria Kingston 32gb C10 Canvas Se...       1.0   \n",
       "\n",
       "      Costo total       Ganancia  Ganancia prom. %  Venta total  \\\n",
       "183         42.96  116852.511416          276378.0   118775.000   \n",
       "467         11.88   28485.641610          239799.0    28500.000   \n",
       "951          4.33    8995.216928          207752.0     9000.004   \n",
       "1050         3.63    8195.605023          225795.0     8200.000   \n",
       "1469       241.85  444707.362329          183898.0   445000.000   \n",
       "1484         2.80    8496.611724          303471.0     8500.000   \n",
       "\n",
       "                                              Categoria  \n",
       "183   Tarjeta De Memoria Kingston 64gb Canvas Select...  \n",
       "467   Antena Externa Adaptador Usb Wifi Placa Red La...  \n",
       "951   Adaptador Inalambrico Wifi Usb Red Noga NG-Uw0...  \n",
       "1050                                           Cargador  \n",
       "1469  TRINO MICROSCOPIO kailiwei 10HT-B1 NEGRO + ADA...  \n",
       "1484  Tarjeta De Memoria Kingston 32gb C10 Canvas Se...  "
      ],
      "text/html": [
       "<div>\n",
       "<style scoped>\n",
       "    .dataframe tbody tr th:only-of-type {\n",
       "        vertical-align: middle;\n",
       "    }\n",
       "\n",
       "    .dataframe tbody tr th {\n",
       "        vertical-align: top;\n",
       "    }\n",
       "\n",
       "    .dataframe thead th {\n",
       "        text-align: right;\n",
       "    }\n",
       "</style>\n",
       "<table border=\"1\" class=\"dataframe\">\n",
       "  <thead>\n",
       "    <tr style=\"text-align: right;\">\n",
       "      <th></th>\n",
       "      <th>Código</th>\n",
       "      <th>Nombre del Producto</th>\n",
       "      <th>Cantidad</th>\n",
       "      <th>Costo total</th>\n",
       "      <th>Ganancia</th>\n",
       "      <th>Ganancia prom. %</th>\n",
       "      <th>Venta total</th>\n",
       "      <th>Categoria</th>\n",
       "    </tr>\n",
       "  </thead>\n",
       "  <tbody>\n",
       "    <tr>\n",
       "      <th>183</th>\n",
       "      <td>M835</td>\n",
       "      <td>Tarjeta De Memoria Kingston 64gb Canvas Select...</td>\n",
       "      <td>8.0</td>\n",
       "      <td>42.96</td>\n",
       "      <td>116852.511416</td>\n",
       "      <td>276378.0</td>\n",
       "      <td>118775.000</td>\n",
       "      <td>Tarjeta De Memoria Kingston 64gb Canvas Select...</td>\n",
       "    </tr>\n",
       "    <tr>\n",
       "      <th>467</th>\n",
       "      <td>C8114</td>\n",
       "      <td>Antena Externa Adaptador Usb Wifi Placa Red La...</td>\n",
       "      <td>3.0</td>\n",
       "      <td>11.88</td>\n",
       "      <td>28485.641610</td>\n",
       "      <td>239799.0</td>\n",
       "      <td>28500.000</td>\n",
       "      <td>Antena Externa Adaptador Usb Wifi Placa Red La...</td>\n",
       "    </tr>\n",
       "    <tr>\n",
       "      <th>951</th>\n",
       "      <td>NG-Uw06</td>\n",
       "      <td>Adaptador Inalambrico Wifi Usb Red Noga NG-Uw0...</td>\n",
       "      <td>1.0</td>\n",
       "      <td>4.33</td>\n",
       "      <td>8995.216928</td>\n",
       "      <td>207752.0</td>\n",
       "      <td>9000.004</td>\n",
       "      <td>Adaptador Inalambrico Wifi Usb Red Noga NG-Uw0...</td>\n",
       "    </tr>\n",
       "    <tr>\n",
       "      <th>1050</th>\n",
       "      <td>IB-611</td>\n",
       "      <td>CARGADOR CABEZAL ADAPTADOR PUERTO USB + TYPE C...</td>\n",
       "      <td>1.0</td>\n",
       "      <td>3.63</td>\n",
       "      <td>8195.605023</td>\n",
       "      <td>225795.0</td>\n",
       "      <td>8200.000</td>\n",
       "      <td>Cargador</td>\n",
       "    </tr>\n",
       "    <tr>\n",
       "      <th>1469</th>\n",
       "      <td>HE89313</td>\n",
       "      <td>TRINO MICROSCOPIO kailiwei 10HT-B1 NEGRO + ADA...</td>\n",
       "      <td>1.0</td>\n",
       "      <td>241.85</td>\n",
       "      <td>444707.362329</td>\n",
       "      <td>183898.0</td>\n",
       "      <td>445000.000</td>\n",
       "      <td>TRINO MICROSCOPIO kailiwei 10HT-B1 NEGRO + ADA...</td>\n",
       "    </tr>\n",
       "    <tr>\n",
       "      <th>1484</th>\n",
       "      <td>M834</td>\n",
       "      <td>Tarjeta De Memoria Kingston 32gb C10 Canvas Se...</td>\n",
       "      <td>1.0</td>\n",
       "      <td>2.80</td>\n",
       "      <td>8496.611724</td>\n",
       "      <td>303471.0</td>\n",
       "      <td>8500.000</td>\n",
       "      <td>Tarjeta De Memoria Kingston 32gb C10 Canvas Se...</td>\n",
       "    </tr>\n",
       "  </tbody>\n",
       "</table>\n",
       "</div>"
      ]
     },
     "execution_count": 330,
     "metadata": {},
     "output_type": "execute_result"
    }
   ],
   "execution_count": 330
  },
  {
   "metadata": {
    "ExecuteTime": {
     "end_time": "2024-12-27T16:04:56.098667Z",
     "start_time": "2024-12-27T16:04:56.088196Z"
    }
   },
   "cell_type": "code",
   "source": [
    "# ver valores que no sean unicos en la cadena categoria\n",
    "df['Categoria'].value_counts()"
   ],
   "id": "dc6936875290fdf2",
   "outputs": [
    {
     "data": {
      "text/plain": [
       "Categoria\n",
       "Modulo                                                             127\n",
       "Bateria                                                            116\n",
       "Vidrio Glass                                                        96\n",
       "Cable                                                               80\n",
       "Modulo Original                                                     59\n",
       "                                                                  ... \n",
       "Transmisor Inalambrico Bluetooth Auto Manos Libres CarF7 TIPO C      1\n",
       "Xiaomi Mi Band 8 Pantalla 1.62 Pulgadas Malla Negra                  1\n",
       "ARTICULO NO ENCONTRADO EN LA LISTA                                   1\n",
       "011 QIANLI Cuchillas pulidas a mano                                  1\n",
       "RODILLO LAMINACION 7CM SILICONA BLANCO                               1\n",
       "Name: count, Length: 692, dtype: int64"
      ]
     },
     "execution_count": 331,
     "metadata": {},
     "output_type": "execute_result"
    }
   ],
   "execution_count": 331
  },
  {
   "metadata": {
    "ExecuteTime": {
     "end_time": "2024-12-27T16:04:56.473291Z",
     "start_time": "2024-12-27T16:04:56.461033Z"
    }
   },
   "cell_type": "code",
   "source": [
    "#ver valores con la cadena 'film glass' en la columna nombre del producto\n",
    "df[df['Nombre del Producto'].str.contains('film glass', case=False)]['Nombre del Producto'].unique()"
   ],
   "id": "e5499f99ca2060ba",
   "outputs": [
    {
     "data": {
      "text/plain": [
       "array(['FILM GLASS COMUN SAM A02 / A04 - A04E - A04s / A12 / M12 / A22 5G / A23 / A32 5G / MOTO E13 / E7 / E7I / E7I POWER /G10 / G20 / G30 / ONE FUSION / Tcl 10se / 20XE / 30SE / MI 9A',\n",
       "       'FILM GLASS 9D MOTO E7 PLUS / G9 PLAY',\n",
       "       'FILM GLASS COMUN SAM A11 / S20 FE / MOTO G13 / G23 / G31 /G41 / G71 / G52',\n",
       "       'FILM GLASS 9D SAM A21 / A71',\n",
       "       'FILM GLASS 9D SAM A20 / A30 / A30S / A50 / A50S',\n",
       "       'FILM GLASS 9D MOTO G20', 'FILM GLASS 9D SAM A71',\n",
       "       'FILM GLASS COMUN SAM A14',\n",
       "       'FILM GLASS COMUN SAM A20 / A30 / A30S / A50 / A50S',\n",
       "       'FILM GLASS 9D MOTO G9 POWER',\n",
       "       'FILM GLASS COMUN SAM A10 / A10S / MOTO G7 / G7 PLUS',\n",
       "       'FILM GLASS COMUN SAM A21S', 'FILM GLASS COMUN SAM A24',\n",
       "       'FILM GLASS COMUN SAM S21 FE',\n",
       "       'FILM GLASS 9D MOTO E20 / G10 / G20 / G30 / G50 / E7 / G9 PLAY / E7 PLUS / A22 5G / A02S / ONE FUSION / G8 POWER',\n",
       "       'FILM GLASS 9D SAM A22 4G / A31 / A32 4G',\n",
       "       'FILM GLASS COMUN IPHONE 11 / 11 PRO', 'FILM GLASS COMUN MOTO G8',\n",
       "       'FILM GLASS COMUN MOTO G8 PLUS', 'FILM GLASS COMUN SAM J7 NEO',\n",
       "       'FILM GLASS COMUN SAM J7 PRIME',\n",
       "       'FILM GLASS COMUN SAMSUNG J2 PRIME'], dtype=object)"
      ]
     },
     "execution_count": 332,
     "metadata": {},
     "output_type": "execute_result"
    }
   ],
   "execution_count": 332
  },
  {
   "metadata": {
    "ExecuteTime": {
     "end_time": "2024-12-27T16:04:56.967351Z",
     "start_time": "2024-12-27T16:04:56.959204Z"
    }
   },
   "cell_type": "code",
   "source": [
    "#agregar en la columna 'Categoria'  la cadena 'Film Glass' en cada fila si los valores  de la columna 'Nombre de Producto' tienen la cadena 'Film Glass' en su nombre\n",
    "df['Categoria'] = np.where(df['Nombre del Producto'].str.contains('film glass', case=False), 'Film Glass', df['Categoria'])"
   ],
   "id": "f106f4af2bd23fbf",
   "outputs": [],
   "execution_count": 333
  },
  {
   "metadata": {
    "ExecuteTime": {
     "end_time": "2024-12-27T16:04:57.212010Z",
     "start_time": "2024-12-27T16:04:57.201209Z"
    }
   },
   "cell_type": "code",
   "source": [
    "# ver valores con la cadena 'auricular' en la columna nombre del producto\n",
    "df[df['Nombre del Producto'].str.contains('auricular', case=False)]['Nombre del Producto'].unique()"
   ],
   "id": "1a81ce96063d2dc0",
   "outputs": [
    {
     "data": {
      "text/plain": [
       "array(['AURICULARES BT TIME AU-1322 COLORES',\n",
       "       'AURICULARES BT HAYLOU GT1 2022 5,2 / NEGRO',\n",
       "       'AURICULAR BOLSITA TIME EXCELENTE SONIDO AU-1235',\n",
       "       'Auriculares Bluetooth Gamer Xiaomi Redmi Buds 3 Lite Negro',\n",
       "       'AURICULARES AKG SAM S10+ EO-IG955 MG892 CAJA',\n",
       "       'AURICULARES BT F9-5',\n",
       "       'Auriculares BT Xiaomi Redmi Buds Essential Negro',\n",
       "       'AURICULAR CABLE SAMSUNG ORIGINAL RFTFB',\n",
       "       'Auriculares in-ear Xiaomi Mi Headphones Basic negro ZBW4354TY 36659',\n",
       "       'AURICULAR M-LIBRES TIME AU-1236 COLORES',\n",
       "       'AURICULARES BT XIAOMI REDMI BUDS 4 LITE / NEGRO',\n",
       "       'Auriculares inalambricos Haylou T Series MoriPods Blue',\n",
       "       'AURICULAR BT APDS MAX NEGRO',\n",
       "       'AURICULAR MOTOROLA EARBUDS 3-S NEGRO',\n",
       "       'AURICULAR TYPE C CON MICRÓFONO Y CONTROL DE VOLUMEN IBEK ER-T27',\n",
       "       'AURICULAR BT TIME ROSA Y LILA CROMADOS JS381',\n",
       "       'AURICULAR INALAMBRICO DIGITAL TIME AU-17004',\n",
       "       'AURICULARES BLUETOOTH 5,3 IN EAR DEHUKA E7s Negro',\n",
       "       'Auriculares BT HAYLOU X1 NEO - BLACK',\n",
       "       'AURICULAR BT AIRPODS WUW R128 BLANCO',\n",
       "       'AURICULAR BT APDS MAX AZUL', 'AURICULAR BT APDS MAX VERDE',\n",
       "       'AURICULAR BT TIME COLORES JS18',\n",
       "       'AURICULARES BT XIAOMI REDMI BUDS 4 ACTIVE / NEGRO',\n",
       "       'AURICULAR BT AIRPODS WUW R127 NEGRO',\n",
       "       'AURICULAR BT APDS MAX BLANCO',\n",
       "       'AURICULAR BT MANOS LIBRE MOTO BUDS 085 NEGRO',\n",
       "       'AURICULAR BT TIME ROSA Y NEGRO JS25',\n",
       "       'AURICULAR BT ULTRAPODS PRO IP4 AU-17006',\n",
       "       'AURICULAR JBL BLUETOOTH T720 NEGRO (5869)',\n",
       "       'AURICULAR M-LIBRES TIME AU-1238 COLORES',\n",
       "       'AURICULARES BT Haylou GT1 2023 / NEGRO',\n",
       "       'Auriculares Cable in-ear JBL C50HI Blanco',\n",
       "       'AURICULAR BT MANOS LIBRE MOTO BUDS 105',\n",
       "       'AURICULAR BT TIME NEGRO AU-17005',\n",
       "       'AURICULAR BT ULTRAPODS MAX IP4 AU-17007',\n",
       "       'AURICULAR BT VINCHA MOTOROLA  XT220 Negro',\n",
       "       'AURICULAR CABLE MAXXA A17+ COLORES',\n",
       "       'AURICULAR CON MICROFONO IBEK ER-23',\n",
       "       'AURICULAR CON MICROFONO IBEK ER-25',\n",
       "       'AURICULAR JBL WAVE FLEX TRULY WIRELESS NEGRO (3484)',\n",
       "       'AURICULAR M-LIBRES TIME AU-1237 COLORES',\n",
       "       'AURICULAR MANOS LIBRE EARBUDS 3 MOTOROLA TURQUESA',\n",
       "       'AURICULARES BT NOGA NG-BTWINS 26 TACTIL ROJO',\n",
       "       'Auricular Gamer Redragon Icon H530 / H520 Multiplataforma Pc Ps4',\n",
       "       'Auricular Gamer Redragon Lamia H320 Negro RGB',\n",
       "       'Auriculares Bluetooth LENOVO T50 - BLACK',\n",
       "       'Auriculares JBL Inalambricos Tune510BT Blue',\n",
       "       'HOLDER DE AURICULARES DINAX DX-HOLAUXT',\n",
       "       'AURICULAR BLUETOOTH DINAX DX-AURINA10',\n",
       "       'AURICULAR BLUETOOTH PANGPAI P29',\n",
       "       'AURICULAR BLUETOOTH SOUL SL1008',\n",
       "       'AURICULAR BLUETOOTH WST604 BLUE',\n",
       "       'AURICULAR BLUETOOTH WST604 RED',\n",
       "       'AURICULAR BT DE CONDUCCION OSEA JS7',\n",
       "       'AURICULAR BT MANOS LIBRE MOTO BUDS 150 NEGRO',\n",
       "       'AURICULAR BT MANOS LIBRE MOTO BUDS 250 NEGRO',\n",
       "       'AURICULAR BT TIME B Y N JS1', 'AURICULAR CABLE LG KM900E NEGRO',\n",
       "       'AURICULAR CABLE WUW R121 BLANCO',\n",
       "       'AURICULAR CON CABLE DINAX DX-AUPAS01',\n",
       "       'AURICULAR CON MICROFONO NAXIDO OH-901 DOBLE FICHA MINI PLUG',\n",
       "       'AURICULAR GAMER G635 LIGHTSYNC',\n",
       "       'AURICULAR GAMER Headset GM-003 360º Vibration sound',\n",
       "       'AURICULAR GAMER Only GM-889MV Micrófono Cable Altavoz ROJO',\n",
       "       'AURICULAR GAMER PARA PC Y PS4 H-1 PHOINKAS',\n",
       "       'AURICULAR INALAMBRICOS POP IT SUONO AUCX-M-PK',\n",
       "       'AURICULAR JBL ENDURANCE RACE INALAMBRICO NEGRO (3336)',\n",
       "       'AURICULAR JBL TUNE BUDS TWS AZUL',\n",
       "       'AURICULAR JBL WAVE BUDS TWS NEGRO (3521)',\n",
       "       'AURICULAR MANOS LIBRE IN-EAR PACE 105 MOTOROLA AZUL',\n",
       "       'AURICULAR MANOS LIBRE Samsung AKG Ficha Tipo C',\n",
       "       'AURICULAR VINCHA BLUETOOTH PREMIUM MAXXA M33 CELESTE',\n",
       "       'AURICULAR VINCHA CABLE MAXXA V45 COLORES',\n",
       "       'AURICULAR VINCHA H151 LOGITECH',\n",
       "       'AURICULARES BLUETOOTH 5,3 IN EAR DEHUKA E7s Blanco',\n",
       "       'AURICULARES BLUETOOTH VINCHA EJ-P202', 'AURICULARES BT IBEK AIR3',\n",
       "       'AURICULARES BT IBEK AIR5', 'AURICULARES BT PUXIDA G9S',\n",
       "       'AURICULARES JBL QUANTUM200 BLACK GAMER',\n",
       "       'AURICULARES NOGA BT TWINS GAMING LOW LATENCY NGX-BTWINS 5',\n",
       "       'AURICULARES NOGA TWINS BT BLANCO NG-BTWINS 24',\n",
       "       'AURICULARES SAMSUNG J5 BLANCO',\n",
       "       'AURICULARES XIAOMI MI TRUE EARPHONES 2 BASIC',\n",
       "       'Auricular Bluetooth NIA Q8-851S Manos Libres Entrada auxiliar MicroSd y Radio FM VIR-1219',\n",
       "       'Auricular Bt Sport Extra Bass Seisa Ej-p7235 COLORES',\n",
       "       'Auricular CON Vincha en metal y simil cuero 2000X Cable desmontable y microfono VIR-1222',\n",
       "       'Auricular Gamer Redragon ARES H120 PC PS4 XBOX',\n",
       "       'Auricular Gamer Redragon Zeus X Usb Rgb 7.1 Luces h510',\n",
       "       'Auricular Interno Speaker Moto G5S Plus',\n",
       "       'Auricular Manos libres Time AR 1220',\n",
       "       'Auricular Vincha BT Haylou S35 Anc  / Gamer Diadema Con Cable / Cancelación De Ruido / Llamadas De Voz Hd / Control Tacti/ Bluetooth 5,2  Azul Oscuro',\n",
       "       'Auriculares BT HAYLOU GAMING G3 G003 - BLACK',\n",
       "       'Auriculares BT In-ear Xiaomi Redmi Buds 4 BLANCO',\n",
       "       'Auriculares BT JBL TUNE205BT - BLUE',\n",
       "       'Auriculares BT JBL VIBE BUDS - WHITE',\n",
       "       'Auriculares Bluetooth Qcy HT07 ARCBUDS - BLACK',\n",
       "       'Auriculares Bluetooth Qcy T13 Android Ios',\n",
       "       'Auriculares Gamer Lenovo Hu75 Con Led Multicolor RGB',\n",
       "       'Auriculares KZ-EDC Negro Con Microfono',\n",
       "       'Auriculares Logitech inalambricos G Series G435 LIGHTSPEED Blanco 981-001073',\n",
       "       'Auriculares Y Parlantes Bluetooth 2 En 1 West Hybrid V-75',\n",
       "       'Auriculares in-ear JBL Tune110 JBLT110 Banco',\n",
       "       'SOPORTE AURICULARES GAMER METALICO ALUMINIO BASE STAND',\n",
       "       'Touch Samsung Tab 3 SM-T111 (solo BLANCO) RANURA AURICULAR',\n",
       "       'AURICULARES BT 5.0 SUONO ESTUCHE DE CARGA',\n",
       "       'AURICULARES NOGA TWINS BT ROJO NG-BTWINS 24'], dtype=object)"
      ]
     },
     "execution_count": 334,
     "metadata": {},
     "output_type": "execute_result"
    }
   ],
   "execution_count": 334
  },
  {
   "metadata": {
    "ExecuteTime": {
     "end_time": "2024-12-27T16:04:57.544866Z",
     "start_time": "2024-12-27T16:04:57.530536Z"
    }
   },
   "cell_type": "code",
   "source": [
    "#agregar en la columna 'Categoria'  la cadena 'Auricular' en cada fila si los valores  de la columna 'Nombre de Producto' tienen la cadena 'Auricular' en su nombre y si no tienen las siguientes cadenas: SOPORTE y Touch\n",
    "df['Categoria'] = np.where(df['Nombre del Producto'].str.contains('auricular', case=False) & ~df['Nombre del Producto'].str.contains('SOPORTE|Touch', case=False), 'Auricular', df['Categoria'])\n"
   ],
   "id": "1983b8f54edf09da",
   "outputs": [],
   "execution_count": 335
  },
  {
   "metadata": {
    "ExecuteTime": {
     "end_time": "2024-12-27T16:04:57.697544Z",
     "start_time": "2024-12-27T16:04:57.620025Z"
    }
   },
   "cell_type": "code",
   "source": [
    "#ver fila de la columna nombre de producto con la cadena 'auricular' y el valor de la columna categoria sea igual a la columna nombre de producto\n",
    "df[(df['Nombre del Producto'].str.contains('auricular', case=False)) & (df['Categoria'] != 'Auricular')]"
   ],
   "id": "56104cbf36ef1dab",
   "outputs": [
    {
     "data": {
      "text/plain": [
       "      Código                                Nombre del Producto  Cantidad  \\\n",
       "1438   A1007  SOPORTE AURICULARES GAMER METALICO ALUMINIO BA...       1.0   \n",
       "1498  RT1100  Touch Samsung Tab 3 SM-T111 (solo BLANCO) RANU...       1.0   \n",
       "\n",
       "      Costo total      Ganancia  Ganancia prom. %  Venta total  \\\n",
       "1438         3.77   4495.438300          119263.0       4500.0   \n",
       "1498         8.16  14990.980879          183724.0      15000.0   \n",
       "\n",
       "                                              Categoria  \n",
       "1438  SOPORTE AURICULARES GAMER METALICO ALUMINIO BA...  \n",
       "1498  Touch Samsung Tab 3 SM-T111 (solo BLANCO) RANU...  "
      ],
      "text/html": [
       "<div>\n",
       "<style scoped>\n",
       "    .dataframe tbody tr th:only-of-type {\n",
       "        vertical-align: middle;\n",
       "    }\n",
       "\n",
       "    .dataframe tbody tr th {\n",
       "        vertical-align: top;\n",
       "    }\n",
       "\n",
       "    .dataframe thead th {\n",
       "        text-align: right;\n",
       "    }\n",
       "</style>\n",
       "<table border=\"1\" class=\"dataframe\">\n",
       "  <thead>\n",
       "    <tr style=\"text-align: right;\">\n",
       "      <th></th>\n",
       "      <th>Código</th>\n",
       "      <th>Nombre del Producto</th>\n",
       "      <th>Cantidad</th>\n",
       "      <th>Costo total</th>\n",
       "      <th>Ganancia</th>\n",
       "      <th>Ganancia prom. %</th>\n",
       "      <th>Venta total</th>\n",
       "      <th>Categoria</th>\n",
       "    </tr>\n",
       "  </thead>\n",
       "  <tbody>\n",
       "    <tr>\n",
       "      <th>1438</th>\n",
       "      <td>A1007</td>\n",
       "      <td>SOPORTE AURICULARES GAMER METALICO ALUMINIO BA...</td>\n",
       "      <td>1.0</td>\n",
       "      <td>3.77</td>\n",
       "      <td>4495.438300</td>\n",
       "      <td>119263.0</td>\n",
       "      <td>4500.0</td>\n",
       "      <td>SOPORTE AURICULARES GAMER METALICO ALUMINIO BA...</td>\n",
       "    </tr>\n",
       "    <tr>\n",
       "      <th>1498</th>\n",
       "      <td>RT1100</td>\n",
       "      <td>Touch Samsung Tab 3 SM-T111 (solo BLANCO) RANU...</td>\n",
       "      <td>1.0</td>\n",
       "      <td>8.16</td>\n",
       "      <td>14990.980879</td>\n",
       "      <td>183724.0</td>\n",
       "      <td>15000.0</td>\n",
       "      <td>Touch Samsung Tab 3 SM-T111 (solo BLANCO) RANU...</td>\n",
       "    </tr>\n",
       "  </tbody>\n",
       "</table>\n",
       "</div>"
      ]
     },
     "execution_count": 336,
     "metadata": {},
     "output_type": "execute_result"
    }
   ],
   "execution_count": 336
  },
  {
   "metadata": {
    "ExecuteTime": {
     "end_time": "2024-12-27T16:04:57.874102Z",
     "start_time": "2024-12-27T16:04:57.788287Z"
    }
   },
   "cell_type": "code",
   "source": [
    "# ver valores con la cadena Joystick\n",
    "df[df['Nombre del Producto'].str.contains('joystick', case=False)]['Nombre del Producto'].unique()"
   ],
   "id": "97974629f4af28c",
   "outputs": [
    {
     "data": {
      "text/plain": [
       "array(['JOYSTICK XBOX 360 / PC CON CABLE 52A NJX301',\n",
       "       'JOYSTICK INALAMBRICO SEISA SJ-913 COLORES PC / PS2 / PS3 / PC / X360 / ANDROID / A PILAS',\n",
       "       'Joystick Bluetooth Con Soporte para Celular Seisa SJ-A1006',\n",
       "       'ANALOGO JOYSTICK REPUESTO PS4 PS5 XBOX ONE',\n",
       "       'JOYSTICK PLAYSTATION PS4 DUALSHOCK COLORES WB-6',\n",
       "       'JOYSTICK PLAYSTATION PS4 TIME CAMUFALDOS JOY-61012',\n",
       "       'JOYSTICK XBOX 360/PC/ANDROID INALAMBRICO + DONGLE NJX312',\n",
       "       'Joystick Redragon Inalambrico Harrow PRO G808-PRO Pc - Ps3*',\n",
       "       'Joystick Redragon Saturn G807 Windows/Ps3 negro',\n",
       "       'Analogico Nintendo Switch Joy-Con Joystick Repuesto Original',\n",
       "       'CABLE CARGA Y JUEGA JOYSTICK XBOX 360',\n",
       "       'Consola 400 EN 1 Con JOYSTICK 400 Juegos co1084',\n",
       "       'FILM MEMBRANA CONDUCTOR JOYSTICK PS4 JDM-040',\n",
       "       'JOYSTICK INALAMBRICO PS5  DUAL SENSE MIDNIGHT BLACK CFI-ZCT1W',\n",
       "       'JOYSTICK PS2 DUAL SHOCK NIPPON ALTO RENDIMIENTO NG2121',\n",
       "       'JOYSTICK PS3 INALAMBRICO NIPPON',\n",
       "       'JOYSTICK PS3 SIN MARCA COLORES JS3',\n",
       "       'JOYSTICK XBOX ONE SERIE S/X / PC ELECTRIC VOLT',\n",
       "       'JOYSTICK XBOX ONE SERIE S/X / PC SHOCK BLUE QAU-00001',\n",
       "       'Joystick Inalambrico Bt / Nintendo Switch / PC / PlayStation 3 / Smartphones  SW-11 Colores',\n",
       "       'Joystick PS3 Bluetooth Sony Dualshock 3 SIMIL O',\n",
       "       'Joystick PS4 Bluetooth bateria recargable ROJO NM-P401-R',\n",
       "       'Joystick Redragon Inalambrico Harrow G808 Pc - Ps3',\n",
       "       'CONSOLA 8 BITS CON JOYSTICK Y 800 JUEGOS QF-G4 (g3)',\n",
       "       'Consola Alien 16bits HDMI + 2 joysticks inalambricos',\n",
       "       'Consola Xbox Series S 512gb Blanca Fornite Rocket League + Monedas + 1 Joystick',\n",
       "       'Gatillos Gamepad Joystick W11+ Para Celular Free Fire Fortnite',\n",
       "       'JOYSTICK ARCADE PS2 PS3 PC NJP308',\n",
       "       'JOYSTICK INALAMBRICO 2.4G POR 2 UNIDADES EN 1 PARA PC A PILAS NJP502',\n",
       "       'JOYSTICK Inalambrico Recargable AITECH C6 con soporte Celular',\n",
       "       'JOYSTICK PLAYSTATION PS4 DIBUJO / PERSONAJE WB-4',\n",
       "       'JOYSTICK PLAYSTATION PS4 ORIGINAL CAMUFLADO CUH-ZCT2U',\n",
       "       'JOYSTICK PS4 (S) INTER MIAMI MESSI',\n",
       "       'JOYSTICK XBOX ONE SERIE S/X / PC GREEN',\n",
       "       'JOYSTICK XBOX ONE SERIE S/X / PC PULSE RED QAU-00011',\n",
       "       'Joystick 4 Gatillos Para Celular Con Cooler Seisa H9.0',\n",
       "       'Joystick Bluetooth Seisa PS4 SJ-4013B',\n",
       "       'Joystick Gamepad Switch/Pc/Ps3/Android Inalambrico NETMAK NM-MAGNUM',\n",
       "       'Joystick PS4 Bluetooth SEISA SJ-4011B',\n",
       "       'Joystick T-Dagger Aries PC T-TGP500 Con Cable Usb / Pc / Ps3',\n",
       "       'SOPORTE DE CARGADOR PARA PS5 JOYSTICK SND-463',\n",
       "       'CONSOLA G7 GAME BOX 3.5 PLG CON JOYSTICK'], dtype=object)"
      ]
     },
     "execution_count": 337,
     "metadata": {},
     "output_type": "execute_result"
    }
   ],
   "execution_count": 337
  },
  {
   "metadata": {
    "ExecuteTime": {
     "end_time": "2024-12-27T16:04:58.226956Z",
     "start_time": "2024-12-27T16:04:58.210823Z"
    }
   },
   "cell_type": "code",
   "source": [
    "#agregar en la columna 'Categoria'  la cadena 'Joystick' en cada fila si los valores  de la columna 'Nombre de Producto' tienen la cadena 'Joystick' en su nombre y si no tienen las siguientes cadenas: analogico, analogo, membrana, consola, gatillos y soporte\n",
    "df['Categoria'] = np.where(df['Nombre del Producto'].str.contains('joystick', case=False) & ~df['Nombre del Producto'].str.contains('analogico|analogo|membrana|consola|soporte', case=False), 'Joystick', df['Categoria'])"
   ],
   "id": "e2b08c56c90256a0",
   "outputs": [],
   "execution_count": 338
  },
  {
   "metadata": {
    "ExecuteTime": {
     "end_time": "2024-12-27T16:04:58.516737Z",
     "start_time": "2024-12-27T16:04:58.507950Z"
    }
   },
   "cell_type": "code",
   "source": [
    "#ver valores con la palabra film glass en la columna nombre del producto\n",
    "df[df['Nombre del Producto'].str.contains('film glass', case=False)]['Nombre del Producto'].unique()"
   ],
   "id": "754a3e181b7203b8",
   "outputs": [
    {
     "data": {
      "text/plain": [
       "array(['FILM GLASS COMUN SAM A02 / A04 - A04E - A04s / A12 / M12 / A22 5G / A23 / A32 5G / MOTO E13 / E7 / E7I / E7I POWER /G10 / G20 / G30 / ONE FUSION / Tcl 10se / 20XE / 30SE / MI 9A',\n",
       "       'FILM GLASS 9D MOTO E7 PLUS / G9 PLAY',\n",
       "       'FILM GLASS COMUN SAM A11 / S20 FE / MOTO G13 / G23 / G31 /G41 / G71 / G52',\n",
       "       'FILM GLASS 9D SAM A21 / A71',\n",
       "       'FILM GLASS 9D SAM A20 / A30 / A30S / A50 / A50S',\n",
       "       'FILM GLASS 9D MOTO G20', 'FILM GLASS 9D SAM A71',\n",
       "       'FILM GLASS COMUN SAM A14',\n",
       "       'FILM GLASS COMUN SAM A20 / A30 / A30S / A50 / A50S',\n",
       "       'FILM GLASS 9D MOTO G9 POWER',\n",
       "       'FILM GLASS COMUN SAM A10 / A10S / MOTO G7 / G7 PLUS',\n",
       "       'FILM GLASS COMUN SAM A21S', 'FILM GLASS COMUN SAM A24',\n",
       "       'FILM GLASS COMUN SAM S21 FE',\n",
       "       'FILM GLASS 9D MOTO E20 / G10 / G20 / G30 / G50 / E7 / G9 PLAY / E7 PLUS / A22 5G / A02S / ONE FUSION / G8 POWER',\n",
       "       'FILM GLASS 9D SAM A22 4G / A31 / A32 4G',\n",
       "       'FILM GLASS COMUN IPHONE 11 / 11 PRO', 'FILM GLASS COMUN MOTO G8',\n",
       "       'FILM GLASS COMUN MOTO G8 PLUS', 'FILM GLASS COMUN SAM J7 NEO',\n",
       "       'FILM GLASS COMUN SAM J7 PRIME',\n",
       "       'FILM GLASS COMUN SAMSUNG J2 PRIME'], dtype=object)"
      ]
     },
     "execution_count": 339,
     "metadata": {},
     "output_type": "execute_result"
    }
   ],
   "execution_count": 339
  },
  {
   "metadata": {
    "ExecuteTime": {
     "end_time": "2024-12-27T16:04:58.677884Z",
     "start_time": "2024-12-27T16:04:58.670288Z"
    }
   },
   "cell_type": "code",
   "source": [
    "#agregar en la columna 'Categoria'  la cadena 'Film Glass' en cada fila si los valores  de la columna 'Nombre de Producto' tienen la cadena 'Film Glass' en su nombre\n",
    "df['Categoria'] = np.where(df['Nombre del Producto'].str.contains('film glass', case=False), 'Film Glass', df['Categoria'])"
   ],
   "id": "661f0879fc4eefd0",
   "outputs": [],
   "execution_count": 340
  },
  {
   "metadata": {
    "ExecuteTime": {
     "end_time": "2024-12-27T16:04:58.860538Z",
     "start_time": "2024-12-27T16:04:58.811530Z"
    }
   },
   "cell_type": "code",
   "source": [
    "#ver filas con valores unicos en la cololumna categoria y ordenar por abecedario\n",
    "df['Categoria'].unique()"
   ],
   "id": "5fc5d6bf14508a77",
   "outputs": [
    {
     "data": {
      "text/plain": [
       "array(['Vidrio Glass', 'Pila', 'Cable', 'Pin Carga', 'Servicio Tecnico',\n",
       "       'PASTA TERMICA GRASA SILICONADA ARCTIC MX-4 4G ALTA POTENCIA',\n",
       "       'Modulo', 'Bateria',\n",
       "       'FLUX JERINGA 100% Organico NO TOXICO 10cc - EL REPA',\n",
       "       'Modulo Original', 'CAJA PLASTICA ALMACENAMIENTO PLACA SS001A',\n",
       "       'Consola',\n",
       "       'LAMINA POLARIZADORA PARA LCD - IPS DE 12\" (90 GRADOS) GLA.05204',\n",
       "       'Adaptador', 'Cargador', 'Mouse',\n",
       "       'Malla Silicona Para Xiaomi Mi Band 5/ Band 6/ Band 7 NEGRO M5/M6',\n",
       "       'PEGAMENTO PARA PANTALLA CELULAR B7000 110ML TRANSPARENTE MECHANIC',\n",
       "       'BOTELLA PLASTICA (con aguja) RL-054\\xa0', 'Film Glass',\n",
       "       'CONVERSOR HDMI A VGA CON CABLE AUDIO SM-C7819',\n",
       "       'TACTIL SAM J2 PRIME SYLVER', 'Auricular',\n",
       "       'HILO SEPARADOR LCD de tungsteno 0,03mm - SS-051\\xa0',\n",
       "       'Tarjeta de memoria SanDisk Ultra SD 16GB C10',\n",
       "       'Tarjeta de memoria SanDisk Ultra SD 32GB C10', 'CHIP PERSONAL',\n",
       "       'Microfono Respuesto Samsung J1 J2 J5 J7 J110 J7 Pro Prime',\n",
       "       'Chromecast Google Tv HD 8gb Blanco Con Control / Sin Fuente Ga03131',\n",
       "       'MANGO REMOVEDOR PEGAMENTO RELIFE RL101B',\n",
       "       'Aro Luz Led 30CM RGB + Tripode 2.1m HX-MJ30 / QX-260',\n",
       "       'KIT COMBO TECLADO Y MOUSE INALMBRICO 2.4G SLIM BLANCO DN-H263',\n",
       "       'LAMINA OCA 250UM 10\"',\n",
       "       'Malla Silicona Para Samsung Fit 2 Negro SM-R220',\n",
       "       'TRANSFORMADOR FUENTE TIRA DE LED CCTV CAMARAS 12V 2A (3157A)',\n",
       "       'CONTADORA DE BILLETES GLOBAL CARGA SUPERIOR / VISOR DIGITAL Y EXTERNO / DETECCION DE BILLETES FALSOS - GLOBAL BILLCOUNTER-1',\n",
       "       'ESPATULA ULTRAFINA PARA APERTURA X20 DESARME MECHANIC',\n",
       "       'Joystick',\n",
       "       'MICROFONO INALAMBRICO CORBATERO TIPO-C CON CAJITA J11-TC',\n",
       "       'Pendrive Patriot 64gb Supersonico Rage Lite Usb 3.2 Gen 1 Pef64grlb32',\n",
       "       'RELIFE STENCIL UNIVERSAL MULTIPROPOSITO',\n",
       "       'CARCASA EXTERNA PARA DISCO RIGIDO 2.5 CON CABLE 3,0 / DX-1CAREXT2',\n",
       "       'CASE PARA DISCO RIGIDO 2.5 - 2.0 DN-K2502',\n",
       "       'ESTAÑO EN HILO WUZIP ROLLO 80G 35/65 0.6MM',\n",
       "       'Lapiz Optico Doble Punta Para Smartphone Tablet O Celular Punta Fina Y Redonda',\n",
       "       'MALLA DESOLDANTE MECHANIC R300 / 2015',\n",
       "       'PEGAMENTO PARA PANTALLA CELULAR T7000 110ML / NEGRO MECHANIC',\n",
       "       'Parlante', 'Pulsera Antiestatica Con Cable',\n",
       "       'ALCOHOL ISOPROPILICO ALTA PUREZA DELTA 1 LITRO PHXL',\n",
       "       'CABEZAL PARA IPHONE 20W TIPO C MU7U2LL/A',\n",
       "       'CEPILLO DOBLE SUNSHINE - SS022B', 'CINTA DOBLE FAZ 3mm x 55M',\n",
       "       'Disco Solido SSD 480GB KINGSTON A400 SATAIII 2.5',\n",
       "       'Joystick Bluetooth Con Soporte para Celular Seisa SJ-A1006',\n",
       "       'KIT MOUSE Y TECLADO INALAMBRICO EZRA KB03',\n",
       "       'LAMINA OCA 250UM 15\"',\n",
       "       'Limpia Pantallas Screen Cleaner 120 cc Incluye Paños Chemitec',\n",
       "       'REMOVEDOR GEL UV Y LAMINA OCA 100CC',\n",
       "       'Receptor BT Bluetooth USB 5,0',\n",
       "       'Tarjeta De Memoria Kingston 64gb Canvas Select Con Adaptador C10',\n",
       "       'Tarjeta de memoria Sd 128gb Clase 10 Patriot V30 / 4K / 90mb/s',\n",
       "       'Aro Luz Led 26cm Blanco Frio Calido + Tripode 2.1m QX-260 / S26',\n",
       "       'CHIP CLARO', 'CONVERSOR DE AUDIO OPTICO A RCA AUDIO SM-C7812',\n",
       "       'CUBRE DEDOS X2 PUBG COD MOBILE FREEFIRE ANTI-SWEAT CELULAR WN-Z12',\n",
       "       'Fpc Compatible Con Samsung A02 / A12 / A22 / A32 / A52 / A72 / 78 Pines ',\n",
       "       'LAMINA POLARIZADORA PARA LCD - IPS DE 10\" (180 GRADOS)',\n",
       "       'LAMPARA DE MESA CON BRAZO LARGO DE METAL ESTILO AMERICANO MT-811',\n",
       "       'Lapiz optico R06 METAL', 'MALLA DESOLDANTE RELIFE - RL2030',\n",
       "       'MALLA REPUESTO PARA RELOJ 22mm AZUL',\n",
       "       'MINI DRILL IR14 CON DISPLAY 6 EN 1 - MECHANIC',\n",
       "       'PENDRIVE KINGSTON 3.2 dtx 128Gb Exodia Negro/Amarillo',\n",
       "       'Placa de Carga', 'SOPORTE TV FIJO 26 A 55 DINAX DX-STVF2655',\n",
       "       'Soporte De Celular Para Auto Noga Rejilla NG-Hold2',\n",
       "       'ACTIVADOR Y CARGADOR DE BATERIA ER-BA19',\n",
       "       'CELULAR NOKIA 106 Dual SIM 4 MB RAM GRIS OSCURO',\n",
       "       'Conversor Display Port A a HDMI Full HD 1080p Netmak NM-C102',\n",
       "       'JUGO DE PITUFO 1 LITRO - REMOVEDOR DE SULFATO ',\n",
       "       'KIT TECLADO Y MOUSE 2,4G INALAMBRICO ULTRA DELGADO NEGRO K-06',\n",
       "       'LAMINA OCA 250UM 12\"',\n",
       "       'MALLA NYLON VELCRO LOOP 42/44 MM - 255 MM COLORES',\n",
       "       'Memoria DDR3 Markvision 8Gb 1600 MHz 1.35V BULK (6259)',\n",
       "       'PALITO METALICO DE APERTURA PUA RELIFE - RL050',\n",
       "       'PLACA USB/WIFI 150M CON ANTENA 5DBI DNW150U2',\n",
       "       'Pen Drive KINGSTON 32GB USB 3.2 DTXM EXODIA M NEGRO',\n",
       "       'Pen Drive Sandisk Cruzer Blade 128gb',\n",
       "       'RESINA - ROSIN para detectar cortos',\n",
       "       'SOPORTE TV MOVIL CON BRAZO 26 A 55 SEISA GJ-CP303', 'Tapa',\n",
       "       'Teclado Y Mouse Inalambrico Bluetooth - Slim - Recargable Rdkm-906 ROSA',\n",
       "       'BASTON SELFI STICK 3 GEN. QUALITY BLUETOOH 78 CM CON CABLE',\n",
       "       'DOCK FLEX TEST (TIPO C)\\xa0',\n",
       "       'ESTAÑO EN PASTA 138 - 40g - WUZIP ',\n",
       "       'Fpc Compatible Con Samsung A04 / 40 Pines',\n",
       "       'Fpc Para Samsung A30s / A31 / A51 / A70 / A71 / A80 / 78 Pines  ',\n",
       "       'KIT DESTORNILLADORES PARA CELULARES YAXUN YX-6029',\n",
       "       'Kit Destornilladores Yaxun YX6028 Tablet Celular',\n",
       "       'LAMINA POLARIZADORA PARA AMOLED OLED 10\"',\n",
       "       'MALLA SILICONA DEPORTIVA 20MM NEGRO/ROJO',\n",
       "       'Malla Nylon Para Xiaomi Mi Band 7 Negro',\n",
       "       'Malla Silicona Para Xiaomi Mi Band 5/ Band 6/ Band 7 AZUL M5/M6',\n",
       "       'Microfono Corbatero Inalambrico -  Ficha tipo C / K8',\n",
       "       'PUNTA DE SOLDADOR MECHANIC BLACK 900M-T-IS 8348',\n",
       "       'Punta Para Estación Soldado T12 KU (cuchilla fina)',\n",
       "       'SOPORTE CELULAR MULTIFUNCION LG-002',\n",
       "       'SOPORTE TV FIJO 14 A 42 DELHIP DL-FJ1442',\n",
       "       'Soldador De 40w Punta De Ceramica ZD-40 Megalite',\n",
       "       'TRIPODE PARA CELULARES O CAMARAS DE HASTA 1,02 MTS SKY TR8',\n",
       "       'TRIPODE PARA CELULARES O CAMARAS DE HASTA 1,40 MTS SKY TR9',\n",
       "       'ANALOGO JOYSTICK REPUESTO PS4 PS5 XBOX ONE',\n",
       "       'CASE DISCO 3.0 Seisa Tranparente Dn-k209', 'CINTA KAPTON 15mm',\n",
       "       'Destornillador Mechanic Imini S2 +1,5 05271',\n",
       "       'Disco Solido SSD 240GB KINGSTON A400 SATAIII 2.5',\n",
       "       'ESPEJO LED LUZ FRIA A PILA Y USB ESP-91013',\n",
       "       'ESTABILIZADOR KIT CON LUZ Y MICROFONO AY-49U',\n",
       "       'ESTAÑO EN PASTA 183 GRADOS GSMSOURCES',\n",
       "       'EXTENSOR / REPETIDOR KANJI KJN-RP4200B 4 ANTENAS',\n",
       "       'Espatula Profesional Ultrafina Mechanic X10',\n",
       "       'FLEX INTERCONEXION SAM A50 NO. 2',\n",
       "       'FUENTE UNIVERSAL 9V 1,5A DOBLE FICHA  ROUTER / PARLANTES EC9V15A',\n",
       "       'Fuente PC Noga ATX-550 24 Pines P4 550W ATX 550 P4',\n",
       "       'HILO JUMPER 0.007 Superfine Silver (NO AISLADO) - SS007E',\n",
       "       'HILO JUMPER 0.01 (AISLADO) - SS007D\\xa0',\n",
       "       'HUB 4 PUERTOS USB 1MTS DINAX DX-HUB1M',\n",
       "       'LENTE CAMARA IPHONE 11 12 12 Mini X2 U',\n",
       "       'Lapiz optico Pen Stylus JAZAK WK24 / Compatible con todo tipo de tablets Android o Ipad',\n",
       "       'Lector De Memoria Micro SD NO:2400',\n",
       "       'Malla Deportiva Silicona Para Xiaomi Mi Band 5 / 6 / 7 Negro con Rojo',\n",
       "       'PAD TERMICO URANUS TP-U1 50X50X1.0MM 12W/MK ALTO RENDIMIENTO',\n",
       "       'PINZA BRUCELA SAK-11 RECTA Mechanic',\n",
       "       'PINZA BRUCELA SAK-15 CURVA Mechanic',\n",
       "       'PLANCHA SEPARADORA LCD GTOOL 988A CON SUCCION\\xa0+ PAD GOMA',\n",
       "       'PUNTAS FINAS GOLD MULTIMETRO SS024A',\n",
       "       'Pen Drive HIKSEMI 64Gb M200S Rotary USB 3.0 (6942)',\n",
       "       'Pen Drive KINGSTON 32GB USB 3.2 DTX EXODIA NEGRO',\n",
       "       'Plancha Separadora de Glass HEADFOX MC958',\n",
       "       'RECEPTOR DE AUDIO BLUETOOTH BT350 BT-350 or 146838',\n",
       "       'Receptor USB NANO Wireless WIFI AC600 Dual band Tp-Link T2U NANO',\n",
       "       'SET X3 SPUDGER METALICOS KIT RL065', 'SOPLADOR RL043A RELIFE',\n",
       "       'SOPORTE PARA CELULAR / TABLET - SA18 NEGRO GM-4217NE',\n",
       "       'SOPORTE TV DOBLE BRAZO MOVIL GLOBAL 30 A 60 INCLINACION 5±10° HASTA 35KG KIT DE INSTALACION TVS-ARM2-30-60I',\n",
       "       'Teclado',\n",
       "       'Teclado Y Mouse Inalambrico Bluetooth - Slim / Recargable Rdkm-906 NEGRO',\n",
       "       'USB TESTER - SS302A\\xa0', 'ALICATE RELIFE RL-113',\n",
       "       'Aguja metalica para jeringa de flux o estaño',\n",
       "       'Antena Externa Adaptador Usb Wifi Placa Red Lan 802 N Gb',\n",
       "       'CAMARA SMART IP 720P DINAX DX-CAMSMAIP', 'COOLER NAXIDO RGB 12CM',\n",
       "       'Camara de Seguridad', 'Cepillo Doble Wuzip - Azul EBB-003',\n",
       "       'Desoldador A Piston Chupador De Estaño Metalico',\n",
       "       'Disco Solido SSD 128GB PATRIOT P220 2.5\" SATA',\n",
       "       'Disco Solido SSD 1TB PATRIOT P210 Sata',\n",
       "       'Disco Solido SSD 480GB  ADATA SU630 Sata',\n",
       "       'EMBOLO PARA JERINGA DE ALUMINIO P08 para jeringa de 10cc ',\n",
       "       'ESPATULA PARA REBALLING Y APERTURA - JM-Z12\\xa00',\n",
       "       'ESTABILIZADOR DE TENSION ATOMLUX R500@ 220V 6 TOMAS 500VA',\n",
       "       'ESTAÑO EN PASTA 183 - 40g - WUZIP',\n",
       "       'ESTAÑO EN PASTA SP-X SOLDER PASTE 158 GRADOS G-LON\\xa0',\n",
       "       'Espatula Profesional De Desmontaje De Baterias X12 Mechanic',\n",
       "       'Estabilizador Surelectric Future 6 Bocas 220v-1000va (0017)',\n",
       "       'Estacion De Soldado Lapiz Cautin Con Regulador 936D+ 400 Grados 60W',\n",
       "       'FLEX DE CARGA IPHONE 6S WHITE',\n",
       "       'FLEX DE CARGA IPHONE 8 PLUS WHITE/BLACK',\n",
       "       'FLEX INTERCONEXION SAMSUNG A52',\n",
       "       'FUNDA PORTA NOTEBOOK 13 PULGADAS CON BOLSILLO / GRIS / DEHUKA',\n",
       "       'FUNDA PORTA NOTEBOOK 15.6 AZUL CDTEK',\n",
       "       'FUNDA PORTA NOTEBOOK PIERRE CARDIN PC-3011MED',\n",
       "       'Film Vidrio Templado CAMARA FULL Para Iphone 13 / 13 MINI / 14 PRO / 11 / 11 Pro / 11 Pro Max 51566',\n",
       "       'KIT DESTORNILLADORES SS-5106 PARA iPHONE 7 (4 pcs)\\xa0',\n",
       "       'Kit Destornilladores Yaxun YX6310 Tablet Celular',\n",
       "       'Kit de Teclado y Mouse inalambrico Logitech MK220 920-004430',\n",
       "       'LAMPARA ARTICULADA DE ESCRITORIO PIXAR OR-L01 ',\n",
       "       'LAMPARA UV usb - RL-014', 'LENTE CAMARA IPHONE X',\n",
       "       'LIMPIADOR PUNTA CAUTIN - GOLD - ESPONJA METALICA ss-599b',\n",
       "       'Lapiz optico TARGUS MAGNETICO 5\" AMM168GLX',\n",
       "       'Lector De Memorias Sd Micro Sd A Usb',\n",
       "       'MALLA DESOLDANTE MECHANIC R350 / 1515',\n",
       "       'MALLA DESOLDANTE RELIFE - RL1515',\n",
       "       'Malla Deportiva Silicona Para Xiaomi Mi Band 5 / 6 / 7 Negro con Amarillo',\n",
       "       'NEON RGB KIT LED-3535NH72TZ-12V-RGB 5M',\n",
       "       'PINZA BRUCELA ESD-11 RECTA HQ Mechanic',\n",
       "       'PINZA BRUCELA ST-15 CURVA ANTIESTATICA Mechanic',\n",
       "       'PLACA DE SONIDO USB DX-PLSON71 DINAX',\n",
       "       'PLACA USB/WIFI 150M CON ANTENA DN-W150U3 or 135145',\n",
       "       'PUNTA DE SOLDADOR MECHANIC 900M-T-FS 8341',\n",
       "       'Pad Liso De Caucho Y Corcho Cmp213',\n",
       "       'Pasta Grasa Siliconada Metalica X 5 Cc. Servex 91009',\n",
       "       'Paños limpieza wipes rl-045',\n",
       "       'Punta Para Estacion Soldado T12 J02 (curva)',\n",
       "       'RADIO RETRO AM FM CON LINTERNA / BLUETOOTH SEISA YX-119UBT',\n",
       "       'REMOVEDOR DE GOMA Q5000 100MM',\n",
       "       'ROUTER TP-LINK TL-WR850N WISP 2 ANTENAS 2.5DBI 300MBPS',\n",
       "       'Radio Retro Am Fm Con Linterna Y Bluetooth Seisa YX-123UBT',\n",
       "       'SERV TEC PIN', 'SERV TEC TACTIL Y LCD', 'SEÑA POR ARREGLO',\n",
       "       'SOPORTE PARA CELULAR DE ALUMINIO MOD39',\n",
       "       'SOPORTE TV FIJO SEISA 42 A 85\" HASTA 100KG/ Con Inclinacion GJ-C65',\n",
       "       'SPLITTER HDMI 1 A 2 4K / ADP-48006',\n",
       "       'SPUDGER METALICO ESPATULA\\xa0',\n",
       "       'Soporte Notebook Hasta 17\" NM-HC75',\n",
       "       'Soporte Regulable Giratorio 360º Para Tablet Y Celulares ZX-ZJ48',\n",
       "       'TESTER MULTIMETRO DIGITAL COMPACTO UNI-T Ut33c+ Plus',\n",
       "       'Touch TPC-51055 V3.0 / FPC-TP070215(708B) / FPC-TP0702015 / FPC-TP070226 / ZJ-70065F / WJ615-V1.0',\n",
       "       'Transmisor Inalambrico Bluetooth Auto Manos Libres CarF7 TIPO C',\n",
       "       'Xiaomi Mi Band 8 Pantalla 1.62 Pulgadas Malla Negra',\n",
       "       'ARTICULO NO ENCONTRADO EN LA LISTA',\n",
       "       '011 QIANLI Cuchillas pulidas a mano',\n",
       "       'ACTIVADOR DE BATERIAS SUNSHINE SS915 v9',\n",
       "       'ALICATE SUNSHINE SS109\\xa0',\n",
       "       'Analogico Nintendo Switch Joy-Con Joystick Repuesto Original',\n",
       "       'BALANZA MINI DIGITAL DE PRECISION 500G / 0.1G LCD LUZ MH-500',\n",
       "       'CINTA KAPTON 10mm (fina)',\n",
       "       'Camara Web 1080p USB Con Microfono C007 ',\n",
       "       'Camara wifi Ezviz interior inteligente - C6N 1080p',\n",
       "       'DOCK FLEX TEST (Micro)',\n",
       "       'Disco Externo Toshiba Canvio 2tb Black Usb 3.0 Hdtb520xk3aa',\n",
       "       'Disco Solido SSD 240GB ADATA SU630 Sata',\n",
       "       'Disco Solido SSD 512GB VERBATIM SATA 3',\n",
       "       'Drill Relife Rl-068 Removedor De Oca Minitorno Dremell',\n",
       "       'EMBOLO PARA JERINGA DE ALUMINIO P09 para jeringa de 10cc',\n",
       "       'ESPATULA SET 27 REMOVEDOR DE IC - SS101A\\xa0',\n",
       "       'ESTACION DE SOLDADO CON PISTOLA DE AIRE 2 EN 1 HK-8506D Mechanic',\n",
       "       'EXTENSOR / REPETIDOR KANJI KJN-RP4200A',\n",
       "       'EXTENSOR DE RANGO Tp-Link Re200 Dual Band 2.4Ghz 5Ghz Ac750',\n",
       "       'Espatula Profesional Ultrafina Mechanic X9',\n",
       "       'FILM HIDROGEL MI BAND 6',\n",
       "       'FILM MEMBRANA CONDUCTOR JOYSTICK PS4 JDM-040',\n",
       "       'FLEX INTERCONEXION MOTO G9 POWER',\n",
       "       'FLEX INTERCONEXION SAM A22 4G - A225 / A32 - A325',\n",
       "       'FLEX INTERCONEXION SAM A30S',\n",
       "       'FUNDA PORTA NOTEBOOK 13 PULGADAS CON BOLSILLO / NEGRA / DEHUKA',\n",
       "       'FUNDA PORTA NOTEBOOK PIERRE CARDIN PC-3010MED',\n",
       "       'Flex Power Huella Samsung A12 ', 'Flex Power Huella Samsung A13',\n",
       "       'Flex Power y Volumen Moto G22',\n",
       "       'HD EXTERNO 1TB PORTABLE WD ELEMENTS BLACK USB 3.0 Negro',\n",
       "       'HILO glass separador 0,03mm - RL-059A (verde)',\n",
       "       'Hub Usb 3.0 De 4 Puertos Aluminio Kq009H',\n",
       "       'JUEGO DE AJEDREZ TABLERO MAGNETICO 3881A',\n",
       "       'KIT INALAMBRICO TECLADO + MOUSE S5600 CELESTE / VERDE',\n",
       "       'Kit 5 Destornilladores CELUS RL728a', 'LAMINA OCA HYBRIDA 15\"',\n",
       "       'LAMPARA CURADO UV Con Extractor Mc18 MECHANIC',\n",
       "       'LENTE CAMARA IPHONE 11 PRO',\n",
       "       'Lector De Memoria Usb A Micro Sd Compacto HT-279A',\n",
       "       'Lector de Codigo de barras Laser Inalambrico 1D Netmak NM-LC502\\xa0',\n",
       "       'MALETIN PORTA NOTEBOOK 14/15,6\" LENOVO T210 GRIS',\n",
       "       'MALLA REPUESTO PARA RELOJ 20mm COLORES',\n",
       "       'MALLA REPUESTO PARA RELOJ MI BAND 5 / BAND 6 COLORES',\n",
       "       'MASCARA UV RELIFE - Negro',\n",
       "       'MEMORIA RAM SODIMM DDR4 PNY 8GB XLR8 GAMING 3200MHZ',\n",
       "       'MICROFONO GAMER DX-MICX15', 'MICROFONO XMC-01 XTRIKE ME',\n",
       "       'MINI VENTILADOR USB C/LUZ MINI FANS HQ66-09',\n",
       "       'Malla Silicona Para Xiaomi Mi Watch 2 Lite Rojo',\n",
       "       'Memoria SODIMM DDR3 HIKSEMI 8Gb 1600 MHz Hiker (7499)',\n",
       "       'Memoria SODIMM DDR3 Markvision 8Gb 1600 MHz 1.35V BULK (6372)',\n",
       "       'Microfono Performer Dinamico Karaoke Noga Ng-mi120c',\n",
       "       'Microfono Retro Jack 3.5mm DINAX DX-MICRET25',\n",
       "       'ORGANIZADOR MULTIFUNCIONAL DE MADERA CON 24 ESPACIOS MECHANIC B24',\n",
       "       'Organizador rotativo para destornilladores RELIFE RL-078A',\n",
       "       'PAD Para plancha de calor - SS004s',\n",
       "       'PEGAMENTO T7000 - ZHANLIDA 110ml - Negro',\n",
       "       'PEN PARA QUITAR TAPAS IPHONE - RL066',\n",
       "       'Pendrive Patriot 64gb Push + Usb 3.2 ',\n",
       "       'Pinza Crimpeadora Para Cables RJ45 con Pelacables WJ-315',\n",
       "       'Placa de Red PCI-E 300N 2x 2Dbi Tp-Link TL-WN881ND',\n",
       "       'Punta Relife RL-900M - IS (curva)',\n",
       "       'Punta Relife RL-900M-I (recta)',\n",
       "       'Punta Relife RL-900M-T-K (cuchilla)',\n",
       "       'RADIO PORTATIL BLUETOOTH VINTAGE RETRO NEGRO SUONO 239608',\n",
       "       'RASPADOR REMOVEDOR DE PEGAMENTO - RL-023\\xa0',\n",
       "       'RECEPTOR BLUETOOTH DOBLE SALIDA BLS-BT02',\n",
       "       'RECEPTOR BLUETOOTH DX-REPBLUE810 DINAX',\n",
       "       'RECEPTOR WIFI DINAX DOBLE BANDA 1300MBPS / DXREPE2BAN',\n",
       "       'RELOJ INTELIGENTE IMILAB W02 1,85\" Negro',\n",
       "       'RODILLO LAMINACION 7CM SILICONA BLANCO',\n",
       "       'ROUTER DINAX WIFI 4 ANTENAS IEEE 802.11N DX-7ROU1023',\n",
       "       'Removedor Flux DELTA Limpiador Residuos Resina 180G',\n",
       "       'SET DESTORNILLADORES 34 in 1 mod SS-5119',\n",
       "       'SOPORTE BASE ALUMINIO PARA NOTEBOOK ZX-447',\n",
       "       'SOPORTE DE MESA PLEGABLE / NOTEBOOK 13 / TABLET / BLANCO - SA23 GM-5427BL',\n",
       "       'SOPORTE LCD BRAZO DOBLE 26 A 55 DINAX DX-SM2655TV',\n",
       "       'SOPORTE RELIFE RL601L mini',\n",
       "       'SOPORTE UNIVERSAL PARA CELULAR FLY 2081-D',\n",
       "       'Soporte Para Celular De Brazo FLEXIBLE Con Pinza Ajustable COLORES',\n",
       "       'TACTIL  LG K40s NEGRO +O',\n",
       "       'TECLADO Y MOUSE GAMER RETROILUMINADO STOMER NKB-570',\n",
       "       'TESTER MECHANIC T-824 Detector De Fallas Lightning Y Usb C',\n",
       "       'TRIPODE BRACKET H-08 COLORES', 'TV BOX MXQ-4K (1GB+8GB) Peiso',\n",
       "       'TWEEZER PINZA RELIFE (curva) - RT14SA',\n",
       "       'TWEEZER PINZA RELIFE (plana) - ST20',\n",
       "       'TWEEZER PINZA RELIFE (recta) - RT14A\\xa0',\n",
       "       'Tarjeta de memoria Patriot 64gb Clase10 80MB/s',\n",
       "       'Touch Mas Simple 8 pulgadas / L201190610 06.3848.001 L20190618 F20190704 li20190618',\n",
       "       'Turbina Cooler Anillo 12 cm con Led Azul conexion a fuente Netmak NM-RING',\n",
       "       'VGA MACHO A HDMI HEMBRA FULL HD 1080 ADP-48007',\n",
       "       '4B1 Touch Philco TP7A1I / PB70A2229',\n",
       "       'ALCOHOL ISOPROPILICO ALTA PUREZA DELTA 500CC PHX500',\n",
       "       'APOLLO QIANLI',\n",
       "       'Adaptador Inalambrico Wifi Usb Red Noga NG-Uw06 Antena 150mbps 2,4GHZ',\n",
       "       'Alcohol Isopropilico Chemitec Aerosol 440cc Pro Max',\n",
       "       'Ariculares BT Skullcandy Jib True 2 Con Microfono Gris S1JTW-P744',\n",
       "       'BANDEJA SIM S10 / S10 PLUS',\n",
       "       'BANDEJA SIM SAM A10 / A10S / A20 / A30 / A50 / A70',\n",
       "       'BANDEJA SIM SAM A31', 'BANDEJA SIM SAM S8 / S8 PLUS SYLVER',\n",
       "       'BASE SEPARADORA UNIVERSAL 360° RELIFE RL-601S*',\n",
       "       'BOTON HOME IPHONE 7',\n",
       "       'Barra Sonido Tv o Pc Bluetooth / Sd / Radio / Usb / Recargable / E-5011',\n",
       "       'Base Cooler Pad Para Notebook A9 14/15/17 Pulgadas + Usb ',\n",
       "       'Base Doble Cooler Para Notebook Luz Led + 2 USB 668',\n",
       "       'Base Doble Cooler Para Notebook Luz Led + 2 USB B-9',\n",
       "       'Base Para Monitor Gamer Eleva Soporte Celular Usb Luces Noga NG-ZA5',\n",
       "       'Batea Cubeta Ultrasonido 30W YX-3030 Yaxun',\n",
       "       'Batea Ultrasonido Yaxun Yx-3060',\n",
       "       'CAMARA EXTERIOR IP WIFI IMOU Cruiser Se+ 4mp Full Color',\n",
       "       'CAMARA IP CLOUD TP-LINK TAPO C310 3MP EXTERIOR',\n",
       "       'CAPTURADORA HDMI A USB HU-03', 'CINTA ALUMINIO 15MM / 20M',\n",
       "       'CONTADORA DE BILLETE NAXIDO H-302 LCD DISPLAY',\n",
       "       'CONVERSOR VGA A HDMI CON AUDIO Y USB (CABLE) 1244',\n",
       "       'Camara Microscopio Hd Mechanic Rx-510',\n",
       "       'Camara Mini Espia De Seguridad Wifi Hd Con Microfono SEISA IPC-NB10',\n",
       "       'Camara Web Webcam Xiaomi W88 FULL HD(1080P)',\n",
       "       'Camara web GENIUS Facecam 1000x 720p hd',\n",
       "       'Celular Motorola Moto G13 64gb / 4gb RAM Gris',\n",
       "       'Celular Motorola Moto G32 128GB / 4GB Ram Plata Satinado',\n",
       "       'Celular Samsung Galaxy A04 32GB/3GB RAM VERDE',\n",
       "       'Celular Samsung Galaxy A04 64GB/4GB RAM Negro',\n",
       "       'Celular Samsung Galaxy A14 128gb/4gb Ram Negro',\n",
       "       'Conector USB tipo C Macho a Audio 3.5 Hembra / Mallado 09-057',\n",
       "       'Conversor Gamer Para Teclado Y Mouse A Celular Bluetooth Mix Pro',\n",
       "       'Conversor Rca Audio Y Video AV A Hdmi 1080p AV2HDMI-T',\n",
       "       'Conversor de VGA + Audio a HDMI Activo VGA2HDMI',\n",
       "       'Cooler 8025 Turbina NEGRA 8 cm conector a fuente Netmak NM-8025',\n",
       "       'Cooler Turbina TRANSPARENTE Luz Azul 8cm a fuente Netmak NM-8025T',\n",
       "       'DESTORNILLADOR RELIFE - PHILLIPS 1.2/1.5+ - RL721\\xa0',\n",
       "       'DISCO SSD SOLIDO PNY 480GB 2.5\" SATA CS900',\n",
       "       'DOCK FLEX TEST (iPhone)\\xa0',\n",
       "       'Disco Rigido Notebook 1TB Toshiba L200 SATA II 3.0 Gb/s 7mm 5400 rpm HD123',\n",
       "       'Disco Solido SSD 120Gb GIGABYTE Sata',\n",
       "       'Disco Solido SSD 1TB PNY 1TB-RB SATA',\n",
       "       'Disco Solido SSD 250GB Kingston NV1 SNVS/250G',\n",
       "       'Disco Solido SSD 256GB PATRIOT P210 SATA3 2.5',\n",
       "       'Disco Solido SSD 256GB PATRIOT P220 SATA3 2.5',\n",
       "       'Disco Solido SSD 500GB M.2 NVME WESTERN DIGITAL BLUE SN570',\n",
       "       'ENCHUFE INTELIGENTE WIFI SMART PLUG SA-014 GB',\n",
       "       'ESPATULAS METALICAS KIT RELIFE RL-087',\n",
       "       'ESPEJO RECTANGULAR TOUCH CON LUZ LED DINAX / DX-3ESPLUZAA',\n",
       "       'ESTACION DE SOLDADO AIRE + CAUTIN QUICK 715',\n",
       "       'ESTACION DE SOLDADO AIRE MECHANIC 861DW PRO',\n",
       "       'ESTACION DE SOLDADO Cautin QUICKO T12-952',\n",
       "       'ESTAÑO ALAMBRE NIQUEL 0.8mm RELIFE RL444 ',\n",
       "       'ESTAÑO EN PASTA 138 GRADOS (BAJA FUSION) RELIFE POTE 40g - RL404\\xa0',\n",
       "       'EXTENSOR DE HDMI POR UTP RED ETHERNET 30M GM5719 HDEXT',\n",
       "       'EXTENSOR DE RANGO De Wifi 300mbps 2.4ghz REP-RP4200E',\n",
       "       'Espuma De Limpieza Delta Compitt Foam Seco Pc Monitor 370g',\n",
       "       'Estacion De Soldado Mechanic T210 SOL 05647',\n",
       "       'FLEX DE CARGA IPHONE 7 PLUS WHITE',\n",
       "       'FLEX DE ENCENDIDO MOTO E6 PLUS',\n",
       "       'FLEX DE ENCENDIDO Y VOLUMEN SAM A10',\n",
       "       'FLEX INTERCONEXION SAM A31', 'FLEX INTERCONEXION SAMSUNG A33',\n",
       "       'FLEX JACK / MIC  SAMSUNG J400',\n",
       "       'FLUX 100% ORGANICO EN TARRO CHICO 30CC NO TOXICO',\n",
       "       'FLUX JERINGA MECHANIC P23 10CC', 'FLUX JERINGA MECHANIC P59 10CC',\n",
       "       'FLUX MECHANIC SD360 MAX 10CC 8546',\n",
       "       'FUENTE AUREOX PARA PC UNLIMITED SERIES 650W REALES / 80 PLUS BRONZE / COLOR NEGRA',\n",
       "       'FUNDA PORTA NOTEBOOK 15,6 PULGADAS CON BOLSILLO / NEGRA / DEHUKA',\n",
       "       'Flux jeringa 10cc - Wuzip',\n",
       "       'Fpc 50 Pines Compatible Con Moto e6i / e6s / e7i power',\n",
       "       'Fuente 800mA multiple voltaje y conectores Universal Noganet NOGA 79',\n",
       "       'Fuente Alimentacion 12v 10amp Camara De Seguridad / Iluminacion S-120-12',\n",
       "       'Fuente De Poder 3/4.5/6/7.5/9/12 Voltios 6 Puntas Cargador Multiple 30w MULTI-ROLE cm053',\n",
       "       'Fuente Gigabyte P850gm 850w 80 gold Modular',\n",
       "       'Fuente SUNSHINE 1502d - 15v - 2A', 'GAMING COMBO 4 EN 1 NKB-405',\n",
       "       'Gavetero Metalico Organizador Relife RL001d',\n",
       "       'Grip Para Analogico Nintendo Switch Joy Con Y Switch Lite',\n",
       "       'HDMI SPLITTER 1 x 4 DUPLICA 4KX2K 3D SM-C7830K',\n",
       "       'HOJA DE PUNTOS Y LINEAS DE SOLDADURA MECHANIC MAGIC TAG',\n",
       "       'HOLDER BASICO SUNSHINE - SS601A - SOPORTE DE PLACAS',\n",
       "       'HOLDER MK1 Mini Soporte Giratorio MECHANIC',\n",
       "       'HOLDER UNIVERSAL WL (colores varios) SOPORTE DE PLACAS\\xa0',\n",
       "       'HUB TIPO C SEISA BYL-2103T 5 IN 1',\n",
       "       'Hub Usb 3.0 De 4 Puertos Kq008H',\n",
       "       'Hub Usb 3.0 De 7 Puertos Kq022H',\n",
       "       'Hub Usb Tipo C A 4 Puertos Usb 2.0 Kq-005H',\n",
       "       'Hub Usb Tipo C De 4 Puertos 3.0 Kq 002H',\n",
       "       'Impresora Termica POS 80mm Ancho de Impresion - USB2.0+RJ11-203dpi - 100mm/s - Global TP-POS80-USB',\n",
       "       'JOYSTICK Inalambrico Recargable AITECH C6 con soporte Celular',\n",
       "       'JUEGO DE DESTORNILLADOR ITECH 48 EN 1 MECHANIC',\n",
       "       'KIT COMBO TIRA DE LED RGB LED-Y3528RD',\n",
       "       'KIT Destornilladores 8 en 1 Reparacion SW-6308A 2088-8pc',\n",
       "       'KIT MOUSE Y TECLADO INALAMBRICO DINAX DX-2BTCOMB',\n",
       "       'Kit Destornilladores Precision 9 En 1 AMAOE',\n",
       "       'Kit Destornilladores Precisión 6 En 1 Mechanic Mortar',\n",
       "       'Kit Destornilladores SS-5120 set 128 in 1',\n",
       "       'Kit Destornilladores SS-5121 set 66 in 1',\n",
       "       'Kit de Teclado y Mouse inalambrico Logitech MK270 920-004432',\n",
       "       'Kit de Teclado y Mouse inalambrico Logitech MK345 920-007820',\n",
       "       'LAMPARA CURADO UV Q1 MECHANIC', 'LAMPARA CURADO UV Q2 MECHANIC',\n",
       "       'LAMPARA VELADOR TACTIL LUZ CALIDA / FRIA Y NATURAL LED-81010 / BL-128',\n",
       "       'LASER ESTROBOSCOPICO COLORES 9 LUCES JS-PS15W',\n",
       "       'LECTOR SIM MOTO G7 POWER', 'LENTE BARLOW M22 - 48mm - 0.7x',\n",
       "       'LENTE BARLOW RF4 0.5X', 'LENTE CAMARA IPHONE 6 6S 6S PLUS 6 PLUS',\n",
       "       'LENTE CAMARA MOTO G8 POWER', 'LENTE CAMARA SAM A10 / a20 / a30',\n",
       "       'LENTE CAMARA XIAOMI NOTE 8 PRO',\n",
       "       'LENTE PROTECTOR POLVO y HUMO M25 - 48mm',\n",
       "       'LINTERNA TACTICA MULTIFUNCION SWAT FLASHLIGHT USB BALIZA 807',\n",
       "       'LUZ LED SELFIE 8233 3 NIVELES',\n",
       "       'Lampara De Escritorio Usb Oficina Led Velador Touch Dimer VIR-4556',\n",
       "       'Lamparita Smart Nexxt RGB Wifi 220V Dicroiica x3',\n",
       "       'Lector de Codigo de barras Laser USB 1D CON SOPORTE PIE Netmak NM-LC401-S',\n",
       "       'Lubrimatic DELTA Baja Densidad Usos Generales 180CC / 130G',\n",
       "       'MALLA REPUESTO PARA RELOJ 20mm GRIS',\n",
       "       'MALLA SILICONA 22mm ROSA GM-5270',\n",
       "       'MALLA SILICONA 42/44 MM - 96+119 MM GREEN',\n",
       "       'MALLA SILICONA 42/44 MM GM-5268 AZUL',\n",
       "       'MALLA SILICONA DEPORTIVA 20MM AZUL/CELESTE',\n",
       "       'MALLA SILICONA LOOP 42/44 MM - 123 MM COLORES',\n",
       "       'MANGO DE CAUTIN HEMBRA DE 5 PINES 908A',\n",
       "       'MANGUERA LUCES NEON LED FLEXIBLE 5MTS COLORES CON TRANSFORMADOR',\n",
       "       'MANTA Para Glass Silicona Pad NARANJA 25x20cm Espesor 8mm',\n",
       "       'MANTA TAPETE TERMICO RELIFE RL160A - Gris',\n",
       "       'MANTA TERMICA (CELESTE) 35x25cm SS004A',\n",
       "       'MEGA IDEA STENCIL NOTE - 8916 MT6592 CPU',\n",
       "       'MEMORIA DDR4 MARKVISION 8GB 3000 MHZ 1.35V BULK',\n",
       "       'MEMORIA SODIMM KINGSTON FURY DDR4 8GB 3200MHZ IMPACT',\n",
       "       'MICROFONO CONDENSER/SEISA  CON TRIPODE SF-666 3.5 PLUG 50Hz',\n",
       "       'MICROFONO DE PIE SF-950  FICHA 3.5mm PC-CELULAR-TABLET',\n",
       "       'MICROFONO HYPERX SOLOCAST USB',\n",
       "       'MICROFONOS INALAMBRICO 2 CANALES VHF + DVR 12-3002',\n",
       "       'MINI DRILL DE CORTE Y PULIDO IR X6 - MECHANIC',\n",
       "       'MINI LED DE CABEZA MOVIL MULTICOLORES 7LED 10w JS-YT60W',\n",
       "       'MOCHILA PORTA NOTEBOOK PIERRE CARDIN PC-1057 GRIS',\n",
       "       'MOCHILA PORTA NOTEBOOK PIERRE CARDIN PC-1057 NEGRO',\n",
       "       'Malla Nylon Apple Watch 42 44 45 Azul Oscuro',\n",
       "       'Memoria DDR3 HIKSEMI 8Gb 1600 MHz Hiker (7512)',\n",
       "       'Memoria DDR4 Corsair 8Gb 2666 MHz Value (3036)',\n",
       "       'Microfono Condenser Profesional DX-MICROPRO DINAX',\n",
       "       'Microfono Corbatero Jack 3.5mm DINAX DX-BULLET35',\n",
       "       'Microfono Corbatero Jack 3.5mm Lavalier Para Celular GL-119',\n",
       "       'Microfono Solapa Inalambrico Para Celular Tablet Pc Lavalier Lightning Iphone K11',\n",
       "       'Mini Bola Led Rgb Led Party Light Enchufe A 220v L-12',\n",
       "       'Mini Tripode Universal Altura Regulable Netmak NM-TRIP4',\n",
       "       'Notebook Asus Intel i3 X413J 14 Pulgadas / Ram 4Gb / Disco Ssd 128S / Win 10',\n",
       "       'Notebook HP Intel i3 1005G1 / 14 Pulgadas / 8GB RAM / 240GB SSD DISCO',\n",
       "       'OPENNING METAL PUA ULTRAFINA PEANUT / SS028A',\n",
       "       'PAÑO DE MICROFIBRA RL-045C',\n",
       "       'PEGAMENTO ESTRUCTURAL transparente RL-035A PUV glue 10cc\\xa0',\n",
       "       'PEGAMENTO MECHANIC SUPER X PARA LCD NEGRO',\n",
       "       'PEGAMENTO PARA PANTALLA CELULAR T7000 NEGRO MECHANIC 50ml',\n",
       "       'PINZA ALICATE HY-501A - YX109',\n",
       "       'PINZA BRUCELA KA-11 RECTA Mechanic',\n",
       "       'PINZA BRUCELA KS-11 RECTA Mechanic',\n",
       "       'PINZA DE PUNTA MECHANIC TS-J615', 'PISTOLA MASAJEADORA AF-J01',\n",
       "       'PISTOLA MASAJEADORA AF-V2',\n",
       "       'PLANCHA SEPARADORA KailLiwei F503 GIRATORIA',\n",
       "       'PROTECTOR DE TENSION PROTECH F',\n",
       "       'PROYECTOR LASER EMS-PS01 or 160863',\n",
       "       'PUNTA C115 RELIFE - C115-IS (curva)',\n",
       "       'PUNTA C210 - RELIFE - C210-IS (curva)',\n",
       "       'PUNTA DE SOLDADOR MECHANIC GOLD 900M-T-IS 8352',\n",
       "       'PUNTA JBC C210 - C210-020 (recta)',\n",
       "       'Pad Gamer Y Oficina De Caucho Y Corcho 80X30Cm Cmp833',\n",
       "       'Pasta Termica Thermal Grizzly Kryonaut 12.5 W 1 Gr Extrema!',\n",
       "       'Power Tester FNB58 - Bts Version',\n",
       "       'Prolongador Multi-Toma Dear Power 6 tomas 220V + Prot. Termico 1,5 MTS',\n",
       "       'Proton Par 18 Led Rgb Efectos Iluminacion Videmax / P-18',\n",
       "       'Proyector mini ViewSonic M1 MINI LED 120LM Entrada Usb y Hdmi',\n",
       "       'Punta Para C210 Capuchon Sacrificio Ideal Sugon T26 Jbc',\n",
       "       'Punta Para Estacion Soldado T12 - ILS (recta larga)',\n",
       "       'Punta Relife RL-900M SK (cuchilla fina)',\n",
       "       'RADIO PORTATIL POCKET DINAX AM/FM DX-RADIOP1',\n",
       "       'RECEPTOR 2.4G WIFI+BLUETOOTH 4.2 BT-165  ',\n",
       "       'RELIFE STENCIL IPHONE 7 - 7+ (A10)\\xa0',\n",
       "       'RELOJ DESPERTADOR C/CALENDARIO/TEMPERATURA DS-6609',\n",
       "       'RELOJ DESPERTADOR CARGA INALAMBRICA AY-21',\n",
       "       'RELOJ INTELIGENTE SMARTWATCH W17 PRO - BLACK',\n",
       "       'RELOJ KIESLECT SMARTWATCH CALLING KR PRO',\n",
       "       'RELOJ KIESLECT SMARTWATCH CALLING KS (negro)',\n",
       "       'REPETIDOR WIFI 2 ANTENAS DINAX / REPRP4200C',\n",
       "       'ROUTER TP-LINK ARCHER C50 AC1200 4 ANTENAS',\n",
       "       'Radio Bluetooth Am / Fm Con Linterna Y Panel Solar Ktf-1481',\n",
       "       'Radio Retro Am Fm Y Bluetooth Seisa YX-303UBT',\n",
       "       'Radio Retro Vintage Recargable Con Bluetooth Ktf-1482',\n",
       "       'Reloj Inteligente Smartwatch XIAOMI MI KIESLECT K10 NEGRO',\n",
       "       'Reloj Smartwach BT Netmak / Pulsaciones km fit BLACK NM-GO',\n",
       "       'Reloj Smartwach BT Netmak / Pulsaciones km fit Rosa NM-GOB',\n",
       "       'SET 10 CUCHILLAS BISTURI #11',\n",
       "       'SET 5 ESPATULAS MULTIFUNCION RL049A',\n",
       "       'SILLON MASAJEADOR SUONO 174881',\n",
       "       'SMART WATCH HAYLOU LS02 PRO - SILVER',\n",
       "       'SMART WATCH HAYLOU RT2 LS10 BLACK 6971664931358',\n",
       "       'SMARTWACH AMAZFIT GTR MINI - BLACK',\n",
       "       'SMARTWATCH AMAZFIT GTS 4 MINI - BLACK Pantalla 1.65\" ',\n",
       "       'SMARTWATCH KIESLECT KR - BLACK', 'SMARTWATCH P8 GT - GOLD',\n",
       "       'SMARTWATCH QCY GTS S2 - BLACK',\n",
       "       'SMARTWATCH RELOJ INTELIGENTE ULTRA 94 NOTIFICACIONES DE REDES SOCIALES, DEPORTIVO, SALUD',\n",
       "       'SMARTWATCH W17 - BLACK', 'SMARTWATCH Z69 ULTRA - BLACK',\n",
       "       'SOPORTE AURICULARES GAMER METALICO ALUMINIO BASE STAND',\n",
       "       'SOPORTE CON LUPA Y LUZ LED TE800 EC01039',\n",
       "       'SOPORTE DE AUTO PARA CELULAR YB20-3',\n",
       "       'SOPORTE DE CARGADOR PARA PS5 JOYSTICK SND-463',\n",
       "       'SOPORTE DE EXTENSION PARA TABLET DE METAL PLEGABLE ML-E4',\n",
       "       'SOPORTE HOLDER DE AUTO BRAZO LARGO DX-HOLUNIP',\n",
       "       'SOPORTE HOLDER DE AUTO CARGA AUTOMATICA DX-HOL939',\n",
       "       'SOPORTE PARA CELU CON VENTOSA PARA AUTO 2112-F',\n",
       "       'SOPORTE PARA CELU CON VENTOSA PARA AUTO 2113-F',\n",
       "       'SOPORTE PARA CELULAR CON VENTOSA Y GANCHO PARA AUTO 2123-F',\n",
       "       'SOPORTE PARA CELULAR O GPS CON IMAN MAGNET 2305-CD',\n",
       "       'SOPORTE UNIVERSAL PARA AUTO 2112-D',\n",
       "       'Soporte Base Vertical Stand Para Playstation 4 Ps4 KHPS4-01',\n",
       "       'Soporte Celular Moto Bici Impermeable Reforzado Tactil M3 ZX-M3',\n",
       "       'Soporte Celular Universal Para Auto c/brazo Flexible Netmak NM-HC21',\n",
       "       \"Soporte Con Brazo Movil Giratorio Para Escritorio 19' 23' 30' - ST9 - SKYWAY\",\n",
       "       'Soporte de celular c/Brazo para espejo retrovisor Netmak NM-HC24',\n",
       "       'Stencil Welsolo VS01 - ANDROID BT WIFI RF UNIVERSAL',\n",
       "       'TACTIL LG K4 K120 GRANDE', 'TACTIL SAM J2 PRIME BLACK',\n",
       "       'TACTIL TITAN JZ-1003-FPCV1 / ONTOP ATC7015 FPC / FPC-TP070039-01 KDX Negro (30 PIN)',\n",
       "       'TAPETE TERMICO- extra grande 50x35 - ss004f - Gris',\n",
       "       'TESTER MULTIMETRO DIGITAL COMPACTO UNI-T Ut33a+ Plus',\n",
       "       'TOSTADORA ELECTRICA ATMA DISNEY TOAT39DN - Mickey Mouse',\n",
       "       'TRINO MICROSCOPIO WIFIX WF-M50XT / 50X ZOOM / CON ARO LED 144 + MANTA + BARLOW 0.7 + LENTE PROTECTOR',\n",
       "       'TRINO MICROSCOPIO kailiwei 10HT-B1 NEGRO + ADAPTADOR CAMARA + ARO LED',\n",
       "       'TV BOX (2G+16G) TX100', 'TV BOX T96D (2G+16G)',\n",
       "       'TWEEZER PINZA SUNSHINE (curva) - SK15\\xa0',\n",
       "       'TWEEZER PINZA SUNSHINE (recta) - SK11\\xa0',\n",
       "       'TWEEZER PINZA TITANIO (recta) AZUL KW-11A',\n",
       "       'Tablet Alcatel Tkee Mini New (9317G-2BOFAR1) 1/32GB',\n",
       "       'Tablet Kanji Pampa 10.1\" 16GB negra con memoria RAM 1GB',\n",
       "       'Tactil Samsung Galaxy Tab 3 Lite T113NU CAMARA FRONTAL',\n",
       "       'Tarjeta De Memoria Kingston 32gb C10 Canvas Select Con Adaptador',\n",
       "       'Teclado Seisa Con Mouse Usb DN-D5200 Con Cable',\n",
       "       'Tester De Cable Utp Rj45 Rj11 Telefono Internet Red JS-468',\n",
       "       'Tester Digital full Noganet M-890G',\n",
       "       'Touch 3G / 0101-T 2014.02, c184104a1-fpc738dr, C7000185FPVB, c700247fpva, CTD FM707101KC, CTP070083,',\n",
       "       'Touch Alcatel 8067 / TCL LT7 M / wj1901-fpc v5.0',\n",
       "       'Touch C145254K1-DRFPC391T-V2.0 / MF-817-101F-3 FPC / 1696.11(W109R)',\n",
       "       'Touch Samsung Tab 3 SM-T111 (solo BLANCO) RANURA AURICULAR',\n",
       "       'Turbina Cooler 12 cm con 15 Leds Rgb Netmak NM-12RGB SDC',\n",
       "       'VIDRIO TEMPLADO SAMSUNG  NOTE',\n",
       "       'Webcam 720P HD C/Microfono y Tripode Netmak NM-WEB02',\n",
       "       'Xiaomi Mi Tv Stick 4k Ram 2gb 8gb Android Tv',\n",
       "       'Zapatilla Binorma 5 Bocas cable 1.5 Mtrs c/llave  Sybyd  301/7 - 302/7',\n",
       "       'kit Cepillos de limpieza 9 Unidades',\n",
       "       'Antena Tda 4k 5.0 Dbi Con Cable De 5 Mts Interior Y Exterior SG-3003',\n",
       "       'CONVERTIDOR TV STICK 2GB 16GB ANDROID 10 SYSTEM 4K EC100307',\n",
       "       'Conversor Hdmi A Rca Audio Y Video AV 1080p HDMI2AV',\n",
       "       'Malla Cuero Imantada Apple Watch 42 44 45 49 Negro',\n",
       "       'XMI GAME BOX EMULADOR  10MIL JUEGOS 64GB + ANDROID + TV BOX',\n",
       "       'Xiaomi Mi Band 6 Smartwatch Reloj Inteligente Versión Global',\n",
       "       'Pendrive Kingston DataTraveler SE9 DTSE9H 32GB 2.0 plateado',\n",
       "       'nan'], dtype=object)"
      ]
     },
     "execution_count": 341,
     "metadata": {},
     "output_type": "execute_result"
    }
   ],
   "execution_count": 341
  },
  {
   "metadata": {
    "ExecuteTime": {
     "end_time": "2024-12-27T16:04:58.997459Z",
     "start_time": "2024-12-27T16:04:58.978834Z"
    }
   },
   "cell_type": "code",
   "source": [
    "#ver valores con la cadena smartwatch o smart watch en la columna nombre del producto\n",
    "df[df['Nombre del Producto'].str.contains('smartwatch|smart watch', case=False)]['Nombre del Producto'].unique()"
   ],
   "id": "7b660685e88909ef",
   "outputs": [
    {
     "data": {
      "text/plain": [
       "array(['RELOJ INTELIGENTE SMARTWATCH W17 PRO - BLACK',\n",
       "       'RELOJ KIESLECT SMARTWATCH CALLING KR PRO',\n",
       "       'RELOJ KIESLECT SMARTWATCH CALLING KS (negro)',\n",
       "       'Reloj Inteligente Smartwatch XIAOMI MI KIESLECT K10 NEGRO',\n",
       "       'SMART WATCH HAYLOU LS02 PRO - SILVER',\n",
       "       'SMART WATCH HAYLOU RT2 LS10 BLACK 6971664931358',\n",
       "       'SMARTWATCH AMAZFIT GTS 4 MINI - BLACK Pantalla 1.65\" ',\n",
       "       'SMARTWATCH KIESLECT KR - BLACK', 'SMARTWATCH P8 GT - GOLD',\n",
       "       'SMARTWATCH QCY GTS S2 - BLACK',\n",
       "       'SMARTWATCH RELOJ INTELIGENTE ULTRA 94 NOTIFICACIONES DE REDES SOCIALES, DEPORTIVO, SALUD',\n",
       "       'SMARTWATCH W17 - BLACK', 'SMARTWATCH Z69 ULTRA - BLACK',\n",
       "       'Xiaomi Mi Band 6 Smartwatch Reloj Inteligente Versión Global'],\n",
       "      dtype=object)"
      ]
     },
     "execution_count": 342,
     "metadata": {},
     "output_type": "execute_result"
    }
   ],
   "execution_count": 342
  },
  {
   "metadata": {
    "ExecuteTime": {
     "end_time": "2024-12-27T16:04:59.138358Z",
     "start_time": "2024-12-27T16:04:59.128650Z"
    }
   },
   "cell_type": "code",
   "source": [
    "#agregar en la columna 'Categoria'  la cadena 'Smartwatch' en cada fila si los valores  de la columna 'Nombre de Producto' tienen la cadena 'Smartwatch' o 'Smart watch' en su nombre\n",
    "df['Categoria'] = np.where(df['Nombre del Producto'].str.contains('smartwatch|smart watch', case=False), 'Smartwatch', df['Categoria'])"
   ],
   "id": "15d898973b3bb963",
   "outputs": [],
   "execution_count": 343
  },
  {
   "metadata": {
    "ExecuteTime": {
     "end_time": "2024-12-27T16:04:59.297264Z",
     "start_time": "2024-12-27T16:04:59.243777Z"
    }
   },
   "cell_type": "code",
   "source": [
    "#en la fila donde nombre de producto sea igual a  'Ariculares BT Skullcandy Jib True 2 Con Microfono Gris S1JTW-P744' cambiar el valor de la columna categoria a 'Auriculares'\n",
    "df['Categoria'] = np.where(df['Nombre del Producto'] == 'Auriculares BT Skullcandy Jib True 2 Con Microfono Gris S1JTW-P744', 'Auriculares', df['Categoria'])\n",
    "#en la columna nombre de producto donde sea igual a 'Ariculares BT Skullcandy Jib True 2 Con Microfono Gris S1JTW-P744' cambiar el valor de la columna nombre de producto a 'Auriculares BT Skullcandy Jib True 2 Con Microfono Gris S1JTW-P744' y mostrar fila\n",
    "df['Nombre del Producto'] = np.where(df['Nombre del Producto'] == 'Ariculares BT Skullcandy Jib True 2 Con Microfono Gris S1JTW-P744', 'Auriculares BT Skullcandy Jib True 2 Con Microfono Gris S1JTW-P744', df['Nombre del Producto'])\n",
    "#mostrar fila con el nombre del producto 'Auriculares BT Skullcandy Jib True 2 Con Microfono Gris S1JTW-P744'\n",
    "df[df['Nombre del Producto'] == 'Auriculares BT Skullcandy Jib True 2 Con Microfono Gris S1JTW-P744']"
   ],
   "id": "ca8031573bdeb1cd",
   "outputs": [
    {
     "data": {
      "text/plain": [
       "     Código                                Nombre del Producto  Cantidad  \\\n",
       "959  AU3292  Auriculares BT Skullcandy Jib True 2 Con Micro...       1.0   \n",
       "\n",
       "     Costo total      Ganancia  Ganancia prom. %  Venta total  \\\n",
       "959        40.75  84954.973773          208489.0      85000.0   \n",
       "\n",
       "                                             Categoria  \n",
       "959  Ariculares BT Skullcandy Jib True 2 Con Microf...  "
      ],
      "text/html": [
       "<div>\n",
       "<style scoped>\n",
       "    .dataframe tbody tr th:only-of-type {\n",
       "        vertical-align: middle;\n",
       "    }\n",
       "\n",
       "    .dataframe tbody tr th {\n",
       "        vertical-align: top;\n",
       "    }\n",
       "\n",
       "    .dataframe thead th {\n",
       "        text-align: right;\n",
       "    }\n",
       "</style>\n",
       "<table border=\"1\" class=\"dataframe\">\n",
       "  <thead>\n",
       "    <tr style=\"text-align: right;\">\n",
       "      <th></th>\n",
       "      <th>Código</th>\n",
       "      <th>Nombre del Producto</th>\n",
       "      <th>Cantidad</th>\n",
       "      <th>Costo total</th>\n",
       "      <th>Ganancia</th>\n",
       "      <th>Ganancia prom. %</th>\n",
       "      <th>Venta total</th>\n",
       "      <th>Categoria</th>\n",
       "    </tr>\n",
       "  </thead>\n",
       "  <tbody>\n",
       "    <tr>\n",
       "      <th>959</th>\n",
       "      <td>AU3292</td>\n",
       "      <td>Auriculares BT Skullcandy Jib True 2 Con Micro...</td>\n",
       "      <td>1.0</td>\n",
       "      <td>40.75</td>\n",
       "      <td>84954.973773</td>\n",
       "      <td>208489.0</td>\n",
       "      <td>85000.0</td>\n",
       "      <td>Ariculares BT Skullcandy Jib True 2 Con Microf...</td>\n",
       "    </tr>\n",
       "  </tbody>\n",
       "</table>\n",
       "</div>"
      ]
     },
     "execution_count": 344,
     "metadata": {},
     "output_type": "execute_result"
    }
   ],
   "execution_count": 344
  },
  {
   "metadata": {
    "ExecuteTime": {
     "end_time": "2024-12-27T16:04:59.480822Z",
     "start_time": "2024-12-27T16:04:59.444481Z"
    }
   },
   "cell_type": "code",
   "source": [
    "#ver valores con la cadena 'adapatador' en la columna nombre del producto\n",
    "df[df['Nombre del Producto'].str.contains('adaptador', case=False)]['Nombre del Producto'].unique()"
   ],
   "id": "8a9492b9911c3aaf",
   "outputs": [
    {
     "data": {
      "text/plain": [
       "array(['Adaptador Otg Usb Hembra Metalico 3.0 Usb Tipo C Macho',\n",
       "       'Cargador Universal De Notebook 12 Adaptadores 12-24V Malibu MY 120W',\n",
       "       'Cable Adaptador De Audio Tipo Usb C A Plug Samsung JACK ADAPTER',\n",
       "       'ADAPTADOR - DISPLAY PORT DP A VGA SM-C7822',\n",
       "       'ADAPTADOR HUB USB CON 4 PUERTOS USB SX-36\\xa0',\n",
       "       'Tarjeta De Memoria Kingston 64gb Canvas Select Con Adaptador C10',\n",
       "       'CABLE HDMI 3 EN 1 CON ADAPTADORES CAB-6568 / TMCB 6556',\n",
       "       'Adaptador Ficha Union Empalme Rj45 Adaptador Hembra A Hembra Utp Cable De Red xibm69718',\n",
       "       'Adaptador Otg Usb 2.0 Macho A Tipo C Hembra 09-054',\n",
       "       'Adaptador Enchufes Universal Viajero Reforzado G99-008A20',\n",
       "       'Adaptador Placa De Red Usb A Ethernet Rj45 Kl 001',\n",
       "       'Cable ADAPTADOR 3.5MM MACHO A 2 HEMBRAS',\n",
       "       'ADAPTADOR 2 Hembra a 1 Macho NOGA TR-1005',\n",
       "       'ADAPTADOR CON ROSCA UNIVERSAL TR3 GM-3498',\n",
       "       'ADAPTADOR DE NANO SIM A MICRO SIM 2384',\n",
       "       'Adaptador Displayport Macho A Hdmi Hembra 06-009',\n",
       "       'Adaptador Ficha MiniPlug 3,5 A Plug 6,5 MONO Chico a Grande',\n",
       "       'Antena Externa Adaptador Usb Wifi Placa Red Lan 802 N Gb',\n",
       "       'Mini Adaptador USB Wifi tp-link TL-WN823N 300Mbps 39mm',\n",
       "       'ADAPTADOR HUB 3 EN 1 TIPO-C A HDMI+USB3.0+PD BYL-2122',\n",
       "       'ADAPTADOR HUB 5 EN 1 TIPO-C A HDMI+USB3.0+PD+PUERTO BYL-2007',\n",
       "       'ADAPTADOR HUB 5 EN 1 TIPO-C A SD/TF+USB3.0+USB2.0X2 BYL-2103T',\n",
       "       'ADAPTADOR HUB 6 EN 1 TIPO-C A HDMI+SD/TF+USB2.0+USB3.0+PD BYL-2010',\n",
       "       'ADAPTADOR HUB IPHONE CON 3 PUERTOS USB Y 1 PUERTO DE IPHONE SX-38',\n",
       "       'Adaptador Alargue HDMI Hembra a HDMI Hembra CB-107',\n",
       "       'Adaptador DVI-D Macho a HDMI Hembra CB115',\n",
       "       'Adaptador DVI-D Macho a Vga Hembra CB113',\n",
       "       'Adaptador Headphone Jack iPhone 7 Lightning A 3.5mm ADAN005',\n",
       "       'Adaptador Nano USB a Wireless 150 Mbps Mercusys by Tp-Link MW150US N150 NANO',\n",
       "       'Adaptador OTG Carga Y Datos USB Macho A Tipo C Hembra 3.1',\n",
       "       'Adaptador Otg Micro Usb A Usb Hembra Tablet Celular',\n",
       "       'Adaptador Tipo C a Tipo C y Audio 3,5mm Hembra 09-053',\n",
       "       'CABLE ADAPTADOR DISCO SATA EXTERNO A USB 3,0 / DXADAPDDUSB',\n",
       "       'ADAPTADOR INTERNATIONAL DIVERSOS ENCHUFES SS177 / SM-115',\n",
       "       'ADAPTADOR TIPO C (Macho) A LIGHTING (Hembra) 09-033',\n",
       "       'Adaptador De Usb A Sata/ide Con Fuente Y Cables Universal Noga HE2020',\n",
       "       'Adaptador Inalambrico Wifi Usb Red Noga NG-Uw06 Antena 150mbps 2,4GHZ',\n",
       "       'Adaptador Microusb Macho a tipo C Hembra 09-055',\n",
       "       'Adaptador Otg Tipo C / Usb3.0  Cp01-20-006',\n",
       "       'Adaptador Placa De Red Usb Inalambrico Tp-link Tl-wn722n USB 2.4GHZ',\n",
       "       'Adaptador Tipo C a Iphone IP04',\n",
       "       'Adaptador Tipo C macho a HDMI Hembra 09-043',\n",
       "       'Adaptador de DVI (Macho) 24+1 a VGA (Hembra) GM6306',\n",
       "       'CABLE ADAPTADOR USB 3.0 A SATA USB3 A SATA',\n",
       "       'CARGADOR CABEZAL ADAPTADOR PUERTO USB + TYPE C 6.1A 5.8A IBEK IB-611PD20W QC 3.0 A+C',\n",
       "       'Cable Adaptador De Dvi-D (24+1) A Vga / Con Audio 09-020',\n",
       "       'Hub Adaptador Tipo C A Hdmi / Vga / Usb 3.0 / Pd Kq-009',\n",
       "       'NISUTA Conversor Adaptador De Usb A 2 Ps2 NS-COUSPSCH',\n",
       "       'TRINO MICROSCOPIO kailiwei 10HT-B1 NEGRO + ADAPTADOR CAMARA + ARO LED',\n",
       "       'Tarjeta De Memoria Kingston 32gb C10 Canvas Select Con Adaptador',\n",
       "       'ADAPTADOR HDMI MACHO A HEMBRA 90 GRADOS DX-HDMITL'], dtype=object)"
      ]
     },
     "execution_count": 345,
     "metadata": {},
     "output_type": "execute_result"
    }
   ],
   "execution_count": 345
  },
  {
   "metadata": {
    "ExecuteTime": {
     "end_time": "2024-12-27T16:04:59.693203Z",
     "start_time": "2024-12-27T16:04:59.673430Z"
    }
   },
   "cell_type": "code",
   "source": [
    "#agregar en la columna 'Categoria'  la cadena 'Adaptador' en cada fila si los valores  de la columna 'Nombre de Producto' tienen la cadena 'Adaptador' en su nombre y si no tienen las siguientes cadenas: Cargador, Cable, Tarjeta, Adaptador Headphone Jack iPhone 7 Lightning A 3.5mm ADAN005,Mini Adaptador USB Wifi tp-link TL-WN823N 300Mbps 39mm, Adaptador Nano USB a Wireless 150 Mbps Mercusys by Tp-Link MW150US N150 NANO, Adaptador Inalambrico Wifi Usb Red Noga NG-Uw06 Antena 150mbps 2,4GHZ, CARGADOR CABEZAL ADAPTADOR PUERTO USB + TYPE C 6.1A 5.8A IBEK IB-611PD20W QC 3.0 A+C,MICROSCOPIO y Antena\n",
    "df['Categoria'] = np.where(df['Nombre del Producto'].str.contains('adaptador', case=False) & ~df['Nombre del Producto'].str.contains('Cargador|Cable|Tarjeta|Adaptador Headphone Jack iPhone 7 Lightning A 3.5mm ADAN005|Mini Adaptador USB Wifi tp-link TL-WN823N 300Mbps 39mm|Adaptador Nano USB a Wireless 150 Mbps Mercusys by Tp-Link MW150US N150 NANO|Adaptador Inalambrico Wifi Usb Red Noga NG-Uw06 Antena 150mbps 2,4GHZ|CARGADOR CABEZAL ADAPTADOR PUERTO USB + TYPE C 6.1A 5.8A IBEK IB-611PD20W QC 3.0 A+C|MICROSCOPIO|Antena', case=False), 'Adaptador', df['Categoria'])\n"
   ],
   "id": "70d33d858dccfc51",
   "outputs": [],
   "execution_count": 346
  },
  {
   "metadata": {
    "ExecuteTime": {
     "end_time": "2024-12-27T16:05:00.121580Z",
     "start_time": "2024-12-27T16:05:00.103325Z"
    }
   },
   "cell_type": "code",
   "source": [
    "#ver valores con la cadena 'adaptador' que su valor en la columna nombre de producto esa igual a categoria\n",
    "df[(df['Nombre del Producto'].str.contains('adaptador', case=False)) & (df['Categoria'] != 'Adaptador')]"
   ],
   "id": "f8988cb98d0f2548",
   "outputs": [
    {
     "data": {
      "text/plain": [
       "       Código                                Nombre del Producto  Cantidad  \\\n",
       "183      M835  Tarjeta De Memoria Kingston 64gb Canvas Select...       8.0   \n",
       "467     C8114  Antena Externa Adaptador Usb Wifi Placa Red La...       3.0   \n",
       "951   NG-Uw06  Adaptador Inalambrico Wifi Usb Red Noga NG-Uw0...       1.0   \n",
       "1050   IB-611  CARGADOR CABEZAL ADAPTADOR PUERTO USB + TYPE C...       1.0   \n",
       "1469  HE89313  TRINO MICROSCOPIO kailiwei 10HT-B1 NEGRO + ADA...       1.0   \n",
       "1484     M834  Tarjeta De Memoria Kingston 32gb C10 Canvas Se...       1.0   \n",
       "\n",
       "      Costo total       Ganancia  Ganancia prom. %  Venta total  \\\n",
       "183         42.96  116852.511416          276378.0   118775.000   \n",
       "467         11.88   28485.641610          239799.0    28500.000   \n",
       "951          4.33    8995.216928          207752.0     9000.004   \n",
       "1050         3.63    8195.605023          225795.0     8200.000   \n",
       "1469       241.85  444707.362329          183898.0   445000.000   \n",
       "1484         2.80    8496.611724          303471.0     8500.000   \n",
       "\n",
       "                                              Categoria  \n",
       "183   Tarjeta De Memoria Kingston 64gb Canvas Select...  \n",
       "467   Antena Externa Adaptador Usb Wifi Placa Red La...  \n",
       "951   Adaptador Inalambrico Wifi Usb Red Noga NG-Uw0...  \n",
       "1050                                           Cargador  \n",
       "1469  TRINO MICROSCOPIO kailiwei 10HT-B1 NEGRO + ADA...  \n",
       "1484  Tarjeta De Memoria Kingston 32gb C10 Canvas Se...  "
      ],
      "text/html": [
       "<div>\n",
       "<style scoped>\n",
       "    .dataframe tbody tr th:only-of-type {\n",
       "        vertical-align: middle;\n",
       "    }\n",
       "\n",
       "    .dataframe tbody tr th {\n",
       "        vertical-align: top;\n",
       "    }\n",
       "\n",
       "    .dataframe thead th {\n",
       "        text-align: right;\n",
       "    }\n",
       "</style>\n",
       "<table border=\"1\" class=\"dataframe\">\n",
       "  <thead>\n",
       "    <tr style=\"text-align: right;\">\n",
       "      <th></th>\n",
       "      <th>Código</th>\n",
       "      <th>Nombre del Producto</th>\n",
       "      <th>Cantidad</th>\n",
       "      <th>Costo total</th>\n",
       "      <th>Ganancia</th>\n",
       "      <th>Ganancia prom. %</th>\n",
       "      <th>Venta total</th>\n",
       "      <th>Categoria</th>\n",
       "    </tr>\n",
       "  </thead>\n",
       "  <tbody>\n",
       "    <tr>\n",
       "      <th>183</th>\n",
       "      <td>M835</td>\n",
       "      <td>Tarjeta De Memoria Kingston 64gb Canvas Select...</td>\n",
       "      <td>8.0</td>\n",
       "      <td>42.96</td>\n",
       "      <td>116852.511416</td>\n",
       "      <td>276378.0</td>\n",
       "      <td>118775.000</td>\n",
       "      <td>Tarjeta De Memoria Kingston 64gb Canvas Select...</td>\n",
       "    </tr>\n",
       "    <tr>\n",
       "      <th>467</th>\n",
       "      <td>C8114</td>\n",
       "      <td>Antena Externa Adaptador Usb Wifi Placa Red La...</td>\n",
       "      <td>3.0</td>\n",
       "      <td>11.88</td>\n",
       "      <td>28485.641610</td>\n",
       "      <td>239799.0</td>\n",
       "      <td>28500.000</td>\n",
       "      <td>Antena Externa Adaptador Usb Wifi Placa Red La...</td>\n",
       "    </tr>\n",
       "    <tr>\n",
       "      <th>951</th>\n",
       "      <td>NG-Uw06</td>\n",
       "      <td>Adaptador Inalambrico Wifi Usb Red Noga NG-Uw0...</td>\n",
       "      <td>1.0</td>\n",
       "      <td>4.33</td>\n",
       "      <td>8995.216928</td>\n",
       "      <td>207752.0</td>\n",
       "      <td>9000.004</td>\n",
       "      <td>Adaptador Inalambrico Wifi Usb Red Noga NG-Uw0...</td>\n",
       "    </tr>\n",
       "    <tr>\n",
       "      <th>1050</th>\n",
       "      <td>IB-611</td>\n",
       "      <td>CARGADOR CABEZAL ADAPTADOR PUERTO USB + TYPE C...</td>\n",
       "      <td>1.0</td>\n",
       "      <td>3.63</td>\n",
       "      <td>8195.605023</td>\n",
       "      <td>225795.0</td>\n",
       "      <td>8200.000</td>\n",
       "      <td>Cargador</td>\n",
       "    </tr>\n",
       "    <tr>\n",
       "      <th>1469</th>\n",
       "      <td>HE89313</td>\n",
       "      <td>TRINO MICROSCOPIO kailiwei 10HT-B1 NEGRO + ADA...</td>\n",
       "      <td>1.0</td>\n",
       "      <td>241.85</td>\n",
       "      <td>444707.362329</td>\n",
       "      <td>183898.0</td>\n",
       "      <td>445000.000</td>\n",
       "      <td>TRINO MICROSCOPIO kailiwei 10HT-B1 NEGRO + ADA...</td>\n",
       "    </tr>\n",
       "    <tr>\n",
       "      <th>1484</th>\n",
       "      <td>M834</td>\n",
       "      <td>Tarjeta De Memoria Kingston 32gb C10 Canvas Se...</td>\n",
       "      <td>1.0</td>\n",
       "      <td>2.80</td>\n",
       "      <td>8496.611724</td>\n",
       "      <td>303471.0</td>\n",
       "      <td>8500.000</td>\n",
       "      <td>Tarjeta De Memoria Kingston 32gb C10 Canvas Se...</td>\n",
       "    </tr>\n",
       "  </tbody>\n",
       "</table>\n",
       "</div>"
      ]
     },
     "execution_count": 347,
     "metadata": {},
     "output_type": "execute_result"
    }
   ],
   "execution_count": 347
  },
  {
   "metadata": {
    "ExecuteTime": {
     "end_time": "2024-12-27T16:05:00.354559Z",
     "start_time": "2024-12-27T16:05:00.341979Z"
    }
   },
   "cell_type": "code",
   "source": [
    "#ver valores unicos en la columna categoria ordenados alfabeticamente\n",
    "df['Categoria'].unique()"
   ],
   "id": "cb401a3fba1a88b6",
   "outputs": [
    {
     "data": {
      "text/plain": [
       "array(['Vidrio Glass', 'Pila', 'Cable', 'Pin Carga', 'Servicio Tecnico',\n",
       "       'PASTA TERMICA GRASA SILICONADA ARCTIC MX-4 4G ALTA POTENCIA',\n",
       "       'Modulo', 'Bateria',\n",
       "       'FLUX JERINGA 100% Organico NO TOXICO 10cc - EL REPA',\n",
       "       'Modulo Original', 'CAJA PLASTICA ALMACENAMIENTO PLACA SS001A',\n",
       "       'Consola',\n",
       "       'LAMINA POLARIZADORA PARA LCD - IPS DE 12\" (90 GRADOS) GLA.05204',\n",
       "       'Adaptador', 'Cargador', 'Mouse',\n",
       "       'Malla Silicona Para Xiaomi Mi Band 5/ Band 6/ Band 7 NEGRO M5/M6',\n",
       "       'PEGAMENTO PARA PANTALLA CELULAR B7000 110ML TRANSPARENTE MECHANIC',\n",
       "       'BOTELLA PLASTICA (con aguja) RL-054\\xa0', 'Film Glass',\n",
       "       'CONVERSOR HDMI A VGA CON CABLE AUDIO SM-C7819',\n",
       "       'TACTIL SAM J2 PRIME SYLVER', 'Auricular',\n",
       "       'HILO SEPARADOR LCD de tungsteno 0,03mm - SS-051\\xa0',\n",
       "       'Tarjeta de memoria SanDisk Ultra SD 16GB C10',\n",
       "       'Tarjeta de memoria SanDisk Ultra SD 32GB C10', 'CHIP PERSONAL',\n",
       "       'Microfono Respuesto Samsung J1 J2 J5 J7 J110 J7 Pro Prime',\n",
       "       'Chromecast Google Tv HD 8gb Blanco Con Control / Sin Fuente Ga03131',\n",
       "       'MANGO REMOVEDOR PEGAMENTO RELIFE RL101B',\n",
       "       'Aro Luz Led 30CM RGB + Tripode 2.1m HX-MJ30 / QX-260',\n",
       "       'KIT COMBO TECLADO Y MOUSE INALMBRICO 2.4G SLIM BLANCO DN-H263',\n",
       "       'LAMINA OCA 250UM 10\"',\n",
       "       'Malla Silicona Para Samsung Fit 2 Negro SM-R220',\n",
       "       'TRANSFORMADOR FUENTE TIRA DE LED CCTV CAMARAS 12V 2A (3157A)',\n",
       "       'CONTADORA DE BILLETES GLOBAL CARGA SUPERIOR / VISOR DIGITAL Y EXTERNO / DETECCION DE BILLETES FALSOS - GLOBAL BILLCOUNTER-1',\n",
       "       'ESPATULA ULTRAFINA PARA APERTURA X20 DESARME MECHANIC',\n",
       "       'Joystick',\n",
       "       'MICROFONO INALAMBRICO CORBATERO TIPO-C CON CAJITA J11-TC',\n",
       "       'Pendrive Patriot 64gb Supersonico Rage Lite Usb 3.2 Gen 1 Pef64grlb32',\n",
       "       'RELIFE STENCIL UNIVERSAL MULTIPROPOSITO',\n",
       "       'CARCASA EXTERNA PARA DISCO RIGIDO 2.5 CON CABLE 3,0 / DX-1CAREXT2',\n",
       "       'CASE PARA DISCO RIGIDO 2.5 - 2.0 DN-K2502',\n",
       "       'ESTAÑO EN HILO WUZIP ROLLO 80G 35/65 0.6MM',\n",
       "       'Lapiz Optico Doble Punta Para Smartphone Tablet O Celular Punta Fina Y Redonda',\n",
       "       'MALLA DESOLDANTE MECHANIC R300 / 2015',\n",
       "       'PEGAMENTO PARA PANTALLA CELULAR T7000 110ML / NEGRO MECHANIC',\n",
       "       'Parlante', 'Pulsera Antiestatica Con Cable',\n",
       "       'ALCOHOL ISOPROPILICO ALTA PUREZA DELTA 1 LITRO PHXL',\n",
       "       'CABEZAL PARA IPHONE 20W TIPO C MU7U2LL/A',\n",
       "       'CEPILLO DOBLE SUNSHINE - SS022B', 'CINTA DOBLE FAZ 3mm x 55M',\n",
       "       'Disco Solido SSD 480GB KINGSTON A400 SATAIII 2.5',\n",
       "       'Joystick Bluetooth Con Soporte para Celular Seisa SJ-A1006',\n",
       "       'KIT MOUSE Y TECLADO INALAMBRICO EZRA KB03',\n",
       "       'LAMINA OCA 250UM 15\"',\n",
       "       'Limpia Pantallas Screen Cleaner 120 cc Incluye Paños Chemitec',\n",
       "       'REMOVEDOR GEL UV Y LAMINA OCA 100CC',\n",
       "       'Receptor BT Bluetooth USB 5,0',\n",
       "       'Tarjeta De Memoria Kingston 64gb Canvas Select Con Adaptador C10',\n",
       "       'Tarjeta de memoria Sd 128gb Clase 10 Patriot V30 / 4K / 90mb/s',\n",
       "       'Aro Luz Led 26cm Blanco Frio Calido + Tripode 2.1m QX-260 / S26',\n",
       "       'CHIP CLARO', 'CONVERSOR DE AUDIO OPTICO A RCA AUDIO SM-C7812',\n",
       "       'CUBRE DEDOS X2 PUBG COD MOBILE FREEFIRE ANTI-SWEAT CELULAR WN-Z12',\n",
       "       'Fpc Compatible Con Samsung A02 / A12 / A22 / A32 / A52 / A72 / 78 Pines ',\n",
       "       'LAMINA POLARIZADORA PARA LCD - IPS DE 10\" (180 GRADOS)',\n",
       "       'LAMPARA DE MESA CON BRAZO LARGO DE METAL ESTILO AMERICANO MT-811',\n",
       "       'Lapiz optico R06 METAL', 'MALLA DESOLDANTE RELIFE - RL2030',\n",
       "       'MALLA REPUESTO PARA RELOJ 22mm AZUL',\n",
       "       'MINI DRILL IR14 CON DISPLAY 6 EN 1 - MECHANIC',\n",
       "       'PENDRIVE KINGSTON 3.2 dtx 128Gb Exodia Negro/Amarillo',\n",
       "       'Placa de Carga', 'SOPORTE TV FIJO 26 A 55 DINAX DX-STVF2655',\n",
       "       'Soporte De Celular Para Auto Noga Rejilla NG-Hold2',\n",
       "       'ACTIVADOR Y CARGADOR DE BATERIA ER-BA19',\n",
       "       'CELULAR NOKIA 106 Dual SIM 4 MB RAM GRIS OSCURO',\n",
       "       'Conversor Display Port A a HDMI Full HD 1080p Netmak NM-C102',\n",
       "       'JUGO DE PITUFO 1 LITRO - REMOVEDOR DE SULFATO ',\n",
       "       'KIT TECLADO Y MOUSE 2,4G INALAMBRICO ULTRA DELGADO NEGRO K-06',\n",
       "       'LAMINA OCA 250UM 12\"',\n",
       "       'MALLA NYLON VELCRO LOOP 42/44 MM - 255 MM COLORES',\n",
       "       'Memoria DDR3 Markvision 8Gb 1600 MHz 1.35V BULK (6259)',\n",
       "       'PALITO METALICO DE APERTURA PUA RELIFE - RL050',\n",
       "       'PLACA USB/WIFI 150M CON ANTENA 5DBI DNW150U2',\n",
       "       'Pen Drive KINGSTON 32GB USB 3.2 DTXM EXODIA M NEGRO',\n",
       "       'Pen Drive Sandisk Cruzer Blade 128gb',\n",
       "       'RESINA - ROSIN para detectar cortos',\n",
       "       'SOPORTE TV MOVIL CON BRAZO 26 A 55 SEISA GJ-CP303', 'Tapa',\n",
       "       'Teclado Y Mouse Inalambrico Bluetooth - Slim - Recargable Rdkm-906 ROSA',\n",
       "       'BASTON SELFI STICK 3 GEN. QUALITY BLUETOOH 78 CM CON CABLE',\n",
       "       'DOCK FLEX TEST (TIPO C)\\xa0',\n",
       "       'ESTAÑO EN PASTA 138 - 40g - WUZIP ',\n",
       "       'Fpc Compatible Con Samsung A04 / 40 Pines',\n",
       "       'Fpc Para Samsung A30s / A31 / A51 / A70 / A71 / A80 / 78 Pines  ',\n",
       "       'KIT DESTORNILLADORES PARA CELULARES YAXUN YX-6029',\n",
       "       'Kit Destornilladores Yaxun YX6028 Tablet Celular',\n",
       "       'LAMINA POLARIZADORA PARA AMOLED OLED 10\"',\n",
       "       'MALLA SILICONA DEPORTIVA 20MM NEGRO/ROJO',\n",
       "       'Malla Nylon Para Xiaomi Mi Band 7 Negro',\n",
       "       'Malla Silicona Para Xiaomi Mi Band 5/ Band 6/ Band 7 AZUL M5/M6',\n",
       "       'Microfono Corbatero Inalambrico -  Ficha tipo C / K8',\n",
       "       'PUNTA DE SOLDADOR MECHANIC BLACK 900M-T-IS 8348',\n",
       "       'Punta Para Estación Soldado T12 KU (cuchilla fina)',\n",
       "       'SOPORTE CELULAR MULTIFUNCION LG-002',\n",
       "       'SOPORTE TV FIJO 14 A 42 DELHIP DL-FJ1442',\n",
       "       'Soldador De 40w Punta De Ceramica ZD-40 Megalite',\n",
       "       'TRIPODE PARA CELULARES O CAMARAS DE HASTA 1,02 MTS SKY TR8',\n",
       "       'TRIPODE PARA CELULARES O CAMARAS DE HASTA 1,40 MTS SKY TR9',\n",
       "       'ANALOGO JOYSTICK REPUESTO PS4 PS5 XBOX ONE',\n",
       "       'CASE DISCO 3.0 Seisa Tranparente Dn-k209', 'CINTA KAPTON 15mm',\n",
       "       'Destornillador Mechanic Imini S2 +1,5 05271',\n",
       "       'Disco Solido SSD 240GB KINGSTON A400 SATAIII 2.5',\n",
       "       'ESPEJO LED LUZ FRIA A PILA Y USB ESP-91013',\n",
       "       'ESTABILIZADOR KIT CON LUZ Y MICROFONO AY-49U',\n",
       "       'ESTAÑO EN PASTA 183 GRADOS GSMSOURCES',\n",
       "       'EXTENSOR / REPETIDOR KANJI KJN-RP4200B 4 ANTENAS',\n",
       "       'Espatula Profesional Ultrafina Mechanic X10',\n",
       "       'FLEX INTERCONEXION SAM A50 NO. 2',\n",
       "       'FUENTE UNIVERSAL 9V 1,5A DOBLE FICHA  ROUTER / PARLANTES EC9V15A',\n",
       "       'Fuente PC Noga ATX-550 24 Pines P4 550W ATX 550 P4',\n",
       "       'HILO JUMPER 0.007 Superfine Silver (NO AISLADO) - SS007E',\n",
       "       'HILO JUMPER 0.01 (AISLADO) - SS007D\\xa0',\n",
       "       'HUB 4 PUERTOS USB 1MTS DINAX DX-HUB1M',\n",
       "       'LENTE CAMARA IPHONE 11 12 12 Mini X2 U',\n",
       "       'Lapiz optico Pen Stylus JAZAK WK24 / Compatible con todo tipo de tablets Android o Ipad',\n",
       "       'Lector De Memoria Micro SD NO:2400',\n",
       "       'Malla Deportiva Silicona Para Xiaomi Mi Band 5 / 6 / 7 Negro con Rojo',\n",
       "       'PAD TERMICO URANUS TP-U1 50X50X1.0MM 12W/MK ALTO RENDIMIENTO',\n",
       "       'PINZA BRUCELA SAK-11 RECTA Mechanic',\n",
       "       'PINZA BRUCELA SAK-15 CURVA Mechanic',\n",
       "       'PLANCHA SEPARADORA LCD GTOOL 988A CON SUCCION\\xa0+ PAD GOMA',\n",
       "       'PUNTAS FINAS GOLD MULTIMETRO SS024A',\n",
       "       'Pen Drive HIKSEMI 64Gb M200S Rotary USB 3.0 (6942)',\n",
       "       'Pen Drive KINGSTON 32GB USB 3.2 DTX EXODIA NEGRO',\n",
       "       'Plancha Separadora de Glass HEADFOX MC958',\n",
       "       'RECEPTOR DE AUDIO BLUETOOTH BT350 BT-350 or 146838',\n",
       "       'Receptor USB NANO Wireless WIFI AC600 Dual band Tp-Link T2U NANO',\n",
       "       'SET X3 SPUDGER METALICOS KIT RL065', 'SOPLADOR RL043A RELIFE',\n",
       "       'SOPORTE PARA CELULAR / TABLET - SA18 NEGRO GM-4217NE',\n",
       "       'SOPORTE TV DOBLE BRAZO MOVIL GLOBAL 30 A 60 INCLINACION 5±10° HASTA 35KG KIT DE INSTALACION TVS-ARM2-30-60I',\n",
       "       'Teclado',\n",
       "       'Teclado Y Mouse Inalambrico Bluetooth - Slim / Recargable Rdkm-906 NEGRO',\n",
       "       'USB TESTER - SS302A\\xa0', 'ALICATE RELIFE RL-113',\n",
       "       'Aguja metalica para jeringa de flux o estaño',\n",
       "       'Antena Externa Adaptador Usb Wifi Placa Red Lan 802 N Gb',\n",
       "       'CAMARA SMART IP 720P DINAX DX-CAMSMAIP', 'COOLER NAXIDO RGB 12CM',\n",
       "       'Camara de Seguridad', 'Cepillo Doble Wuzip - Azul EBB-003',\n",
       "       'Desoldador A Piston Chupador De Estaño Metalico',\n",
       "       'Disco Solido SSD 128GB PATRIOT P220 2.5\" SATA',\n",
       "       'Disco Solido SSD 1TB PATRIOT P210 Sata',\n",
       "       'Disco Solido SSD 480GB  ADATA SU630 Sata',\n",
       "       'EMBOLO PARA JERINGA DE ALUMINIO P08 para jeringa de 10cc ',\n",
       "       'ESPATULA PARA REBALLING Y APERTURA - JM-Z12\\xa00',\n",
       "       'ESTABILIZADOR DE TENSION ATOMLUX R500@ 220V 6 TOMAS 500VA',\n",
       "       'ESTAÑO EN PASTA 183 - 40g - WUZIP',\n",
       "       'ESTAÑO EN PASTA SP-X SOLDER PASTE 158 GRADOS G-LON\\xa0',\n",
       "       'Espatula Profesional De Desmontaje De Baterias X12 Mechanic',\n",
       "       'Estabilizador Surelectric Future 6 Bocas 220v-1000va (0017)',\n",
       "       'Estacion De Soldado Lapiz Cautin Con Regulador 936D+ 400 Grados 60W',\n",
       "       'FLEX DE CARGA IPHONE 6S WHITE',\n",
       "       'FLEX DE CARGA IPHONE 8 PLUS WHITE/BLACK',\n",
       "       'FLEX INTERCONEXION SAMSUNG A52',\n",
       "       'FUNDA PORTA NOTEBOOK 13 PULGADAS CON BOLSILLO / GRIS / DEHUKA',\n",
       "       'FUNDA PORTA NOTEBOOK 15.6 AZUL CDTEK',\n",
       "       'FUNDA PORTA NOTEBOOK PIERRE CARDIN PC-3011MED',\n",
       "       'Film Vidrio Templado CAMARA FULL Para Iphone 13 / 13 MINI / 14 PRO / 11 / 11 Pro / 11 Pro Max 51566',\n",
       "       'KIT DESTORNILLADORES SS-5106 PARA iPHONE 7 (4 pcs)\\xa0',\n",
       "       'Kit Destornilladores Yaxun YX6310 Tablet Celular',\n",
       "       'Kit de Teclado y Mouse inalambrico Logitech MK220 920-004430',\n",
       "       'LAMPARA ARTICULADA DE ESCRITORIO PIXAR OR-L01 ',\n",
       "       'LAMPARA UV usb - RL-014', 'LENTE CAMARA IPHONE X',\n",
       "       'LIMPIADOR PUNTA CAUTIN - GOLD - ESPONJA METALICA ss-599b',\n",
       "       'Lapiz optico TARGUS MAGNETICO 5\" AMM168GLX',\n",
       "       'Lector De Memorias Sd Micro Sd A Usb',\n",
       "       'MALLA DESOLDANTE MECHANIC R350 / 1515',\n",
       "       'MALLA DESOLDANTE RELIFE - RL1515',\n",
       "       'Malla Deportiva Silicona Para Xiaomi Mi Band 5 / 6 / 7 Negro con Amarillo',\n",
       "       'NEON RGB KIT LED-3535NH72TZ-12V-RGB 5M',\n",
       "       'PINZA BRUCELA ESD-11 RECTA HQ Mechanic',\n",
       "       'PINZA BRUCELA ST-15 CURVA ANTIESTATICA Mechanic',\n",
       "       'PLACA DE SONIDO USB DX-PLSON71 DINAX',\n",
       "       'PLACA USB/WIFI 150M CON ANTENA DN-W150U3 or 135145',\n",
       "       'PUNTA DE SOLDADOR MECHANIC 900M-T-FS 8341',\n",
       "       'Pad Liso De Caucho Y Corcho Cmp213',\n",
       "       'Pasta Grasa Siliconada Metalica X 5 Cc. Servex 91009',\n",
       "       'Paños limpieza wipes rl-045',\n",
       "       'Punta Para Estacion Soldado T12 J02 (curva)',\n",
       "       'RADIO RETRO AM FM CON LINTERNA / BLUETOOTH SEISA YX-119UBT',\n",
       "       'REMOVEDOR DE GOMA Q5000 100MM',\n",
       "       'ROUTER TP-LINK TL-WR850N WISP 2 ANTENAS 2.5DBI 300MBPS',\n",
       "       'Radio Retro Am Fm Con Linterna Y Bluetooth Seisa YX-123UBT',\n",
       "       'SERV TEC PIN', 'SERV TEC TACTIL Y LCD', 'SEÑA POR ARREGLO',\n",
       "       'SOPORTE PARA CELULAR DE ALUMINIO MOD39',\n",
       "       'SOPORTE TV FIJO SEISA 42 A 85\" HASTA 100KG/ Con Inclinacion GJ-C65',\n",
       "       'SPLITTER HDMI 1 A 2 4K / ADP-48006',\n",
       "       'SPUDGER METALICO ESPATULA\\xa0',\n",
       "       'Soporte Notebook Hasta 17\" NM-HC75',\n",
       "       'Soporte Regulable Giratorio 360º Para Tablet Y Celulares ZX-ZJ48',\n",
       "       'TESTER MULTIMETRO DIGITAL COMPACTO UNI-T Ut33c+ Plus',\n",
       "       'Touch TPC-51055 V3.0 / FPC-TP070215(708B) / FPC-TP0702015 / FPC-TP070226 / ZJ-70065F / WJ615-V1.0',\n",
       "       'Transmisor Inalambrico Bluetooth Auto Manos Libres CarF7 TIPO C',\n",
       "       'Xiaomi Mi Band 8 Pantalla 1.62 Pulgadas Malla Negra',\n",
       "       'ARTICULO NO ENCONTRADO EN LA LISTA',\n",
       "       '011 QIANLI Cuchillas pulidas a mano',\n",
       "       'ACTIVADOR DE BATERIAS SUNSHINE SS915 v9',\n",
       "       'ALICATE SUNSHINE SS109\\xa0',\n",
       "       'Analogico Nintendo Switch Joy-Con Joystick Repuesto Original',\n",
       "       'BALANZA MINI DIGITAL DE PRECISION 500G / 0.1G LCD LUZ MH-500',\n",
       "       'CINTA KAPTON 10mm (fina)',\n",
       "       'Camara Web 1080p USB Con Microfono C007 ',\n",
       "       'Camara wifi Ezviz interior inteligente - C6N 1080p',\n",
       "       'DOCK FLEX TEST (Micro)',\n",
       "       'Disco Externo Toshiba Canvio 2tb Black Usb 3.0 Hdtb520xk3aa',\n",
       "       'Disco Solido SSD 240GB ADATA SU630 Sata',\n",
       "       'Disco Solido SSD 512GB VERBATIM SATA 3',\n",
       "       'Drill Relife Rl-068 Removedor De Oca Minitorno Dremell',\n",
       "       'EMBOLO PARA JERINGA DE ALUMINIO P09 para jeringa de 10cc',\n",
       "       'ESPATULA SET 27 REMOVEDOR DE IC - SS101A\\xa0',\n",
       "       'ESTACION DE SOLDADO CON PISTOLA DE AIRE 2 EN 1 HK-8506D Mechanic',\n",
       "       'EXTENSOR / REPETIDOR KANJI KJN-RP4200A',\n",
       "       'EXTENSOR DE RANGO Tp-Link Re200 Dual Band 2.4Ghz 5Ghz Ac750',\n",
       "       'Espatula Profesional Ultrafina Mechanic X9',\n",
       "       'FILM HIDROGEL MI BAND 6',\n",
       "       'FILM MEMBRANA CONDUCTOR JOYSTICK PS4 JDM-040',\n",
       "       'FLEX INTERCONEXION MOTO G9 POWER',\n",
       "       'FLEX INTERCONEXION SAM A22 4G - A225 / A32 - A325',\n",
       "       'FLEX INTERCONEXION SAM A30S',\n",
       "       'FUNDA PORTA NOTEBOOK 13 PULGADAS CON BOLSILLO / NEGRA / DEHUKA',\n",
       "       'FUNDA PORTA NOTEBOOK PIERRE CARDIN PC-3010MED',\n",
       "       'Flex Power Huella Samsung A12 ', 'Flex Power Huella Samsung A13',\n",
       "       'Flex Power y Volumen Moto G22',\n",
       "       'HD EXTERNO 1TB PORTABLE WD ELEMENTS BLACK USB 3.0 Negro',\n",
       "       'HILO glass separador 0,03mm - RL-059A (verde)',\n",
       "       'Hub Usb 3.0 De 4 Puertos Aluminio Kq009H',\n",
       "       'JUEGO DE AJEDREZ TABLERO MAGNETICO 3881A',\n",
       "       'KIT INALAMBRICO TECLADO + MOUSE S5600 CELESTE / VERDE',\n",
       "       'Kit 5 Destornilladores CELUS RL728a', 'LAMINA OCA HYBRIDA 15\"',\n",
       "       'LAMPARA CURADO UV Con Extractor Mc18 MECHANIC',\n",
       "       'LENTE CAMARA IPHONE 11 PRO',\n",
       "       'Lector De Memoria Usb A Micro Sd Compacto HT-279A',\n",
       "       'Lector de Codigo de barras Laser Inalambrico 1D Netmak NM-LC502\\xa0',\n",
       "       'MALETIN PORTA NOTEBOOK 14/15,6\" LENOVO T210 GRIS',\n",
       "       'MALLA REPUESTO PARA RELOJ 20mm COLORES',\n",
       "       'MALLA REPUESTO PARA RELOJ MI BAND 5 / BAND 6 COLORES',\n",
       "       'MASCARA UV RELIFE - Negro',\n",
       "       'MEMORIA RAM SODIMM DDR4 PNY 8GB XLR8 GAMING 3200MHZ',\n",
       "       'MICROFONO GAMER DX-MICX15', 'MICROFONO XMC-01 XTRIKE ME',\n",
       "       'MINI VENTILADOR USB C/LUZ MINI FANS HQ66-09',\n",
       "       'Malla Silicona Para Xiaomi Mi Watch 2 Lite Rojo',\n",
       "       'Memoria SODIMM DDR3 HIKSEMI 8Gb 1600 MHz Hiker (7499)',\n",
       "       'Memoria SODIMM DDR3 Markvision 8Gb 1600 MHz 1.35V BULK (6372)',\n",
       "       'Microfono Performer Dinamico Karaoke Noga Ng-mi120c',\n",
       "       'Microfono Retro Jack 3.5mm DINAX DX-MICRET25',\n",
       "       'ORGANIZADOR MULTIFUNCIONAL DE MADERA CON 24 ESPACIOS MECHANIC B24',\n",
       "       'Organizador rotativo para destornilladores RELIFE RL-078A',\n",
       "       'PAD Para plancha de calor - SS004s',\n",
       "       'PEGAMENTO T7000 - ZHANLIDA 110ml - Negro',\n",
       "       'PEN PARA QUITAR TAPAS IPHONE - RL066',\n",
       "       'Pendrive Patriot 64gb Push + Usb 3.2 ',\n",
       "       'Pinza Crimpeadora Para Cables RJ45 con Pelacables WJ-315',\n",
       "       'Placa de Red PCI-E 300N 2x 2Dbi Tp-Link TL-WN881ND',\n",
       "       'Punta Relife RL-900M - IS (curva)',\n",
       "       'Punta Relife RL-900M-I (recta)',\n",
       "       'Punta Relife RL-900M-T-K (cuchilla)',\n",
       "       'RADIO PORTATIL BLUETOOTH VINTAGE RETRO NEGRO SUONO 239608',\n",
       "       'RASPADOR REMOVEDOR DE PEGAMENTO - RL-023\\xa0',\n",
       "       'RECEPTOR BLUETOOTH DOBLE SALIDA BLS-BT02',\n",
       "       'RECEPTOR BLUETOOTH DX-REPBLUE810 DINAX',\n",
       "       'RECEPTOR WIFI DINAX DOBLE BANDA 1300MBPS / DXREPE2BAN',\n",
       "       'RELOJ INTELIGENTE IMILAB W02 1,85\" Negro',\n",
       "       'RODILLO LAMINACION 7CM SILICONA BLANCO',\n",
       "       'ROUTER DINAX WIFI 4 ANTENAS IEEE 802.11N DX-7ROU1023',\n",
       "       'Removedor Flux DELTA Limpiador Residuos Resina 180G',\n",
       "       'SET DESTORNILLADORES 34 in 1 mod SS-5119',\n",
       "       'SOPORTE BASE ALUMINIO PARA NOTEBOOK ZX-447',\n",
       "       'SOPORTE DE MESA PLEGABLE / NOTEBOOK 13 / TABLET / BLANCO - SA23 GM-5427BL',\n",
       "       'SOPORTE LCD BRAZO DOBLE 26 A 55 DINAX DX-SM2655TV',\n",
       "       'SOPORTE RELIFE RL601L mini',\n",
       "       'SOPORTE UNIVERSAL PARA CELULAR FLY 2081-D',\n",
       "       'Soporte Para Celular De Brazo FLEXIBLE Con Pinza Ajustable COLORES',\n",
       "       'TACTIL  LG K40s NEGRO +O',\n",
       "       'TECLADO Y MOUSE GAMER RETROILUMINADO STOMER NKB-570',\n",
       "       'TESTER MECHANIC T-824 Detector De Fallas Lightning Y Usb C',\n",
       "       'TRIPODE BRACKET H-08 COLORES', 'TV BOX MXQ-4K (1GB+8GB) Peiso',\n",
       "       'TWEEZER PINZA RELIFE (curva) - RT14SA',\n",
       "       'TWEEZER PINZA RELIFE (plana) - ST20',\n",
       "       'TWEEZER PINZA RELIFE (recta) - RT14A\\xa0',\n",
       "       'Tarjeta de memoria Patriot 64gb Clase10 80MB/s',\n",
       "       'Touch Mas Simple 8 pulgadas / L201190610 06.3848.001 L20190618 F20190704 li20190618',\n",
       "       'Turbina Cooler Anillo 12 cm con Led Azul conexion a fuente Netmak NM-RING',\n",
       "       'VGA MACHO A HDMI HEMBRA FULL HD 1080 ADP-48007',\n",
       "       '4B1 Touch Philco TP7A1I / PB70A2229',\n",
       "       'ALCOHOL ISOPROPILICO ALTA PUREZA DELTA 500CC PHX500',\n",
       "       'APOLLO QIANLI',\n",
       "       'Adaptador Inalambrico Wifi Usb Red Noga NG-Uw06 Antena 150mbps 2,4GHZ',\n",
       "       'Alcohol Isopropilico Chemitec Aerosol 440cc Pro Max',\n",
       "       'Ariculares BT Skullcandy Jib True 2 Con Microfono Gris S1JTW-P744',\n",
       "       'BANDEJA SIM S10 / S10 PLUS',\n",
       "       'BANDEJA SIM SAM A10 / A10S / A20 / A30 / A50 / A70',\n",
       "       'BANDEJA SIM SAM A31', 'BANDEJA SIM SAM S8 / S8 PLUS SYLVER',\n",
       "       'BASE SEPARADORA UNIVERSAL 360° RELIFE RL-601S*',\n",
       "       'BOTON HOME IPHONE 7',\n",
       "       'Barra Sonido Tv o Pc Bluetooth / Sd / Radio / Usb / Recargable / E-5011',\n",
       "       'Base Cooler Pad Para Notebook A9 14/15/17 Pulgadas + Usb ',\n",
       "       'Base Doble Cooler Para Notebook Luz Led + 2 USB 668',\n",
       "       'Base Doble Cooler Para Notebook Luz Led + 2 USB B-9',\n",
       "       'Base Para Monitor Gamer Eleva Soporte Celular Usb Luces Noga NG-ZA5',\n",
       "       'Batea Cubeta Ultrasonido 30W YX-3030 Yaxun',\n",
       "       'Batea Ultrasonido Yaxun Yx-3060',\n",
       "       'CAMARA EXTERIOR IP WIFI IMOU Cruiser Se+ 4mp Full Color',\n",
       "       'CAMARA IP CLOUD TP-LINK TAPO C310 3MP EXTERIOR',\n",
       "       'CAPTURADORA HDMI A USB HU-03', 'CINTA ALUMINIO 15MM / 20M',\n",
       "       'CONTADORA DE BILLETE NAXIDO H-302 LCD DISPLAY',\n",
       "       'CONVERSOR VGA A HDMI CON AUDIO Y USB (CABLE) 1244',\n",
       "       'Camara Microscopio Hd Mechanic Rx-510',\n",
       "       'Camara Mini Espia De Seguridad Wifi Hd Con Microfono SEISA IPC-NB10',\n",
       "       'Camara Web Webcam Xiaomi W88 FULL HD(1080P)',\n",
       "       'Camara web GENIUS Facecam 1000x 720p hd',\n",
       "       'Celular Motorola Moto G13 64gb / 4gb RAM Gris',\n",
       "       'Celular Motorola Moto G32 128GB / 4GB Ram Plata Satinado',\n",
       "       'Celular Samsung Galaxy A04 32GB/3GB RAM VERDE',\n",
       "       'Celular Samsung Galaxy A04 64GB/4GB RAM Negro',\n",
       "       'Celular Samsung Galaxy A14 128gb/4gb Ram Negro',\n",
       "       'Conector USB tipo C Macho a Audio 3.5 Hembra / Mallado 09-057',\n",
       "       'Conversor Gamer Para Teclado Y Mouse A Celular Bluetooth Mix Pro',\n",
       "       'Conversor Rca Audio Y Video AV A Hdmi 1080p AV2HDMI-T',\n",
       "       'Conversor de VGA + Audio a HDMI Activo VGA2HDMI',\n",
       "       'Cooler 8025 Turbina NEGRA 8 cm conector a fuente Netmak NM-8025',\n",
       "       'Cooler Turbina TRANSPARENTE Luz Azul 8cm a fuente Netmak NM-8025T',\n",
       "       'DESTORNILLADOR RELIFE - PHILLIPS 1.2/1.5+ - RL721\\xa0',\n",
       "       'DISCO SSD SOLIDO PNY 480GB 2.5\" SATA CS900',\n",
       "       'DOCK FLEX TEST (iPhone)\\xa0',\n",
       "       'Disco Rigido Notebook 1TB Toshiba L200 SATA II 3.0 Gb/s 7mm 5400 rpm HD123',\n",
       "       'Disco Solido SSD 120Gb GIGABYTE Sata',\n",
       "       'Disco Solido SSD 1TB PNY 1TB-RB SATA',\n",
       "       'Disco Solido SSD 250GB Kingston NV1 SNVS/250G',\n",
       "       'Disco Solido SSD 256GB PATRIOT P210 SATA3 2.5',\n",
       "       'Disco Solido SSD 256GB PATRIOT P220 SATA3 2.5',\n",
       "       'Disco Solido SSD 500GB M.2 NVME WESTERN DIGITAL BLUE SN570',\n",
       "       'ENCHUFE INTELIGENTE WIFI SMART PLUG SA-014 GB',\n",
       "       'ESPATULAS METALICAS KIT RELIFE RL-087',\n",
       "       'ESPEJO RECTANGULAR TOUCH CON LUZ LED DINAX / DX-3ESPLUZAA',\n",
       "       'ESTACION DE SOLDADO AIRE + CAUTIN QUICK 715',\n",
       "       'ESTACION DE SOLDADO AIRE MECHANIC 861DW PRO',\n",
       "       'ESTACION DE SOLDADO Cautin QUICKO T12-952',\n",
       "       'ESTAÑO ALAMBRE NIQUEL 0.8mm RELIFE RL444 ',\n",
       "       'ESTAÑO EN PASTA 138 GRADOS (BAJA FUSION) RELIFE POTE 40g - RL404\\xa0',\n",
       "       'EXTENSOR DE HDMI POR UTP RED ETHERNET 30M GM5719 HDEXT',\n",
       "       'EXTENSOR DE RANGO De Wifi 300mbps 2.4ghz REP-RP4200E',\n",
       "       'Espuma De Limpieza Delta Compitt Foam Seco Pc Monitor 370g',\n",
       "       'Estacion De Soldado Mechanic T210 SOL 05647',\n",
       "       'FLEX DE CARGA IPHONE 7 PLUS WHITE',\n",
       "       'FLEX DE ENCENDIDO MOTO E6 PLUS',\n",
       "       'FLEX DE ENCENDIDO Y VOLUMEN SAM A10',\n",
       "       'FLEX INTERCONEXION SAM A31', 'FLEX INTERCONEXION SAMSUNG A33',\n",
       "       'FLEX JACK / MIC  SAMSUNG J400',\n",
       "       'FLUX 100% ORGANICO EN TARRO CHICO 30CC NO TOXICO',\n",
       "       'FLUX JERINGA MECHANIC P23 10CC', 'FLUX JERINGA MECHANIC P59 10CC',\n",
       "       'FLUX MECHANIC SD360 MAX 10CC 8546',\n",
       "       'FUENTE AUREOX PARA PC UNLIMITED SERIES 650W REALES / 80 PLUS BRONZE / COLOR NEGRA',\n",
       "       'FUNDA PORTA NOTEBOOK 15,6 PULGADAS CON BOLSILLO / NEGRA / DEHUKA',\n",
       "       'Flux jeringa 10cc - Wuzip',\n",
       "       'Fpc 50 Pines Compatible Con Moto e6i / e6s / e7i power',\n",
       "       'Fuente 800mA multiple voltaje y conectores Universal Noganet NOGA 79',\n",
       "       'Fuente Alimentacion 12v 10amp Camara De Seguridad / Iluminacion S-120-12',\n",
       "       'Fuente De Poder 3/4.5/6/7.5/9/12 Voltios 6 Puntas Cargador Multiple 30w MULTI-ROLE cm053',\n",
       "       'Fuente Gigabyte P850gm 850w 80 gold Modular',\n",
       "       'Fuente SUNSHINE 1502d - 15v - 2A', 'GAMING COMBO 4 EN 1 NKB-405',\n",
       "       'Gavetero Metalico Organizador Relife RL001d',\n",
       "       'Grip Para Analogico Nintendo Switch Joy Con Y Switch Lite',\n",
       "       'HDMI SPLITTER 1 x 4 DUPLICA 4KX2K 3D SM-C7830K',\n",
       "       'HOJA DE PUNTOS Y LINEAS DE SOLDADURA MECHANIC MAGIC TAG',\n",
       "       'HOLDER BASICO SUNSHINE - SS601A - SOPORTE DE PLACAS',\n",
       "       'HOLDER MK1 Mini Soporte Giratorio MECHANIC',\n",
       "       'HOLDER UNIVERSAL WL (colores varios) SOPORTE DE PLACAS\\xa0',\n",
       "       'HUB TIPO C SEISA BYL-2103T 5 IN 1',\n",
       "       'Hub Usb 3.0 De 4 Puertos Kq008H',\n",
       "       'Hub Usb 3.0 De 7 Puertos Kq022H',\n",
       "       'Hub Usb Tipo C A 4 Puertos Usb 2.0 Kq-005H',\n",
       "       'Hub Usb Tipo C De 4 Puertos 3.0 Kq 002H',\n",
       "       'Impresora Termica POS 80mm Ancho de Impresion - USB2.0+RJ11-203dpi - 100mm/s - Global TP-POS80-USB',\n",
       "       'JOYSTICK Inalambrico Recargable AITECH C6 con soporte Celular',\n",
       "       'JUEGO DE DESTORNILLADOR ITECH 48 EN 1 MECHANIC',\n",
       "       'KIT COMBO TIRA DE LED RGB LED-Y3528RD',\n",
       "       'KIT Destornilladores 8 en 1 Reparacion SW-6308A 2088-8pc',\n",
       "       'KIT MOUSE Y TECLADO INALAMBRICO DINAX DX-2BTCOMB',\n",
       "       'Kit Destornilladores Precision 9 En 1 AMAOE',\n",
       "       'Kit Destornilladores Precisión 6 En 1 Mechanic Mortar',\n",
       "       'Kit Destornilladores SS-5120 set 128 in 1',\n",
       "       'Kit Destornilladores SS-5121 set 66 in 1',\n",
       "       'Kit de Teclado y Mouse inalambrico Logitech MK270 920-004432',\n",
       "       'Kit de Teclado y Mouse inalambrico Logitech MK345 920-007820',\n",
       "       'LAMPARA CURADO UV Q1 MECHANIC', 'LAMPARA CURADO UV Q2 MECHANIC',\n",
       "       'LAMPARA VELADOR TACTIL LUZ CALIDA / FRIA Y NATURAL LED-81010 / BL-128',\n",
       "       'LASER ESTROBOSCOPICO COLORES 9 LUCES JS-PS15W',\n",
       "       'LECTOR SIM MOTO G7 POWER', 'LENTE BARLOW M22 - 48mm - 0.7x',\n",
       "       'LENTE BARLOW RF4 0.5X', 'LENTE CAMARA IPHONE 6 6S 6S PLUS 6 PLUS',\n",
       "       'LENTE CAMARA MOTO G8 POWER', 'LENTE CAMARA SAM A10 / a20 / a30',\n",
       "       'LENTE CAMARA XIAOMI NOTE 8 PRO',\n",
       "       'LENTE PROTECTOR POLVO y HUMO M25 - 48mm',\n",
       "       'LINTERNA TACTICA MULTIFUNCION SWAT FLASHLIGHT USB BALIZA 807',\n",
       "       'LUZ LED SELFIE 8233 3 NIVELES',\n",
       "       'Lampara De Escritorio Usb Oficina Led Velador Touch Dimer VIR-4556',\n",
       "       'Lamparita Smart Nexxt RGB Wifi 220V Dicroiica x3',\n",
       "       'Lector de Codigo de barras Laser USB 1D CON SOPORTE PIE Netmak NM-LC401-S',\n",
       "       'Lubrimatic DELTA Baja Densidad Usos Generales 180CC / 130G',\n",
       "       'MALLA REPUESTO PARA RELOJ 20mm GRIS',\n",
       "       'MALLA SILICONA 22mm ROSA GM-5270',\n",
       "       'MALLA SILICONA 42/44 MM - 96+119 MM GREEN',\n",
       "       'MALLA SILICONA 42/44 MM GM-5268 AZUL',\n",
       "       'MALLA SILICONA DEPORTIVA 20MM AZUL/CELESTE',\n",
       "       'MALLA SILICONA LOOP 42/44 MM - 123 MM COLORES',\n",
       "       'MANGO DE CAUTIN HEMBRA DE 5 PINES 908A',\n",
       "       'MANGUERA LUCES NEON LED FLEXIBLE 5MTS COLORES CON TRANSFORMADOR',\n",
       "       'MANTA Para Glass Silicona Pad NARANJA 25x20cm Espesor 8mm',\n",
       "       'MANTA TAPETE TERMICO RELIFE RL160A - Gris',\n",
       "       'MANTA TERMICA (CELESTE) 35x25cm SS004A',\n",
       "       'MEGA IDEA STENCIL NOTE - 8916 MT6592 CPU',\n",
       "       'MEMORIA DDR4 MARKVISION 8GB 3000 MHZ 1.35V BULK',\n",
       "       'MEMORIA SODIMM KINGSTON FURY DDR4 8GB 3200MHZ IMPACT',\n",
       "       'MICROFONO CONDENSER/SEISA  CON TRIPODE SF-666 3.5 PLUG 50Hz',\n",
       "       'MICROFONO DE PIE SF-950  FICHA 3.5mm PC-CELULAR-TABLET',\n",
       "       'MICROFONO HYPERX SOLOCAST USB',\n",
       "       'MICROFONOS INALAMBRICO 2 CANALES VHF + DVR 12-3002',\n",
       "       'MINI DRILL DE CORTE Y PULIDO IR X6 - MECHANIC',\n",
       "       'MINI LED DE CABEZA MOVIL MULTICOLORES 7LED 10w JS-YT60W',\n",
       "       'MOCHILA PORTA NOTEBOOK PIERRE CARDIN PC-1057 GRIS',\n",
       "       'MOCHILA PORTA NOTEBOOK PIERRE CARDIN PC-1057 NEGRO',\n",
       "       'Malla Nylon Apple Watch 42 44 45 Azul Oscuro',\n",
       "       'Memoria DDR3 HIKSEMI 8Gb 1600 MHz Hiker (7512)',\n",
       "       'Memoria DDR4 Corsair 8Gb 2666 MHz Value (3036)',\n",
       "       'Microfono Condenser Profesional DX-MICROPRO DINAX',\n",
       "       'Microfono Corbatero Jack 3.5mm DINAX DX-BULLET35',\n",
       "       'Microfono Corbatero Jack 3.5mm Lavalier Para Celular GL-119',\n",
       "       'Microfono Solapa Inalambrico Para Celular Tablet Pc Lavalier Lightning Iphone K11',\n",
       "       'Mini Bola Led Rgb Led Party Light Enchufe A 220v L-12',\n",
       "       'Mini Tripode Universal Altura Regulable Netmak NM-TRIP4',\n",
       "       'Notebook Asus Intel i3 X413J 14 Pulgadas / Ram 4Gb / Disco Ssd 128S / Win 10',\n",
       "       'Notebook HP Intel i3 1005G1 / 14 Pulgadas / 8GB RAM / 240GB SSD DISCO',\n",
       "       'OPENNING METAL PUA ULTRAFINA PEANUT / SS028A',\n",
       "       'PAÑO DE MICROFIBRA RL-045C',\n",
       "       'PEGAMENTO ESTRUCTURAL transparente RL-035A PUV glue 10cc\\xa0',\n",
       "       'PEGAMENTO MECHANIC SUPER X PARA LCD NEGRO',\n",
       "       'PEGAMENTO PARA PANTALLA CELULAR T7000 NEGRO MECHANIC 50ml',\n",
       "       'PINZA ALICATE HY-501A - YX109',\n",
       "       'PINZA BRUCELA KA-11 RECTA Mechanic',\n",
       "       'PINZA BRUCELA KS-11 RECTA Mechanic',\n",
       "       'PINZA DE PUNTA MECHANIC TS-J615', 'PISTOLA MASAJEADORA AF-J01',\n",
       "       'PISTOLA MASAJEADORA AF-V2',\n",
       "       'PLANCHA SEPARADORA KailLiwei F503 GIRATORIA',\n",
       "       'PROTECTOR DE TENSION PROTECH F',\n",
       "       'PROYECTOR LASER EMS-PS01 or 160863',\n",
       "       'PUNTA C115 RELIFE - C115-IS (curva)',\n",
       "       'PUNTA C210 - RELIFE - C210-IS (curva)',\n",
       "       'PUNTA DE SOLDADOR MECHANIC GOLD 900M-T-IS 8352',\n",
       "       'PUNTA JBC C210 - C210-020 (recta)',\n",
       "       'Pad Gamer Y Oficina De Caucho Y Corcho 80X30Cm Cmp833',\n",
       "       'Pasta Termica Thermal Grizzly Kryonaut 12.5 W 1 Gr Extrema!',\n",
       "       'Power Tester FNB58 - Bts Version',\n",
       "       'Prolongador Multi-Toma Dear Power 6 tomas 220V + Prot. Termico 1,5 MTS',\n",
       "       'Proton Par 18 Led Rgb Efectos Iluminacion Videmax / P-18',\n",
       "       'Proyector mini ViewSonic M1 MINI LED 120LM Entrada Usb y Hdmi',\n",
       "       'Punta Para C210 Capuchon Sacrificio Ideal Sugon T26 Jbc',\n",
       "       'Punta Para Estacion Soldado T12 - ILS (recta larga)',\n",
       "       'Punta Relife RL-900M SK (cuchilla fina)',\n",
       "       'RADIO PORTATIL POCKET DINAX AM/FM DX-RADIOP1',\n",
       "       'RECEPTOR 2.4G WIFI+BLUETOOTH 4.2 BT-165  ',\n",
       "       'RELIFE STENCIL IPHONE 7 - 7+ (A10)\\xa0',\n",
       "       'RELOJ DESPERTADOR C/CALENDARIO/TEMPERATURA DS-6609',\n",
       "       'RELOJ DESPERTADOR CARGA INALAMBRICA AY-21', 'Smartwatch',\n",
       "       'REPETIDOR WIFI 2 ANTENAS DINAX / REPRP4200C',\n",
       "       'ROUTER TP-LINK ARCHER C50 AC1200 4 ANTENAS',\n",
       "       'Radio Bluetooth Am / Fm Con Linterna Y Panel Solar Ktf-1481',\n",
       "       'Radio Retro Am Fm Y Bluetooth Seisa YX-303UBT',\n",
       "       'Radio Retro Vintage Recargable Con Bluetooth Ktf-1482',\n",
       "       'Reloj Smartwach BT Netmak / Pulsaciones km fit BLACK NM-GO',\n",
       "       'Reloj Smartwach BT Netmak / Pulsaciones km fit Rosa NM-GOB',\n",
       "       'SET 10 CUCHILLAS BISTURI #11',\n",
       "       'SET 5 ESPATULAS MULTIFUNCION RL049A',\n",
       "       'SILLON MASAJEADOR SUONO 174881',\n",
       "       'SMARTWACH AMAZFIT GTR MINI - BLACK',\n",
       "       'SOPORTE AURICULARES GAMER METALICO ALUMINIO BASE STAND',\n",
       "       'SOPORTE CON LUPA Y LUZ LED TE800 EC01039',\n",
       "       'SOPORTE DE AUTO PARA CELULAR YB20-3',\n",
       "       'SOPORTE DE CARGADOR PARA PS5 JOYSTICK SND-463',\n",
       "       'SOPORTE DE EXTENSION PARA TABLET DE METAL PLEGABLE ML-E4',\n",
       "       'SOPORTE HOLDER DE AUTO BRAZO LARGO DX-HOLUNIP',\n",
       "       'SOPORTE HOLDER DE AUTO CARGA AUTOMATICA DX-HOL939',\n",
       "       'SOPORTE PARA CELU CON VENTOSA PARA AUTO 2112-F',\n",
       "       'SOPORTE PARA CELU CON VENTOSA PARA AUTO 2113-F',\n",
       "       'SOPORTE PARA CELULAR CON VENTOSA Y GANCHO PARA AUTO 2123-F',\n",
       "       'SOPORTE PARA CELULAR O GPS CON IMAN MAGNET 2305-CD',\n",
       "       'SOPORTE UNIVERSAL PARA AUTO 2112-D',\n",
       "       'Soporte Base Vertical Stand Para Playstation 4 Ps4 KHPS4-01',\n",
       "       'Soporte Celular Moto Bici Impermeable Reforzado Tactil M3 ZX-M3',\n",
       "       'Soporte Celular Universal Para Auto c/brazo Flexible Netmak NM-HC21',\n",
       "       \"Soporte Con Brazo Movil Giratorio Para Escritorio 19' 23' 30' - ST9 - SKYWAY\",\n",
       "       'Soporte de celular c/Brazo para espejo retrovisor Netmak NM-HC24',\n",
       "       'Stencil Welsolo VS01 - ANDROID BT WIFI RF UNIVERSAL',\n",
       "       'TACTIL LG K4 K120 GRANDE', 'TACTIL SAM J2 PRIME BLACK',\n",
       "       'TACTIL TITAN JZ-1003-FPCV1 / ONTOP ATC7015 FPC / FPC-TP070039-01 KDX Negro (30 PIN)',\n",
       "       'TAPETE TERMICO- extra grande 50x35 - ss004f - Gris',\n",
       "       'TESTER MULTIMETRO DIGITAL COMPACTO UNI-T Ut33a+ Plus',\n",
       "       'TOSTADORA ELECTRICA ATMA DISNEY TOAT39DN - Mickey Mouse',\n",
       "       'TRINO MICROSCOPIO WIFIX WF-M50XT / 50X ZOOM / CON ARO LED 144 + MANTA + BARLOW 0.7 + LENTE PROTECTOR',\n",
       "       'TRINO MICROSCOPIO kailiwei 10HT-B1 NEGRO + ADAPTADOR CAMARA + ARO LED',\n",
       "       'TV BOX (2G+16G) TX100', 'TV BOX T96D (2G+16G)',\n",
       "       'TWEEZER PINZA SUNSHINE (curva) - SK15\\xa0',\n",
       "       'TWEEZER PINZA SUNSHINE (recta) - SK11\\xa0',\n",
       "       'TWEEZER PINZA TITANIO (recta) AZUL KW-11A',\n",
       "       'Tablet Alcatel Tkee Mini New (9317G-2BOFAR1) 1/32GB',\n",
       "       'Tablet Kanji Pampa 10.1\" 16GB negra con memoria RAM 1GB',\n",
       "       'Tactil Samsung Galaxy Tab 3 Lite T113NU CAMARA FRONTAL',\n",
       "       'Tarjeta De Memoria Kingston 32gb C10 Canvas Select Con Adaptador',\n",
       "       'Teclado Seisa Con Mouse Usb DN-D5200 Con Cable',\n",
       "       'Tester De Cable Utp Rj45 Rj11 Telefono Internet Red JS-468',\n",
       "       'Tester Digital full Noganet M-890G',\n",
       "       'Touch 3G / 0101-T 2014.02, c184104a1-fpc738dr, C7000185FPVB, c700247fpva, CTD FM707101KC, CTP070083,',\n",
       "       'Touch Alcatel 8067 / TCL LT7 M / wj1901-fpc v5.0',\n",
       "       'Touch C145254K1-DRFPC391T-V2.0 / MF-817-101F-3 FPC / 1696.11(W109R)',\n",
       "       'Touch Samsung Tab 3 SM-T111 (solo BLANCO) RANURA AURICULAR',\n",
       "       'Turbina Cooler 12 cm con 15 Leds Rgb Netmak NM-12RGB SDC',\n",
       "       'VIDRIO TEMPLADO SAMSUNG  NOTE',\n",
       "       'Webcam 720P HD C/Microfono y Tripode Netmak NM-WEB02',\n",
       "       'Xiaomi Mi Tv Stick 4k Ram 2gb 8gb Android Tv',\n",
       "       'Zapatilla Binorma 5 Bocas cable 1.5 Mtrs c/llave  Sybyd  301/7 - 302/7',\n",
       "       'kit Cepillos de limpieza 9 Unidades',\n",
       "       'Antena Tda 4k 5.0 Dbi Con Cable De 5 Mts Interior Y Exterior SG-3003',\n",
       "       'CONVERTIDOR TV STICK 2GB 16GB ANDROID 10 SYSTEM 4K EC100307',\n",
       "       'Conversor Hdmi A Rca Audio Y Video AV 1080p HDMI2AV',\n",
       "       'Malla Cuero Imantada Apple Watch 42 44 45 49 Negro',\n",
       "       'XMI GAME BOX EMULADOR  10MIL JUEGOS 64GB + ANDROID + TV BOX',\n",
       "       'Pendrive Kingston DataTraveler SE9 DTSE9H 32GB 2.0 plateado',\n",
       "       'nan'], dtype=object)"
      ]
     },
     "execution_count": 348,
     "metadata": {},
     "output_type": "execute_result"
    }
   ],
   "execution_count": 348
  },
  {
   "metadata": {
    "ExecuteTime": {
     "end_time": "2024-12-27T16:05:00.680041Z",
     "start_time": "2024-12-27T16:05:00.668532Z"
    }
   },
   "cell_type": "code",
   "source": [
    "#ver valores con la cadena 'soporte' en la columna nombre del producto\n",
    "df[df['Nombre del Producto'].str.contains('soporte|holder', case=False)]['Nombre del Producto'].unique()"
   ],
   "id": "4c6ec5ae2e133d2f",
   "outputs": [
    {
     "data": {
      "text/plain": [
       "array(['Joystick Bluetooth Con Soporte para Celular Seisa SJ-A1006',\n",
       "       'SOPORTE TV FIJO 26 A 55 DINAX DX-STVF2655',\n",
       "       'Soporte De Celular Para Auto Noga Rejilla NG-Hold2',\n",
       "       'SOPORTE TV MOVIL CON BRAZO 26 A 55 SEISA GJ-CP303',\n",
       "       'SOPORTE CELULAR MULTIFUNCION LG-002',\n",
       "       'SOPORTE TV FIJO 14 A 42 DELHIP DL-FJ1442',\n",
       "       'SOPORTE PARA CELULAR / TABLET - SA18 NEGRO GM-4217NE',\n",
       "       'SOPORTE TV DOBLE BRAZO MOVIL GLOBAL 30 A 60 INCLINACION 5±10° HASTA 35KG KIT DE INSTALACION TVS-ARM2-30-60I',\n",
       "       'SOPORTE PARA CELULAR DE ALUMINIO MOD39',\n",
       "       'SOPORTE TV FIJO SEISA 42 A 85\" HASTA 100KG/ Con Inclinacion GJ-C65',\n",
       "       'Soporte Notebook Hasta 17\" NM-HC75',\n",
       "       'Soporte Regulable Giratorio 360º Para Tablet Y Celulares ZX-ZJ48',\n",
       "       'HOLDER DE AURICULARES DINAX DX-HOLAUXT',\n",
       "       'SOPORTE BASE ALUMINIO PARA NOTEBOOK ZX-447',\n",
       "       'SOPORTE DE MESA PLEGABLE / NOTEBOOK 13 / TABLET / BLANCO - SA23 GM-5427BL',\n",
       "       'SOPORTE LCD BRAZO DOBLE 26 A 55 DINAX DX-SM2655TV',\n",
       "       'SOPORTE RELIFE RL601L mini',\n",
       "       'SOPORTE UNIVERSAL PARA CELULAR FLY 2081-D',\n",
       "       'Soporte Para Celular De Brazo FLEXIBLE Con Pinza Ajustable COLORES',\n",
       "       'Base Para Monitor Gamer Eleva Soporte Celular Usb Luces Noga NG-ZA5',\n",
       "       'HOLDER BASICO SUNSHINE - SS601A - SOPORTE DE PLACAS',\n",
       "       'HOLDER MK1 Mini Soporte Giratorio MECHANIC',\n",
       "       'HOLDER UNIVERSAL WL (colores varios) SOPORTE DE PLACAS\\xa0',\n",
       "       'JOYSTICK Inalambrico Recargable AITECH C6 con soporte Celular',\n",
       "       'Lector de Codigo de barras Laser USB 1D CON SOPORTE PIE Netmak NM-LC401-S',\n",
       "       'SOPORTE AURICULARES GAMER METALICO ALUMINIO BASE STAND',\n",
       "       'SOPORTE CON LUPA Y LUZ LED TE800 EC01039',\n",
       "       'SOPORTE DE AUTO PARA CELULAR YB20-3',\n",
       "       'SOPORTE DE CARGADOR PARA PS5 JOYSTICK SND-463',\n",
       "       'SOPORTE DE EXTENSION PARA TABLET DE METAL PLEGABLE ML-E4',\n",
       "       'SOPORTE HOLDER DE AUTO BRAZO LARGO DX-HOLUNIP',\n",
       "       'SOPORTE HOLDER DE AUTO CARGA AUTOMATICA DX-HOL939',\n",
       "       'SOPORTE PARA CELU CON VENTOSA PARA AUTO 2112-F',\n",
       "       'SOPORTE PARA CELU CON VENTOSA PARA AUTO 2113-F',\n",
       "       'SOPORTE PARA CELULAR CON VENTOSA Y GANCHO PARA AUTO 2123-F',\n",
       "       'SOPORTE PARA CELULAR O GPS CON IMAN MAGNET 2305-CD',\n",
       "       'SOPORTE UNIVERSAL PARA AUTO 2112-D',\n",
       "       'Soporte Base Vertical Stand Para Playstation 4 Ps4 KHPS4-01',\n",
       "       'Soporte Celular Moto Bici Impermeable Reforzado Tactil M3 ZX-M3',\n",
       "       'Soporte Celular Universal Para Auto c/brazo Flexible Netmak NM-HC21',\n",
       "       \"Soporte Con Brazo Movil Giratorio Para Escritorio 19' 23' 30' - ST9 - SKYWAY\",\n",
       "       'Soporte de celular c/Brazo para espejo retrovisor Netmak NM-HC24'],\n",
       "      dtype=object)"
      ]
     },
     "execution_count": 349,
     "metadata": {},
     "output_type": "execute_result"
    }
   ],
   "execution_count": 349
  },
  {
   "metadata": {
    "ExecuteTime": {
     "end_time": "2024-12-27T16:05:01.005606Z",
     "start_time": "2024-12-27T16:05:00.989785Z"
    }
   },
   "cell_type": "code",
   "source": [
    "#agregar en la columna 'Categoria'  la cadena 'Soporte' en cada fila si los valores  de la columna 'Nombre de Producto' tienen la cadena 'Soporte' o 'Holder' en su nombre y si no tienen las siguientes cadenas: Lector de Codigo de barras Laser USB 1D CON SOPORTE PIE Netmak NM-LC401-S y JOYSTICK\n",
    "df['Categoria'] = np.where(df['Nombre del Producto'].str.contains('soporte|holder', case=False) & ~df['Nombre del Producto'].str.contains('Lector de Codigo de barras Laser USB 1D CON SOPORTE PIE Netmak NM-LC401-S|JOYSTICK', case=False), 'Soporte', df['Categoria'])"
   ],
   "id": "c12f4d4d372f28ff",
   "outputs": [],
   "execution_count": 350
  },
  {
   "metadata": {
    "ExecuteTime": {
     "end_time": "2024-12-27T16:05:01.215005Z",
     "start_time": "2024-12-27T16:05:01.202230Z"
    }
   },
   "cell_type": "code",
   "source": [
    "#ver valores que tengan las dos cadenas siguientes  'mouse' y 'teclado'  y que no tengan la cadena 'conversor' en la columna nombre del producto si se cumple estas condiciones  agregarle en su columna categoria la cadena 'Kit Teclado Mouse'\n",
    "df['Categoria'] = np.where(df['Nombre del Producto'].str.contains('mouse', case=False) & df['Nombre del Producto'].str.contains('teclado', case=False) & ~df['Nombre del Producto'].str.contains('conversor', case=False), 'Kit Teclado Mouse', df['Categoria'])"
   ],
   "id": "c8e0de813c4c8b21",
   "outputs": [],
   "execution_count": 351
  },
  {
   "metadata": {
    "ExecuteTime": {
     "end_time": "2024-12-27T16:05:01.372053Z",
     "start_time": "2024-12-27T16:05:01.279403Z"
    }
   },
   "cell_type": "code",
   "source": [
    "#ver filas que tengan los valores que tengan las dos cadenas siguientes  'mouse' y 'teclado'\n",
    "df[(df['Nombre del Producto'].str.contains('mouse', case=False)) & (df['Nombre del Producto'].str.contains('teclado', case=False))]"
   ],
   "id": "7a61e4f5981fcc9d",
   "outputs": [
    {
     "data": {
      "text/plain": [
       "           Código                                Nombre del Producto  \\\n",
       "106        TE5840  KIT COMBO TECLADO Y MOUSE INALMBRICO 2.4G SLIM...   \n",
       "167        TE5842          KIT MOUSE Y TECLADO INALAMBRICO EZRA KB03   \n",
       "255        TE5844  KIT TECLADO Y MOUSE 2,4G INALAMBRICO ULTRA DEL...   \n",
       "279   RDKM-906-PK  Teclado Y Mouse Inalambrico Bluetooth - Slim -...   \n",
       "447    RDKM-906-B  Teclado Y Mouse Inalambrico Bluetooth - Slim /...   \n",
       "521       TE11120  Kit de Teclado y Mouse inalambrico Logitech MK...   \n",
       "747       TE11112  KIT INALAMBRICO TECLADO + MOUSE S5600 CELESTE ...   \n",
       "864       TE11131  TECLADO Y MOUSE GAMER RETROILUMINADO STOMER NK...   \n",
       "1103       AD7078  Conversor Gamer Para Teclado Y Mouse A Celular...   \n",
       "1190       TE5841   KIT MOUSE Y TECLADO INALAMBRICO DINAX DX-2BTCOMB   \n",
       "1195      TE11121  Kit de Teclado y Mouse inalambrico Logitech MK...   \n",
       "1196      TE11122  Kit de Teclado y Mouse inalambrico Logitech MK...   \n",
       "1492       TE5849     Teclado Seisa Con Mouse Usb DN-D5200 Con Cable   \n",
       "\n",
       "      Cantidad  Costo total       Ganancia  Ganancia prom. %  Venta total  \\\n",
       "106       11.0       138.16  215447.368721          158122.0    218600.00   \n",
       "167        8.0       101.69  175387.597877          172483.0    175499.99   \n",
       "255        6.0        68.70  128424.114503          186945.0    128500.00   \n",
       "279        6.0        70.68  134421.898600          190194.0    134500.00   \n",
       "447        4.0        48.60   91446.297000          188172.0     91500.00   \n",
       "521        3.0        35.79  124960.454623          349160.0    125000.00   \n",
       "747        2.0        18.84   37479.186644          198945.0     37500.00   \n",
       "864        2.0        14.06   33984.459361          241721.0     34000.00   \n",
       "1103       1.0         6.28   28992.402968          577129.0     36250.00   \n",
       "1190       1.0        10.40   19488.504090          187400.0     19500.00   \n",
       "1195       1.0        13.12   53485.500029          407674.0     53500.00   \n",
       "1196       1.0        16.34   49981.947882          305898.0     50000.00   \n",
       "1492       1.0         4.41    9994.663900          226657.0     10000.00   \n",
       "\n",
       "                                              Categoria  \n",
       "106                                   Kit Teclado Mouse  \n",
       "167                                   Kit Teclado Mouse  \n",
       "255                                   Kit Teclado Mouse  \n",
       "279                                   Kit Teclado Mouse  \n",
       "447                                   Kit Teclado Mouse  \n",
       "521                                   Kit Teclado Mouse  \n",
       "747                                   Kit Teclado Mouse  \n",
       "864                                   Kit Teclado Mouse  \n",
       "1103  Conversor Gamer Para Teclado Y Mouse A Celular...  \n",
       "1190                                  Kit Teclado Mouse  \n",
       "1195                                  Kit Teclado Mouse  \n",
       "1196                                  Kit Teclado Mouse  \n",
       "1492                                  Kit Teclado Mouse  "
      ],
      "text/html": [
       "<div>\n",
       "<style scoped>\n",
       "    .dataframe tbody tr th:only-of-type {\n",
       "        vertical-align: middle;\n",
       "    }\n",
       "\n",
       "    .dataframe tbody tr th {\n",
       "        vertical-align: top;\n",
       "    }\n",
       "\n",
       "    .dataframe thead th {\n",
       "        text-align: right;\n",
       "    }\n",
       "</style>\n",
       "<table border=\"1\" class=\"dataframe\">\n",
       "  <thead>\n",
       "    <tr style=\"text-align: right;\">\n",
       "      <th></th>\n",
       "      <th>Código</th>\n",
       "      <th>Nombre del Producto</th>\n",
       "      <th>Cantidad</th>\n",
       "      <th>Costo total</th>\n",
       "      <th>Ganancia</th>\n",
       "      <th>Ganancia prom. %</th>\n",
       "      <th>Venta total</th>\n",
       "      <th>Categoria</th>\n",
       "    </tr>\n",
       "  </thead>\n",
       "  <tbody>\n",
       "    <tr>\n",
       "      <th>106</th>\n",
       "      <td>TE5840</td>\n",
       "      <td>KIT COMBO TECLADO Y MOUSE INALMBRICO 2.4G SLIM...</td>\n",
       "      <td>11.0</td>\n",
       "      <td>138.16</td>\n",
       "      <td>215447.368721</td>\n",
       "      <td>158122.0</td>\n",
       "      <td>218600.00</td>\n",
       "      <td>Kit Teclado Mouse</td>\n",
       "    </tr>\n",
       "    <tr>\n",
       "      <th>167</th>\n",
       "      <td>TE5842</td>\n",
       "      <td>KIT MOUSE Y TECLADO INALAMBRICO EZRA KB03</td>\n",
       "      <td>8.0</td>\n",
       "      <td>101.69</td>\n",
       "      <td>175387.597877</td>\n",
       "      <td>172483.0</td>\n",
       "      <td>175499.99</td>\n",
       "      <td>Kit Teclado Mouse</td>\n",
       "    </tr>\n",
       "    <tr>\n",
       "      <th>255</th>\n",
       "      <td>TE5844</td>\n",
       "      <td>KIT TECLADO Y MOUSE 2,4G INALAMBRICO ULTRA DEL...</td>\n",
       "      <td>6.0</td>\n",
       "      <td>68.70</td>\n",
       "      <td>128424.114503</td>\n",
       "      <td>186945.0</td>\n",
       "      <td>128500.00</td>\n",
       "      <td>Kit Teclado Mouse</td>\n",
       "    </tr>\n",
       "    <tr>\n",
       "      <th>279</th>\n",
       "      <td>RDKM-906-PK</td>\n",
       "      <td>Teclado Y Mouse Inalambrico Bluetooth - Slim -...</td>\n",
       "      <td>6.0</td>\n",
       "      <td>70.68</td>\n",
       "      <td>134421.898600</td>\n",
       "      <td>190194.0</td>\n",
       "      <td>134500.00</td>\n",
       "      <td>Kit Teclado Mouse</td>\n",
       "    </tr>\n",
       "    <tr>\n",
       "      <th>447</th>\n",
       "      <td>RDKM-906-B</td>\n",
       "      <td>Teclado Y Mouse Inalambrico Bluetooth - Slim /...</td>\n",
       "      <td>4.0</td>\n",
       "      <td>48.60</td>\n",
       "      <td>91446.297000</td>\n",
       "      <td>188172.0</td>\n",
       "      <td>91500.00</td>\n",
       "      <td>Kit Teclado Mouse</td>\n",
       "    </tr>\n",
       "    <tr>\n",
       "      <th>521</th>\n",
       "      <td>TE11120</td>\n",
       "      <td>Kit de Teclado y Mouse inalambrico Logitech MK...</td>\n",
       "      <td>3.0</td>\n",
       "      <td>35.79</td>\n",
       "      <td>124960.454623</td>\n",
       "      <td>349160.0</td>\n",
       "      <td>125000.00</td>\n",
       "      <td>Kit Teclado Mouse</td>\n",
       "    </tr>\n",
       "    <tr>\n",
       "      <th>747</th>\n",
       "      <td>TE11112</td>\n",
       "      <td>KIT INALAMBRICO TECLADO + MOUSE S5600 CELESTE ...</td>\n",
       "      <td>2.0</td>\n",
       "      <td>18.84</td>\n",
       "      <td>37479.186644</td>\n",
       "      <td>198945.0</td>\n",
       "      <td>37500.00</td>\n",
       "      <td>Kit Teclado Mouse</td>\n",
       "    </tr>\n",
       "    <tr>\n",
       "      <th>864</th>\n",
       "      <td>TE11131</td>\n",
       "      <td>TECLADO Y MOUSE GAMER RETROILUMINADO STOMER NK...</td>\n",
       "      <td>2.0</td>\n",
       "      <td>14.06</td>\n",
       "      <td>33984.459361</td>\n",
       "      <td>241721.0</td>\n",
       "      <td>34000.00</td>\n",
       "      <td>Kit Teclado Mouse</td>\n",
       "    </tr>\n",
       "    <tr>\n",
       "      <th>1103</th>\n",
       "      <td>AD7078</td>\n",
       "      <td>Conversor Gamer Para Teclado Y Mouse A Celular...</td>\n",
       "      <td>1.0</td>\n",
       "      <td>6.28</td>\n",
       "      <td>28992.402968</td>\n",
       "      <td>577129.0</td>\n",
       "      <td>36250.00</td>\n",
       "      <td>Conversor Gamer Para Teclado Y Mouse A Celular...</td>\n",
       "    </tr>\n",
       "    <tr>\n",
       "      <th>1190</th>\n",
       "      <td>TE5841</td>\n",
       "      <td>KIT MOUSE Y TECLADO INALAMBRICO DINAX DX-2BTCOMB</td>\n",
       "      <td>1.0</td>\n",
       "      <td>10.40</td>\n",
       "      <td>19488.504090</td>\n",
       "      <td>187400.0</td>\n",
       "      <td>19500.00</td>\n",
       "      <td>Kit Teclado Mouse</td>\n",
       "    </tr>\n",
       "    <tr>\n",
       "      <th>1195</th>\n",
       "      <td>TE11121</td>\n",
       "      <td>Kit de Teclado y Mouse inalambrico Logitech MK...</td>\n",
       "      <td>1.0</td>\n",
       "      <td>13.12</td>\n",
       "      <td>53485.500029</td>\n",
       "      <td>407674.0</td>\n",
       "      <td>53500.00</td>\n",
       "      <td>Kit Teclado Mouse</td>\n",
       "    </tr>\n",
       "    <tr>\n",
       "      <th>1196</th>\n",
       "      <td>TE11122</td>\n",
       "      <td>Kit de Teclado y Mouse inalambrico Logitech MK...</td>\n",
       "      <td>1.0</td>\n",
       "      <td>16.34</td>\n",
       "      <td>49981.947882</td>\n",
       "      <td>305898.0</td>\n",
       "      <td>50000.00</td>\n",
       "      <td>Kit Teclado Mouse</td>\n",
       "    </tr>\n",
       "    <tr>\n",
       "      <th>1492</th>\n",
       "      <td>TE5849</td>\n",
       "      <td>Teclado Seisa Con Mouse Usb DN-D5200 Con Cable</td>\n",
       "      <td>1.0</td>\n",
       "      <td>4.41</td>\n",
       "      <td>9994.663900</td>\n",
       "      <td>226657.0</td>\n",
       "      <td>10000.00</td>\n",
       "      <td>Kit Teclado Mouse</td>\n",
       "    </tr>\n",
       "  </tbody>\n",
       "</table>\n",
       "</div>"
      ]
     },
     "execution_count": 352,
     "metadata": {},
     "output_type": "execute_result"
    }
   ],
   "execution_count": 352
  },
  {
   "metadata": {
    "ExecuteTime": {
     "end_time": "2024-12-27T16:05:01.523338Z",
     "start_time": "2024-12-27T16:05:01.464483Z"
    }
   },
   "cell_type": "code",
   "source": [
    "#ver filas con cantidad de valores en la columna categoria\n",
    "df['Categoria'].value_counts()"
   ],
   "id": "5aa0882c4c1a705",
   "outputs": [
    {
     "data": {
      "text/plain": [
       "Categoria\n",
       "Modulo                                                      127\n",
       "Bateria                                                     115\n",
       "Auricular                                                   105\n",
       "Vidrio Glass                                                 96\n",
       "Cable                                                        80\n",
       "                                                           ... \n",
       "Pasta Grasa Siliconada Metalica X 5 Cc. Servex 91009          1\n",
       "Pad Liso De Caucho Y Corcho Cmp213                            1\n",
       "PUNTA DE SOLDADOR MECHANIC 900M-T-FS 8341                     1\n",
       "PLACA USB/WIFI 150M CON ANTENA DN-W150U3 or 135145            1\n",
       "Pinza Crimpeadora Para Cables RJ45 con Pelacables WJ-315      1\n",
       "Name: count, Length: 516, dtype: int64"
      ]
     },
     "execution_count": 353,
     "metadata": {},
     "output_type": "execute_result"
    }
   ],
   "execution_count": 353
  },
  {
   "metadata": {
    "ExecuteTime": {
     "end_time": "2024-12-27T16:05:02.010456Z",
     "start_time": "2024-12-27T16:05:01.997080Z"
    }
   },
   "cell_type": "code",
   "source": [
    "#ver valores en la columna categoria con la cadena disco\n",
    "df[df['Categoria'].str.contains('disco', case=False)]['Categoria'].unique()"
   ],
   "id": "9ffb9e6d10f02ecd",
   "outputs": [
    {
     "data": {
      "text/plain": [
       "array(['CARCASA EXTERNA PARA DISCO RIGIDO 2.5 CON CABLE 3,0 / DX-1CAREXT2',\n",
       "       'CASE PARA DISCO RIGIDO 2.5 - 2.0 DN-K2502',\n",
       "       'Disco Solido SSD 480GB KINGSTON A400 SATAIII 2.5',\n",
       "       'CASE DISCO 3.0 Seisa Tranparente Dn-k209',\n",
       "       'Disco Solido SSD 240GB KINGSTON A400 SATAIII 2.5',\n",
       "       'Disco Solido SSD 128GB PATRIOT P220 2.5\" SATA',\n",
       "       'Disco Solido SSD 1TB PATRIOT P210 Sata',\n",
       "       'Disco Solido SSD 480GB  ADATA SU630 Sata',\n",
       "       'Disco Externo Toshiba Canvio 2tb Black Usb 3.0 Hdtb520xk3aa',\n",
       "       'Disco Solido SSD 240GB ADATA SU630 Sata',\n",
       "       'Disco Solido SSD 512GB VERBATIM SATA 3',\n",
       "       'DISCO SSD SOLIDO PNY 480GB 2.5\" SATA CS900',\n",
       "       'Disco Rigido Notebook 1TB Toshiba L200 SATA II 3.0 Gb/s 7mm 5400 rpm HD123',\n",
       "       'Disco Solido SSD 120Gb GIGABYTE Sata',\n",
       "       'Disco Solido SSD 1TB PNY 1TB-RB SATA',\n",
       "       'Disco Solido SSD 250GB Kingston NV1 SNVS/250G',\n",
       "       'Disco Solido SSD 256GB PATRIOT P210 SATA3 2.5',\n",
       "       'Disco Solido SSD 256GB PATRIOT P220 SATA3 2.5',\n",
       "       'Disco Solido SSD 500GB M.2 NVME WESTERN DIGITAL BLUE SN570',\n",
       "       'Notebook Asus Intel i3 X413J 14 Pulgadas / Ram 4Gb / Disco Ssd 128S / Win 10',\n",
       "       'Notebook HP Intel i3 1005G1 / 14 Pulgadas / 8GB RAM / 240GB SSD DISCO'],\n",
       "      dtype=object)"
      ]
     },
     "execution_count": 354,
     "metadata": {},
     "output_type": "execute_result"
    }
   ],
   "execution_count": 354
  },
  {
   "metadata": {
    "ExecuteTime": {
     "end_time": "2024-12-27T16:05:02.445992Z",
     "start_time": "2024-12-27T16:05:02.432471Z"
    }
   },
   "cell_type": "code",
   "source": [
    "#agregar en la columna 'Categoria'  la cadena 'Disco' en cada fila si los valores  de la columna 'Nombre de Producto' tienen la cadena 'Disco' en su nombre y si no tienen las siguientes cadenas: CARCASA, CASE Y Notebook\n",
    "df['Categoria'] = np.where(df['Nombre del Producto'].str.contains('disco', case=False) & ~df['Nombre del Producto'].str.contains('CARCASA|CASE|Notebook', case=False), 'Disco', df['Categoria'])"
   ],
   "id": "ba1e1dfacda69bb0",
   "outputs": [],
   "execution_count": 355
  },
  {
   "metadata": {
    "ExecuteTime": {
     "end_time": "2024-12-27T16:05:02.803087Z",
     "start_time": "2024-12-27T16:05:02.781678Z"
    }
   },
   "cell_type": "code",
   "source": [
    "#ver valores con la cadena 'Funda' en la columna nombre del producto\n",
    "df[df['Nombre del Producto'].str.contains('funda', case=False)]['Nombre del Producto'].unique()"
   ],
   "id": "d86233d1978d2a1b",
   "outputs": [
    {
     "data": {
      "text/plain": [
       "array(['FUNDA PORTA NOTEBOOK 13 PULGADAS CON BOLSILLO / GRIS / DEHUKA',\n",
       "       'FUNDA PORTA NOTEBOOK 15.6 AZUL CDTEK',\n",
       "       'FUNDA PORTA NOTEBOOK PIERRE CARDIN PC-3011MED',\n",
       "       'FUNDA PORTA NOTEBOOK 13 PULGADAS CON BOLSILLO / NEGRA / DEHUKA',\n",
       "       'FUNDA PORTA NOTEBOOK PIERRE CARDIN PC-3010MED',\n",
       "       'FUNDA PORTA NOTEBOOK 15,6 PULGADAS CON BOLSILLO / NEGRA / DEHUKA'],\n",
       "      dtype=object)"
      ]
     },
     "execution_count": 356,
     "metadata": {},
     "output_type": "execute_result"
    }
   ],
   "execution_count": 356
  },
  {
   "metadata": {
    "ExecuteTime": {
     "end_time": "2024-12-27T16:05:03.003401Z",
     "start_time": "2024-12-27T16:05:02.994207Z"
    }
   },
   "cell_type": "code",
   "source": [
    "#agregar en la columna 'Categoria'  la cadena 'Accesorio noebook' en cada fila si los valores  de la columna 'Nombre de Producto' tienen la cadena 'Funda' en su nombre\n",
    "df['Categoria'] = np.where(df['Nombre del Producto'].str.contains('funda', case=False), 'Accesorio notebook', df['Categoria'])\n"
   ],
   "id": "f04f164e9afa1288",
   "outputs": [],
   "execution_count": 357
  },
  {
   "metadata": {
    "ExecuteTime": {
     "end_time": "2024-12-27T16:05:03.121438Z",
     "start_time": "2024-12-27T16:05:03.111675Z"
    }
   },
   "cell_type": "code",
   "source": [
    "#ver valores con la cadena gabinete en su nombre\n",
    "df[df['Nombre del Producto'].str.contains('gabinete', case=False)]['Nombre del Producto'].unique()\n"
   ],
   "id": "819a4e1888946566",
   "outputs": [
    {
     "data": {
      "text/plain": [
       "array([], dtype=object)"
      ]
     },
     "execution_count": 358,
     "metadata": {},
     "output_type": "execute_result"
    }
   ],
   "execution_count": 358
  },
  {
   "metadata": {
    "ExecuteTime": {
     "end_time": "2024-12-27T16:05:03.272153Z",
     "start_time": "2024-12-27T16:05:03.261567Z"
    }
   },
   "cell_type": "code",
   "source": [
    "#ver valores con la cadena impresora en su nombre\n",
    "df[df['Nombre del Producto'].str.contains('impresora', case=False)]['Nombre del Producto'].unique()"
   ],
   "id": "803279d4dfa30392",
   "outputs": [
    {
     "data": {
      "text/plain": [
       "array(['Cable Impresora USB A/B 2Mts NOGA SM-1039',\n",
       "       'Cable Impresora USB A/B 3Mts NOGA TR-1005',\n",
       "       'Cable Impresora USB 2.0 A macho B macho 1.8Mtrs Netmak NM-C03 1.8',\n",
       "       'Impresora Termica POS 80mm Ancho de Impresion - USB2.0+RJ11-203dpi - 100mm/s - Global TP-POS80-USB'],\n",
       "      dtype=object)"
      ]
     },
     "execution_count": 359,
     "metadata": {},
     "output_type": "execute_result"
    }
   ],
   "execution_count": 359
  },
  {
   "metadata": {
    "ExecuteTime": {
     "end_time": "2024-12-27T16:05:03.443812Z",
     "start_time": "2024-12-27T16:05:03.431321Z"
    }
   },
   "cell_type": "code",
   "source": [
    "#agregar en la columna 'Categoria'  la cadena 'Impresora' en cada fila si los valores  de la columna 'Nombre de Producto' tienen la cadena 'Impresora' en su nombre y no tiene las siguientes cadenas: cable\n",
    "df['Categoria'] = np.where(df['Nombre del Producto'].str.contains('impresora', case=False) & ~df['Nombre del Producto'].str.contains('cable', case=False), 'Impresora', df['Categoria'])"
   ],
   "id": "3a9eb511eacb828d",
   "outputs": [],
   "execution_count": 360
  },
  {
   "metadata": {
    "ExecuteTime": {
     "end_time": "2024-12-27T16:05:03.576078Z",
     "start_time": "2024-12-27T16:05:03.561093Z"
    }
   },
   "cell_type": "code",
   "source": [
    "#ver valores con la cadena 'organo' en la columna nombre de producto\n",
    "df[df['Nombre del Producto'].str.contains('armonica|organo', case=False)]['Nombre del Producto'].unique()"
   ],
   "id": "eb6cfd172b3ef103",
   "outputs": [
    {
     "data": {
      "text/plain": [
       "array([], dtype=object)"
      ]
     },
     "execution_count": 361,
     "metadata": {},
     "output_type": "execute_result"
    }
   ],
   "execution_count": 361
  },
  {
   "metadata": {
    "ExecuteTime": {
     "end_time": "2024-12-27T16:05:03.740559Z",
     "start_time": "2024-12-27T16:05:03.731566Z"
    }
   },
   "cell_type": "code",
   "source": [
    "#agregar en la columna 'Categoria'  la cadena 'Instrumento Musical' en cada fila si los valores  de la columna 'Nombre de Producto' tienen la cadena 'Armonica' o 'Organo' en su nombre\n",
    "df['Categoria'] = np.where(df['Nombre del Producto'].str.contains('armonica|organo', case=False), 'Instrumento Musical', df['Categoria'])"
   ],
   "id": "4ff07fe24ad89211",
   "outputs": [],
   "execution_count": 362
  },
  {
   "metadata": {
    "ExecuteTime": {
     "end_time": "2024-12-27T16:05:03.884035Z",
     "start_time": "2024-12-27T16:05:03.826604Z"
    }
   },
   "cell_type": "code",
   "source": [
    "#ver filas con la cadena auto, piano, children en la columna nombre del producto\n",
    "df[df['Nombre del Producto'].str.contains('auto control remoto|piano|children', case=False)]['Nombre del Producto'].unique()"
   ],
   "id": "19718a1fce0e52eb",
   "outputs": [
    {
     "data": {
      "text/plain": [
       "array([], dtype=object)"
      ]
     },
     "execution_count": 363,
     "metadata": {},
     "output_type": "execute_result"
    }
   ],
   "execution_count": 363
  },
  {
   "metadata": {
    "ExecuteTime": {
     "end_time": "2024-12-27T16:05:04.062462Z",
     "start_time": "2024-12-27T16:05:03.997806Z"
    }
   },
   "cell_type": "code",
   "source": [
    "#agregar en la columna 'Categoria'  la cadena 'Juguete' en cada fila si los valores  de la columna 'Nombre de Producto' tienen la cadena 'Auto Control Remoto' o 'Piano' o 'Children' en su nombre\n",
    "df['Categoria'] = np.where(df['Nombre del Producto'].str.contains('auto control remoto|piano|children', case=False), 'Juguete', df['Categoria'])"
   ],
   "id": "405eb0c9afc8eb28",
   "outputs": [],
   "execution_count": 364
  },
  {
   "metadata": {
    "ExecuteTime": {
     "end_time": "2024-12-27T16:05:04.241572Z",
     "start_time": "2024-12-27T16:05:04.158117Z"
    }
   },
   "cell_type": "code",
   "source": [
    "#ver valores con la cadena 'contadora', 'cinta de embalaje' y 'calculadora cientifica' en la columna nombre del producto\n",
    "df[df['Nombre del Producto'].str.contains('contadora|cinta de embalaje|calculadora cientifica', case=False)]['Nombre del Producto'].unique()"
   ],
   "id": "6f2f1322fdc19534",
   "outputs": [
    {
     "data": {
      "text/plain": [
       "array(['CONTADORA DE BILLETES GLOBAL CARGA SUPERIOR / VISOR DIGITAL Y EXTERNO / DETECCION DE BILLETES FALSOS - GLOBAL BILLCOUNTER-1',\n",
       "       'CONTADORA DE BILLETE NAXIDO H-302 LCD DISPLAY'], dtype=object)"
      ]
     },
     "execution_count": 365,
     "metadata": {},
     "output_type": "execute_result"
    }
   ],
   "execution_count": 365
  },
  {
   "metadata": {
    "ExecuteTime": {
     "end_time": "2024-12-27T16:05:04.405828Z",
     "start_time": "2024-12-27T16:05:04.326595Z"
    }
   },
   "cell_type": "code",
   "source": [
    "#agregar en la columna 'Categoria'  la cadena 'Libreria' en cada fila si los valores  de la columna 'Nombre de Producto' tienen la cadena 'Contadora' o 'Cinta de Embalaje' o 'Calculadora Cientifica' en su nombre\n",
    "df['Categoria'] = np.where(df['Nombre del Producto'].str.contains('contadora|cinta de embalaje|calculadora cientifica', case=False), 'Libreria', df['Categoria'])"
   ],
   "id": "12a80ca9c8687075",
   "outputs": [],
   "execution_count": 366
  },
  {
   "metadata": {
    "ExecuteTime": {
     "end_time": "2024-12-27T16:05:04.669756Z",
     "start_time": "2024-12-27T16:05:04.630559Z"
    }
   },
   "cell_type": "code",
   "source": [
    "#ver valores con la cadena 'manguera de led', 'lampara', 'aro luz', 'espejo' en la columna nombre del producto, 'uñas', 'light', 'led rgb', 'tira led', 'puntero laser', 'lampara de pared', 'parlante luz bola', 'reflector', 'luz led', 'PROYECTOR', 'reflector', 'lamparita', 'proyector nebulosa', 'kit de iluminacion', 'foco', 'difusor fotografico', 'luz', 'linterna', 'luces', 'lamparas' y 'flash de led' y sin las cadenas: cable, Tripode Metalico 0.55m PARA ARO LUZ led HX-055M\n",
    "df[df['Nombre del Producto'].str.contains('manguera de led|lampara|aro luz|espejo|uñas|light|led rgb|tira led|puntero laser|lampara de pared|parlante luz bola|reflector|luz led|PROYECTOR|reflector|lamparita|proyector nebulosa|kit de iluminacion|foco|difusor fotografico|luz|linterna|luces|lamparas|flash de led', case=False) & ~df['Nombre del Producto'].str.contains('cable|Tripode Metalico 0.55m PARA ARO LUZ led HX-055M', case=False)]['Nombre del Producto'].unique()\n",
    "\n"
   ],
   "id": "cfb9a6a0b6c831c3",
   "outputs": [
    {
     "data": {
      "text/plain": [
       "array(['Consola Arcade Multijuegos Con Luces 2 Mandos +10000 JUEGOS ST',\n",
       "       'Aro Luz Led 30CM RGB + Tripode 2.1m HX-MJ30 / QX-260',\n",
       "       'Aro Luz Led 26cm Blanco Frio Calido + Tripode 2.1m QX-260 / S26',\n",
       "       'LAMPARA DE MESA CON BRAZO LARGO DE METAL ESTILO AMERICANO MT-811',\n",
       "       'ESPEJO LED LUZ FRIA A PILA Y USB ESP-91013',\n",
       "       'ESTABILIZADOR KIT CON LUZ Y MICROFONO AY-49U',\n",
       "       'LAMPARA ARTICULADA DE ESCRITORIO PIXAR OR-L01 ',\n",
       "       'LAMPARA UV usb - RL-014',\n",
       "       'RADIO RETRO AM FM CON LINTERNA / BLUETOOTH SEISA YX-119UBT',\n",
       "       'Radio Retro Am Fm Con Linterna Y Bluetooth Seisa YX-123UBT',\n",
       "       'Adaptador Headphone Jack iPhone 7 Lightning A 3.5mm ADAN005',\n",
       "       'BALANZA MINI DIGITAL DE PRECISION 500G / 0.1G LCD LUZ MH-500',\n",
       "       'LAMPARA CURADO UV Con Extractor Mc18 MECHANIC',\n",
       "       'MINI VENTILADOR USB C/LUZ MINI FANS HQ66-09',\n",
       "       'Mouse Gamer Logitech G Series Lightsync G203 Blanco',\n",
       "       'Mousepad XTRIKE ME Gamer Luz RGB MP-602 350x250 alimentacion USB',\n",
       "       'PARLANTE VELADOR BLUETOOTH CARGADOR INALAMBRICO LUCES LED BT-3401\\xa0',\n",
       "       'TESTER MECHANIC T-824 Detector De Fallas Lightning Y Usb C',\n",
       "       'ADAPTADOR TIPO C (Macho) A LIGHTING (Hembra) 09-033',\n",
       "       'ARCADE PLOTEADO Y LUCES MULTICONSOLA + 13000 JUEGOS',\n",
       "       'AURICULAR GAMER G635 LIGHTSYNC',\n",
       "       'Auricular Gamer Redragon Zeus X Usb Rgb 7.1 Luces h510',\n",
       "       'Auriculares Logitech inalambricos G Series G435 LIGHTSPEED Blanco 981-001073',\n",
       "       'Base Doble Cooler Para Notebook Luz Led + 2 USB 668',\n",
       "       'Base Doble Cooler Para Notebook Luz Led + 2 USB B-9',\n",
       "       'Base Para Monitor Gamer Eleva Soporte Celular Usb Luces Noga NG-ZA5',\n",
       "       'CONSOLA PVP 8BIT CRASH C/CARTUCHO LIGHT 3000 P-60',\n",
       "       'Cooler Turbina TRANSPARENTE Luz Azul 8cm a fuente Netmak NM-8025T',\n",
       "       'ESPEJO RECTANGULAR TOUCH CON LUZ LED DINAX / DX-3ESPLUZAA',\n",
       "       'KIT COMBO TIRA DE LED RGB LED-Y3528RD',\n",
       "       'LAMPARA CURADO UV Q1 MECHANIC', 'LAMPARA CURADO UV Q2 MECHANIC',\n",
       "       'LAMPARA VELADOR TACTIL LUZ CALIDA / FRIA Y NATURAL LED-81010 / BL-128',\n",
       "       'LASER ESTROBOSCOPICO COLORES 9 LUCES JS-PS15W',\n",
       "       'LINTERNA TACTICA MULTIFUNCION SWAT FLASHLIGHT USB BALIZA 807',\n",
       "       'LUZ LED SELFIE 8233 3 NIVELES',\n",
       "       'Lampara De Escritorio Usb Oficina Led Velador Touch Dimer VIR-4556',\n",
       "       'Lamparita Smart Nexxt RGB Wifi 220V Dicroiica x3',\n",
       "       'MANGUERA LUCES NEON LED FLEXIBLE 5MTS COLORES CON TRANSFORMADOR',\n",
       "       'MOUSE GAMING INALMBRICO G305 LOGITECH LIGHTSPEED AZUL',\n",
       "       'Microfono Solapa Inalambrico Para Celular Tablet Pc Lavalier Lightning Iphone K11',\n",
       "       'Mini Bola Led Rgb Led Party Light Enchufe A 220v L-12',\n",
       "       'Mouse Gamer Retroiluminado LED RGB 12000DPI ST-333',\n",
       "       'Mouse Gamer Retroiluminado LED RGB 2400DPI ST-627',\n",
       "       'Mouse Gamer Retroiluminado LED RGB 2400DPI ST-645',\n",
       "       'Mouse Gamer Retroiluminado LED RGB 3200DPI ST-682',\n",
       "       'PROYECTOR LASER EMS-PS01 or 160863',\n",
       "       'Proton Par 18 Led Rgb Efectos Iluminacion Videmax / P-18',\n",
       "       'Proyector mini ViewSonic M1 MINI LED 120LM Entrada Usb y Hdmi',\n",
       "       'Radio Bluetooth Am / Fm Con Linterna Y Panel Solar Ktf-1481',\n",
       "       'SOPORTE CON LUPA Y LUZ LED TE800 EC01039',\n",
       "       'Soporte de celular c/Brazo para espejo retrovisor Netmak NM-HC24',\n",
       "       'Teclado Mecanico Redragon Yama K550WRGB-1 QWERTY ES BLANCO LUZ RGB'],\n",
       "      dtype=object)"
      ]
     },
     "execution_count": 367,
     "metadata": {},
     "output_type": "execute_result"
    }
   ],
   "execution_count": 367
  },
  {
   "metadata": {
    "ExecuteTime": {
     "end_time": "2024-12-27T16:05:04.874396Z",
     "start_time": "2024-12-27T16:05:04.776800Z"
    }
   },
   "cell_type": "code",
   "source": [
    "#ver filas con  las cadena 'manguera de led', 'lampara', 'aro luz', 'espejo' en la columna nombre del producto, 'uñas', 'light', 'led rgb', 'tira led', 'puntero laser', 'lampara de pared', 'parlante luz bola', 'reflector', 'luz led', 'PROYECTOR', 'reflector', 'lamparita', 'proyector nebulosa', 'kit de iluminacion', 'foco', 'difusor fotografico', 'luz', 'linterna', 'luces', 'lamparas' y 'flash de led' y sin las cadenas: cable, Tripode Metalico 0.55m PARA ARO LUZ led HX-055M\n",
    "df[(df['Nombre del Producto'].str.contains('manguera de led|lampara|aro luz|espejo|uñas|light|led rgb|tira led|puntero laser|lampara de pared|parlante luz bola|reflector|luz led|PROYECTOR|reflector|lamparita|proyector nebulosa|kit de iluminacion|foco|difusor fotografico|luz|linterna|luces|lamparas|flash de led', case=False)) & (~df['Nombre del Producto'].str.contains('cable|Tripode Metalico 0.55m PARA ARO LUZ led HX-055M', case=False))]"
   ],
   "id": "fa894c3b69b28d05",
   "outputs": [
    {
     "data": {
      "text/plain": [
       "          Código                                Nombre del Producto  Cantidad  \\\n",
       "74       CO11253  Consola Arcade Multijuegos Con Luces 2 Mandos ...      14.0   \n",
       "102       LU8038  Aro Luz Led 30CM RGB + Tripode 2.1m HX-MJ30 / ...      11.0   \n",
       "191        L8020  Aro Luz Led 26cm Blanco Frio Calido + Tripode ...       7.0   \n",
       "210       LU8061  LAMPARA DE MESA CON BRAZO LARGO DE METAL ESTIL...       7.0   \n",
       "384      LU19101         ESPEJO LED LUZ FRIA A PILA Y USB ESP-91013       4.0   \n",
       "385       SO5542       ESTABILIZADOR KIT CON LUZ Y MICROFONO AY-49U       4.0   \n",
       "522      LU19107     LAMPARA ARTICULADA DE ESCRITORIO PIXAR OR-L01        3.0   \n",
       "523      HE18522                            LAMPARA UV usb - RL-014       3.0   \n",
       "580      PA64122  RADIO RETRO AM FM CON LINTERNA / BLUETOOTH SEI...       3.0   \n",
       "583      PA64124  Radio Retro Am Fm Con Linterna Y Bluetooth Sei...       3.0   \n",
       "635      adan005  Adaptador Headphone Jack iPhone 7 Lightning A ...       2.0   \n",
       "645        A1003  BALANZA MINI DIGITAL DE PRECISION 500G / 0.1G ...       2.0   \n",
       "750      HE18471      LAMPARA CURADO UV Con Extractor Mc18 MECHANIC       2.0   \n",
       "762       EL6713        MINI VENTILADOR USB C/LUZ MINI FANS HQ66-09       2.0   \n",
       "807      MO10852  Mouse Gamer Logitech G Series Lightsync G203 B...       2.0   \n",
       "811       FU6832  Mousepad XTRIKE ME Gamer Luz RGB MP-602 350x25...       2.0   \n",
       "818     PA131160  PARLANTE VELADOR BLUETOOTH CARGADOR INALAMBRIC...       2.0   \n",
       "865      HE18478  TESTER MECHANIC T-824 Detector De Fallas Light...       2.0   \n",
       "910       09-033  ADAPTADOR TIPO C (Macho) A LIGHTING (Hembra) 0...       1.0   \n",
       "913       CO6286  ARCADE PLOTEADO Y LUCES MULTICONSOLA + 13000 J...       1.0   \n",
       "927        A6043                     AURICULAR GAMER G635 LIGHTSYNC       1.0   \n",
       "964      AU60145  Auricular Gamer Redragon Zeus X Usb Rgb 7.1 Lu...       1.0   \n",
       "976      AU60218  Auriculares Logitech inalambricos G Series G43...       1.0   \n",
       "1025      NO1199  Base Doble Cooler Para Notebook Luz Led + 2 US...       1.0   \n",
       "1026     NO11910  Base Doble Cooler Para Notebook Luz Led + 2 US...       1.0   \n",
       "1027      NG-ZA5  Base Para Monitor Gamer Eleva Soporte Celular ...       1.0   \n",
       "1068     CO11269  CONSOLA PVP 8BIT CRASH C/CARTUCHO LIGHT 3000 P-60       1.0   \n",
       "1107      GA9011  Cooler Turbina TRANSPARENTE Luz Azul 8cm a fue...       1.0   \n",
       "1120     LU19104  ESPEJO RECTANGULAR TOUCH CON LUZ LED DINAX / D...       1.0   \n",
       "1188      LU1998              KIT COMBO TIRA DE LED RGB LED-Y3528RD       1.0   \n",
       "1197     HE18469                      LAMPARA CURADO UV Q1 MECHANIC       1.0   \n",
       "1198     HE18470                      LAMPARA CURADO UV Q2 MECHANIC       1.0   \n",
       "1199   LED-81010  LAMPARA VELADOR TACTIL LUZ CALIDA / FRIA Y NAT...       1.0   \n",
       "1200      LU1979      LASER ESTROBOSCOPICO COLORES 9 LUCES JS-PS15W       1.0   \n",
       "1209      LU8037  LINTERNA TACTICA MULTIFUNCION SWAT FLASHLIGHT ...       1.0   \n",
       "1210      LU9846                      LUZ LED SELFIE 8233 3 NIVELES       1.0   \n",
       "1211    VIR-4556  Lampara De Escritorio Usb Oficina Led Velador ...       1.0   \n",
       "1212      LU8050   Lamparita Smart Nexxt RGB Wifi 220V Dicroiica x3       1.0   \n",
       "1222      LU1968  MANGUERA LUCES NEON LED FLEXIBLE 5MTS COLORES ...       1.0   \n",
       "1244  910-006013  MOUSE GAMING INALMBRICO G305 LOGITECH LIGHTSPE...       1.0   \n",
       "1257      MI2248  Microfono Solapa Inalambrico Para Celular Tabl...       1.0   \n",
       "1258      LU9847  Mini Bola Led Rgb Led Party Light Enchufe A 22...       1.0   \n",
       "1310      ST-333  Mouse Gamer Retroiluminado LED RGB 12000DPI ST...       1.0   \n",
       "1311      ST-627  Mouse Gamer Retroiluminado LED RGB 2400DPI ST-627       1.0   \n",
       "1312      ST-645  Mouse Gamer Retroiluminado LED RGB 2400DPI ST-645       1.0   \n",
       "1313      ST-682  Mouse Gamer Retroiluminado LED RGB 3200DPI ST-682       1.0   \n",
       "1375      LU1988                 PROYECTOR LASER EMS-PS01 or 160863       1.0   \n",
       "1404      LU8031  Proton Par 18 Led Rgb Efectos Iluminacion Vide...       1.0   \n",
       "1405      PR1500  Proyector mini ViewSonic M1 MINI LED 120LM Ent...       1.0   \n",
       "1419    PA131145  Radio Bluetooth Am / Fm Con Linterna Y Panel S...       1.0   \n",
       "1439     HE18544           SOPORTE CON LUPA Y LUZ LED TE800 EC01039       1.0   \n",
       "1454      SO5533  Soporte de celular c/Brazo para espejo retrovi...       1.0   \n",
       "1489     TE10938  Teclado Mecanico Redragon Yama K550WRGB-1 QWER...       1.0   \n",
       "\n",
       "      Costo total      Ganancia  Ganancia prom. %  Venta total  \\\n",
       "74        1808.51  3.402012e+06          190966.0   3455450.00   \n",
       "102        168.00  3.228967e+05          192221.0    323100.00   \n",
       "191         74.69  1.507096e+05          201801.0    150800.00   \n",
       "210         69.30  1.271484e+05          202977.0    140732.25   \n",
       "384         32.00  7.096128e+04          221775.0     71000.00   \n",
       "385         66.00  1.114201e+05          168839.0    111500.00   \n",
       "522         59.88  1.070275e+05          178758.0    107100.00   \n",
       "523         46.08  7.074908e+04          153546.0     70800.00   \n",
       "580         36.00  7.095644e+04          197122.0     71000.00   \n",
       "583         66.39  1.176197e+05          177186.0    117700.00   \n",
       "635          2.52  1.299696e+04          515773.0     13000.00   \n",
       "645          7.54  1.559088e+04          206797.0     15600.00   \n",
       "750         34.78  6.215791e+04          178738.0     62200.00   \n",
       "762          9.86  1.548806e+04          157101.0     15500.00   \n",
       "807         50.22  7.314451e+04          163182.0     82000.00   \n",
       "811         10.04  1.838784e+04          183167.0     18400.00   \n",
       "818         43.32  7.774758e+04          179494.0     77800.00   \n",
       "865        102.72  1.838457e+05          201382.0    206962.50   \n",
       "910          3.38  6.395910e+03          189249.0      6400.00   \n",
       "913        195.26  2.867842e+05          146884.0    287000.00   \n",
       "927         68.69  1.579169e+05          229919.0    158000.00   \n",
       "964         63.06  1.199237e+05          190195.0    120000.00   \n",
       "976         41.38  1.649543e+05          398643.0    165000.00   \n",
       "1025         9.65  1.848832e+04          191610.0     18500.00   \n",
       "1026        11.17  2.148648e+04          192380.0     21500.00   \n",
       "1027        28.19  7.196589e+04          255310.0     72000.00   \n",
       "1068        18.40  2.697774e+04          146639.0     27000.00   \n",
       "1107         2.51  5.996961e+03          238944.0      6000.00   \n",
       "1120        20.09  3.597569e+04          179094.0     36000.00   \n",
       "1188         8.86  1.588928e+04          224223.0     19875.00   \n",
       "1197        15.38  2.748139e+04          178704.0     27500.00   \n",
       "1198        19.21  3.347675e+04          174288.0     33500.00   \n",
       "1199        10.80  2.418693e+04          223974.0     24200.00   \n",
       "1200       108.50  1.888687e+05          203811.0    221243.40   \n",
       "1209         1.26  8.498481e+03          674503.0      8500.00   \n",
       "1210         3.77  9.795442e+03          259847.0      9800.00   \n",
       "1211        10.05  1.788784e+04          178009.0     17900.00   \n",
       "1212        18.84  2.797919e+04          148520.0     28000.00   \n",
       "1222        13.81  2.398329e+04          173687.0     24000.00   \n",
       "1244        43.95  5.485144e+04          124815.0     54900.00   \n",
       "1257        11.41  3.198619e+04          280356.0     32000.00   \n",
       "1258         6.65  1.199195e+04          180351.0     12000.00   \n",
       "1310         9.54  2.148946e+04          225267.0     21500.00   \n",
       "1311         3.14  1.399653e+04          445760.0     14000.00   \n",
       "1312         3.77  1.399583e+04          371253.0     14000.00   \n",
       "1313         3.77  1.399584e+04          371253.0     14000.00   \n",
       "1375        30.00  5.226370e+04          174233.0     52300.00   \n",
       "1404        12.56  2.398481e+04          190983.0     24000.00   \n",
       "1405       125.57  2.598481e+05          206956.0    260000.00   \n",
       "1419        22.79  3.897242e+04          171028.0     39000.00   \n",
       "1439        14.00  2.798306e+04          199900.0     28000.00   \n",
       "1454         4.14  7.994986e+03          193137.0      8000.00   \n",
       "1489        58.39  9.693548e+04          166024.0     97000.00   \n",
       "\n",
       "                                              Categoria  \n",
       "74                                              Consola  \n",
       "102   Aro Luz Led 30CM RGB + Tripode 2.1m HX-MJ30 / ...  \n",
       "191   Aro Luz Led 26cm Blanco Frio Calido + Tripode ...  \n",
       "210   LAMPARA DE MESA CON BRAZO LARGO DE METAL ESTIL...  \n",
       "384          ESPEJO LED LUZ FRIA A PILA Y USB ESP-91013  \n",
       "385        ESTABILIZADOR KIT CON LUZ Y MICROFONO AY-49U  \n",
       "522      LAMPARA ARTICULADA DE ESCRITORIO PIXAR OR-L01   \n",
       "523                             LAMPARA UV usb - RL-014  \n",
       "580   RADIO RETRO AM FM CON LINTERNA / BLUETOOTH SEI...  \n",
       "583   Radio Retro Am Fm Con Linterna Y Bluetooth Sei...  \n",
       "635                                           Adaptador  \n",
       "645   BALANZA MINI DIGITAL DE PRECISION 500G / 0.1G ...  \n",
       "750       LAMPARA CURADO UV Con Extractor Mc18 MECHANIC  \n",
       "762         MINI VENTILADOR USB C/LUZ MINI FANS HQ66-09  \n",
       "807                                               Mouse  \n",
       "811                                               Mouse  \n",
       "818                                            Parlante  \n",
       "865   TESTER MECHANIC T-824 Detector De Fallas Light...  \n",
       "910                                           Adaptador  \n",
       "913                                             Consola  \n",
       "927                                           Auricular  \n",
       "964                                           Auricular  \n",
       "976                                           Auricular  \n",
       "1025  Base Doble Cooler Para Notebook Luz Led + 2 US...  \n",
       "1026  Base Doble Cooler Para Notebook Luz Led + 2 US...  \n",
       "1027                                            Soporte  \n",
       "1068                                            Consola  \n",
       "1107  Cooler Turbina TRANSPARENTE Luz Azul 8cm a fue...  \n",
       "1120  ESPEJO RECTANGULAR TOUCH CON LUZ LED DINAX / D...  \n",
       "1188              KIT COMBO TIRA DE LED RGB LED-Y3528RD  \n",
       "1197                      LAMPARA CURADO UV Q1 MECHANIC  \n",
       "1198                      LAMPARA CURADO UV Q2 MECHANIC  \n",
       "1199  LAMPARA VELADOR TACTIL LUZ CALIDA / FRIA Y NAT...  \n",
       "1200      LASER ESTROBOSCOPICO COLORES 9 LUCES JS-PS15W  \n",
       "1209  LINTERNA TACTICA MULTIFUNCION SWAT FLASHLIGHT ...  \n",
       "1210                      LUZ LED SELFIE 8233 3 NIVELES  \n",
       "1211  Lampara De Escritorio Usb Oficina Led Velador ...  \n",
       "1212   Lamparita Smart Nexxt RGB Wifi 220V Dicroiica x3  \n",
       "1222  MANGUERA LUCES NEON LED FLEXIBLE 5MTS COLORES ...  \n",
       "1244                                              Mouse  \n",
       "1257  Microfono Solapa Inalambrico Para Celular Tabl...  \n",
       "1258  Mini Bola Led Rgb Led Party Light Enchufe A 22...  \n",
       "1310                                              Mouse  \n",
       "1311                                              Mouse  \n",
       "1312                                              Mouse  \n",
       "1313                                              Mouse  \n",
       "1375                 PROYECTOR LASER EMS-PS01 or 160863  \n",
       "1404  Proton Par 18 Led Rgb Efectos Iluminacion Vide...  \n",
       "1405  Proyector mini ViewSonic M1 MINI LED 120LM Ent...  \n",
       "1419  Radio Bluetooth Am / Fm Con Linterna Y Panel S...  \n",
       "1439                                            Soporte  \n",
       "1454                                            Soporte  \n",
       "1489                                            Teclado  "
      ],
      "text/html": [
       "<div>\n",
       "<style scoped>\n",
       "    .dataframe tbody tr th:only-of-type {\n",
       "        vertical-align: middle;\n",
       "    }\n",
       "\n",
       "    .dataframe tbody tr th {\n",
       "        vertical-align: top;\n",
       "    }\n",
       "\n",
       "    .dataframe thead th {\n",
       "        text-align: right;\n",
       "    }\n",
       "</style>\n",
       "<table border=\"1\" class=\"dataframe\">\n",
       "  <thead>\n",
       "    <tr style=\"text-align: right;\">\n",
       "      <th></th>\n",
       "      <th>Código</th>\n",
       "      <th>Nombre del Producto</th>\n",
       "      <th>Cantidad</th>\n",
       "      <th>Costo total</th>\n",
       "      <th>Ganancia</th>\n",
       "      <th>Ganancia prom. %</th>\n",
       "      <th>Venta total</th>\n",
       "      <th>Categoria</th>\n",
       "    </tr>\n",
       "  </thead>\n",
       "  <tbody>\n",
       "    <tr>\n",
       "      <th>74</th>\n",
       "      <td>CO11253</td>\n",
       "      <td>Consola Arcade Multijuegos Con Luces 2 Mandos ...</td>\n",
       "      <td>14.0</td>\n",
       "      <td>1808.51</td>\n",
       "      <td>3.402012e+06</td>\n",
       "      <td>190966.0</td>\n",
       "      <td>3455450.00</td>\n",
       "      <td>Consola</td>\n",
       "    </tr>\n",
       "    <tr>\n",
       "      <th>102</th>\n",
       "      <td>LU8038</td>\n",
       "      <td>Aro Luz Led 30CM RGB + Tripode 2.1m HX-MJ30 / ...</td>\n",
       "      <td>11.0</td>\n",
       "      <td>168.00</td>\n",
       "      <td>3.228967e+05</td>\n",
       "      <td>192221.0</td>\n",
       "      <td>323100.00</td>\n",
       "      <td>Aro Luz Led 30CM RGB + Tripode 2.1m HX-MJ30 / ...</td>\n",
       "    </tr>\n",
       "    <tr>\n",
       "      <th>191</th>\n",
       "      <td>L8020</td>\n",
       "      <td>Aro Luz Led 26cm Blanco Frio Calido + Tripode ...</td>\n",
       "      <td>7.0</td>\n",
       "      <td>74.69</td>\n",
       "      <td>1.507096e+05</td>\n",
       "      <td>201801.0</td>\n",
       "      <td>150800.00</td>\n",
       "      <td>Aro Luz Led 26cm Blanco Frio Calido + Tripode ...</td>\n",
       "    </tr>\n",
       "    <tr>\n",
       "      <th>210</th>\n",
       "      <td>LU8061</td>\n",
       "      <td>LAMPARA DE MESA CON BRAZO LARGO DE METAL ESTIL...</td>\n",
       "      <td>7.0</td>\n",
       "      <td>69.30</td>\n",
       "      <td>1.271484e+05</td>\n",
       "      <td>202977.0</td>\n",
       "      <td>140732.25</td>\n",
       "      <td>LAMPARA DE MESA CON BRAZO LARGO DE METAL ESTIL...</td>\n",
       "    </tr>\n",
       "    <tr>\n",
       "      <th>384</th>\n",
       "      <td>LU19101</td>\n",
       "      <td>ESPEJO LED LUZ FRIA A PILA Y USB ESP-91013</td>\n",
       "      <td>4.0</td>\n",
       "      <td>32.00</td>\n",
       "      <td>7.096128e+04</td>\n",
       "      <td>221775.0</td>\n",
       "      <td>71000.00</td>\n",
       "      <td>ESPEJO LED LUZ FRIA A PILA Y USB ESP-91013</td>\n",
       "    </tr>\n",
       "    <tr>\n",
       "      <th>385</th>\n",
       "      <td>SO5542</td>\n",
       "      <td>ESTABILIZADOR KIT CON LUZ Y MICROFONO AY-49U</td>\n",
       "      <td>4.0</td>\n",
       "      <td>66.00</td>\n",
       "      <td>1.114201e+05</td>\n",
       "      <td>168839.0</td>\n",
       "      <td>111500.00</td>\n",
       "      <td>ESTABILIZADOR KIT CON LUZ Y MICROFONO AY-49U</td>\n",
       "    </tr>\n",
       "    <tr>\n",
       "      <th>522</th>\n",
       "      <td>LU19107</td>\n",
       "      <td>LAMPARA ARTICULADA DE ESCRITORIO PIXAR OR-L01</td>\n",
       "      <td>3.0</td>\n",
       "      <td>59.88</td>\n",
       "      <td>1.070275e+05</td>\n",
       "      <td>178758.0</td>\n",
       "      <td>107100.00</td>\n",
       "      <td>LAMPARA ARTICULADA DE ESCRITORIO PIXAR OR-L01</td>\n",
       "    </tr>\n",
       "    <tr>\n",
       "      <th>523</th>\n",
       "      <td>HE18522</td>\n",
       "      <td>LAMPARA UV usb - RL-014</td>\n",
       "      <td>3.0</td>\n",
       "      <td>46.08</td>\n",
       "      <td>7.074908e+04</td>\n",
       "      <td>153546.0</td>\n",
       "      <td>70800.00</td>\n",
       "      <td>LAMPARA UV usb - RL-014</td>\n",
       "    </tr>\n",
       "    <tr>\n",
       "      <th>580</th>\n",
       "      <td>PA64122</td>\n",
       "      <td>RADIO RETRO AM FM CON LINTERNA / BLUETOOTH SEI...</td>\n",
       "      <td>3.0</td>\n",
       "      <td>36.00</td>\n",
       "      <td>7.095644e+04</td>\n",
       "      <td>197122.0</td>\n",
       "      <td>71000.00</td>\n",
       "      <td>RADIO RETRO AM FM CON LINTERNA / BLUETOOTH SEI...</td>\n",
       "    </tr>\n",
       "    <tr>\n",
       "      <th>583</th>\n",
       "      <td>PA64124</td>\n",
       "      <td>Radio Retro Am Fm Con Linterna Y Bluetooth Sei...</td>\n",
       "      <td>3.0</td>\n",
       "      <td>66.39</td>\n",
       "      <td>1.176197e+05</td>\n",
       "      <td>177186.0</td>\n",
       "      <td>117700.00</td>\n",
       "      <td>Radio Retro Am Fm Con Linterna Y Bluetooth Sei...</td>\n",
       "    </tr>\n",
       "    <tr>\n",
       "      <th>635</th>\n",
       "      <td>adan005</td>\n",
       "      <td>Adaptador Headphone Jack iPhone 7 Lightning A ...</td>\n",
       "      <td>2.0</td>\n",
       "      <td>2.52</td>\n",
       "      <td>1.299696e+04</td>\n",
       "      <td>515773.0</td>\n",
       "      <td>13000.00</td>\n",
       "      <td>Adaptador</td>\n",
       "    </tr>\n",
       "    <tr>\n",
       "      <th>645</th>\n",
       "      <td>A1003</td>\n",
       "      <td>BALANZA MINI DIGITAL DE PRECISION 500G / 0.1G ...</td>\n",
       "      <td>2.0</td>\n",
       "      <td>7.54</td>\n",
       "      <td>1.559088e+04</td>\n",
       "      <td>206797.0</td>\n",
       "      <td>15600.00</td>\n",
       "      <td>BALANZA MINI DIGITAL DE PRECISION 500G / 0.1G ...</td>\n",
       "    </tr>\n",
       "    <tr>\n",
       "      <th>750</th>\n",
       "      <td>HE18471</td>\n",
       "      <td>LAMPARA CURADO UV Con Extractor Mc18 MECHANIC</td>\n",
       "      <td>2.0</td>\n",
       "      <td>34.78</td>\n",
       "      <td>6.215791e+04</td>\n",
       "      <td>178738.0</td>\n",
       "      <td>62200.00</td>\n",
       "      <td>LAMPARA CURADO UV Con Extractor Mc18 MECHANIC</td>\n",
       "    </tr>\n",
       "    <tr>\n",
       "      <th>762</th>\n",
       "      <td>EL6713</td>\n",
       "      <td>MINI VENTILADOR USB C/LUZ MINI FANS HQ66-09</td>\n",
       "      <td>2.0</td>\n",
       "      <td>9.86</td>\n",
       "      <td>1.548806e+04</td>\n",
       "      <td>157101.0</td>\n",
       "      <td>15500.00</td>\n",
       "      <td>MINI VENTILADOR USB C/LUZ MINI FANS HQ66-09</td>\n",
       "    </tr>\n",
       "    <tr>\n",
       "      <th>807</th>\n",
       "      <td>MO10852</td>\n",
       "      <td>Mouse Gamer Logitech G Series Lightsync G203 B...</td>\n",
       "      <td>2.0</td>\n",
       "      <td>50.22</td>\n",
       "      <td>7.314451e+04</td>\n",
       "      <td>163182.0</td>\n",
       "      <td>82000.00</td>\n",
       "      <td>Mouse</td>\n",
       "    </tr>\n",
       "    <tr>\n",
       "      <th>811</th>\n",
       "      <td>FU6832</td>\n",
       "      <td>Mousepad XTRIKE ME Gamer Luz RGB MP-602 350x25...</td>\n",
       "      <td>2.0</td>\n",
       "      <td>10.04</td>\n",
       "      <td>1.838784e+04</td>\n",
       "      <td>183167.0</td>\n",
       "      <td>18400.00</td>\n",
       "      <td>Mouse</td>\n",
       "    </tr>\n",
       "    <tr>\n",
       "      <th>818</th>\n",
       "      <td>PA131160</td>\n",
       "      <td>PARLANTE VELADOR BLUETOOTH CARGADOR INALAMBRIC...</td>\n",
       "      <td>2.0</td>\n",
       "      <td>43.32</td>\n",
       "      <td>7.774758e+04</td>\n",
       "      <td>179494.0</td>\n",
       "      <td>77800.00</td>\n",
       "      <td>Parlante</td>\n",
       "    </tr>\n",
       "    <tr>\n",
       "      <th>865</th>\n",
       "      <td>HE18478</td>\n",
       "      <td>TESTER MECHANIC T-824 Detector De Fallas Light...</td>\n",
       "      <td>2.0</td>\n",
       "      <td>102.72</td>\n",
       "      <td>1.838457e+05</td>\n",
       "      <td>201382.0</td>\n",
       "      <td>206962.50</td>\n",
       "      <td>TESTER MECHANIC T-824 Detector De Fallas Light...</td>\n",
       "    </tr>\n",
       "    <tr>\n",
       "      <th>910</th>\n",
       "      <td>09-033</td>\n",
       "      <td>ADAPTADOR TIPO C (Macho) A LIGHTING (Hembra) 0...</td>\n",
       "      <td>1.0</td>\n",
       "      <td>3.38</td>\n",
       "      <td>6.395910e+03</td>\n",
       "      <td>189249.0</td>\n",
       "      <td>6400.00</td>\n",
       "      <td>Adaptador</td>\n",
       "    </tr>\n",
       "    <tr>\n",
       "      <th>913</th>\n",
       "      <td>CO6286</td>\n",
       "      <td>ARCADE PLOTEADO Y LUCES MULTICONSOLA + 13000 J...</td>\n",
       "      <td>1.0</td>\n",
       "      <td>195.26</td>\n",
       "      <td>2.867842e+05</td>\n",
       "      <td>146884.0</td>\n",
       "      <td>287000.00</td>\n",
       "      <td>Consola</td>\n",
       "    </tr>\n",
       "    <tr>\n",
       "      <th>927</th>\n",
       "      <td>A6043</td>\n",
       "      <td>AURICULAR GAMER G635 LIGHTSYNC</td>\n",
       "      <td>1.0</td>\n",
       "      <td>68.69</td>\n",
       "      <td>1.579169e+05</td>\n",
       "      <td>229919.0</td>\n",
       "      <td>158000.00</td>\n",
       "      <td>Auricular</td>\n",
       "    </tr>\n",
       "    <tr>\n",
       "      <th>964</th>\n",
       "      <td>AU60145</td>\n",
       "      <td>Auricular Gamer Redragon Zeus X Usb Rgb 7.1 Lu...</td>\n",
       "      <td>1.0</td>\n",
       "      <td>63.06</td>\n",
       "      <td>1.199237e+05</td>\n",
       "      <td>190195.0</td>\n",
       "      <td>120000.00</td>\n",
       "      <td>Auricular</td>\n",
       "    </tr>\n",
       "    <tr>\n",
       "      <th>976</th>\n",
       "      <td>AU60218</td>\n",
       "      <td>Auriculares Logitech inalambricos G Series G43...</td>\n",
       "      <td>1.0</td>\n",
       "      <td>41.38</td>\n",
       "      <td>1.649543e+05</td>\n",
       "      <td>398643.0</td>\n",
       "      <td>165000.00</td>\n",
       "      <td>Auricular</td>\n",
       "    </tr>\n",
       "    <tr>\n",
       "      <th>1025</th>\n",
       "      <td>NO1199</td>\n",
       "      <td>Base Doble Cooler Para Notebook Luz Led + 2 US...</td>\n",
       "      <td>1.0</td>\n",
       "      <td>9.65</td>\n",
       "      <td>1.848832e+04</td>\n",
       "      <td>191610.0</td>\n",
       "      <td>18500.00</td>\n",
       "      <td>Base Doble Cooler Para Notebook Luz Led + 2 US...</td>\n",
       "    </tr>\n",
       "    <tr>\n",
       "      <th>1026</th>\n",
       "      <td>NO11910</td>\n",
       "      <td>Base Doble Cooler Para Notebook Luz Led + 2 US...</td>\n",
       "      <td>1.0</td>\n",
       "      <td>11.17</td>\n",
       "      <td>2.148648e+04</td>\n",
       "      <td>192380.0</td>\n",
       "      <td>21500.00</td>\n",
       "      <td>Base Doble Cooler Para Notebook Luz Led + 2 US...</td>\n",
       "    </tr>\n",
       "    <tr>\n",
       "      <th>1027</th>\n",
       "      <td>NG-ZA5</td>\n",
       "      <td>Base Para Monitor Gamer Eleva Soporte Celular ...</td>\n",
       "      <td>1.0</td>\n",
       "      <td>28.19</td>\n",
       "      <td>7.196589e+04</td>\n",
       "      <td>255310.0</td>\n",
       "      <td>72000.00</td>\n",
       "      <td>Soporte</td>\n",
       "    </tr>\n",
       "    <tr>\n",
       "      <th>1068</th>\n",
       "      <td>CO11269</td>\n",
       "      <td>CONSOLA PVP 8BIT CRASH C/CARTUCHO LIGHT 3000 P-60</td>\n",
       "      <td>1.0</td>\n",
       "      <td>18.40</td>\n",
       "      <td>2.697774e+04</td>\n",
       "      <td>146639.0</td>\n",
       "      <td>27000.00</td>\n",
       "      <td>Consola</td>\n",
       "    </tr>\n",
       "    <tr>\n",
       "      <th>1107</th>\n",
       "      <td>GA9011</td>\n",
       "      <td>Cooler Turbina TRANSPARENTE Luz Azul 8cm a fue...</td>\n",
       "      <td>1.0</td>\n",
       "      <td>2.51</td>\n",
       "      <td>5.996961e+03</td>\n",
       "      <td>238944.0</td>\n",
       "      <td>6000.00</td>\n",
       "      <td>Cooler Turbina TRANSPARENTE Luz Azul 8cm a fue...</td>\n",
       "    </tr>\n",
       "    <tr>\n",
       "      <th>1120</th>\n",
       "      <td>LU19104</td>\n",
       "      <td>ESPEJO RECTANGULAR TOUCH CON LUZ LED DINAX / D...</td>\n",
       "      <td>1.0</td>\n",
       "      <td>20.09</td>\n",
       "      <td>3.597569e+04</td>\n",
       "      <td>179094.0</td>\n",
       "      <td>36000.00</td>\n",
       "      <td>ESPEJO RECTANGULAR TOUCH CON LUZ LED DINAX / D...</td>\n",
       "    </tr>\n",
       "    <tr>\n",
       "      <th>1188</th>\n",
       "      <td>LU1998</td>\n",
       "      <td>KIT COMBO TIRA DE LED RGB LED-Y3528RD</td>\n",
       "      <td>1.0</td>\n",
       "      <td>8.86</td>\n",
       "      <td>1.588928e+04</td>\n",
       "      <td>224223.0</td>\n",
       "      <td>19875.00</td>\n",
       "      <td>KIT COMBO TIRA DE LED RGB LED-Y3528RD</td>\n",
       "    </tr>\n",
       "    <tr>\n",
       "      <th>1197</th>\n",
       "      <td>HE18469</td>\n",
       "      <td>LAMPARA CURADO UV Q1 MECHANIC</td>\n",
       "      <td>1.0</td>\n",
       "      <td>15.38</td>\n",
       "      <td>2.748139e+04</td>\n",
       "      <td>178704.0</td>\n",
       "      <td>27500.00</td>\n",
       "      <td>LAMPARA CURADO UV Q1 MECHANIC</td>\n",
       "    </tr>\n",
       "    <tr>\n",
       "      <th>1198</th>\n",
       "      <td>HE18470</td>\n",
       "      <td>LAMPARA CURADO UV Q2 MECHANIC</td>\n",
       "      <td>1.0</td>\n",
       "      <td>19.21</td>\n",
       "      <td>3.347675e+04</td>\n",
       "      <td>174288.0</td>\n",
       "      <td>33500.00</td>\n",
       "      <td>LAMPARA CURADO UV Q2 MECHANIC</td>\n",
       "    </tr>\n",
       "    <tr>\n",
       "      <th>1199</th>\n",
       "      <td>LED-81010</td>\n",
       "      <td>LAMPARA VELADOR TACTIL LUZ CALIDA / FRIA Y NAT...</td>\n",
       "      <td>1.0</td>\n",
       "      <td>10.80</td>\n",
       "      <td>2.418693e+04</td>\n",
       "      <td>223974.0</td>\n",
       "      <td>24200.00</td>\n",
       "      <td>LAMPARA VELADOR TACTIL LUZ CALIDA / FRIA Y NAT...</td>\n",
       "    </tr>\n",
       "    <tr>\n",
       "      <th>1200</th>\n",
       "      <td>LU1979</td>\n",
       "      <td>LASER ESTROBOSCOPICO COLORES 9 LUCES JS-PS15W</td>\n",
       "      <td>1.0</td>\n",
       "      <td>108.50</td>\n",
       "      <td>1.888687e+05</td>\n",
       "      <td>203811.0</td>\n",
       "      <td>221243.40</td>\n",
       "      <td>LASER ESTROBOSCOPICO COLORES 9 LUCES JS-PS15W</td>\n",
       "    </tr>\n",
       "    <tr>\n",
       "      <th>1209</th>\n",
       "      <td>LU8037</td>\n",
       "      <td>LINTERNA TACTICA MULTIFUNCION SWAT FLASHLIGHT ...</td>\n",
       "      <td>1.0</td>\n",
       "      <td>1.26</td>\n",
       "      <td>8.498481e+03</td>\n",
       "      <td>674503.0</td>\n",
       "      <td>8500.00</td>\n",
       "      <td>LINTERNA TACTICA MULTIFUNCION SWAT FLASHLIGHT ...</td>\n",
       "    </tr>\n",
       "    <tr>\n",
       "      <th>1210</th>\n",
       "      <td>LU9846</td>\n",
       "      <td>LUZ LED SELFIE 8233 3 NIVELES</td>\n",
       "      <td>1.0</td>\n",
       "      <td>3.77</td>\n",
       "      <td>9.795442e+03</td>\n",
       "      <td>259847.0</td>\n",
       "      <td>9800.00</td>\n",
       "      <td>LUZ LED SELFIE 8233 3 NIVELES</td>\n",
       "    </tr>\n",
       "    <tr>\n",
       "      <th>1211</th>\n",
       "      <td>VIR-4556</td>\n",
       "      <td>Lampara De Escritorio Usb Oficina Led Velador ...</td>\n",
       "      <td>1.0</td>\n",
       "      <td>10.05</td>\n",
       "      <td>1.788784e+04</td>\n",
       "      <td>178009.0</td>\n",
       "      <td>17900.00</td>\n",
       "      <td>Lampara De Escritorio Usb Oficina Led Velador ...</td>\n",
       "    </tr>\n",
       "    <tr>\n",
       "      <th>1212</th>\n",
       "      <td>LU8050</td>\n",
       "      <td>Lamparita Smart Nexxt RGB Wifi 220V Dicroiica x3</td>\n",
       "      <td>1.0</td>\n",
       "      <td>18.84</td>\n",
       "      <td>2.797919e+04</td>\n",
       "      <td>148520.0</td>\n",
       "      <td>28000.00</td>\n",
       "      <td>Lamparita Smart Nexxt RGB Wifi 220V Dicroiica x3</td>\n",
       "    </tr>\n",
       "    <tr>\n",
       "      <th>1222</th>\n",
       "      <td>LU1968</td>\n",
       "      <td>MANGUERA LUCES NEON LED FLEXIBLE 5MTS COLORES ...</td>\n",
       "      <td>1.0</td>\n",
       "      <td>13.81</td>\n",
       "      <td>2.398329e+04</td>\n",
       "      <td>173687.0</td>\n",
       "      <td>24000.00</td>\n",
       "      <td>MANGUERA LUCES NEON LED FLEXIBLE 5MTS COLORES ...</td>\n",
       "    </tr>\n",
       "    <tr>\n",
       "      <th>1244</th>\n",
       "      <td>910-006013</td>\n",
       "      <td>MOUSE GAMING INALMBRICO G305 LOGITECH LIGHTSPE...</td>\n",
       "      <td>1.0</td>\n",
       "      <td>43.95</td>\n",
       "      <td>5.485144e+04</td>\n",
       "      <td>124815.0</td>\n",
       "      <td>54900.00</td>\n",
       "      <td>Mouse</td>\n",
       "    </tr>\n",
       "    <tr>\n",
       "      <th>1257</th>\n",
       "      <td>MI2248</td>\n",
       "      <td>Microfono Solapa Inalambrico Para Celular Tabl...</td>\n",
       "      <td>1.0</td>\n",
       "      <td>11.41</td>\n",
       "      <td>3.198619e+04</td>\n",
       "      <td>280356.0</td>\n",
       "      <td>32000.00</td>\n",
       "      <td>Microfono Solapa Inalambrico Para Celular Tabl...</td>\n",
       "    </tr>\n",
       "    <tr>\n",
       "      <th>1258</th>\n",
       "      <td>LU9847</td>\n",
       "      <td>Mini Bola Led Rgb Led Party Light Enchufe A 22...</td>\n",
       "      <td>1.0</td>\n",
       "      <td>6.65</td>\n",
       "      <td>1.199195e+04</td>\n",
       "      <td>180351.0</td>\n",
       "      <td>12000.00</td>\n",
       "      <td>Mini Bola Led Rgb Led Party Light Enchufe A 22...</td>\n",
       "    </tr>\n",
       "    <tr>\n",
       "      <th>1310</th>\n",
       "      <td>ST-333</td>\n",
       "      <td>Mouse Gamer Retroiluminado LED RGB 12000DPI ST...</td>\n",
       "      <td>1.0</td>\n",
       "      <td>9.54</td>\n",
       "      <td>2.148946e+04</td>\n",
       "      <td>225267.0</td>\n",
       "      <td>21500.00</td>\n",
       "      <td>Mouse</td>\n",
       "    </tr>\n",
       "    <tr>\n",
       "      <th>1311</th>\n",
       "      <td>ST-627</td>\n",
       "      <td>Mouse Gamer Retroiluminado LED RGB 2400DPI ST-627</td>\n",
       "      <td>1.0</td>\n",
       "      <td>3.14</td>\n",
       "      <td>1.399653e+04</td>\n",
       "      <td>445760.0</td>\n",
       "      <td>14000.00</td>\n",
       "      <td>Mouse</td>\n",
       "    </tr>\n",
       "    <tr>\n",
       "      <th>1312</th>\n",
       "      <td>ST-645</td>\n",
       "      <td>Mouse Gamer Retroiluminado LED RGB 2400DPI ST-645</td>\n",
       "      <td>1.0</td>\n",
       "      <td>3.77</td>\n",
       "      <td>1.399583e+04</td>\n",
       "      <td>371253.0</td>\n",
       "      <td>14000.00</td>\n",
       "      <td>Mouse</td>\n",
       "    </tr>\n",
       "    <tr>\n",
       "      <th>1313</th>\n",
       "      <td>ST-682</td>\n",
       "      <td>Mouse Gamer Retroiluminado LED RGB 3200DPI ST-682</td>\n",
       "      <td>1.0</td>\n",
       "      <td>3.77</td>\n",
       "      <td>1.399584e+04</td>\n",
       "      <td>371253.0</td>\n",
       "      <td>14000.00</td>\n",
       "      <td>Mouse</td>\n",
       "    </tr>\n",
       "    <tr>\n",
       "      <th>1375</th>\n",
       "      <td>LU1988</td>\n",
       "      <td>PROYECTOR LASER EMS-PS01 or 160863</td>\n",
       "      <td>1.0</td>\n",
       "      <td>30.00</td>\n",
       "      <td>5.226370e+04</td>\n",
       "      <td>174233.0</td>\n",
       "      <td>52300.00</td>\n",
       "      <td>PROYECTOR LASER EMS-PS01 or 160863</td>\n",
       "    </tr>\n",
       "    <tr>\n",
       "      <th>1404</th>\n",
       "      <td>LU8031</td>\n",
       "      <td>Proton Par 18 Led Rgb Efectos Iluminacion Vide...</td>\n",
       "      <td>1.0</td>\n",
       "      <td>12.56</td>\n",
       "      <td>2.398481e+04</td>\n",
       "      <td>190983.0</td>\n",
       "      <td>24000.00</td>\n",
       "      <td>Proton Par 18 Led Rgb Efectos Iluminacion Vide...</td>\n",
       "    </tr>\n",
       "    <tr>\n",
       "      <th>1405</th>\n",
       "      <td>PR1500</td>\n",
       "      <td>Proyector mini ViewSonic M1 MINI LED 120LM Ent...</td>\n",
       "      <td>1.0</td>\n",
       "      <td>125.57</td>\n",
       "      <td>2.598481e+05</td>\n",
       "      <td>206956.0</td>\n",
       "      <td>260000.00</td>\n",
       "      <td>Proyector mini ViewSonic M1 MINI LED 120LM Ent...</td>\n",
       "    </tr>\n",
       "    <tr>\n",
       "      <th>1419</th>\n",
       "      <td>PA131145</td>\n",
       "      <td>Radio Bluetooth Am / Fm Con Linterna Y Panel S...</td>\n",
       "      <td>1.0</td>\n",
       "      <td>22.79</td>\n",
       "      <td>3.897242e+04</td>\n",
       "      <td>171028.0</td>\n",
       "      <td>39000.00</td>\n",
       "      <td>Radio Bluetooth Am / Fm Con Linterna Y Panel S...</td>\n",
       "    </tr>\n",
       "    <tr>\n",
       "      <th>1439</th>\n",
       "      <td>HE18544</td>\n",
       "      <td>SOPORTE CON LUPA Y LUZ LED TE800 EC01039</td>\n",
       "      <td>1.0</td>\n",
       "      <td>14.00</td>\n",
       "      <td>2.798306e+04</td>\n",
       "      <td>199900.0</td>\n",
       "      <td>28000.00</td>\n",
       "      <td>Soporte</td>\n",
       "    </tr>\n",
       "    <tr>\n",
       "      <th>1454</th>\n",
       "      <td>SO5533</td>\n",
       "      <td>Soporte de celular c/Brazo para espejo retrovi...</td>\n",
       "      <td>1.0</td>\n",
       "      <td>4.14</td>\n",
       "      <td>7.994986e+03</td>\n",
       "      <td>193137.0</td>\n",
       "      <td>8000.00</td>\n",
       "      <td>Soporte</td>\n",
       "    </tr>\n",
       "    <tr>\n",
       "      <th>1489</th>\n",
       "      <td>TE10938</td>\n",
       "      <td>Teclado Mecanico Redragon Yama K550WRGB-1 QWER...</td>\n",
       "      <td>1.0</td>\n",
       "      <td>58.39</td>\n",
       "      <td>9.693548e+04</td>\n",
       "      <td>166024.0</td>\n",
       "      <td>97000.00</td>\n",
       "      <td>Teclado</td>\n",
       "    </tr>\n",
       "  </tbody>\n",
       "</table>\n",
       "</div>"
      ]
     },
     "execution_count": 368,
     "metadata": {},
     "output_type": "execute_result"
    }
   ],
   "execution_count": 368
  },
  {
   "metadata": {
    "ExecuteTime": {
     "end_time": "2024-12-27T16:05:05.016681Z",
     "start_time": "2024-12-27T16:05:04.969516Z"
    }
   },
   "cell_type": "code",
   "source": [
    "#agregar en la columna 'Categoria'  la cadena 'Luces' en cada fila si los valores  de la columna 'Nombre de Producto' tienen la cadena 'Manguera de Led' o 'Lampara' o 'Aro Luz' o 'Espejo' o 'Uñas' o 'Light' o 'Led RGB' o 'Tira Led' o 'Puntero Laser' o 'Lampara de Pared' o 'Parlante Luz Bola' o 'Reflector' o 'Luz Led' o 'PROYECTOR' o 'Reflector' o 'Lamparita' o 'Proyector Nebulosa' o 'Kit de Iluminacion' o 'Foco' o 'Difusor Fotografico' o 'Luz' o 'Linterna' o 'Luces' o 'Lamparas' o 'Flash de Led' en su nombre y si no tienen las siguientes cadenas: cable, Tripode Metalico 0.55m PARA ARO LUZ led HX-055M, Radio, Balanza, LAMPARA CURADO UV Con Extractor Mc18 MECHANIC, Mouse, Parlante, Mousepad, Tester, adaptador, arcade, cooler, base, consola, kit, microfono y teclado\n",
    "df['Categoria'] = np.where(df['Nombre del Producto'].str.contains('manguera de led|lampara|aro luz|espejo|uñas|light|led rgb|tira led|puntero laser|lampara de pared|parlante luz bola|reflector|luz led|PROYECTOR|reflector|lamparita|proyector nebulosa|kit de iluminacion|foco|difusor fotografico|luz|linterna|luces|lamparas|flash de led', case=False) & ~df['Nombre del Producto'].str.contains('cable|Tripode Metalico 0.55m PARA ARO LUZ led HX-055M|Radio|Balanza|LAMPARA CURADO UV Con Extractor Mc18 MECHANIC|Mouse|Parlante|Mousepad|Tester|adaptador|arcade|cooler|base|consola|kit|microfono|teclado', case=False), 'Luces', df['Categoria'])"
   ],
   "id": "98b043491ff7ef83",
   "outputs": [],
   "execution_count": 369
  },
  {
   "metadata": {
    "ExecuteTime": {
     "end_time": "2024-12-27T16:05:05.157483Z",
     "start_time": "2024-12-27T16:05:05.145842Z"
    }
   },
   "cell_type": "code",
   "source": [
    "# ver valorees conl a cadena ddr3 y ddr4 en la columna nombre del producto\n",
    "df[df['Nombre del Producto'].str.contains('ddr3|ddr4', case=False)]['Nombre del Producto'].unique()"
   ],
   "id": "c2debb49f440b05d",
   "outputs": [
    {
     "data": {
      "text/plain": [
       "array(['Memoria DDR3 Markvision 8Gb 1600 MHz 1.35V BULK (6259)',\n",
       "       'MEMORIA RAM SODIMM DDR4 PNY 8GB XLR8 GAMING 3200MHZ',\n",
       "       'Memoria SODIMM DDR3 HIKSEMI 8Gb 1600 MHz Hiker (7499)',\n",
       "       'Memoria SODIMM DDR3 Markvision 8Gb 1600 MHz 1.35V BULK (6372)',\n",
       "       'MEMORIA DDR4 MARKVISION 8GB 3000 MHZ 1.35V BULK',\n",
       "       'MEMORIA SODIMM KINGSTON FURY DDR4 8GB 3200MHZ IMPACT',\n",
       "       'Memoria DDR3 HIKSEMI 8Gb 1600 MHz Hiker (7512)',\n",
       "       'Memoria DDR4 Corsair 8Gb 2666 MHz Value (3036)'], dtype=object)"
      ]
     },
     "execution_count": 370,
     "metadata": {},
     "output_type": "execute_result"
    }
   ],
   "execution_count": 370
  },
  {
   "metadata": {
    "ExecuteTime": {
     "end_time": "2024-12-27T16:05:05.518619Z",
     "start_time": "2024-12-27T16:05:05.509965Z"
    }
   },
   "cell_type": "code",
   "source": [
    "#agregar en la columna 'Categoria'  la cadena 'Memoria Ram' en cada fila si los valores  de la columna 'Nombre de Producto' tienen la cadena 'DDR3' o 'DDR4' en su nombre\n",
    "df['Categoria'] = np.where(df['Nombre del Producto'].str.contains('ddr3|ddr4', case=False), 'Memoria Ram', df['Categoria'])"
   ],
   "id": "639954095fe3f8ff",
   "outputs": [],
   "execution_count": 371
  },
  {
   "metadata": {
    "ExecuteTime": {
     "end_time": "2024-12-27T16:05:05.757018Z",
     "start_time": "2024-12-27T16:05:05.744442Z"
    }
   },
   "cell_type": "code",
   "source": [
    "#ver valores con la cadena 'tarjeta de memoria' en la columna nombre del producto\n",
    "df[df['Nombre del Producto'].str.contains('tarjeta de memoria', case=False)]['Nombre del Producto'].unique()"
   ],
   "id": "8b26b622871634ef",
   "outputs": [
    {
     "data": {
      "text/plain": [
       "array(['Tarjeta de memoria SanDisk Ultra SD 16GB C10',\n",
       "       'Tarjeta de memoria SanDisk Ultra SD 32GB C10',\n",
       "       'Tarjeta De Memoria Kingston 64gb Canvas Select Con Adaptador C10',\n",
       "       'Tarjeta de memoria Sd 128gb Clase 10 Patriot V30 / 4K / 90mb/s',\n",
       "       'Tarjeta de memoria Patriot 64gb Clase10 80MB/s',\n",
       "       'Tarjeta De Memoria Kingston 32gb C10 Canvas Select Con Adaptador'],\n",
       "      dtype=object)"
      ]
     },
     "execution_count": 372,
     "metadata": {},
     "output_type": "execute_result"
    }
   ],
   "execution_count": 372
  },
  {
   "metadata": {
    "ExecuteTime": {
     "end_time": "2024-12-27T16:05:05.922743Z",
     "start_time": "2024-12-27T16:05:05.914237Z"
    }
   },
   "cell_type": "code",
   "source": [
    "#agregar en la columna 'Categoria'  la cadena 'Tarjeta de Memoria' en cada fila si los valores  de la columna 'Nombre de Producto' tienen la cadena 'Tarjeta de Memoria' en su nombre\n",
    "df['Categoria'] = np.where(df['Nombre del Producto'].str.contains('tarjeta de memoria', case=False), 'Tarjeta de Memoria', df['Categoria'])"
   ],
   "id": "e830340707bfd3bf",
   "outputs": [],
   "execution_count": 373
  },
  {
   "metadata": {
    "ExecuteTime": {
     "end_time": "2024-12-27T16:05:06.077573Z",
     "start_time": "2024-12-27T16:05:06.068739Z"
    }
   },
   "cell_type": "code",
   "source": [
    "#ver valores con la cadena 'microfono' en la columna nombre del producto\n",
    "df[df['Nombre del Producto'].str.contains('microfono', case=False)]['Nombre del Producto'].unique()"
   ],
   "id": "b85c7ac3663a9a0b",
   "outputs": [
    {
     "data": {
      "text/plain": [
       "array(['Microfono Respuesto Samsung J1 J2 J5 J7 J110 J7 Pro Prime',\n",
       "       'MICROFONO INALAMBRICO CORBATERO TIPO-C CON CAJITA J11-TC',\n",
       "       'Microfono Corbatero Inalambrico -  Ficha tipo C / K8',\n",
       "       'Camara Web Naxido 1080p W9n Full Hd 30fps Con Tapa y Microfono',\n",
       "       'ESTABILIZADOR KIT CON LUZ Y MICROFONO AY-49U',\n",
       "       'AURICULAR CON MICROFONO IBEK ER-23',\n",
       "       'AURICULAR CON MICROFONO IBEK ER-25',\n",
       "       'Camara Web 1080p USB Con Microfono C007 ',\n",
       "       'MICROFONO GAMER DX-MICX15', 'MICROFONO XMC-01 XTRIKE ME',\n",
       "       'Microfono Performer Dinamico Karaoke Noga Ng-mi120c',\n",
       "       'Microfono Retro Jack 3.5mm DINAX DX-MICRET25',\n",
       "       'AURICULAR CON MICROFONO NAXIDO OH-901 DOBLE FICHA MINI PLUG',\n",
       "       'Auriculares BT Skullcandy Jib True 2 Con Microfono Gris S1JTW-P744',\n",
       "       'Auricular CON Vincha en metal y simil cuero 2000X Cable desmontable y microfono VIR-1222',\n",
       "       'Auriculares KZ-EDC Negro Con Microfono',\n",
       "       'Camara Mini Espia De Seguridad Wifi Hd Con Microfono SEISA IPC-NB10',\n",
       "       'MICROFONO CONDENSER/SEISA  CON TRIPODE SF-666 3.5 PLUG 50Hz',\n",
       "       'MICROFONO DE PIE SF-950  FICHA 3.5mm PC-CELULAR-TABLET',\n",
       "       'MICROFONO HYPERX SOLOCAST USB',\n",
       "       'MICROFONOS INALAMBRICO 2 CANALES VHF + DVR 12-3002',\n",
       "       'Microfono Condenser Profesional DX-MICROPRO DINAX',\n",
       "       'Microfono Corbatero Jack 3.5mm DINAX DX-BULLET35',\n",
       "       'Microfono Corbatero Jack 3.5mm Lavalier Para Celular GL-119',\n",
       "       'Microfono Solapa Inalambrico Para Celular Tablet Pc Lavalier Lightning Iphone K11',\n",
       "       'Parlante Bt Radio iKaraoke box con microfono Inalambrico Recargable - KTS-1687',\n",
       "       'Webcam 720P HD C/Microfono y Tripode Netmak NM-WEB02'],\n",
       "      dtype=object)"
      ]
     },
     "execution_count": 374,
     "metadata": {},
     "output_type": "execute_result"
    }
   ],
   "execution_count": 374
  },
  {
   "metadata": {
    "ExecuteTime": {
     "end_time": "2024-12-27T16:05:06.221849Z",
     "start_time": "2024-12-27T16:05:06.206472Z"
    }
   },
   "cell_type": "code",
   "source": [
    "#agregar en la columna 'Categoria'  la cadena 'Microfono' en cada fila si los valores  de la columna 'Nombre de Producto' tienen la cadena 'Microfono' en su nombre y no tiene las siguientes cadenas: camara, estabilizador, auricular, auriculares, parlante\n",
    "df['Categoria'] = np.where(df['Nombre del Producto'].str.contains('microfono', case=False) & ~df['Nombre del Producto'].str.contains('camara|estabilizador|auricular|auriculares|parlante', case=False), 'Microfono', df['Categoria'])"
   ],
   "id": "4638d46429987588",
   "outputs": [],
   "execution_count": 375
  },
  {
   "metadata": {
    "ExecuteTime": {
     "end_time": "2024-12-27T16:05:06.349697Z",
     "start_time": "2024-12-27T16:05:06.293266Z"
    }
   },
   "cell_type": "code",
   "source": [
    "#ver valores con la cadena 'mochila' en la columna nombre del producto\n",
    "df[df['Nombre del Producto'].str.contains('mochila', case=False)]['Nombre del Producto'].unique()"
   ],
   "id": "90c47ad199a9d5a3",
   "outputs": [
    {
     "data": {
      "text/plain": [
       "array(['MOCHILA PORTA NOTEBOOK PIERRE CARDIN PC-1057 GRIS',\n",
       "       'MOCHILA PORTA NOTEBOOK PIERRE CARDIN PC-1057 NEGRO'], dtype=object)"
      ]
     },
     "execution_count": 376,
     "metadata": {},
     "output_type": "execute_result"
    }
   ],
   "execution_count": 376
  },
  {
   "metadata": {
    "ExecuteTime": {
     "end_time": "2024-12-27T16:05:06.495285Z",
     "start_time": "2024-12-27T16:05:06.453872Z"
    }
   },
   "cell_type": "code",
   "source": [
    "#agregar en la columna 'Categoria'  la cadena 'Mochila' en cada fila si los valores  de la columna 'Nombre de Producto' tienen la cadena 'Mochila' en su nombre\n",
    "df['Categoria'] = np.where(df['Nombre del Producto'].str.contains('mochila', case=False), 'Mochila', df['Categoria'])"
   ],
   "id": "34ff0615afcb8b66",
   "outputs": [],
   "execution_count": 377
  },
  {
   "metadata": {
    "ExecuteTime": {
     "end_time": "2024-12-27T16:05:06.699746Z",
     "start_time": "2024-12-27T16:05:06.570828Z"
    }
   },
   "cell_type": "code",
   "source": [
    "#ver valores con la cadena monitor en la columna nombre del producto\n",
    "df[df['Nombre del Producto'].str.contains('monitor', case=False)]['Nombre del Producto'].unique()"
   ],
   "id": "536ccbd5507ca50e",
   "outputs": [
    {
     "data": {
      "text/plain": [
       "array(['CABLE POWER ALIMENTACION PC / MONITOR 220V XC-P1801',\n",
       "       'Base Para Monitor Gamer Eleva Soporte Celular Usb Luces Noga NG-ZA5',\n",
       "       'Espuma De Limpieza Delta Compitt Foam Seco Pc Monitor 370g'],\n",
       "      dtype=object)"
      ]
     },
     "execution_count": 378,
     "metadata": {},
     "output_type": "execute_result"
    }
   ],
   "execution_count": 378
  },
  {
   "metadata": {
    "ExecuteTime": {
     "end_time": "2024-12-27T16:05:06.963909Z",
     "start_time": "2024-12-27T16:05:06.929766Z"
    }
   },
   "cell_type": "code",
   "source": [
    "#agregar en la columna 'Categoria'  la cadena 'Monitor' en cada fila si los valores  de la columna 'Nombre de Producto' tienen la cadena 'Monitor' en su nombre y no tienen las siguientes cadenas: cable, base, espuma\n",
    "df['Categoria'] = np.where(df['Nombre del Producto'].str.contains('monitor', case=False) & ~df['Nombre del Producto'].str.contains('cable|base|espuma', case=False), 'Monitor', df['Categoria'])"
   ],
   "id": "a36f82ba84fb346d",
   "outputs": [],
   "execution_count": 379
  },
  {
   "metadata": {
    "ExecuteTime": {
     "end_time": "2024-12-27T16:05:07.114793Z",
     "start_time": "2024-12-27T16:05:07.027493Z"
    }
   },
   "cell_type": "code",
   "source": "df",
   "id": "c3fd688834c3b2de",
   "outputs": [
    {
     "data": {
      "text/plain": [
       "       Código                                Nombre del Producto  Cantidad  \\\n",
       "0     R124132  VIDRIO GLASS SAMSUNG  A02S / A03 / A03 CORE / ...      90.0   \n",
       "1      PI3017                       Pilas Boton 3 V Philco 2032       70.0   \n",
       "2       D1014  CABLE USB ONLY MOD48 / V8 / 3,1A BLANCO Y NEGR...      55.0   \n",
       "3          C6  Pin Carga Sam J7 pro / J7 prime / J5 prime / J...      54.0   \n",
       "4       SE966            SERVICIO TECNICO REVISION Y PRESUPUESTO      54.0   \n",
       "...       ...                                                ...       ...   \n",
       "1550  RC76393  BATERIA SAM A14 / A52 / S20 FE / A52S 100% Ori...      -1.0   \n",
       "1551   PE8818  Pendrive Kingston DataTraveler SE9 DTSE9H 32GB...      -2.0   \n",
       "1552      NaN                                                nan       NaN   \n",
       "1553      NaN                                                nan       NaN   \n",
       "1554      NaN                                                nan    6294.0   \n",
       "\n",
       "      Costo total      Ganancia  Ganancia prom. %   Venta total  \\\n",
       "0          120.80  3.569538e+05      2.955130e+05  3.571000e+05   \n",
       "1           32.20  7.391105e+04      2.295580e+05  7.395001e+04   \n",
       "2           35.29  1.551573e+05      4.396850e+05  1.552000e+05   \n",
       "3            1.17  1.382985e+05      1.214090e+12  1.420500e+05   \n",
       "4           12.42  6.536850e+05      5.263190e+11  6.537000e+05   \n",
       "...           ...           ...               ...           ...   \n",
       "1550        -8.16 -2.699012e+04               NaN -2.700000e+04   \n",
       "1551       -10.05 -1.598784e+04               NaN -1.600000e+04   \n",
       "1552          NaN           NaN               NaN           NaN   \n",
       "1553          NaN           NaN               NaN           NaN   \n",
       "1554    166296.86  1.294925e+08               NaN  1.308388e+08   \n",
       "\n",
       "                                              Categoria  \n",
       "0                                          Vidrio Glass  \n",
       "1                                                  Pila  \n",
       "2                                                 Cable  \n",
       "3                                             Pin Carga  \n",
       "4                                      Servicio Tecnico  \n",
       "...                                                 ...  \n",
       "1550                                            Bateria  \n",
       "1551  Pendrive Kingston DataTraveler SE9 DTSE9H 32GB...  \n",
       "1552                                                nan  \n",
       "1553                                                nan  \n",
       "1554                                                nan  \n",
       "\n",
       "[1555 rows x 8 columns]"
      ],
      "text/html": [
       "<div>\n",
       "<style scoped>\n",
       "    .dataframe tbody tr th:only-of-type {\n",
       "        vertical-align: middle;\n",
       "    }\n",
       "\n",
       "    .dataframe tbody tr th {\n",
       "        vertical-align: top;\n",
       "    }\n",
       "\n",
       "    .dataframe thead th {\n",
       "        text-align: right;\n",
       "    }\n",
       "</style>\n",
       "<table border=\"1\" class=\"dataframe\">\n",
       "  <thead>\n",
       "    <tr style=\"text-align: right;\">\n",
       "      <th></th>\n",
       "      <th>Código</th>\n",
       "      <th>Nombre del Producto</th>\n",
       "      <th>Cantidad</th>\n",
       "      <th>Costo total</th>\n",
       "      <th>Ganancia</th>\n",
       "      <th>Ganancia prom. %</th>\n",
       "      <th>Venta total</th>\n",
       "      <th>Categoria</th>\n",
       "    </tr>\n",
       "  </thead>\n",
       "  <tbody>\n",
       "    <tr>\n",
       "      <th>0</th>\n",
       "      <td>R124132</td>\n",
       "      <td>VIDRIO GLASS SAMSUNG  A02S / A03 / A03 CORE / ...</td>\n",
       "      <td>90.0</td>\n",
       "      <td>120.80</td>\n",
       "      <td>3.569538e+05</td>\n",
       "      <td>2.955130e+05</td>\n",
       "      <td>3.571000e+05</td>\n",
       "      <td>Vidrio Glass</td>\n",
       "    </tr>\n",
       "    <tr>\n",
       "      <th>1</th>\n",
       "      <td>PI3017</td>\n",
       "      <td>Pilas Boton 3 V Philco 2032</td>\n",
       "      <td>70.0</td>\n",
       "      <td>32.20</td>\n",
       "      <td>7.391105e+04</td>\n",
       "      <td>2.295580e+05</td>\n",
       "      <td>7.395001e+04</td>\n",
       "      <td>Pila</td>\n",
       "    </tr>\n",
       "    <tr>\n",
       "      <th>2</th>\n",
       "      <td>D1014</td>\n",
       "      <td>CABLE USB ONLY MOD48 / V8 / 3,1A BLANCO Y NEGR...</td>\n",
       "      <td>55.0</td>\n",
       "      <td>35.29</td>\n",
       "      <td>1.551573e+05</td>\n",
       "      <td>4.396850e+05</td>\n",
       "      <td>1.552000e+05</td>\n",
       "      <td>Cable</td>\n",
       "    </tr>\n",
       "    <tr>\n",
       "      <th>3</th>\n",
       "      <td>C6</td>\n",
       "      <td>Pin Carga Sam J7 pro / J7 prime / J5 prime / J...</td>\n",
       "      <td>54.0</td>\n",
       "      <td>1.17</td>\n",
       "      <td>1.382985e+05</td>\n",
       "      <td>1.214090e+12</td>\n",
       "      <td>1.420500e+05</td>\n",
       "      <td>Pin Carga</td>\n",
       "    </tr>\n",
       "    <tr>\n",
       "      <th>4</th>\n",
       "      <td>SE966</td>\n",
       "      <td>SERVICIO TECNICO REVISION Y PRESUPUESTO</td>\n",
       "      <td>54.0</td>\n",
       "      <td>12.42</td>\n",
       "      <td>6.536850e+05</td>\n",
       "      <td>5.263190e+11</td>\n",
       "      <td>6.537000e+05</td>\n",
       "      <td>Servicio Tecnico</td>\n",
       "    </tr>\n",
       "    <tr>\n",
       "      <th>...</th>\n",
       "      <td>...</td>\n",
       "      <td>...</td>\n",
       "      <td>...</td>\n",
       "      <td>...</td>\n",
       "      <td>...</td>\n",
       "      <td>...</td>\n",
       "      <td>...</td>\n",
       "      <td>...</td>\n",
       "    </tr>\n",
       "    <tr>\n",
       "      <th>1550</th>\n",
       "      <td>RC76393</td>\n",
       "      <td>BATERIA SAM A14 / A52 / S20 FE / A52S 100% Ori...</td>\n",
       "      <td>-1.0</td>\n",
       "      <td>-8.16</td>\n",
       "      <td>-2.699012e+04</td>\n",
       "      <td>NaN</td>\n",
       "      <td>-2.700000e+04</td>\n",
       "      <td>Bateria</td>\n",
       "    </tr>\n",
       "    <tr>\n",
       "      <th>1551</th>\n",
       "      <td>PE8818</td>\n",
       "      <td>Pendrive Kingston DataTraveler SE9 DTSE9H 32GB...</td>\n",
       "      <td>-2.0</td>\n",
       "      <td>-10.05</td>\n",
       "      <td>-1.598784e+04</td>\n",
       "      <td>NaN</td>\n",
       "      <td>-1.600000e+04</td>\n",
       "      <td>Pendrive Kingston DataTraveler SE9 DTSE9H 32GB...</td>\n",
       "    </tr>\n",
       "    <tr>\n",
       "      <th>1552</th>\n",
       "      <td>NaN</td>\n",
       "      <td>nan</td>\n",
       "      <td>NaN</td>\n",
       "      <td>NaN</td>\n",
       "      <td>NaN</td>\n",
       "      <td>NaN</td>\n",
       "      <td>NaN</td>\n",
       "      <td>nan</td>\n",
       "    </tr>\n",
       "    <tr>\n",
       "      <th>1553</th>\n",
       "      <td>NaN</td>\n",
       "      <td>nan</td>\n",
       "      <td>NaN</td>\n",
       "      <td>NaN</td>\n",
       "      <td>NaN</td>\n",
       "      <td>NaN</td>\n",
       "      <td>NaN</td>\n",
       "      <td>nan</td>\n",
       "    </tr>\n",
       "    <tr>\n",
       "      <th>1554</th>\n",
       "      <td>NaN</td>\n",
       "      <td>nan</td>\n",
       "      <td>6294.0</td>\n",
       "      <td>166296.86</td>\n",
       "      <td>1.294925e+08</td>\n",
       "      <td>NaN</td>\n",
       "      <td>1.308388e+08</td>\n",
       "      <td>nan</td>\n",
       "    </tr>\n",
       "  </tbody>\n",
       "</table>\n",
       "<p>1555 rows × 8 columns</p>\n",
       "</div>"
      ]
     },
     "execution_count": 380,
     "metadata": {},
     "output_type": "execute_result"
    }
   ],
   "execution_count": 380
  },
  {
   "metadata": {
    "ExecuteTime": {
     "end_time": "2024-12-27T16:05:07.247403Z",
     "start_time": "2024-12-27T16:05:07.214801Z"
    }
   },
   "cell_type": "code",
   "source": [
    "#ver valores con la cadena monopatin en la columna nombre del producto\n",
    "df[df['Nombre del Producto'].str.contains('monopatin', case=False)]['Nombre del Producto'].unique()"
   ],
   "id": "60fb72bd9df3df91",
   "outputs": [
    {
     "data": {
      "text/plain": [
       "array([], dtype=object)"
      ]
     },
     "execution_count": 381,
     "metadata": {},
     "output_type": "execute_result"
    }
   ],
   "execution_count": 381
  },
  {
   "metadata": {
    "ExecuteTime": {
     "end_time": "2024-12-27T16:05:07.424416Z",
     "start_time": "2024-12-27T16:05:07.415625Z"
    }
   },
   "cell_type": "code",
   "source": [
    "#agregar en la columna 'Categoria'  la cadena 'Movilidad' en cada fila si los valores  de la columna 'Nombre de Producto' tienen la cadena 'Monopatin' en su nombre\n",
    "df['Categoria'] = np.where(df['Nombre del Producto'].str.contains('monopatin', case=False), 'Movilidad', df['Categoria'])"
   ],
   "id": "4dd2c5e9f73aa7f9",
   "outputs": [],
   "execution_count": 382
  },
  {
   "metadata": {
    "ExecuteTime": {
     "end_time": "2024-12-27T16:05:07.914798Z",
     "start_time": "2024-12-27T16:05:07.902006Z"
    }
   },
   "cell_type": "code",
   "source": [
    "#ver valores con la cadena base cooler, soporte de mesa, notebook en la columna nombre del producto\n",
    "df[df['Nombre del Producto'].str.contains('base cooler|soporte de mesa|notebook', case=False)]['Nombre del Producto'].unique()"
   ],
   "id": "8b69bad986a4e968",
   "outputs": [
    {
     "data": {
      "text/plain": [
       "array(['Cargador De Notebook Universal Only 8 PINES 112403001',\n",
       "       'Cargador Universal De Notebook 12 Adaptadores 12-24V Malibu MY 120W',\n",
       "       'CARGADOR DE NOTEBOOK UNIVERSAL AUTOMATICO 90W ONLY 8 PINES 116300495',\n",
       "       'Mouse  Business Office Seisa DN-N602 Retractil / Notebook',\n",
       "       'FUNDA PORTA NOTEBOOK 13 PULGADAS CON BOLSILLO / GRIS / DEHUKA',\n",
       "       'FUNDA PORTA NOTEBOOK 15.6 AZUL CDTEK',\n",
       "       'FUNDA PORTA NOTEBOOK PIERRE CARDIN PC-3011MED',\n",
       "       'Soporte Notebook Hasta 17\" NM-HC75',\n",
       "       'Cable Power Trebol 220V 1.5Mtrs (notebook) Netmak NM-C46',\n",
       "       'FUNDA PORTA NOTEBOOK 13 PULGADAS CON BOLSILLO / NEGRA / DEHUKA',\n",
       "       'FUNDA PORTA NOTEBOOK PIERRE CARDIN PC-3010MED',\n",
       "       'MALETIN PORTA NOTEBOOK 14/15,6\" LENOVO T210 GRIS',\n",
       "       'SOPORTE BASE ALUMINIO PARA NOTEBOOK ZX-447',\n",
       "       'SOPORTE DE MESA PLEGABLE / NOTEBOOK 13 / TABLET / BLANCO - SA23 GM-5427BL',\n",
       "       'Base Cooler Pad Para Notebook A9 14/15/17 Pulgadas + Usb ',\n",
       "       'Base Doble Cooler Para Notebook Luz Led + 2 USB 668',\n",
       "       'Base Doble Cooler Para Notebook Luz Led + 2 USB B-9',\n",
       "       'CARGADOR UNIVERSAL SEISA PARA NOTEBOOK AUTOMATICO 40W DN-A400',\n",
       "       'Cargador Lenovo Para Notebook / Laptop 20v 3.25a Pin 4.0*1.7MM',\n",
       "       'Disco Rigido Notebook 1TB Toshiba L200 SATA II 3.0 Gb/s 7mm 5400 rpm HD123',\n",
       "       'FUNDA PORTA NOTEBOOK 15,6 PULGADAS CON BOLSILLO / NEGRA / DEHUKA',\n",
       "       'MOCHILA PORTA NOTEBOOK PIERRE CARDIN PC-1057 GRIS',\n",
       "       'MOCHILA PORTA NOTEBOOK PIERRE CARDIN PC-1057 NEGRO',\n",
       "       'Notebook Asus Intel i3 X413J 14 Pulgadas / Ram 4Gb / Disco Ssd 128S / Win 10',\n",
       "       'Notebook HP Intel i3 1005G1 / 14 Pulgadas / 8GB RAM / 240GB SSD DISCO'],\n",
       "      dtype=object)"
      ]
     },
     "execution_count": 383,
     "metadata": {},
     "output_type": "execute_result"
    }
   ],
   "execution_count": 383
  },
  {
   "metadata": {
    "ExecuteTime": {
     "end_time": "2024-12-27T16:05:08.076832Z",
     "start_time": "2024-12-27T16:05:08.063125Z"
    }
   },
   "cell_type": "code",
   "source": [
    "#agregar en la columna 'Categoria'  la cadena 'Accesorio notebook' en cada fila si los valores  de la columna 'Nombre de Producto' tienen la cadena 'Base Cooler' o 'Soporte de Mesa', 'maletin', 'disco rigido' y 'Notebook' en su nombre y  al tener la palabra notebook es necesario comprobar que la primera cadena del valor no sea la cadena notebook\n",
    "df['Categoria'] = np.where(df['Nombre del Producto'].str.contains('Base Cooler|soporte de mesa|notebook|maletin|Disco Rigido', case=False) & ~df['Nombre del Producto'].str.contains('notebook', case=False), 'Accesorio notebook', df['Categoria'])"
   ],
   "id": "42d43dff456b396d",
   "outputs": [],
   "execution_count": 384
  },
  {
   "metadata": {
    "ExecuteTime": {
     "end_time": "2024-12-27T16:05:08.237407Z",
     "start_time": "2024-12-27T16:05:08.167190Z"
    }
   },
   "cell_type": "code",
   "source": [
    "#ver filas con los  valores con la cadena 'notebook' en la columna nombre del producto\n",
    "df[df['Nombre del Producto'].str.contains('notebook', case=False)]"
   ],
   "id": "430dd7ee600db292",
   "outputs": [
    {
     "data": {
      "text/plain": [
       "       Código                                Nombre del Producto  Cantidad  \\\n",
       "28      C7149  Cargador De Notebook Universal Only 8 PINES 11...      28.0   \n",
       "47    CA71111  Cargador Universal De Notebook 12 Adaptadores ...      22.0   \n",
       "303   CA71105  CARGADOR DE NOTEBOOK UNIVERSAL AUTOMATICO 90W ...       5.0   \n",
       "330     P6310  Mouse  Business Office Seisa DN-N602 Retractil...       5.0   \n",
       "510    FU7535  FUNDA PORTA NOTEBOOK 13 PULGADAS CON BOLSILLO ...       3.0   \n",
       "511     F6812               FUNDA PORTA NOTEBOOK 15.6 AZUL CDTEK       3.0   \n",
       "512    FU7532      FUNDA PORTA NOTEBOOK PIERRE CARDIN PC-3011MED       3.0   \n",
       "594   NO11914                 Soporte Notebook Hasta 17\" NM-HC75       3.0   \n",
       "692    CA7964  Cable Power Trebol 220V 1.5Mtrs (notebook) Net...       2.0   \n",
       "727    FU7534  FUNDA PORTA NOTEBOOK 13 PULGADAS CON BOLSILLO ...       2.0   \n",
       "728    FU7526      FUNDA PORTA NOTEBOOK PIERRE CARDIN PC-3010MED       2.0   \n",
       "754    FU7533   MALETIN PORTA NOTEBOOK 14/15,6\" LENOVO T210 GRIS       2.0   \n",
       "856    SO5565         SOPORTE BASE ALUMINIO PARA NOTEBOOK ZX-447       2.0   \n",
       "857    SO5555  SOPORTE DE MESA PLEGABLE / NOTEBOOK 13 / TABLE...       2.0   \n",
       "1024  NO12618  Base Cooler Pad Para Notebook A9 14/15/17 Pulg...       1.0   \n",
       "1025   NO1199  Base Doble Cooler Para Notebook Luz Led + 2 US...       1.0   \n",
       "1026  NO11910  Base Doble Cooler Para Notebook Luz Led + 2 US...       1.0   \n",
       "1063   CA6168  CARGADOR UNIVERSAL SEISA PARA NOTEBOOK AUTOMAT...       1.0   \n",
       "1090  NO11911  Cargador Lenovo Para Notebook / Laptop 20v 3.2...       1.0   \n",
       "1111   DI1231  Disco Rigido Notebook 1TB Toshiba L200 SATA II...       1.0   \n",
       "1150   FU7536  FUNDA PORTA NOTEBOOK 15,6 PULGADAS CON BOLSILL...       1.0   \n",
       "1235   FU7530  MOCHILA PORTA NOTEBOOK PIERRE CARDIN PC-1057 GRIS       1.0   \n",
       "1236   FU7531  MOCHILA PORTA NOTEBOOK PIERRE CARDIN PC-1057 N...       1.0   \n",
       "1321   NO1284  Notebook Asus Intel i3 X413J 14 Pulgadas / Ram...       1.0   \n",
       "1322  NO12821  Notebook HP Intel i3 1005G1 / 14 Pulgadas / 8G...       1.0   \n",
       "\n",
       "      Costo total       Ganancia  Ganancia prom. %  Venta total  \\\n",
       "28         184.80  413576.392000      2.238180e+05  413800.0000   \n",
       "47         150.48  339817.822574      2.273390e+05  342249.9994   \n",
       "303         63.73  130922.886700      2.164390e+05  138000.0000   \n",
       "330          9.75   32989.242396      3.383620e+05   33000.0000   \n",
       "510         25.50   53469.145000      2.097040e+05   53500.0000   \n",
       "511          3.09   37496.270548      1.286310e+11   39750.0000   \n",
       "512         48.00   85841.920000      1.788580e+05   85900.0000   \n",
       "594         23.61   44971.431900      1.904970e+05   45000.0000   \n",
       "692          5.22    9993.694463      1.914710e+05   10000.0000   \n",
       "727         17.00   34479.430000      2.028410e+05   34500.0000   \n",
       "728         32.00   53961.280000      1.686500e+05   54000.0000   \n",
       "754         45.40   81445.066000      1.794150e+05   81500.0000   \n",
       "856         12.72   25984.608800      2.043030e+05   26000.0000   \n",
       "857          6.78   13991.796200      2.063900e+05   14000.0000   \n",
       "1024         7.80   14990.562000      1.922080e+05   15000.0000   \n",
       "1025         9.65   18488.323362      1.916100e+05   18500.0000   \n",
       "1026        11.17   21486.484880      1.923800e+05   21500.0000   \n",
       "1063         9.50   18988.505000      1.999000e+05   19000.0000   \n",
       "1090         9.47   23988.541300      2.533320e+05   24000.0000   \n",
       "1111        45.21   88850.047945      1.965380e+05   88900.0000   \n",
       "1150         9.00   17989.110000      1.999000e+05   18000.0000   \n",
       "1235        11.42   32986.181800      2.888670e+05   33000.0000   \n",
       "1236        11.42   34486.181800      3.020020e+05   34500.0000   \n",
       "1321       344.00  499619.880000      1.452490e+05  500000.0000   \n",
       "1322       417.52  717538.637272      1.718680e+05  718000.0000   \n",
       "\n",
       "                                              Categoria  \n",
       "28                                             Cargador  \n",
       "47                                            Adaptador  \n",
       "303                                            Cargador  \n",
       "330                                               Mouse  \n",
       "510                                  Accesorio notebook  \n",
       "511                                  Accesorio notebook  \n",
       "512                                  Accesorio notebook  \n",
       "594                                             Soporte  \n",
       "692                                               Cable  \n",
       "727                                  Accesorio notebook  \n",
       "728                                  Accesorio notebook  \n",
       "754    MALETIN PORTA NOTEBOOK 14/15,6\" LENOVO T210 GRIS  \n",
       "856                                             Soporte  \n",
       "857                                             Soporte  \n",
       "1024  Base Cooler Pad Para Notebook A9 14/15/17 Pulg...  \n",
       "1025  Base Doble Cooler Para Notebook Luz Led + 2 US...  \n",
       "1026  Base Doble Cooler Para Notebook Luz Led + 2 US...  \n",
       "1063                                           Cargador  \n",
       "1090                                           Cargador  \n",
       "1111  Disco Rigido Notebook 1TB Toshiba L200 SATA II...  \n",
       "1150                                 Accesorio notebook  \n",
       "1235                                            Mochila  \n",
       "1236                                            Mochila  \n",
       "1321  Notebook Asus Intel i3 X413J 14 Pulgadas / Ram...  \n",
       "1322  Notebook HP Intel i3 1005G1 / 14 Pulgadas / 8G...  "
      ],
      "text/html": [
       "<div>\n",
       "<style scoped>\n",
       "    .dataframe tbody tr th:only-of-type {\n",
       "        vertical-align: middle;\n",
       "    }\n",
       "\n",
       "    .dataframe tbody tr th {\n",
       "        vertical-align: top;\n",
       "    }\n",
       "\n",
       "    .dataframe thead th {\n",
       "        text-align: right;\n",
       "    }\n",
       "</style>\n",
       "<table border=\"1\" class=\"dataframe\">\n",
       "  <thead>\n",
       "    <tr style=\"text-align: right;\">\n",
       "      <th></th>\n",
       "      <th>Código</th>\n",
       "      <th>Nombre del Producto</th>\n",
       "      <th>Cantidad</th>\n",
       "      <th>Costo total</th>\n",
       "      <th>Ganancia</th>\n",
       "      <th>Ganancia prom. %</th>\n",
       "      <th>Venta total</th>\n",
       "      <th>Categoria</th>\n",
       "    </tr>\n",
       "  </thead>\n",
       "  <tbody>\n",
       "    <tr>\n",
       "      <th>28</th>\n",
       "      <td>C7149</td>\n",
       "      <td>Cargador De Notebook Universal Only 8 PINES 11...</td>\n",
       "      <td>28.0</td>\n",
       "      <td>184.80</td>\n",
       "      <td>413576.392000</td>\n",
       "      <td>2.238180e+05</td>\n",
       "      <td>413800.0000</td>\n",
       "      <td>Cargador</td>\n",
       "    </tr>\n",
       "    <tr>\n",
       "      <th>47</th>\n",
       "      <td>CA71111</td>\n",
       "      <td>Cargador Universal De Notebook 12 Adaptadores ...</td>\n",
       "      <td>22.0</td>\n",
       "      <td>150.48</td>\n",
       "      <td>339817.822574</td>\n",
       "      <td>2.273390e+05</td>\n",
       "      <td>342249.9994</td>\n",
       "      <td>Adaptador</td>\n",
       "    </tr>\n",
       "    <tr>\n",
       "      <th>303</th>\n",
       "      <td>CA71105</td>\n",
       "      <td>CARGADOR DE NOTEBOOK UNIVERSAL AUTOMATICO 90W ...</td>\n",
       "      <td>5.0</td>\n",
       "      <td>63.73</td>\n",
       "      <td>130922.886700</td>\n",
       "      <td>2.164390e+05</td>\n",
       "      <td>138000.0000</td>\n",
       "      <td>Cargador</td>\n",
       "    </tr>\n",
       "    <tr>\n",
       "      <th>330</th>\n",
       "      <td>P6310</td>\n",
       "      <td>Mouse  Business Office Seisa DN-N602 Retractil...</td>\n",
       "      <td>5.0</td>\n",
       "      <td>9.75</td>\n",
       "      <td>32989.242396</td>\n",
       "      <td>3.383620e+05</td>\n",
       "      <td>33000.0000</td>\n",
       "      <td>Mouse</td>\n",
       "    </tr>\n",
       "    <tr>\n",
       "      <th>510</th>\n",
       "      <td>FU7535</td>\n",
       "      <td>FUNDA PORTA NOTEBOOK 13 PULGADAS CON BOLSILLO ...</td>\n",
       "      <td>3.0</td>\n",
       "      <td>25.50</td>\n",
       "      <td>53469.145000</td>\n",
       "      <td>2.097040e+05</td>\n",
       "      <td>53500.0000</td>\n",
       "      <td>Accesorio notebook</td>\n",
       "    </tr>\n",
       "    <tr>\n",
       "      <th>511</th>\n",
       "      <td>F6812</td>\n",
       "      <td>FUNDA PORTA NOTEBOOK 15.6 AZUL CDTEK</td>\n",
       "      <td>3.0</td>\n",
       "      <td>3.09</td>\n",
       "      <td>37496.270548</td>\n",
       "      <td>1.286310e+11</td>\n",
       "      <td>39750.0000</td>\n",
       "      <td>Accesorio notebook</td>\n",
       "    </tr>\n",
       "    <tr>\n",
       "      <th>512</th>\n",
       "      <td>FU7532</td>\n",
       "      <td>FUNDA PORTA NOTEBOOK PIERRE CARDIN PC-3011MED</td>\n",
       "      <td>3.0</td>\n",
       "      <td>48.00</td>\n",
       "      <td>85841.920000</td>\n",
       "      <td>1.788580e+05</td>\n",
       "      <td>85900.0000</td>\n",
       "      <td>Accesorio notebook</td>\n",
       "    </tr>\n",
       "    <tr>\n",
       "      <th>594</th>\n",
       "      <td>NO11914</td>\n",
       "      <td>Soporte Notebook Hasta 17\" NM-HC75</td>\n",
       "      <td>3.0</td>\n",
       "      <td>23.61</td>\n",
       "      <td>44971.431900</td>\n",
       "      <td>1.904970e+05</td>\n",
       "      <td>45000.0000</td>\n",
       "      <td>Soporte</td>\n",
       "    </tr>\n",
       "    <tr>\n",
       "      <th>692</th>\n",
       "      <td>CA7964</td>\n",
       "      <td>Cable Power Trebol 220V 1.5Mtrs (notebook) Net...</td>\n",
       "      <td>2.0</td>\n",
       "      <td>5.22</td>\n",
       "      <td>9993.694463</td>\n",
       "      <td>1.914710e+05</td>\n",
       "      <td>10000.0000</td>\n",
       "      <td>Cable</td>\n",
       "    </tr>\n",
       "    <tr>\n",
       "      <th>727</th>\n",
       "      <td>FU7534</td>\n",
       "      <td>FUNDA PORTA NOTEBOOK 13 PULGADAS CON BOLSILLO ...</td>\n",
       "      <td>2.0</td>\n",
       "      <td>17.00</td>\n",
       "      <td>34479.430000</td>\n",
       "      <td>2.028410e+05</td>\n",
       "      <td>34500.0000</td>\n",
       "      <td>Accesorio notebook</td>\n",
       "    </tr>\n",
       "    <tr>\n",
       "      <th>728</th>\n",
       "      <td>FU7526</td>\n",
       "      <td>FUNDA PORTA NOTEBOOK PIERRE CARDIN PC-3010MED</td>\n",
       "      <td>2.0</td>\n",
       "      <td>32.00</td>\n",
       "      <td>53961.280000</td>\n",
       "      <td>1.686500e+05</td>\n",
       "      <td>54000.0000</td>\n",
       "      <td>Accesorio notebook</td>\n",
       "    </tr>\n",
       "    <tr>\n",
       "      <th>754</th>\n",
       "      <td>FU7533</td>\n",
       "      <td>MALETIN PORTA NOTEBOOK 14/15,6\" LENOVO T210 GRIS</td>\n",
       "      <td>2.0</td>\n",
       "      <td>45.40</td>\n",
       "      <td>81445.066000</td>\n",
       "      <td>1.794150e+05</td>\n",
       "      <td>81500.0000</td>\n",
       "      <td>MALETIN PORTA NOTEBOOK 14/15,6\" LENOVO T210 GRIS</td>\n",
       "    </tr>\n",
       "    <tr>\n",
       "      <th>856</th>\n",
       "      <td>SO5565</td>\n",
       "      <td>SOPORTE BASE ALUMINIO PARA NOTEBOOK ZX-447</td>\n",
       "      <td>2.0</td>\n",
       "      <td>12.72</td>\n",
       "      <td>25984.608800</td>\n",
       "      <td>2.043030e+05</td>\n",
       "      <td>26000.0000</td>\n",
       "      <td>Soporte</td>\n",
       "    </tr>\n",
       "    <tr>\n",
       "      <th>857</th>\n",
       "      <td>SO5555</td>\n",
       "      <td>SOPORTE DE MESA PLEGABLE / NOTEBOOK 13 / TABLE...</td>\n",
       "      <td>2.0</td>\n",
       "      <td>6.78</td>\n",
       "      <td>13991.796200</td>\n",
       "      <td>2.063900e+05</td>\n",
       "      <td>14000.0000</td>\n",
       "      <td>Soporte</td>\n",
       "    </tr>\n",
       "    <tr>\n",
       "      <th>1024</th>\n",
       "      <td>NO12618</td>\n",
       "      <td>Base Cooler Pad Para Notebook A9 14/15/17 Pulg...</td>\n",
       "      <td>1.0</td>\n",
       "      <td>7.80</td>\n",
       "      <td>14990.562000</td>\n",
       "      <td>1.922080e+05</td>\n",
       "      <td>15000.0000</td>\n",
       "      <td>Base Cooler Pad Para Notebook A9 14/15/17 Pulg...</td>\n",
       "    </tr>\n",
       "    <tr>\n",
       "      <th>1025</th>\n",
       "      <td>NO1199</td>\n",
       "      <td>Base Doble Cooler Para Notebook Luz Led + 2 US...</td>\n",
       "      <td>1.0</td>\n",
       "      <td>9.65</td>\n",
       "      <td>18488.323362</td>\n",
       "      <td>1.916100e+05</td>\n",
       "      <td>18500.0000</td>\n",
       "      <td>Base Doble Cooler Para Notebook Luz Led + 2 US...</td>\n",
       "    </tr>\n",
       "    <tr>\n",
       "      <th>1026</th>\n",
       "      <td>NO11910</td>\n",
       "      <td>Base Doble Cooler Para Notebook Luz Led + 2 US...</td>\n",
       "      <td>1.0</td>\n",
       "      <td>11.17</td>\n",
       "      <td>21486.484880</td>\n",
       "      <td>1.923800e+05</td>\n",
       "      <td>21500.0000</td>\n",
       "      <td>Base Doble Cooler Para Notebook Luz Led + 2 US...</td>\n",
       "    </tr>\n",
       "    <tr>\n",
       "      <th>1063</th>\n",
       "      <td>CA6168</td>\n",
       "      <td>CARGADOR UNIVERSAL SEISA PARA NOTEBOOK AUTOMAT...</td>\n",
       "      <td>1.0</td>\n",
       "      <td>9.50</td>\n",
       "      <td>18988.505000</td>\n",
       "      <td>1.999000e+05</td>\n",
       "      <td>19000.0000</td>\n",
       "      <td>Cargador</td>\n",
       "    </tr>\n",
       "    <tr>\n",
       "      <th>1090</th>\n",
       "      <td>NO11911</td>\n",
       "      <td>Cargador Lenovo Para Notebook / Laptop 20v 3.2...</td>\n",
       "      <td>1.0</td>\n",
       "      <td>9.47</td>\n",
       "      <td>23988.541300</td>\n",
       "      <td>2.533320e+05</td>\n",
       "      <td>24000.0000</td>\n",
       "      <td>Cargador</td>\n",
       "    </tr>\n",
       "    <tr>\n",
       "      <th>1111</th>\n",
       "      <td>DI1231</td>\n",
       "      <td>Disco Rigido Notebook 1TB Toshiba L200 SATA II...</td>\n",
       "      <td>1.0</td>\n",
       "      <td>45.21</td>\n",
       "      <td>88850.047945</td>\n",
       "      <td>1.965380e+05</td>\n",
       "      <td>88900.0000</td>\n",
       "      <td>Disco Rigido Notebook 1TB Toshiba L200 SATA II...</td>\n",
       "    </tr>\n",
       "    <tr>\n",
       "      <th>1150</th>\n",
       "      <td>FU7536</td>\n",
       "      <td>FUNDA PORTA NOTEBOOK 15,6 PULGADAS CON BOLSILL...</td>\n",
       "      <td>1.0</td>\n",
       "      <td>9.00</td>\n",
       "      <td>17989.110000</td>\n",
       "      <td>1.999000e+05</td>\n",
       "      <td>18000.0000</td>\n",
       "      <td>Accesorio notebook</td>\n",
       "    </tr>\n",
       "    <tr>\n",
       "      <th>1235</th>\n",
       "      <td>FU7530</td>\n",
       "      <td>MOCHILA PORTA NOTEBOOK PIERRE CARDIN PC-1057 GRIS</td>\n",
       "      <td>1.0</td>\n",
       "      <td>11.42</td>\n",
       "      <td>32986.181800</td>\n",
       "      <td>2.888670e+05</td>\n",
       "      <td>33000.0000</td>\n",
       "      <td>Mochila</td>\n",
       "    </tr>\n",
       "    <tr>\n",
       "      <th>1236</th>\n",
       "      <td>FU7531</td>\n",
       "      <td>MOCHILA PORTA NOTEBOOK PIERRE CARDIN PC-1057 N...</td>\n",
       "      <td>1.0</td>\n",
       "      <td>11.42</td>\n",
       "      <td>34486.181800</td>\n",
       "      <td>3.020020e+05</td>\n",
       "      <td>34500.0000</td>\n",
       "      <td>Mochila</td>\n",
       "    </tr>\n",
       "    <tr>\n",
       "      <th>1321</th>\n",
       "      <td>NO1284</td>\n",
       "      <td>Notebook Asus Intel i3 X413J 14 Pulgadas / Ram...</td>\n",
       "      <td>1.0</td>\n",
       "      <td>344.00</td>\n",
       "      <td>499619.880000</td>\n",
       "      <td>1.452490e+05</td>\n",
       "      <td>500000.0000</td>\n",
       "      <td>Notebook Asus Intel i3 X413J 14 Pulgadas / Ram...</td>\n",
       "    </tr>\n",
       "    <tr>\n",
       "      <th>1322</th>\n",
       "      <td>NO12821</td>\n",
       "      <td>Notebook HP Intel i3 1005G1 / 14 Pulgadas / 8G...</td>\n",
       "      <td>1.0</td>\n",
       "      <td>417.52</td>\n",
       "      <td>717538.637272</td>\n",
       "      <td>1.718680e+05</td>\n",
       "      <td>718000.0000</td>\n",
       "      <td>Notebook HP Intel i3 1005G1 / 14 Pulgadas / 8G...</td>\n",
       "    </tr>\n",
       "  </tbody>\n",
       "</table>\n",
       "</div>"
      ]
     },
     "execution_count": 385,
     "metadata": {},
     "output_type": "execute_result"
    }
   ],
   "execution_count": 385
  },
  {
   "metadata": {
    "ExecuteTime": {
     "end_time": "2024-12-27T16:05:08.391569Z",
     "start_time": "2024-12-27T16:05:08.350017Z"
    }
   },
   "cell_type": "code",
   "source": [
    "#ver filas donde en nombre de producto tenga si o si la cadena base y notebook estrictamente\n",
    "df[(df['Nombre del Producto'].str.contains('base', case=False)) & (df['Nombre del Producto'].str.contains('notebook', case=False))]"
   ],
   "id": "4bf1f5c467583581",
   "outputs": [
    {
     "data": {
      "text/plain": [
       "       Código                                Nombre del Producto  Cantidad  \\\n",
       "856    SO5565         SOPORTE BASE ALUMINIO PARA NOTEBOOK ZX-447       2.0   \n",
       "1024  NO12618  Base Cooler Pad Para Notebook A9 14/15/17 Pulg...       1.0   \n",
       "1025   NO1199  Base Doble Cooler Para Notebook Luz Led + 2 US...       1.0   \n",
       "1026  NO11910  Base Doble Cooler Para Notebook Luz Led + 2 US...       1.0   \n",
       "\n",
       "      Costo total      Ganancia  Ganancia prom. %  Venta total  \\\n",
       "856         12.72  25984.608800          204303.0      26000.0   \n",
       "1024         7.80  14990.562000          192208.0      15000.0   \n",
       "1025         9.65  18488.323362          191610.0      18500.0   \n",
       "1026        11.17  21486.484880          192380.0      21500.0   \n",
       "\n",
       "                                              Categoria  \n",
       "856                                             Soporte  \n",
       "1024  Base Cooler Pad Para Notebook A9 14/15/17 Pulg...  \n",
       "1025  Base Doble Cooler Para Notebook Luz Led + 2 US...  \n",
       "1026  Base Doble Cooler Para Notebook Luz Led + 2 US...  "
      ],
      "text/html": [
       "<div>\n",
       "<style scoped>\n",
       "    .dataframe tbody tr th:only-of-type {\n",
       "        vertical-align: middle;\n",
       "    }\n",
       "\n",
       "    .dataframe tbody tr th {\n",
       "        vertical-align: top;\n",
       "    }\n",
       "\n",
       "    .dataframe thead th {\n",
       "        text-align: right;\n",
       "    }\n",
       "</style>\n",
       "<table border=\"1\" class=\"dataframe\">\n",
       "  <thead>\n",
       "    <tr style=\"text-align: right;\">\n",
       "      <th></th>\n",
       "      <th>Código</th>\n",
       "      <th>Nombre del Producto</th>\n",
       "      <th>Cantidad</th>\n",
       "      <th>Costo total</th>\n",
       "      <th>Ganancia</th>\n",
       "      <th>Ganancia prom. %</th>\n",
       "      <th>Venta total</th>\n",
       "      <th>Categoria</th>\n",
       "    </tr>\n",
       "  </thead>\n",
       "  <tbody>\n",
       "    <tr>\n",
       "      <th>856</th>\n",
       "      <td>SO5565</td>\n",
       "      <td>SOPORTE BASE ALUMINIO PARA NOTEBOOK ZX-447</td>\n",
       "      <td>2.0</td>\n",
       "      <td>12.72</td>\n",
       "      <td>25984.608800</td>\n",
       "      <td>204303.0</td>\n",
       "      <td>26000.0</td>\n",
       "      <td>Soporte</td>\n",
       "    </tr>\n",
       "    <tr>\n",
       "      <th>1024</th>\n",
       "      <td>NO12618</td>\n",
       "      <td>Base Cooler Pad Para Notebook A9 14/15/17 Pulg...</td>\n",
       "      <td>1.0</td>\n",
       "      <td>7.80</td>\n",
       "      <td>14990.562000</td>\n",
       "      <td>192208.0</td>\n",
       "      <td>15000.0</td>\n",
       "      <td>Base Cooler Pad Para Notebook A9 14/15/17 Pulg...</td>\n",
       "    </tr>\n",
       "    <tr>\n",
       "      <th>1025</th>\n",
       "      <td>NO1199</td>\n",
       "      <td>Base Doble Cooler Para Notebook Luz Led + 2 US...</td>\n",
       "      <td>1.0</td>\n",
       "      <td>9.65</td>\n",
       "      <td>18488.323362</td>\n",
       "      <td>191610.0</td>\n",
       "      <td>18500.0</td>\n",
       "      <td>Base Doble Cooler Para Notebook Luz Led + 2 US...</td>\n",
       "    </tr>\n",
       "    <tr>\n",
       "      <th>1026</th>\n",
       "      <td>NO11910</td>\n",
       "      <td>Base Doble Cooler Para Notebook Luz Led + 2 US...</td>\n",
       "      <td>1.0</td>\n",
       "      <td>11.17</td>\n",
       "      <td>21486.484880</td>\n",
       "      <td>192380.0</td>\n",
       "      <td>21500.0</td>\n",
       "      <td>Base Doble Cooler Para Notebook Luz Led + 2 US...</td>\n",
       "    </tr>\n",
       "  </tbody>\n",
       "</table>\n",
       "</div>"
      ]
     },
     "execution_count": 386,
     "metadata": {},
     "output_type": "execute_result"
    }
   ],
   "execution_count": 386
  },
  {
   "metadata": {
    "ExecuteTime": {
     "end_time": "2024-12-27T16:05:08.565362Z",
     "start_time": "2024-12-27T16:05:08.552369Z"
    }
   },
   "cell_type": "code",
   "source": [
    "#en las filas donde nombre de producto tenga si o si la cadena base y notebook estrictamente, reemplazar por 'Accesorio notebook' en la columna categoria\n",
    "df['Categoria'] = np.where((df['Nombre del Producto'].str.contains('base', case=False)) & (df['Nombre del Producto'].str.contains('notebook', case=False)), 'Accesorio notebook', df['Categoria'])\n"
   ],
   "id": "4e343cfa43661c43",
   "outputs": [],
   "execution_count": 387
  },
  {
   "metadata": {
    "ExecuteTime": {
     "end_time": "2024-12-27T16:05:08.954829Z",
     "start_time": "2024-12-27T16:05:08.934509Z"
    }
   },
   "cell_type": "code",
   "source": [
    "#ver filas donde en nombre de producto tenga si o si la cadena maletin y notebook estrictamente\n",
    "df[(df['Nombre del Producto'].str.contains('maletin', case=False)) & (df['Nombre del Producto'].str.contains('notebook', case=False))]"
   ],
   "id": "6b535b4e6f087df0",
   "outputs": [
    {
     "data": {
      "text/plain": [
       "     Código                               Nombre del Producto  Cantidad  \\\n",
       "754  FU7533  MALETIN PORTA NOTEBOOK 14/15,6\" LENOVO T210 GRIS       2.0   \n",
       "\n",
       "     Costo total   Ganancia  Ganancia prom. %  Venta total  \\\n",
       "754         45.4  81445.066          179415.0      81500.0   \n",
       "\n",
       "                                            Categoria  \n",
       "754  MALETIN PORTA NOTEBOOK 14/15,6\" LENOVO T210 GRIS  "
      ],
      "text/html": [
       "<div>\n",
       "<style scoped>\n",
       "    .dataframe tbody tr th:only-of-type {\n",
       "        vertical-align: middle;\n",
       "    }\n",
       "\n",
       "    .dataframe tbody tr th {\n",
       "        vertical-align: top;\n",
       "    }\n",
       "\n",
       "    .dataframe thead th {\n",
       "        text-align: right;\n",
       "    }\n",
       "</style>\n",
       "<table border=\"1\" class=\"dataframe\">\n",
       "  <thead>\n",
       "    <tr style=\"text-align: right;\">\n",
       "      <th></th>\n",
       "      <th>Código</th>\n",
       "      <th>Nombre del Producto</th>\n",
       "      <th>Cantidad</th>\n",
       "      <th>Costo total</th>\n",
       "      <th>Ganancia</th>\n",
       "      <th>Ganancia prom. %</th>\n",
       "      <th>Venta total</th>\n",
       "      <th>Categoria</th>\n",
       "    </tr>\n",
       "  </thead>\n",
       "  <tbody>\n",
       "    <tr>\n",
       "      <th>754</th>\n",
       "      <td>FU7533</td>\n",
       "      <td>MALETIN PORTA NOTEBOOK 14/15,6\" LENOVO T210 GRIS</td>\n",
       "      <td>2.0</td>\n",
       "      <td>45.4</td>\n",
       "      <td>81445.066</td>\n",
       "      <td>179415.0</td>\n",
       "      <td>81500.0</td>\n",
       "      <td>MALETIN PORTA NOTEBOOK 14/15,6\" LENOVO T210 GRIS</td>\n",
       "    </tr>\n",
       "  </tbody>\n",
       "</table>\n",
       "</div>"
      ]
     },
     "execution_count": 388,
     "metadata": {},
     "output_type": "execute_result"
    }
   ],
   "execution_count": 388
  },
  {
   "metadata": {
    "ExecuteTime": {
     "end_time": "2024-12-27T16:05:09.250718Z",
     "start_time": "2024-12-27T16:05:09.239353Z"
    }
   },
   "cell_type": "code",
   "source": [
    "#en las filas donde nombre de producto tenga si o si la cadena maletin y notebook estrictamente, reemplazar por 'Accesorio notebook' en la columna categoria\n",
    "df['Categoria'] = np.where((df['Nombre del Producto'].str.contains('maletin', case=False)) & (df['Nombre del Producto'].str.contains('notebook', case=False)), 'Accesorio notebook', df['Categoria'])"
   ],
   "id": "d7621fe500b7e7a2",
   "outputs": [],
   "execution_count": 389
  },
  {
   "metadata": {
    "ExecuteTime": {
     "end_time": "2024-12-27T16:05:09.545124Z",
     "start_time": "2024-12-27T16:05:09.524533Z"
    }
   },
   "cell_type": "code",
   "source": [
    " #ver filas donde en nombre de producto tenga si o si la cadena disco rigido y notebook estrictamente\n",
    "df[(df['Nombre del Producto'].str.contains('disco rigido', case=False)) & (df['Nombre del Producto'].str.contains('notebook', case=False))]"
   ],
   "id": "88f74e4c473c6280",
   "outputs": [
    {
     "data": {
      "text/plain": [
       "      Código                                Nombre del Producto  Cantidad  \\\n",
       "1111  DI1231  Disco Rigido Notebook 1TB Toshiba L200 SATA II...       1.0   \n",
       "\n",
       "      Costo total      Ganancia  Ganancia prom. %  Venta total  \\\n",
       "1111        45.21  88850.047945          196538.0      88900.0   \n",
       "\n",
       "                                              Categoria  \n",
       "1111  Disco Rigido Notebook 1TB Toshiba L200 SATA II...  "
      ],
      "text/html": [
       "<div>\n",
       "<style scoped>\n",
       "    .dataframe tbody tr th:only-of-type {\n",
       "        vertical-align: middle;\n",
       "    }\n",
       "\n",
       "    .dataframe tbody tr th {\n",
       "        vertical-align: top;\n",
       "    }\n",
       "\n",
       "    .dataframe thead th {\n",
       "        text-align: right;\n",
       "    }\n",
       "</style>\n",
       "<table border=\"1\" class=\"dataframe\">\n",
       "  <thead>\n",
       "    <tr style=\"text-align: right;\">\n",
       "      <th></th>\n",
       "      <th>Código</th>\n",
       "      <th>Nombre del Producto</th>\n",
       "      <th>Cantidad</th>\n",
       "      <th>Costo total</th>\n",
       "      <th>Ganancia</th>\n",
       "      <th>Ganancia prom. %</th>\n",
       "      <th>Venta total</th>\n",
       "      <th>Categoria</th>\n",
       "    </tr>\n",
       "  </thead>\n",
       "  <tbody>\n",
       "    <tr>\n",
       "      <th>1111</th>\n",
       "      <td>DI1231</td>\n",
       "      <td>Disco Rigido Notebook 1TB Toshiba L200 SATA II...</td>\n",
       "      <td>1.0</td>\n",
       "      <td>45.21</td>\n",
       "      <td>88850.047945</td>\n",
       "      <td>196538.0</td>\n",
       "      <td>88900.0</td>\n",
       "      <td>Disco Rigido Notebook 1TB Toshiba L200 SATA II...</td>\n",
       "    </tr>\n",
       "  </tbody>\n",
       "</table>\n",
       "</div>"
      ]
     },
     "execution_count": 390,
     "metadata": {},
     "output_type": "execute_result"
    }
   ],
   "execution_count": 390
  },
  {
   "metadata": {
    "ExecuteTime": {
     "end_time": "2024-12-27T16:05:10.112123Z",
     "start_time": "2024-12-27T16:05:10.101328Z"
    }
   },
   "cell_type": "code",
   "source": [
    "#en las filas donde nombre de producto tenga si o si la cadena disco rigido y notebook estrictamente, reemplazar por 'Accesorio notebook' en la columna categoria\n",
    "df['Categoria'] = np.where((df['Nombre del Producto'].str.contains('disco rigido', case=False)) & (df['Nombre del Producto'].str.contains('notebook', case=False)), 'Accesorio notebook', df['Categoria'])"
   ],
   "id": "70b0df363a469c06",
   "outputs": [],
   "execution_count": 391
  },
  {
   "metadata": {
    "ExecuteTime": {
     "end_time": "2024-12-27T16:05:10.508463Z",
     "start_time": "2024-12-27T16:05:10.493210Z"
    }
   },
   "cell_type": "code",
   "source": [
    "#ver valores con la cadenas monitor en su nombre\n",
    "df[df['Nombre del Producto'].str.contains('monitor', case=False)]['Nombre del Producto'].unique()"
   ],
   "id": "a33f9e6c514c2eb4",
   "outputs": [
    {
     "data": {
      "text/plain": [
       "array(['CABLE POWER ALIMENTACION PC / MONITOR 220V XC-P1801',\n",
       "       'Base Para Monitor Gamer Eleva Soporte Celular Usb Luces Noga NG-ZA5',\n",
       "       'Espuma De Limpieza Delta Compitt Foam Seco Pc Monitor 370g'],\n",
       "      dtype=object)"
      ]
     },
     "execution_count": 392,
     "metadata": {},
     "output_type": "execute_result"
    }
   ],
   "execution_count": 392
  },
  {
   "metadata": {
    "ExecuteTime": {
     "end_time": "2024-12-27T16:05:11.043035Z",
     "start_time": "2024-12-27T16:05:11.026511Z"
    }
   },
   "cell_type": "code",
   "source": [
    "#agregar en la columna 'Categoria'  la cadena 'Monitor' en cada fila si los valores  de la columna 'Nombre de Producto' tienen la cadena 'Monitor' en su nombre y no tienen las siguientes cadenas: cable, base, espuma\n",
    "df['Categoria'] = np.where(df['Nombre del Producto'].str.contains('monitor', case=False) & ~df['Nombre del Producto'].str.contains('cable|base|espuma', case=False), 'Monitor', df['Categoria'])"
   ],
   "id": "2f7b193614bcab93",
   "outputs": [],
   "execution_count": 393
  },
  {
   "metadata": {
    "ExecuteTime": {
     "end_time": "2024-12-27T16:05:11.219151Z",
     "start_time": "2024-12-27T16:05:11.158918Z"
    }
   },
   "cell_type": "code",
   "source": [
    "#ver valores en nombre de producto donde su primera cadena sea la cadena 'notebook'\n",
    "df[df['Nombre del Producto'].str.lower().str.startswith('notebook', na=False)]\n"
   ],
   "id": "add4b48886f1bd3",
   "outputs": [
    {
     "data": {
      "text/plain": [
       "       Código                                Nombre del Producto  Cantidad  \\\n",
       "1321   NO1284  Notebook Asus Intel i3 X413J 14 Pulgadas / Ram...       1.0   \n",
       "1322  NO12821  Notebook HP Intel i3 1005G1 / 14 Pulgadas / 8G...       1.0   \n",
       "\n",
       "      Costo total       Ganancia  Ganancia prom. %  Venta total  \\\n",
       "1321       344.00  499619.880000          145249.0     500000.0   \n",
       "1322       417.52  717538.637272          171868.0     718000.0   \n",
       "\n",
       "                                              Categoria  \n",
       "1321  Notebook Asus Intel i3 X413J 14 Pulgadas / Ram...  \n",
       "1322  Notebook HP Intel i3 1005G1 / 14 Pulgadas / 8G...  "
      ],
      "text/html": [
       "<div>\n",
       "<style scoped>\n",
       "    .dataframe tbody tr th:only-of-type {\n",
       "        vertical-align: middle;\n",
       "    }\n",
       "\n",
       "    .dataframe tbody tr th {\n",
       "        vertical-align: top;\n",
       "    }\n",
       "\n",
       "    .dataframe thead th {\n",
       "        text-align: right;\n",
       "    }\n",
       "</style>\n",
       "<table border=\"1\" class=\"dataframe\">\n",
       "  <thead>\n",
       "    <tr style=\"text-align: right;\">\n",
       "      <th></th>\n",
       "      <th>Código</th>\n",
       "      <th>Nombre del Producto</th>\n",
       "      <th>Cantidad</th>\n",
       "      <th>Costo total</th>\n",
       "      <th>Ganancia</th>\n",
       "      <th>Ganancia prom. %</th>\n",
       "      <th>Venta total</th>\n",
       "      <th>Categoria</th>\n",
       "    </tr>\n",
       "  </thead>\n",
       "  <tbody>\n",
       "    <tr>\n",
       "      <th>1321</th>\n",
       "      <td>NO1284</td>\n",
       "      <td>Notebook Asus Intel i3 X413J 14 Pulgadas / Ram...</td>\n",
       "      <td>1.0</td>\n",
       "      <td>344.00</td>\n",
       "      <td>499619.880000</td>\n",
       "      <td>145249.0</td>\n",
       "      <td>500000.0</td>\n",
       "      <td>Notebook Asus Intel i3 X413J 14 Pulgadas / Ram...</td>\n",
       "    </tr>\n",
       "    <tr>\n",
       "      <th>1322</th>\n",
       "      <td>NO12821</td>\n",
       "      <td>Notebook HP Intel i3 1005G1 / 14 Pulgadas / 8G...</td>\n",
       "      <td>1.0</td>\n",
       "      <td>417.52</td>\n",
       "      <td>717538.637272</td>\n",
       "      <td>171868.0</td>\n",
       "      <td>718000.0</td>\n",
       "      <td>Notebook HP Intel i3 1005G1 / 14 Pulgadas / 8G...</td>\n",
       "    </tr>\n",
       "  </tbody>\n",
       "</table>\n",
       "</div>"
      ]
     },
     "execution_count": 394,
     "metadata": {},
     "output_type": "execute_result"
    }
   ],
   "execution_count": 394
  },
  {
   "metadata": {
    "ExecuteTime": {
     "end_time": "2024-12-27T16:05:11.935497Z",
     "start_time": "2024-12-27T16:05:11.398454Z"
    }
   },
   "cell_type": "code",
   "source": [
    "#en las filas de nombre de producto donde su primera cadena sea la cadena 'notebook' reemplazar en su columna categoria por 'Notebook'\n",
    "df['Categoria'] = np.where(df['Nombre del Producto'].str.lower().str.startswith('notebook', na=False), 'Notebook', df['Categoria'])"
   ],
   "id": "3e5e1017e33d9c0c",
   "outputs": [],
   "execution_count": 395
  },
  {
   "metadata": {
    "ExecuteTime": {
     "end_time": "2024-12-27T16:05:12.379692Z",
     "start_time": "2024-12-27T16:05:12.102130Z"
    }
   },
   "cell_type": "code",
   "source": "df",
   "id": "6950885c87b408d2",
   "outputs": [
    {
     "data": {
      "text/plain": [
       "       Código                                Nombre del Producto  Cantidad  \\\n",
       "0     R124132  VIDRIO GLASS SAMSUNG  A02S / A03 / A03 CORE / ...      90.0   \n",
       "1      PI3017                       Pilas Boton 3 V Philco 2032       70.0   \n",
       "2       D1014  CABLE USB ONLY MOD48 / V8 / 3,1A BLANCO Y NEGR...      55.0   \n",
       "3          C6  Pin Carga Sam J7 pro / J7 prime / J5 prime / J...      54.0   \n",
       "4       SE966            SERVICIO TECNICO REVISION Y PRESUPUESTO      54.0   \n",
       "...       ...                                                ...       ...   \n",
       "1550  RC76393  BATERIA SAM A14 / A52 / S20 FE / A52S 100% Ori...      -1.0   \n",
       "1551   PE8818  Pendrive Kingston DataTraveler SE9 DTSE9H 32GB...      -2.0   \n",
       "1552      NaN                                                nan       NaN   \n",
       "1553      NaN                                                nan       NaN   \n",
       "1554      NaN                                                nan    6294.0   \n",
       "\n",
       "      Costo total      Ganancia  Ganancia prom. %   Venta total  \\\n",
       "0          120.80  3.569538e+05      2.955130e+05  3.571000e+05   \n",
       "1           32.20  7.391105e+04      2.295580e+05  7.395001e+04   \n",
       "2           35.29  1.551573e+05      4.396850e+05  1.552000e+05   \n",
       "3            1.17  1.382985e+05      1.214090e+12  1.420500e+05   \n",
       "4           12.42  6.536850e+05      5.263190e+11  6.537000e+05   \n",
       "...           ...           ...               ...           ...   \n",
       "1550        -8.16 -2.699012e+04               NaN -2.700000e+04   \n",
       "1551       -10.05 -1.598784e+04               NaN -1.600000e+04   \n",
       "1552          NaN           NaN               NaN           NaN   \n",
       "1553          NaN           NaN               NaN           NaN   \n",
       "1554    166296.86  1.294925e+08               NaN  1.308388e+08   \n",
       "\n",
       "                                              Categoria  \n",
       "0                                          Vidrio Glass  \n",
       "1                                                  Pila  \n",
       "2                                                 Cable  \n",
       "3                                             Pin Carga  \n",
       "4                                      Servicio Tecnico  \n",
       "...                                                 ...  \n",
       "1550                                            Bateria  \n",
       "1551  Pendrive Kingston DataTraveler SE9 DTSE9H 32GB...  \n",
       "1552                                                nan  \n",
       "1553                                                nan  \n",
       "1554                                                nan  \n",
       "\n",
       "[1555 rows x 8 columns]"
      ],
      "text/html": [
       "<div>\n",
       "<style scoped>\n",
       "    .dataframe tbody tr th:only-of-type {\n",
       "        vertical-align: middle;\n",
       "    }\n",
       "\n",
       "    .dataframe tbody tr th {\n",
       "        vertical-align: top;\n",
       "    }\n",
       "\n",
       "    .dataframe thead th {\n",
       "        text-align: right;\n",
       "    }\n",
       "</style>\n",
       "<table border=\"1\" class=\"dataframe\">\n",
       "  <thead>\n",
       "    <tr style=\"text-align: right;\">\n",
       "      <th></th>\n",
       "      <th>Código</th>\n",
       "      <th>Nombre del Producto</th>\n",
       "      <th>Cantidad</th>\n",
       "      <th>Costo total</th>\n",
       "      <th>Ganancia</th>\n",
       "      <th>Ganancia prom. %</th>\n",
       "      <th>Venta total</th>\n",
       "      <th>Categoria</th>\n",
       "    </tr>\n",
       "  </thead>\n",
       "  <tbody>\n",
       "    <tr>\n",
       "      <th>0</th>\n",
       "      <td>R124132</td>\n",
       "      <td>VIDRIO GLASS SAMSUNG  A02S / A03 / A03 CORE / ...</td>\n",
       "      <td>90.0</td>\n",
       "      <td>120.80</td>\n",
       "      <td>3.569538e+05</td>\n",
       "      <td>2.955130e+05</td>\n",
       "      <td>3.571000e+05</td>\n",
       "      <td>Vidrio Glass</td>\n",
       "    </tr>\n",
       "    <tr>\n",
       "      <th>1</th>\n",
       "      <td>PI3017</td>\n",
       "      <td>Pilas Boton 3 V Philco 2032</td>\n",
       "      <td>70.0</td>\n",
       "      <td>32.20</td>\n",
       "      <td>7.391105e+04</td>\n",
       "      <td>2.295580e+05</td>\n",
       "      <td>7.395001e+04</td>\n",
       "      <td>Pila</td>\n",
       "    </tr>\n",
       "    <tr>\n",
       "      <th>2</th>\n",
       "      <td>D1014</td>\n",
       "      <td>CABLE USB ONLY MOD48 / V8 / 3,1A BLANCO Y NEGR...</td>\n",
       "      <td>55.0</td>\n",
       "      <td>35.29</td>\n",
       "      <td>1.551573e+05</td>\n",
       "      <td>4.396850e+05</td>\n",
       "      <td>1.552000e+05</td>\n",
       "      <td>Cable</td>\n",
       "    </tr>\n",
       "    <tr>\n",
       "      <th>3</th>\n",
       "      <td>C6</td>\n",
       "      <td>Pin Carga Sam J7 pro / J7 prime / J5 prime / J...</td>\n",
       "      <td>54.0</td>\n",
       "      <td>1.17</td>\n",
       "      <td>1.382985e+05</td>\n",
       "      <td>1.214090e+12</td>\n",
       "      <td>1.420500e+05</td>\n",
       "      <td>Pin Carga</td>\n",
       "    </tr>\n",
       "    <tr>\n",
       "      <th>4</th>\n",
       "      <td>SE966</td>\n",
       "      <td>SERVICIO TECNICO REVISION Y PRESUPUESTO</td>\n",
       "      <td>54.0</td>\n",
       "      <td>12.42</td>\n",
       "      <td>6.536850e+05</td>\n",
       "      <td>5.263190e+11</td>\n",
       "      <td>6.537000e+05</td>\n",
       "      <td>Servicio Tecnico</td>\n",
       "    </tr>\n",
       "    <tr>\n",
       "      <th>...</th>\n",
       "      <td>...</td>\n",
       "      <td>...</td>\n",
       "      <td>...</td>\n",
       "      <td>...</td>\n",
       "      <td>...</td>\n",
       "      <td>...</td>\n",
       "      <td>...</td>\n",
       "      <td>...</td>\n",
       "    </tr>\n",
       "    <tr>\n",
       "      <th>1550</th>\n",
       "      <td>RC76393</td>\n",
       "      <td>BATERIA SAM A14 / A52 / S20 FE / A52S 100% Ori...</td>\n",
       "      <td>-1.0</td>\n",
       "      <td>-8.16</td>\n",
       "      <td>-2.699012e+04</td>\n",
       "      <td>NaN</td>\n",
       "      <td>-2.700000e+04</td>\n",
       "      <td>Bateria</td>\n",
       "    </tr>\n",
       "    <tr>\n",
       "      <th>1551</th>\n",
       "      <td>PE8818</td>\n",
       "      <td>Pendrive Kingston DataTraveler SE9 DTSE9H 32GB...</td>\n",
       "      <td>-2.0</td>\n",
       "      <td>-10.05</td>\n",
       "      <td>-1.598784e+04</td>\n",
       "      <td>NaN</td>\n",
       "      <td>-1.600000e+04</td>\n",
       "      <td>Pendrive Kingston DataTraveler SE9 DTSE9H 32GB...</td>\n",
       "    </tr>\n",
       "    <tr>\n",
       "      <th>1552</th>\n",
       "      <td>NaN</td>\n",
       "      <td>nan</td>\n",
       "      <td>NaN</td>\n",
       "      <td>NaN</td>\n",
       "      <td>NaN</td>\n",
       "      <td>NaN</td>\n",
       "      <td>NaN</td>\n",
       "      <td>nan</td>\n",
       "    </tr>\n",
       "    <tr>\n",
       "      <th>1553</th>\n",
       "      <td>NaN</td>\n",
       "      <td>nan</td>\n",
       "      <td>NaN</td>\n",
       "      <td>NaN</td>\n",
       "      <td>NaN</td>\n",
       "      <td>NaN</td>\n",
       "      <td>NaN</td>\n",
       "      <td>nan</td>\n",
       "    </tr>\n",
       "    <tr>\n",
       "      <th>1554</th>\n",
       "      <td>NaN</td>\n",
       "      <td>nan</td>\n",
       "      <td>6294.0</td>\n",
       "      <td>166296.86</td>\n",
       "      <td>1.294925e+08</td>\n",
       "      <td>NaN</td>\n",
       "      <td>1.308388e+08</td>\n",
       "      <td>nan</td>\n",
       "    </tr>\n",
       "  </tbody>\n",
       "</table>\n",
       "<p>1555 rows × 8 columns</p>\n",
       "</div>"
      ]
     },
     "execution_count": 396,
     "metadata": {},
     "output_type": "execute_result"
    }
   ],
   "execution_count": 396
  },
  {
   "metadata": {
    "ExecuteTime": {
     "end_time": "2024-12-27T16:05:12.601616Z",
     "start_time": "2024-12-27T16:05:12.533639Z"
    }
   },
   "cell_type": "code",
   "source": [
    "#ver valores con la cadena malla en su nombre\n",
    "df[df['Nombre del Producto'].str.contains('malla', case=False)]['Nombre del Producto'].unique()"
   ],
   "id": "884ee61c3e61ece",
   "outputs": [
    {
     "data": {
      "text/plain": [
       "array(['Malla Silicona Para Xiaomi Mi Band 5/ Band 6/ Band 7 NEGRO M5/M6',\n",
       "       'Malla Silicona Para Samsung Fit 2 Negro SM-R220',\n",
       "       'MALLA DESOLDANTE MECHANIC R300 / 2015',\n",
       "       'MALLA DESOLDANTE RELIFE - RL2030',\n",
       "       'MALLA REPUESTO PARA RELOJ 22mm AZUL',\n",
       "       'CABLE AUXILIAR 3.5MM A 3.5MM MALLADO IBEK AU-35 IBEK',\n",
       "       'MALLA NYLON VELCRO LOOP 42/44 MM - 255 MM COLORES',\n",
       "       'MALLA SILICONA DEPORTIVA 20MM NEGRO/ROJO',\n",
       "       'Malla Nylon Para Xiaomi Mi Band 7 Negro',\n",
       "       'Malla Silicona Para Xiaomi Mi Band 5/ Band 6/ Band 7 AZUL M5/M6',\n",
       "       'Malla Deportiva Silicona Para Xiaomi Mi Band 5 / 6 / 7 Negro con Rojo',\n",
       "       'MALLA DESOLDANTE MECHANIC R350 / 1515',\n",
       "       'MALLA DESOLDANTE RELIFE - RL1515',\n",
       "       'Malla Deportiva Silicona Para Xiaomi Mi Band 5 / 6 / 7 Negro con Amarillo',\n",
       "       'Xiaomi Mi Band 8 Pantalla 1.62 Pulgadas Malla Negra',\n",
       "       'CABLE HDMI A VGA 1.5M MALLADO HDTV TO VGA',\n",
       "       'MALLA REPUESTO PARA RELOJ 20mm COLORES',\n",
       "       'MALLA REPUESTO PARA RELOJ MI BAND 5 / BAND 6 COLORES',\n",
       "       'Malla Silicona Para Xiaomi Mi Watch 2 Lite Rojo',\n",
       "       'Cable Hdmi 2.1 Ultra Label 8K-48Gbps Mallado X 2 Metros Lhdmi-2.1-2M',\n",
       "       'Conector USB tipo C Macho a Audio 3.5 Hembra / Mallado 09-057',\n",
       "       'MALLA REPUESTO PARA RELOJ 20mm GRIS',\n",
       "       'MALLA SILICONA 22mm ROSA GM-5270',\n",
       "       'MALLA SILICONA 42/44 MM - 96+119 MM GREEN',\n",
       "       'MALLA SILICONA 42/44 MM GM-5268 AZUL',\n",
       "       'MALLA SILICONA DEPORTIVA 20MM AZUL/CELESTE',\n",
       "       'MALLA SILICONA LOOP 42/44 MM - 123 MM COLORES',\n",
       "       'Malla Nylon Apple Watch 42 44 45 Azul Oscuro',\n",
       "       'Cable Hdmi 2.1 Ultra Label 8K-48Gbps Mallado X 1M Lhdmi-2.1-1M',\n",
       "       'Malla Cuero Imantada Apple Watch 42 44 45 49 Negro'], dtype=object)"
      ]
     },
     "execution_count": 397,
     "metadata": {},
     "output_type": "execute_result"
    }
   ],
   "execution_count": 397
  },
  {
   "metadata": {
    "ExecuteTime": {
     "end_time": "2024-12-27T16:05:12.911422Z",
     "start_time": "2024-12-27T16:05:12.899880Z"
    }
   },
   "cell_type": "code",
   "source": [
    "#agregar en la columna 'Categoria'  la cadena 'Malla' en cada fila si los valores  de la columna 'Nombre de Producto' tienen la cadena 'Malla' en su nombre y no tiene la cadena cable\n",
    "df['Categoria'] = np.where(df['Nombre del Producto'].str.contains('malla', case=False) & ~df['Nombre del Producto'].str.contains('cable', case=False), 'Malla', df['Categoria'])"
   ],
   "id": "9018c80a2fadc5c8",
   "outputs": [],
   "execution_count": 398
  },
  {
   "metadata": {
    "ExecuteTime": {
     "end_time": "2024-12-27T16:05:13.973473Z",
     "start_time": "2024-12-27T16:05:13.510719Z"
    }
   },
   "cell_type": "code",
   "source": [
    "#ver filas con la cadena malla en su nombre\n",
    "df[df['Nombre del Producto'].str.contains('malla', case=False)]"
   ],
   "id": "c2f2c6cb8e60e25b",
   "outputs": [
    {
     "data": {
      "text/plain": [
       "            Código                                Nombre del Producto  \\\n",
       "35          RE7739  Malla Silicona Para Xiaomi Mi Band 5/ Band 6/ ...   \n",
       "108         RE7760    Malla Silicona Para Samsung Fit 2 Negro SM-R220   \n",
       "142        HE18449              MALLA DESOLDANTE MECHANIC R300 / 2015   \n",
       "212        HE18447                   MALLA DESOLDANTE RELIFE - RL2030   \n",
       "213        RE11742                MALLA REPUESTO PARA RELOJ 22mm AZUL   \n",
       "242          AU-35  CABLE AUXILIAR 3.5MM A 3.5MM MALLADO IBEK AU-3...   \n",
       "257        RE15920  MALLA NYLON VELCRO LOOP 42/44 MM - 255 MM COLORES   \n",
       "316        RE11744           MALLA SILICONA DEPORTIVA 20MM NEGRO/ROJO   \n",
       "318         RE1177            Malla Nylon Para Xiaomi Mi Band 7 Negro   \n",
       "319         RE1180  Malla Silicona Para Xiaomi Mi Band 5/ Band 6/ ...   \n",
       "400         RE1174  Malla Deportiva Silicona Para Xiaomi Mi Band 5...   \n",
       "528        HE18450              MALLA DESOLDANTE MECHANIC R350 / 1515   \n",
       "529        HE89206                   MALLA DESOLDANTE RELIFE - RL1515   \n",
       "532         RE1173  Malla Deportiva Silicona Para Xiaomi Mi Band 5...   \n",
       "611         RE9471  Xiaomi Mi Band 8 Pantalla 1.62 Pulgadas Malla ...   \n",
       "678        CA74191          CABLE HDMI A VGA 1.5M MALLADO HDTV TO VGA   \n",
       "755         RE7730             MALLA REPUESTO PARA RELOJ 20mm COLORES   \n",
       "756        REL2013  MALLA REPUESTO PARA RELOJ MI BAND 5 / BAND 6 C...   \n",
       "767         RE7790    Malla Silicona Para Xiaomi Mi Watch 2 Lite Rojo   \n",
       "1076  LHDMI-2.1-2M  Cable Hdmi 2.1 Ultra Label 8K-48Gbps Mallado X...   \n",
       "1099        09-057  Conector USB tipo C Macho a Audio 3.5 Hembra /...   \n",
       "1215       RE11745                MALLA REPUESTO PARA RELOJ 20mm GRIS   \n",
       "1216       RE11741                   MALLA SILICONA 22mm ROSA GM-5270   \n",
       "1217      RE773335          MALLA SILICONA 42/44 MM - 96+119 MM GREEN   \n",
       "1218       RE11740               MALLA SILICONA 42/44 MM GM-5268 AZUL   \n",
       "1219       RE11743         MALLA SILICONA DEPORTIVA 20MM AZUL/CELESTE   \n",
       "1220       RE15921      MALLA SILICONA LOOP 42/44 MM - 123 MM COLORES   \n",
       "1251        RE1175       Malla Nylon Apple Watch 42 44 45 Azul Oscuro   \n",
       "1542  LHDMI-2.1-1M  Cable Hdmi 2.1 Ultra Label 8K-48Gbps Mallado X...   \n",
       "1544        RE1178  Malla Cuero Imantada Apple Watch 42 44 45 49 N...   \n",
       "\n",
       "      Cantidad  Costo total       Ganancia  Ganancia prom. %  Venta total  \\\n",
       "35        26.0        29.65  100064.112781          339529.0  100700.0000   \n",
       "108       11.0        23.43   63371.670668          270493.0   63400.0000   \n",
       "142        9.0        16.92   49979.488014          304274.0   51500.0000   \n",
       "212        7.0        33.88   60758.998800          179357.0   60799.9936   \n",
       "213        7.0        18.20   42177.978000          231768.0   42200.0000   \n",
       "242        6.0         6.78   15591.780822          229988.0   15600.0000   \n",
       "257        6.0        20.34   41075.385616          201965.0   41100.0000   \n",
       "316        5.0        12.55   28784.814500          229382.0   28800.0000   \n",
       "318        5.0         9.90   24988.034675          252425.0   25000.0000   \n",
       "319        5.0         5.70   22493.086701          394637.0   22500.0000   \n",
       "400        4.0         7.64   20390.762009          266916.0   20400.0000   \n",
       "528        3.0         9.24   20688.832363          223926.0   20700.0000   \n",
       "529        3.0         6.51   18392.137072          282542.0   18400.0000   \n",
       "532        3.0         5.73   11993.071507          209324.0   12000.0000   \n",
       "611        3.0       129.90  213656.460500          164488.0  213800.0000   \n",
       "678        2.0         5.00   13793.950000          275900.0   13800.0000   \n",
       "755        2.0         4.40   12294.682078          279445.0   12300.0000   \n",
       "756        2.0         2.88    8496.505365          295039.0    8500.0000   \n",
       "767        2.0         4.26   11494.849212          269853.0   11500.0000   \n",
       "1076       1.0         7.92   12990.416800          188663.0   14950.0000   \n",
       "1099       1.0         1.95    4997.640500          256310.0    5000.0000   \n",
       "1215       1.0         2.60    5796.854000          222977.0    5800.0000   \n",
       "1216       1.0         2.76    6496.657306          235407.0    6500.0000   \n",
       "1217       1.0         2.16    6497.386621          300826.0    6500.0000   \n",
       "1218       1.0         2.76    6496.657306          235407.0    6500.0000   \n",
       "1219       1.0         2.51    5796.962900          230976.0    5800.0000   \n",
       "1220       1.0         2.32    4797.189098          206797.0    4800.0000   \n",
       "1251       1.0         3.19    7496.140708          235010.0    7500.0000   \n",
       "1542       0.0         0.00       0.000000               NaN   -1620.0000   \n",
       "1544       0.0         0.00       0.000000               NaN       0.0000   \n",
       "\n",
       "     Categoria  \n",
       "35       Malla  \n",
       "108      Malla  \n",
       "142      Malla  \n",
       "212      Malla  \n",
       "213      Malla  \n",
       "242      Cable  \n",
       "257      Malla  \n",
       "316      Malla  \n",
       "318      Malla  \n",
       "319      Malla  \n",
       "400      Malla  \n",
       "528      Malla  \n",
       "529      Malla  \n",
       "532      Malla  \n",
       "611      Malla  \n",
       "678      Cable  \n",
       "755      Malla  \n",
       "756      Malla  \n",
       "767      Malla  \n",
       "1076     Cable  \n",
       "1099     Malla  \n",
       "1215     Malla  \n",
       "1216     Malla  \n",
       "1217     Malla  \n",
       "1218     Malla  \n",
       "1219     Malla  \n",
       "1220     Malla  \n",
       "1251     Malla  \n",
       "1542     Cable  \n",
       "1544     Malla  "
      ],
      "text/html": [
       "<div>\n",
       "<style scoped>\n",
       "    .dataframe tbody tr th:only-of-type {\n",
       "        vertical-align: middle;\n",
       "    }\n",
       "\n",
       "    .dataframe tbody tr th {\n",
       "        vertical-align: top;\n",
       "    }\n",
       "\n",
       "    .dataframe thead th {\n",
       "        text-align: right;\n",
       "    }\n",
       "</style>\n",
       "<table border=\"1\" class=\"dataframe\">\n",
       "  <thead>\n",
       "    <tr style=\"text-align: right;\">\n",
       "      <th></th>\n",
       "      <th>Código</th>\n",
       "      <th>Nombre del Producto</th>\n",
       "      <th>Cantidad</th>\n",
       "      <th>Costo total</th>\n",
       "      <th>Ganancia</th>\n",
       "      <th>Ganancia prom. %</th>\n",
       "      <th>Venta total</th>\n",
       "      <th>Categoria</th>\n",
       "    </tr>\n",
       "  </thead>\n",
       "  <tbody>\n",
       "    <tr>\n",
       "      <th>35</th>\n",
       "      <td>RE7739</td>\n",
       "      <td>Malla Silicona Para Xiaomi Mi Band 5/ Band 6/ ...</td>\n",
       "      <td>26.0</td>\n",
       "      <td>29.65</td>\n",
       "      <td>100064.112781</td>\n",
       "      <td>339529.0</td>\n",
       "      <td>100700.0000</td>\n",
       "      <td>Malla</td>\n",
       "    </tr>\n",
       "    <tr>\n",
       "      <th>108</th>\n",
       "      <td>RE7760</td>\n",
       "      <td>Malla Silicona Para Samsung Fit 2 Negro SM-R220</td>\n",
       "      <td>11.0</td>\n",
       "      <td>23.43</td>\n",
       "      <td>63371.670668</td>\n",
       "      <td>270493.0</td>\n",
       "      <td>63400.0000</td>\n",
       "      <td>Malla</td>\n",
       "    </tr>\n",
       "    <tr>\n",
       "      <th>142</th>\n",
       "      <td>HE18449</td>\n",
       "      <td>MALLA DESOLDANTE MECHANIC R300 / 2015</td>\n",
       "      <td>9.0</td>\n",
       "      <td>16.92</td>\n",
       "      <td>49979.488014</td>\n",
       "      <td>304274.0</td>\n",
       "      <td>51500.0000</td>\n",
       "      <td>Malla</td>\n",
       "    </tr>\n",
       "    <tr>\n",
       "      <th>212</th>\n",
       "      <td>HE18447</td>\n",
       "      <td>MALLA DESOLDANTE RELIFE - RL2030</td>\n",
       "      <td>7.0</td>\n",
       "      <td>33.88</td>\n",
       "      <td>60758.998800</td>\n",
       "      <td>179357.0</td>\n",
       "      <td>60799.9936</td>\n",
       "      <td>Malla</td>\n",
       "    </tr>\n",
       "    <tr>\n",
       "      <th>213</th>\n",
       "      <td>RE11742</td>\n",
       "      <td>MALLA REPUESTO PARA RELOJ 22mm AZUL</td>\n",
       "      <td>7.0</td>\n",
       "      <td>18.20</td>\n",
       "      <td>42177.978000</td>\n",
       "      <td>231768.0</td>\n",
       "      <td>42200.0000</td>\n",
       "      <td>Malla</td>\n",
       "    </tr>\n",
       "    <tr>\n",
       "      <th>242</th>\n",
       "      <td>AU-35</td>\n",
       "      <td>CABLE AUXILIAR 3.5MM A 3.5MM MALLADO IBEK AU-3...</td>\n",
       "      <td>6.0</td>\n",
       "      <td>6.78</td>\n",
       "      <td>15591.780822</td>\n",
       "      <td>229988.0</td>\n",
       "      <td>15600.0000</td>\n",
       "      <td>Cable</td>\n",
       "    </tr>\n",
       "    <tr>\n",
       "      <th>257</th>\n",
       "      <td>RE15920</td>\n",
       "      <td>MALLA NYLON VELCRO LOOP 42/44 MM - 255 MM COLORES</td>\n",
       "      <td>6.0</td>\n",
       "      <td>20.34</td>\n",
       "      <td>41075.385616</td>\n",
       "      <td>201965.0</td>\n",
       "      <td>41100.0000</td>\n",
       "      <td>Malla</td>\n",
       "    </tr>\n",
       "    <tr>\n",
       "      <th>316</th>\n",
       "      <td>RE11744</td>\n",
       "      <td>MALLA SILICONA DEPORTIVA 20MM NEGRO/ROJO</td>\n",
       "      <td>5.0</td>\n",
       "      <td>12.55</td>\n",
       "      <td>28784.814500</td>\n",
       "      <td>229382.0</td>\n",
       "      <td>28800.0000</td>\n",
       "      <td>Malla</td>\n",
       "    </tr>\n",
       "    <tr>\n",
       "      <th>318</th>\n",
       "      <td>RE1177</td>\n",
       "      <td>Malla Nylon Para Xiaomi Mi Band 7 Negro</td>\n",
       "      <td>5.0</td>\n",
       "      <td>9.90</td>\n",
       "      <td>24988.034675</td>\n",
       "      <td>252425.0</td>\n",
       "      <td>25000.0000</td>\n",
       "      <td>Malla</td>\n",
       "    </tr>\n",
       "    <tr>\n",
       "      <th>319</th>\n",
       "      <td>RE1180</td>\n",
       "      <td>Malla Silicona Para Xiaomi Mi Band 5/ Band 6/ ...</td>\n",
       "      <td>5.0</td>\n",
       "      <td>5.70</td>\n",
       "      <td>22493.086701</td>\n",
       "      <td>394637.0</td>\n",
       "      <td>22500.0000</td>\n",
       "      <td>Malla</td>\n",
       "    </tr>\n",
       "    <tr>\n",
       "      <th>400</th>\n",
       "      <td>RE1174</td>\n",
       "      <td>Malla Deportiva Silicona Para Xiaomi Mi Band 5...</td>\n",
       "      <td>4.0</td>\n",
       "      <td>7.64</td>\n",
       "      <td>20390.762009</td>\n",
       "      <td>266916.0</td>\n",
       "      <td>20400.0000</td>\n",
       "      <td>Malla</td>\n",
       "    </tr>\n",
       "    <tr>\n",
       "      <th>528</th>\n",
       "      <td>HE18450</td>\n",
       "      <td>MALLA DESOLDANTE MECHANIC R350 / 1515</td>\n",
       "      <td>3.0</td>\n",
       "      <td>9.24</td>\n",
       "      <td>20688.832363</td>\n",
       "      <td>223926.0</td>\n",
       "      <td>20700.0000</td>\n",
       "      <td>Malla</td>\n",
       "    </tr>\n",
       "    <tr>\n",
       "      <th>529</th>\n",
       "      <td>HE89206</td>\n",
       "      <td>MALLA DESOLDANTE RELIFE - RL1515</td>\n",
       "      <td>3.0</td>\n",
       "      <td>6.51</td>\n",
       "      <td>18392.137072</td>\n",
       "      <td>282542.0</td>\n",
       "      <td>18400.0000</td>\n",
       "      <td>Malla</td>\n",
       "    </tr>\n",
       "    <tr>\n",
       "      <th>532</th>\n",
       "      <td>RE1173</td>\n",
       "      <td>Malla Deportiva Silicona Para Xiaomi Mi Band 5...</td>\n",
       "      <td>3.0</td>\n",
       "      <td>5.73</td>\n",
       "      <td>11993.071507</td>\n",
       "      <td>209324.0</td>\n",
       "      <td>12000.0000</td>\n",
       "      <td>Malla</td>\n",
       "    </tr>\n",
       "    <tr>\n",
       "      <th>611</th>\n",
       "      <td>RE9471</td>\n",
       "      <td>Xiaomi Mi Band 8 Pantalla 1.62 Pulgadas Malla ...</td>\n",
       "      <td>3.0</td>\n",
       "      <td>129.90</td>\n",
       "      <td>213656.460500</td>\n",
       "      <td>164488.0</td>\n",
       "      <td>213800.0000</td>\n",
       "      <td>Malla</td>\n",
       "    </tr>\n",
       "    <tr>\n",
       "      <th>678</th>\n",
       "      <td>CA74191</td>\n",
       "      <td>CABLE HDMI A VGA 1.5M MALLADO HDTV TO VGA</td>\n",
       "      <td>2.0</td>\n",
       "      <td>5.00</td>\n",
       "      <td>13793.950000</td>\n",
       "      <td>275900.0</td>\n",
       "      <td>13800.0000</td>\n",
       "      <td>Cable</td>\n",
       "    </tr>\n",
       "    <tr>\n",
       "      <th>755</th>\n",
       "      <td>RE7730</td>\n",
       "      <td>MALLA REPUESTO PARA RELOJ 20mm COLORES</td>\n",
       "      <td>2.0</td>\n",
       "      <td>4.40</td>\n",
       "      <td>12294.682078</td>\n",
       "      <td>279445.0</td>\n",
       "      <td>12300.0000</td>\n",
       "      <td>Malla</td>\n",
       "    </tr>\n",
       "    <tr>\n",
       "      <th>756</th>\n",
       "      <td>REL2013</td>\n",
       "      <td>MALLA REPUESTO PARA RELOJ MI BAND 5 / BAND 6 C...</td>\n",
       "      <td>2.0</td>\n",
       "      <td>2.88</td>\n",
       "      <td>8496.505365</td>\n",
       "      <td>295039.0</td>\n",
       "      <td>8500.0000</td>\n",
       "      <td>Malla</td>\n",
       "    </tr>\n",
       "    <tr>\n",
       "      <th>767</th>\n",
       "      <td>RE7790</td>\n",
       "      <td>Malla Silicona Para Xiaomi Mi Watch 2 Lite Rojo</td>\n",
       "      <td>2.0</td>\n",
       "      <td>4.26</td>\n",
       "      <td>11494.849212</td>\n",
       "      <td>269853.0</td>\n",
       "      <td>11500.0000</td>\n",
       "      <td>Malla</td>\n",
       "    </tr>\n",
       "    <tr>\n",
       "      <th>1076</th>\n",
       "      <td>LHDMI-2.1-2M</td>\n",
       "      <td>Cable Hdmi 2.1 Ultra Label 8K-48Gbps Mallado X...</td>\n",
       "      <td>1.0</td>\n",
       "      <td>7.92</td>\n",
       "      <td>12990.416800</td>\n",
       "      <td>188663.0</td>\n",
       "      <td>14950.0000</td>\n",
       "      <td>Cable</td>\n",
       "    </tr>\n",
       "    <tr>\n",
       "      <th>1099</th>\n",
       "      <td>09-057</td>\n",
       "      <td>Conector USB tipo C Macho a Audio 3.5 Hembra /...</td>\n",
       "      <td>1.0</td>\n",
       "      <td>1.95</td>\n",
       "      <td>4997.640500</td>\n",
       "      <td>256310.0</td>\n",
       "      <td>5000.0000</td>\n",
       "      <td>Malla</td>\n",
       "    </tr>\n",
       "    <tr>\n",
       "      <th>1215</th>\n",
       "      <td>RE11745</td>\n",
       "      <td>MALLA REPUESTO PARA RELOJ 20mm GRIS</td>\n",
       "      <td>1.0</td>\n",
       "      <td>2.60</td>\n",
       "      <td>5796.854000</td>\n",
       "      <td>222977.0</td>\n",
       "      <td>5800.0000</td>\n",
       "      <td>Malla</td>\n",
       "    </tr>\n",
       "    <tr>\n",
       "      <th>1216</th>\n",
       "      <td>RE11741</td>\n",
       "      <td>MALLA SILICONA 22mm ROSA GM-5270</td>\n",
       "      <td>1.0</td>\n",
       "      <td>2.76</td>\n",
       "      <td>6496.657306</td>\n",
       "      <td>235407.0</td>\n",
       "      <td>6500.0000</td>\n",
       "      <td>Malla</td>\n",
       "    </tr>\n",
       "    <tr>\n",
       "      <th>1217</th>\n",
       "      <td>RE773335</td>\n",
       "      <td>MALLA SILICONA 42/44 MM - 96+119 MM GREEN</td>\n",
       "      <td>1.0</td>\n",
       "      <td>2.16</td>\n",
       "      <td>6497.386621</td>\n",
       "      <td>300826.0</td>\n",
       "      <td>6500.0000</td>\n",
       "      <td>Malla</td>\n",
       "    </tr>\n",
       "    <tr>\n",
       "      <th>1218</th>\n",
       "      <td>RE11740</td>\n",
       "      <td>MALLA SILICONA 42/44 MM GM-5268 AZUL</td>\n",
       "      <td>1.0</td>\n",
       "      <td>2.76</td>\n",
       "      <td>6496.657306</td>\n",
       "      <td>235407.0</td>\n",
       "      <td>6500.0000</td>\n",
       "      <td>Malla</td>\n",
       "    </tr>\n",
       "    <tr>\n",
       "      <th>1219</th>\n",
       "      <td>RE11743</td>\n",
       "      <td>MALLA SILICONA DEPORTIVA 20MM AZUL/CELESTE</td>\n",
       "      <td>1.0</td>\n",
       "      <td>2.51</td>\n",
       "      <td>5796.962900</td>\n",
       "      <td>230976.0</td>\n",
       "      <td>5800.0000</td>\n",
       "      <td>Malla</td>\n",
       "    </tr>\n",
       "    <tr>\n",
       "      <th>1220</th>\n",
       "      <td>RE15921</td>\n",
       "      <td>MALLA SILICONA LOOP 42/44 MM - 123 MM COLORES</td>\n",
       "      <td>1.0</td>\n",
       "      <td>2.32</td>\n",
       "      <td>4797.189098</td>\n",
       "      <td>206797.0</td>\n",
       "      <td>4800.0000</td>\n",
       "      <td>Malla</td>\n",
       "    </tr>\n",
       "    <tr>\n",
       "      <th>1251</th>\n",
       "      <td>RE1175</td>\n",
       "      <td>Malla Nylon Apple Watch 42 44 45 Azul Oscuro</td>\n",
       "      <td>1.0</td>\n",
       "      <td>3.19</td>\n",
       "      <td>7496.140708</td>\n",
       "      <td>235010.0</td>\n",
       "      <td>7500.0000</td>\n",
       "      <td>Malla</td>\n",
       "    </tr>\n",
       "    <tr>\n",
       "      <th>1542</th>\n",
       "      <td>LHDMI-2.1-1M</td>\n",
       "      <td>Cable Hdmi 2.1 Ultra Label 8K-48Gbps Mallado X...</td>\n",
       "      <td>0.0</td>\n",
       "      <td>0.00</td>\n",
       "      <td>0.000000</td>\n",
       "      <td>NaN</td>\n",
       "      <td>-1620.0000</td>\n",
       "      <td>Cable</td>\n",
       "    </tr>\n",
       "    <tr>\n",
       "      <th>1544</th>\n",
       "      <td>RE1178</td>\n",
       "      <td>Malla Cuero Imantada Apple Watch 42 44 45 49 N...</td>\n",
       "      <td>0.0</td>\n",
       "      <td>0.00</td>\n",
       "      <td>0.000000</td>\n",
       "      <td>NaN</td>\n",
       "      <td>0.0000</td>\n",
       "      <td>Malla</td>\n",
       "    </tr>\n",
       "  </tbody>\n",
       "</table>\n",
       "</div>"
      ]
     },
     "execution_count": 399,
     "metadata": {},
     "output_type": "execute_result"
    }
   ],
   "execution_count": 399
  },
  {
   "metadata": {
    "ExecuteTime": {
     "end_time": "2024-12-27T16:05:15.091579Z",
     "start_time": "2024-12-27T16:05:14.252435Z"
    }
   },
   "cell_type": "code",
   "source": [
    "#ver valores con la cadena 'mouse pad' en su nombre\n",
    "df[df['Nombre del Producto'].str.contains('mouse pad', case=False)]['Nombre del Producto'].unique()"
   ],
   "id": "2bd43843283b005",
   "outputs": [
    {
     "data": {
      "text/plain": [
       "array(['MOUSE PAD ERGONOMICO CON GEL CDTEK NEGRO',\n",
       "       'Mouse Pad Escritorio Home Office Borde Bordado 20x24 Cm',\n",
       "       'Mouse Pad Gamer NOGA ST-G36 XL 920 x 294 MM',\n",
       "       'MOUSE PAD ERGONOMICO CON GEL CDTEK AZUL',\n",
       "       'Mouse Pad Gamer GLADIUS XXL Netmak 80x30 NM-GLADIUS-2',\n",
       "       'Mouse Pad Gamer Gladius NETMAK NM-GLADIUS 30 X 25 CM',\n",
       "       'Mouse Pad Redragon P006a Kunlun L',\n",
       "       'Mouse Pad Redragon P003 Suzaku U',\n",
       "       'Mouse Pad Redragon P031 Flick L',\n",
       "       'Mouse Pad Redragon P032 Flick XL'], dtype=object)"
      ]
     },
     "execution_count": 400,
     "metadata": {},
     "output_type": "execute_result"
    }
   ],
   "execution_count": 400
  },
  {
   "metadata": {
    "ExecuteTime": {
     "end_time": "2024-12-27T16:05:15.763996Z",
     "start_time": "2024-12-27T16:05:15.144752Z"
    }
   },
   "cell_type": "code",
   "source": [
    "#agregar en la columna 'Categoria'  la cadena 'Mousepad' en cada fila si los valores  de la columna 'Nombre de Producto' tienen la cadena 'Mouse Pad' en su nombre\n",
    "df['Categoria'] = np.where(df['Nombre del Producto'].str.contains('mouse pad', case=False), 'Mousepad', df['Categoria'])"
   ],
   "id": "be39763f13b39c95",
   "outputs": [],
   "execution_count": 401
  },
  {
   "metadata": {
    "ExecuteTime": {
     "end_time": "2024-12-27T16:05:16.661656Z",
     "start_time": "2024-12-27T16:05:16.649754Z"
    }
   },
   "cell_type": "code",
   "source": [
    "#ver valores con la cadena fuente en su nombre\n",
    "df[df['Nombre del Producto'].str.contains('fuente', case=False)]['Nombre del Producto'].unique()"
   ],
   "id": "ca607455641dfdb2",
   "outputs": [
    {
     "data": {
      "text/plain": [
       "array(['Chromecast Google Tv HD 8gb Blanco Con Control / Sin Fuente Ga03131',\n",
       "       'TRANSFORMADOR FUENTE TIRA DE LED CCTV CAMARAS 12V 2A (3157A)',\n",
       "       'FUENTE UNIVERSAL 9V 1,5A DOBLE FICHA  ROUTER / PARLANTES EC9V15A',\n",
       "       'Fuente PC Noga ATX-550 24 Pines P4 550W ATX 550 P4',\n",
       "       'CABLE PULPO PARA FUENTE 741049192867',\n",
       "       'Turbina Cooler Anillo 12 cm con Led Azul conexion a fuente Netmak NM-RING',\n",
       "       'Adaptador De Usb A Sata/ide Con Fuente Y Cables Universal Noga HE2020',\n",
       "       'Cables Cocodrilo Fuente W12 CABMEC003',\n",
       "       'Cooler 8025 Turbina NEGRA 8 cm conector a fuente Netmak NM-8025',\n",
       "       'Cooler Turbina TRANSPARENTE Luz Azul 8cm a fuente Netmak NM-8025T',\n",
       "       'FUENTE AUREOX PARA PC UNLIMITED SERIES 650W REALES / 80 PLUS BRONZE / COLOR NEGRA',\n",
       "       'Fuente 800mA multiple voltaje y conectores Universal Noganet NOGA 79',\n",
       "       'Fuente Alimentacion 12v 10amp Camara De Seguridad / Iluminacion S-120-12',\n",
       "       'Fuente De Poder 3/4.5/6/7.5/9/12 Voltios 6 Puntas Cargador Multiple 30w MULTI-ROLE cm053',\n",
       "       'Fuente Gigabyte P850gm 850w 80 gold Modular',\n",
       "       'Fuente SUNSHINE 1502d - 15v - 2A'], dtype=object)"
      ]
     },
     "execution_count": 402,
     "metadata": {},
     "output_type": "execute_result"
    }
   ],
   "execution_count": 402
  },
  {
   "metadata": {
    "ExecuteTime": {
     "end_time": "2024-12-27T16:05:16.938770Z",
     "start_time": "2024-12-27T16:05:16.924176Z"
    }
   },
   "cell_type": "code",
   "source": [
    "#agregar en la columna 'Categoria'  la cadena 'Fuente' en cada fila si los valores  de la columna 'Nombre de Producto' tienen la cadena 'Fuente' en su nombre y no tiene las siguientes cadenas: cable, cooler, adaptador\n",
    "df['Categoria'] = np.where(df['Nombre del Producto'].str.contains('fuente', case=False) & ~df['Nombre del Producto'].str.contains('cable|cooler|adaptador', case=False), 'Fuente', df['Categoria'])"
   ],
   "id": "df38bf88db1e6ec9",
   "outputs": [],
   "execution_count": 403
  },
  {
   "metadata": {
    "ExecuteTime": {
     "end_time": "2024-12-27T16:05:17.540753Z",
     "start_time": "2024-12-27T16:05:17.044780Z"
    }
   },
   "cell_type": "code",
   "source": [
    "#ver valores con la cadena gabinete en su nombre\n",
    "df[df['Nombre del Producto'].str.contains('gabinete', case=False)]['Nombre del Producto'].unique()"
   ],
   "id": "32f4569ff23d64e0",
   "outputs": [
    {
     "data": {
      "text/plain": [
       "array([], dtype=object)"
      ]
     },
     "execution_count": 404,
     "metadata": {},
     "output_type": "execute_result"
    }
   ],
   "execution_count": 404
  },
  {
   "metadata": {
    "ExecuteTime": {
     "end_time": "2024-12-27T16:05:17.963152Z",
     "start_time": "2024-12-27T16:05:17.595773Z"
    }
   },
   "cell_type": "code",
   "source": [
    "#agregar en la columna 'Categoria'  la cadena 'Gabinete' en cada fila si los valores  de la columna 'Nombre de Producto' tienen la cadena 'Gabinete' en su nombre\n",
    "df['Categoria'] = np.where(df['Nombre del Producto'].str.contains('gabinete', case=False), 'Gabinete', df['Categoria'])"
   ],
   "id": "ce8d0a89fa052427",
   "outputs": [],
   "execution_count": 405
  },
  {
   "metadata": {
    "ExecuteTime": {
     "end_time": "2024-12-27T16:05:18.649967Z",
     "start_time": "2024-12-27T16:05:17.993459Z"
    }
   },
   "cell_type": "code",
   "source": [
    "#ver valores con la cadena cooler en su nombre\n",
    "df[df['Nombre del Producto'].str.contains('cooler', case=False)]['Nombre del Producto'].unique()"
   ],
   "id": "922666f33045612a",
   "outputs": [
    {
     "data": {
      "text/plain": [
       "array(['COOLER NAXIDO RGB 12CM',\n",
       "       'Turbina Cooler Anillo 12 cm con Led Azul conexion a fuente Netmak NM-RING',\n",
       "       'Base Cooler Pad Para Notebook A9 14/15/17 Pulgadas + Usb ',\n",
       "       'Base Doble Cooler Para Notebook Luz Led + 2 USB 668',\n",
       "       'Base Doble Cooler Para Notebook Luz Led + 2 USB B-9',\n",
       "       'Cooler 8025 Turbina NEGRA 8 cm conector a fuente Netmak NM-8025',\n",
       "       'Cooler Turbina TRANSPARENTE Luz Azul 8cm a fuente Netmak NM-8025T',\n",
       "       'Joystick 4 Gatillos Para Celular Con Cooler Seisa H9.0',\n",
       "       'Turbina Cooler 12 cm con 15 Leds Rgb Netmak NM-12RGB SDC'],\n",
       "      dtype=object)"
      ]
     },
     "execution_count": 406,
     "metadata": {},
     "output_type": "execute_result"
    }
   ],
   "execution_count": 406
  },
  {
   "metadata": {
    "ExecuteTime": {
     "end_time": "2024-12-27T16:05:19.051947Z",
     "start_time": "2024-12-27T16:05:18.670876Z"
    }
   },
   "cell_type": "code",
   "source": [
    "#agregar en la columna 'Categoria'  la cadena 'Gabinete' en cada fila si los valores  de la columna 'Nombre de Producto' tienen la cadena 'Cooler' en su nombre y no tiene las siguientes cadenas: base, joystick\n",
    "df['Categoria'] = np.where(df['Nombre del Producto'].str.contains('cooler', case=False) & ~df['Nombre del Producto'].str.contains('base|joystick', case=False), 'Cooler', df['Categoria'])"
   ],
   "id": "7047dc7b6deea826",
   "outputs": [],
   "execution_count": 407
  },
  {
   "metadata": {
    "ExecuteTime": {
     "end_time": "2024-12-27T16:05:19.456942Z",
     "start_time": "2024-12-27T16:05:19.071988Z"
    }
   },
   "cell_type": "code",
   "source": [
    "#ver valores con la cadena fuente\n",
    "df[df['Nombre del Producto'].str.contains('fuente', case=False)]['Nombre del Producto'].unique()"
   ],
   "id": "cb830e95ae7ab10a",
   "outputs": [
    {
     "data": {
      "text/plain": [
       "array(['Chromecast Google Tv HD 8gb Blanco Con Control / Sin Fuente Ga03131',\n",
       "       'TRANSFORMADOR FUENTE TIRA DE LED CCTV CAMARAS 12V 2A (3157A)',\n",
       "       'FUENTE UNIVERSAL 9V 1,5A DOBLE FICHA  ROUTER / PARLANTES EC9V15A',\n",
       "       'Fuente PC Noga ATX-550 24 Pines P4 550W ATX 550 P4',\n",
       "       'CABLE PULPO PARA FUENTE 741049192867',\n",
       "       'Turbina Cooler Anillo 12 cm con Led Azul conexion a fuente Netmak NM-RING',\n",
       "       'Adaptador De Usb A Sata/ide Con Fuente Y Cables Universal Noga HE2020',\n",
       "       'Cables Cocodrilo Fuente W12 CABMEC003',\n",
       "       'Cooler 8025 Turbina NEGRA 8 cm conector a fuente Netmak NM-8025',\n",
       "       'Cooler Turbina TRANSPARENTE Luz Azul 8cm a fuente Netmak NM-8025T',\n",
       "       'FUENTE AUREOX PARA PC UNLIMITED SERIES 650W REALES / 80 PLUS BRONZE / COLOR NEGRA',\n",
       "       'Fuente 800mA multiple voltaje y conectores Universal Noganet NOGA 79',\n",
       "       'Fuente Alimentacion 12v 10amp Camara De Seguridad / Iluminacion S-120-12',\n",
       "       'Fuente De Poder 3/4.5/6/7.5/9/12 Voltios 6 Puntas Cargador Multiple 30w MULTI-ROLE cm053',\n",
       "       'Fuente Gigabyte P850gm 850w 80 gold Modular',\n",
       "       'Fuente SUNSHINE 1502d - 15v - 2A'], dtype=object)"
      ]
     },
     "execution_count": 408,
     "metadata": {},
     "output_type": "execute_result"
    }
   ],
   "execution_count": 408
  },
  {
   "metadata": {
    "ExecuteTime": {
     "end_time": "2024-12-27T16:05:19.840533Z",
     "start_time": "2024-12-27T16:05:19.509250Z"
    }
   },
   "cell_type": "code",
   "source": [
    "#agregar en la columna 'Categoria'  la cadena 'Fuente' en cada fila si los valores  de la columna 'Nombre de Producto' tienen la cadena 'Fuente' en su nombre y no tiene las siguientes cadenas: cable, chromecast, transformador, universal, turbina, adaptador, camara, sunshine\n",
    "df['Categoria'] = np.where(df['Nombre del Producto'].str.contains('fuente', case=False) & ~df['Nombre del Producto'].str.contains('cable|chromecast|transformador|universal|turbina|adaptador|camara|sunshine', case=False), 'Fuente', df['Categoria'])"
   ],
   "id": "e655fb60fc0dae09",
   "outputs": [],
   "execution_count": 409
  },
  {
   "metadata": {
    "ExecuteTime": {
     "end_time": "2024-12-27T16:05:20.111826Z",
     "start_time": "2024-12-27T16:05:19.863885Z"
    }
   },
   "cell_type": "code",
   "source": [
    "#ver valores con la cadena pegamento\n",
    "df[df['Nombre del Producto'].str.contains('pegamento', case=False)]['Nombre del Producto'].unique()"
   ],
   "id": "edcc2388431b0f5e",
   "outputs": [
    {
     "data": {
      "text/plain": [
       "array(['PEGAMENTO PARA PANTALLA CELULAR B7000 110ML TRANSPARENTE MECHANIC',\n",
       "       'MANGO REMOVEDOR PEGAMENTO RELIFE RL101B',\n",
       "       'PEGAMENTO PARA PANTALLA CELULAR T7000 110ML / NEGRO MECHANIC',\n",
       "       'PEGAMENTO T7000 - ZHANLIDA 110ml - Negro',\n",
       "       'RASPADOR REMOVEDOR DE PEGAMENTO - RL-023\\xa0',\n",
       "       'PEGAMENTO ESTRUCTURAL transparente RL-035A PUV glue 10cc\\xa0',\n",
       "       'PEGAMENTO MECHANIC SUPER X PARA LCD NEGRO',\n",
       "       'PEGAMENTO PARA PANTALLA CELULAR T7000 NEGRO MECHANIC 50ml'],\n",
       "      dtype=object)"
      ]
     },
     "execution_count": 410,
     "metadata": {},
     "output_type": "execute_result"
    }
   ],
   "execution_count": 410
  },
  {
   "metadata": {
    "ExecuteTime": {
     "end_time": "2024-12-27T16:05:20.565620Z",
     "start_time": "2024-12-27T16:05:20.185304Z"
    }
   },
   "cell_type": "code",
   "source": [
    "#ver valores con la cadena desoldante\n",
    "df[df['Nombre del Producto'].str.contains('desoldante', case=False)]['Nombre del Producto'].unique()"
   ],
   "id": "7a92dc2eacaebdbf",
   "outputs": [
    {
     "data": {
      "text/plain": [
       "array(['MALLA DESOLDANTE MECHANIC R300 / 2015',\n",
       "       'MALLA DESOLDANTE RELIFE - RL2030',\n",
       "       'MALLA DESOLDANTE MECHANIC R350 / 1515',\n",
       "       'MALLA DESOLDANTE RELIFE - RL1515'], dtype=object)"
      ]
     },
     "execution_count": 411,
     "metadata": {},
     "output_type": "execute_result"
    }
   ],
   "execution_count": 411
  },
  {
   "metadata": {
    "ExecuteTime": {
     "end_time": "2024-12-27T16:05:21.023749Z",
     "start_time": "2024-12-27T16:05:20.632949Z"
    }
   },
   "cell_type": "code",
   "source": [
    "#ver valores con la cadena pasta\n",
    "df[df['Nombre del Producto'].str.contains('pasta', case=False)]['Nombre del Producto'].unique()"
   ],
   "id": "2d3087a770c2ea5",
   "outputs": [
    {
     "data": {
      "text/plain": [
       "array(['PASTA TERMICA GRASA SILICONADA ARCTIC MX-4 4G ALTA POTENCIA',\n",
       "       'ESTAÑO EN PASTA 138 - 40g - WUZIP ',\n",
       "       'ESTAÑO EN PASTA 183 GRADOS GSMSOURCES',\n",
       "       'ESTAÑO EN PASTA 183 - 40g - WUZIP',\n",
       "       'ESTAÑO EN PASTA SP-X SOLDER PASTE 158 GRADOS G-LON\\xa0',\n",
       "       'Pasta Grasa Siliconada Metalica X 5 Cc. Servex 91009',\n",
       "       'ESTAÑO EN PASTA 138 GRADOS (BAJA FUSION) RELIFE POTE 40g - RL404\\xa0',\n",
       "       'Pasta Termica Thermal Grizzly Kryonaut 12.5 W 1 Gr Extrema!'],\n",
       "      dtype=object)"
      ]
     },
     "execution_count": 412,
     "metadata": {},
     "output_type": "execute_result"
    }
   ],
   "execution_count": 412
  },
  {
   "metadata": {
    "ExecuteTime": {
     "end_time": "2024-12-27T16:05:21.488765Z",
     "start_time": "2024-12-27T16:05:21.096185Z"
    }
   },
   "cell_type": "code",
   "source": [
    "#ver valores con la cadena flux\n",
    "df[df['Nombre del Producto'].str.contains('flux', case=False)]['Nombre del Producto'].unique()"
   ],
   "id": "479c693f3d1212e",
   "outputs": [
    {
     "data": {
      "text/plain": [
       "array(['FLUX JERINGA 100% Organico NO TOXICO 10cc - EL REPA',\n",
       "       'Aguja metalica para jeringa de flux o estaño',\n",
       "       'Removedor Flux DELTA Limpiador Residuos Resina 180G',\n",
       "       'FLUX 100% ORGANICO EN TARRO CHICO 30CC NO TOXICO',\n",
       "       'FLUX JERINGA MECHANIC P23 10CC', 'FLUX JERINGA MECHANIC P59 10CC',\n",
       "       'FLUX MECHANIC SD360 MAX 10CC 8546', 'Flux jeringa 10cc - Wuzip'],\n",
       "      dtype=object)"
      ]
     },
     "execution_count": 413,
     "metadata": {},
     "output_type": "execute_result"
    }
   ],
   "execution_count": 413
  },
  {
   "metadata": {
    "ExecuteTime": {
     "end_time": "2024-12-27T16:05:21.758268Z",
     "start_time": "2024-12-27T16:05:21.550831Z"
    }
   },
   "cell_type": "code",
   "source": [
    "#ver valores con la cadena alcohol\n",
    "df[df['Nombre del Producto'].str.contains('alcohol', case=False)]['Nombre del Producto'].unique()"
   ],
   "id": "f6409ea3e0ce62f2",
   "outputs": [
    {
     "data": {
      "text/plain": [
       "array(['ALCOHOL ISOPROPILICO ALTA PUREZA DELTA 1 LITRO PHXL',\n",
       "       'ALCOHOL ISOPROPILICO ALTA PUREZA DELTA 500CC PHX500',\n",
       "       'Alcohol Isopropilico Chemitec Aerosol 440cc Pro Max'],\n",
       "      dtype=object)"
      ]
     },
     "execution_count": 414,
     "metadata": {},
     "output_type": "execute_result"
    }
   ],
   "execution_count": 414
  },
  {
   "metadata": {
    "ExecuteTime": {
     "end_time": "2024-12-27T16:05:22.015829Z",
     "start_time": "2024-12-27T16:05:21.847646Z"
    }
   },
   "cell_type": "code",
   "source": [
    "#ver valores con la cadena resina\n",
    "df[df['Nombre del Producto'].str.contains('resina', case=False)]['Nombre del Producto'].unique()"
   ],
   "id": "762defc3255745fb",
   "outputs": [
    {
     "data": {
      "text/plain": [
       "array(['RESINA - ROSIN para detectar cortos',\n",
       "       'Removedor Flux DELTA Limpiador Residuos Resina 180G'],\n",
       "      dtype=object)"
      ]
     },
     "execution_count": 415,
     "metadata": {},
     "output_type": "execute_result"
    }
   ],
   "execution_count": 415
  },
  {
   "metadata": {
    "ExecuteTime": {
     "end_time": "2024-12-27T16:05:22.303704Z",
     "start_time": "2024-12-27T16:05:22.141562Z"
    }
   },
   "cell_type": "code",
   "source": [
    "#ver valores con la cadena caja\n",
    "df[df['Nombre del Producto'].str.contains('caja', case=False)]['Nombre del Producto'].unique()"
   ],
   "id": "920c1d83008a94ee",
   "outputs": [
    {
     "data": {
      "text/plain": [
       "array(['CAJA PLASTICA ALMACENAMIENTO PLACA SS001A',\n",
       "       'Consola Retro Portatil Cotroller Gamepad 2.4g NIPPON / 64GB 20,000 JUEGOS NIPPON CAJA AZUL',\n",
       "       'AURICULARES AKG SAM S10+ EO-IG955 MG892 CAJA',\n",
       "       'Cargador Motorola 50W doble puerto con cable C a C EN CAJA ',\n",
       "       'CARGADOR MOTOROLA ORIGINAL 68W CON CABLE C A C CAJA'],\n",
       "      dtype=object)"
      ]
     },
     "execution_count": 416,
     "metadata": {},
     "output_type": "execute_result"
    }
   ],
   "execution_count": 416
  },
  {
   "metadata": {
    "ExecuteTime": {
     "end_time": "2024-12-27T16:05:22.540012Z",
     "start_time": "2024-12-27T16:05:22.363454Z"
    }
   },
   "cell_type": "code",
   "source": [
    "#ver valores con la cadena pinza\n",
    "df[df['Nombre del Producto'].str.contains('pinza', case=False)]['Nombre del Producto'].unique()"
   ],
   "id": "4c95bbc56467ad18",
   "outputs": [
    {
     "data": {
      "text/plain": [
       "array(['PINZA BRUCELA SAK-11 RECTA Mechanic',\n",
       "       'PINZA BRUCELA SAK-15 CURVA Mechanic',\n",
       "       'KIT PINZAS PARA PEGAR MODULO TG-4000 ',\n",
       "       'PINZA BRUCELA ESD-11 RECTA HQ Mechanic',\n",
       "       'PINZA BRUCELA ST-15 CURVA ANTIESTATICA Mechanic',\n",
       "       'Pinza Crimpeadora Para Cables RJ45 con Pelacables WJ-315',\n",
       "       'Soporte Para Celular De Brazo FLEXIBLE Con Pinza Ajustable COLORES',\n",
       "       'TWEEZER PINZA RELIFE (curva) - RT14SA',\n",
       "       'TWEEZER PINZA RELIFE (plana) - ST20',\n",
       "       'TWEEZER PINZA RELIFE (recta) - RT14A\\xa0',\n",
       "       'PINZA ALICATE HY-501A - YX109',\n",
       "       'PINZA BRUCELA KA-11 RECTA Mechanic',\n",
       "       'PINZA BRUCELA KS-11 RECTA Mechanic',\n",
       "       'PINZA DE PUNTA MECHANIC TS-J615',\n",
       "       'TWEEZER PINZA SUNSHINE (curva) - SK15\\xa0',\n",
       "       'TWEEZER PINZA SUNSHINE (recta) - SK11\\xa0',\n",
       "       'TWEEZER PINZA TITANIO (recta) AZUL KW-11A'], dtype=object)"
      ]
     },
     "execution_count": 417,
     "metadata": {},
     "output_type": "execute_result"
    }
   ],
   "execution_count": 417
  },
  {
   "metadata": {
    "ExecuteTime": {
     "end_time": "2024-12-27T16:05:22.856484Z",
     "start_time": "2024-12-27T16:05:22.559104Z"
    }
   },
   "cell_type": "code",
   "source": [
    "#ver valores con la cadena palito\n",
    "df[df['Nombre del Producto'].str.contains('palito', case=False)]['Nombre del Producto'].unique()"
   ],
   "id": "1fedac5561511946",
   "outputs": [
    {
     "data": {
      "text/plain": [
       "array(['PALITO METALICO DE APERTURA PUA RELIFE - RL050'], dtype=object)"
      ]
     },
     "execution_count": 418,
     "metadata": {},
     "output_type": "execute_result"
    }
   ],
   "execution_count": 418
  },
  {
   "metadata": {
    "ExecuteTime": {
     "end_time": "2024-12-27T16:05:23.113470Z",
     "start_time": "2024-12-27T16:05:22.886001Z"
    }
   },
   "cell_type": "code",
   "source": [
    "#ver valores con la cadena cuchilla\n",
    "df[df['Nombre del Producto'].str.contains('cuchilla', case=False)]['Nombre del Producto'].unique()"
   ],
   "id": "6177791080feaf62",
   "outputs": [
    {
     "data": {
      "text/plain": [
       "array(['Punta Para Estación Soldado T12 KU (cuchilla fina)',\n",
       "       '011 QIANLI Cuchillas pulidas a mano',\n",
       "       'Punta Relife RL-900M-T-K (cuchilla)',\n",
       "       'Punta Relife RL-900M SK (cuchilla fina)',\n",
       "       'SET 10 CUCHILLAS BISTURI #11'], dtype=object)"
      ]
     },
     "execution_count": 419,
     "metadata": {},
     "output_type": "execute_result"
    }
   ],
   "execution_count": 419
  },
  {
   "metadata": {
    "ExecuteTime": {
     "end_time": "2024-12-27T16:05:23.480797Z",
     "start_time": "2024-12-27T16:05:23.132322Z"
    }
   },
   "cell_type": "code",
   "source": [
    "#ver valores con la cadena mango\n",
    "df[df['Nombre del Producto'].str.contains('mango', case=False)]['Nombre del Producto'].unique()"
   ],
   "id": "b95567116a2bb157",
   "outputs": [
    {
     "data": {
      "text/plain": [
       "array(['MANGO REMOVEDOR PEGAMENTO RELIFE RL101B',\n",
       "       'MANGO DE CAUTIN HEMBRA DE 5 PINES 908A'], dtype=object)"
      ]
     },
     "execution_count": 420,
     "metadata": {},
     "output_type": "execute_result"
    }
   ],
   "execution_count": 420
  },
  {
   "metadata": {
    "ExecuteTime": {
     "end_time": "2024-12-27T16:05:23.792557Z",
     "start_time": "2024-12-27T16:05:23.499326Z"
    }
   },
   "cell_type": "code",
   "source": [
    "#ver valores con la cadena paño\n",
    "df[df['Nombre del Producto'].str.contains('paño', case=False)]['Nombre del Producto'].unique()"
   ],
   "id": "2cb94f82fe920993",
   "outputs": [
    {
     "data": {
      "text/plain": [
       "array(['Limpia Pantallas Screen Cleaner 120 cc Incluye Paños Chemitec',\n",
       "       'Paños limpieza wipes rl-045', 'PAÑO DE MICROFIBRA RL-045C'],\n",
       "      dtype=object)"
      ]
     },
     "execution_count": 421,
     "metadata": {},
     "output_type": "execute_result"
    }
   ],
   "execution_count": 421
  },
  {
   "metadata": {
    "ExecuteTime": {
     "end_time": "2024-12-27T16:05:24.188208Z",
     "start_time": "2024-12-27T16:05:23.888294Z"
    }
   },
   "cell_type": "code",
   "source": [
    "#ver valores con la cadena cinta\n",
    "df[df['Nombre del Producto'].str.contains('cinta', case=False)]['Nombre del Producto'].unique()"
   ],
   "id": "4795faa08756116",
   "outputs": [
    {
     "data": {
      "text/plain": [
       "array(['CINTA DOBLE FAZ 3mm x 55M', 'CINTA KAPTON 15mm',\n",
       "       'CINTA KAPTON 10mm (fina)', 'CINTA ALUMINIO 15MM / 20M'],\n",
       "      dtype=object)"
      ]
     },
     "execution_count": 422,
     "metadata": {},
     "output_type": "execute_result"
    }
   ],
   "execution_count": 422
  },
  {
   "metadata": {
    "ExecuteTime": {
     "end_time": "2024-12-27T16:05:24.831059Z",
     "start_time": "2024-12-27T16:05:24.215557Z"
    }
   },
   "cell_type": "code",
   "source": [
    "#ver valores con la cadena punta\n",
    "df[df['Nombre del Producto'].str.contains('punta', case=False)]['Nombre del Producto'].unique()"
   ],
   "id": "8eccb8a1550d4db3",
   "outputs": [
    {
     "data": {
      "text/plain": [
       "array(['Lapiz Optico Doble Punta Para Smartphone Tablet O Celular Punta Fina Y Redonda',\n",
       "       'PUNTA DE SOLDADOR MECHANIC BLACK 900M-T-IS 8348',\n",
       "       'Punta Para Estación Soldado T12 KU (cuchilla fina)',\n",
       "       'Soldador De 40w Punta De Ceramica ZD-40 Megalite',\n",
       "       'PUNTAS FINAS GOLD MULTIMETRO SS024A',\n",
       "       'LIMPIADOR PUNTA CAUTIN - GOLD - ESPONJA METALICA ss-599b',\n",
       "       'PUNTA DE SOLDADOR MECHANIC 900M-T-FS 8341',\n",
       "       'Punta Para Estacion Soldado T12 J02 (curva)',\n",
       "       'Punta Relife RL-900M - IS (curva)',\n",
       "       'Punta Relife RL-900M-I (recta)',\n",
       "       'Punta Relife RL-900M-T-K (cuchilla)',\n",
       "       'Fuente De Poder 3/4.5/6/7.5/9/12 Voltios 6 Puntas Cargador Multiple 30w MULTI-ROLE cm053',\n",
       "       'PINZA DE PUNTA MECHANIC TS-J615',\n",
       "       'PUNTA C115 RELIFE - C115-IS (curva)',\n",
       "       'PUNTA C210 - RELIFE - C210-IS (curva)',\n",
       "       'PUNTA DE SOLDADOR MECHANIC GOLD 900M-T-IS 8352',\n",
       "       'PUNTA JBC C210 - C210-020 (recta)',\n",
       "       'Punta Para C210 Capuchon Sacrificio Ideal Sugon T26 Jbc',\n",
       "       'Punta Para Estacion Soldado T12 - ILS (recta larga)',\n",
       "       'Punta Relife RL-900M SK (cuchilla fina)'], dtype=object)"
      ]
     },
     "execution_count": 423,
     "metadata": {},
     "output_type": "execute_result"
    }
   ],
   "execution_count": 423
  },
  {
   "metadata": {
    "ExecuteTime": {
     "end_time": "2024-12-27T16:05:25.155274Z",
     "start_time": "2024-12-27T16:05:25.038697Z"
    }
   },
   "cell_type": "code",
   "source": [
    "#ver valores con la cadena organizador\n",
    "df[df['Nombre del Producto'].str.contains('organizador', case=False)]['Nombre del Producto'].unique()"
   ],
   "id": "f474b5e3e95fa99d",
   "outputs": [
    {
     "data": {
      "text/plain": [
       "array(['ORGANIZADOR MULTIFUNCIONAL DE MADERA CON 24 ESPACIOS MECHANIC B24',\n",
       "       'Organizador rotativo para destornilladores RELIFE RL-078A',\n",
       "       'Gavetero Metalico Organizador Relife RL001d'], dtype=object)"
      ]
     },
     "execution_count": 424,
     "metadata": {},
     "output_type": "execute_result"
    }
   ],
   "execution_count": 424
  },
  {
   "metadata": {
    "ExecuteTime": {
     "end_time": "2024-12-27T16:05:25.495119Z",
     "start_time": "2024-12-27T16:05:25.214474Z"
    }
   },
   "cell_type": "code",
   "source": [
    "#ver valores con la cadena holder basico\n",
    "df[df['Nombre del Producto'].str.contains('holder basico', case=False)]['Nombre del Producto'].unique()"
   ],
   "id": "a85273a6025d82c3",
   "outputs": [
    {
     "data": {
      "text/plain": [
       "array(['HOLDER BASICO SUNSHINE - SS601A - SOPORTE DE PLACAS'],\n",
       "      dtype=object)"
      ]
     },
     "execution_count": 425,
     "metadata": {},
     "output_type": "execute_result"
    }
   ],
   "execution_count": 425
  },
  {
   "metadata": {
    "ExecuteTime": {
     "end_time": "2024-12-27T16:05:25.957765Z",
     "start_time": "2024-12-27T16:05:25.550496Z"
    }
   },
   "cell_type": "code",
   "source": [
    "#ver valores con la cadena caja\n",
    "df[df['Nombre del Producto'].str.contains('caja', case=False)]['Nombre del Producto'].unique()"
   ],
   "id": "f563c62db7e06e14",
   "outputs": [
    {
     "data": {
      "text/plain": [
       "array(['CAJA PLASTICA ALMACENAMIENTO PLACA SS001A',\n",
       "       'Consola Retro Portatil Cotroller Gamepad 2.4g NIPPON / 64GB 20,000 JUEGOS NIPPON CAJA AZUL',\n",
       "       'AURICULARES AKG SAM S10+ EO-IG955 MG892 CAJA',\n",
       "       'Cargador Motorola 50W doble puerto con cable C a C EN CAJA ',\n",
       "       'CARGADOR MOTOROLA ORIGINAL 68W CON CABLE C A C CAJA'],\n",
       "      dtype=object)"
      ]
     },
     "execution_count": 426,
     "metadata": {},
     "output_type": "execute_result"
    }
   ],
   "execution_count": 426
  },
  {
   "metadata": {
    "ExecuteTime": {
     "end_time": "2024-12-27T16:05:26.363644Z",
     "start_time": "2024-12-27T16:05:25.995841Z"
    }
   },
   "cell_type": "code",
   "source": [
    "#ver valores con la cadena localizador\n",
    "df[df['Nombre del Producto'].str.contains('localizador', case=False)]['Nombre del Producto'].unique()"
   ],
   "id": "17c1247359f7dd2d",
   "outputs": [
    {
     "data": {
      "text/plain": [
       "array([], dtype=object)"
      ]
     },
     "execution_count": 427,
     "metadata": {},
     "output_type": "execute_result"
    }
   ],
   "execution_count": 427
  },
  {
   "metadata": {
    "ExecuteTime": {
     "end_time": "2024-12-27T16:05:26.669345Z",
     "start_time": "2024-12-27T16:05:26.478819Z"
    }
   },
   "cell_type": "code",
   "source": [
    "#ver valores con la cadena desoldante\n",
    "df[df['Nombre del Producto'].str.contains('desoldante', case=False)]['Nombre del Producto'].unique()"
   ],
   "id": "27c21f7e845fd6ab",
   "outputs": [
    {
     "data": {
      "text/plain": [
       "array(['MALLA DESOLDANTE MECHANIC R300 / 2015',\n",
       "       'MALLA DESOLDANTE RELIFE - RL2030',\n",
       "       'MALLA DESOLDANTE MECHANIC R350 / 1515',\n",
       "       'MALLA DESOLDANTE RELIFE - RL1515'], dtype=object)"
      ]
     },
     "execution_count": 428,
     "metadata": {},
     "output_type": "execute_result"
    }
   ],
   "execution_count": 428
  },
  {
   "metadata": {
    "ExecuteTime": {
     "end_time": "2024-12-27T16:05:27.107218Z",
     "start_time": "2024-12-27T16:05:26.735789Z"
    }
   },
   "cell_type": "code",
   "source": [
    "#ver valores con la cadena alicate\n",
    "df[df['Nombre del Producto'].str.contains('alicate', case=False)]['Nombre del Producto'].unique()"
   ],
   "id": "988c53e1c2b15cfa",
   "outputs": [
    {
     "data": {
      "text/plain": [
       "array(['ALICATE RELIFE RL-113', 'ALICATE SUNSHINE SS109\\xa0',\n",
       "       'PINZA ALICATE HY-501A - YX109'], dtype=object)"
      ]
     },
     "execution_count": 429,
     "metadata": {},
     "output_type": "execute_result"
    }
   ],
   "execution_count": 429
  },
  {
   "metadata": {
    "ExecuteTime": {
     "end_time": "2024-12-27T16:05:27.377993Z",
     "start_time": "2024-12-27T16:05:27.174734Z"
    }
   },
   "cell_type": "code",
   "source": [
    "#ver valores con la cadena destornillador\n",
    "df[df['Nombre del Producto'].str.contains('destornillador', case=False)]['Nombre del Producto'].unique()"
   ],
   "id": "e6bb7c3eb0d4eed8",
   "outputs": [
    {
     "data": {
      "text/plain": [
       "array(['KIT DESTORNILLADORES PARA CELULARES YAXUN YX-6029',\n",
       "       'Kit Destornilladores Yaxun YX6028 Tablet Celular',\n",
       "       'Destornillador Mechanic Imini S2 +1,5 05271',\n",
       "       'KIT DESTORNILLADORES SS-5106 PARA iPHONE 7 (4 pcs)\\xa0',\n",
       "       'Kit Destornilladores Yaxun YX6310 Tablet Celular',\n",
       "       'Kit 5 Destornilladores CELUS RL728a',\n",
       "       'Organizador rotativo para destornilladores RELIFE RL-078A',\n",
       "       'SET DESTORNILLADORES 34 in 1 mod SS-5119',\n",
       "       'DESTORNILLADOR RELIFE - PHILLIPS 1.2/1.5+ - RL721\\xa0',\n",
       "       'JUEGO DE DESTORNILLADOR ITECH 48 EN 1 MECHANIC',\n",
       "       'KIT Destornilladores 8 en 1 Reparacion SW-6308A 2088-8pc',\n",
       "       'Kit Destornilladores Precision 9 En 1 AMAOE',\n",
       "       'Kit Destornilladores Precisión 6 En 1 Mechanic Mortar',\n",
       "       'Kit Destornilladores SS-5120 set 128 in 1',\n",
       "       'Kit Destornilladores SS-5121 set 66 in 1'], dtype=object)"
      ]
     },
     "execution_count": 430,
     "metadata": {},
     "output_type": "execute_result"
    }
   ],
   "execution_count": 430
  },
  {
   "metadata": {
    "ExecuteTime": {
     "end_time": "2024-12-27T16:05:27.570833Z",
     "start_time": "2024-12-27T16:05:27.449803Z"
    }
   },
   "cell_type": "code",
   "source": [
    "#ver valores con la cadena tester\n",
    "df[df['Nombre del Producto'].str.contains('tester', case=False)]['Nombre del Producto'].unique()"
   ],
   "id": "12a0a28a34549dcb",
   "outputs": [
    {
     "data": {
      "text/plain": [
       "array(['USB TESTER - SS302A\\xa0',\n",
       "       'TESTER MULTIMETRO DIGITAL COMPACTO UNI-T Ut33c+ Plus',\n",
       "       'TESTER MECHANIC T-824 Detector De Fallas Lightning Y Usb C',\n",
       "       'Power Tester FNB58 - Bts Version',\n",
       "       'TESTER MULTIMETRO DIGITAL COMPACTO UNI-T Ut33a+ Plus',\n",
       "       'Tester De Cable Utp Rj45 Rj11 Telefono Internet Red JS-468',\n",
       "       'Tester Digital full Noganet M-890G'], dtype=object)"
      ]
     },
     "execution_count": 431,
     "metadata": {},
     "output_type": "execute_result"
    }
   ],
   "execution_count": 431
  },
  {
   "metadata": {
    "ExecuteTime": {
     "end_time": "2024-12-27T16:05:27.835317Z",
     "start_time": "2024-12-27T16:05:27.607887Z"
    }
   },
   "cell_type": "code",
   "source": [
    "#ver valores con la cadena estaño\n",
    "df[df['Nombre del Producto'].str.contains('estaño', case=False)]['Nombre del Producto'].unique()"
   ],
   "id": "1b8c2fcca73c4e7f",
   "outputs": [
    {
     "data": {
      "text/plain": [
       "array(['ESTAÑO EN HILO WUZIP ROLLO 80G 35/65 0.6MM',\n",
       "       'ESTAÑO EN PASTA 138 - 40g - WUZIP ',\n",
       "       'ESTAÑO EN PASTA 183 GRADOS GSMSOURCES',\n",
       "       'Aguja metalica para jeringa de flux o estaño',\n",
       "       'Desoldador A Piston Chupador De Estaño Metalico',\n",
       "       'ESTAÑO EN PASTA 183 - 40g - WUZIP',\n",
       "       'ESTAÑO EN PASTA SP-X SOLDER PASTE 158 GRADOS G-LON\\xa0',\n",
       "       'ESTAÑO ALAMBRE NIQUEL 0.8mm RELIFE RL444 ',\n",
       "       'ESTAÑO EN PASTA 138 GRADOS (BAJA FUSION) RELIFE POTE 40g - RL404\\xa0'],\n",
       "      dtype=object)"
      ]
     },
     "execution_count": 432,
     "metadata": {},
     "output_type": "execute_result"
    }
   ],
   "execution_count": 432
  },
  {
   "metadata": {
    "ExecuteTime": {
     "end_time": "2024-12-27T16:05:28.067496Z",
     "start_time": "2024-12-27T16:05:27.872917Z"
    }
   },
   "cell_type": "code",
   "source": [
    "#ver valores con la cadena sopapa\n",
    "df[df['Nombre del Producto'].str.contains('sopapa', case=False)]['Nombre del Producto'].unique()"
   ],
   "id": "89b6631bfda01e79",
   "outputs": [
    {
     "data": {
      "text/plain": [
       "array([], dtype=object)"
      ]
     },
     "execution_count": 433,
     "metadata": {},
     "output_type": "execute_result"
    }
   ],
   "execution_count": 433
  },
  {
   "metadata": {
    "ExecuteTime": {
     "end_time": "2024-12-27T16:05:28.332611Z",
     "start_time": "2024-12-27T16:05:28.138586Z"
    }
   },
   "cell_type": "code",
   "source": [
    "#ver valores con la cadena cepillo\n",
    "df[df['Nombre del Producto'].str.contains('cepillo', case=False)]['Nombre del Producto'].unique()"
   ],
   "id": "6c855a4b586c990d",
   "outputs": [
    {
     "data": {
      "text/plain": [
       "array(['CEPILLO DOBLE SUNSHINE - SS022B',\n",
       "       'Cepillo Doble Wuzip - Azul EBB-003',\n",
       "       'kit Cepillos de limpieza 9 Unidades'], dtype=object)"
      ]
     },
     "execution_count": 434,
     "metadata": {},
     "output_type": "execute_result"
    }
   ],
   "execution_count": 434
  },
  {
   "metadata": {
    "ExecuteTime": {
     "end_time": "2024-12-27T16:05:28.662424Z",
     "start_time": "2024-12-27T16:05:28.397437Z"
    }
   },
   "cell_type": "code",
   "source": [
    "#ver valores con la cadena hilo\n",
    "df[df['Nombre del Producto'].str.contains('hilo', case=False)]['Nombre del Producto'].unique()"
   ],
   "id": "bbc268604910822f",
   "outputs": [
    {
     "data": {
      "text/plain": [
       "array(['HILO SEPARADOR LCD de tungsteno 0,03mm - SS-051\\xa0',\n",
       "       'ESTAÑO EN HILO WUZIP ROLLO 80G 35/65 0.6MM',\n",
       "       'HILO JUMPER 0.007 Superfine Silver (NO AISLADO) - SS007E',\n",
       "       'HILO JUMPER 0.01 (AISLADO) - SS007D\\xa0',\n",
       "       'HILO glass separador 0,03mm - RL-059A (verde)'], dtype=object)"
      ]
     },
     "execution_count": 435,
     "metadata": {},
     "output_type": "execute_result"
    }
   ],
   "execution_count": 435
  },
  {
   "metadata": {
    "ExecuteTime": {
     "end_time": "2024-12-27T16:05:28.922398Z",
     "start_time": "2024-12-27T16:05:28.732911Z"
    }
   },
   "cell_type": "code",
   "source": [
    "#ver valores con la cadena removedor\n",
    "df[df['Nombre del Producto'].str.contains('removedor', case=False)]['Nombre del Producto'].unique()"
   ],
   "id": "ea8a888f39d184a8",
   "outputs": [
    {
     "data": {
      "text/plain": [
       "array(['MANGO REMOVEDOR PEGAMENTO RELIFE RL101B',\n",
       "       'REMOVEDOR GEL UV Y LAMINA OCA 100CC',\n",
       "       'JUGO DE PITUFO 1 LITRO - REMOVEDOR DE SULFATO ',\n",
       "       'REMOVEDOR DE GOMA Q5000 100MM',\n",
       "       'Drill Relife Rl-068 Removedor De Oca Minitorno Dremell',\n",
       "       'ESPATULA SET 27 REMOVEDOR DE IC - SS101A\\xa0',\n",
       "       'RASPADOR REMOVEDOR DE PEGAMENTO - RL-023\\xa0',\n",
       "       'Removedor Flux DELTA Limpiador Residuos Resina 180G'],\n",
       "      dtype=object)"
      ]
     },
     "execution_count": 436,
     "metadata": {},
     "output_type": "execute_result"
    }
   ],
   "execution_count": 436
  },
  {
   "metadata": {
    "ExecuteTime": {
     "end_time": "2024-12-27T16:05:29.182220Z",
     "start_time": "2024-12-27T16:05:29.029131Z"
    }
   },
   "cell_type": "code",
   "source": [
    "#ver valores con la cadena hilo\n",
    "df[df['Nombre del Producto'].str.contains('hilo', case=False)]['Nombre del Producto'].unique()"
   ],
   "id": "d540d7b3d45cf52a",
   "outputs": [
    {
     "data": {
      "text/plain": [
       "array(['HILO SEPARADOR LCD de tungsteno 0,03mm - SS-051\\xa0',\n",
       "       'ESTAÑO EN HILO WUZIP ROLLO 80G 35/65 0.6MM',\n",
       "       'HILO JUMPER 0.007 Superfine Silver (NO AISLADO) - SS007E',\n",
       "       'HILO JUMPER 0.01 (AISLADO) - SS007D\\xa0',\n",
       "       'HILO glass separador 0,03mm - RL-059A (verde)'], dtype=object)"
      ]
     },
     "execution_count": 437,
     "metadata": {},
     "output_type": "execute_result"
    }
   ],
   "execution_count": 437
  },
  {
   "metadata": {
    "ExecuteTime": {
     "end_time": "2024-12-27T16:05:29.406763Z",
     "start_time": "2024-12-27T16:05:29.246869Z"
    }
   },
   "cell_type": "code",
   "source": [
    "#ver valores con la cadena pua\n",
    "df[df['Nombre del Producto'].str.contains('pua', case=False)]['Nombre del Producto'].unique()"
   ],
   "id": "5e2ef6740b136cea",
   "outputs": [
    {
     "data": {
      "text/plain": [
       "array(['PALITO METALICO DE APERTURA PUA RELIFE - RL050',\n",
       "       'OPENNING METAL PUA ULTRAFINA PEANUT / SS028A'], dtype=object)"
      ]
     },
     "execution_count": 438,
     "metadata": {},
     "output_type": "execute_result"
    }
   ],
   "execution_count": 438
  },
  {
   "metadata": {
    "ExecuteTime": {
     "end_time": "2024-12-27T16:05:29.564340Z",
     "start_time": "2024-12-27T16:05:29.427504Z"
    }
   },
   "cell_type": "code",
   "source": [
    "#ver valores con la cadena flux\n",
    "df[df['Nombre del Producto'].str.contains('flux', case=False)]['Nombre del Producto'].unique()"
   ],
   "id": "221e737b88d5f319",
   "outputs": [
    {
     "data": {
      "text/plain": [
       "array(['FLUX JERINGA 100% Organico NO TOXICO 10cc - EL REPA',\n",
       "       'Aguja metalica para jeringa de flux o estaño',\n",
       "       'Removedor Flux DELTA Limpiador Residuos Resina 180G',\n",
       "       'FLUX 100% ORGANICO EN TARRO CHICO 30CC NO TOXICO',\n",
       "       'FLUX JERINGA MECHANIC P23 10CC', 'FLUX JERINGA MECHANIC P59 10CC',\n",
       "       'FLUX MECHANIC SD360 MAX 10CC 8546', 'Flux jeringa 10cc - Wuzip'],\n",
       "      dtype=object)"
      ]
     },
     "execution_count": 439,
     "metadata": {},
     "output_type": "execute_result"
    }
   ],
   "execution_count": 439
  },
  {
   "metadata": {
    "ExecuteTime": {
     "end_time": "2024-12-27T16:05:29.741012Z",
     "start_time": "2024-12-27T16:05:29.676024Z"
    }
   },
   "cell_type": "code",
   "source": [
    "#ver valores con la cadena plancha\n",
    "df[df['Nombre del Producto'].str.contains('plancha', case=False)]['Nombre del Producto'].unique()"
   ],
   "id": "d6d093e85ab97c7d",
   "outputs": [
    {
     "data": {
      "text/plain": [
       "array(['PLANCHA SEPARADORA LCD GTOOL 988A CON SUCCION\\xa0+ PAD GOMA',\n",
       "       'Plancha Separadora de Glass HEADFOX MC958',\n",
       "       'PAD Para plancha de calor - SS004s',\n",
       "       'PLANCHA SEPARADORA KailLiwei F503 GIRATORIA'], dtype=object)"
      ]
     },
     "execution_count": 440,
     "metadata": {},
     "output_type": "execute_result"
    }
   ],
   "execution_count": 440
  },
  {
   "metadata": {
    "ExecuteTime": {
     "end_time": "2024-12-27T16:05:29.874627Z",
     "start_time": "2024-12-27T16:05:29.861066Z"
    }
   },
   "cell_type": "code",
   "source": [
    "#ver valores con la cadena lampara uv\n",
    "df[df['Nombre del Producto'].str.contains('lampara uv', case=False)]['Nombre del Producto'].unique()"
   ],
   "id": "e152333de24e2f44",
   "outputs": [
    {
     "data": {
      "text/plain": [
       "array(['LAMPARA UV usb - RL-014'], dtype=object)"
      ]
     },
     "execution_count": 441,
     "metadata": {},
     "output_type": "execute_result"
    }
   ],
   "execution_count": 441
  },
  {
   "metadata": {
    "ExecuteTime": {
     "end_time": "2024-12-27T16:05:30.029657Z",
     "start_time": "2024-12-27T16:05:30.021022Z"
    }
   },
   "cell_type": "code",
   "source": [
    "#ver valores con la cadena limpia contactos\n",
    "df[df['Nombre del Producto'].str.contains('limpia contactos', case=False)]['Nombre del Producto'].unique()"
   ],
   "id": "1158bab0889f8b23",
   "outputs": [
    {
     "data": {
      "text/plain": [
       "array([], dtype=object)"
      ]
     },
     "execution_count": 442,
     "metadata": {},
     "output_type": "execute_result"
    }
   ],
   "execution_count": 442
  },
  {
   "metadata": {
    "ExecuteTime": {
     "end_time": "2024-12-27T16:05:30.198815Z",
     "start_time": "2024-12-27T16:05:30.189196Z"
    }
   },
   "cell_type": "code",
   "source": [
    "#ver valores con la cadena activador\n",
    "df[df['Nombre del Producto'].str.contains('activador', case=False)]['Nombre del Producto'].unique()"
   ],
   "id": "a378e4db4fee52a8",
   "outputs": [
    {
     "data": {
      "text/plain": [
       "array(['ACTIVADOR Y CARGADOR DE BATERIA ER-BA19',\n",
       "       'ACTIVADOR DE BATERIAS SUNSHINE SS915 v9'], dtype=object)"
      ]
     },
     "execution_count": 443,
     "metadata": {},
     "output_type": "execute_result"
    }
   ],
   "execution_count": 443
  },
  {
   "metadata": {
    "ExecuteTime": {
     "end_time": "2024-12-27T16:05:30.413834Z",
     "start_time": "2024-12-27T16:05:30.390239Z"
    }
   },
   "cell_type": "code",
   "source": [
    "#ver valores con la cadena espatula\n",
    "df[df['Nombre del Producto'].str.contains('espatula', case=False)]['Nombre del Producto'].unique()"
   ],
   "id": "10f244fa5a3994c1",
   "outputs": [
    {
     "data": {
      "text/plain": [
       "array(['ESPATULA ULTRAFINA PARA APERTURA X20 DESARME MECHANIC',\n",
       "       'Espatula Profesional Ultrafina Mechanic X10',\n",
       "       'ESPATULA PARA REBALLING Y APERTURA - JM-Z12\\xa00',\n",
       "       'Espatula Profesional De Desmontaje De Baterias X12 Mechanic',\n",
       "       'SPUDGER METALICO ESPATULA\\xa0',\n",
       "       'ESPATULA SET 27 REMOVEDOR DE IC - SS101A\\xa0',\n",
       "       'Espatula Profesional Ultrafina Mechanic X9',\n",
       "       'ESPATULAS METALICAS KIT RELIFE RL-087',\n",
       "       'Espatulas Para Remover Modulos WL-8B',\n",
       "       'SET 5 ESPATULAS MULTIFUNCION RL049A'], dtype=object)"
      ]
     },
     "execution_count": 444,
     "metadata": {},
     "output_type": "execute_result"
    }
   ],
   "execution_count": 444
  },
  {
   "metadata": {
    "ExecuteTime": {
     "end_time": "2024-12-27T16:05:30.553853Z",
     "start_time": "2024-12-27T16:05:30.527756Z"
    }
   },
   "cell_type": "code",
   "source": [
    "#ver valores con la cadena grasa\n",
    "df[df['Nombre del Producto'].str.contains('grasa', case=False)]['Nombre del Producto'].unique()"
   ],
   "id": "5fdcc30c7cac37c9",
   "outputs": [
    {
     "data": {
      "text/plain": [
       "array(['PASTA TERMICA GRASA SILICONADA ARCTIC MX-4 4G ALTA POTENCIA',\n",
       "       'Pasta Grasa Siliconada Metalica X 5 Cc. Servex 91009'],\n",
       "      dtype=object)"
      ]
     },
     "execution_count": 445,
     "metadata": {},
     "output_type": "execute_result"
    }
   ],
   "execution_count": 445
  },
  {
   "metadata": {
    "ExecuteTime": {
     "end_time": "2024-12-27T16:05:30.680688Z",
     "start_time": "2024-12-27T16:05:30.633821Z"
    }
   },
   "cell_type": "code",
   "source": [
    "#Ver valores con la cadena cocodrilo\n",
    "df[df['Nombre del Producto'].str.contains('cocodrilo', case=False)]['Nombre del Producto'].unique()"
   ],
   "id": "4b2083e4d6c41b8c",
   "outputs": [
    {
     "data": {
      "text/plain": [
       "array(['Cables Cocodrilo Fuente W12 CABMEC003'], dtype=object)"
      ]
     },
     "execution_count": 446,
     "metadata": {},
     "output_type": "execute_result"
    }
   ],
   "execution_count": 446
  },
  {
   "metadata": {
    "ExecuteTime": {
     "end_time": "2024-12-27T16:05:30.821669Z",
     "start_time": "2024-12-27T16:05:30.796507Z"
    }
   },
   "cell_type": "code",
   "source": [
    "#ver valores conl a cadena pulpo\n",
    "df[df['Nombre del Producto'].str.contains('pulpo', case=False)]['Nombre del Producto'].unique()"
   ],
   "id": "754ad913b6d5c9f2",
   "outputs": [
    {
     "data": {
      "text/plain": [
       "array(['CABLE PULPO PARA FUENTE 741049192867',\n",
       "       'Cable Pulpo Fpc Para iPhone Y Andriod S24 Max Mechanic'],\n",
       "      dtype=object)"
      ]
     },
     "execution_count": 447,
     "metadata": {},
     "output_type": "execute_result"
    }
   ],
   "execution_count": 447
  },
  {
   "metadata": {
    "ExecuteTime": {
     "end_time": "2024-12-27T16:05:30.958793Z",
     "start_time": "2024-12-27T16:05:30.949969Z"
    }
   },
   "cell_type": "code",
   "source": [
    "#ver valores con la cadena manta\n",
    "df[df['Nombre del Producto'].str.contains('manta', case=False)]['Nombre del Producto'].unique()\n"
   ],
   "id": "649029469c11e8d9",
   "outputs": [
    {
     "data": {
      "text/plain": [
       "array(['MANTA Para Glass Silicona Pad NARANJA 25x20cm Espesor 8mm',\n",
       "       'MANTA TAPETE TERMICO RELIFE RL160A - Gris',\n",
       "       'MANTA TERMICA (CELESTE) 35x25cm SS004A',\n",
       "       'TRINO MICROSCOPIO WIFIX WF-M50XT / 50X ZOOM / CON ARO LED 144 + MANTA + BARLOW 0.7 + LENTE PROTECTOR',\n",
       "       'Malla Cuero Imantada Apple Watch 42 44 45 49 Negro'], dtype=object)"
      ]
     },
     "execution_count": 448,
     "metadata": {},
     "output_type": "execute_result"
    }
   ],
   "execution_count": 448
  },
  {
   "metadata": {
    "ExecuteTime": {
     "end_time": "2024-12-27T16:05:31.098572Z",
     "start_time": "2024-12-27T16:05:31.087477Z"
    }
   },
   "cell_type": "code",
   "source": [
    "#ver valores con la cadena termico y termica\n",
    "df[df['Nombre del Producto'].str.contains('termico|termica', case=False)]['Nombre del Producto'].unique()"
   ],
   "id": "5ce789741a2eb505",
   "outputs": [
    {
     "data": {
      "text/plain": [
       "array(['PASTA TERMICA GRASA SILICONADA ARCTIC MX-4 4G ALTA POTENCIA',\n",
       "       'PAD TERMICO URANUS TP-U1 50X50X1.0MM 12W/MK ALTO RENDIMIENTO',\n",
       "       'Impresora Termica POS 80mm Ancho de Impresion - USB2.0+RJ11-203dpi - 100mm/s - Global TP-POS80-USB',\n",
       "       'MANTA TAPETE TERMICO RELIFE RL160A - Gris',\n",
       "       'MANTA TERMICA (CELESTE) 35x25cm SS004A',\n",
       "       'Pasta Termica Thermal Grizzly Kryonaut 12.5 W 1 Gr Extrema!',\n",
       "       'Prolongador Multi-Toma Dear Power 6 tomas 220V + Prot. Termico 1,5 MTS',\n",
       "       'TAPETE TERMICO- extra grande 50x35 - ss004f - Gris'], dtype=object)"
      ]
     },
     "execution_count": 449,
     "metadata": {},
     "output_type": "execute_result"
    }
   ],
   "execution_count": 449
  },
  {
   "metadata": {
    "ExecuteTime": {
     "end_time": "2024-12-27T16:05:31.270569Z",
     "start_time": "2024-12-27T16:05:31.260850Z"
    }
   },
   "cell_type": "code",
   "source": [
    "#ver valores con la cadena protector\n",
    "df[df['Nombre del Producto'].str.contains('protector', case=False)]['Nombre del Producto'].unique()"
   ],
   "id": "4391490d912b9547",
   "outputs": [
    {
     "data": {
      "text/plain": [
       "array(['LENTE PROTECTOR POLVO y HUMO M25 - 48mm',\n",
       "       'PROTECTOR DE TENSION PROTECH F',\n",
       "       'TRINO MICROSCOPIO WIFIX WF-M50XT / 50X ZOOM / CON ARO LED 144 + MANTA + BARLOW 0.7 + LENTE PROTECTOR'],\n",
       "      dtype=object)"
      ]
     },
     "execution_count": 450,
     "metadata": {},
     "output_type": "execute_result"
    }
   ],
   "execution_count": 450
  },
  {
   "metadata": {
    "ExecuteTime": {
     "end_time": "2024-12-27T16:05:31.396852Z",
     "start_time": "2024-12-27T16:05:31.355869Z"
    }
   },
   "cell_type": "code",
   "source": [
    "#ver valores con la cadena cortadora\n",
    "df[df['Nombre del Producto'].str.contains('cortadora', case=False)]['Nombre del Producto'].unique()"
   ],
   "id": "2ad9a0ac132b0dd3",
   "outputs": [
    {
     "data": {
      "text/plain": [
       "array([], dtype=object)"
      ]
     },
     "execution_count": 451,
     "metadata": {},
     "output_type": "execute_result"
    }
   ],
   "execution_count": 451
  },
  {
   "metadata": {
    "ExecuteTime": {
     "end_time": "2024-12-27T16:05:31.529964Z",
     "start_time": "2024-12-27T16:05:31.519845Z"
    }
   },
   "cell_type": "code",
   "source": [
    "#ver valores con la cadena spudger\n",
    "df[df['Nombre del Producto'].str.contains('spudger', case=False)]['Nombre del Producto'].unique()"
   ],
   "id": "fb4cb02c0a76e0dd",
   "outputs": [
    {
     "data": {
      "text/plain": [
       "array(['SET X3 SPUDGER METALICOS KIT RL065',\n",
       "       'SPUDGER METALICO ESPATULA\\xa0'], dtype=object)"
      ]
     },
     "execution_count": 452,
     "metadata": {},
     "output_type": "execute_result"
    }
   ],
   "execution_count": 452
  },
  {
   "metadata": {
    "ExecuteTime": {
     "end_time": "2024-12-27T16:05:31.844969Z",
     "start_time": "2024-12-27T16:05:31.698749Z"
    }
   },
   "cell_type": "code",
   "source": [
    "#ver valores con la cadena espuma\n",
    "df[df['Nombre del Producto'].str.contains('espuma', case=False)]['Nombre del Producto'].unique()"
   ],
   "id": "7f45362cc31739db",
   "outputs": [
    {
     "data": {
      "text/plain": [
       "array(['Espuma De Limpieza Delta Compitt Foam Seco Pc Monitor 370g'],\n",
       "      dtype=object)"
      ]
     },
     "execution_count": 453,
     "metadata": {},
     "output_type": "execute_result"
    }
   ],
   "execution_count": 453
  },
  {
   "metadata": {
    "ExecuteTime": {
     "end_time": "2024-12-27T16:05:32.314048Z",
     "start_time": "2024-12-27T16:05:31.862985Z"
    }
   },
   "cell_type": "code",
   "source": [
    "#ver valores con la cadena goma\n",
    "df[df['Nombre del Producto'].str.contains('goma', case=False)]['Nombre del Producto'].unique()"
   ],
   "id": "57c15b6e7da520a7",
   "outputs": [
    {
     "data": {
      "text/plain": [
       "array(['PLANCHA SEPARADORA LCD GTOOL 988A CON SUCCION\\xa0+ PAD GOMA',\n",
       "       'REMOVEDOR DE GOMA Q5000 100MM'], dtype=object)"
      ]
     },
     "execution_count": 454,
     "metadata": {},
     "output_type": "execute_result"
    }
   ],
   "execution_count": 454
  },
  {
   "metadata": {
    "ExecuteTime": {
     "end_time": "2024-12-27T16:05:32.706584Z",
     "start_time": "2024-12-27T16:05:32.391694Z"
    }
   },
   "cell_type": "code",
   "source": [
    "#ver valores con la cadena jeringa\n",
    "df[df['Nombre del Producto'].str.contains('jeringa', case=False)]['Nombre del Producto'].unique()"
   ],
   "id": "a9dd89bb8620373f",
   "outputs": [
    {
     "data": {
      "text/plain": [
       "array(['FLUX JERINGA 100% Organico NO TOXICO 10cc - EL REPA',\n",
       "       'Aguja metalica para jeringa de flux o estaño',\n",
       "       'EMBOLO PARA JERINGA DE ALUMINIO P08 para jeringa de 10cc ',\n",
       "       'EMBOLO PARA JERINGA DE ALUMINIO P09 para jeringa de 10cc',\n",
       "       'FLUX JERINGA MECHANIC P23 10CC', 'FLUX JERINGA MECHANIC P59 10CC',\n",
       "       'Flux jeringa 10cc - Wuzip'], dtype=object)"
      ]
     },
     "execution_count": 455,
     "metadata": {},
     "output_type": "execute_result"
    }
   ],
   "execution_count": 455
  },
  {
   "metadata": {
    "ExecuteTime": {
     "end_time": "2024-12-27T16:05:32.956577Z",
     "start_time": "2024-12-27T16:05:32.765283Z"
    }
   },
   "cell_type": "code",
   "source": [
    "#ver valores con la cadena pistola\n",
    "df[df['Nombre del Producto'].str.contains('pistola', case=False)]['Nombre del Producto'].unique()"
   ],
   "id": "e4a8818d2444e4aa",
   "outputs": [
    {
     "data": {
      "text/plain": [
       "array(['ESTACION DE SOLDADO CON PISTOLA DE AIRE 2 EN 1 HK-8506D Mechanic',\n",
       "       'PISTOLA MASAJEADORA AF-J01', 'PISTOLA MASAJEADORA AF-V2'],\n",
       "      dtype=object)"
      ]
     },
     "execution_count": 456,
     "metadata": {},
     "output_type": "execute_result"
    }
   ],
   "execution_count": 456
  },
  {
   "metadata": {
    "ExecuteTime": {
     "end_time": "2024-12-27T16:05:33.111725Z",
     "start_time": "2024-12-27T16:05:33.025489Z"
    }
   },
   "cell_type": "code",
   "source": [
    "#ver valores con la cadena stencil\n",
    "df[df['Nombre del Producto'].str.contains('stencil', case=False)]['Nombre del Producto'].unique()"
   ],
   "id": "7c9f3f30d7fa322b",
   "outputs": [
    {
     "data": {
      "text/plain": [
       "array(['RELIFE STENCIL UNIVERSAL MULTIPROPOSITO',\n",
       "       'MEGA IDEA STENCIL NOTE - 8916 MT6592 CPU',\n",
       "       'RELIFE STENCIL IPHONE 7 - 7+ (A10)\\xa0',\n",
       "       'Stencil Welsolo VS01 - ANDROID BT WIFI RF UNIVERSAL'],\n",
       "      dtype=object)"
      ]
     },
     "execution_count": 457,
     "metadata": {},
     "output_type": "execute_result"
    }
   ],
   "execution_count": 457
  },
  {
   "metadata": {
    "ExecuteTime": {
     "end_time": "2024-12-27T16:05:33.370520Z",
     "start_time": "2024-12-27T16:05:33.254853Z"
    }
   },
   "cell_type": "code",
   "source": [
    "#ve valores con la cadena gasa\n",
    "df[df['Nombre del Producto'].str.contains('gasa', case=False)]['Nombre del Producto'].unique()"
   ],
   "id": "f313c66856a218bb",
   "outputs": [
    {
     "data": {
      "text/plain": [
       "array([], dtype=object)"
      ]
     },
     "execution_count": 458,
     "metadata": {},
     "output_type": "execute_result"
    }
   ],
   "execution_count": 458
  },
  {
   "metadata": {
    "ExecuteTime": {
     "end_time": "2024-12-27T16:05:33.555769Z",
     "start_time": "2024-12-27T16:05:33.468047Z"
    }
   },
   "cell_type": "code",
   "source": [
    "#ver valores con la cadena precalentadora\n",
    "df[df['Nombre del Producto'].str.contains('precalentadora', case=False)]['Nombre del Producto'].unique()"
   ],
   "id": "e37e7ef830f73b10",
   "outputs": [
    {
     "data": {
      "text/plain": [
       "array([], dtype=object)"
      ]
     },
     "execution_count": 459,
     "metadata": {},
     "output_type": "execute_result"
    }
   ],
   "execution_count": 459
  },
  {
   "metadata": {
    "ExecuteTime": {
     "end_time": "2024-12-27T16:05:33.725722Z",
     "start_time": "2024-12-27T16:05:33.590943Z"
    }
   },
   "cell_type": "code",
   "source": [
    "#ver valores con la cadena gel\n",
    "df[df['Nombre del Producto'].str.contains('gel', case=False)]['Nombre del Producto'].unique()"
   ],
   "id": "2ddf2a43433dfb8b",
   "outputs": [
    {
     "data": {
      "text/plain": [
       "array(['MOUSE PAD ERGONOMICO CON GEL CDTEK NEGRO',\n",
       "       'REMOVEDOR GEL UV Y LAMINA OCA 100CC', 'FILM HIDROGEL MI BAND 6',\n",
       "       'MOUSE PAD ERGONOMICO CON GEL CDTEK AZUL'], dtype=object)"
      ]
     },
     "execution_count": 460,
     "metadata": {},
     "output_type": "execute_result"
    }
   ],
   "execution_count": 460
  },
  {
   "metadata": {
    "ExecuteTime": {
     "end_time": "2024-12-27T16:05:33.996021Z",
     "start_time": "2024-12-27T16:05:33.746448Z"
    }
   },
   "cell_type": "code",
   "source": [
    "#ver valores con la cadena jeringa\n",
    "df[df['Nombre del Producto'].str.contains('jeringa', case=False)]['Nombre del Producto'].unique()"
   ],
   "id": "21789c477de978d6",
   "outputs": [
    {
     "data": {
      "text/plain": [
       "array(['FLUX JERINGA 100% Organico NO TOXICO 10cc - EL REPA',\n",
       "       'Aguja metalica para jeringa de flux o estaño',\n",
       "       'EMBOLO PARA JERINGA DE ALUMINIO P08 para jeringa de 10cc ',\n",
       "       'EMBOLO PARA JERINGA DE ALUMINIO P09 para jeringa de 10cc',\n",
       "       'FLUX JERINGA MECHANIC P23 10CC', 'FLUX JERINGA MECHANIC P59 10CC',\n",
       "       'Flux jeringa 10cc - Wuzip'], dtype=object)"
      ]
     },
     "execution_count": 461,
     "metadata": {},
     "output_type": "execute_result"
    }
   ],
   "execution_count": 461
  },
  {
   "metadata": {
    "ExecuteTime": {
     "end_time": "2024-12-27T16:05:34.165810Z",
     "start_time": "2024-12-27T16:05:34.022269Z"
    }
   },
   "cell_type": "code",
   "source": [
    "#ver valores con la cadena multimetro\n",
    "df[df['Nombre del Producto'].str.contains('multimetro', case=False)]['Nombre del Producto'].unique()"
   ],
   "id": "ad34f300bc8e2e9d",
   "outputs": [
    {
     "data": {
      "text/plain": [
       "array(['PUNTAS FINAS GOLD MULTIMETRO SS024A',\n",
       "       'TESTER MULTIMETRO DIGITAL COMPACTO UNI-T Ut33c+ Plus',\n",
       "       'TESTER MULTIMETRO DIGITAL COMPACTO UNI-T Ut33a+ Plus'],\n",
       "      dtype=object)"
      ]
     },
     "execution_count": 462,
     "metadata": {},
     "output_type": "execute_result"
    }
   ],
   "execution_count": 462
  },
  {
   "metadata": {
    "ExecuteTime": {
     "end_time": "2024-12-27T16:05:34.399608Z",
     "start_time": "2024-12-27T16:05:34.205090Z"
    }
   },
   "cell_type": "code",
   "source": [
    "#ver valores con la cadena microscopio\n",
    "df[df['Nombre del Producto'].str.contains('microscopio', case=False)]['Nombre del Producto'].unique()"
   ],
   "id": "9501a8675b1827e4",
   "outputs": [
    {
     "data": {
      "text/plain": [
       "array(['Camara Microscopio Hd Mechanic Rx-510',\n",
       "       'TRINO MICROSCOPIO WIFIX WF-M50XT / 50X ZOOM / CON ARO LED 144 + MANTA + BARLOW 0.7 + LENTE PROTECTOR',\n",
       "       'TRINO MICROSCOPIO kailiwei 10HT-B1 NEGRO + ADAPTADOR CAMARA + ARO LED'],\n",
       "      dtype=object)"
      ]
     },
     "execution_count": 463,
     "metadata": {},
     "output_type": "execute_result"
    }
   ],
   "execution_count": 463
  },
  {
   "metadata": {
    "ExecuteTime": {
     "end_time": "2024-12-27T16:05:34.593491Z",
     "start_time": "2024-12-27T16:05:34.418574Z"
    }
   },
   "cell_type": "code",
   "source": [
    "#ver valores con la cadena lubrimatic\n",
    "df[df['Nombre del Producto'].str.contains('lubrimatic', case=False)]['Nombre del Producto'].unique()"
   ],
   "id": "b6f2b390b952ced8",
   "outputs": [
    {
     "data": {
      "text/plain": [
       "array(['Lubrimatic DELTA Baja Densidad Usos Generales 180CC / 130G'],\n",
       "      dtype=object)"
      ]
     },
     "execution_count": 464,
     "metadata": {},
     "output_type": "execute_result"
    }
   ],
   "execution_count": 464
  },
  {
   "metadata": {
    "ExecuteTime": {
     "end_time": "2024-12-27T16:05:34.770547Z",
     "start_time": "2024-12-27T16:05:34.656649Z"
    }
   },
   "cell_type": "code",
   "source": [
    "#ver valores con la cadena alicate\n",
    "df[df['Nombre del Producto'].str.contains('alicate', case=False)]['Nombre del Producto'].unique()"
   ],
   "id": "7f20e45b0d1273fd",
   "outputs": [
    {
     "data": {
      "text/plain": [
       "array(['ALICATE RELIFE RL-113', 'ALICATE SUNSHINE SS109\\xa0',\n",
       "       'PINZA ALICATE HY-501A - YX109'], dtype=object)"
      ]
     },
     "execution_count": 465,
     "metadata": {},
     "output_type": "execute_result"
    }
   ],
   "execution_count": 465
  },
  {
   "metadata": {
    "ExecuteTime": {
     "end_time": "2024-12-27T16:05:35.013510Z",
     "start_time": "2024-12-27T16:05:34.898565Z"
    }
   },
   "cell_type": "code",
   "source": [
    "#ver valores con la cadena drill\n",
    "df[df['Nombre del Producto'].str.contains('drill', case=False)]['Nombre del Producto'].unique()"
   ],
   "id": "fb3f5b3635a9d905",
   "outputs": [
    {
     "data": {
      "text/plain": [
       "array(['MINI DRILL IR14 CON DISPLAY 6 EN 1 - MECHANIC',\n",
       "       'Drill Relife Rl-068 Removedor De Oca Minitorno Dremell',\n",
       "       'MINI DRILL DE CORTE Y PULIDO IR X6 - MECHANIC'], dtype=object)"
      ]
     },
     "execution_count": 466,
     "metadata": {},
     "output_type": "execute_result"
    }
   ],
   "execution_count": 466
  },
  {
   "metadata": {
    "ExecuteTime": {
     "end_time": "2024-12-27T16:05:35.214004Z",
     "start_time": "2024-12-27T16:05:35.097797Z"
    }
   },
   "cell_type": "code",
   "source": [
    "#ver valores con la cadena test\n",
    "df[df['Nombre del Producto'].str.contains('test', case=False)]['Nombre del Producto'].unique()"
   ],
   "id": "fa47a8021e7510f6",
   "outputs": [
    {
     "data": {
      "text/plain": [
       "array(['DOCK FLEX TEST (TIPO C)\\xa0', 'USB TESTER - SS302A\\xa0',\n",
       "       'TESTER MULTIMETRO DIGITAL COMPACTO UNI-T Ut33c+ Plus',\n",
       "       'DOCK FLEX TEST (Micro)',\n",
       "       'TESTER MECHANIC T-824 Detector De Fallas Lightning Y Usb C',\n",
       "       'DOCK FLEX TEST (iPhone)\\xa0', 'Power Tester FNB58 - Bts Version',\n",
       "       'TESTER MULTIMETRO DIGITAL COMPACTO UNI-T Ut33a+ Plus',\n",
       "       'Tester De Cable Utp Rj45 Rj11 Telefono Internet Red JS-468',\n",
       "       'Tester Digital full Noganet M-890G'], dtype=object)"
      ]
     },
     "execution_count": 467,
     "metadata": {},
     "output_type": "execute_result"
    }
   ],
   "execution_count": 467
  },
  {
   "metadata": {
    "ExecuteTime": {
     "end_time": "2024-12-27T16:05:35.837975Z",
     "start_time": "2024-12-27T16:05:35.358202Z"
    }
   },
   "cell_type": "code",
   "source": [
    "#ver valores con la acadena fuente y sunshine\n",
    "df[df['Nombre del Producto'].str.contains('fuente|sunshine', case=False)]['Nombre del Producto'].unique()"
   ],
   "id": "20818419dd1762c0",
   "outputs": [
    {
     "data": {
      "text/plain": [
       "array(['Chromecast Google Tv HD 8gb Blanco Con Control / Sin Fuente Ga03131',\n",
       "       'TRANSFORMADOR FUENTE TIRA DE LED CCTV CAMARAS 12V 2A (3157A)',\n",
       "       'CEPILLO DOBLE SUNSHINE - SS022B',\n",
       "       'FUENTE UNIVERSAL 9V 1,5A DOBLE FICHA  ROUTER / PARLANTES EC9V15A',\n",
       "       'Fuente PC Noga ATX-550 24 Pines P4 550W ATX 550 P4',\n",
       "       'ACTIVADOR DE BATERIAS SUNSHINE SS915 v9',\n",
       "       'ALICATE SUNSHINE SS109\\xa0',\n",
       "       'CABLE PULPO PARA FUENTE 741049192867',\n",
       "       'Turbina Cooler Anillo 12 cm con Led Azul conexion a fuente Netmak NM-RING',\n",
       "       'Adaptador De Usb A Sata/ide Con Fuente Y Cables Universal Noga HE2020',\n",
       "       'CARGADOR DE BATERIAS Sunshine ss909 v6.0',\n",
       "       'Cables Cocodrilo Fuente W12 CABMEC003',\n",
       "       'Cooler 8025 Turbina NEGRA 8 cm conector a fuente Netmak NM-8025',\n",
       "       'Cooler Turbina TRANSPARENTE Luz Azul 8cm a fuente Netmak NM-8025T',\n",
       "       'FUENTE AUREOX PARA PC UNLIMITED SERIES 650W REALES / 80 PLUS BRONZE / COLOR NEGRA',\n",
       "       'Fuente 800mA multiple voltaje y conectores Universal Noganet NOGA 79',\n",
       "       'Fuente Alimentacion 12v 10amp Camara De Seguridad / Iluminacion S-120-12',\n",
       "       'Fuente De Poder 3/4.5/6/7.5/9/12 Voltios 6 Puntas Cargador Multiple 30w MULTI-ROLE cm053',\n",
       "       'Fuente Gigabyte P850gm 850w 80 gold Modular',\n",
       "       'Fuente SUNSHINE 1502d - 15v - 2A',\n",
       "       'HOLDER BASICO SUNSHINE - SS601A - SOPORTE DE PLACAS',\n",
       "       'TWEEZER PINZA SUNSHINE (curva) - SK15\\xa0',\n",
       "       'TWEEZER PINZA SUNSHINE (recta) - SK11\\xa0'], dtype=object)"
      ]
     },
     "execution_count": 468,
     "metadata": {},
     "output_type": "execute_result"
    }
   ],
   "execution_count": 468
  },
  {
   "metadata": {
    "ExecuteTime": {
     "end_time": "2024-12-27T16:05:36.033433Z",
     "start_time": "2024-12-27T16:05:35.890283Z"
    }
   },
   "cell_type": "code",
   "source": [
    "#ver valores con la cadena cable digital\n",
    "df[df['Nombre del Producto'].str.contains('cable digital', case=False)]['Nombre del Producto'].unique()"
   ],
   "id": "47d64d844828e508",
   "outputs": [
    {
     "data": {
      "text/plain": [
       "array([], dtype=object)"
      ]
     },
     "execution_count": 469,
     "metadata": {},
     "output_type": "execute_result"
    }
   ],
   "execution_count": 469
  },
  {
   "metadata": {
    "ExecuteTime": {
     "end_time": "2024-12-27T16:05:36.258976Z",
     "start_time": "2024-12-27T16:05:36.065446Z"
    }
   },
   "cell_type": "code",
   "source": [
    "#ver valores con la cadena glue remove\n",
    "df[df['Nombre del Producto'].str.contains('glue remove', case=False)]['Nombre del Producto'].unique()"
   ],
   "id": "c08457baea770e7b",
   "outputs": [
    {
     "data": {
      "text/plain": [
       "array([], dtype=object)"
      ]
     },
     "execution_count": 470,
     "metadata": {},
     "output_type": "execute_result"
    }
   ],
   "execution_count": 470
  },
  {
   "metadata": {
    "ExecuteTime": {
     "end_time": "2024-12-27T16:05:36.518428Z",
     "start_time": "2024-12-27T16:05:36.313195Z"
    }
   },
   "cell_type": "code",
   "source": [
    "#ver valores con la cadena soporte relife\n",
    "df[df['Nombre del Producto'].str.contains('soporte relife', case=False)]['Nombre del Producto'].unique()"
   ],
   "id": "37aa9a8fb3d166a0",
   "outputs": [
    {
     "data": {
      "text/plain": [
       "array(['SOPORTE RELIFE RL601L mini'], dtype=object)"
      ]
     },
     "execution_count": 471,
     "metadata": {},
     "output_type": "execute_result"
    }
   ],
   "execution_count": 471
  },
  {
   "metadata": {
    "ExecuteTime": {
     "end_time": "2024-12-27T16:05:36.674791Z",
     "start_time": "2024-12-27T16:05:36.627148Z"
    }
   },
   "cell_type": "code",
   "source": [
    "#ver valores con la cadena korad\n",
    "df[df['Nombre del Producto'].str.contains('korad', case=False)]['Nombre del Producto'].unique()"
   ],
   "id": "590e3baa7ee8d6a",
   "outputs": [
    {
     "data": {
      "text/plain": [
       "array([], dtype=object)"
      ]
     },
     "execution_count": 472,
     "metadata": {},
     "output_type": "execute_result"
    }
   ],
   "execution_count": 472
  },
  {
   "metadata": {
    "ExecuteTime": {
     "end_time": "2024-12-27T16:05:36.858989Z",
     "start_time": "2024-12-27T16:05:36.728632Z"
    }
   },
   "cell_type": "code",
   "source": [
    "#ver valores con la cadena face id\n",
    "df[df['Nombre del Producto'].str.contains('face id', case=False)]['Nombre del Producto'].unique()"
   ],
   "id": "5854d901e1747422",
   "outputs": [
    {
     "data": {
      "text/plain": [
       "array([], dtype=object)"
      ]
     },
     "execution_count": 473,
     "metadata": {},
     "output_type": "execute_result"
    }
   ],
   "execution_count": 473
  },
  {
   "metadata": {
    "ExecuteTime": {
     "end_time": "2024-12-27T16:05:37.074534Z",
     "start_time": "2024-12-27T16:05:36.928424Z"
    }
   },
   "cell_type": "code",
   "source": [
    "#ver valores con la cadena wuzip\n",
    "df[df['Nombre del Producto'].str.contains('wuzip', case=False)]['Nombre del Producto'].unique()"
   ],
   "id": "361dc61850bc715c",
   "outputs": [
    {
     "data": {
      "text/plain": [
       "array(['ESTAÑO EN HILO WUZIP ROLLO 80G 35/65 0.6MM',\n",
       "       'ESTAÑO EN PASTA 138 - 40g - WUZIP ',\n",
       "       'Cepillo Doble Wuzip - Azul EBB-003',\n",
       "       'ESTAÑO EN PASTA 183 - 40g - WUZIP', 'Flux jeringa 10cc - Wuzip'],\n",
       "      dtype=object)"
      ]
     },
     "execution_count": 474,
     "metadata": {},
     "output_type": "execute_result"
    }
   ],
   "execution_count": 474
  },
  {
   "metadata": {
    "ExecuteTime": {
     "end_time": "2024-12-27T16:05:37.214516Z",
     "start_time": "2024-12-27T16:05:37.103885Z"
    }
   },
   "cell_type": "code",
   "source": [
    "#ver valores con la cadena gavetero\n",
    "df[df['Nombre del Producto'].str.contains('gavetero', case=False)]['Nombre del Producto'].unique()"
   ],
   "id": "14c0b75e927ee63c",
   "outputs": [
    {
     "data": {
      "text/plain": [
       "array(['Gavetero Metalico Organizador Relife RL001d'], dtype=object)"
      ]
     },
     "execution_count": 475,
     "metadata": {},
     "output_type": "execute_result"
    }
   ],
   "execution_count": 475
  },
  {
   "metadata": {
    "ExecuteTime": {
     "end_time": "2024-12-27T16:05:37.388697Z",
     "start_time": "2024-12-27T16:05:37.301115Z"
    }
   },
   "cell_type": "code",
   "source": [
    "#ver valores con la cadena sulfato\n",
    "df[df['Nombre del Producto'].str.contains('sulfato', case=False)]['Nombre del Producto'].unique()"
   ],
   "id": "c7a43dfd8022b9b7",
   "outputs": [
    {
     "data": {
      "text/plain": [
       "array(['JUGO DE PITUFO 1 LITRO - REMOVEDOR DE SULFATO '], dtype=object)"
      ]
     },
     "execution_count": 476,
     "metadata": {},
     "output_type": "execute_result"
    }
   ],
   "execution_count": 476
  },
  {
   "metadata": {
    "ExecuteTime": {
     "end_time": "2024-12-27T16:05:37.552912Z",
     "start_time": "2024-12-27T16:05:37.427481Z"
    }
   },
   "cell_type": "code",
   "source": [
    "#ver valores con la cadena barlow\n",
    "df[df['Nombre del Producto'].str.contains('barlow', case=False)]['Nombre del Producto'].unique()"
   ],
   "id": "8861f0bc9d0ef9c5",
   "outputs": [
    {
     "data": {
      "text/plain": [
       "array(['LENTE BARLOW M22 - 48mm - 0.7x', 'LENTE BARLOW RF4 0.5X',\n",
       "       'TRINO MICROSCOPIO WIFIX WF-M50XT / 50X ZOOM / CON ARO LED 144 + MANTA + BARLOW 0.7 + LENTE PROTECTOR'],\n",
       "      dtype=object)"
      ]
     },
     "execution_count": 477,
     "metadata": {},
     "output_type": "execute_result"
    }
   ],
   "execution_count": 477
  },
  {
   "metadata": {
    "ExecuteTime": {
     "end_time": "2024-12-27T16:05:37.729134Z",
     "start_time": "2024-12-27T16:05:37.581816Z"
    }
   },
   "cell_type": "code",
   "source": [
    "#ver valores con la cadena stencil\n",
    "df[df['Nombre del Producto'].str.contains('stencil', case=False)]['Nombre del Producto'].unique()"
   ],
   "id": "376ec0f1d4801be1",
   "outputs": [
    {
     "data": {
      "text/plain": [
       "array(['RELIFE STENCIL UNIVERSAL MULTIPROPOSITO',\n",
       "       'MEGA IDEA STENCIL NOTE - 8916 MT6592 CPU',\n",
       "       'RELIFE STENCIL IPHONE 7 - 7+ (A10)\\xa0',\n",
       "       'Stencil Welsolo VS01 - ANDROID BT WIFI RF UNIVERSAL'],\n",
       "      dtype=object)"
      ]
     },
     "execution_count": 478,
     "metadata": {},
     "output_type": "execute_result"
    }
   ],
   "execution_count": 478
  },
  {
   "metadata": {
    "ExecuteTime": {
     "end_time": "2024-12-27T16:05:38.128917Z",
     "start_time": "2024-12-27T16:05:37.792761Z"
    }
   },
   "cell_type": "code",
   "source": [
    "#ver valores con la cadena antiestatica\n",
    "df[df['Nombre del Producto'].str.contains('antiestatica', case=False)]['Nombre del Producto'].unique()"
   ],
   "id": "8735292f60b943c2",
   "outputs": [
    {
     "data": {
      "text/plain": [
       "array(['Pulsera Antiestatica Con Cable',\n",
       "       'PINZA BRUCELA ST-15 CURVA ANTIESTATICA Mechanic'], dtype=object)"
      ]
     },
     "execution_count": 479,
     "metadata": {},
     "output_type": "execute_result"
    }
   ],
   "execution_count": 479
  },
  {
   "metadata": {
    "ExecuteTime": {
     "end_time": "2024-12-27T16:05:38.230473Z",
     "start_time": "2024-12-27T16:05:38.149909Z"
    }
   },
   "cell_type": "code",
   "source": [
    "#ver valores con la cadena power z\n",
    "df[df['Nombre del Producto'].str.contains('power z', case=False)]['Nombre del Producto'].unique()"
   ],
   "id": "51177fc8907b7528",
   "outputs": [
    {
     "data": {
      "text/plain": [
       "array([], dtype=object)"
      ]
     },
     "execution_count": 480,
     "metadata": {},
     "output_type": "execute_result"
    }
   ],
   "execution_count": 480
  },
  {
   "metadata": {
    "ExecuteTime": {
     "end_time": "2024-12-27T16:05:38.363731Z",
     "start_time": "2024-12-27T16:05:38.298250Z"
    }
   },
   "cell_type": "code",
   "source": [
    "#ver valores con la cadena compresor\n",
    "df[df['Nombre del Producto'].str.contains('compresor', case=False)]['Nombre del Producto'].unique()"
   ],
   "id": "dc34e6566b4f17a",
   "outputs": [
    {
     "data": {
      "text/plain": [
       "array([], dtype=object)"
      ]
     },
     "execution_count": 481,
     "metadata": {},
     "output_type": "execute_result"
    }
   ],
   "execution_count": 481
  },
  {
   "metadata": {
    "ExecuteTime": {
     "end_time": "2024-12-27T16:05:38.516470Z",
     "start_time": "2024-12-27T16:05:38.408245Z"
    }
   },
   "cell_type": "code",
   "source": [
    "#ver valores con la cadena estacion\n",
    "df[df['Nombre del Producto'].str.contains('estacion', case=False)]['Nombre del Producto'].unique()"
   ],
   "id": "1e30596935293dc7",
   "outputs": [
    {
     "data": {
      "text/plain": [
       "array(['Estacion De Soldado Lapiz Cautin Con Regulador 936D+ 400 Grados 60W',\n",
       "       'Punta Para Estacion Soldado T12 J02 (curva)',\n",
       "       'ESTACION DE SOLDADO CON PISTOLA DE AIRE 2 EN 1 HK-8506D Mechanic',\n",
       "       'ESTACION DE SOLDADO AIRE + CAUTIN QUICK 715',\n",
       "       'ESTACION DE SOLDADO AIRE MECHANIC 861DW PRO',\n",
       "       'ESTACION DE SOLDADO Cautin QUICKO T12-952',\n",
       "       'Estacion De Soldado Mechanic T210 SOL 05647',\n",
       "       'Punta Para Estacion Soldado T12 - ILS (recta larga)'],\n",
       "      dtype=object)"
      ]
     },
     "execution_count": 482,
     "metadata": {},
     "output_type": "execute_result"
    }
   ],
   "execution_count": 482
  },
  {
   "metadata": {
    "ExecuteTime": {
     "end_time": "2024-12-27T16:05:38.688872Z",
     "start_time": "2024-12-27T16:05:38.579897Z"
    }
   },
   "cell_type": "code",
   "source": [
    "#ver valores con la cadena holder universal\n",
    "df[df['Nombre del Producto'].str.contains('holder universal', case=False)]['Nombre del Producto'].unique()"
   ],
   "id": "c5aad508b6c7e7f0",
   "outputs": [
    {
     "data": {
      "text/plain": [
       "array(['HOLDER UNIVERSAL WL (colores varios) SOPORTE DE PLACAS\\xa0'],\n",
       "      dtype=object)"
      ]
     },
     "execution_count": 483,
     "metadata": {},
     "output_type": "execute_result"
    }
   ],
   "execution_count": 483
  },
  {
   "metadata": {
    "ExecuteTime": {
     "end_time": "2024-12-27T16:05:38.830688Z",
     "start_time": "2024-12-27T16:05:38.758370Z"
    }
   },
   "cell_type": "code",
   "source": [
    "#ver valores con la cadena reparador de bateria\n",
    "df[df['Nombre del Producto'].str.contains('reparador de bateria', case=False)]['Nombre del Producto'].unique()"
   ],
   "id": "4811db28f8295013",
   "outputs": [
    {
     "data": {
      "text/plain": [
       "array([], dtype=object)"
      ]
     },
     "execution_count": 484,
     "metadata": {},
     "output_type": "execute_result"
    }
   ],
   "execution_count": 484
  },
  {
   "metadata": {
    "ExecuteTime": {
     "end_time": "2024-12-27T16:05:38.955100Z",
     "start_time": "2024-12-27T16:05:38.899647Z"
    }
   },
   "cell_type": "code",
   "source": [
    "#ver valores con la cadena autoclave\n",
    "df[df['Nombre del Producto'].str.contains('autoclave', case=False)]['Nombre del Producto'].unique()"
   ],
   "id": "97212077956fe62b",
   "outputs": [
    {
     "data": {
      "text/plain": [
       "array([], dtype=object)"
      ]
     },
     "execution_count": 485,
     "metadata": {},
     "output_type": "execute_result"
    }
   ],
   "execution_count": 485
  },
  {
   "metadata": {
    "ExecuteTime": {
     "end_time": "2024-12-27T16:05:39.082612Z",
     "start_time": "2024-12-27T16:05:39.019343Z"
    }
   },
   "cell_type": "code",
   "source": [
    "#ver valores con la cadena isocket\n",
    "df[df['Nombre del Producto'].str.contains('isocket', case=False)]['Nombre del Producto'].unique()"
   ],
   "id": "62b0ee5b5276dd76",
   "outputs": [
    {
     "data": {
      "text/plain": [
       "array([], dtype=object)"
      ]
     },
     "execution_count": 486,
     "metadata": {},
     "output_type": "execute_result"
    }
   ],
   "execution_count": 486
  },
  {
   "metadata": {
    "ExecuteTime": {
     "end_time": "2024-12-27T16:05:39.299727Z",
     "start_time": "2024-12-27T16:05:39.150723Z"
    }
   },
   "cell_type": "code",
   "source": [
    "#ver valores con la cadena curado\n",
    "df[df['Nombre del Producto'].str.contains('curado', case=False)]['Nombre del Producto'].unique()"
   ],
   "id": "b428498b19c579b0",
   "outputs": [
    {
     "data": {
      "text/plain": [
       "array(['LAMPARA CURADO UV Con Extractor Mc18 MECHANIC',\n",
       "       'LAMPARA CURADO UV Q1 MECHANIC', 'LAMPARA CURADO UV Q2 MECHANIC'],\n",
       "      dtype=object)"
      ]
     },
     "execution_count": 487,
     "metadata": {},
     "output_type": "execute_result"
    }
   ],
   "execution_count": 487
  },
  {
   "metadata": {
    "ExecuteTime": {
     "end_time": "2024-12-27T16:05:39.445858Z",
     "start_time": "2024-12-27T16:05:39.326823Z"
    }
   },
   "cell_type": "code",
   "source": [
    "#ver valores con la cadena precalentadora\n",
    "df[df['Nombre del Producto'].str.contains('precalentadora', case=False)]['Nombre del Producto'].unique()"
   ],
   "id": "87adf4f21c013e0d",
   "outputs": [
    {
     "data": {
      "text/plain": [
       "array([], dtype=object)"
      ]
     },
     "execution_count": 488,
     "metadata": {},
     "output_type": "execute_result"
    }
   ],
   "execution_count": 488
  },
  {
   "metadata": {
    "ExecuteTime": {
     "end_time": "2024-12-27T16:05:39.571587Z",
     "start_time": "2024-12-27T16:05:39.507937Z"
    }
   },
   "cell_type": "code",
   "source": [
    "#ver valores con la cadena quitar\n",
    "df[df['Nombre del Producto'].str.contains('quitar', case=False)]['Nombre del Producto'].unique()"
   ],
   "id": "ec561b74fe7253d4",
   "outputs": [
    {
     "data": {
      "text/plain": [
       "array(['PEN PARA QUITAR TAPAS IPHONE - RL066'], dtype=object)"
      ]
     },
     "execution_count": 489,
     "metadata": {},
     "output_type": "execute_result"
    }
   ],
   "execution_count": 489
  },
  {
   "metadata": {
    "ExecuteTime": {
     "end_time": "2024-12-27T16:05:39.721769Z",
     "start_time": "2024-12-27T16:05:39.713356Z"
    }
   },
   "cell_type": "code",
   "source": [
    "#ver valores con la cadena ultrasonido\n",
    "df[df['Nombre del Producto'].str.contains('ultrasonido', case=False)]['Nombre del Producto'].unique()"
   ],
   "id": "fa32d39059fa3d9f",
   "outputs": [
    {
     "data": {
      "text/plain": [
       "array(['Batea Cubeta Ultrasonido 30W YX-3030 Yaxun',\n",
       "       'Batea Ultrasonido Yaxun Yx-3060'], dtype=object)"
      ]
     },
     "execution_count": 490,
     "metadata": {},
     "output_type": "execute_result"
    }
   ],
   "execution_count": 490
  },
  {
   "metadata": {
    "ExecuteTime": {
     "end_time": "2024-12-27T16:05:39.855982Z",
     "start_time": "2024-12-27T16:05:39.820377Z"
    }
   },
   "cell_type": "code",
   "source": [
    "#ver valores con la cadena soldado\n",
    "df[df['Nombre del Producto'].str.contains('soldado', case=False)]['Nombre del Producto'].unique()"
   ],
   "id": "75aef1a6e78fefdb",
   "outputs": [
    {
     "data": {
      "text/plain": [
       "array(['SERVICIO TECNICO SECADO Y RESOLDADO',\n",
       "       'PUNTA DE SOLDADOR MECHANIC BLACK 900M-T-IS 8348',\n",
       "       'Punta Para Estación Soldado T12 KU (cuchilla fina)',\n",
       "       'Soldador De 40w Punta De Ceramica ZD-40 Megalite',\n",
       "       'Desoldador A Piston Chupador De Estaño Metalico',\n",
       "       'Estacion De Soldado Lapiz Cautin Con Regulador 936D+ 400 Grados 60W',\n",
       "       'PUNTA DE SOLDADOR MECHANIC 900M-T-FS 8341',\n",
       "       'Punta Para Estacion Soldado T12 J02 (curva)',\n",
       "       'ESTACION DE SOLDADO CON PISTOLA DE AIRE 2 EN 1 HK-8506D Mechanic',\n",
       "       'ESTACION DE SOLDADO AIRE + CAUTIN QUICK 715',\n",
       "       'ESTACION DE SOLDADO AIRE MECHANIC 861DW PRO',\n",
       "       'ESTACION DE SOLDADO Cautin QUICKO T12-952',\n",
       "       'Estacion De Soldado Mechanic T210 SOL 05647',\n",
       "       'PUNTA DE SOLDADOR MECHANIC GOLD 900M-T-IS 8352',\n",
       "       'Punta Para Estacion Soldado T12 - ILS (recta larga)'],\n",
       "      dtype=object)"
      ]
     },
     "execution_count": 491,
     "metadata": {},
     "output_type": "execute_result"
    }
   ],
   "execution_count": 491
  },
  {
   "metadata": {
    "ExecuteTime": {
     "end_time": "2024-12-27T16:05:40.013584Z",
     "start_time": "2024-12-27T16:05:39.995668Z"
    }
   },
   "cell_type": "code",
   "source": [
    "#ver valores con la cadena cpu holder\n",
    "df[df['Nombre del Producto'].str.contains('cpu holder', case=False)]['Nombre del Producto'].unique()"
   ],
   "id": "dfbc063d6d672538",
   "outputs": [
    {
     "data": {
      "text/plain": [
       "array([], dtype=object)"
      ]
     },
     "execution_count": 492,
     "metadata": {},
     "output_type": "execute_result"
    }
   ],
   "execution_count": 492
  },
  {
   "metadata": {
    "ExecuteTime": {
     "end_time": "2024-12-27T16:05:40.149914Z",
     "start_time": "2024-12-27T16:05:40.141169Z"
    }
   },
   "cell_type": "code",
   "source": [
    "#ver valores con la cadena lupa\n",
    "df[df['Nombre del Producto'].str.contains('lupa', case=False)]['Nombre del Producto'].unique()"
   ],
   "id": "7e45cc7e770d5466",
   "outputs": [
    {
     "data": {
      "text/plain": [
       "array(['SOPORTE CON LUPA Y LUZ LED TE800 EC01039'], dtype=object)"
      ]
     },
     "execution_count": 493,
     "metadata": {},
     "output_type": "execute_result"
    }
   ],
   "execution_count": 493
  },
  {
   "metadata": {
    "ExecuteTime": {
     "end_time": "2024-12-27T16:05:40.300479Z",
     "start_time": "2024-12-27T16:05:40.259626Z"
    }
   },
   "cell_type": "code",
   "source": [
    "#agregar en la columna 'Categoria'  la cadena 'Herramienta' en cada fila si los valores  de la columna 'Nombre de Producto' tienen estrictamente las siguientes dos cadenas: fuente y sunshine\n",
    "df['Categoria'] = np.where((df['Nombre del Producto'].str.contains('fuente', case=False)) & (df['Nombre del Producto'].str.contains('sunshine', case=False)), 'Herramienta', df['Categoria'])"
   ],
   "id": "31f47d2fb061053f",
   "outputs": [],
   "execution_count": 494
  },
  {
   "metadata": {
    "ExecuteTime": {
     "end_time": "2024-12-27T16:05:40.544389Z",
     "start_time": "2024-12-27T16:05:40.390790Z"
    }
   },
   "cell_type": "code",
   "source": [
    "#añadir en la columna categoria la cadena 'Herramienta' en cada fila si los valores de la columna 'Nombre del Producto' tienen las siguientes cadenas: pegamento, desoldante, pasta, flux, alcohol, resina, caja, pinza, palito, cuchilla, mango, paño, cinta, punta, organizador, holder basico, caja, localizador, desoldante, alicate, destornillador, tester, estaño, sopapa, cepillo, hilo, removedor, pua, flux, plancha, lampara uv, limpia contactos, activador, espatula, grasa, cocodrilo, pulpo, manta, termico, termica, protector, cortadora, spudger, espuma, goma, jeringa, pistola, stencil, gasa, precalentadora, gel, multimetro, microscopio, lubrimatic, alicate, drill, test, fuente, sunshine, cable digital, glue remove, soporte relife, korad, face id, wuzip, gavetero, sulfato, barlow, antiestatica, power z, compresor, estacion, holder universal, reparador de bateria, autoclave, isocket, curado, precalentadora, quitar, ultrasonido, soldado, cpu holder, lupa. Y que no tengan las siguientes cadenas : consola, cargador motorola, auriculares, malla cuero, mouse pad\n",
    "df['Categoria'] = np.where(df['Nombre del Producto'].str.contains('pegamento|desoldante|pasta|flux|alcohol|resina|caja|pinza|palito|cuchilla|mango|paño|cinta|punta|organizador|holder basico|caja|localizador|desoldante|alicate|destornillador|tester|estaño|sopapa|cepillo|hilo|removedor|pua|flux|plancha|lampara uv|limpia contactos|activador|espatula|grasa|cocodrilo|pulpo|manta|termico|termica|protector|cortadora|spudger|espuma|goma|jeringa|pistola|stencil|gasa|precalentadora|gel|multimetro|microscopio|lubrimatic|alicate|drill|test|fuente|sunshine|cable digital|glue remove|soporte relife|korad|face id|wuzip|gavetero|sulfato|barlow|antiestatica|power z|compresor|estacion|holder universal|reparador de bateria|autoclave|isocket|curado|precalentadora|quitar|ultrasonido|soldado|cpu holder|lupa|lamina', case=False) & ~df['Nombre del Producto'].str.contains('consola|cargador motorola|auriculares|malla cuero|mouse pad|botella plastica', case=False), 'Herramienta', df['Categoria'])"
   ],
   "id": "2f230a6ef7eb2d03",
   "outputs": [],
   "execution_count": 495
  },
  {
   "metadata": {
    "ExecuteTime": {
     "end_time": "2024-12-27T16:05:40.899983Z",
     "start_time": "2024-12-27T16:05:40.569566Z"
    }
   },
   "cell_type": "code",
   "source": [
    "#ver en la columna categoria cantidad de valores\n",
    "df['Categoria'].value_counts()"
   ],
   "id": "619d492c8bf4a502",
   "outputs": [
    {
     "data": {
      "text/plain": [
       "Categoria\n",
       "Herramienta                                                    212\n",
       "Modulo                                                         125\n",
       "Bateria                                                        115\n",
       "Auricular                                                      102\n",
       "Vidrio Glass                                                    96\n",
       "                                                              ... \n",
       "EXTENSOR / REPETIDOR KANJI KJN-RP4200A                           1\n",
       "EXTENSOR DE RANGO Tp-Link Re200 Dual Band 2.4Ghz 5Ghz Ac750      1\n",
       "FILM MEMBRANA CONDUCTOR JOYSTICK PS4 JDM-040                     1\n",
       "FLEX INTERCONEXION MOTO G9 POWER                                 1\n",
       "LENTE CAMARA IPHONE 11 PRO                                       1\n",
       "Name: count, Length: 224, dtype: int64"
      ]
     },
     "execution_count": 496,
     "metadata": {},
     "output_type": "execute_result"
    }
   ],
   "execution_count": 496
  },
  {
   "metadata": {
    "ExecuteTime": {
     "end_time": "2024-12-27T16:05:41.190525Z",
     "start_time": "2024-12-27T16:05:40.970577Z"
    }
   },
   "cell_type": "code",
   "source": [
    "#ver valores con la cadena impresora\n",
    "df[df['Nombre del Producto'].str.contains('impresora', case=False)]['Nombre del Producto'].unique()"
   ],
   "id": "fe0fe31edf785d72",
   "outputs": [
    {
     "data": {
      "text/plain": [
       "array(['Cable Impresora USB A/B 2Mts NOGA SM-1039',\n",
       "       'Cable Impresora USB A/B 3Mts NOGA TR-1005',\n",
       "       'Cable Impresora USB 2.0 A macho B macho 1.8Mtrs Netmak NM-C03 1.8',\n",
       "       'Impresora Termica POS 80mm Ancho de Impresion - USB2.0+RJ11-203dpi - 100mm/s - Global TP-POS80-USB'],\n",
       "      dtype=object)"
      ]
     },
     "execution_count": 497,
     "metadata": {},
     "output_type": "execute_result"
    }
   ],
   "execution_count": 497
  },
  {
   "metadata": {
    "ExecuteTime": {
     "end_time": "2024-12-27T16:05:41.587783Z",
     "start_time": "2024-12-27T16:05:41.575118Z"
    }
   },
   "cell_type": "code",
   "source": [
    "#agregar en la columna 'Categoria'  la cadena 'Impresora' en cada fila si los valores  de la columna 'Nombre de Producto' tienen la cadena 'Impresora' en su nombre y no tiene las siguientes cadenas: cable\n",
    "df['Categoria'] = np.where(df['Nombre del Producto'].str.contains('impresora', case=False) & ~df['Nombre del Producto'].str.contains('cable', case=False), 'Impresora', df['Categoria'])"
   ],
   "id": "ceccca0191ba0c60",
   "outputs": [],
   "execution_count": 498
  },
  {
   "metadata": {
    "ExecuteTime": {
     "end_time": "2024-12-27T16:05:41.788814Z",
     "start_time": "2024-12-27T16:05:41.779686Z"
    }
   },
   "cell_type": "code",
   "source": [
    "#ver valores con la cadena armonica\n",
    "df[df['Nombre del Producto'].str.contains('armonica', case=False)]['Nombre del Producto'].unique()"
   ],
   "id": "a1a3a2f2f33a3255",
   "outputs": [
    {
     "data": {
      "text/plain": [
       "array([], dtype=object)"
      ]
     },
     "execution_count": 499,
     "metadata": {},
     "output_type": "execute_result"
    }
   ],
   "execution_count": 499
  },
  {
   "metadata": {
    "ExecuteTime": {
     "end_time": "2024-12-27T16:05:41.961371Z",
     "start_time": "2024-12-27T16:05:41.879178Z"
    }
   },
   "cell_type": "code",
   "source": [
    "#agregar en la columna 'Categoria'  la cadena 'Instrumento Musical' en cada fila si los valores  de la columna 'Nombre de Producto' tienen la cadena 'Armonica' en su nombre\n",
    "df['Categoria'] = np.where(df['Nombre del Producto'].str.contains('armonica', case=False), 'Instrumento Musical', df['Categoria'])"
   ],
   "id": "42f123d0661a9b4e",
   "outputs": [],
   "execution_count": 500
  },
  {
   "metadata": {
    "ExecuteTime": {
     "end_time": "2024-12-27T16:05:42.238409Z",
     "start_time": "2024-12-27T16:05:42.133852Z"
    }
   },
   "cell_type": "code",
   "source": [
    "#ver filas con la cadena joystick y que en su columna categoria el valor sea distinto de joystick\n",
    "df[(df['Nombre del Producto'].str.contains('joystick', case=False)) & (df['Categoria'] != 'Joystick')]"
   ],
   "id": "db475a0d55b78028",
   "outputs": [
    {
     "data": {
      "text/plain": [
       "         Código                                Nombre del Producto  Cantidad  \\\n",
       "166       C6239  Joystick Bluetooth Con Soporte para Celular Se...       8.0   \n",
       "354      CO6263         ANALOGO JOYSTICK REPUESTO PS4 PS5 XBOX ONE       4.0   \n",
       "640       CO126  Analogico Nintendo Switch Joy-Con Joystick Rep...       2.0   \n",
       "705      CO1084    Consola 400 EN 1 Con JOYSTICK 400 Juegos co1084       2.0   \n",
       "723       C6253       FILM MEMBRANA CONDUCTOR JOYSTICK PS4 JDM-040       2.0   \n",
       "1066    CO11261  CONSOLA 8 BITS CON JOYSTICK Y 800 JUEGOS QF-G4...       1.0   \n",
       "1100     CO6243  Consola Alien 16bits HDMI + 2 joysticks inalam...       1.0   \n",
       "1102   CO629061  Consola Xbox Series S 512gb Blanca Fornite Roc...       1.0   \n",
       "1176      C6224  JOYSTICK Inalambrico Recargable AITECH C6 con ...       1.0   \n",
       "1441  CO1129546      SOPORTE DE CARGADOR PARA PS5 JOYSTICK SND-463       1.0   \n",
       "1540    CO11271           CONSOLA G7 GAME BOX 3.5 PLG CON JOYSTICK       0.0   \n",
       "\n",
       "      Costo total       Ganancia  Ganancia prom. %  Venta total  \\\n",
       "166         72.71  153419.688196      2.110130e+05    153500.00   \n",
       "354          9.28  144988.756393      1.580990e+11    146725.50   \n",
       "640          9.24   59988.817169      6.492510e+05     60000.00   \n",
       "705         29.00   43964.910000      1.516240e+05     44000.00   \n",
       "723          5.48   14993.372294      2.736230e+05     15000.00   \n",
       "1066        21.00   38474.590000      1.832330e+05     38500.00   \n",
       "1100        34.53   53961.844350      1.562860e+05     54000.00   \n",
       "1102       583.00  880199.570000      1.509990e+05    880905.00   \n",
       "1176         3.77  164995.441781      4.376560e+11    165000.00   \n",
       "1441         9.27   16592.533300      1.790130e+05     16603.75   \n",
       "1540         0.00       0.000000               NaN         0.00   \n",
       "\n",
       "                                              Categoria  \n",
       "166   Joystick Bluetooth Con Soporte para Celular Se...  \n",
       "354          ANALOGO JOYSTICK REPUESTO PS4 PS5 XBOX ONE  \n",
       "640   Analogico Nintendo Switch Joy-Con Joystick Rep...  \n",
       "705                                             Consola  \n",
       "723        FILM MEMBRANA CONDUCTOR JOYSTICK PS4 JDM-040  \n",
       "1066                                            Consola  \n",
       "1100                                            Consola  \n",
       "1102                                            Consola  \n",
       "1176  JOYSTICK Inalambrico Recargable AITECH C6 con ...  \n",
       "1441      SOPORTE DE CARGADOR PARA PS5 JOYSTICK SND-463  \n",
       "1540                                            Consola  "
      ],
      "text/html": [
       "<div>\n",
       "<style scoped>\n",
       "    .dataframe tbody tr th:only-of-type {\n",
       "        vertical-align: middle;\n",
       "    }\n",
       "\n",
       "    .dataframe tbody tr th {\n",
       "        vertical-align: top;\n",
       "    }\n",
       "\n",
       "    .dataframe thead th {\n",
       "        text-align: right;\n",
       "    }\n",
       "</style>\n",
       "<table border=\"1\" class=\"dataframe\">\n",
       "  <thead>\n",
       "    <tr style=\"text-align: right;\">\n",
       "      <th></th>\n",
       "      <th>Código</th>\n",
       "      <th>Nombre del Producto</th>\n",
       "      <th>Cantidad</th>\n",
       "      <th>Costo total</th>\n",
       "      <th>Ganancia</th>\n",
       "      <th>Ganancia prom. %</th>\n",
       "      <th>Venta total</th>\n",
       "      <th>Categoria</th>\n",
       "    </tr>\n",
       "  </thead>\n",
       "  <tbody>\n",
       "    <tr>\n",
       "      <th>166</th>\n",
       "      <td>C6239</td>\n",
       "      <td>Joystick Bluetooth Con Soporte para Celular Se...</td>\n",
       "      <td>8.0</td>\n",
       "      <td>72.71</td>\n",
       "      <td>153419.688196</td>\n",
       "      <td>2.110130e+05</td>\n",
       "      <td>153500.00</td>\n",
       "      <td>Joystick Bluetooth Con Soporte para Celular Se...</td>\n",
       "    </tr>\n",
       "    <tr>\n",
       "      <th>354</th>\n",
       "      <td>CO6263</td>\n",
       "      <td>ANALOGO JOYSTICK REPUESTO PS4 PS5 XBOX ONE</td>\n",
       "      <td>4.0</td>\n",
       "      <td>9.28</td>\n",
       "      <td>144988.756393</td>\n",
       "      <td>1.580990e+11</td>\n",
       "      <td>146725.50</td>\n",
       "      <td>ANALOGO JOYSTICK REPUESTO PS4 PS5 XBOX ONE</td>\n",
       "    </tr>\n",
       "    <tr>\n",
       "      <th>640</th>\n",
       "      <td>CO126</td>\n",
       "      <td>Analogico Nintendo Switch Joy-Con Joystick Rep...</td>\n",
       "      <td>2.0</td>\n",
       "      <td>9.24</td>\n",
       "      <td>59988.817169</td>\n",
       "      <td>6.492510e+05</td>\n",
       "      <td>60000.00</td>\n",
       "      <td>Analogico Nintendo Switch Joy-Con Joystick Rep...</td>\n",
       "    </tr>\n",
       "    <tr>\n",
       "      <th>705</th>\n",
       "      <td>CO1084</td>\n",
       "      <td>Consola 400 EN 1 Con JOYSTICK 400 Juegos co1084</td>\n",
       "      <td>2.0</td>\n",
       "      <td>29.00</td>\n",
       "      <td>43964.910000</td>\n",
       "      <td>1.516240e+05</td>\n",
       "      <td>44000.00</td>\n",
       "      <td>Consola</td>\n",
       "    </tr>\n",
       "    <tr>\n",
       "      <th>723</th>\n",
       "      <td>C6253</td>\n",
       "      <td>FILM MEMBRANA CONDUCTOR JOYSTICK PS4 JDM-040</td>\n",
       "      <td>2.0</td>\n",
       "      <td>5.48</td>\n",
       "      <td>14993.372294</td>\n",
       "      <td>2.736230e+05</td>\n",
       "      <td>15000.00</td>\n",
       "      <td>FILM MEMBRANA CONDUCTOR JOYSTICK PS4 JDM-040</td>\n",
       "    </tr>\n",
       "    <tr>\n",
       "      <th>1066</th>\n",
       "      <td>CO11261</td>\n",
       "      <td>CONSOLA 8 BITS CON JOYSTICK Y 800 JUEGOS QF-G4...</td>\n",
       "      <td>1.0</td>\n",
       "      <td>21.00</td>\n",
       "      <td>38474.590000</td>\n",
       "      <td>1.832330e+05</td>\n",
       "      <td>38500.00</td>\n",
       "      <td>Consola</td>\n",
       "    </tr>\n",
       "    <tr>\n",
       "      <th>1100</th>\n",
       "      <td>CO6243</td>\n",
       "      <td>Consola Alien 16bits HDMI + 2 joysticks inalam...</td>\n",
       "      <td>1.0</td>\n",
       "      <td>34.53</td>\n",
       "      <td>53961.844350</td>\n",
       "      <td>1.562860e+05</td>\n",
       "      <td>54000.00</td>\n",
       "      <td>Consola</td>\n",
       "    </tr>\n",
       "    <tr>\n",
       "      <th>1102</th>\n",
       "      <td>CO629061</td>\n",
       "      <td>Consola Xbox Series S 512gb Blanca Fornite Roc...</td>\n",
       "      <td>1.0</td>\n",
       "      <td>583.00</td>\n",
       "      <td>880199.570000</td>\n",
       "      <td>1.509990e+05</td>\n",
       "      <td>880905.00</td>\n",
       "      <td>Consola</td>\n",
       "    </tr>\n",
       "    <tr>\n",
       "      <th>1176</th>\n",
       "      <td>C6224</td>\n",
       "      <td>JOYSTICK Inalambrico Recargable AITECH C6 con ...</td>\n",
       "      <td>1.0</td>\n",
       "      <td>3.77</td>\n",
       "      <td>164995.441781</td>\n",
       "      <td>4.376560e+11</td>\n",
       "      <td>165000.00</td>\n",
       "      <td>JOYSTICK Inalambrico Recargable AITECH C6 con ...</td>\n",
       "    </tr>\n",
       "    <tr>\n",
       "      <th>1441</th>\n",
       "      <td>CO1129546</td>\n",
       "      <td>SOPORTE DE CARGADOR PARA PS5 JOYSTICK SND-463</td>\n",
       "      <td>1.0</td>\n",
       "      <td>9.27</td>\n",
       "      <td>16592.533300</td>\n",
       "      <td>1.790130e+05</td>\n",
       "      <td>16603.75</td>\n",
       "      <td>SOPORTE DE CARGADOR PARA PS5 JOYSTICK SND-463</td>\n",
       "    </tr>\n",
       "    <tr>\n",
       "      <th>1540</th>\n",
       "      <td>CO11271</td>\n",
       "      <td>CONSOLA G7 GAME BOX 3.5 PLG CON JOYSTICK</td>\n",
       "      <td>0.0</td>\n",
       "      <td>0.00</td>\n",
       "      <td>0.000000</td>\n",
       "      <td>NaN</td>\n",
       "      <td>0.00</td>\n",
       "      <td>Consola</td>\n",
       "    </tr>\n",
       "  </tbody>\n",
       "</table>\n",
       "</div>"
      ]
     },
     "execution_count": 501,
     "metadata": {},
     "output_type": "execute_result"
    }
   ],
   "execution_count": 501
  },
  {
   "metadata": {
    "ExecuteTime": {
     "end_time": "2024-12-27T16:05:42.436375Z",
     "start_time": "2024-12-27T16:05:42.407516Z"
    }
   },
   "cell_type": "code",
   "source": [
    "#agregar en la columna categoria la cadena 'Joystick' en cada fila si los valores de la columna Código con valor C6239, CO11271\n",
    "df['Categoria'] = np.where(df['Código'].str.contains('C6239|C6224', case=False), 'Joystick', df['Categoria'])\n",
    "\n"
   ],
   "id": "6251c002cb838090",
   "outputs": [],
   "execution_count": 502
  },
  {
   "metadata": {
    "ExecuteTime": {
     "end_time": "2024-12-27T16:05:42.625613Z",
     "start_time": "2024-12-27T16:05:42.603775Z"
    }
   },
   "cell_type": "code",
   "source": [
    "#ver producto con codigo C6239\n",
    "df[df['Código'] == 'C6239']"
   ],
   "id": "f743fb844c6af21e",
   "outputs": [
    {
     "data": {
      "text/plain": [
       "    Código                                Nombre del Producto  Cantidad  \\\n",
       "166  C6239  Joystick Bluetooth Con Soporte para Celular Se...       8.0   \n",
       "\n",
       "     Costo total       Ganancia  Ganancia prom. %  Venta total Categoria  \n",
       "166        72.71  153419.688196          211013.0     153500.0  Joystick  "
      ],
      "text/html": [
       "<div>\n",
       "<style scoped>\n",
       "    .dataframe tbody tr th:only-of-type {\n",
       "        vertical-align: middle;\n",
       "    }\n",
       "\n",
       "    .dataframe tbody tr th {\n",
       "        vertical-align: top;\n",
       "    }\n",
       "\n",
       "    .dataframe thead th {\n",
       "        text-align: right;\n",
       "    }\n",
       "</style>\n",
       "<table border=\"1\" class=\"dataframe\">\n",
       "  <thead>\n",
       "    <tr style=\"text-align: right;\">\n",
       "      <th></th>\n",
       "      <th>Código</th>\n",
       "      <th>Nombre del Producto</th>\n",
       "      <th>Cantidad</th>\n",
       "      <th>Costo total</th>\n",
       "      <th>Ganancia</th>\n",
       "      <th>Ganancia prom. %</th>\n",
       "      <th>Venta total</th>\n",
       "      <th>Categoria</th>\n",
       "    </tr>\n",
       "  </thead>\n",
       "  <tbody>\n",
       "    <tr>\n",
       "      <th>166</th>\n",
       "      <td>C6239</td>\n",
       "      <td>Joystick Bluetooth Con Soporte para Celular Se...</td>\n",
       "      <td>8.0</td>\n",
       "      <td>72.71</td>\n",
       "      <td>153419.688196</td>\n",
       "      <td>211013.0</td>\n",
       "      <td>153500.0</td>\n",
       "      <td>Joystick</td>\n",
       "    </tr>\n",
       "  </tbody>\n",
       "</table>\n",
       "</div>"
      ]
     },
     "execution_count": 503,
     "metadata": {},
     "output_type": "execute_result"
    }
   ],
   "execution_count": 503
  },
  {
   "metadata": {
    "ExecuteTime": {
     "end_time": "2024-12-27T16:05:43.180461Z",
     "start_time": "2024-12-27T16:05:43.171463Z"
    }
   },
   "cell_type": "code",
   "source": [
    "#ver valores con la cadena juego de memoria\n",
    "df[df['Nombre del Producto'].str.contains('juego de memoria', case=False)]['Nombre del Producto'].unique()"
   ],
   "id": "1b4b9302b0a9c948",
   "outputs": [
    {
     "data": {
      "text/plain": [
       "array([], dtype=object)"
      ]
     },
     "execution_count": 504,
     "metadata": {},
     "output_type": "execute_result"
    }
   ],
   "execution_count": 504
  },
  {
   "metadata": {
    "ExecuteTime": {
     "end_time": "2024-12-27T16:05:43.497848Z",
     "start_time": "2024-12-27T16:05:43.488275Z"
    }
   },
   "cell_type": "code",
   "source": [
    "#ver valores con la cadena teclado piano organo\n",
    "df[df['Nombre del Producto'].str.contains('teclado piano organo', case=False)]['Nombre del Producto'].unique()"
   ],
   "id": "de5cd39d7a7eb6ec",
   "outputs": [
    {
     "data": {
      "text/plain": [
       "array([], dtype=object)"
      ]
     },
     "execution_count": 505,
     "metadata": {},
     "output_type": "execute_result"
    }
   ],
   "execution_count": 505
  },
  {
   "metadata": {
    "ExecuteTime": {
     "end_time": "2024-12-27T16:05:43.795514Z",
     "start_time": "2024-12-27T16:05:43.785323Z"
    }
   },
   "cell_type": "code",
   "source": [
    "#ver valores con la cadena auto control remoto\n",
    "df[df['Nombre del Producto'].str.contains('auto control remoto', case=False)]['Nombre del Producto'].unique()"
   ],
   "id": "5bc31873ba6e0daf",
   "outputs": [
    {
     "data": {
      "text/plain": [
       "array([], dtype=object)"
      ]
     },
     "execution_count": 506,
     "metadata": {},
     "output_type": "execute_result"
    }
   ],
   "execution_count": 506
  },
  {
   "metadata": {
    "ExecuteTime": {
     "end_time": "2024-12-27T16:05:43.997783Z",
     "start_time": "2024-12-27T16:05:43.987734Z"
    }
   },
   "cell_type": "code",
   "source": [
    "#Agregar en la columna 'Categoria'  la cadena 'Juguete' en cada fila si los valores  de la columna 'Nombre de Producto' tienen la cadena 'Juego de Memoria' o 'Teclado Piano Organo' o 'Auto Control Remoto' en su nombre\n",
    "df['Categoria'] = np.where(df['Nombre del Producto'].str.contains('juego de memoria|teclado piano organo|auto control remoto', case=False), 'Juguete', df['Categoria'])"
   ],
   "id": "b40a1ff948e7f82c",
   "outputs": [],
   "execution_count": 507
  },
  {
   "metadata": {
    "ExecuteTime": {
     "end_time": "2024-12-27T16:05:44.145724Z",
     "start_time": "2024-12-27T16:05:44.102993Z"
    }
   },
   "cell_type": "code",
   "source": [
    "#VER VALORES CON LA CADENA CONTADORA DE BILLETE\n",
    "df[df['Nombre del Producto'].str.contains('contadora de billete', case=False)]['Nombre del Producto'].unique()"
   ],
   "id": "f43710281306adad",
   "outputs": [
    {
     "data": {
      "text/plain": [
       "array(['CONTADORA DE BILLETES GLOBAL CARGA SUPERIOR / VISOR DIGITAL Y EXTERNO / DETECCION DE BILLETES FALSOS - GLOBAL BILLCOUNTER-1',\n",
       "       'CONTADORA DE BILLETE NAXIDO H-302 LCD DISPLAY'], dtype=object)"
      ]
     },
     "execution_count": 508,
     "metadata": {},
     "output_type": "execute_result"
    }
   ],
   "execution_count": 508
  },
  {
   "metadata": {
    "ExecuteTime": {
     "end_time": "2024-12-27T16:05:44.314231Z",
     "start_time": "2024-12-27T16:05:44.233296Z"
    }
   },
   "cell_type": "code",
   "source": [
    "#ver filas de estos valores\n",
    "df[df['Nombre del Producto'].str.contains('contadora de billete', case=False)]"
   ],
   "id": "81799f7ce96395d5",
   "outputs": [
    {
     "data": {
      "text/plain": [
       "             Código                                Nombre del Producto  \\\n",
       "117   BILLCOUNTER-3  CONTADORA DE BILLETES GLOBAL CARGA SUPERIOR / ...   \n",
       "1069         LI1481      CONTADORA DE BILLETE NAXIDO H-302 LCD DISPLAY   \n",
       "\n",
       "      Cantidad  Costo total      Ganancia  Ganancia prom. %   Venta total  \\\n",
       "117       10.0       776.20  1.268642e+06          167544.0  1.301250e+06   \n",
       "1069       1.0        67.49  1.179254e+05          174741.0  1.180000e+05   \n",
       "\n",
       "     Categoria  \n",
       "117   Libreria  \n",
       "1069  Libreria  "
      ],
      "text/html": [
       "<div>\n",
       "<style scoped>\n",
       "    .dataframe tbody tr th:only-of-type {\n",
       "        vertical-align: middle;\n",
       "    }\n",
       "\n",
       "    .dataframe tbody tr th {\n",
       "        vertical-align: top;\n",
       "    }\n",
       "\n",
       "    .dataframe thead th {\n",
       "        text-align: right;\n",
       "    }\n",
       "</style>\n",
       "<table border=\"1\" class=\"dataframe\">\n",
       "  <thead>\n",
       "    <tr style=\"text-align: right;\">\n",
       "      <th></th>\n",
       "      <th>Código</th>\n",
       "      <th>Nombre del Producto</th>\n",
       "      <th>Cantidad</th>\n",
       "      <th>Costo total</th>\n",
       "      <th>Ganancia</th>\n",
       "      <th>Ganancia prom. %</th>\n",
       "      <th>Venta total</th>\n",
       "      <th>Categoria</th>\n",
       "    </tr>\n",
       "  </thead>\n",
       "  <tbody>\n",
       "    <tr>\n",
       "      <th>117</th>\n",
       "      <td>BILLCOUNTER-3</td>\n",
       "      <td>CONTADORA DE BILLETES GLOBAL CARGA SUPERIOR / ...</td>\n",
       "      <td>10.0</td>\n",
       "      <td>776.20</td>\n",
       "      <td>1.268642e+06</td>\n",
       "      <td>167544.0</td>\n",
       "      <td>1.301250e+06</td>\n",
       "      <td>Libreria</td>\n",
       "    </tr>\n",
       "    <tr>\n",
       "      <th>1069</th>\n",
       "      <td>LI1481</td>\n",
       "      <td>CONTADORA DE BILLETE NAXIDO H-302 LCD DISPLAY</td>\n",
       "      <td>1.0</td>\n",
       "      <td>67.49</td>\n",
       "      <td>1.179254e+05</td>\n",
       "      <td>174741.0</td>\n",
       "      <td>1.180000e+05</td>\n",
       "      <td>Libreria</td>\n",
       "    </tr>\n",
       "  </tbody>\n",
       "</table>\n",
       "</div>"
      ]
     },
     "execution_count": 509,
     "metadata": {},
     "output_type": "execute_result"
    }
   ],
   "execution_count": 509
  },
  {
   "metadata": {
    "ExecuteTime": {
     "end_time": "2024-12-27T16:05:44.545715Z",
     "start_time": "2024-12-27T16:05:44.430781Z"
    }
   },
   "cell_type": "code",
   "source": [
    "#ver vantidad de valores en cada fila\n",
    "df['Categoria'].value_counts()"
   ],
   "id": "9cdc692eb954cee3",
   "outputs": [
    {
     "data": {
      "text/plain": [
       "Categoria\n",
       "Herramienta                                                    211\n",
       "Modulo                                                         125\n",
       "Bateria                                                        115\n",
       "Auricular                                                      102\n",
       "Vidrio Glass                                                    96\n",
       "                                                              ... \n",
       "Camara Web 1080p USB Con Microfono C007                          1\n",
       "Camara wifi Ezviz interior inteligente - C6N 1080p               1\n",
       "EXTENSOR / REPETIDOR KANJI KJN-RP4200A                           1\n",
       "EXTENSOR DE RANGO Tp-Link Re200 Dual Band 2.4Ghz 5Ghz Ac750      1\n",
       "Pendrive Kingston DataTraveler SE9 DTSE9H 32GB 2.0 plateado      1\n",
       "Name: count, Length: 221, dtype: int64"
      ]
     },
     "execution_count": 510,
     "metadata": {},
     "output_type": "execute_result"
    }
   ],
   "execution_count": 510
  },
  {
   "metadata": {
    "ExecuteTime": {
     "end_time": "2024-12-27T16:05:44.949797Z",
     "start_time": "2024-12-27T16:05:44.934967Z"
    }
   },
   "cell_type": "code",
   "source": [
    "#ver valores con la cadena chip\n",
    "df[df['Nombre del Producto'].str.contains('chip', case=False)]['Nombre del Producto'].unique()"
   ],
   "id": "a07816ec8910b573",
   "outputs": [
    {
     "data": {
      "text/plain": [
       "array(['CHIP PERSONAL', 'CHIP CLARO'], dtype=object)"
      ]
     },
     "execution_count": 511,
     "metadata": {},
     "output_type": "execute_result"
    }
   ],
   "execution_count": 511
  },
  {
   "metadata": {
    "ExecuteTime": {
     "end_time": "2024-12-27T16:05:45.250543Z",
     "start_time": "2024-12-27T16:05:45.241136Z"
    }
   },
   "cell_type": "code",
   "source": [
    "#agregar en la columna 'Categoria'  la cadena 'Chip' en cada fila si los valores  de la columna 'Nombre de Producto' tienen la cadena 'Chip' en su nombre\n",
    "df['Categoria'] = np.where(df['Nombre del Producto'].str.contains('chip', case=False), 'Chip', df['Categoria'])"
   ],
   "id": "6a2ebb40d57cfb13",
   "outputs": [],
   "execution_count": 512
  },
  {
   "metadata": {
    "ExecuteTime": {
     "end_time": "2024-12-27T16:05:45.930735Z",
     "start_time": "2024-12-27T16:05:45.904460Z"
    }
   },
   "cell_type": "code",
   "source": [
    "#ver valores que tengna estrictamente la cadena flex en su nombre\n",
    "df[df['Nombre del Producto'].str.lower().str.startswith('flex', na=False)]"
   ],
   "id": "6a03355261d14c99",
   "outputs": [
    {
     "data": {
      "text/plain": [
       "     Código                                Nombre del Producto  Cantidad  \\\n",
       "390    F393                   FLEX INTERCONEXION SAM A50 NO. 2       4.0   \n",
       "507    FC03                      FLEX DE CARGA IPHONE 6S WHITE       3.0   \n",
       "508    FC42            FLEX DE CARGA IPHONE 8 PLUS WHITE/BLACK       3.0   \n",
       "509    F404                     FLEX INTERCONEXION SAMSUNG A52       3.0   \n",
       "724    F403                   FLEX INTERCONEXION MOTO G9 POWER       2.0   \n",
       "725    F401  FLEX INTERCONEXION SAM A22 4G - A225 / A32 - A325       2.0   \n",
       "726    F400                        FLEX INTERCONEXION SAM A30S       2.0   \n",
       "729   RB116                     Flex Power Huella Samsung A12        2.0   \n",
       "730   RB117                      Flex Power Huella Samsung A13       2.0   \n",
       "731   RB123                      Flex Power y Volumen Moto G22       2.0   \n",
       "1139   FC11                  FLEX DE CARGA IPHONE 7 PLUS WHITE       1.0   \n",
       "1140  FV165                     FLEX DE ENCENDIDO MOTO E6 PLUS       1.0   \n",
       "1141  FV164                FLEX DE ENCENDIDO Y VOLUMEN SAM A10       1.0   \n",
       "1142   F392                         FLEX INTERCONEXION SAM A31       1.0   \n",
       "1143   F405                     FLEX INTERCONEXION SAMSUNG A33       1.0   \n",
       "1144  FV127                      FLEX JACK / MIC  SAMSUNG J400       1.0   \n",
       "\n",
       "      Costo total      Ganancia  Ganancia prom. %  Venta total  \\\n",
       "390          8.96  19889.170113      2.219980e+05      19900.0   \n",
       "507          8.48  16989.744007      2.003720e+05      17000.0   \n",
       "508         18.84  26979.186644      1.432120e+05      27000.0   \n",
       "509          6.72  14891.868800      2.216260e+05      14900.0   \n",
       "724          4.48   9994.579200      2.231140e+05      10000.0   \n",
       "725          4.48   9894.579200      2.208820e+05       9900.0   \n",
       "726          1.89   6997.707078      3.702700e+05       7000.0   \n",
       "729          4.86  10994.119400      2.262370e+05      11000.0   \n",
       "730          4.86  10894.119400      2.241800e+05      10900.0   \n",
       "731          2.88   6396.515200      2.221220e+05       6400.0   \n",
       "1139         6.28   8993.062215      1.432120e+05       9000.0   \n",
       "1140         1.07   2998.708505      2.802740e+05       3000.0   \n",
       "1141         0.25   1499.696119      5.999000e+05       1500.0   \n",
       "1142         1.26  14998.480594      1.190380e+11      15000.0   \n",
       "1143         2.24   4997.289600      2.231140e+05       5000.0   \n",
       "1144         0.17   1799.792808      1.058720e+11       1800.0   \n",
       "\n",
       "                                              Categoria  \n",
       "390                    FLEX INTERCONEXION SAM A50 NO. 2  \n",
       "507                       FLEX DE CARGA IPHONE 6S WHITE  \n",
       "508             FLEX DE CARGA IPHONE 8 PLUS WHITE/BLACK  \n",
       "509                      FLEX INTERCONEXION SAMSUNG A52  \n",
       "724                    FLEX INTERCONEXION MOTO G9 POWER  \n",
       "725   FLEX INTERCONEXION SAM A22 4G - A225 / A32 - A325  \n",
       "726                         FLEX INTERCONEXION SAM A30S  \n",
       "729                      Flex Power Huella Samsung A12   \n",
       "730                       Flex Power Huella Samsung A13  \n",
       "731                       Flex Power y Volumen Moto G22  \n",
       "1139                  FLEX DE CARGA IPHONE 7 PLUS WHITE  \n",
       "1140                     FLEX DE ENCENDIDO MOTO E6 PLUS  \n",
       "1141                FLEX DE ENCENDIDO Y VOLUMEN SAM A10  \n",
       "1142                         FLEX INTERCONEXION SAM A31  \n",
       "1143                     FLEX INTERCONEXION SAMSUNG A33  \n",
       "1144                      FLEX JACK / MIC  SAMSUNG J400  "
      ],
      "text/html": [
       "<div>\n",
       "<style scoped>\n",
       "    .dataframe tbody tr th:only-of-type {\n",
       "        vertical-align: middle;\n",
       "    }\n",
       "\n",
       "    .dataframe tbody tr th {\n",
       "        vertical-align: top;\n",
       "    }\n",
       "\n",
       "    .dataframe thead th {\n",
       "        text-align: right;\n",
       "    }\n",
       "</style>\n",
       "<table border=\"1\" class=\"dataframe\">\n",
       "  <thead>\n",
       "    <tr style=\"text-align: right;\">\n",
       "      <th></th>\n",
       "      <th>Código</th>\n",
       "      <th>Nombre del Producto</th>\n",
       "      <th>Cantidad</th>\n",
       "      <th>Costo total</th>\n",
       "      <th>Ganancia</th>\n",
       "      <th>Ganancia prom. %</th>\n",
       "      <th>Venta total</th>\n",
       "      <th>Categoria</th>\n",
       "    </tr>\n",
       "  </thead>\n",
       "  <tbody>\n",
       "    <tr>\n",
       "      <th>390</th>\n",
       "      <td>F393</td>\n",
       "      <td>FLEX INTERCONEXION SAM A50 NO. 2</td>\n",
       "      <td>4.0</td>\n",
       "      <td>8.96</td>\n",
       "      <td>19889.170113</td>\n",
       "      <td>2.219980e+05</td>\n",
       "      <td>19900.0</td>\n",
       "      <td>FLEX INTERCONEXION SAM A50 NO. 2</td>\n",
       "    </tr>\n",
       "    <tr>\n",
       "      <th>507</th>\n",
       "      <td>FC03</td>\n",
       "      <td>FLEX DE CARGA IPHONE 6S WHITE</td>\n",
       "      <td>3.0</td>\n",
       "      <td>8.48</td>\n",
       "      <td>16989.744007</td>\n",
       "      <td>2.003720e+05</td>\n",
       "      <td>17000.0</td>\n",
       "      <td>FLEX DE CARGA IPHONE 6S WHITE</td>\n",
       "    </tr>\n",
       "    <tr>\n",
       "      <th>508</th>\n",
       "      <td>FC42</td>\n",
       "      <td>FLEX DE CARGA IPHONE 8 PLUS WHITE/BLACK</td>\n",
       "      <td>3.0</td>\n",
       "      <td>18.84</td>\n",
       "      <td>26979.186644</td>\n",
       "      <td>1.432120e+05</td>\n",
       "      <td>27000.0</td>\n",
       "      <td>FLEX DE CARGA IPHONE 8 PLUS WHITE/BLACK</td>\n",
       "    </tr>\n",
       "    <tr>\n",
       "      <th>509</th>\n",
       "      <td>F404</td>\n",
       "      <td>FLEX INTERCONEXION SAMSUNG A52</td>\n",
       "      <td>3.0</td>\n",
       "      <td>6.72</td>\n",
       "      <td>14891.868800</td>\n",
       "      <td>2.216260e+05</td>\n",
       "      <td>14900.0</td>\n",
       "      <td>FLEX INTERCONEXION SAMSUNG A52</td>\n",
       "    </tr>\n",
       "    <tr>\n",
       "      <th>724</th>\n",
       "      <td>F403</td>\n",
       "      <td>FLEX INTERCONEXION MOTO G9 POWER</td>\n",
       "      <td>2.0</td>\n",
       "      <td>4.48</td>\n",
       "      <td>9994.579200</td>\n",
       "      <td>2.231140e+05</td>\n",
       "      <td>10000.0</td>\n",
       "      <td>FLEX INTERCONEXION MOTO G9 POWER</td>\n",
       "    </tr>\n",
       "    <tr>\n",
       "      <th>725</th>\n",
       "      <td>F401</td>\n",
       "      <td>FLEX INTERCONEXION SAM A22 4G - A225 / A32 - A325</td>\n",
       "      <td>2.0</td>\n",
       "      <td>4.48</td>\n",
       "      <td>9894.579200</td>\n",
       "      <td>2.208820e+05</td>\n",
       "      <td>9900.0</td>\n",
       "      <td>FLEX INTERCONEXION SAM A22 4G - A225 / A32 - A325</td>\n",
       "    </tr>\n",
       "    <tr>\n",
       "      <th>726</th>\n",
       "      <td>F400</td>\n",
       "      <td>FLEX INTERCONEXION SAM A30S</td>\n",
       "      <td>2.0</td>\n",
       "      <td>1.89</td>\n",
       "      <td>6997.707078</td>\n",
       "      <td>3.702700e+05</td>\n",
       "      <td>7000.0</td>\n",
       "      <td>FLEX INTERCONEXION SAM A30S</td>\n",
       "    </tr>\n",
       "    <tr>\n",
       "      <th>729</th>\n",
       "      <td>RB116</td>\n",
       "      <td>Flex Power Huella Samsung A12</td>\n",
       "      <td>2.0</td>\n",
       "      <td>4.86</td>\n",
       "      <td>10994.119400</td>\n",
       "      <td>2.262370e+05</td>\n",
       "      <td>11000.0</td>\n",
       "      <td>Flex Power Huella Samsung A12</td>\n",
       "    </tr>\n",
       "    <tr>\n",
       "      <th>730</th>\n",
       "      <td>RB117</td>\n",
       "      <td>Flex Power Huella Samsung A13</td>\n",
       "      <td>2.0</td>\n",
       "      <td>4.86</td>\n",
       "      <td>10894.119400</td>\n",
       "      <td>2.241800e+05</td>\n",
       "      <td>10900.0</td>\n",
       "      <td>Flex Power Huella Samsung A13</td>\n",
       "    </tr>\n",
       "    <tr>\n",
       "      <th>731</th>\n",
       "      <td>RB123</td>\n",
       "      <td>Flex Power y Volumen Moto G22</td>\n",
       "      <td>2.0</td>\n",
       "      <td>2.88</td>\n",
       "      <td>6396.515200</td>\n",
       "      <td>2.221220e+05</td>\n",
       "      <td>6400.0</td>\n",
       "      <td>Flex Power y Volumen Moto G22</td>\n",
       "    </tr>\n",
       "    <tr>\n",
       "      <th>1139</th>\n",
       "      <td>FC11</td>\n",
       "      <td>FLEX DE CARGA IPHONE 7 PLUS WHITE</td>\n",
       "      <td>1.0</td>\n",
       "      <td>6.28</td>\n",
       "      <td>8993.062215</td>\n",
       "      <td>1.432120e+05</td>\n",
       "      <td>9000.0</td>\n",
       "      <td>FLEX DE CARGA IPHONE 7 PLUS WHITE</td>\n",
       "    </tr>\n",
       "    <tr>\n",
       "      <th>1140</th>\n",
       "      <td>FV165</td>\n",
       "      <td>FLEX DE ENCENDIDO MOTO E6 PLUS</td>\n",
       "      <td>1.0</td>\n",
       "      <td>1.07</td>\n",
       "      <td>2998.708505</td>\n",
       "      <td>2.802740e+05</td>\n",
       "      <td>3000.0</td>\n",
       "      <td>FLEX DE ENCENDIDO MOTO E6 PLUS</td>\n",
       "    </tr>\n",
       "    <tr>\n",
       "      <th>1141</th>\n",
       "      <td>FV164</td>\n",
       "      <td>FLEX DE ENCENDIDO Y VOLUMEN SAM A10</td>\n",
       "      <td>1.0</td>\n",
       "      <td>0.25</td>\n",
       "      <td>1499.696119</td>\n",
       "      <td>5.999000e+05</td>\n",
       "      <td>1500.0</td>\n",
       "      <td>FLEX DE ENCENDIDO Y VOLUMEN SAM A10</td>\n",
       "    </tr>\n",
       "    <tr>\n",
       "      <th>1142</th>\n",
       "      <td>F392</td>\n",
       "      <td>FLEX INTERCONEXION SAM A31</td>\n",
       "      <td>1.0</td>\n",
       "      <td>1.26</td>\n",
       "      <td>14998.480594</td>\n",
       "      <td>1.190380e+11</td>\n",
       "      <td>15000.0</td>\n",
       "      <td>FLEX INTERCONEXION SAM A31</td>\n",
       "    </tr>\n",
       "    <tr>\n",
       "      <th>1143</th>\n",
       "      <td>F405</td>\n",
       "      <td>FLEX INTERCONEXION SAMSUNG A33</td>\n",
       "      <td>1.0</td>\n",
       "      <td>2.24</td>\n",
       "      <td>4997.289600</td>\n",
       "      <td>2.231140e+05</td>\n",
       "      <td>5000.0</td>\n",
       "      <td>FLEX INTERCONEXION SAMSUNG A33</td>\n",
       "    </tr>\n",
       "    <tr>\n",
       "      <th>1144</th>\n",
       "      <td>FV127</td>\n",
       "      <td>FLEX JACK / MIC  SAMSUNG J400</td>\n",
       "      <td>1.0</td>\n",
       "      <td>0.17</td>\n",
       "      <td>1799.792808</td>\n",
       "      <td>1.058720e+11</td>\n",
       "      <td>1800.0</td>\n",
       "      <td>FLEX JACK / MIC  SAMSUNG J400</td>\n",
       "    </tr>\n",
       "  </tbody>\n",
       "</table>\n",
       "</div>"
      ]
     },
     "execution_count": 513,
     "metadata": {},
     "output_type": "execute_result"
    }
   ],
   "execution_count": 513
  },
  {
   "metadata": {
    "ExecuteTime": {
     "end_time": "2024-12-27T16:05:46.144050Z",
     "start_time": "2024-12-27T16:05:46.063903Z"
    }
   },
   "cell_type": "code",
   "source": [
    "#agregar la cadena 'Flex' en la columna categoria en cada fila que tenga estrictamente la cadena 'Flex' en su nombre\n",
    "df['Categoria'] = np.where(df['Nombre del Producto'].str.lower().str.startswith('flex', na=False), 'Flex', df['Categoria'])"
   ],
   "id": "5499d898a3912286",
   "outputs": [],
   "execution_count": 514
  },
  {
   "metadata": {
    "ExecuteTime": {
     "end_time": "2024-12-27T16:05:46.461555Z",
     "start_time": "2024-12-27T16:05:46.424162Z"
    }
   },
   "cell_type": "code",
   "source": [
    "#ver filas con valores  flex en su nombre\n",
    "df[df['Nombre del Producto'].str.contains('flex', case=False)]"
   ],
   "id": "f2f1aa77326fe766",
   "outputs": [
    {
     "data": {
      "text/plain": [
       "        Código                                Nombre del Producto  Cantidad  \\\n",
       "308      H9060                           DOCK FLEX TEST (TIPO C)        5.0   \n",
       "390       F393                   FLEX INTERCONEXION SAM A50 NO. 2       4.0   \n",
       "436     SE5312                   SERVICIO TECNICO REPARACION FLEX       4.0   \n",
       "507       FC03                      FLEX DE CARGA IPHONE 6S WHITE       3.0   \n",
       "508       FC42            FLEX DE CARGA IPHONE 8 PLUS WHITE/BLACK       3.0   \n",
       "509       F404                     FLEX INTERCONEXION SAMSUNG A52       3.0   \n",
       "628   AU127145  AURICULAR JBL WAVE FLEX TRULY WIRELESS NEGRO (...       2.0   \n",
       "706      H9058                             DOCK FLEX TEST (Micro)       2.0   \n",
       "724       F403                   FLEX INTERCONEXION MOTO G9 POWER       2.0   \n",
       "725       F401  FLEX INTERCONEXION SAM A22 4G - A225 / A32 - A325       2.0   \n",
       "726       F400                        FLEX INTERCONEXION SAM A30S       2.0   \n",
       "729      RB116                     Flex Power Huella Samsung A12        2.0   \n",
       "730      RB117                      Flex Power Huella Samsung A13       2.0   \n",
       "731      RB123                      Flex Power y Volumen Moto G22       2.0   \n",
       "861       S932  Soporte Para Celular De Brazo FLEXIBLE Con Pin...       2.0   \n",
       "1110     H9059                           DOCK FLEX TEST (iPhone)        1.0   \n",
       "1139      FC11                  FLEX DE CARGA IPHONE 7 PLUS WHITE       1.0   \n",
       "1140     FV165                     FLEX DE ENCENDIDO MOTO E6 PLUS       1.0   \n",
       "1141     FV164                FLEX DE ENCENDIDO Y VOLUMEN SAM A10       1.0   \n",
       "1142      F392                         FLEX INTERCONEXION SAM A31       1.0   \n",
       "1143      F405                     FLEX INTERCONEXION SAMSUNG A33       1.0   \n",
       "1144     FV127                      FLEX JACK / MIC  SAMSUNG J400       1.0   \n",
       "1222    LU1968  MANGUERA LUCES NEON LED FLEXIBLE 5MTS COLORES ...       1.0   \n",
       "1452    SO9328  Soporte Celular Universal Para Auto c/brazo Fl...       1.0   \n",
       "1507  RC124175      VIDRIO GLASS IPHONE X FLEX CORTO +OCA +TACTIL       1.0   \n",
       "\n",
       "      Costo total       Ganancia  Ganancia prom. %  Venta total  \\\n",
       "308         13.19   24285.423158      1.841300e+05      24300.0   \n",
       "390          8.96   19889.170113      2.219980e+05      19900.0   \n",
       "436          4.56   55994.474886      1.227970e+11      56000.0   \n",
       "507          8.48   16989.744007      2.003720e+05      17000.0   \n",
       "508         18.84   26979.186644      1.432120e+05      27000.0   \n",
       "509          6.72   14891.868800      2.216260e+05      14900.0   \n",
       "628        141.20  229329.148000      1.624350e+05     229500.0   \n",
       "706          3.50    6896.128716      1.970430e+05       6900.0   \n",
       "724          4.48    9994.579200      2.231140e+05      10000.0   \n",
       "725          4.48    9894.579200      2.208820e+05       9900.0   \n",
       "726          1.89    6997.707078      3.702700e+05       7000.0   \n",
       "729          4.86   10994.119400      2.262370e+05      11000.0   \n",
       "730          4.86   10894.119400      2.241800e+05      10900.0   \n",
       "731          2.88    6396.515200      2.221220e+05       6400.0   \n",
       "861          2.75    9996.672500      3.635360e+05      10000.0   \n",
       "1110         1.75    3498.064358      1.999000e+05       3500.0   \n",
       "1139         6.28    8993.062215      1.432120e+05       9000.0   \n",
       "1140         1.07    2998.708505      2.802740e+05       3000.0   \n",
       "1141         0.25    1499.696119      5.999000e+05       1500.0   \n",
       "1142         1.26   14998.480594      1.190380e+11      15000.0   \n",
       "1143         2.24    4997.289600      2.231140e+05       5000.0   \n",
       "1144         0.17    1799.792808      1.058720e+11       1800.0   \n",
       "1222        13.81   23983.286530      1.736870e+05      24000.0   \n",
       "1452         3.47    6495.806438      1.872200e+05       6500.0   \n",
       "1507        12.81   17184.502055      1.341700e+05      17200.0   \n",
       "\n",
       "             Categoria  \n",
       "308        Herramienta  \n",
       "390               Flex  \n",
       "436   Servicio Tecnico  \n",
       "507               Flex  \n",
       "508               Flex  \n",
       "509               Flex  \n",
       "628          Auricular  \n",
       "706        Herramienta  \n",
       "724               Flex  \n",
       "725               Flex  \n",
       "726               Flex  \n",
       "729               Flex  \n",
       "730               Flex  \n",
       "731               Flex  \n",
       "861        Herramienta  \n",
       "1110       Herramienta  \n",
       "1139              Flex  \n",
       "1140              Flex  \n",
       "1141              Flex  \n",
       "1142              Flex  \n",
       "1143              Flex  \n",
       "1144              Flex  \n",
       "1222             Luces  \n",
       "1452           Soporte  \n",
       "1507      Vidrio Glass  "
      ],
      "text/html": [
       "<div>\n",
       "<style scoped>\n",
       "    .dataframe tbody tr th:only-of-type {\n",
       "        vertical-align: middle;\n",
       "    }\n",
       "\n",
       "    .dataframe tbody tr th {\n",
       "        vertical-align: top;\n",
       "    }\n",
       "\n",
       "    .dataframe thead th {\n",
       "        text-align: right;\n",
       "    }\n",
       "</style>\n",
       "<table border=\"1\" class=\"dataframe\">\n",
       "  <thead>\n",
       "    <tr style=\"text-align: right;\">\n",
       "      <th></th>\n",
       "      <th>Código</th>\n",
       "      <th>Nombre del Producto</th>\n",
       "      <th>Cantidad</th>\n",
       "      <th>Costo total</th>\n",
       "      <th>Ganancia</th>\n",
       "      <th>Ganancia prom. %</th>\n",
       "      <th>Venta total</th>\n",
       "      <th>Categoria</th>\n",
       "    </tr>\n",
       "  </thead>\n",
       "  <tbody>\n",
       "    <tr>\n",
       "      <th>308</th>\n",
       "      <td>H9060</td>\n",
       "      <td>DOCK FLEX TEST (TIPO C)</td>\n",
       "      <td>5.0</td>\n",
       "      <td>13.19</td>\n",
       "      <td>24285.423158</td>\n",
       "      <td>1.841300e+05</td>\n",
       "      <td>24300.0</td>\n",
       "      <td>Herramienta</td>\n",
       "    </tr>\n",
       "    <tr>\n",
       "      <th>390</th>\n",
       "      <td>F393</td>\n",
       "      <td>FLEX INTERCONEXION SAM A50 NO. 2</td>\n",
       "      <td>4.0</td>\n",
       "      <td>8.96</td>\n",
       "      <td>19889.170113</td>\n",
       "      <td>2.219980e+05</td>\n",
       "      <td>19900.0</td>\n",
       "      <td>Flex</td>\n",
       "    </tr>\n",
       "    <tr>\n",
       "      <th>436</th>\n",
       "      <td>SE5312</td>\n",
       "      <td>SERVICIO TECNICO REPARACION FLEX</td>\n",
       "      <td>4.0</td>\n",
       "      <td>4.56</td>\n",
       "      <td>55994.474886</td>\n",
       "      <td>1.227970e+11</td>\n",
       "      <td>56000.0</td>\n",
       "      <td>Servicio Tecnico</td>\n",
       "    </tr>\n",
       "    <tr>\n",
       "      <th>507</th>\n",
       "      <td>FC03</td>\n",
       "      <td>FLEX DE CARGA IPHONE 6S WHITE</td>\n",
       "      <td>3.0</td>\n",
       "      <td>8.48</td>\n",
       "      <td>16989.744007</td>\n",
       "      <td>2.003720e+05</td>\n",
       "      <td>17000.0</td>\n",
       "      <td>Flex</td>\n",
       "    </tr>\n",
       "    <tr>\n",
       "      <th>508</th>\n",
       "      <td>FC42</td>\n",
       "      <td>FLEX DE CARGA IPHONE 8 PLUS WHITE/BLACK</td>\n",
       "      <td>3.0</td>\n",
       "      <td>18.84</td>\n",
       "      <td>26979.186644</td>\n",
       "      <td>1.432120e+05</td>\n",
       "      <td>27000.0</td>\n",
       "      <td>Flex</td>\n",
       "    </tr>\n",
       "    <tr>\n",
       "      <th>509</th>\n",
       "      <td>F404</td>\n",
       "      <td>FLEX INTERCONEXION SAMSUNG A52</td>\n",
       "      <td>3.0</td>\n",
       "      <td>6.72</td>\n",
       "      <td>14891.868800</td>\n",
       "      <td>2.216260e+05</td>\n",
       "      <td>14900.0</td>\n",
       "      <td>Flex</td>\n",
       "    </tr>\n",
       "    <tr>\n",
       "      <th>628</th>\n",
       "      <td>AU127145</td>\n",
       "      <td>AURICULAR JBL WAVE FLEX TRULY WIRELESS NEGRO (...</td>\n",
       "      <td>2.0</td>\n",
       "      <td>141.20</td>\n",
       "      <td>229329.148000</td>\n",
       "      <td>1.624350e+05</td>\n",
       "      <td>229500.0</td>\n",
       "      <td>Auricular</td>\n",
       "    </tr>\n",
       "    <tr>\n",
       "      <th>706</th>\n",
       "      <td>H9058</td>\n",
       "      <td>DOCK FLEX TEST (Micro)</td>\n",
       "      <td>2.0</td>\n",
       "      <td>3.50</td>\n",
       "      <td>6896.128716</td>\n",
       "      <td>1.970430e+05</td>\n",
       "      <td>6900.0</td>\n",
       "      <td>Herramienta</td>\n",
       "    </tr>\n",
       "    <tr>\n",
       "      <th>724</th>\n",
       "      <td>F403</td>\n",
       "      <td>FLEX INTERCONEXION MOTO G9 POWER</td>\n",
       "      <td>2.0</td>\n",
       "      <td>4.48</td>\n",
       "      <td>9994.579200</td>\n",
       "      <td>2.231140e+05</td>\n",
       "      <td>10000.0</td>\n",
       "      <td>Flex</td>\n",
       "    </tr>\n",
       "    <tr>\n",
       "      <th>725</th>\n",
       "      <td>F401</td>\n",
       "      <td>FLEX INTERCONEXION SAM A22 4G - A225 / A32 - A325</td>\n",
       "      <td>2.0</td>\n",
       "      <td>4.48</td>\n",
       "      <td>9894.579200</td>\n",
       "      <td>2.208820e+05</td>\n",
       "      <td>9900.0</td>\n",
       "      <td>Flex</td>\n",
       "    </tr>\n",
       "    <tr>\n",
       "      <th>726</th>\n",
       "      <td>F400</td>\n",
       "      <td>FLEX INTERCONEXION SAM A30S</td>\n",
       "      <td>2.0</td>\n",
       "      <td>1.89</td>\n",
       "      <td>6997.707078</td>\n",
       "      <td>3.702700e+05</td>\n",
       "      <td>7000.0</td>\n",
       "      <td>Flex</td>\n",
       "    </tr>\n",
       "    <tr>\n",
       "      <th>729</th>\n",
       "      <td>RB116</td>\n",
       "      <td>Flex Power Huella Samsung A12</td>\n",
       "      <td>2.0</td>\n",
       "      <td>4.86</td>\n",
       "      <td>10994.119400</td>\n",
       "      <td>2.262370e+05</td>\n",
       "      <td>11000.0</td>\n",
       "      <td>Flex</td>\n",
       "    </tr>\n",
       "    <tr>\n",
       "      <th>730</th>\n",
       "      <td>RB117</td>\n",
       "      <td>Flex Power Huella Samsung A13</td>\n",
       "      <td>2.0</td>\n",
       "      <td>4.86</td>\n",
       "      <td>10894.119400</td>\n",
       "      <td>2.241800e+05</td>\n",
       "      <td>10900.0</td>\n",
       "      <td>Flex</td>\n",
       "    </tr>\n",
       "    <tr>\n",
       "      <th>731</th>\n",
       "      <td>RB123</td>\n",
       "      <td>Flex Power y Volumen Moto G22</td>\n",
       "      <td>2.0</td>\n",
       "      <td>2.88</td>\n",
       "      <td>6396.515200</td>\n",
       "      <td>2.221220e+05</td>\n",
       "      <td>6400.0</td>\n",
       "      <td>Flex</td>\n",
       "    </tr>\n",
       "    <tr>\n",
       "      <th>861</th>\n",
       "      <td>S932</td>\n",
       "      <td>Soporte Para Celular De Brazo FLEXIBLE Con Pin...</td>\n",
       "      <td>2.0</td>\n",
       "      <td>2.75</td>\n",
       "      <td>9996.672500</td>\n",
       "      <td>3.635360e+05</td>\n",
       "      <td>10000.0</td>\n",
       "      <td>Herramienta</td>\n",
       "    </tr>\n",
       "    <tr>\n",
       "      <th>1110</th>\n",
       "      <td>H9059</td>\n",
       "      <td>DOCK FLEX TEST (iPhone)</td>\n",
       "      <td>1.0</td>\n",
       "      <td>1.75</td>\n",
       "      <td>3498.064358</td>\n",
       "      <td>1.999000e+05</td>\n",
       "      <td>3500.0</td>\n",
       "      <td>Herramienta</td>\n",
       "    </tr>\n",
       "    <tr>\n",
       "      <th>1139</th>\n",
       "      <td>FC11</td>\n",
       "      <td>FLEX DE CARGA IPHONE 7 PLUS WHITE</td>\n",
       "      <td>1.0</td>\n",
       "      <td>6.28</td>\n",
       "      <td>8993.062215</td>\n",
       "      <td>1.432120e+05</td>\n",
       "      <td>9000.0</td>\n",
       "      <td>Flex</td>\n",
       "    </tr>\n",
       "    <tr>\n",
       "      <th>1140</th>\n",
       "      <td>FV165</td>\n",
       "      <td>FLEX DE ENCENDIDO MOTO E6 PLUS</td>\n",
       "      <td>1.0</td>\n",
       "      <td>1.07</td>\n",
       "      <td>2998.708505</td>\n",
       "      <td>2.802740e+05</td>\n",
       "      <td>3000.0</td>\n",
       "      <td>Flex</td>\n",
       "    </tr>\n",
       "    <tr>\n",
       "      <th>1141</th>\n",
       "      <td>FV164</td>\n",
       "      <td>FLEX DE ENCENDIDO Y VOLUMEN SAM A10</td>\n",
       "      <td>1.0</td>\n",
       "      <td>0.25</td>\n",
       "      <td>1499.696119</td>\n",
       "      <td>5.999000e+05</td>\n",
       "      <td>1500.0</td>\n",
       "      <td>Flex</td>\n",
       "    </tr>\n",
       "    <tr>\n",
       "      <th>1142</th>\n",
       "      <td>F392</td>\n",
       "      <td>FLEX INTERCONEXION SAM A31</td>\n",
       "      <td>1.0</td>\n",
       "      <td>1.26</td>\n",
       "      <td>14998.480594</td>\n",
       "      <td>1.190380e+11</td>\n",
       "      <td>15000.0</td>\n",
       "      <td>Flex</td>\n",
       "    </tr>\n",
       "    <tr>\n",
       "      <th>1143</th>\n",
       "      <td>F405</td>\n",
       "      <td>FLEX INTERCONEXION SAMSUNG A33</td>\n",
       "      <td>1.0</td>\n",
       "      <td>2.24</td>\n",
       "      <td>4997.289600</td>\n",
       "      <td>2.231140e+05</td>\n",
       "      <td>5000.0</td>\n",
       "      <td>Flex</td>\n",
       "    </tr>\n",
       "    <tr>\n",
       "      <th>1144</th>\n",
       "      <td>FV127</td>\n",
       "      <td>FLEX JACK / MIC  SAMSUNG J400</td>\n",
       "      <td>1.0</td>\n",
       "      <td>0.17</td>\n",
       "      <td>1799.792808</td>\n",
       "      <td>1.058720e+11</td>\n",
       "      <td>1800.0</td>\n",
       "      <td>Flex</td>\n",
       "    </tr>\n",
       "    <tr>\n",
       "      <th>1222</th>\n",
       "      <td>LU1968</td>\n",
       "      <td>MANGUERA LUCES NEON LED FLEXIBLE 5MTS COLORES ...</td>\n",
       "      <td>1.0</td>\n",
       "      <td>13.81</td>\n",
       "      <td>23983.286530</td>\n",
       "      <td>1.736870e+05</td>\n",
       "      <td>24000.0</td>\n",
       "      <td>Luces</td>\n",
       "    </tr>\n",
       "    <tr>\n",
       "      <th>1452</th>\n",
       "      <td>SO9328</td>\n",
       "      <td>Soporte Celular Universal Para Auto c/brazo Fl...</td>\n",
       "      <td>1.0</td>\n",
       "      <td>3.47</td>\n",
       "      <td>6495.806438</td>\n",
       "      <td>1.872200e+05</td>\n",
       "      <td>6500.0</td>\n",
       "      <td>Soporte</td>\n",
       "    </tr>\n",
       "    <tr>\n",
       "      <th>1507</th>\n",
       "      <td>RC124175</td>\n",
       "      <td>VIDRIO GLASS IPHONE X FLEX CORTO +OCA +TACTIL</td>\n",
       "      <td>1.0</td>\n",
       "      <td>12.81</td>\n",
       "      <td>17184.502055</td>\n",
       "      <td>1.341700e+05</td>\n",
       "      <td>17200.0</td>\n",
       "      <td>Vidrio Glass</td>\n",
       "    </tr>\n",
       "  </tbody>\n",
       "</table>\n",
       "</div>"
      ]
     },
     "execution_count": 515,
     "metadata": {},
     "output_type": "execute_result"
    }
   ],
   "execution_count": 515
  },
  {
   "metadata": {
    "ExecuteTime": {
     "end_time": "2024-12-27T16:05:46.680082Z",
     "start_time": "2024-12-27T16:05:46.661368Z"
    }
   },
   "cell_type": "code",
   "source": [
    "#ver filas que tengan estrictamente la cadena fpc en su nombre\n",
    "df[df['Nombre del Producto'].str.lower().str.startswith('fpc', na=False)]"
   ],
   "id": "65a5654010e939e4",
   "outputs": [
    {
     "data": {
      "text/plain": [
       "     Código                                Nombre del Producto  Cantidad  \\\n",
       "208    F399  Fpc Compatible Con Samsung A02 / A12 / A22 / A...       7.0   \n",
       "311    F407          Fpc Compatible Con Samsung A04 / 40 Pines       5.0   \n",
       "312    F398  Fpc Para Samsung A30s / A31 / A51 / A70 / A71 ...       5.0   \n",
       "1152   F406  Fpc 50 Pines Compatible Con Moto e6i / e6s / e...       1.0   \n",
       "\n",
       "      Costo total    Ganancia  Ganancia prom. %  Venta total  \\\n",
       "208         14.00  31483.0600          224900.0      31500.0   \n",
       "311          5.85  19392.9215          331524.0      19400.0   \n",
       "312         10.00  21487.9000          214900.0      21500.0   \n",
       "1152         1.17   3998.5843          341780.0       4000.0   \n",
       "\n",
       "                                              Categoria  \n",
       "208   Fpc Compatible Con Samsung A02 / A12 / A22 / A...  \n",
       "311           Fpc Compatible Con Samsung A04 / 40 Pines  \n",
       "312   Fpc Para Samsung A30s / A31 / A51 / A70 / A71 ...  \n",
       "1152  Fpc 50 Pines Compatible Con Moto e6i / e6s / e...  "
      ],
      "text/html": [
       "<div>\n",
       "<style scoped>\n",
       "    .dataframe tbody tr th:only-of-type {\n",
       "        vertical-align: middle;\n",
       "    }\n",
       "\n",
       "    .dataframe tbody tr th {\n",
       "        vertical-align: top;\n",
       "    }\n",
       "\n",
       "    .dataframe thead th {\n",
       "        text-align: right;\n",
       "    }\n",
       "</style>\n",
       "<table border=\"1\" class=\"dataframe\">\n",
       "  <thead>\n",
       "    <tr style=\"text-align: right;\">\n",
       "      <th></th>\n",
       "      <th>Código</th>\n",
       "      <th>Nombre del Producto</th>\n",
       "      <th>Cantidad</th>\n",
       "      <th>Costo total</th>\n",
       "      <th>Ganancia</th>\n",
       "      <th>Ganancia prom. %</th>\n",
       "      <th>Venta total</th>\n",
       "      <th>Categoria</th>\n",
       "    </tr>\n",
       "  </thead>\n",
       "  <tbody>\n",
       "    <tr>\n",
       "      <th>208</th>\n",
       "      <td>F399</td>\n",
       "      <td>Fpc Compatible Con Samsung A02 / A12 / A22 / A...</td>\n",
       "      <td>7.0</td>\n",
       "      <td>14.00</td>\n",
       "      <td>31483.0600</td>\n",
       "      <td>224900.0</td>\n",
       "      <td>31500.0</td>\n",
       "      <td>Fpc Compatible Con Samsung A02 / A12 / A22 / A...</td>\n",
       "    </tr>\n",
       "    <tr>\n",
       "      <th>311</th>\n",
       "      <td>F407</td>\n",
       "      <td>Fpc Compatible Con Samsung A04 / 40 Pines</td>\n",
       "      <td>5.0</td>\n",
       "      <td>5.85</td>\n",
       "      <td>19392.9215</td>\n",
       "      <td>331524.0</td>\n",
       "      <td>19400.0</td>\n",
       "      <td>Fpc Compatible Con Samsung A04 / 40 Pines</td>\n",
       "    </tr>\n",
       "    <tr>\n",
       "      <th>312</th>\n",
       "      <td>F398</td>\n",
       "      <td>Fpc Para Samsung A30s / A31 / A51 / A70 / A71 ...</td>\n",
       "      <td>5.0</td>\n",
       "      <td>10.00</td>\n",
       "      <td>21487.9000</td>\n",
       "      <td>214900.0</td>\n",
       "      <td>21500.0</td>\n",
       "      <td>Fpc Para Samsung A30s / A31 / A51 / A70 / A71 ...</td>\n",
       "    </tr>\n",
       "    <tr>\n",
       "      <th>1152</th>\n",
       "      <td>F406</td>\n",
       "      <td>Fpc 50 Pines Compatible Con Moto e6i / e6s / e...</td>\n",
       "      <td>1.0</td>\n",
       "      <td>1.17</td>\n",
       "      <td>3998.5843</td>\n",
       "      <td>341780.0</td>\n",
       "      <td>4000.0</td>\n",
       "      <td>Fpc 50 Pines Compatible Con Moto e6i / e6s / e...</td>\n",
       "    </tr>\n",
       "  </tbody>\n",
       "</table>\n",
       "</div>"
      ]
     },
     "execution_count": 516,
     "metadata": {},
     "output_type": "execute_result"
    }
   ],
   "execution_count": 516
  },
  {
   "metadata": {
    "ExecuteTime": {
     "end_time": "2024-12-27T16:05:46.914410Z",
     "start_time": "2024-12-27T16:05:46.901696Z"
    }
   },
   "cell_type": "code",
   "source": [
    "#agregar la cadena 'Flex' en la columna categoria en cada fila que tenga estrictamente la cadena 'FPC' en su nombre\n",
    "df['Categoria'] = np.where(df['Nombre del Producto'].str.lower().str.startswith('fpc', na=False), 'Flex', df['Categoria'])"
   ],
   "id": "984e08c3ca51c3d7",
   "outputs": [],
   "execution_count": 517
  },
  {
   "metadata": {
    "ExecuteTime": {
     "end_time": "2024-12-27T20:43:28.406430Z",
     "start_time": "2024-12-27T20:43:27.688917Z"
    }
   },
   "cell_type": "code",
   "source": [
    "#guardar como excel\n",
    "df.to_excel('Reporte de ventas por articulos MOD.xlsx', index=False)"
   ],
   "id": "6240aead69c9d466",
   "outputs": [],
   "execution_count": 519
  },
  {
   "metadata": {},
   "cell_type": "code",
   "outputs": [],
   "execution_count": null,
   "source": "",
   "id": "efc5a8a6989fee2"
  }
 ],
 "metadata": {
  "kernelspec": {
   "display_name": "Python 3",
   "language": "python",
   "name": "python3"
  },
  "language_info": {
   "codemirror_mode": {
    "name": "ipython",
    "version": 2
   },
   "file_extension": ".py",
   "mimetype": "text/x-python",
   "name": "python",
   "nbconvert_exporter": "python",
   "pygments_lexer": "ipython2",
   "version": "2.7.6"
  }
 },
 "nbformat": 4,
 "nbformat_minor": 5
}
